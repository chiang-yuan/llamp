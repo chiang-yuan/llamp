{
 "cells": [
  {
   "cell_type": "code",
   "execution_count": 9,
   "metadata": {},
   "outputs": [],
   "source": [
    "import sys\n",
    "sys.path.append('../api/src')\n"
   ]
  },
  {
   "cell_type": "code",
   "execution_count": 15,
   "metadata": {},
   "outputs": [],
   "source": [
    "import os\n",
    "\n",
    "from dotenv import load_dotenv\n",
    "from langchain import hub\n",
    "from langchain.agents import AgentExecutor, AgentType, initialize_agent, load_tools\n",
    "from langchain.agents.format_scratchpad import format_log_to_str\n",
    "from langchain.agents.output_parsers import (\n",
    "    JSONAgentOutputParser,\n",
    "    ReActSingleInputOutputParser,\n",
    ")\n",
    "from langchain.chains.conversation.memory import ConversationBufferWindowMemory\n",
    "from langchain.chat_models import ChatOpenAI\n",
    "from langchain.llms import OpenAI\n",
    "from langchain.tools import ArxivQueryRun, WikipediaQueryRun, tool\n",
    "from langchain.tools.render import render_text_description_and_args, format_tool_to_openai_function\n",
    "from langchain.utilities import ArxivAPIWrapper, WikipediaAPIWrapper\n",
    "from langchain.prompts import MessagesPlaceholder\n",
    "from langchain.schema import ChatMessage, SystemMessage\n",
    "\n",
    "from llamp.mp.agents import (\n",
    "    MPSummaryExpert,\n",
    "    MPThermoExpert,\n",
    "    MPElasticityExpert,\n",
    "    MPDielectricExpert,\n",
    "    MPPiezoelectricExpert,\n",
    "    MPMagnetismExpert,\n",
    "    MPElectronicExpert,\n",
    ")\n",
    "\n",
    "load_dotenv()\n",
    "\n",
    "OPENAI_API_KEY = os.getenv(\"OPENAI_API_KEY\", None)\n",
    "\n",
    "OPENAI_GPT_MODEL = \"gpt-4-1106-preview\""
   ]
  },
  {
   "cell_type": "code",
   "execution_count": 18,
   "metadata": {},
   "outputs": [
    {
     "name": "stderr",
     "output_type": "stream",
     "text": [
      "/Users/oliver/code/llamp/venv/lib/python3.11/site-packages/mp_api/client/mprester.py:230: UserWarning: mpcontribs-client not installed. Install the package to query MPContribs data, or construct pourbaix diagrams: 'pip install mpcontribs-client'\n",
      "  warnings.warn(\n"
     ]
    }
   ],
   "source": [
    "import re\n",
    "from langchain.callbacks.streaming_stdout import StreamingStdOutCallbackHandler\n",
    "\n",
    "mp_llm = ChatOpenAI(\n",
    "    temperature=0,\n",
    "    model=OPENAI_GPT_MODEL,\n",
    "    openai_api_key=OPENAI_API_KEY,\n",
    "    openai_organization=None,\n",
    "    max_retries=5,\n",
    "    streaming=True,\n",
    "\tcallbacks=[StreamingStdOutCallbackHandler()],\n",
    ")\n",
    "\n",
    "llm = ChatOpenAI(\n",
    "    temperature=0,\n",
    "    model=OPENAI_GPT_MODEL,\n",
    "    openai_api_key=OPENAI_API_KEY,\n",
    "    openai_organization=None,\n",
    "    streaming=True,\n",
    "\tcallbacks=[StreamingStdOutCallbackHandler()],\n",
    ")\n",
    "\n",
    "wikipedia = WikipediaQueryRun(api_wrapper=WikipediaAPIWrapper())\n",
    "arxiv = ArxivQueryRun(api_wrapper=ArxivAPIWrapper())\n",
    "\n",
    "tools = [\n",
    "    MPThermoExpert(llm=mp_llm).as_tool(agent_kwargs=dict(return_intermediate_steps=False)),\n",
    "    MPElasticityExpert(llm=mp_llm).as_tool(agent_kwargs=dict(return_intermediate_steps=False)),\n",
    "    MPDielectricExpert(llm=mp_llm).as_tool(agent_kwargs=dict(return_intermediate_steps=False)),\n",
    "    MPMagnetismExpert(llm=mp_llm).as_tool(agent_kwargs=dict(return_intermediate_steps=False)),\n",
    "    MPElectronicExpert(llm=mp_llm).as_tool(agent_kwargs=dict(return_intermediate_steps=False)),\n",
    "    MPSummaryExpert(llm=mp_llm).as_tool(agent_kwargs=dict(return_intermediate_steps=False)),\n",
    "    # arxiv,\n",
    "    # wikipedia,\n",
    "]\n",
    "\n",
    "prompt = hub.pull(\"hwchase17/react-multi-input-json\")\n",
    "prompt.messages[0].prompt.template = re.sub(\n",
    "    r\"\\s+\", \" \",\n",
    "    \"\"\"You are a data-aware agent that can consult materials-related\n",
    "    data through Materials Project (MP) database, arXiv, and Wikipedia. Ask \n",
    "    user to clarify their queries if needed. Please note that you don't have \n",
    "    direct control over MP but through multiple assistant agents to help you. \n",
    "    You need to provide complete context in the input for them to do their job.\n",
    "    \"\"\").replace(\"\\n\", \" \") + prompt.messages[0].prompt.template\n",
    "\n",
    "prompt = prompt.partial(\n",
    "    tools=render_text_description_and_args(tools),\n",
    "    tool_names=\", \".join([t.name for t in tools]),\n",
    ")\n",
    "\n",
    "agent = (\n",
    "    {\n",
    "        \"input\": lambda x: x[\"input\"],\n",
    "        \"agent_scratchpad\": lambda x: format_log_to_str(x[\"intermediate_steps\"]),\n",
    "    }\n",
    "    | prompt\n",
    "    | llm.bind(stop=[\"Observation\"])\n",
    "    # | map_reduce_chain  # TODO: Add map-reduce after LLM\n",
    "    | JSONAgentOutputParser()\n",
    ")\n",
    "\n",
    "\n",
    "conversational_memory = ConversationBufferWindowMemory(\n",
    "    memory_key='chat_history',\n",
    "    k=5,\n",
    "    return_messages=True\n",
    ")\n",
    "\n",
    "agent_kwargs = {\n",
    "    \"handle_parsing_errors\": True,\n",
    "    \"extra_prompt_messages\": [\n",
    "        MessagesPlaceholder(variable_name=\"chat_history\"),\n",
    "        ],\n",
    "}\n",
    "\n",
    "agent_executor = initialize_agent(\n",
    "    agent=AgentType.STRUCTURED_CHAT_ZERO_SHOT_REACT_DESCRIPTION,\n",
    "    tools=tools,\n",
    "    llm=llm,\n",
    "    verbose=True,\n",
    "    max_iterations=10,\n",
    "    memory=conversational_memory,\n",
    "    agent_kwargs=agent_kwargs,\n",
    "    handle_parsing_errors=True,\n",
    ")"
   ]
  },
  {
   "cell_type": "code",
   "execution_count": 19,
   "metadata": {},
   "outputs": [
    {
     "name": "stdout",
     "output_type": "stream",
     "text": [
      "\n",
      "\n",
      "\u001b[1m> Entering new AgentExecutor chain...\u001b[0m\n",
      "Action:\n",
      "```json\n",
      "{\n",
      "  \"action\": \"MPElectronicExpert\",\n",
      "  \"action_input\": {\n",
      "    \"input\": \"What's the bandgap of CsPbI3?\"\n",
      "  }\n",
      "}\n",
      "```\u001b[32;1m\u001b[1;3mAction:\n",
      "```json\n",
      "{\n",
      "  \"action\": \"MPElectronicExpert\",\n",
      "  \"action_input\": {\n",
      "    \"input\": \"What's the bandgap of CsPbI3?\"\n",
      "  }\n",
      "}\n",
      "```\u001b[0m\n",
      "\n",
      "\u001b[1m> Entering new AgentExecutor chain...\u001b[0m\n"
     ]
    },
    {
     "name": "stderr",
     "output_type": "stream",
     "text": [
      "/Users/oliver/code/llamp/venv/lib/python3.11/site-packages/mp_api/client/mprester.py:230: UserWarning: mpcontribs-client not installed. Install the package to query MPContribs data, or construct pourbaix diagrams: 'pip install mpcontribs-client'\n",
      "  warnings.warn(\n",
      "/Users/oliver/code/llamp/venv/lib/python3.11/site-packages/mp_api/client/mprester.py:230: UserWarning: mpcontribs-client not installed. Install the package to query MPContribs data, or construct pourbaix diagrams: 'pip install mpcontribs-client'\n",
      "  warnings.warn(\n"
     ]
    },
    {
     "name": "stdout",
     "output_type": "stream",
     "text": [
      "Action:\n",
      "```\n",
      "{\n",
      "  \"action\": \"search_materials_electronic_structure__get\",\n",
      "  \"action_input\": {\n",
      "    \"formula\": \"CsPbI3\"\n",
      "  }\n",
      "}\n",
      "```\u001b[32;1m\u001b[1;3mAction:\n",
      "```\n",
      "{\n",
      "  \"action\": \"search_materials_electronic_structure__get\",\n",
      "  \"action_input\": {\n",
      "    \"formula\": \"CsPbI3\"\n",
      "  }\n",
      "}\n",
      "```\u001b[0m{\"formula\": \"CsPbI3\"}\n"
     ]
    },
    {
     "name": "stderr",
     "output_type": "stream",
     "text": [
      "Retrieving ElectronicStructureDoc documents: 100%|██████████| 3/3 [00:00<00:00, 50131.12it/s]\n"
     ]
    },
    {
     "name": "stdout",
     "output_type": "stream",
     "text": [
      "\u001b[36;1m\u001b[1;3m[{'material_id': 'mp-1120768', 'last_updated': '2023-08-12T09:16:31.142000'}, {'material_id': 'mp-1069538', 'last_updated': '2023-08-13T07:19:55.398000'}, {'material_id': 'mp-540839', 'last_updated': '2023-08-13T15:45:51.364000'}]\u001b[0mAction:\n",
      "```\n",
      "{\n",
      "  \"action\": \"search_materials_electronic_structure__get\",\n",
      "  \"action_input\": {\n",
      "    \"formula\": \"CsPbI3\",\n",
      "    \"fields\": \"material_id,formula_pretty,band_gap\"\n",
      "  }\n",
      "}\n",
      "```\u001b[32;1m\u001b[1;3mAction:\n",
      "```\n",
      "{\n",
      "  \"action\": \"search_materials_electronic_structure__get\",\n",
      "  \"action_input\": {\n",
      "    \"formula\": \"CsPbI3\",\n",
      "    \"fields\": \"material_id,formula_pretty,band_gap\"\n",
      "  }\n",
      "}\n",
      "```\u001b[0m{\"formula\": \"CsPbI3\", \"fields\": \"material_id,formula_pretty,band_gap\"}\n"
     ]
    },
    {
     "name": "stderr",
     "output_type": "stream",
     "text": [
      "Retrieving ElectronicStructureDoc documents: 100%|██████████| 3/3 [00:00<00:00, 30030.82it/s]\n"
     ]
    },
    {
     "name": "stdout",
     "output_type": "stream",
     "text": [
      "\u001b[36;1m\u001b[1;3m[{'band_gap': 1.6421000000000001, 'formula_pretty': 'CsPbI3', 'material_id': 'mp-1120768'}, {'band_gap': 1.4785000000000001, 'formula_pretty': 'CsPbI3', 'material_id': 'mp-1069538'}, {'band_gap': 2.5181, 'formula_pretty': 'CsPbI3', 'material_id': 'mp-540839'}]\u001b[0mAction:\n",
      "```\n",
      "{\n",
      "  \"action\": \"Final Answer\",\n",
      "  \"action_input\": \"The band gaps for CsPbI3 are as follows: 1.6421 eV for material mp-1120768, 1.4785 eV for material mp-1069538, and 2.5181 eV for material mp-540839.\"\n",
      "}\n",
      "```\u001b[32;1m\u001b[1;3mAction:\n",
      "```\n",
      "{\n",
      "  \"action\": \"Final Answer\",\n",
      "  \"action_input\": \"The band gaps for CsPbI3 are as follows: 1.6421 eV for material mp-1120768, 1.4785 eV for material mp-1069538, and 2.5181 eV for material mp-540839.\"\n",
      "}\n",
      "```\u001b[0m\n",
      "\n",
      "\u001b[1m> Finished chain.\u001b[0m\n",
      "\n",
      "Observation: \u001b[33;1m\u001b[1;3m{'input': \"What's the bandgap of CsPbI3?\", 'output': 'The band gaps for CsPbI3 are as follows: 1.6421 eV for material mp-1120768, 1.4785 eV for material mp-1069538, and 2.5181 eV for material mp-540839.'}\u001b[0m\n",
      "Thought:Action:\n",
      "```json\n",
      "{\n",
      "  \"action\": \"Final Answer\",\n",
      "  \"action_input\": \"The band gaps for CsPbI3 are as follows: 1.6421 eV for material mp-1120768, 1.4785 eV for material mp-1069538, and 2.5181 eV for material mp-540839.\"\n",
      "}\n",
      "```\u001b[32;1m\u001b[1;3mAction:\n",
      "```json\n",
      "{\n",
      "  \"action\": \"Final Answer\",\n",
      "  \"action_input\": \"The band gaps for CsPbI3 are as follows: 1.6421 eV for material mp-1120768, 1.4785 eV for material mp-1069538, and 2.5181 eV for material mp-540839.\"\n",
      "}\n",
      "```\u001b[0m\n",
      "\n",
      "\u001b[1m> Finished chain.\u001b[0m\n"
     ]
    },
    {
     "data": {
      "text/plain": [
       "{'input': \"What's the bandgap of CsPbI3?\",\n",
       " 'chat_history': [],\n",
       " 'output': 'The band gaps for CsPbI3 are as follows: 1.6421 eV for material mp-1120768, 1.4785 eV for material mp-1069538, and 2.5181 eV for material mp-540839.'}"
      ]
     },
     "execution_count": 19,
     "metadata": {},
     "output_type": "execute_result"
    }
   ],
   "source": [
    "agent_executor.invoke({\n",
    "    \"input\": \"What's the bandgap of CsPbI3?\"\n",
    "})"
   ]
  }
 ],
 "metadata": {
  "kernelspec": {
   "display_name": "llamp",
   "language": "python",
   "name": "python3"
  },
  "language_info": {
   "codemirror_mode": {
    "name": "ipython",
    "version": 3
   },
   "file_extension": ".py",
   "mimetype": "text/x-python",
   "name": "python",
   "nbconvert_exporter": "python",
   "pygments_lexer": "ipython3",
   "version": "3.11.4"
  }
 },
 "nbformat": 4,
 "nbformat_minor": 2
}
