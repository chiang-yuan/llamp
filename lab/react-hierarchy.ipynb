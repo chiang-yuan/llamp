{
 "cells": [
  {
   "cell_type": "code",
   "execution_count": 1,
   "metadata": {},
   "outputs": [],
   "source": [
    "import os\n",
    "\n",
    "from dotenv import load_dotenv\n",
    "from langchain import hub\n",
    "from langchain.agents import AgentExecutor, AgentType, initialize_agent, load_tools\n",
    "from langchain.agents.format_scratchpad import format_log_to_str\n",
    "from langchain.agents.output_parsers import (\n",
    "    JSONAgentOutputParser,\n",
    "    ReActSingleInputOutputParser,\n",
    ")\n",
    "from langchain.chains.conversation.memory import ConversationBufferWindowMemory\n",
    "from langchain.chat_models import ChatOpenAI\n",
    "from langchain.llms import OpenAI\n",
    "from langchain.tools import ArxivQueryRun, WikipediaQueryRun, tool\n",
    "from langchain.tools.render import render_text_description_and_args, format_tool_to_openai_function\n",
    "from langchain.utilities import ArxivAPIWrapper, WikipediaAPIWrapper\n",
    "from langchain.prompts import MessagesPlaceholder\n",
    "from langchain.schema import ChatMessage, SystemMessage\n",
    "\n",
    "from llamp.mp.agents import (\n",
    "    MPSummaryExpert,\n",
    "    MPThermoExpert,\n",
    "    MPElasticityExpert,\n",
    "    MPDielectricExpert,\n",
    "    MPPiezoelectricExpert,\n",
    "    MPMagnetismExpert,\n",
    "    MPElectronicExpert,\n",
    "    MPSynthesisExpert,\n",
    "    MPStructureRetriever\n",
    ")\n",
    "from llamp.arxiv.agents import ArxivAgent\n",
    "\n",
    "load_dotenv()\n",
    "\n",
    "OPENAI_API_KEY = os.getenv(\"OPENAI_API_KEY\", None)\n",
    "\n",
    "# OPENAI_GPT_MODEL = \"gpt-4-1106-preview\"\n",
    "# OPENAI_GPT_MODEL = \"gpt-3.5-turbo-1106\"\n",
    "OPENAI_GPT_MODEL = \"gpt-4\""
   ]
  },
  {
   "cell_type": "code",
   "execution_count": 2,
   "metadata": {},
   "outputs": [
    {
     "name": "stderr",
     "output_type": "stream",
     "text": [
      "/home/cyrus/miniconda3/envs/llamp/lib/python3.11/site-packages/langchain_core/_api/deprecation.py:117: LangChainDeprecationWarning: The class `langchain_community.chat_models.openai.ChatOpenAI` was deprecated in langchain-community 0.0.10 and will be removed in 0.2.0. An updated version of the class exists in the langchain-openai package and should be used instead. To use it run `pip install -U langchain-openai` and import as `from langchain_openai import ChatOpenAI`.\n",
      "  warn_deprecated(\n",
      "/home/cyrus/miniconda3/envs/llamp/lib/python3.11/site-packages/mp_api/client/mprester.py:230: UserWarning: mpcontribs-client not installed. Install the package to query MPContribs data, or construct pourbaix diagrams: 'pip install mpcontribs-client'\n",
      "  warnings.warn(\n",
      "/home/cyrus/miniconda3/envs/llamp/lib/python3.11/site-packages/langchain_core/_api/deprecation.py:117: LangChainDeprecationWarning: The function `initialize_agent` was deprecated in LangChain 0.1.0 and will be removed in 0.2.0. Use Use new agent constructor methods like create_react_agent, create_json_agent, create_structured_chat_agent, etc. instead.\n",
      "  warn_deprecated(\n"
     ]
    }
   ],
   "source": [
    "import re\n",
    "\n",
    "mp_llm = ChatOpenAI(\n",
    "    temperature=0,\n",
    "    model=\"gpt-3.5-turbo-1106\",\n",
    "    openai_api_key=OPENAI_API_KEY,\n",
    "    openai_organization=None,\n",
    "    max_retries=5,\n",
    "    # streaming=True\n",
    ")\n",
    "\n",
    "llm = ChatOpenAI(\n",
    "    temperature=0.7,\n",
    "    model=\"gpt-4\",\n",
    "    openai_api_key=OPENAI_API_KEY,\n",
    "    openai_organization=None,\n",
    "    # streaming=True\n",
    ")\n",
    "\n",
    "wikipedia = WikipediaQueryRun(api_wrapper=WikipediaAPIWrapper())\n",
    "arxiv = ArxivQueryRun(api_wrapper=ArxivAPIWrapper())\n",
    "\n",
    "tools = [\n",
    "    MPThermoExpert(llm=mp_llm).as_tool(agent_kwargs=dict(return_intermediate_steps=False)),\n",
    "    MPElasticityExpert(llm=mp_llm).as_tool(agent_kwargs=dict(return_intermediate_steps=False)),\n",
    "    MPDielectricExpert(llm=mp_llm).as_tool(agent_kwargs=dict(return_intermediate_steps=False)),\n",
    "    MPMagnetismExpert(llm=mp_llm).as_tool(agent_kwargs=dict(return_intermediate_steps=False)),\n",
    "    MPElectronicExpert(llm=mp_llm).as_tool(agent_kwargs=dict(return_intermediate_steps=False)),\n",
    "    MPPiezoelectricExpert(llm=mp_llm).as_tool(agent_kwargs=dict(return_intermediate_steps=False)),\n",
    "    MPSummaryExpert(llm=mp_llm).as_tool(agent_kwargs=dict(return_intermediate_steps=False)),\n",
    "    MPSynthesisExpert(llm=mp_llm).as_tool(agent_kwargs=dict(return_intermediate_steps=False)),\n",
    "    MPStructureRetriever(llm=mp_llm).as_tool(agent_kwargs=dict(return_intermediate_steps=False)),\n",
    "    # ArxivAgent(llm=mp_llm).as_tool(agent_kwargs=dict(return_intermediate_steps=False)),\n",
    "    arxiv,\n",
    "    wikipedia,\n",
    "]\n",
    "tools += load_tools([\"llm-math\"], llm=mp_llm)\n",
    "\n",
    "prompt = hub.pull(\"hwchase17/react-multi-input-json\")\n",
    "prompt.messages[0].prompt.template = re.sub(\n",
    "    r\"\\s+\", \" \",\n",
    "    \"\"\"You are a data-aware agent that can consult materials-related\n",
    "    data through Materials Project (MP) database, arXiv, and Wikipedia. Ask \n",
    "    user to clarify their queries if needed. Please note that you don't have \n",
    "    direct control over MP but through multiple assistant agents to help you. \n",
    "    You need to provide complete context in the input for them to do their job.\n",
    "    \"\"\").replace(\"\\n\", \" \") + prompt.messages[0].prompt.template\n",
    "\n",
    "prompt = prompt.partial(\n",
    "    tools=render_text_description_and_args(tools),\n",
    "    tool_names=\", \".join([t.name for t in tools]),\n",
    ")\n",
    "\n",
    "agent = (\n",
    "    {\n",
    "        \"input\": lambda x: x[\"input\"],\n",
    "        \"agent_scratchpad\": lambda x: format_log_to_str(x[\"intermediate_steps\"]),\n",
    "    }\n",
    "    | prompt\n",
    "    | llm.bind(stop=[\"Observation\"])\n",
    "    # | map_reduce_chain  # TODO: Add map-reduce after LLM\n",
    "    | JSONAgentOutputParser()\n",
    ")\n",
    "\n",
    "\n",
    "conversational_memory = ConversationBufferWindowMemory(\n",
    "    memory_key='chat_history',\n",
    "    k=5,\n",
    "    return_messages=True\n",
    ")\n",
    "\n",
    "agent_kwargs = {\n",
    "    \"handle_parsing_errors\": True,\n",
    "    \"extra_prompt_messages\": [\n",
    "        MessagesPlaceholder(variable_name=\"chat_history\"),\n",
    "        # SystemMessage(content=re.sub(\n",
    "        #     r\"\\s+\", \" \",\n",
    "        #     \"\"\"You are a helpful data-aware agent that can consult materials-related\n",
    "        #     data through Materials Project (MP) database, arXiv, and Wikipedia. Ask \n",
    "        #     user to clarify their queries if needed. Please note that you don't have \n",
    "        #     direct control to MP but through multiple assistant agents to help you. \n",
    "        #     You need to provide complete context for them to do their job. \n",
    "        #     \"\"\").replace(\"\\n\", \" \")\n",
    "        # )\n",
    "        ],\n",
    "    \"early_stopping_method\": 'generate',\n",
    "}\n",
    "\n",
    "agent_executor = initialize_agent(\n",
    "    agent=AgentType.STRUCTURED_CHAT_ZERO_SHOT_REACT_DESCRIPTION,\n",
    "    tools=tools,\n",
    "    llm=llm,\n",
    "    verbose=True,\n",
    "    max_iterations=20,\n",
    "    memory=conversational_memory,\n",
    "    agent_kwargs=agent_kwargs,\n",
    "    handle_parsing_errors=True,\n",
    ")"
   ]
  },
  {
   "cell_type": "code",
   "execution_count": 3,
   "metadata": {},
   "outputs": [
    {
     "name": "stdout",
     "output_type": "stream",
     "text": [
      "\n",
      "\n",
      "\u001b[1m> Entering new AgentExecutor chain...\u001b[0m\n",
      "\u001b[32;1m\u001b[1;3mThe user is asking for the bulk modulus of several metals. The bulk modulus is a measure of a substance's resistance to uniform compression. This is a question that can be answered using the MPElasticityExpert tool. I'll ask for the bulk modulus of each metal in turn. Let's start with Scandium (Sc). \n",
      "Action:\n",
      "```\n",
      "{\n",
      "  \"action\": \"MPElasticityExpert\",\n",
      "  \"action_input\": \"What is the bulk modulus of Scandium?\"\n",
      "}\n",
      "```\u001b[0m\n",
      "\n",
      "\u001b[1m> Entering new AgentExecutor chain...\u001b[0m\n"
     ]
    },
    {
     "name": "stderr",
     "output_type": "stream",
     "text": [
      "/home/cyrus/miniconda3/envs/llamp/lib/python3.11/site-packages/mp_api/client/mprester.py:230: UserWarning: mpcontribs-client not installed. Install the package to query MPContribs data, or construct pourbaix diagrams: 'pip install mpcontribs-client'\n",
      "  warnings.warn(\n",
      "/home/cyrus/miniconda3/envs/llamp/lib/python3.11/site-packages/mp_api/client/mprester.py:230: UserWarning: mpcontribs-client not installed. Install the package to query MPContribs data, or construct pourbaix diagrams: 'pip install mpcontribs-client'\n",
      "  warnings.warn(\n"
     ]
    },
    {
     "name": "stdout",
     "output_type": "stream",
     "text": [
      "\u001b[32;1m\u001b[1;3m```\n",
      "{\n",
      "  \"action\": \"search_materials_elasticity__get\",\n",
      "  \"action_input\": {\n",
      "    \"formula\": \"Sc\"\n",
      "  }\n",
      "}\n",
      "```\u001b[0m{\"formula\": \"Sc\"}\n"
     ]
    },
    {
     "data": {
      "application/vnd.jupyter.widget-view+json": {
       "model_id": "7ad8ecbe061d428091a2c3e8b260b937",
       "version_major": 2,
       "version_minor": 0
      },
      "text/plain": [
       "Retrieving SummaryDoc documents:   0%|          | 0/10 [00:00<?, ?it/s]"
      ]
     },
     "metadata": {},
     "output_type": "display_data"
    },
    {
     "data": {
      "application/vnd.jupyter.widget-view+json": {
       "model_id": "e06d883ed4064e71a6f239342be82dd2",
       "version_major": 2,
       "version_minor": 0
      },
      "text/plain": [
       "Retrieving ElasticityDoc documents:   0%|          | 0/5 [00:00<?, ?it/s]"
      ]
     },
     "metadata": {},
     "output_type": "display_data"
    },
    {
     "name": "stdout",
     "output_type": "stream",
     "text": [
      "\u001b[36;1m\u001b[1;3m[{'formula_pretty': 'Sc', 'material_id': 'mp-67', 'elastic_tensor': {'raw': [[104.1574697321843, 33.47246975087911, 28.657494892576103, -3.3237301799715616e-15, -2.4841240175987874e-15, -3.219646771412953e-15], [33.47246975087911, 104.79312489326712, 28.815987273059456, -3.240463453124675e-15, -2.3314683517128283e-15, 1.2598438969896193e-16], [28.657494892576103, 28.815987273059456, 100.31066199213747, -2.5951463200613034e-15, -2.1649348980190553e-15, -1.998401444325281e-15], [-3.3237301799715616e-15, -3.240463453124675e-15, -2.5951463200613034e-15, 29.151276311960835, 0.0, 3.660620876684204e-31], [-2.4841240175987874e-15, -2.3314683517128283e-15, -2.1649348980190553e-15, 0.0, 29.127385170661007, -8.073238744599182e-16], [-3.219646771412953e-15, 1.2598438969896193e-16, -1.998401444325281e-15, 3.660620876684204e-31, -8.073238744599182e-16, 31.108619513703132]], 'ieee_format': [[102.0, 36.0, 29.0, 0.0, -0.0, -0.0], [36.0, 102.0, 29.0, 0.0, 0.0, -0.0], [29.0, 29.0, 100.0, 0.0, 0.0, -0.0], [-0.0, 0.0, 0.0, 29.0, -0.0, -0.0], [-0.0, 0.0, 0.0, -0.0, 29.0, 0.0], [-0.0, -0.0, -0.0, 0.0, 0.0, 33.0]]}}, {'formula_pretty': 'Sc', 'material_id': 'mp-567308', 'elastic_tensor': {'raw': [[30.637116420135353, 76.22951182594439, 23.922554467219044, 2.4980018054066017e-16, -2.081668171172168e-16, 1.249000902703301e-15], [76.22951182594439, 30.637116420135357, 23.922554467219044, 8.049116928532383e-16, 3.7470027081099023e-16, 2.870970009982554e-15], [23.922554467219044, 23.922554467219044, 102.0150090342541, -4.718447854656916e-16, -4.857225732735061e-16, -6.245004513516534e-17], [2.4980018054066017e-16, 8.049116928532383e-16, -4.718447854656916e-16, 20.48837896755918, 0.0, -5.883140694671042e-32], [-2.081668171172168e-16, 3.7470027081099023e-16, -4.857225732735061e-16, 0.0, 20.488378967559186, -5.730740854256758e-16], [1.249000902703301e-15, 2.870970009982554e-15, -6.245004513516534e-17, -5.883140694671042e-32, -5.730740854256758e-16, 31.890863438492516]], 'ieee_format': [[102.0, 24.0, 24.0, 0.0, 0.0, -0.0], [24.0, 31.0, 76.0, 0.0, 0.0, -0.0], [24.0, 76.0, 31.0, -0.0, 0.0, -0.0], [0.0, 0.0, -0.0, 32.0, -0.0, 0.0], [0.0, 0.0, 0.0, -0.0, 20.0, 0.0], [-0.0, -0.0, -0.0, 0.0, 0.0, 20.0]]}}, {'formula_pretty': 'Sc', 'material_id': 'mp-36', 'elastic_tensor': {'raw': [[69.26107774706311, 41.34563362150482, 41.34563362150482, -2.942091015256664e-15, -2.824129818890241e-15, -2.8033131371785195e-15], [41.34563362150482, 69.26107774706311, 41.34563362150482, -2.824129818890241e-15, -2.942091015256664e-15, 1.4972713146891558e-15], [41.34563362150482, 41.34563362150482, 69.26107774706313, -2.817190924986335e-15, -2.8033131371785207e-15, -2.942091015256664e-15], [-2.942091015256664e-15, -2.824129818890241e-15, -2.817190924986335e-15, 30.78737652446157, 0.0, 4.619354915815781e-31], [-2.824129818890241e-15, -2.942091015256664e-15, -2.8033131371785207e-15, 0.0, 30.78737652446158, -8.545213571315314e-16], [-2.8033131371785195e-15, 1.4972713146891558e-15, -2.942091015256664e-15, 4.619354915815781e-31, -8.545213571315314e-16, 30.787376524461592]], 'ieee_format': [[69.0, 41.0, 41.0, 0.0, 0.0, -0.0], [41.0, 69.0, 41.0, 0.0, 0.0, -0.0], [41.0, 41.0, 69.0, 0.0, -0.0, -0.0], [0.0, 0.0, 0.0, 31.0, -0.0, 0.0], [0.0, 0.0, -0.0, -0.0, 31.0, 0.0], [-0.0, -0.0, -0.0, -0.0, 0.0, 31.0]]}}, {'formula_pretty': 'Sc', 'material_id': 'mp-10641', 'elastic_tensor': {'raw': [[54.47824396252669, 52.530521565025694, 52.530521565025694, -5.107025913275719e-15, -4.496403249731883e-15, -4.45476988630844e-15], [52.530521565025694, 54.47824396252669, 52.53052156502571, -5.787037515858627e-15, -5.107025913275719e-15, 9.587662765099424e-16], [52.530521565025694, 52.53052156502571, 54.47824396252669, -5.828670879282073e-15, -5.828670879282073e-15, -5.1070259132757185e-15], [-5.107025913275719e-15, -5.787037515858627e-15, -5.828670879282073e-15, 32.07361813170136, 0.0, 8.018502872736827e-31], [-4.496403249731883e-15, -5.107025913275719e-15, -5.828670879282073e-15, 0.0, 32.073618131701366, -8.902217333212434e-16], [-4.45476988630844e-15, 9.587662765099424e-16, -5.1070259132757185e-15, 8.018502872736827e-31, -8.902217333212434e-16, 32.07361813170138]], 'ieee_format': [[54.0, 53.0, 53.0, -0.0, 0.0, 0.0], [53.0, 54.0, 53.0, -0.0, -0.0, 0.0], [53.0, 53.0, 54.0, -0.0, -0.0, 0.0], [-0.0, -0.0, -0.0, 32.0, 0.0, -0.0], [0.0, -0.0, -0.0, 0.0, 32.0, -0.0], [0.0, 0.0, 0.0, -0.0, -0.0, 32.0]]}}, {'formula_pretty': 'Sc', 'material_id': 'mp-1008681', 'elastic_tensor': {'raw': [[87.49398876252832, 11.577683509944523, 11.577683509944523, -4.649058915617842e-16, -5.689893001203926e-16, -5.551115123125782e-16], [11.577683509944523, 87.49398876252832, 11.577683509944524, -5.689893001203926e-16, -4.649058915617842e-16, 6.333255520125811e-16], [11.577683509944523, 11.577683509944524, 87.49398876252833, -5.551115123125783e-16, -5.551115123125783e-16, -4.649058915617841e-16], [-4.649058915617842e-16, -5.689893001203926e-16, -5.551115123125783e-16, -26.9511212318689, 0.0, 7.299452343388145e-32], [-5.689893001203926e-16, -4.649058915617842e-16, -5.551115123125783e-16, 0.0, -26.951121231868907, 7.480438832771188e-16], [-5.551115123125782e-16, 6.333255520125811e-16, -4.649058915617841e-16, 7.299452343388145e-32, 7.480438832771188e-16, -26.95112123186889]], 'ieee_format': [[87.0, 12.0, 12.0, 0.0, 0.0, 0.0], [12.0, 87.0, 12.0, 0.0, 0.0, 0.0], [12.0, 12.0, 87.0, 0.0, 0.0, 0.0], [0.0, 0.0, 0.0, -27.0, -0.0, -0.0], [0.0, 0.0, 0.0, -0.0, -27.0, 0.0], [0.0, 0.0, 0.0, -0.0, 0.0, -27.0]]}}]\u001b[0m\u001b[32;1m\u001b[1;3m```\n",
      "{\n",
      "  \"action\": \"Final Answer\",\n",
      "  \"action_input\": \"The bulk modulus of Scandium (Sc) is not available in the provided data.\"\n",
      "}\n",
      "```\u001b[0m\n",
      "\n",
      "\u001b[1m> Finished chain.\u001b[0m\n",
      "\n",
      "Observation: \u001b[33;1m\u001b[1;3m{'input': 'What is the bulk modulus of Scandium?', 'output': 'The bulk modulus of Scandium (Sc) is not available in the provided data.'}\u001b[0m\n",
      "Thought:\u001b[32;1m\u001b[1;3mIt seems that the bulk modulus of Scandium (Sc) is not available in the provided data. I should proceed to the next metal, Titanium (Ti), and see if that data is available. \n",
      "Action:\n",
      "```\n",
      "{\n",
      "  \"action\": \"MPElasticityExpert\",\n",
      "  \"action_input\": \"What is the bulk modulus of Titanium?\"\n",
      "}\n",
      "```\u001b[0m\n",
      "\n",
      "\u001b[1m> Entering new AgentExecutor chain...\u001b[0m\n"
     ]
    },
    {
     "name": "stderr",
     "output_type": "stream",
     "text": [
      "/home/cyrus/miniconda3/envs/llamp/lib/python3.11/site-packages/mp_api/client/mprester.py:230: UserWarning: mpcontribs-client not installed. Install the package to query MPContribs data, or construct pourbaix diagrams: 'pip install mpcontribs-client'\n",
      "  warnings.warn(\n",
      "/home/cyrus/miniconda3/envs/llamp/lib/python3.11/site-packages/mp_api/client/mprester.py:230: UserWarning: mpcontribs-client not installed. Install the package to query MPContribs data, or construct pourbaix diagrams: 'pip install mpcontribs-client'\n",
      "  warnings.warn(\n"
     ]
    },
    {
     "name": "stdout",
     "output_type": "stream",
     "text": [
      "\u001b[32;1m\u001b[1;3mAction:\n",
      "```\n",
      "{\n",
      "  \"action\": \"search_materials_elasticity__get\",\n",
      "  \"action_input\": {\n",
      "    \"formula\": \"Ti\"\n",
      "  }\n",
      "}\n",
      "```\u001b[0m{\"formula\": \"Ti\"}\n"
     ]
    },
    {
     "data": {
      "application/vnd.jupyter.widget-view+json": {
       "model_id": "07f984983c6d4be0a08d6c452b237928",
       "version_major": 2,
       "version_minor": 0
      },
      "text/plain": [
       "Retrieving SummaryDoc documents:   0%|          | 0/10 [00:00<?, ?it/s]"
      ]
     },
     "metadata": {},
     "output_type": "display_data"
    },
    {
     "data": {
      "application/vnd.jupyter.widget-view+json": {
       "model_id": "9c69e83ff7d64b27bfc9a7a60b15971c",
       "version_major": 2,
       "version_minor": 0
      },
      "text/plain": [
       "Retrieving ElasticityDoc documents:   0%|          | 0/4 [00:00<?, ?it/s]"
      ]
     },
     "metadata": {},
     "output_type": "display_data"
    },
    {
     "name": "stdout",
     "output_type": "stream",
     "text": [
      "\u001b[36;1m\u001b[1;3m[{'formula_pretty': 'Ti', 'material_id': 'mp-46', 'elastic_tensor': {'raw': [[184.14950156465784, 75.22674657870905, 74.97490786429583, -1.1657341758564142e-15, -7.771561172376094e-16, -8.604228440844961e-16], [75.22674657870905, 186.3611283841838, 75.01933957367555, -7.771561172376094e-16, -1.221245327087672e-15, 7.736050525743982e-15], [74.97490786429583, 75.01933957367555, 195.85902716255512, -6.245004513516505e-16, -5.967448757360216e-16, -5.551115123125781e-16], [-1.1657341758564142e-15, -7.771561172376094e-16, -6.245004513516505e-16, 42.30818213352947, 0.0, 1.9174680782631545e-31], [-7.771561172376094e-16, -1.221245327087672e-15, -5.967448757360216e-16, 0.0, 42.30984984650723, -1.1356958306790213e-15], [-8.604228440844961e-16, 7.736050525743982e-15, -5.551115123125781e-16, 1.9174680782631545e-31, -1.1356958306790213e-15, 45.23647492451884]], 'ieee_format': [[180.0, 80.0, 75.0, 0.0, -0.0, 0.0], [80.0, 180.0, 75.0, -0.0, 0.0, 0.0], [75.0, 75.0, 196.0, 0.0, 0.0, 0.0], [0.0, -0.0, 0.0, 42.0, 0.0, -0.0], [-0.0, 0.0, 0.0, 0.0, 42.0, 0.0], [0.0, -0.0, 0.0, -0.0, 0.0, 50.0]]}}, {'formula_pretty': 'Ti', 'material_id': 'mp-6985', 'elastic_tensor': {'raw': [[133.55809304709032, 96.03029355666722, 96.03029355666722, 4.218847493575594e-15, 5.551115123125782e-16, 8.326672684688672e-15], [96.03029355666722, 133.55809304709032, 96.03029355666725, 3.3306690738754686e-16, 4.218847493575594e-15, 1.8410212209503875e-14], [96.03029355666722, 96.03029355666725, 133.55809304709035, 4.4408920985006207e-16, 8.326672684688676e-15, 4.218847493575594e-15], [4.218847493575594e-15, 3.3306690738754686e-16, 4.4408920985006207e-16, 58.383173447088154, 0.0, -6.623980633999988e-31], [5.551115123125782e-16, 4.218847493575594e-15, 8.326672684688676e-15, 0.0, 58.38317344708817, -1.6204585852910346e-15], [8.326672684688672e-15, 1.8410212209503875e-14, 4.218847493575594e-15, -6.623980633999988e-31, -1.6204585852910346e-15, 58.3831734470882]], 'ieee_format': [[134.0, 96.0, 96.0, -0.0, -0.0, 0.0], [96.0, 134.0, 96.0, -0.0, -0.0, 0.0], [96.0, 96.0, 134.0, -0.0, 0.0, 0.0], [-0.0, -0.0, -0.0, 58.0, 0.0, -0.0], [-0.0, -0.0, 0.0, 0.0, 58.0, -0.0], [0.0, 0.0, 0.0, -0.0, -0.0, 58.0]]}}, {'formula_pretty': 'Ti', 'material_id': 'mp-73', 'elastic_tensor': {'raw': [[92.93290640498367, 120.10706630513904, 120.10706630513904, 2.664535259100375e-15, 2.442490654175344e-15, 1.9428902930940236e-15], [120.10706630513904, 92.93290640498367, 120.10706630513907, 3.219646771412953e-15, 2.664535259100375e-15, 1.491532337073321e-14], [120.10706630513904, 120.10706630513907, 92.93290640498365, 3.552713678800501e-15, 3.552713678800502e-15, 2.664535259100375e-15], [2.664535259100375e-15, 3.219646771412953e-15, 3.552713678800501e-15, 36.47494593206715, 0.0, -4.183566716210519e-31], [2.442490654175344e-15, 2.664535259100375e-15, 3.552713678800502e-15, 0.0, 36.474945932067165, -1.012383119893467e-15], [1.9428902930940236e-15, 1.491532337073321e-14, 2.664535259100375e-15, -4.183566716210519e-31, -1.012383119893467e-15, 36.474945932067186]], 'ieee_format': [[93.0, 120.0, 120.0, 0.0, -0.0, -0.0], [120.0, 93.0, 120.0, 0.0, -0.0, -0.0], [120.0, 120.0, 93.0, 0.0, 0.0, -0.0], [0.0, 0.0, 0.0, 36.0, -0.0, -0.0], [-0.0, -0.0, 0.0, -0.0, 36.0, 0.0], [-0.0, -0.0, -0.0, -0.0, 0.0, 36.0]]}}, {'formula_pretty': 'Ti', 'material_id': 'mp-72', 'elastic_tensor': {'raw': [[198.3952617443713, 81.00700507343413, 52.890796221634844, -2.775557561562891e-16, 1.6653345369377343e-16, -5.5511151231257815e-17], [81.00700507343413, 198.5848112559459, 52.986524769388595, 0.0, -1.9428902930940235e-16, 7.55738945746802e-15], [52.890796221634844, 52.986524769388595, 245.84712864405276, 1.6653345369377358e-16, 1.665334536937735e-16, -7.077671781985373e-16], [-2.775557561562891e-16, 0.0, 1.6653345369377358e-16, 53.79009296509353, 0.0, 3.0505173972368364e-32], [1.6653345369377343e-16, -1.9428902930940235e-16, 1.665334536937735e-16, 0.0, 53.78132621714636, -1.495294718663555e-15], [-5.5511151231257815e-17, 7.55738945746802e-15, -7.077671781985373e-16, 3.0505173972368364e-32, -1.495294718663555e-15, 58.345398149532954]], 'ieee_format': [[198.0, 81.0, 53.0, 0.0, -0.0, 0.0], [81.0, 198.0, 53.0, -0.0, 0.0, 0.0], [53.0, 53.0, 246.0, 0.0, 0.0, 0.0], [0.0, -0.0, 0.0, 54.0, 0.0, 0.0], [-0.0, -0.0, 0.0, 0.0, 54.0, 0.0], [0.0, 0.0, 0.0, 0.0, 0.0, 59.0]]}}]\u001b[0m\u001b[32;1m\u001b[1;3mCould not parse LLM output: The bulk modulus of Titanium (Ti) varies across different materials. Here are the bulk moduli for a few Titanium materials:\n",
      "\n",
      "1. mp-46: Bulk modulus = 180 GPa\n",
      "2. mp-6985: Bulk modulus = 134 GPa\n",
      "3. mp-73: Bulk modulus = 93 GPa\n",
      "4. mp-72: Bulk modulus = 198 GPa\n",
      "\n",
      "If you need more information or have any other questions, feel free to ask!\u001b[0mInvalid or incomplete response\u001b[32;1m\u001b[1;3m```\n",
      "{\n",
      "  \"action\": \"Final Answer\",\n",
      "  \"action_input\": \"The bulk modulus of Titanium (Ti) varies across different materials. Here are the bulk moduli for a few Titanium materials: 1. mp-46: Bulk modulus = 180 GPa 2. mp-6985: Bulk modulus = 134 GPa 3. mp-73: Bulk modulus = 93 GPa 4. mp-72: Bulk modulus = 198 GPa\"\n",
      "}\n",
      "```\u001b[0m\n",
      "\n",
      "\u001b[1m> Finished chain.\u001b[0m\n",
      "\n",
      "Observation: \u001b[33;1m\u001b[1;3m{'input': 'What is the bulk modulus of Titanium?', 'output': 'The bulk modulus of Titanium (Ti) varies across different materials. Here are the bulk moduli for a few Titanium materials: 1. mp-46: Bulk modulus = 180 GPa 2. mp-6985: Bulk modulus = 134 GPa 3. mp-73: Bulk modulus = 93 GPa 4. mp-72: Bulk modulus = 198 GPa'}\u001b[0m\n",
      "Thought:\u001b[32;1m\u001b[1;3mThe results show that the bulk modulus of Titanium (Ti) varies across different materials. The data provides a range of values. Next, I'll ask for the bulk modulus of the next metal, Vanadium (V). \n",
      "Action:\n",
      "```\n",
      "{\n",
      "  \"action\": \"MPElasticityExpert\",\n",
      "  \"action_input\": \"What is the bulk modulus of Vanadium?\"\n",
      "}\n",
      "```\u001b[0m\n",
      "\n",
      "\u001b[1m> Entering new AgentExecutor chain...\u001b[0m\n"
     ]
    },
    {
     "name": "stderr",
     "output_type": "stream",
     "text": [
      "/home/cyrus/miniconda3/envs/llamp/lib/python3.11/site-packages/mp_api/client/mprester.py:230: UserWarning: mpcontribs-client not installed. Install the package to query MPContribs data, or construct pourbaix diagrams: 'pip install mpcontribs-client'\n",
      "  warnings.warn(\n",
      "/home/cyrus/miniconda3/envs/llamp/lib/python3.11/site-packages/mp_api/client/mprester.py:230: UserWarning: mpcontribs-client not installed. Install the package to query MPContribs data, or construct pourbaix diagrams: 'pip install mpcontribs-client'\n",
      "  warnings.warn(\n"
     ]
    },
    {
     "name": "stdout",
     "output_type": "stream",
     "text": [
      "\u001b[32;1m\u001b[1;3mAction:\n",
      "```json\n",
      "{\n",
      "  \"action\": \"search_materials_elasticity__get\",\n",
      "  \"action_input\": {\n",
      "    \"formula\": \"V\"\n",
      "  }\n",
      "}\n",
      "```\u001b[0m{\"formula\": \"V\"}\n"
     ]
    },
    {
     "data": {
      "application/vnd.jupyter.widget-view+json": {
       "model_id": "0d389ab7739041ae9f65a46293848c9e",
       "version_major": 2,
       "version_minor": 0
      },
      "text/plain": [
       "Retrieving SummaryDoc documents:   0%|          | 0/3 [00:00<?, ?it/s]"
      ]
     },
     "metadata": {},
     "output_type": "display_data"
    },
    {
     "data": {
      "application/vnd.jupyter.widget-view+json": {
       "model_id": "6a7c6838ad8942028d29de10a063cf23",
       "version_major": 2,
       "version_minor": 0
      },
      "text/plain": [
       "Retrieving ElasticityDoc documents:   0%|          | 0/2 [00:00<?, ?it/s]"
      ]
     },
     "metadata": {},
     "output_type": "display_data"
    },
    {
     "name": "stdout",
     "output_type": "stream",
     "text": [
      "\u001b[36;1m\u001b[1;3m[{'formula_pretty': 'V', 'material_id': 'mp-8632', 'elastic_tensor': {'raw': [[11.305802247628042, 259.4003165939513, 259.4003165939513, -1.398881011027697e-14, -1.2101430968414203e-14, -1.398881011027697e-14], [259.4003165939513, 11.305802247628042, 259.4003165939513, -1.3877787807814454e-14, -1.398881011027697e-14, 1.483667396605015e-14], [259.4003165939513, 259.4003165939513, 11.305802247627987, -1.1213252548714083e-14, -1.3988810110276974e-14, -1.398881011027697e-14], [-1.398881011027697e-14, -1.3877787807814454e-14, -1.1213252548714083e-14, 0.5718949566517355, 0.0, 2.1963725260105224e-30], [-1.2101430968414203e-14, -1.398881011027697e-14, -1.3988810110276974e-14, 0.0, 0.5718949566517354, -1.5873273713546345e-17], [-1.398881011027697e-14, 1.483667396605015e-14, -1.398881011027697e-14, 2.1963725260105224e-30, -1.5873273713546345e-17, 0.5718949566517382]], 'ieee_format': [[11.0, 259.0, 259.0, -0.0, -0.0, 0.0], [259.0, 11.0, 259.0, -0.0, 0.0, 0.0], [259.0, 259.0, 11.0, -0.0, 0.0, 0.0], [-0.0, -0.0, -0.0, 1.0, 0.0, -0.0], [-0.0, 0.0, 0.0, 0.0, 1.0, -0.0], [0.0, 0.0, 0.0, -0.0, -0.0, 1.0]]}}, {'formula_pretty': 'V', 'material_id': 'mp-146', 'elastic_tensor': {'raw': [[270.90594781799047, 136.3956209533348, 136.3956209533348, 1.221245327087672e-15, 0.0, -1.1102230246251563e-16], [136.3956209533348, 270.90594781799047, 136.3956209533348, -1.3877787807814453e-15, 1.221245327087672e-15, 1.4164360314154043e-14], [136.3956209533348, 136.3956209533348, 270.9059478179905, -1.2767564783189304e-15, -1.2767564783189302e-15, 1.2212453270876724e-15], [1.221245327087672e-15, -1.3877787807814453e-15, -1.2767564783189304e-15, 28.7813004896299, 0.0, -1.9174680782631545e-31], [0.0, 1.221245327087672e-15, -1.2767564783189302e-15, 0.0, 28.781300489629906, -7.988415620560609e-16], [-1.1102230246251563e-16, 1.4164360314154043e-14, 1.2212453270876724e-15, -1.9174680782631545e-31, -7.988415620560609e-16, 28.781300489629967]], 'ieee_format': [[271.0, 136.0, 136.0, -0.0, -0.0, 0.0], [136.0, 271.0, 136.0, -0.0, -0.0, 0.0], [136.0, 136.0, 271.0, -0.0, 0.0, 0.0], [-0.0, -0.0, -0.0, 29.0, 0.0, -0.0], [-0.0, -0.0, 0.0, 0.0, 29.0, -0.0], [0.0, 0.0, 0.0, -0.0, -0.0, 29.0]]}}]\u001b[0m\u001b[32;1m\u001b[1;3mCould not parse LLM output: The bulk modulus of Vanadium (V) is approximately 271 GPa for the material with material_id 'mp-146'.\u001b[0mInvalid or incomplete response\u001b[32;1m\u001b[1;3m{\n",
      "  \"action\": \"search_materials_elasticity__get\",\n",
      "  \"action_input\": {\n",
      "    \"formula\": \"V\",\n",
      "    \"limit\": 1\n",
      "  }\n",
      "}\u001b[0m{\"formula\": \"V\", \"limit\": 1}\n"
     ]
    },
    {
     "data": {
      "application/vnd.jupyter.widget-view+json": {
       "model_id": "bcb773c4c3bf4daab48fb79ef50eb233",
       "version_major": 2,
       "version_minor": 0
      },
      "text/plain": [
       "Retrieving SummaryDoc documents:   0%|          | 0/3 [00:00<?, ?it/s]"
      ]
     },
     "metadata": {},
     "output_type": "display_data"
    },
    {
     "data": {
      "application/vnd.jupyter.widget-view+json": {
       "model_id": "519bb312cb08424a925290dab0c69c2b",
       "version_major": 2,
       "version_minor": 0
      },
      "text/plain": [
       "Retrieving ElasticityDoc documents:   0%|          | 0/2 [00:00<?, ?it/s]"
      ]
     },
     "metadata": {},
     "output_type": "display_data"
    },
    {
     "name": "stdout",
     "output_type": "stream",
     "text": [
      "\u001b[36;1m\u001b[1;3m[{'formula_pretty': 'V', 'material_id': 'mp-8632', 'elastic_tensor': {'raw': [[11.305802247628042, 259.4003165939513, 259.4003165939513, -1.398881011027697e-14, -1.2101430968414203e-14, -1.398881011027697e-14], [259.4003165939513, 11.305802247628042, 259.4003165939513, -1.3877787807814454e-14, -1.398881011027697e-14, 1.483667396605015e-14], [259.4003165939513, 259.4003165939513, 11.305802247627987, -1.1213252548714083e-14, -1.3988810110276974e-14, -1.398881011027697e-14], [-1.398881011027697e-14, -1.3877787807814454e-14, -1.1213252548714083e-14, 0.5718949566517355, 0.0, 2.1963725260105224e-30], [-1.2101430968414203e-14, -1.398881011027697e-14, -1.3988810110276974e-14, 0.0, 0.5718949566517354, -1.5873273713546345e-17], [-1.398881011027697e-14, 1.483667396605015e-14, -1.398881011027697e-14, 2.1963725260105224e-30, -1.5873273713546345e-17, 0.5718949566517382]], 'ieee_format': [[11.0, 259.0, 259.0, -0.0, -0.0, 0.0], [259.0, 11.0, 259.0, -0.0, 0.0, 0.0], [259.0, 259.0, 11.0, -0.0, 0.0, 0.0], [-0.0, -0.0, -0.0, 1.0, 0.0, -0.0], [-0.0, 0.0, 0.0, 0.0, 1.0, -0.0], [0.0, 0.0, 0.0, -0.0, -0.0, 1.0]]}}]\u001b[0m\u001b[32;1m\u001b[1;3m{\n",
      "  \"action\": \"Final Answer\",\n",
      "  \"action_input\": \"The bulk modulus of Vanadium (V) is approximately 271 GPa for the material with material_id 'mp-146'.\"\n",
      "}\u001b[0m\n",
      "\n",
      "\u001b[1m> Finished chain.\u001b[0m\n",
      "\n",
      "Observation: \u001b[33;1m\u001b[1;3m{'input': 'What is the bulk modulus of Vanadium?', 'output': \"The bulk modulus of Vanadium (V) is approximately 271 GPa for the material with material_id 'mp-146'.\"}\u001b[0m\n",
      "Thought:\u001b[32;1m\u001b[1;3mThe bulk modulus of Vanadium (V) is approximately 271 GPa for the material with material_id 'mp-146'. Now, I will move on to the next metal, Chromium (Cr). \n",
      "Action:\n",
      "```\n",
      "{\n",
      "  \"action\": \"MPElasticityExpert\",\n",
      "  \"action_input\": \"What is the bulk modulus of Chromium?\"\n",
      "}\n",
      "```\u001b[0m\n",
      "\n",
      "\u001b[1m> Entering new AgentExecutor chain...\u001b[0m\n"
     ]
    },
    {
     "name": "stderr",
     "output_type": "stream",
     "text": [
      "/home/cyrus/miniconda3/envs/llamp/lib/python3.11/site-packages/mp_api/client/mprester.py:230: UserWarning: mpcontribs-client not installed. Install the package to query MPContribs data, or construct pourbaix diagrams: 'pip install mpcontribs-client'\n",
      "  warnings.warn(\n",
      "/home/cyrus/miniconda3/envs/llamp/lib/python3.11/site-packages/mp_api/client/mprester.py:230: UserWarning: mpcontribs-client not installed. Install the package to query MPContribs data, or construct pourbaix diagrams: 'pip install mpcontribs-client'\n",
      "  warnings.warn(\n"
     ]
    },
    {
     "name": "stdout",
     "output_type": "stream",
     "text": [
      "\u001b[32;1m\u001b[1;3mAction:\n",
      "```\n",
      "{\n",
      "  \"action\": \"search_materials_elasticity__get\",\n",
      "  \"action_input\": {\n",
      "    \"formula\": \"Cr\"\n",
      "  }\n",
      "}\n",
      "```\u001b[0m{\"formula\": \"Cr\"}\n"
     ]
    },
    {
     "data": {
      "application/vnd.jupyter.widget-view+json": {
       "model_id": "c927df304a814f56a91d73a6278212aa",
       "version_major": 2,
       "version_minor": 0
      },
      "text/plain": [
       "Retrieving SummaryDoc documents:   0%|          | 0/6 [00:00<?, ?it/s]"
      ]
     },
     "metadata": {},
     "output_type": "display_data"
    },
    {
     "data": {
      "application/vnd.jupyter.widget-view+json": {
       "model_id": "c9a907217dc74b948e0ccb48d5500df0",
       "version_major": 2,
       "version_minor": 0
      },
      "text/plain": [
       "Retrieving ElasticityDoc documents:   0%|          | 0/3 [00:00<?, ?it/s]"
      ]
     },
     "metadata": {},
     "output_type": "display_data"
    },
    {
     "name": "stdout",
     "output_type": "stream",
     "text": [
      "\u001b[36;1m\u001b[1;3m[{'formula_pretty': 'Cr', 'material_id': 'mp-17', 'elastic_tensor': {'raw': [[479.9846412549466, 138.24074803385002, 138.24074803385002, -1.0547118733938985e-15, -7.771561172376094e-16, -2.2204460492503126e-16], [138.24074803385002, 479.9846412549466, 138.24074803385002, 1.1102230246251563e-16, -1.0547118733938985e-15, 1.357881624876348e-14], [138.24074803385002, 138.24074803385002, 479.9846412549467, -6.661338147750939e-16, -2.2204460492503126e-16, -1.0547118733938987e-15], [-1.0547118733938985e-15, 1.1102230246251563e-16, -6.661338147750939e-16, 89.28885300406719, 0.0, 1.655995158499997e-31], [-7.771561172376094e-16, -1.0547118733938985e-15, -2.2204460492503126e-16, 0.0, 89.2888530040672, -2.4782635111871626e-15], [-2.2204460492503126e-16, 1.357881624876348e-14, -1.0547118733938987e-15, 1.655995158499997e-31, -2.4782635111871626e-15, 89.2888530040673]], 'ieee_format': [[480.0, 138.0, 138.0, 0.0, 0.0, -0.0], [138.0, 480.0, 138.0, -0.0, 0.0, 0.0], [138.0, 138.0, 480.0, 0.0, -0.0, 0.0], [0.0, -0.0, 0.0, 89.0, -0.0, -0.0], [0.0, 0.0, -0.0, -0.0, 89.0, 0.0], [-0.0, 0.0, 0.0, -0.0, 0.0, 89.0]]}}, {'formula_pretty': 'Cr', 'material_id': 'mp-90', 'elastic_tensor': {'raw': [[291.81025778900755, 208.97463658446202, 200.92561697491695, 0.0023225707068606828, -15.511773812884709, 0.0076713949160213644], [208.97463658446202, 282.2128427076075, 196.4253335046846, 0.005974477993859894, -7.334372824762768, 0.007343665510329661], [200.92561697491695, 196.4253335046846, 320.6606468043381, 0.006274721564621695, -0.004433409588381882, 0.0033888991969141273], [0.0023225707068606828, 0.005974477993859894, 0.006274721564621695, 113.40556617020364, 0.0024462425701595445, -42.475616918231964], [-15.511773812884709, -7.334372824762768, -0.004433409588381882, 0.0024462425701595445, 126.54599971556607, 0.0010403584479700796], [0.0076713949160213644, 0.007343665510329661, 0.0033888991969141273, -42.475616918231964, 0.0010403584479700796, 96.97699334706603]], 'ieee_format': [[395.0, 154.0, 154.0, -0.0, 0.0, 0.0], [154.0, 395.0, 154.0, -0.0, 0.0, 0.0], [154.0, 154.0, 395.0, -0.0, 0.0, 0.0], [-0.0, -0.0, -0.0, 64.0, 0.0, 0.0], [0.0, 0.0, 0.0, 0.0, 64.0, -0.0], [0.0, 0.0, 0.0, 0.0, -0.0, 64.0]]}}, {'formula_pretty': 'Cr', 'material_id': 'mp-8633', 'elastic_tensor': {'raw': [[4.943127819397849, 348.3954441324147, 348.3954441324147, -3.330669073875469e-15, -4.773959005888172e-15, -7.771561172376094e-15], [348.3954441324147, 4.943127819397849, 348.3954441324147, -1.9984014443252814e-15, -3.330669073875469e-15, 2.840847575263336e-14], [348.3954441324147, 348.3954441324147, 4.9431278193977715, -2.1094237467877974e-15, -7.771561172376097e-15, -3.3306690738754684e-15], [-3.330669073875469e-15, -1.9984014443252814e-15, -2.1094237467877974e-15, -95.75829568205428, 0.0, 5.229458395263148e-31], [-4.773959005888172e-15, -3.330669073875469e-15, -7.771561172376097e-15, 0.0, -95.7582956820543, 2.6578266166270065e-15], [-7.771561172376094e-15, 2.840847575263336e-14, -3.3306690738754684e-15, 5.229458395263148e-31, 2.6578266166270065e-15, -95.7582956820543]], 'ieee_format': [[5.0, 348.0, 348.0, -0.0, -0.0, 0.0], [348.0, 5.0, 348.0, -0.0, 0.0, 0.0], [348.0, 348.0, 5.0, -0.0, 0.0, 0.0], [-0.0, -0.0, -0.0, -96.0, -0.0, -0.0], [-0.0, 0.0, 0.0, -0.0, -96.0, 0.0], [0.0, 0.0, 0.0, -0.0, 0.0, -96.0]]}}]\u001b[0m\u001b[32;1m\u001b[1;3mThought: The bulk modulus can be calculated from the elastic tensor. I will extract the bulk modulus from the elastic tensor data for Chromium and provide the value.\n",
      "\n",
      "Action:\n",
      "```\n",
      "{\n",
      "  \"action\": \"Final Answer\",\n",
      "  \"action_input\": \"The bulk modulus of Chromium (mp-17) is 480.0 GPa, (mp-90) is 395.0 GPa, and (mp-8633) is 5.0 GPa.\"\n",
      "}\n",
      "```\u001b[0m\n",
      "\n",
      "\u001b[1m> Finished chain.\u001b[0m\n",
      "\n",
      "Observation: \u001b[33;1m\u001b[1;3m{'input': 'What is the bulk modulus of Chromium?', 'output': 'The bulk modulus of Chromium (mp-17) is 480.0 GPa, (mp-90) is 395.0 GPa, and (mp-8633) is 5.0 GPa.'}\u001b[0m\n",
      "Thought:\u001b[32;1m\u001b[1;3mThe bulk modulus of Chromium (Cr) varies depending on the specific material, with provided values ranging from 5.0 GPa to 480.0 GPa. The next metal to inquire about is Manganese (Mn). \n",
      "Action:\n",
      "```\n",
      "{\n",
      "  \"action\": \"MPElasticityExpert\",\n",
      "  \"action_input\": \"What is the bulk modulus of Manganese?\"\n",
      "}\n",
      "```\u001b[0m\n",
      "\n",
      "\u001b[1m> Entering new AgentExecutor chain...\u001b[0m\n"
     ]
    },
    {
     "name": "stderr",
     "output_type": "stream",
     "text": [
      "/home/cyrus/miniconda3/envs/llamp/lib/python3.11/site-packages/mp_api/client/mprester.py:230: UserWarning: mpcontribs-client not installed. Install the package to query MPContribs data, or construct pourbaix diagrams: 'pip install mpcontribs-client'\n",
      "  warnings.warn(\n",
      "/home/cyrus/miniconda3/envs/llamp/lib/python3.11/site-packages/mp_api/client/mprester.py:230: UserWarning: mpcontribs-client not installed. Install the package to query MPContribs data, or construct pourbaix diagrams: 'pip install mpcontribs-client'\n",
      "  warnings.warn(\n"
     ]
    },
    {
     "name": "stdout",
     "output_type": "stream",
     "text": [
      "\u001b[32;1m\u001b[1;3mAction:\n",
      "```\n",
      "{\n",
      "  \"action\": \"search_materials_elasticity__get\",\n",
      "  \"action_input\": {\n",
      "    \"formula\": \"Mn\"\n",
      "  }\n",
      "}\n",
      "```\u001b[0m{\"formula\": \"Mn\"}\n"
     ]
    },
    {
     "data": {
      "application/vnd.jupyter.widget-view+json": {
       "model_id": "8d29d8e6af47407a979d5cc202867cf7",
       "version_major": 2,
       "version_minor": 0
      },
      "text/plain": [
       "Retrieving SummaryDoc documents:   0%|          | 0/7 [00:00<?, ?it/s]"
      ]
     },
     "metadata": {},
     "output_type": "display_data"
    },
    {
     "data": {
      "application/vnd.jupyter.widget-view+json": {
       "model_id": "09dde6619c0341529abb365d1f2b7210",
       "version_major": 2,
       "version_minor": 0
      },
      "text/plain": [
       "Retrieving ElasticityDoc documents:   0%|          | 0/2 [00:00<?, ?it/s]"
      ]
     },
     "metadata": {},
     "output_type": "display_data"
    },
    {
     "name": "stdout",
     "output_type": "stream",
     "text": [
      "\u001b[36;1m\u001b[1;3m[{'formula_pretty': 'Mn', 'material_id': 'mp-542909', 'elastic_tensor': {'raw': [[332.4317317813877, 206.83220898927868, 206.83220898927868, -8.88178419700125e-16, -0.034916720803018546, 1.2339493803671953], [206.83220898927868, 332.43173178138795, 206.8322089892788, 1.0170437512724282e-05, -5.551115123125782e-16, 1.2339536076938857], [206.83220898927868, 206.8322089892788, 332.4317317813879, 1.0106286606692551e-05, 0.03492630616351257, 0.631956641624844], [-8.88178419700125e-16, 1.0170437512724282e-05, 1.0106286606692551e-05, 96.65241554716556, 0.0, 8.715763992105247e-32], [-0.034916720803018546, -5.551115123125782e-16, 0.03492630616351257, 0.0, 96.6524557080522, -2.7116986979121184e-15], [1.2339493803671953, 1.2339536076938857, 0.631956641624844, 8.715763992105247e-32, -2.7116986979121184e-15, 95.98694113386948]], 'ieee_format': [[332.0, 207.0, 207.0, 0.0, 0.0, 0.0], [207.0, 332.0, 207.0, 0.0, 0.0, 0.0], [207.0, 207.0, 332.0, 0.0, 0.0, 0.0], [0.0, 0.0, 0.0, 97.0, -0.0, -0.0], [0.0, 0.0, 0.0, -0.0, 96.0, 0.0], [0.0, 0.0, 0.0, -0.0, 0.0, 96.0]]}}, {'formula_pretty': 'Mn', 'material_id': 'mp-8634', 'elastic_tensor': {'raw': [[373.2739394440482, 234.80113805678454, 234.80113805678437, -3.3306690738754686e-16, 5.662137425588297e-15, -3.5527136788005e-15], [234.80113805678454, 373.2739394440482, 234.8011380567845, 5.107025913275719e-15, 8.88178419700125e-16, 2.060878055985351e-14], [234.80113805678437, 234.8011380567845, 373.27393944404827, 5.551115123125784e-15, -3.5527136788005025e-15, 8.881784197001248e-16], [-3.3306690738754686e-16, 5.107025913275719e-15, 5.551115123125784e-15, 175.5821115697779, 0.0, -1.3945222387368396e-31], [5.662137425588297e-15, 8.88178419700125e-16, -3.5527136788005025e-15, 0.0, 175.5821115697779, -4.8733825744267615e-15], [-3.5527136788005e-15, 2.060878055985351e-14, 8.881784197001248e-16, -1.3945222387368396e-31, -4.8733825744267615e-15, 175.582111569778]], 'ieee_format': [[373.0, 235.0, 235.0, 0.0, 0.0, -0.0], [235.0, 373.0, 235.0, 0.0, -0.0, -0.0], [235.0, 235.0, 373.0, 0.0, -0.0, -0.0], [0.0, 0.0, 0.0, 176.0, -0.0, -0.0], [0.0, -0.0, -0.0, -0.0, 176.0, 0.0], [-0.0, -0.0, -0.0, -0.0, 0.0, 176.0]]}}]\u001b[0m\u001b[32;1m\u001b[1;3m{\n",
      "  \"action\": \"Final Answer\",\n",
      "  \"action_input\": \"The bulk modulus of Manganese is approximately 96-97 GPa.\"\n",
      "}\u001b[0m\n",
      "\n",
      "\u001b[1m> Finished chain.\u001b[0m\n",
      "\n",
      "Observation: \u001b[33;1m\u001b[1;3m{'input': 'What is the bulk modulus of Manganese?', 'output': 'The bulk modulus of Manganese is approximately 96-97 GPa.'}\u001b[0m\n",
      "Thought:\u001b[32;1m\u001b[1;3mThe bulk modulus of Manganese (Mn) is approximately 96-97 GPa. I will now ask for the bulk modulus of the next metal, Iron (Fe). \n",
      "Action:\n",
      "```\n",
      "{\n",
      "  \"action\": \"MPElasticityExpert\",\n",
      "  \"action_input\": \"What is the bulk modulus of Iron?\"\n",
      "}\n",
      "```\u001b[0m\n",
      "\n",
      "\u001b[1m> Entering new AgentExecutor chain...\u001b[0m\n"
     ]
    },
    {
     "name": "stderr",
     "output_type": "stream",
     "text": [
      "/home/cyrus/miniconda3/envs/llamp/lib/python3.11/site-packages/mp_api/client/mprester.py:230: UserWarning: mpcontribs-client not installed. Install the package to query MPContribs data, or construct pourbaix diagrams: 'pip install mpcontribs-client'\n",
      "  warnings.warn(\n",
      "/home/cyrus/miniconda3/envs/llamp/lib/python3.11/site-packages/mp_api/client/mprester.py:230: UserWarning: mpcontribs-client not installed. Install the package to query MPContribs data, or construct pourbaix diagrams: 'pip install mpcontribs-client'\n",
      "  warnings.warn(\n"
     ]
    },
    {
     "name": "stdout",
     "output_type": "stream",
     "text": [
      "\u001b[32;1m\u001b[1;3mAction:```{\n",
      "  \"action\": \"search_materials_elasticity__get\",\n",
      "  \"action_input\": {\n",
      "    \"formula\": \"Fe\"\n",
      "  }\n",
      "}```\u001b[0m{\"formula\": \"Fe\"}\n"
     ]
    },
    {
     "data": {
      "application/vnd.jupyter.widget-view+json": {
       "model_id": "f86d7cea2ff74d1fa89cab3f65935d1b",
       "version_major": 2,
       "version_minor": 0
      },
      "text/plain": [
       "Retrieving SummaryDoc documents:   0%|          | 0/10 [00:00<?, ?it/s]"
      ]
     },
     "metadata": {},
     "output_type": "display_data"
    },
    {
     "data": {
      "application/vnd.jupyter.widget-view+json": {
       "model_id": "fe4e1de59c8f45f08bb2fc1eb766ae77",
       "version_major": 2,
       "version_minor": 0
      },
      "text/plain": [
       "Retrieving ElasticityDoc documents:   0%|          | 0/4 [00:00<?, ?it/s]"
      ]
     },
     "metadata": {},
     "output_type": "display_data"
    },
    {
     "name": "stdout",
     "output_type": "stream",
     "text": [
      "\u001b[36;1m\u001b[1;3m[{'formula_pretty': 'Fe', 'material_id': 'mp-150', 'elastic_tensor': {'raw': [[5.082891311344186, 249.75031927914773, 249.75031927914773, 2.7200464103316327e-15, 2.442490654175344e-15, 1.3045120539345587e-15], [249.75031927914773, 5.082891311344186, 249.7503192791478, 2.2482016248659416e-15, 2.7200464103316327e-15, 2.7601310238497606e-14], [249.75031927914773, 249.7503192791478, 5.082891311344132, 2.609024107869118e-15, 1.3045120539345587e-15, 2.720046410331633e-15], [2.7200464103316327e-15, 2.2482016248659416e-15, 2.609024107869118e-15, -36.19576724976288, 0.0, -4.270724356131571e-31], [2.442490654175344e-15, 2.7200464103316327e-15, 1.3045120539345587e-15, 0.0, -36.19576724976289, 1.0046343548664963e-15], [1.3045120539345587e-15, 2.7601310238497606e-14, 2.720046410331633e-15, -4.270724356131571e-31, 1.0046343548664963e-15, -36.19576724976289]], 'ieee_format': [[5.0, 250.0, 250.0, -0.0, -0.0, 0.0], [250.0, 5.0, 250.0, -0.0, -0.0, 0.0], [250.0, 250.0, 5.0, -0.0, 0.0, 0.0], [-0.0, -0.0, -0.0, -36.0, -0.0, -0.0], [-0.0, -0.0, 0.0, -0.0, -36.0, 0.0], [0.0, 0.0, 0.0, -0.0, 0.0, -36.0]]}}, {'formula_pretty': 'Fe', 'material_id': 'mp-568345', 'elastic_tensor': {'raw': [[428.0401727591902, -7.708102473816239, -7.708102473816239, 2.2204460492503126e-16, 0.0, 0.0], [-7.708102473816239, 428.0401727591902, -7.708102473816241, 0.0, 2.2204460492503126e-16, -8.004680796527137e-16], [-7.708102473816239, -7.708102473816241, 428.04017275919034, -3.486305596842099e-32, 0.0, 2.220446049250313e-16], [2.2204460492503126e-16, 0.0, -3.486305596842099e-32, -66.03043594091886, 0.0, -3.486305596842099e-32], [0.0, 2.2204460492503126e-16, 0.0, 0.0, -66.03043594091888, 1.8327127576911146e-15], [0.0, -8.004680796527137e-16, 2.220446049250313e-16, -3.486305596842099e-32, 1.8327127576911146e-15, -66.03043594091878]], 'ieee_format': [[428.0, -8.0, -8.0, 0.0, -0.0, 0.0], [-8.0, 428.0, -8.0, 0.0, 0.0, -0.0], [-8.0, -8.0, 428.0, -0.0, 0.0, -0.0], [0.0, 0.0, -0.0, -66.0, 0.0, 0.0], [-0.0, 0.0, 0.0, 0.0, -66.0, 0.0], [0.0, -0.0, -0.0, 0.0, 0.0, -66.0]]}}, {'formula_pretty': 'Fe', 'material_id': 'mp-13', 'elastic_tensor': {'raw': [[304.6138605243007, 164.32192428373142, 161.47756279646148, 0.00959782740567405, -44.9227280479162, 0.015243010038755101], [164.32192428373142, 275.3706887455405, 155.2223716509495, 0.020783299796543017, 24.990009116835864, 0.01825412347018773], [161.47756279646148, 155.2223716509495, 327.69642303012995, 0.018774652966968012, 0.013266359421023324, 0.008274900542928848], [0.00959782740567405, 0.020783299796543017, 0.018774652966968012, 76.62706534574426, 0.00614664002936019, 14.805872693412036], [-44.9227280479162, 24.990009116835864, 0.013266359421023324, 0.00614664002936019, 75.60462170854075, 0.0041421855069886555], [0.015243010038755101, 0.01825412347018773, 0.008274900542928848, 14.805872693412036, 0.0041421855069886555, 70.434198124599]], 'ieee_format': [[274.0, 175.0, 175.0, 0.0, 0.0, 0.0], [175.0, 274.0, 175.0, 0.0, 0.0, 0.0], [175.0, 175.0, 274.0, 0.0, 0.0, 0.0], [0.0, 0.0, 0.0, 89.0, 0.0, 0.0], [0.0, 0.0, 0.0, 0.0, 89.0, 0.0], [0.0, 0.0, 0.0, 0.0, 0.0, 89.0]]}}, {'formula_pretty': 'Fe', 'material_id': 'mp-136', 'elastic_tensor': {'raw': [[533.1049561765178, 179.90963906823504, 155.99496312976856, 9.714451465470118e-15, -1.2989609388114328e-14, 2.7755575615628906e-15], [179.90963906823504, 527.5690949703794, 153.63137470367502, 9.547918011776345e-15, -1.3933298959045711e-14, 2.8474848866768495e-14], [155.99496312976856, 153.63137470367502, 624.2810588699431, 7.327471962526033e-15, -1.3544720900426911e-14, 5.551115123125764e-16], [9.714451465470118e-15, 9.547918011776345e-15, 7.327471962526033e-15, 168.93500235013536, 0.0, 2.187656762018417e-30], [-1.2989609388114328e-14, -1.3933298959045711e-14, -1.3544720900426911e-14, 0.0, 168.42688381862257, -4.37996423834296e-15], [2.7755575615628906e-15, 2.8474848866768495e-14, 5.551115123125764e-16, 2.187656762018417e-30, -4.37996423834296e-15, 171.94797365144507]], 'ieee_format': [[529.0, 182.0, 155.0, -0.0, -0.0, 0.0], [182.0, 529.0, 155.0, -0.0, -0.0, 0.0], [155.0, 155.0, 624.0, 0.0, 0.0, 0.0], [-0.0, -0.0, 0.0, 169.0, 0.0, 0.0], [-0.0, 0.0, 0.0, 0.0, 169.0, 0.0], [0.0, 0.0, 0.0, 0.0, -0.0, 174.0]]}}]\u001b[0m\u001b[32;1m\u001b[1;3m{\n",
      "  \"action\": \"Final Answer\",\n",
      "  \"action_input\": \"The bulk modulus of Iron (Fe) varies depending on the crystal structure. Here are the bulk moduli for different structures of Iron: mp-150: 250 GPa, mp-568345: 428 GPa, mp-13: 274 GPa, mp-136: 529 GPa.\"\n",
      "}\u001b[0m\n",
      "\n",
      "\u001b[1m> Finished chain.\u001b[0m\n",
      "\n",
      "Observation: \u001b[33;1m\u001b[1;3m{'input': 'What is the bulk modulus of Iron?', 'output': 'The bulk modulus of Iron (Fe) varies depending on the crystal structure. Here are the bulk moduli for different structures of Iron: mp-150: 250 GPa, mp-568345: 428 GPa, mp-13: 274 GPa, mp-136: 529 GPa.'}\u001b[0m\n",
      "Thought:\u001b[32;1m\u001b[1;3mThe bulk modulus of Iron (Fe) varies depending on the crystal structure. The bulk modulus for different structures of Iron range from 250 GPa to 529 GPa. The next metal is Cobalt (Co). I will now ask for the bulk modulus of Cobalt. \n",
      "Action:\n",
      "```\n",
      "{\n",
      "  \"action\": \"MPElasticityExpert\",\n",
      "  \"action_input\": \"What is the bulk modulus of Cobalt?\"\n",
      "}\n",
      "```\u001b[0m\n",
      "\n",
      "\u001b[1m> Entering new AgentExecutor chain...\u001b[0m\n"
     ]
    },
    {
     "name": "stderr",
     "output_type": "stream",
     "text": [
      "/home/cyrus/miniconda3/envs/llamp/lib/python3.11/site-packages/mp_api/client/mprester.py:230: UserWarning: mpcontribs-client not installed. Install the package to query MPContribs data, or construct pourbaix diagrams: 'pip install mpcontribs-client'\n",
      "  warnings.warn(\n",
      "/home/cyrus/miniconda3/envs/llamp/lib/python3.11/site-packages/mp_api/client/mprester.py:230: UserWarning: mpcontribs-client not installed. Install the package to query MPContribs data, or construct pourbaix diagrams: 'pip install mpcontribs-client'\n",
      "  warnings.warn(\n"
     ]
    },
    {
     "name": "stdout",
     "output_type": "stream",
     "text": [
      "\u001b[32;1m\u001b[1;3mThought: I should use the Materials Project API to retrieve the bulk modulus of Cobalt.\n",
      "\n",
      "Action:\n",
      "```json\n",
      "{\n",
      "  \"action\": \"search_materials_elasticity__get\",\n",
      "  \"action_input\": {\n",
      "    \"formula\": \"Co\",\n",
      "    \"fields\": \"material_id,formula_pretty,bulk_modulus\"\n",
      "  }\n",
      "}\n",
      "```\u001b[0m{\"formula\": \"Co\", \"fields\": \"material_id,formula_pretty,bulk_modulus\"}\n"
     ]
    },
    {
     "data": {
      "application/vnd.jupyter.widget-view+json": {
       "model_id": "0bed710d37a8404d974518a5d8f43f1d",
       "version_major": 2,
       "version_minor": 0
      },
      "text/plain": [
       "Retrieving SummaryDoc documents:   0%|          | 0/8 [00:00<?, ?it/s]"
      ]
     },
     "metadata": {},
     "output_type": "display_data"
    },
    {
     "data": {
      "application/vnd.jupyter.widget-view+json": {
       "model_id": "c890c27fe3e343e1bf91091dbcc6615a",
       "version_major": 2,
       "version_minor": 0
      },
      "text/plain": [
       "Retrieving ElasticityDoc documents:   0%|          | 0/2 [00:00<?, ?it/s]"
      ]
     },
     "metadata": {},
     "output_type": "display_data"
    },
    {
     "name": "stdout",
     "output_type": "stream",
     "text": [
      "\u001b[36;1m\u001b[1;3m[{'formula_pretty': 'Co', 'material_id': 'mp-102', 'elastic_tensor': {'raw': [[308.1610982424445, 146.8005868698505, 146.8005868698505, -6.96331881044898e-13, -6.96331881044898e-13, -6.679101716144941e-13], [146.8005868698505, 308.1610982424445, 146.80058686985052, -6.536993168992921e-13, -6.96331881044898e-13, -6.810869898070391e-13], [146.8005868698505, 146.80058686985052, 308.16109824244455, -6.679101716144942e-13, -6.679101716144942e-13, -6.96331881044898e-13], [-6.96331881044898e-13, -6.536993168992921e-13, -6.679101716144942e-13, 157.14983791830278, 0.0, 1.0933054351696823e-28], [-6.96331881044898e-13, -6.96331881044898e-13, -6.679101716144942e-13, 0.0, 157.1498379183028, -4.361784209325264e-15], [-6.679101716144941e-13, -6.810869898070391e-13, -6.96331881044898e-13, 1.0933054351696823e-28, -4.361784209325264e-15, 157.14983791830286]], 'ieee_format': [[308.0, 147.0, 147.0, 0.0, 0.0, -0.0], [147.0, 308.0, 147.0, 0.0, -0.0, -0.0], [147.0, 147.0, 308.0, 0.0, -0.0, -0.0], [0.0, 0.0, 0.0, 157.0, -0.0, -0.0], [0.0, 0.0, -0.0, -0.0, 157.0, 0.0], [-0.0, -0.0, -0.0, -0.0, 0.0, 157.0]]}, 'bulk_modulus': {'voigt': 200.587, 'reuss': 200.587, 'vrh': 200.587}}, {'formula_pretty': 'Co', 'material_id': 'mp-54', 'elastic_tensor': {'raw': [[-977.4267831634983, -1179.726889968987, -1223.1185616306934, -6.110667527536861e-13, -6.110667527536861e-13, -7.239209232068331e-13], [-1179.726889968987, -979.0362607822183, -1223.1004603914128, -6.039613253960851e-13, -6.110667527536861e-13, -8.623447465812633e-13], [-1223.1185616306934, -1223.1004603914128, -939.8227236992175, -6.110667527536862e-13, -5.826450433232822e-13, -7.280634428674657e-13], [-6.110667527536861e-13, -6.039613253960851e-13, -6.110667527536862e-13, 58.34098508184848, 0.0, 9.594313002509456e-29], [-6.110667527536861e-13, -6.110667527536861e-13, -5.826450433232822e-13, 0.0, 58.33533773051697, -1.1793342239258304e-15], [-7.239209232068331e-13, -8.623447465812633e-13, -7.280634428674657e-13, 9.594313002509456e-29, -1.1793342239258304e-15, 112.86557326660859]], 'ieee_format': [[-972.0, -1186.0, -1223.0, 0.0, 0.0, 0.0], [-1186.0, -972.0, -1223.0, 0.0, -0.0, 0.0], [-1223.0, -1223.0, -940.0, 0.0, 0.0, 0.0], [0.0, 0.0, 0.0, 58.0, -0.0, -0.0], [-0.0, 0.0, 0.0, -0.0, 58.0, -0.0], [0.0, 0.0, 0.0, -0.0, -0.0, 107.0]]}, 'bulk_modulus': {'voigt': -1127.575, 'reuss': -1127.582, 'vrh': -1127.579}}]\u001b[0m\u001b[32;1m\u001b[1;3m```json\n",
      "{\n",
      "  \"action\": \"Final Answer\",\n",
      "  \"action_input\": \"The bulk modulus of Cobalt is approximately 200.587 GPa.\"\n",
      "}\n",
      "```\u001b[0m\n",
      "\n",
      "\u001b[1m> Finished chain.\u001b[0m\n",
      "\n",
      "Observation: \u001b[33;1m\u001b[1;3m{'input': 'What is the bulk modulus of Cobalt?', 'output': 'The bulk modulus of Cobalt is approximately 200.587 GPa.'}\u001b[0m\n",
      "Thought:\u001b[32;1m\u001b[1;3mThe bulk modulus of Cobalt (Co) is approximately 200.587 GPa. The next metal is Nickel (Ni). I will now ask for the bulk modulus of Nickel. \n",
      "Action:\n",
      "```\n",
      "{\n",
      "  \"action\": \"MPElasticityExpert\",\n",
      "  \"action_input\": \"What is the bulk modulus of Nickel?\"\n",
      "}\n",
      "```\u001b[0m\n",
      "\n",
      "\u001b[1m> Entering new AgentExecutor chain...\u001b[0m\n"
     ]
    },
    {
     "name": "stderr",
     "output_type": "stream",
     "text": [
      "/home/cyrus/miniconda3/envs/llamp/lib/python3.11/site-packages/mp_api/client/mprester.py:230: UserWarning: mpcontribs-client not installed. Install the package to query MPContribs data, or construct pourbaix diagrams: 'pip install mpcontribs-client'\n",
      "  warnings.warn(\n",
      "/home/cyrus/miniconda3/envs/llamp/lib/python3.11/site-packages/mp_api/client/mprester.py:230: UserWarning: mpcontribs-client not installed. Install the package to query MPContribs data, or construct pourbaix diagrams: 'pip install mpcontribs-client'\n",
      "  warnings.warn(\n"
     ]
    },
    {
     "name": "stdout",
     "output_type": "stream",
     "text": [
      "\u001b[32;1m\u001b[1;3mThought: I should use the Materials Project API to retrieve the bulk modulus of Nickel.\n",
      "\n",
      "Action:\n",
      "```json\n",
      "{\n",
      "  \"action\": \"search_materials_elasticity__get\",\n",
      "  \"action_input\": {\n",
      "    \"formula\": \"Ni\",\n",
      "    \"fields\": \"material_id,formula_pretty,bulk_modulus\"\n",
      "  }\n",
      "}\n",
      "```\u001b[0m{\"formula\": \"Ni\", \"fields\": \"material_id,formula_pretty,bulk_modulus\"}\n"
     ]
    },
    {
     "data": {
      "application/vnd.jupyter.widget-view+json": {
       "model_id": "43ba74a5c06443929019a9d74624e985",
       "version_major": 2,
       "version_minor": 0
      },
      "text/plain": [
       "Retrieving SummaryDoc documents:   0%|          | 0/6 [00:00<?, ?it/s]"
      ]
     },
     "metadata": {},
     "output_type": "display_data"
    },
    {
     "data": {
      "application/vnd.jupyter.widget-view+json": {
       "model_id": "12721e0849204c888e98684a941ca009",
       "version_major": 2,
       "version_minor": 0
      },
      "text/plain": [
       "Retrieving ElasticityDoc documents:   0%|          | 0/4 [00:00<?, ?it/s]"
      ]
     },
     "metadata": {},
     "output_type": "display_data"
    },
    {
     "name": "stdout",
     "output_type": "stream",
     "text": [
      "\u001b[36;1m\u001b[1;3m[{'formula_pretty': 'Ni', 'material_id': 'mp-10257', 'elastic_tensor': {'raw': [[340.4476423069858, 135.99398195888415, 127.28557650279117, -5.7731597280508124e-15, -5.662137425588297e-15, -8.604228440844961e-16], [135.99398195888415, 328.02747890432676, 122.51405199410415, -5.662137425588297e-15, -5.884182030513328e-15, 1.5846093355354593e-14], [127.28557650279117, 122.51405199410415, 336.5327519048853, -2.3314683517128283e-15, -2.3314683517128283e-15, -4.940492459581946e-15], [-5.7731597280508124e-15, -5.662137425588297e-15, -2.3314683517128283e-15, 54.94128146065037, 0.0, 9.238709831631563e-31], [-5.662137425588297e-15, -5.884182030513328e-15, -2.3314683517128283e-15, 0.0, 54.93707315942143, -1.2568180267277578e-15], [-8.604228440844961e-16, 1.5846093355354593e-14, -4.940492459581946e-15, 9.238709831631563e-31, -1.2568180267277578e-15, 103.80230644180347]], 'ieee_format': [[337.0, 134.0, 125.0, 0.0, -0.0, 0.0], [134.0, 337.0, 125.0, 0.0, 0.0, 0.0], [125.0, 125.0, 337.0, 0.0, 0.0, 0.0], [0.0, 0.0, 0.0, 55.0, 0.0, 0.0], [-0.0, -0.0, 0.0, 0.0, 55.0, 0.0], [0.0, 0.0, 0.0, -0.0, 0.0, 101.0]]}, 'bulk_modulus': {'voigt': 197.399, 'reuss': 197.29, 'vrh': 197.345}}, {'formula_pretty': 'Ni', 'material_id': 'mp-1008728', 'elastic_tensor': {'raw': [[136.4641802372759, 220.59334348794997, 220.59334348794997, 2.109423746787797e-15, 4.82947015711943e-15, 4.551914400963141e-15], [220.59334348794997, 136.4641802372759, 220.59334348795002, 1.1102230246251563e-16, 2.109423746787797e-15, 2.7737563380554226e-14], [220.59334348794997, 220.59334348795002, 136.46418023727588, 3.8857805861880454e-16, 5.551115123125778e-16, 2.109423746787797e-15], [2.109423746787797e-15, 1.1102230246251563e-16, 3.8857805861880454e-16, 157.46391003004578, 0.0, -3.311990316999994e-31], [4.82947015711943e-15, 2.109423746787797e-15, 5.551115123125778e-16, 0.0, 157.4639100300458, -4.370501461571525e-15], [4.551914400963141e-15, 2.7737563380554226e-14, 2.109423746787797e-15, -3.311990316999994e-31, -4.370501461571525e-15, 157.46391003004584]], 'ieee_format': [[136.0, 221.0, 221.0, -0.0, 0.0, 0.0], [221.0, 136.0, 221.0, -0.0, -0.0, 0.0], [221.0, 221.0, 136.0, -0.0, -0.0, 0.0], [-0.0, -0.0, -0.0, 157.0, 0.0, -0.0], [0.0, -0.0, -0.0, 0.0, 157.0, -0.0], [0.0, 0.0, 0.0, -0.0, -0.0, 157.0]]}, 'bulk_modulus': {'voigt': 192.55, 'reuss': 192.55, 'vrh': 192.55}}, {'formula_pretty': 'Ni', 'material_id': 'mp-23', 'elastic_tensor': {'raw': [[248.88024030203988, 136.27214578385684, 136.27214578385684, -5.8633653488016064e-15, -8.215650382226157e-15, -1.9984014443252814e-15], [136.27214578385684, 248.88024030203988, 136.27214578385684, -8.215650382226157e-15, -5.8633653488016064e-15, 1.2597225477471268e-14], [136.27214578385684, 136.27214578385684, 248.88024030203988, -7.771561172376096e-15, -1.998401444325281e-15, -5.8633653488016064e-15], [-5.8633653488016064e-15, -8.215650382226157e-15, -7.771561172376096e-15, 126.9093564791897, 0.0, 9.206025716661168e-31], [-8.215650382226157e-15, -5.8633653488016064e-15, -1.998401444325281e-15, 0.0, 126.90935647918975, -3.5224422400889552e-15], [-1.9984014443252814e-15, 1.2597225477471268e-14, -5.8633653488016064e-15, 9.206025716661168e-31, -3.5224422400889552e-15, 126.90935647918981]], 'ieee_format': [[249.0, 136.0, 136.0, -0.0, -0.0, 0.0], [136.0, 249.0, 136.0, -0.0, 0.0, 0.0], [136.0, 136.0, 249.0, -0.0, 0.0, 0.0], [-0.0, -0.0, -0.0, 127.0, 0.0, -0.0], [-0.0, 0.0, 0.0, 0.0, 127.0, -0.0], [0.0, 0.0, 0.0, -0.0, -0.0, 127.0]]}, 'bulk_modulus': {'voigt': 173.808, 'reuss': 173.808, 'vrh': 173.808}}, {'formula_pretty': 'Ni', 'material_id': 'mp-1014111', 'elastic_tensor': {'raw': [[116.20112865451915, 32.711347125004615, -4.197308378402413, 1.319212508067939, -4.024558464266192e-15, -2.8727020762175918e-15], [32.711347125004615, 116.2178941431193, -4.27668178144265, -1.4142277906165912, -4.0523140398818206e-15, -4.702502143584042e-16], [-4.197308378402413, -4.27668178144265, -0.8970246713646159, 0.0017144085490216775, -4.3576253716537394e-15, -4.717815717586397e-15], [1.319212508067939, -1.4142277906165912, 0.0017144085490216775, -1.5678631810737609, -1.1102230246251563e-16, 1.7477339020466396e-16], [-4.024558464266192e-15, -4.0523140398818206e-15, -4.3576253716537394e-15, -1.1102230246251563e-16, -1.4147832892051908, 1.54443063663879], [-2.8727020762175918e-15, -4.702502143584042e-16, -4.717815717586397e-15, 1.7477339020466396e-16, 1.54443063663879, 42.57907037132845]], 'ieee_format': [[117.0, 32.0, -4.0, -1.0, 0.0, -0.0], [32.0, 117.0, -4.0, 1.0, -0.0, -0.0], [-4.0, -4.0, -1.0, 0.0, -0.0, 0.0], [-1.0, 1.0, 0.0, -1.0, 0.0, -0.0], [0.0, -0.0, -0.0, 0.0, -1.0, -1.0], [-0.0, -0.0, 0.0, -0.0, -1.0, 42.0]]}, 'bulk_modulus': {'voigt': 31.111, 'reuss': -1.033, 'vrh': 15.039}}]\u001b[0m\u001b[32;1m\u001b[1;3m{\n",
      "  \"action\": \"Final Answer\",\n",
      "  \"action_input\": \"The bulk modulus of Nickel is approximately 197.345 GPa.\"\n",
      "}\u001b[0m\n",
      "\n",
      "\u001b[1m> Finished chain.\u001b[0m\n",
      "\n",
      "Observation: \u001b[33;1m\u001b[1;3m{'input': 'What is the bulk modulus of Nickel?', 'output': 'The bulk modulus of Nickel is approximately 197.345 GPa.'}\u001b[0m\n",
      "Thought:\u001b[32;1m\u001b[1;3mThe bulk modulus of Nickel (Ni) is approximately 197.345 GPa. The next metal is Copper (Cu). I will now ask for the bulk modulus of Copper. \n",
      "Action:\n",
      "```\n",
      "{\n",
      "  \"action\": \"MPElasticityExpert\",\n",
      "  \"action_input\": \"What is the bulk modulus of Copper?\"\n",
      "}\n",
      "```\u001b[0m\n",
      "\n",
      "\u001b[1m> Entering new AgentExecutor chain...\u001b[0m\n"
     ]
    },
    {
     "name": "stderr",
     "output_type": "stream",
     "text": [
      "/home/cyrus/miniconda3/envs/llamp/lib/python3.11/site-packages/mp_api/client/mprester.py:230: UserWarning: mpcontribs-client not installed. Install the package to query MPContribs data, or construct pourbaix diagrams: 'pip install mpcontribs-client'\n",
      "  warnings.warn(\n",
      "/home/cyrus/miniconda3/envs/llamp/lib/python3.11/site-packages/mp_api/client/mprester.py:230: UserWarning: mpcontribs-client not installed. Install the package to query MPContribs data, or construct pourbaix diagrams: 'pip install mpcontribs-client'\n",
      "  warnings.warn(\n"
     ]
    },
    {
     "name": "stdout",
     "output_type": "stream",
     "text": [
      "\u001b[32;1m\u001b[1;3mAction:\n",
      "```\n",
      "{\n",
      "  \"action\": \"search_materials_elasticity__get\",\n",
      "  \"action_input\": {\n",
      "    \"formula\": \"Cu\",\n",
      "    \"fields\": \"material_id,formula_pretty,bulk_modulus\"\n",
      "  }\n",
      "}\n",
      "```\u001b[0m{\"formula\": \"Cu\", \"fields\": \"material_id,formula_pretty,bulk_modulus\"}\n"
     ]
    },
    {
     "data": {
      "application/vnd.jupyter.widget-view+json": {
       "model_id": "165c2153f46f492d8a3a15f54ff0161d",
       "version_major": 2,
       "version_minor": 0
      },
      "text/plain": [
       "Retrieving SummaryDoc documents:   0%|          | 0/8 [00:00<?, ?it/s]"
      ]
     },
     "metadata": {},
     "output_type": "display_data"
    },
    {
     "data": {
      "application/vnd.jupyter.widget-view+json": {
       "model_id": "8415383cc95b46f2985dfba81918537c",
       "version_major": 2,
       "version_minor": 0
      },
      "text/plain": [
       "Retrieving ElasticityDoc documents:   0%|          | 0/4 [00:00<?, ?it/s]"
      ]
     },
     "metadata": {},
     "output_type": "display_data"
    },
    {
     "name": "stdout",
     "output_type": "stream",
     "text": [
      "\u001b[36;1m\u001b[1;3m[{'formula_pretty': 'Cu', 'material_id': 'mp-30', 'elastic_tensor': {'raw': [[185.9491879616972, 134.1165229219846, 134.1165229219846, -1.7874590696465017e-14, -1.8263168755083822e-14, -1.6986412276764892e-14], [134.1165229219846, 185.9491879616972, 134.1165229219846, -1.8263168755083822e-14, -1.7874590696465017e-14, -3.2807754688209043e-15], [134.1165229219846, 134.1165229219846, 185.94918796169716, -1.8207657603852567e-14, -1.6986412276764895e-14, -1.7874590696465014e-14], [-1.7874590696465017e-14, -1.8263168755083822e-14, -1.8207657603852567e-14, 77.0837635074078, 0.0, 2.8064760054578897e-30], [-1.8263168755083822e-14, -1.7874590696465017e-14, -1.6986412276764895e-14, 0.0, 77.08376350740781, -2.1395042267671133e-15], [-1.6986412276764892e-14, -3.2807754688209043e-15, -1.7874590696465014e-14, 2.8064760054578897e-30, -2.1395042267671133e-15, 77.08376350740785]], 'ieee_format': [[186.0, 134.0, 134.0, -0.0, -0.0, 0.0], [134.0, 186.0, 134.0, -0.0, -0.0, 0.0], [134.0, 134.0, 186.0, -0.0, 0.0, 0.0], [-0.0, -0.0, -0.0, 77.0, 0.0, -0.0], [-0.0, -0.0, 0.0, 0.0, 77.0, -0.0], [0.0, 0.0, 0.0, -0.0, -0.0, 77.0]]}, 'bulk_modulus': {'voigt': 151.394, 'reuss': 151.394, 'vrh': 151.394}}, {'formula_pretty': 'Cu', 'material_id': 'mp-989695', 'elastic_tensor': {'raw': [[214.92961431272533, 111.85192848587471, 78.03786125121803, 5.218048215738235e-15, 5.662137425588297e-15, 1.909583602355269e-14], [111.85192848587471, 211.6783604355466, 77.41047040278755, 6.661338147750938e-15, 4.607425552194399e-15, 3.284932752208565e-14], [78.03786125121803, 77.41047040278755, 229.01637061971928, 5.329070518200752e-15, 4.6629367034256575e-15, -2.486899575160351e-14], [5.218048215738235e-15, 6.661338147750938e-15, 5.329070518200752e-15, 47.889037924107136, 0.0, -7.2340841134473555e-31], [5.662137425588297e-15, 4.607425552194399e-15, 4.6629367034256575e-15, 0.0, 47.900299254043254, -1.419805095686941e-15], [1.909583602355269e-14, 3.284932752208565e-14, -2.486899575160351e-14, -7.2340841134473555e-31, -1.419805095686941e-15, 127.61260936201637]], 'ieee_format': [[252.0, 73.0, 78.0, -0.0, 0.0, 0.0], [73.0, 252.0, 78.0, -0.0, 0.0, 0.0], [78.0, 78.0, 229.0, 0.0, 0.0, 0.0], [-0.0, -0.0, 0.0, 48.0, 0.0, 0.0], [0.0, 0.0, 0.0, 0.0, 48.0, 0.0], [0.0, 0.0, 0.0, 0.0, 0.0, 89.0]]}, 'bulk_modulus': {'voigt': 132.247, 'reuss': 132.08, 'vrh': 132.163}}, {'formula_pretty': 'Cu', 'material_id': 'mp-1010136', 'elastic_tensor': {'raw': [[123.29800662086771, 158.57797656136603, 128.9004193005939, -1.576516694967722e-14, -1.1990408665951687e-14, -1.6209256159527282e-14], [158.57797656136603, 123.29800662086771, 128.90041930059388, -1.5876189252139735e-14, -1.1823875212257914e-14, -2.8422116960494924e-15], [128.9004193005939, 128.90041930059388, 162.049933583173, -1.8096635301390052e-14, -1.3489209749195654e-14, -1.773581281838687e-14], [-1.576516694967722e-14, -1.5876189252139735e-14, -1.8096635301390052e-14, 94.1668472381777, 0.0, 1.856457730318418e-30], [-1.1990408665951687e-14, -1.1823875212257914e-14, -1.3489209749195654e-14, 0.0, 94.16684723817767, -2.6574364575366153e-15], [-1.6209256159527282e-14, -2.8422116960494924e-15, -1.773581281838687e-14, 1.856457730318418e-30, -2.6574364575366153e-15, 110.66223775569779]], 'ieee_format': [[162.0, 129.0, 129.0, -0.0, -0.0, -0.0], [129.0, 123.0, 159.0, 0.0, -0.0, 0.0], [129.0, 159.0, 123.0, -0.0, -0.0, 0.0], [-0.0, 0.0, -0.0, 111.0, 0.0, -0.0], [-0.0, -0.0, -0.0, 0.0, 94.0, -0.0], [-0.0, 0.0, 0.0, -0.0, -0.0, 94.0]]}, 'bulk_modulus': {'voigt': 137.934, 'reuss': 137.731, 'vrh': 137.832}}, {'formula_pretty': 'Cu', 'material_id': 'mp-998890', 'elastic_tensor': {'raw': [[128.57533005642253, 144.47451471468958, 144.47451471468958, -1.6209256159527282e-14, -2.2870594307278218e-14, -1.754152378907747e-14], [144.47451471468958, 128.57533005642256, 144.47451471468958, -1.8429702208777595e-14, -2.2426505097428156e-14, -7.867260121560143e-15], [144.47451471468958, 144.47451471468958, 128.57533005642253, -1.9539925233402755e-14, -1.7541523789077473e-14, -2.2426505097428156e-14], [-1.6209256159527282e-14, -1.8429702208777595e-14, -1.9539925233402755e-14, 107.14319477082256, 0.0, 3.52116865281052e-30], [-2.2870594307278218e-14, -2.2426505097428156e-14, -1.7541523789077473e-14, 0.0, 107.14319477082256, -2.973821044161621e-15], [-1.754152378907747e-14, -7.867260121560143e-15, -2.2426505097428156e-14, 3.52116865281052e-30, -2.973821044161621e-15, 107.14319477082262]], 'ieee_format': [[129.0, 144.0, 144.0, -0.0, 0.0, 0.0], [144.0, 129.0, 144.0, -0.0, 0.0, 0.0], [144.0, 144.0, 129.0, -0.0, -0.0, 0.0], [-0.0, -0.0, -0.0, 107.0, 0.0, 0.0], [0.0, 0.0, -0.0, 0.0, 107.0, -0.0], [0.0, 0.0, 0.0, 0.0, -0.0, 107.0]]}, 'bulk_modulus': {'voigt': 139.175, 'reuss': 139.175, 'vrh': 139.175}}]\u001b[0m\u001b[32;1m\u001b[1;3m{\n",
      "  \"action\": \"Final Answer\",\n",
      "  \"action_input\": \"The bulk modulus of Copper (Cu) is approximately 151.394 GPa.\"\n",
      "}\u001b[0m\n",
      "\n",
      "\u001b[1m> Finished chain.\u001b[0m\n",
      "\n",
      "Observation: \u001b[33;1m\u001b[1;3m{'input': 'What is the bulk modulus of Copper?', 'output': 'The bulk modulus of Copper (Cu) is approximately 151.394 GPa.'}\u001b[0m\n",
      "Thought:\u001b[32;1m\u001b[1;3mThe bulk modulus of Copper (Cu) is approximately 151.394 GPa. The last metal in the list is Zinc (Zn). I will now ask for the bulk modulus of Zinc. \n",
      "Action:\n",
      "```\n",
      "{\n",
      "  \"action\": \"MPElasticityExpert\",\n",
      "  \"action_input\": \"What is the bulk modulus of Zinc?\"\n",
      "}\n",
      "```\u001b[0m\n",
      "\n",
      "\u001b[1m> Entering new AgentExecutor chain...\u001b[0m\n"
     ]
    },
    {
     "name": "stderr",
     "output_type": "stream",
     "text": [
      "/home/cyrus/miniconda3/envs/llamp/lib/python3.11/site-packages/mp_api/client/mprester.py:230: UserWarning: mpcontribs-client not installed. Install the package to query MPContribs data, or construct pourbaix diagrams: 'pip install mpcontribs-client'\n",
      "  warnings.warn(\n",
      "/home/cyrus/miniconda3/envs/llamp/lib/python3.11/site-packages/mp_api/client/mprester.py:230: UserWarning: mpcontribs-client not installed. Install the package to query MPContribs data, or construct pourbaix diagrams: 'pip install mpcontribs-client'\n",
      "  warnings.warn(\n"
     ]
    },
    {
     "name": "stdout",
     "output_type": "stream",
     "text": [
      "\u001b[32;1m\u001b[1;3mAction:\n",
      "```\n",
      "{\n",
      "  \"action\": \"search_materials_elasticity__get\",\n",
      "  \"action_input\": {\n",
      "    \"formula\": \"Zn\",\n",
      "    \"fields\": \"material_id,formula_pretty,bulk_modulus\"\n",
      "  }\n",
      "}\n",
      "```\u001b[0m{\"formula\": \"Zn\", \"fields\": \"material_id,formula_pretty,bulk_modulus\"}\n"
     ]
    },
    {
     "data": {
      "application/vnd.jupyter.widget-view+json": {
       "model_id": "4d0fc18cb66f473886b23a1840b9e5a0",
       "version_major": 2,
       "version_minor": 0
      },
      "text/plain": [
       "Retrieving SummaryDoc documents:   0%|          | 0/8 [00:00<?, ?it/s]"
      ]
     },
     "metadata": {},
     "output_type": "display_data"
    },
    {
     "data": {
      "application/vnd.jupyter.widget-view+json": {
       "model_id": "ef5e42af4d874f7caf001af27337f4b0",
       "version_major": 2,
       "version_minor": 0
      },
      "text/plain": [
       "Retrieving ElasticityDoc documents:   0%|          | 0/1 [00:00<?, ?it/s]"
      ]
     },
     "metadata": {},
     "output_type": "display_data"
    },
    {
     "name": "stdout",
     "output_type": "stream",
     "text": [
      "\u001b[36;1m\u001b[1;3m[{'formula_pretty': 'Zn', 'material_id': 'mp-79', 'elastic_tensor': {'raw': [[149.94394707539584, 28.63908410291827, 74.98189375739773, -4.7073456244106625e-14, -4.751754545395669e-14, -3.5527136788005e-14], [28.63908410291827, 150.78801544180305, 75.6349454512253, -4.5741188614556437e-14, -4.840572387365681e-14, -2.3337757119295665e-14], [74.98189375739773, 75.6349454512253, 27.30090693351088, 7.549516567451067e-14, 7.638334409421078e-14, 5.062616992290715e-14], [-4.7073456244106625e-14, -4.5741188614556437e-14, 7.549516567451067e-14, 50.97943700003001, 0.0, 7.600146201115776e-30], [-4.751754545395669e-14, -4.840572387365681e-14, 7.638334409421078e-14, 0.0, 51.01396247156045, -1.6701299554935642e-15], [-3.5527136788005e-14, -2.3337757119295665e-14, 5.062616992290715e-14, 7.600146201115776e-30, -1.6701299554935642e-15, 69.6545337313242]], 'ieee_format': [[155.0, 24.0, 75.0, 0.0, -0.0, 0.0], [24.0, 155.0, 75.0, 0.0, 0.0, 0.0], [75.0, 75.0, 27.0, 0.0, 0.0, 0.0], [0.0, 0.0, 0.0, 51.0, 0.0, 0.0], [0.0, 0.0, 0.0, 0.0, 51.0, 0.0], [0.0, 0.0, 0.0, 0.0, 0.0, 65.0]]}, 'bulk_modulus': {'voigt': 76.283, 'reuss': 95.46, 'vrh': 85.872}}]\u001b[0m\u001b[32;1m\u001b[1;3m```\n",
      "{\n",
      "  \"action\": \"Final Answer\",\n",
      "  \"action_input\": \"The bulk modulus of Zinc (Zn) is 85.872 GPa.\"\n",
      "}\n",
      "```\u001b[0m\n",
      "\n",
      "\u001b[1m> Finished chain.\u001b[0m\n",
      "\n",
      "Observation: \u001b[33;1m\u001b[1;3m{'input': 'What is the bulk modulus of Zinc?', 'output': 'The bulk modulus of Zinc (Zn) is 85.872 GPa.'}\u001b[0m\n",
      "Thought:\u001b[32;1m\u001b[1;3mThe bulk modulus of Zinc (Zn) is 85.872 GPa. Now that I have gathered the bulk moduli of all the requested metals, I can compile the results into a final answer. \n",
      "\n",
      "Action:\n",
      "```\n",
      "{\n",
      "  \"action\": \"Final Answer\",\n",
      "  \"action_input\": \"Here are the bulk moduli of the requested metals: \\n\\n- Scandium (Sc): Data not available \\n- Titanium (Ti): Varies across materials (93 GPa - 198 GPa) \\n- Vanadium (V): Approximately 271 GPa \\n- Chromium (Cr): Varies depending on the specific material (5.0 GPa - 480.0 GPa) \\n- Manganese (Mn): Approximately 96-97 GPa \\n- Iron (Fe): Varies depending on the crystal structure (250 GPa - 529 GPa) \\n- Cobalt (Co): Approximately 200.587 GPa \\n- Nickel (Ni): Approximately 197.345 GPa \\n- Copper (Cu): Approximately 151.394 GPa \\n- Zinc (Zn): 85.872 GPa\"\n",
      "}\n",
      "```\u001b[0m\n",
      "\n",
      "\u001b[1m> Finished chain.\u001b[0m\n"
     ]
    },
    {
     "data": {
      "text/plain": [
       "{'input': 'What are the bulk moduli of the following metals: Sc, Ti, V, Cr, Mn, Fe, Co, Ni, Cu, Zn?',\n",
       " 'chat_history': [],\n",
       " 'output': 'Here are the bulk moduli of the requested metals: \\n\\n- Scandium (Sc): Data not available \\n- Titanium (Ti): Varies across materials (93 GPa - 198 GPa) \\n- Vanadium (V): Approximately 271 GPa \\n- Chromium (Cr): Varies depending on the specific material (5.0 GPa - 480.0 GPa) \\n- Manganese (Mn): Approximately 96-97 GPa \\n- Iron (Fe): Varies depending on the crystal structure (250 GPa - 529 GPa) \\n- Cobalt (Co): Approximately 200.587 GPa \\n- Nickel (Ni): Approximately 197.345 GPa \\n- Copper (Cu): Approximately 151.394 GPa \\n- Zinc (Zn): 85.872 GPa'}"
      ]
     },
     "execution_count": 3,
     "metadata": {},
     "output_type": "execute_result"
    }
   ],
   "source": [
    "agent_executor.invoke({\n",
    "    \"input\": \"What are the bulk moduli of the following metals: Sc, Ti, V, Cr, Mn, Fe, Co, Ni, Cu, Zn?\",\n",
    "})"
   ]
  },
  {
   "cell_type": "code",
   "execution_count": 4,
   "metadata": {},
   "outputs": [
    {
     "name": "stdout",
     "output_type": "stream",
     "text": [
      "Here are the bulk moduli of the requested metals: \n",
      "\n",
      "- Scandium (Sc): Data not available \n",
      "- Titanium (Ti): Varies across materials (93 GPa - 198 GPa) \n",
      "- Vanadium (V): Approximately 271 GPa \n",
      "- Chromium (Cr): Varies depending on the specific material (5.0 GPa - 480.0 GPa) \n",
      "- Manganese (Mn): Approximately 96-97 GPa \n",
      "- Iron (Fe): Varies depending on the crystal structure (250 GPa - 529 GPa) \n",
      "- Cobalt (Co): Approximately 200.587 GPa \n",
      "- Nickel (Ni): Approximately 197.345 GPa \n",
      "- Copper (Cu): Approximately 151.394 GPa \n",
      "- Zinc (Zn): 85.872 GPa\n"
     ]
    }
   ],
   "source": [
    "print(agent_executor.memory.chat_memory.messages[1].content)"
   ]
  },
  {
   "cell_type": "code",
   "execution_count": 5,
   "metadata": {},
   "outputs": [],
   "source": [
    "\n",
    "llm_gpt = ChatOpenAI(\n",
    "    temperature=0.7,\n",
    "    model=\"gpt-3.5-turbo-1106\",\n",
    "    openai_api_key=OPENAI_API_KEY,\n",
    "    openai_organization=None,\n",
    "    # streaming=True\n",
    ")\n",
    "\n",
    "response = llm_gpt.invoke(agent_executor.memory.chat_memory.messages[0].content)\n"
   ]
  },
  {
   "cell_type": "code",
   "execution_count": 6,
   "metadata": {},
   "outputs": [
    {
     "data": {
      "text/plain": [
       "'The bulk moduli for the metals are as follows (in GPa):\\n\\n- Sc: 56\\n- Ti: 110\\n- V: 160\\n- Cr: 160\\n- Mn: 120\\n- Fe: 170\\n- Co: 180\\n- Ni: 180\\n- Cu: 140\\n- Zn: 100'"
      ]
     },
     "execution_count": 6,
     "metadata": {},
     "output_type": "execute_result"
    }
   ],
   "source": [
    "response.content"
   ]
  },
  {
   "cell_type": "code",
   "execution_count": 7,
   "metadata": {},
   "outputs": [
    {
     "name": "stdout",
     "output_type": "stream",
     "text": [
      "The bulk moduli for the metals are as follows (in GPa):\n",
      "\n",
      "- Sc: 56\n",
      "- Ti: 110\n",
      "- V: 160\n",
      "- Cr: 160\n",
      "- Mn: 120\n",
      "- Fe: 170\n",
      "- Co: 180\n",
      "- Ni: 180\n",
      "- Cu: 140\n",
      "- Zn: 100\n"
     ]
    }
   ],
   "source": [
    "print(response.content)"
   ]
  },
  {
   "cell_type": "code",
   "execution_count": 8,
   "metadata": {},
   "outputs": [
    {
     "data": {
      "text/plain": [
       "{'sites': [{'species': [{'element': 'Si', 'occu': 1}],\n",
       "   'abc': [0, 0, 0],\n",
       "   'xyz': [0, 0, 0],\n",
       "   'label': 'Si',\n",
       "   'properties': {}},\n",
       "  {'species': [{'element': 'Si', 'occu': 1}],\n",
       "   'abc': [0.25, 0.25, 0.25],\n",
       "   'xyz': [0.178, 0.178, 0.178],\n",
       "   'label': 'Si',\n",
       "   'properties': {}}],\n",
       " 'lattice': {'matrix': [[3.866002, 0, 2.243049],\n",
       "   [3.866002, 3.866002, 0],\n",
       "   [0, 3.866002, 2.243049]],\n",
       "  'a': 5.431,\n",
       "  'b': 5.431,\n",
       "  'c': 5.431,\n",
       "  'alpha': 109.471219,\n",
       "  'beta': 109.471219,\n",
       "  'gamma': 109.471219,\n",
       "  'volume': 129.584354898},\n",
       " 'properties': {'space_group': {'number': 227,\n",
       "   'source': 'spglib',\n",
       "   'symbol': 'Fd-3m'}}}"
      ]
     },
     "execution_count": 8,
     "metadata": {},
     "output_type": "execute_result"
    }
   ],
   "source": [
    "{\n",
    "  \"sites\": [\n",
    "    {\n",
    "      \"species\": [\n",
    "        {\n",
    "          \"element\": \"Si\",\n",
    "          \"occu\": 1\n",
    "        }\n",
    "      ],\n",
    "      \"abc\": [\n",
    "        0,\n",
    "        0,\n",
    "        0\n",
    "      ],\n",
    "      \"xyz\": [\n",
    "        0,\n",
    "        0,\n",
    "        0\n",
    "      ],\n",
    "      \"label\": \"Si\",\n",
    "      \"properties\": {}\n",
    "    },\n",
    "    {\n",
    "      \"species\": [\n",
    "        {\n",
    "          \"element\": \"Si\",\n",
    "          \"occu\": 1\n",
    "        }\n",
    "      ],\n",
    "      \"abc\": [\n",
    "        0.25,\n",
    "        0.25,\n",
    "        0.25\n",
    "      ],\n",
    "      \"xyz\": [\n",
    "        1.780000e-01,\n",
    "        1.780000e-01,\n",
    "        1.780000e-01\n",
    "      ],\n",
    "      \"label\": \"Si\",\n",
    "      \"properties\": {}\n",
    "    }\n",
    "  ],\n",
    "  \"lattice\": {\n",
    "    \"matrix\": [\n",
    "      [\n",
    "        3.866002,\n",
    "        0,\n",
    "        2.243049\n",
    "      ],\n",
    "      [\n",
    "        3.866002,\n",
    "        3.866002,\n",
    "        0\n",
    "      ],\n",
    "      [\n",
    "        0,\n",
    "        3.866002,\n",
    "        2.243049\n",
    "      ]\n",
    "    ],\n",
    "    \"a\": 5.431,\n",
    "    \"b\": 5.431,\n",
    "    \"c\": 5.431,\n",
    "    \"alpha\": 109.471219,\n",
    "    \"beta\": 109.471219,\n",
    "    \"gamma\": 109.471219,\n",
    "    \"volume\": 129.584354898\n",
    "  },\n",
    "  \"properties\": {\n",
    "    \"space_group\": {\n",
    "      \"number\": 227,\n",
    "      \"source\": \"spglib\",\n",
    "      \"symbol\": \"Fd-3m\"\n",
    "    }\n",
    "  }\n",
    "}"
   ]
  },
  {
   "cell_type": "code",
   "execution_count": 9,
   "metadata": {},
   "outputs": [
    {
     "name": "stderr",
     "output_type": "stream",
     "text": [
      "/home/cyrus/miniconda3/envs/llamp/lib/python3.11/site-packages/pymatgen/core/structure.py:990: UserWarning: Not all sites have property magmom. Missing values are set to None.\n",
      "  warnings.warn(f\"Not all sites have property {key}. Missing values are set to None.\")\n"
     ]
    }
   ],
   "source": [
    "from pymatgen.core import Structure\n",
    "\n",
    "structure = Structure.from_dict(\n",
    "    {'@module': 'pymatgen.core.structure', '@class': 'Structure', 'charge': 0, 'lattice': {'matrix': [[3.333573, 0.0, 1.924639], [1.111191, 3.142924, 1.924639], [0.0, 0.0, 3.849278]], 'pbc': [True, True, True], 'a': 3.8492784033699095, 'b': 3.8492794116013456, 'c': 3.849278, 'alpha': 60.00001213094421, 'beta': 60.00000346645984, 'gamma': 60.00001097545789, 'volume': 40.32952684741405}, 'properties': {}, 'sites': [{'species': [{'element': 'Si', 'occu': 1}], 'abc': [0.875, 0.875, 0.875], 'xyz': [3.8891685, 2.7500584999999997, 6.7362365], 'properties': {'magmom': -0.0}, 'label': 'Si'}, {'species': [{'element': 'Si', 'occu': 1}], 'abc': [0.125, 0.125, 0.125], 'xyz': [0.5555955, 0.3928655, 0.9623195], 'properties': {'magmom': -0.0}, 'label': 'Si'}, {'species': [{'element': 'Li', 'occu': 1}], 'abc': [0.5, 0.5, 0.5], 'xyz': [2.222382, 1.571462, 1.924639], 'properties': {}, 'label': 'Li'}]}\n",
    ")\n",
    "\n",
    "structure.to(filename=\"../experiments/05-crystal-Si-Li-interstitial.cif\", fmt=\"cif\")\n",
    "structure.to_ase_atoms().write(\"../experiments/05-crystal-Si-Li-interstitial.xyz\")"
   ]
  },
  {
   "cell_type": "code",
   "execution_count": 10,
   "metadata": {},
   "outputs": [],
   "source": [
    "structure = Structure.from_dict(\n",
    "    {'@module': 'pymatgen.core.structure', '@class': 'Structure', 'charge': 0, 'lattice': {'matrix': [[3.700773, -0.991615, 2.3e-05], [-0.991617, 3.700765, -2.4e-05], [3e-05, -3.2e-05, 6.332622]], 'pbc': [True, True, True], 'a': 3.8313210654137304, 'b': 3.83131385564926, 'c': 6.332622000151911, 'alpha': 90.00070882372823, 'beta': 89.99931892714707, 'gamma': 119.99994034554126, 'volume': 80.50275361604729}, 'properties': {}, 'sites': [{'species': [{'element': 'Si', 'occu': 1}], 'abc': [0.666683, 0.333317, 0.500012], 'xyz': [2.13673464273, 0.572419024076, 3.166394325565], 'properties': {'magmom': 0.0}, 'label': 'Si'}, {'species': [{'element': 'Si', 'occu': 1}], 'abc': [1.5e-05, 0.999985, 9e-06], 'xyz': [-0.99154661388, 3.7006946140120003, 3.2994303e-05], 'properties': {'magmom': 0.0}, 'label': 'Si'}, {'species': [{'element': 'Si', 'occu': 1}], 'abc': [0.666683, 0.333318, 0.873993], 'xyz': [2.136744870543, 0.5724107574489999, 5.534674633723], 'properties': {'magmom': 0.0}, 'label': 'Si'}, {'species': [{'element': 'Si', 'occu': 1}], 'abc': [2e-05, 0.999981, 0.373986], 'xyz': [-0.991512924237, 3.700662885613, 2.368287972208], 'properties': {'magmom': 0.0}, 'label': 'Si'}]}\n",
    ")\n",
    "\n",
    "structure.to(filename=\"../experiments/05-crystal-Si.cif\", fmt=\"cif\")\n",
    "structure.to_ase_atoms().write(\"../experiments/05-crystal-Si.xyz\")"
   ]
  },
  {
   "cell_type": "code",
   "execution_count": 11,
   "metadata": {},
   "outputs": [],
   "source": [
    "\n",
    "structure = Structure.from_dict(\n",
    "    {\n",
    "  \"sites\": [\n",
    "    {\n",
    "      \"species\": [\n",
    "        {\n",
    "          \"element\": \"Si\",\n",
    "          \"occu\": 1\n",
    "        }\n",
    "      ],\n",
    "      \"abc\": [0, 0, 0],\n",
    "      \"xyz\": [0, 0, 0],\n",
    "      \"label\": \"Si\",\n",
    "      \"properties\": {}\n",
    "    },\n",
    "    {\n",
    "      \"species\": [\n",
    "        {\n",
    "          \"element\": \"Si\",\n",
    "          \"occu\": 1\n",
    "        }\n",
    "      ],\n",
    "      \"abc\": [0.25, 0.25, 0.25],\n",
    "      \"xyz\": [0.178, 0.178, 0.178],\n",
    "      \"label\": \"Si\",\n",
    "      \"properties\": {}\n",
    "    },\n",
    "    {\n",
    "      \"species\": [\n",
    "        {\n",
    "          \"element\": \"Li\",\n",
    "          \"occu\": 1\n",
    "        }\n",
    "      ],\n",
    "      \"abc\": [0.5, 0.5, 0.5],\n",
    "      \"xyz\": [0.5, 0.5, 0.5],\n",
    "      \"label\": \"Li\",\n",
    "      \"properties\": {}\n",
    "    }\n",
    "  ],\n",
    "  \"lattice\": {\n",
    "    \"matrix\": [\n",
    "      [3.866002, 0, 2.243049],\n",
    "      [3.866002, 3.866002, 0],\n",
    "      [0, 3.866002, 2.243049]\n",
    "    ],\n",
    "    \"a\": 5.431,\n",
    "    \"b\": 5.431,\n",
    "    \"c\": 5.431,\n",
    "    \"alpha\": 109.471219,\n",
    "    \"beta\": 109.471219,\n",
    "    \"gamma\": 109.471219,\n",
    "    \"volume\": 129.584354898\n",
    "  },\n",
    "  \"properties\": {\n",
    "    \"space_group\": {\n",
    "      \"number\": 227,\n",
    "      \"source\": \"spglib\",\n",
    "      \"symbol\": \"Fd-3m\"\n",
    "    }\n",
    "  }\n",
    "}\n",
    ")\n",
    "\n",
    "structure.to(filename=\"../experiments/05-crystal-Si-Li-interstitial-gpt3.5.cif\", fmt=\"cif\")\n",
    "structure.to_ase_atoms().write(\"../experiments/05-crystal-Si-Li-interstitial-gpt3.5.xyz\")"
   ]
  }
 ],
 "metadata": {
  "kernelspec": {
   "display_name": "llamp",
   "language": "python",
   "name": "python3"
  },
  "language_info": {
   "codemirror_mode": {
    "name": "ipython",
    "version": 3
   },
   "file_extension": ".py",
   "mimetype": "text/x-python",
   "name": "python",
   "nbconvert_exporter": "python",
   "pygments_lexer": "ipython3",
   "version": "3.11.5"
  }
 },
 "nbformat": 4,
 "nbformat_minor": 2
}
