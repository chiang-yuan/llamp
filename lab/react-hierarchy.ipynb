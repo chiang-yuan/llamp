{
 "cells": [
  {
   "cell_type": "code",
   "execution_count": 1,
   "metadata": {},
   "outputs": [],
   "source": [
    "import os\n",
    "\n",
    "from dotenv import load_dotenv\n",
    "from langchain import hub\n",
    "from langchain.agents import AgentExecutor, AgentType, initialize_agent, load_tools\n",
    "from langchain.agents.format_scratchpad import format_log_to_str\n",
    "from langchain.agents.output_parsers import (\n",
    "    JSONAgentOutputParser,\n",
    "    ReActSingleInputOutputParser,\n",
    ")\n",
    "from langchain.chains.conversation.memory import ConversationBufferWindowMemory\n",
    "from langchain.chat_models import ChatOpenAI\n",
    "from langchain.llms import OpenAI\n",
    "from langchain.tools import ArxivQueryRun, WikipediaQueryRun, tool\n",
    "from langchain.tools.render import render_text_description_and_args, format_tool_to_openai_function\n",
    "from langchain.utilities import ArxivAPIWrapper, WikipediaAPIWrapper\n",
    "from langchain.prompts import MessagesPlaceholder\n",
    "from langchain.schema import ChatMessage, SystemMessage\n",
    "\n",
    "from llamp.mp.agents import (\n",
    "    MPSummaryExpert,\n",
    "    MPThermoExpert,\n",
    "    MPElasticityExpert,\n",
    "    MPDielectricExpert,\n",
    "    MPPiezoelectricExpert,\n",
    "    MPMagnetismExpert,\n",
    "    MPElectronicExpert,\n",
    ")\n",
    "\n",
    "load_dotenv()\n",
    "\n",
    "OPENAI_API_KEY = os.getenv(\"OPENAI_API_KEY\", None)\n",
    "\n",
    "# OPENAI_GPT_MODEL = \"gpt-4-1106-preview\"\n",
    "OPENAI_GPT_MODEL = \"gpt-3.5-turbo-1106\""
   ]
  },
  {
   "cell_type": "code",
   "execution_count": 10,
   "metadata": {},
   "outputs": [
    {
     "name": "stderr",
     "output_type": "stream",
     "text": [
      "/home/cyrus/miniconda3/envs/llamp/lib/python3.11/site-packages/mp_api/client/mprester.py:230: UserWarning: mpcontribs-client not installed. Install the package to query MPContribs data, or construct pourbaix diagrams: 'pip install mpcontribs-client'\n",
      "  warnings.warn(\n"
     ]
    }
   ],
   "source": [
    "import re\n",
    "\n",
    "mp_llm = ChatOpenAI(\n",
    "    temperature=0,\n",
    "    model=\"gpt-4-1106-preview\",\n",
    "    openai_api_key=OPENAI_API_KEY,\n",
    "    openai_organization=None,\n",
    "    max_retries=5,\n",
    "    # streaming=True\n",
    ")\n",
    "\n",
    "llm = ChatOpenAI(\n",
    "    temperature=0,\n",
    "    model=\"gpt-4\",\n",
    "    openai_api_key=OPENAI_API_KEY,\n",
    "    openai_organization=None,\n",
    "    # streaming=True\n",
    ")\n",
    "\n",
    "wikipedia = WikipediaQueryRun(api_wrapper=WikipediaAPIWrapper())\n",
    "arxiv = ArxivQueryRun(api_wrapper=ArxivAPIWrapper())\n",
    "\n",
    "tools = [\n",
    "    MPThermoExpert(llm=mp_llm).as_tool(agent_kwargs=dict(return_intermediate_steps=False)),\n",
    "    MPElasticityExpert(llm=mp_llm).as_tool(agent_kwargs=dict(return_intermediate_steps=False)),\n",
    "    MPDielectricExpert(llm=mp_llm).as_tool(agent_kwargs=dict(return_intermediate_steps=False)),\n",
    "    MPMagnetismExpert(llm=mp_llm).as_tool(agent_kwargs=dict(return_intermediate_steps=False)),\n",
    "    MPElectronicExpert(llm=mp_llm).as_tool(agent_kwargs=dict(return_intermediate_steps=False)),\n",
    "    MPSummaryExpert(llm=mp_llm).as_tool(agent_kwargs=dict(return_intermediate_steps=False)),\n",
    "    # arxiv,\n",
    "    # wikipedia,\n",
    "]\n",
    "\n",
    "prompt = hub.pull(\"hwchase17/react-multi-input-json\")\n",
    "prompt.messages[0].prompt.template = re.sub(\n",
    "    r\"\\s+\", \" \",\n",
    "    \"\"\"You are a data-aware agent that can consult materials-related\n",
    "    data through Materials Project (MP) database, arXiv, and Wikipedia. Ask \n",
    "    user to clarify their queries if needed. Please note that you don't have \n",
    "    direct control over MP but through multiple assistant agents to help you. \n",
    "    You need to provide complete context in the input for them to do their job.\n",
    "    \"\"\").replace(\"\\n\", \" \") + prompt.messages[0].prompt.template\n",
    "\n",
    "prompt = prompt.partial(\n",
    "    tools=render_text_description_and_args(tools),\n",
    "    tool_names=\", \".join([t.name for t in tools]),\n",
    ")\n",
    "\n",
    "agent = (\n",
    "    {\n",
    "        \"input\": lambda x: x[\"input\"],\n",
    "        \"agent_scratchpad\": lambda x: format_log_to_str(x[\"intermediate_steps\"]),\n",
    "    }\n",
    "    | prompt\n",
    "    | llm.bind(stop=[\"Observation\"])\n",
    "    # | map_reduce_chain  # TODO: Add map-reduce after LLM\n",
    "    | JSONAgentOutputParser()\n",
    ")\n",
    "\n",
    "\n",
    "conversational_memory = ConversationBufferWindowMemory(\n",
    "    memory_key='chat_history',\n",
    "    k=5,\n",
    "    return_messages=True\n",
    ")\n",
    "\n",
    "agent_kwargs = {\n",
    "    \"handle_parsing_errors\": True,\n",
    "    \"extra_prompt_messages\": [\n",
    "        MessagesPlaceholder(variable_name=\"chat_history\"),\n",
    "        # SystemMessage(content=re.sub(\n",
    "        #     r\"\\s+\", \" \",\n",
    "        #     \"\"\"You are a helpful data-aware agent that can consult materials-related\n",
    "        #     data through Materials Project (MP) database, arXiv, and Wikipedia. Ask \n",
    "        #     user to clarify their queries if needed. Please note that you don't have \n",
    "        #     direct control to MP but through multiple assistant agents to help you. \n",
    "        #     You need to provide complete context for them to do their job. \n",
    "        #     \"\"\").replace(\"\\n\", \" \")\n",
    "        # )\n",
    "        ],\n",
    "    # \"early_stopping_method\": 'generate',\n",
    "    # \"extra_prompt_messages\": \n",
    "    # )\n",
    "}\n",
    "\n",
    "agent_executor = initialize_agent(\n",
    "    agent=AgentType.STRUCTURED_CHAT_ZERO_SHOT_REACT_DESCRIPTION,\n",
    "    tools=tools,\n",
    "    llm=llm,\n",
    "    verbose=True,\n",
    "    max_iterations=10,\n",
    "    memory=conversational_memory,\n",
    "    agent_kwargs=agent_kwargs,\n",
    "    handle_parsing_errors=True,\n",
    ")\n",
    "\n",
    "# agent_executor = initialize_agent(\n",
    "#     tools=tools,\n",
    "#     llm=llm,\n",
    "#     agent=AgentType.ZERO_SHOT_REACT_DESCRIPTION,\n",
    "#     verbose=True,\n",
    "#     max_iterations=5,\n",
    "# )"
   ]
  },
  {
   "cell_type": "code",
   "execution_count": 15,
   "metadata": {},
   "outputs": [
    {
     "name": "stdout",
     "output_type": "stream",
     "text": [
      "\n",
      "\n",
      "\u001b[1m> Entering new AgentExecutor chain...\u001b[0m\n",
      "\u001b[32;1m\u001b[1;3mThought: The bandgap of a material is a property related to its electronic structure. Therefore, I should use the MPElectronicExpert tool to find this information.\n",
      "Action:\n",
      "```\n",
      "{\n",
      "  \"action\": \"MPElectronicExpert\",\n",
      "  \"action_input\": \"What's the bandgap of CsPbI3?\"\n",
      "}\n",
      "```\u001b[0m\n",
      "\n",
      "\u001b[1m> Entering new AgentExecutor chain...\u001b[0m\n"
     ]
    },
    {
     "name": "stderr",
     "output_type": "stream",
     "text": [
      "/home/cyrus/miniconda3/envs/llamp/lib/python3.11/site-packages/mp_api/client/mprester.py:230: UserWarning: mpcontribs-client not installed. Install the package to query MPContribs data, or construct pourbaix diagrams: 'pip install mpcontribs-client'\n",
      "  warnings.warn(\n",
      "/home/cyrus/miniconda3/envs/llamp/lib/python3.11/site-packages/mp_api/client/mprester.py:230: UserWarning: mpcontribs-client not installed. Install the package to query MPContribs data, or construct pourbaix diagrams: 'pip install mpcontribs-client'\n",
      "  warnings.warn(\n"
     ]
    },
    {
     "name": "stdout",
     "output_type": "stream",
     "text": [
      "\u001b[32;1m\u001b[1;3mAction:\n",
      "```\n",
      "{\n",
      "  \"action\": \"search_materials_electronic_structure__get\",\n",
      "  \"action_input\": {\n",
      "    \"formula\": \"CsPbI3\"\n",
      "  }\n",
      "}\n",
      "```\u001b[0m{\"formula\": \"CsPbI3\"}\n"
     ]
    },
    {
     "data": {
      "application/vnd.jupyter.widget-view+json": {
       "model_id": "50af57b1de4b4cfe9554fabdc451bc27",
       "version_major": 2,
       "version_minor": 0
      },
      "text/plain": [
       "Retrieving ElectronicStructureDoc documents:   0%|          | 0/3 [00:00<?, ?it/s]"
      ]
     },
     "metadata": {},
     "output_type": "display_data"
    },
    {
     "name": "stdout",
     "output_type": "stream",
     "text": [
      "\u001b[36;1m\u001b[1;3m[{'material_id': 'mp-1120768', 'last_updated': '2023-08-12T09:16:31.142000'}, {'material_id': 'mp-1069538', 'last_updated': '2023-08-13T07:19:55.398000'}, {'material_id': 'mp-540839', 'last_updated': '2023-08-13T15:45:51.364000'}]\u001b[0m\u001b[32;1m\u001b[1;3mAction:\n",
      "```\n",
      "{\n",
      "  \"action\": \"search_materials_electronic_structure__get\",\n",
      "  \"action_input\": {\n",
      "    \"formula\": \"CsPbI3\",\n",
      "    \"fields\": \"material_id,band_gap\"\n",
      "  }\n",
      "}\n",
      "```\u001b[0m{\"formula\": \"CsPbI3\", \"fields\": \"material_id,band_gap\"}\n"
     ]
    },
    {
     "data": {
      "application/vnd.jupyter.widget-view+json": {
       "model_id": "c38fe02402724ca2b2e39fd02718f551",
       "version_major": 2,
       "version_minor": 0
      },
      "text/plain": [
       "Retrieving ElectronicStructureDoc documents:   0%|          | 0/3 [00:00<?, ?it/s]"
      ]
     },
     "metadata": {},
     "output_type": "display_data"
    },
    {
     "name": "stdout",
     "output_type": "stream",
     "text": [
      "\u001b[36;1m\u001b[1;3m[{'band_gap': 1.6421000000000001, 'material_id': 'mp-1120768'}, {'band_gap': 1.4785000000000001, 'material_id': 'mp-1069538'}, {'band_gap': 2.5181, 'material_id': 'mp-540839'}]\u001b[0m\u001b[32;1m\u001b[1;3mAction:\n",
      "```\n",
      "{\n",
      "  \"action\": \"Final Answer\",\n",
      "  \"action_input\": \"The band gaps for CsPbI3 are as follows: 1.642 eV for material mp-1120768, 1.479 eV for material mp-1069538, and 2.518 eV for material mp-540839.\"\n",
      "}\n",
      "```\u001b[0m\n",
      "\n",
      "\u001b[1m> Finished chain.\u001b[0m\n",
      "\n",
      "Observation: \u001b[33;1m\u001b[1;3m{'input': \"What's the bandgap of CsPbI3?\", 'output': 'The band gaps for CsPbI3 are as follows: 1.642 eV for material mp-1120768, 1.479 eV for material mp-1069538, and 2.518 eV for material mp-540839.'}\u001b[0m\n",
      "Thought:\u001b[32;1m\u001b[1;3mThe MPElectronicExpert tool provided the bandgap values for different materials of CsPbI3. I can now provide this information to the user.\n",
      "Action:\n",
      "```\n",
      "{\n",
      "  \"action\": \"Final Answer\",\n",
      "  \"action_input\": \"The band gaps for CsPbI3 are as follows: 1.642 eV for material mp-1120768, 1.479 eV for material mp-1069538, and 2.518 eV for material mp-540839.\"\n",
      "}\n",
      "```\u001b[0m\n",
      "\n",
      "\u001b[1m> Finished chain.\u001b[0m\n"
     ]
    },
    {
     "data": {
      "text/plain": [
       "{'input': \"What's the bandgap of CsPbI3?\",\n",
       " 'chat_history': [HumanMessage(content=\"What's the stiffest materials with the lowest formation energy in Si-O system?\"),\n",
       "  AIMessage(content='The stiffest material in the Si-O system is SiO2, and it has a formation energy per atom that varies between -3.039 eV/atom and -2.951 eV/atom depending on the specific material entry. The material with the lowest formation energy in the Si-O system is Si2O5, but it does not have available stiffness data. Therefore, the stiffest material with the lowest formation energy in the Si-O system is SiO2.'),\n",
       "  HumanMessage(content='Could you give me any perovskite materials with high dielectric constant?'),\n",
       "  AIMessage(content='The perovskite material with a high dielectric constant is TaAgO3 (mp-9890) with a dielectric constant of 1501.07.'),\n",
       "  HumanMessage(content='Could you give me any perovskite materials with bandgap around 2eV?'),\n",
       "  AIMessage(content=\"I'm sorry, but there are no perovskite materials with a bandgap around 2eV found in the current database.\"),\n",
       "  HumanMessage(content='Could you give me any perovskite materials with bandgap around 1.2 eV?'),\n",
       "  AIMessage(content='No perovskite materials with a bandgap around 1.2 eV were found in the current database.')],\n",
       " 'output': 'The band gaps for CsPbI3 are as follows: 1.642 eV for material mp-1120768, 1.479 eV for material mp-1069538, and 2.518 eV for material mp-540839.'}"
      ]
     },
     "execution_count": 15,
     "metadata": {},
     "output_type": "execute_result"
    }
   ],
   "source": [
    "agent_executor.invoke({\n",
    "    \"input\": \"What's the bandgap of CsPbI3?\"\n",
    "})"
   ]
  },
  {
   "cell_type": "code",
   "execution_count": null,
   "metadata": {},
   "outputs": [],
   "source": []
  }
 ],
 "metadata": {
  "kernelspec": {
   "display_name": "llamp",
   "language": "python",
   "name": "python3"
  },
  "language_info": {
   "codemirror_mode": {
    "name": "ipython",
    "version": 3
   },
   "file_extension": ".py",
   "mimetype": "text/x-python",
   "name": "python",
   "nbconvert_exporter": "python",
   "pygments_lexer": "ipython3",
   "version": "3.11.5"
  }
 },
 "nbformat": 4,
 "nbformat_minor": 2
}
