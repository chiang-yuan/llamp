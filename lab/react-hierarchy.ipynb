{
	"cells": [
		{
			"cell_type": "code",
			"execution_count": 1,
			"metadata": {},
			"outputs": [],
			"source": [
				"import sys\n",
				"sys.path.append('../api/src')\n"
			]
		},
		{
			"cell_type": "code",
			"execution_count": 2,
			"metadata": {},
			"outputs": [
				{
					"name": "stderr",
					"output_type": "stream",
					"text": [
						"/Users/oliver/code/llamp/venv/lib/python3.11/site-packages/tqdm/auto.py:21: TqdmWarning: IProgress not found. Please update jupyter and ipywidgets. See https://ipywidgets.readthedocs.io/en/stable/user_install.html\n",
						"  from .autonotebook import tqdm as notebook_tqdm\n"
					]
				}
			],
			"source": [
				"import os\n",
				"\n",
				"from dotenv import load_dotenv\n",
				"from langchain import hub\n",
				"from langchain.agents import AgentExecutor, AgentType, initialize_agent, load_tools\n",
				"from langchain.agents.format_scratchpad import format_log_to_str\n",
				"from langchain.agents.output_parsers import (\n",
				"    JSONAgentOutputParser,\n",
				"    ReActSingleInputOutputParser,\n",
				")\n",
				"from langchain.chains.conversation.memory import ConversationBufferWindowMemory\n",
				"from langchain.chat_models import ChatOpenAI\n",
				"from langchain.llms import OpenAI\n",
				"from langchain.tools import ArxivQueryRun, WikipediaQueryRun, tool\n",
				"from langchain.tools.render import render_text_description_and_args, format_tool_to_openai_function\n",
				"from langchain.utilities import ArxivAPIWrapper, WikipediaAPIWrapper\n",
				"from langchain.prompts import MessagesPlaceholder\n",
				"from langchain.schema import ChatMessage, SystemMessage\n",
				"\n",
				"from llamp.mp.agents import (\n",
				"    MPSummaryExpert,\n",
				"    MPThermoExpert,\n",
				"    MPElasticityExpert,\n",
				"    MPDielectricExpert,\n",
				"    MPPiezoelectricExpert,\n",
				"    MPMagnetismExpert,\n",
				"    MPElectronicExpert,\n",
				"    MPSynthesisExpert,\n",
				"    MPStructureRetriever\n",
				")\n",
				"from llamp.arxiv.agents import ArxivAgent\n",
				"\n",
				"load_dotenv()\n",
				"\n",
				"OPENAI_API_KEY = os.getenv(\"OPENAI_API_KEY\", None)\n",
				"\n",
				"# OPENAI_GPT_MODEL = \"gpt-4-1106-preview\"\n",
				"# OPENAI_GPT_MODEL = \"gpt-3.5-turbo-1106\"\n",
				"OPENAI_GPT_MODEL = \"gpt-4\""
			]
		},
		{
			"cell_type": "code",
			"execution_count": 3,
			"metadata": {},
			"outputs": [
				{
					"name": "stderr",
					"output_type": "stream",
					"text": [
						"/Users/oliver/code/llamp/venv/lib/python3.11/site-packages/mp_api/client/mprester.py:230: UserWarning: mpcontribs-client not installed. Install the package to query MPContribs data, or construct pourbaix diagrams: 'pip install mpcontribs-client'\n",
						"  warnings.warn(\n"
					]
				}
			],
			"source": [
				"import re\n",
				"from langchain.callbacks.streaming_stdout import StreamingStdOutCallbackHandler\n",
				"\n",
				"mp_llm = ChatOpenAI(\n",
				"    temperature=0,\n",
				"    model=\"gpt-3.5-turbo-1106\",\n",
				"    openai_api_key=OPENAI_API_KEY,\n",
				"    openai_organization=None,\n",
				"    max_retries=5,\n",
				"    streaming=True,\n",
				"\tcallbacks=[StreamingStdOutCallbackHandler()],\n",
				")\n",
				"\n",
				"llm = ChatOpenAI(\n",
				"    temperature=0.7,\n",
				"    model=\"gpt-4\",\n",
				"    openai_api_key=OPENAI_API_KEY,\n",
				"    openai_organization=None,\n",
				"    streaming=True,\n",
				"\tcallbacks=[StreamingStdOutCallbackHandler()],\n",
				")\n",
				"\n",
				"wikipedia = WikipediaQueryRun(api_wrapper=WikipediaAPIWrapper())\n",
				"arxiv = ArxivQueryRun(api_wrapper=ArxivAPIWrapper())\n",
				"\n",
				"tools = [\n",
				"    MPThermoExpert(llm=mp_llm).as_tool(agent_kwargs=dict(return_intermediate_steps=False)),\n",
				"    MPElasticityExpert(llm=mp_llm).as_tool(agent_kwargs=dict(return_intermediate_steps=False)),\n",
				"    MPDielectricExpert(llm=mp_llm).as_tool(agent_kwargs=dict(return_intermediate_steps=False)),\n",
				"    MPMagnetismExpert(llm=mp_llm).as_tool(agent_kwargs=dict(return_intermediate_steps=False)),\n",
				"    MPElectronicExpert(llm=mp_llm).as_tool(agent_kwargs=dict(return_intermediate_steps=False)),\n",
				"    MPPiezoelectricExpert(llm=mp_llm).as_tool(agent_kwargs=dict(return_intermediate_steps=False)),\n",
				"    MPSummaryExpert(llm=mp_llm).as_tool(agent_kwargs=dict(return_intermediate_steps=False)),\n",
				"    MPSynthesisExpert(llm=mp_llm).as_tool(agent_kwargs=dict(return_intermediate_steps=False)),\n",
				"    MPStructureRetriever(llm=mp_llm).as_tool(agent_kwargs=dict(return_intermediate_steps=False)),\n",
				"    # ArxivAgent(llm=mp_llm).as_tool(agent_kwargs=dict(return_intermediate_steps=False)),\n",
				"    arxiv,\n",
				"    wikipedia,\n",
				"]\n",
				"tools += load_tools([\"llm-math\"], llm=mp_llm)\n",
				"\n",
				"prompt = hub.pull(\"hwchase17/react-multi-input-json\")\n",
				"prompt.messages[0].prompt.template = re.sub(\n",
				"    r\"\\s+\", \" \",\n",
				"    \"\"\"You are a data-aware agent that can consult materials-related\n",
				"    data through Materials Project (MP) database, arXiv, and Wikipedia. Ask \n",
				"    user to clarify their queries if needed. Please note that you don't have \n",
				"    direct control over MP but through multiple assistant agents to help you. \n",
				"    You need to provide complete context in the input for them to do their job.\n",
				"    \"\"\").replace(\"\\n\", \" \") + prompt.messages[0].prompt.template\n",
				"\n",
				"prompt = prompt.partial(\n",
				"    tools=render_text_description_and_args(tools),\n",
				"    tool_names=\", \".join([t.name for t in tools]),\n",
				")\n",
				"\n",
				"agent = (\n",
				"    {\n",
				"        \"input\": lambda x: x[\"input\"],\n",
				"        \"agent_scratchpad\": lambda x: format_log_to_str(x[\"intermediate_steps\"]),\n",
				"    }\n",
				"    | prompt\n",
				"    | llm.bind(stop=[\"Observation\"])\n",
				"    # | map_reduce_chain  # TODO: Add map-reduce after LLM\n",
				"    | JSONAgentOutputParser()\n",
				")\n",
				"\n",
				"\n",
				"conversational_memory = ConversationBufferWindowMemory(\n",
				"    memory_key='chat_history',\n",
				"    k=5,\n",
				"    return_messages=True\n",
				")\n",
				"\n",
				"agent_kwargs = {\n",
				"    \"handle_parsing_errors\": True,\n",
				"    \"extra_prompt_messages\": [\n",
				"        MessagesPlaceholder(variable_name=\"chat_history\"),\n",
				"        ],\n",
				"    \"early_stopping_method\": 'generate',\n",
				"}\n",
				"\n",
				"agent_executor = initialize_agent(\n",
				"    agent=AgentType.STRUCTURED_CHAT_ZERO_SHOT_REACT_DESCRIPTION,\n",
				"    tools=tools,\n",
				"    llm=llm,\n",
				"    verbose=True,\n",
				"    max_iterations=20,\n",
				"    memory=conversational_memory,\n",
				"    agent_kwargs=agent_kwargs,\n",
				"    handle_parsing_errors=True,\n",
				")"
			]
		},
		{
			"cell_type": "code",
			"execution_count": 4,
			"metadata": {},
			"outputs": [
				{
					"name": "stdout",
					"output_type": "stream",
					"text": [
						"\n",
						"\n",
						"\u001b[1m> Entering new AgentExecutor chain...\u001b[0m\n",
						"To obtain the bulk moduli of the metals mentioned, I will use the MPElasticityExpert tool for each metal. I'll start with Scandium (Sc). \n",
						"Action:\n",
						"```\n",
						"{\n",
						"  \"action\": \"MPElasticityExpert\",\n",
						"  \"action_input\": \"What is the bulk modulus of Scandium (Sc)?\"\n",
						"}\n",
						"```\u001b[32;1m\u001b[1;3mTo obtain the bulk moduli of the metals mentioned, I will use the MPElasticityExpert tool for each metal. I'll start with Scandium (Sc). \n",
						"Action:\n",
						"```\n",
						"{\n",
						"  \"action\": \"MPElasticityExpert\",\n",
						"  \"action_input\": \"What is the bulk modulus of Scandium (Sc)?\"\n",
						"}\n",
						"```\u001b[0m\n",
						"\n",
						"\u001b[1m> Entering new AgentExecutor chain...\u001b[0m\n"
					]
				},
				{
					"name": "stderr",
					"output_type": "stream",
					"text": [
						"/Users/oliver/code/llamp/venv/lib/python3.11/site-packages/mp_api/client/mprester.py:230: UserWarning: mpcontribs-client not installed. Install the package to query MPContribs data, or construct pourbaix diagrams: 'pip install mpcontribs-client'\n",
						"  warnings.warn(\n",
						"/Users/oliver/code/llamp/venv/lib/python3.11/site-packages/mp_api/client/mprester.py:230: UserWarning: mpcontribs-client not installed. Install the package to query MPContribs data, or construct pourbaix diagrams: 'pip install mpcontribs-client'\n",
						"  warnings.warn(\n"
					]
				},
				{
					"name": "stdout",
					"output_type": "stream",
					"text": [
						"Action:\n",
						"```{\n",
						"  \"action\": \"search_materials_elasticity__get\",\n",
						"  \"action_input\": {\n",
						"    \"formula\": \"Sc\"\n",
						"  }\n",
						"}```\u001b[32;1m\u001b[1;3mAction:\n",
						"```{\n",
						"  \"action\": \"search_materials_elasticity__get\",\n",
						"  \"action_input\": {\n",
						"    \"formula\": \"Sc\"\n",
						"  }\n",
						"}```\u001b[0m{\"formula\": \"Sc\"}\n"
					]
				},
				{
					"name": "stderr",
					"output_type": "stream",
					"text": [
						"Retrieving SummaryDoc documents: 100%|██████████| 10/10 [00:00<00:00, 125203.10it/s]\n",
						"Retrieving ElasticityDoc documents: 100%|██████████| 5/5 [00:00<00:00, 69212.94it/s]\n"
					]
				},
				{
					"name": "stdout",
					"output_type": "stream",
					"text": [
						"\u001b[36;1m\u001b[1;3m[{'formula_pretty': 'Sc', 'material_id': 'mp-10641', 'elastic_tensor': {'raw': [[54.47824396252669, 52.530521565025694, 52.530521565025694, -5.107025913275719e-15, -4.496403249731883e-15, -4.45476988630844e-15], [52.530521565025694, 54.47824396252669, 52.53052156502571, -5.787037515858627e-15, -5.107025913275719e-15, 9.587662765099424e-16], [52.530521565025694, 52.53052156502571, 54.47824396252669, -5.828670879282073e-15, -5.828670879282073e-15, -5.1070259132757185e-15], [-5.107025913275719e-15, -5.787037515858627e-15, -5.828670879282073e-15, 32.07361813170136, 0.0, 8.018502872736827e-31], [-4.496403249731883e-15, -5.107025913275719e-15, -5.828670879282073e-15, 0.0, 32.073618131701366, -8.902217333212434e-16], [-4.45476988630844e-15, 9.587662765099424e-16, -5.1070259132757185e-15, 8.018502872736827e-31, -8.902217333212434e-16, 32.07361813170138]], 'ieee_format': [[54.0, 53.0, 53.0, -0.0, 0.0, 0.0], [53.0, 54.0, 53.0, -0.0, -0.0, 0.0], [53.0, 53.0, 54.0, -0.0, -0.0, 0.0], [-0.0, -0.0, -0.0, 32.0, 0.0, -0.0], [0.0, -0.0, -0.0, 0.0, 32.0, -0.0], [0.0, 0.0, 0.0, -0.0, -0.0, 32.0]]}}, {'formula_pretty': 'Sc', 'material_id': 'mp-567308', 'elastic_tensor': {'raw': [[30.637116420135353, 76.22951182594439, 23.922554467219044, 2.4980018054066017e-16, -2.081668171172168e-16, 1.249000902703301e-15], [76.22951182594439, 30.637116420135357, 23.922554467219044, 8.049116928532383e-16, 3.7470027081099023e-16, 2.870970009982554e-15], [23.922554467219044, 23.922554467219044, 102.0150090342541, -4.718447854656916e-16, -4.857225732735061e-16, -6.245004513516534e-17], [2.4980018054066017e-16, 8.049116928532383e-16, -4.718447854656916e-16, 20.48837896755918, 0.0, -5.883140694671042e-32], [-2.081668171172168e-16, 3.7470027081099023e-16, -4.857225732735061e-16, 0.0, 20.488378967559186, -5.730740854256758e-16], [1.249000902703301e-15, 2.870970009982554e-15, -6.245004513516534e-17, -5.883140694671042e-32, -5.730740854256758e-16, 31.890863438492516]], 'ieee_format': [[102.0, 24.0, 24.0, 0.0, 0.0, -0.0], [24.0, 31.0, 76.0, 0.0, 0.0, -0.0], [24.0, 76.0, 31.0, -0.0, 0.0, -0.0], [0.0, 0.0, -0.0, 32.0, -0.0, 0.0], [0.0, 0.0, 0.0, -0.0, 20.0, 0.0], [-0.0, -0.0, -0.0, 0.0, 0.0, 20.0]]}}, {'formula_pretty': 'Sc', 'material_id': 'mp-1008681', 'elastic_tensor': {'raw': [[87.49398876252832, 11.577683509944523, 11.577683509944523, -4.649058915617842e-16, -5.689893001203926e-16, -5.551115123125782e-16], [11.577683509944523, 87.49398876252832, 11.577683509944524, -5.689893001203926e-16, -4.649058915617842e-16, 6.333255520125811e-16], [11.577683509944523, 11.577683509944524, 87.49398876252833, -5.551115123125783e-16, -5.551115123125783e-16, -4.649058915617841e-16], [-4.649058915617842e-16, -5.689893001203926e-16, -5.551115123125783e-16, -26.9511212318689, 0.0, 7.299452343388145e-32], [-5.689893001203926e-16, -4.649058915617842e-16, -5.551115123125783e-16, 0.0, -26.951121231868907, 7.480438832771188e-16], [-5.551115123125782e-16, 6.333255520125811e-16, -4.649058915617841e-16, 7.299452343388145e-32, 7.480438832771188e-16, -26.95112123186889]], 'ieee_format': [[87.0, 12.0, 12.0, 0.0, 0.0, 0.0], [12.0, 87.0, 12.0, 0.0, 0.0, 0.0], [12.0, 12.0, 87.0, 0.0, 0.0, 0.0], [0.0, 0.0, 0.0, -27.0, -0.0, -0.0], [0.0, 0.0, 0.0, -0.0, -27.0, 0.0], [0.0, 0.0, 0.0, -0.0, 0.0, -27.0]]}}, {'formula_pretty': 'Sc', 'material_id': 'mp-67', 'elastic_tensor': {'raw': [[104.1574697321843, 33.47246975087911, 28.657494892576103, -3.3237301799715616e-15, -2.4841240175987874e-15, -3.219646771412953e-15], [33.47246975087911, 104.79312489326712, 28.815987273059456, -3.240463453124675e-15, -2.3314683517128283e-15, 1.2598438969896193e-16], [28.657494892576103, 28.815987273059456, 100.31066199213747, -2.5951463200613034e-15, -2.1649348980190553e-15, -1.998401444325281e-15], [-3.3237301799715616e-15, -3.240463453124675e-15, -2.5951463200613034e-15, 29.151276311960835, 0.0, 3.660620876684204e-31], [-2.4841240175987874e-15, -2.3314683517128283e-15, -2.1649348980190553e-15, 0.0, 29.127385170661007, -8.073238744599182e-16], [-3.219646771412953e-15, 1.2598438969896193e-16, -1.998401444325281e-15, 3.660620876684204e-31, -8.073238744599182e-16, 31.108619513703132]], 'ieee_format': [[102.0, 36.0, 29.0, 0.0, -0.0, -0.0], [36.0, 102.0, 29.0, 0.0, 0.0, -0.0], [29.0, 29.0, 100.0, 0.0, 0.0, -0.0], [-0.0, 0.0, 0.0, 29.0, -0.0, -0.0], [-0.0, 0.0, 0.0, -0.0, 29.0, 0.0], [-0.0, -0.0, -0.0, 0.0, 0.0, 33.0]]}}, {'formula_pretty': 'Sc', 'material_id': 'mp-36', 'elastic_tensor': {'raw': [[69.26107774706311, 41.34563362150482, 41.34563362150482, -2.942091015256664e-15, -2.824129818890241e-15, -2.8033131371785195e-15], [41.34563362150482, 69.26107774706311, 41.34563362150482, -2.824129818890241e-15, -2.942091015256664e-15, 1.4972713146891558e-15], [41.34563362150482, 41.34563362150482, 69.26107774706313, -2.817190924986335e-15, -2.8033131371785207e-15, -2.942091015256664e-15], [-2.942091015256664e-15, -2.824129818890241e-15, -2.817190924986335e-15, 30.78737652446157, 0.0, 4.619354915815781e-31], [-2.824129818890241e-15, -2.942091015256664e-15, -2.8033131371785207e-15, 0.0, 30.78737652446158, -8.545213571315314e-16], [-2.8033131371785195e-15, 1.4972713146891558e-15, -2.942091015256664e-15, 4.619354915815781e-31, -8.545213571315314e-16, 30.787376524461592]], 'ieee_format': [[69.0, 41.0, 41.0, 0.0, 0.0, -0.0], [41.0, 69.0, 41.0, 0.0, 0.0, -0.0], [41.0, 41.0, 69.0, 0.0, -0.0, -0.0], [0.0, 0.0, 0.0, 31.0, -0.0, 0.0], [0.0, 0.0, -0.0, -0.0, 31.0, 0.0], [-0.0, -0.0, -0.0, -0.0, 0.0, 31.0]]}}]\u001b[0mThe bulk modulus of Scandium (Sc) is not directly provided in the elastic tensor data. I will need to calculate the bulk modulus using the elastic tensor data. Let me do that for you.\n",
						"\n",
						"Action:\n",
						"```\n",
						"{\n",
						"  \"action\": \"Final Answer\",\n",
						"  \"action_input\": \"I will calculate the bulk modulus using the elastic tensor data for Scandium (Sc).\"\n",
						"}\n",
						"```\u001b[32;1m\u001b[1;3mThe bulk modulus of Scandium (Sc) is not directly provided in the elastic tensor data. I will need to calculate the bulk modulus using the elastic tensor data. Let me do that for you.\n",
						"\n",
						"Action:\n",
						"```\n",
						"{\n",
						"  \"action\": \"Final Answer\",\n",
						"  \"action_input\": \"I will calculate the bulk modulus using the elastic tensor data for Scandium (Sc).\"\n",
						"}\n",
						"```\u001b[0m\n",
						"\n",
						"\u001b[1m> Finished chain.\u001b[0m\n",
						"\n",
						"Observation: \u001b[33;1m\u001b[1;3m{'input': 'What is the bulk modulus of Scandium (Sc)?', 'output': 'I will calculate the bulk modulus using the elastic tensor data for Scandium (Sc).'}\u001b[0m\n",
						"Thought:The assistant should now use the MPElasticityExpert tool to find the bulk modulus of the next metal, Titanium (Ti).\u001b[32;1m\u001b[1;3mThe assistant should now use the MPElasticityExpert tool to find the bulk modulus of the next metal, Titanium (Ti).\u001b[0m\n",
						"\n",
						"\u001b[1m> Finished chain.\u001b[0m\n"
					]
				},
				{
					"data": {
						"text/plain": [
							"{'input': 'What are the bulk moduli of the following metals: Sc, Ti, V, Cr, Mn, Fe, Co, Ni, Cu, Zn?',\n",
							" 'chat_history': [],\n",
							" 'output': 'The assistant should now use the MPElasticityExpert tool to find the bulk modulus of the next metal, Titanium (Ti).'}"
						]
					},
					"execution_count": 4,
					"metadata": {},
					"output_type": "execute_result"
				}
			],
			"source": [
				"agent_executor.invoke({\n",
				"    \"input\": \"What are the bulk moduli of the following metals: Sc, Ti, V, Cr, Mn, Fe, Co, Ni, Cu, Zn?\",\n",
				"})"
			]
		},
		{
			"cell_type": "code",
			"execution_count": 5,
			"metadata": {},
			"outputs": [
				{
					"name": "stdout",
					"output_type": "stream",
					"text": [
						"The assistant should now use the MPElasticityExpert tool to find the bulk modulus of the next metal, Titanium (Ti).\n"
					]
				}
			],
			"source": [
				"print(agent_executor.memory.chat_memory.messages[1].content)"
			]
		},
		{
			"cell_type": "code",
			"execution_count": 6,
			"metadata": {},
			"outputs": [],
			"source": [
				"\n",
				"llm_gpt = ChatOpenAI(\n",
				"    temperature=0.7,\n",
				"    model=\"gpt-3.5-turbo-1106\",\n",
				"    openai_api_key=OPENAI_API_KEY,\n",
				"    openai_organization=None,\n",
				"    # streaming=True\n",
				")\n",
				"\n",
				"response = llm_gpt.invoke(agent_executor.memory.chat_memory.messages[0].content)\n"
			]
		},
		{
			"cell_type": "code",
			"execution_count": 7,
			"metadata": {},
			"outputs": [
				{
					"data": {
						"text/plain": [
							"'The bulk moduli of the following metals are as follows (in GPa):\\n\\nSc: 122\\nTi: 110\\nV: 160\\nCr: 160\\nMn: 120\\nFe: 170\\nCo: 180\\nNi: 180\\nCu: 140\\nZn: 100'"
						]
					},
					"execution_count": 7,
					"metadata": {},
					"output_type": "execute_result"
				}
			],
			"source": [
				"response.content"
			]
		},
		{
			"cell_type": "code",
			"execution_count": 8,
			"metadata": {},
			"outputs": [
				{
					"name": "stdout",
					"output_type": "stream",
					"text": [
						"The bulk moduli of the following metals are as follows (in GPa):\n",
						"\n",
						"Sc: 122\n",
						"Ti: 110\n",
						"V: 160\n",
						"Cr: 160\n",
						"Mn: 120\n",
						"Fe: 170\n",
						"Co: 180\n",
						"Ni: 180\n",
						"Cu: 140\n",
						"Zn: 100\n"
					]
				}
			],
			"source": [
				"print(response.content)"
			]
		},
		{
			"cell_type": "code",
			"execution_count": 9,
			"metadata": {},
			"outputs": [
				{
					"data": {
						"text/plain": [
							"{'sites': [{'species': [{'element': 'Si', 'occu': 1}],\n",
							"   'abc': [0, 0, 0],\n",
							"   'xyz': [0, 0, 0],\n",
							"   'label': 'Si',\n",
							"   'properties': {}},\n",
							"  {'species': [{'element': 'Si', 'occu': 1}],\n",
							"   'abc': [0.25, 0.25, 0.25],\n",
							"   'xyz': [0.178, 0.178, 0.178],\n",
							"   'label': 'Si',\n",
							"   'properties': {}}],\n",
							" 'lattice': {'matrix': [[3.866002, 0, 2.243049],\n",
							"   [3.866002, 3.866002, 0],\n",
							"   [0, 3.866002, 2.243049]],\n",
							"  'a': 5.431,\n",
							"  'b': 5.431,\n",
							"  'c': 5.431,\n",
							"  'alpha': 109.471219,\n",
							"  'beta': 109.471219,\n",
							"  'gamma': 109.471219,\n",
							"  'volume': 129.584354898},\n",
							" 'properties': {'space_group': {'number': 227,\n",
							"   'source': 'spglib',\n",
							"   'symbol': 'Fd-3m'}}}"
						]
					},
					"execution_count": 9,
					"metadata": {},
					"output_type": "execute_result"
				}
			],
			"source": [
				"{\n",
				"  \"sites\": [\n",
				"    {\n",
				"      \"species\": [\n",
				"        {\n",
				"          \"element\": \"Si\",\n",
				"          \"occu\": 1\n",
				"        }\n",
				"      ],\n",
				"      \"abc\": [\n",
				"        0,\n",
				"        0,\n",
				"        0\n",
				"      ],\n",
				"      \"xyz\": [\n",
				"        0,\n",
				"        0,\n",
				"        0\n",
				"      ],\n",
				"      \"label\": \"Si\",\n",
				"      \"properties\": {}\n",
				"    },\n",
				"    {\n",
				"      \"species\": [\n",
				"        {\n",
				"          \"element\": \"Si\",\n",
				"          \"occu\": 1\n",
				"        }\n",
				"      ],\n",
				"      \"abc\": [\n",
				"        0.25,\n",
				"        0.25,\n",
				"        0.25\n",
				"      ],\n",
				"      \"xyz\": [\n",
				"        1.780000e-01,\n",
				"        1.780000e-01,\n",
				"        1.780000e-01\n",
				"      ],\n",
				"      \"label\": \"Si\",\n",
				"      \"properties\": {}\n",
				"    }\n",
				"  ],\n",
				"  \"lattice\": {\n",
				"    \"matrix\": [\n",
				"      [\n",
				"        3.866002,\n",
				"        0,\n",
				"        2.243049\n",
				"      ],\n",
				"      [\n",
				"        3.866002,\n",
				"        3.866002,\n",
				"        0\n",
				"      ],\n",
				"      [\n",
				"        0,\n",
				"        3.866002,\n",
				"        2.243049\n",
				"      ]\n",
				"    ],\n",
				"    \"a\": 5.431,\n",
				"    \"b\": 5.431,\n",
				"    \"c\": 5.431,\n",
				"    \"alpha\": 109.471219,\n",
				"    \"beta\": 109.471219,\n",
				"    \"gamma\": 109.471219,\n",
				"    \"volume\": 129.584354898\n",
				"  },\n",
				"  \"properties\": {\n",
				"    \"space_group\": {\n",
				"      \"number\": 227,\n",
				"      \"source\": \"spglib\",\n",
				"      \"symbol\": \"Fd-3m\"\n",
				"    }\n",
				"  }\n",
				"}"
			]
		},
		{
			"cell_type": "code",
			"execution_count": 10,
			"metadata": {},
			"outputs": [
				{
					"name": "stderr",
					"output_type": "stream",
					"text": [
						"/Users/oliver/code/llamp/venv/lib/python3.11/site-packages/pymatgen/core/structure.py:1020: UserWarning: Not all sites have property magmom. Missing values are set to None.\n",
						"  warnings.warn(f\"Not all sites have property {key}. Missing values are set to None.\")\n"
					]
				},
				{
					"ename": "PackageNotFoundError",
					"evalue": "No package metadata was found for AseAtomsAdaptor requires the ASE package. Use `pip install ase`",
					"output_type": "error",
					"traceback": [
						"\u001b[0;31m---------------------------------------------------------------------------\u001b[0m",
						"\u001b[0;31mPackageNotFoundError\u001b[0m                      Traceback (most recent call last)",
						"Cell \u001b[0;32mIn[10], line 8\u001b[0m\n\u001b[1;32m      3\u001b[0m structure \u001b[38;5;241m=\u001b[39m Structure\u001b[38;5;241m.\u001b[39mfrom_dict(\n\u001b[1;32m      4\u001b[0m     {\u001b[38;5;124m'\u001b[39m\u001b[38;5;124m@module\u001b[39m\u001b[38;5;124m'\u001b[39m: \u001b[38;5;124m'\u001b[39m\u001b[38;5;124mpymatgen.core.structure\u001b[39m\u001b[38;5;124m'\u001b[39m, \u001b[38;5;124m'\u001b[39m\u001b[38;5;124m@class\u001b[39m\u001b[38;5;124m'\u001b[39m: \u001b[38;5;124m'\u001b[39m\u001b[38;5;124mStructure\u001b[39m\u001b[38;5;124m'\u001b[39m, \u001b[38;5;124m'\u001b[39m\u001b[38;5;124mcharge\u001b[39m\u001b[38;5;124m'\u001b[39m: \u001b[38;5;241m0\u001b[39m, \u001b[38;5;124m'\u001b[39m\u001b[38;5;124mlattice\u001b[39m\u001b[38;5;124m'\u001b[39m: {\u001b[38;5;124m'\u001b[39m\u001b[38;5;124mmatrix\u001b[39m\u001b[38;5;124m'\u001b[39m: [[\u001b[38;5;241m3.333573\u001b[39m, \u001b[38;5;241m0.0\u001b[39m, \u001b[38;5;241m1.924639\u001b[39m], [\u001b[38;5;241m1.111191\u001b[39m, \u001b[38;5;241m3.142924\u001b[39m, \u001b[38;5;241m1.924639\u001b[39m], [\u001b[38;5;241m0.0\u001b[39m, \u001b[38;5;241m0.0\u001b[39m, \u001b[38;5;241m3.849278\u001b[39m]], \u001b[38;5;124m'\u001b[39m\u001b[38;5;124mpbc\u001b[39m\u001b[38;5;124m'\u001b[39m: [\u001b[38;5;28;01mTrue\u001b[39;00m, \u001b[38;5;28;01mTrue\u001b[39;00m, \u001b[38;5;28;01mTrue\u001b[39;00m], \u001b[38;5;124m'\u001b[39m\u001b[38;5;124ma\u001b[39m\u001b[38;5;124m'\u001b[39m: \u001b[38;5;241m3.8492784033699095\u001b[39m, \u001b[38;5;124m'\u001b[39m\u001b[38;5;124mb\u001b[39m\u001b[38;5;124m'\u001b[39m: \u001b[38;5;241m3.8492794116013456\u001b[39m, \u001b[38;5;124m'\u001b[39m\u001b[38;5;124mc\u001b[39m\u001b[38;5;124m'\u001b[39m: \u001b[38;5;241m3.849278\u001b[39m, \u001b[38;5;124m'\u001b[39m\u001b[38;5;124malpha\u001b[39m\u001b[38;5;124m'\u001b[39m: \u001b[38;5;241m60.00001213094421\u001b[39m, \u001b[38;5;124m'\u001b[39m\u001b[38;5;124mbeta\u001b[39m\u001b[38;5;124m'\u001b[39m: \u001b[38;5;241m60.00000346645984\u001b[39m, \u001b[38;5;124m'\u001b[39m\u001b[38;5;124mgamma\u001b[39m\u001b[38;5;124m'\u001b[39m: \u001b[38;5;241m60.00001097545789\u001b[39m, \u001b[38;5;124m'\u001b[39m\u001b[38;5;124mvolume\u001b[39m\u001b[38;5;124m'\u001b[39m: \u001b[38;5;241m40.32952684741405\u001b[39m}, \u001b[38;5;124m'\u001b[39m\u001b[38;5;124mproperties\u001b[39m\u001b[38;5;124m'\u001b[39m: {}, \u001b[38;5;124m'\u001b[39m\u001b[38;5;124msites\u001b[39m\u001b[38;5;124m'\u001b[39m: [{\u001b[38;5;124m'\u001b[39m\u001b[38;5;124mspecies\u001b[39m\u001b[38;5;124m'\u001b[39m: [{\u001b[38;5;124m'\u001b[39m\u001b[38;5;124melement\u001b[39m\u001b[38;5;124m'\u001b[39m: \u001b[38;5;124m'\u001b[39m\u001b[38;5;124mSi\u001b[39m\u001b[38;5;124m'\u001b[39m, \u001b[38;5;124m'\u001b[39m\u001b[38;5;124moccu\u001b[39m\u001b[38;5;124m'\u001b[39m: \u001b[38;5;241m1\u001b[39m}], \u001b[38;5;124m'\u001b[39m\u001b[38;5;124mabc\u001b[39m\u001b[38;5;124m'\u001b[39m: [\u001b[38;5;241m0.875\u001b[39m, \u001b[38;5;241m0.875\u001b[39m, \u001b[38;5;241m0.875\u001b[39m], \u001b[38;5;124m'\u001b[39m\u001b[38;5;124mxyz\u001b[39m\u001b[38;5;124m'\u001b[39m: [\u001b[38;5;241m3.8891685\u001b[39m, \u001b[38;5;241m2.7500584999999997\u001b[39m, \u001b[38;5;241m6.7362365\u001b[39m], \u001b[38;5;124m'\u001b[39m\u001b[38;5;124mproperties\u001b[39m\u001b[38;5;124m'\u001b[39m: {\u001b[38;5;124m'\u001b[39m\u001b[38;5;124mmagmom\u001b[39m\u001b[38;5;124m'\u001b[39m: \u001b[38;5;241m-\u001b[39m\u001b[38;5;241m0.0\u001b[39m}, \u001b[38;5;124m'\u001b[39m\u001b[38;5;124mlabel\u001b[39m\u001b[38;5;124m'\u001b[39m: \u001b[38;5;124m'\u001b[39m\u001b[38;5;124mSi\u001b[39m\u001b[38;5;124m'\u001b[39m}, {\u001b[38;5;124m'\u001b[39m\u001b[38;5;124mspecies\u001b[39m\u001b[38;5;124m'\u001b[39m: [{\u001b[38;5;124m'\u001b[39m\u001b[38;5;124melement\u001b[39m\u001b[38;5;124m'\u001b[39m: \u001b[38;5;124m'\u001b[39m\u001b[38;5;124mSi\u001b[39m\u001b[38;5;124m'\u001b[39m, \u001b[38;5;124m'\u001b[39m\u001b[38;5;124moccu\u001b[39m\u001b[38;5;124m'\u001b[39m: \u001b[38;5;241m1\u001b[39m}], \u001b[38;5;124m'\u001b[39m\u001b[38;5;124mabc\u001b[39m\u001b[38;5;124m'\u001b[39m: [\u001b[38;5;241m0.125\u001b[39m, \u001b[38;5;241m0.125\u001b[39m, \u001b[38;5;241m0.125\u001b[39m], \u001b[38;5;124m'\u001b[39m\u001b[38;5;124mxyz\u001b[39m\u001b[38;5;124m'\u001b[39m: [\u001b[38;5;241m0.5555955\u001b[39m, \u001b[38;5;241m0.3928655\u001b[39m, \u001b[38;5;241m0.9623195\u001b[39m], \u001b[38;5;124m'\u001b[39m\u001b[38;5;124mproperties\u001b[39m\u001b[38;5;124m'\u001b[39m: {\u001b[38;5;124m'\u001b[39m\u001b[38;5;124mmagmom\u001b[39m\u001b[38;5;124m'\u001b[39m: \u001b[38;5;241m-\u001b[39m\u001b[38;5;241m0.0\u001b[39m}, \u001b[38;5;124m'\u001b[39m\u001b[38;5;124mlabel\u001b[39m\u001b[38;5;124m'\u001b[39m: \u001b[38;5;124m'\u001b[39m\u001b[38;5;124mSi\u001b[39m\u001b[38;5;124m'\u001b[39m}, {\u001b[38;5;124m'\u001b[39m\u001b[38;5;124mspecies\u001b[39m\u001b[38;5;124m'\u001b[39m: [{\u001b[38;5;124m'\u001b[39m\u001b[38;5;124melement\u001b[39m\u001b[38;5;124m'\u001b[39m: \u001b[38;5;124m'\u001b[39m\u001b[38;5;124mLi\u001b[39m\u001b[38;5;124m'\u001b[39m, \u001b[38;5;124m'\u001b[39m\u001b[38;5;124moccu\u001b[39m\u001b[38;5;124m'\u001b[39m: \u001b[38;5;241m1\u001b[39m}], \u001b[38;5;124m'\u001b[39m\u001b[38;5;124mabc\u001b[39m\u001b[38;5;124m'\u001b[39m: [\u001b[38;5;241m0.5\u001b[39m, \u001b[38;5;241m0.5\u001b[39m, \u001b[38;5;241m0.5\u001b[39m], \u001b[38;5;124m'\u001b[39m\u001b[38;5;124mxyz\u001b[39m\u001b[38;5;124m'\u001b[39m: [\u001b[38;5;241m2.222382\u001b[39m, \u001b[38;5;241m1.571462\u001b[39m, \u001b[38;5;241m1.924639\u001b[39m], \u001b[38;5;124m'\u001b[39m\u001b[38;5;124mproperties\u001b[39m\u001b[38;5;124m'\u001b[39m: {}, \u001b[38;5;124m'\u001b[39m\u001b[38;5;124mlabel\u001b[39m\u001b[38;5;124m'\u001b[39m: \u001b[38;5;124m'\u001b[39m\u001b[38;5;124mLi\u001b[39m\u001b[38;5;124m'\u001b[39m}]}\n\u001b[1;32m      5\u001b[0m )\n\u001b[1;32m      7\u001b[0m structure\u001b[38;5;241m.\u001b[39mto(filename\u001b[38;5;241m=\u001b[39m\u001b[38;5;124m\"\u001b[39m\u001b[38;5;124m../experiments/05-crystal-Si-Li-interstitial.cif\u001b[39m\u001b[38;5;124m\"\u001b[39m, fmt\u001b[38;5;241m=\u001b[39m\u001b[38;5;124m\"\u001b[39m\u001b[38;5;124mcif\u001b[39m\u001b[38;5;124m\"\u001b[39m)\n\u001b[0;32m----> 8\u001b[0m \u001b[43mstructure\u001b[49m\u001b[38;5;241;43m.\u001b[39;49m\u001b[43mto_ase_atoms\u001b[49m\u001b[43m(\u001b[49m\u001b[43m)\u001b[49m\u001b[38;5;241m.\u001b[39mwrite(\u001b[38;5;124m\"\u001b[39m\u001b[38;5;124m../experiments/05-crystal-Si-Li-interstitial.xyz\u001b[39m\u001b[38;5;124m\"\u001b[39m)\n",
						"File \u001b[0;32m~/code/llamp/venv/lib/python3.11/site-packages/pymatgen/core/structure.py:879\u001b[0m, in \u001b[0;36mSiteCollection.to_ase_atoms\u001b[0;34m(self, **kwargs)\u001b[0m\n\u001b[1;32m    869\u001b[0m \u001b[38;5;250m\u001b[39m\u001b[38;5;124;03m\"\"\"Converts the structure/molecule to an ase.Atoms object.\u001b[39;00m\n\u001b[1;32m    870\u001b[0m \n\u001b[1;32m    871\u001b[0m \u001b[38;5;124;03mArgs:\u001b[39;00m\n\u001b[0;32m   (...)\u001b[0m\n\u001b[1;32m    875\u001b[0m \u001b[38;5;124;03m    ase.Atoms\u001b[39;00m\n\u001b[1;32m    876\u001b[0m \u001b[38;5;124;03m\"\"\"\u001b[39;00m\n\u001b[1;32m    877\u001b[0m \u001b[38;5;28;01mfrom\u001b[39;00m \u001b[38;5;21;01mpymatgen\u001b[39;00m\u001b[38;5;21;01m.\u001b[39;00m\u001b[38;5;21;01mio\u001b[39;00m\u001b[38;5;21;01m.\u001b[39;00m\u001b[38;5;21;01mase\u001b[39;00m \u001b[38;5;28;01mimport\u001b[39;00m AseAtomsAdaptor\n\u001b[0;32m--> 879\u001b[0m \u001b[38;5;28;01mreturn\u001b[39;00m \u001b[43mAseAtomsAdaptor\u001b[49m\u001b[38;5;241;43m.\u001b[39;49m\u001b[43mget_atoms\u001b[49m\u001b[43m(\u001b[49m\u001b[38;5;28;43mself\u001b[39;49m\u001b[43m,\u001b[49m\u001b[43m \u001b[49m\u001b[38;5;241;43m*\u001b[39;49m\u001b[38;5;241;43m*\u001b[39;49m\u001b[43mkwargs\u001b[49m\u001b[43m)\u001b[49m\n",
						"File \u001b[0;32m~/code/llamp/venv/lib/python3.11/site-packages/pymatgen/io/ase.py:59\u001b[0m, in \u001b[0;36mAseAtomsAdaptor.get_atoms\u001b[0;34m(structure, **kwargs)\u001b[0m\n\u001b[1;32m     48\u001b[0m \u001b[38;5;250m\u001b[39m\u001b[38;5;124;03m\"\"\"\u001b[39;00m\n\u001b[1;32m     49\u001b[0m \u001b[38;5;124;03mReturns ASE Atoms object from pymatgen structure or molecule.\u001b[39;00m\n\u001b[1;32m     50\u001b[0m \n\u001b[0;32m   (...)\u001b[0m\n\u001b[1;32m     56\u001b[0m \u001b[38;5;124;03m    Atoms: ASE Atoms object\u001b[39;00m\n\u001b[1;32m     57\u001b[0m \u001b[38;5;124;03m\"\"\"\u001b[39;00m\n\u001b[1;32m     58\u001b[0m \u001b[38;5;28;01mif\u001b[39;00m \u001b[38;5;129;01mnot\u001b[39;00m ase_loaded:\n\u001b[0;32m---> 59\u001b[0m     \u001b[38;5;28;01mraise\u001b[39;00m PackageNotFoundError(\u001b[38;5;124m\"\u001b[39m\u001b[38;5;124mAseAtomsAdaptor requires the ASE package. Use `pip install ase`\u001b[39m\u001b[38;5;124m\"\u001b[39m)\n\u001b[1;32m     60\u001b[0m \u001b[38;5;28;01mif\u001b[39;00m \u001b[38;5;129;01mnot\u001b[39;00m structure\u001b[38;5;241m.\u001b[39mis_ordered:\n\u001b[1;32m     61\u001b[0m     \u001b[38;5;28;01mraise\u001b[39;00m \u001b[38;5;167;01mValueError\u001b[39;00m(\u001b[38;5;124m\"\u001b[39m\u001b[38;5;124mASE Atoms only supports ordered structures\u001b[39m\u001b[38;5;124m\"\u001b[39m)\n",
						"\u001b[0;31mPackageNotFoundError\u001b[0m: No package metadata was found for AseAtomsAdaptor requires the ASE package. Use `pip install ase`"
					]
				}
			],
			"source": [
				"from pymatgen.core import Structure\n",
				"\n",
				"structure = Structure.from_dict(\n",
				"    {'@module': 'pymatgen.core.structure', '@class': 'Structure', 'charge': 0, 'lattice': {'matrix': [[3.333573, 0.0, 1.924639], [1.111191, 3.142924, 1.924639], [0.0, 0.0, 3.849278]], 'pbc': [True, True, True], 'a': 3.8492784033699095, 'b': 3.8492794116013456, 'c': 3.849278, 'alpha': 60.00001213094421, 'beta': 60.00000346645984, 'gamma': 60.00001097545789, 'volume': 40.32952684741405}, 'properties': {}, 'sites': [{'species': [{'element': 'Si', 'occu': 1}], 'abc': [0.875, 0.875, 0.875], 'xyz': [3.8891685, 2.7500584999999997, 6.7362365], 'properties': {'magmom': -0.0}, 'label': 'Si'}, {'species': [{'element': 'Si', 'occu': 1}], 'abc': [0.125, 0.125, 0.125], 'xyz': [0.5555955, 0.3928655, 0.9623195], 'properties': {'magmom': -0.0}, 'label': 'Si'}, {'species': [{'element': 'Li', 'occu': 1}], 'abc': [0.5, 0.5, 0.5], 'xyz': [2.222382, 1.571462, 1.924639], 'properties': {}, 'label': 'Li'}]}\n",
				")\n",
				"\n",
				"structure.to(filename=\"../experiments/05-crystal-Si-Li-interstitial.cif\", fmt=\"cif\")\n",
				"structure.to_ase_atoms().write(\"../experiments/05-crystal-Si-Li-interstitial.xyz\")"
			]
		},
		{
			"cell_type": "code",
			"execution_count": null,
			"metadata": {},
			"outputs": [],
			"source": [
				"structure = Structure.from_dict(\n",
				"    {'@module': 'pymatgen.core.structure', '@class': 'Structure', 'charge': 0, 'lattice': {'matrix': [[3.700773, -0.991615, 2.3e-05], [-0.991617, 3.700765, -2.4e-05], [3e-05, -3.2e-05, 6.332622]], 'pbc': [True, True, True], 'a': 3.8313210654137304, 'b': 3.83131385564926, 'c': 6.332622000151911, 'alpha': 90.00070882372823, 'beta': 89.99931892714707, 'gamma': 119.99994034554126, 'volume': 80.50275361604729}, 'properties': {}, 'sites': [{'species': [{'element': 'Si', 'occu': 1}], 'abc': [0.666683, 0.333317, 0.500012], 'xyz': [2.13673464273, 0.572419024076, 3.166394325565], 'properties': {'magmom': 0.0}, 'label': 'Si'}, {'species': [{'element': 'Si', 'occu': 1}], 'abc': [1.5e-05, 0.999985, 9e-06], 'xyz': [-0.99154661388, 3.7006946140120003, 3.2994303e-05], 'properties': {'magmom': 0.0}, 'label': 'Si'}, {'species': [{'element': 'Si', 'occu': 1}], 'abc': [0.666683, 0.333318, 0.873993], 'xyz': [2.136744870543, 0.5724107574489999, 5.534674633723], 'properties': {'magmom': 0.0}, 'label': 'Si'}, {'species': [{'element': 'Si', 'occu': 1}], 'abc': [2e-05, 0.999981, 0.373986], 'xyz': [-0.991512924237, 3.700662885613, 2.368287972208], 'properties': {'magmom': 0.0}, 'label': 'Si'}]}\n",
				")\n",
				"\n",
				"structure.to(filename=\"../experiments/05-crystal-Si.cif\", fmt=\"cif\")\n",
				"structure.to_ase_atoms().write(\"../experiments/05-crystal-Si.xyz\")"
			]
		},
		{
			"cell_type": "code",
			"execution_count": null,
			"metadata": {},
			"outputs": [],
			"source": [
				"\n",
				"structure = Structure.from_dict(\n",
				"    {\n",
				"  \"sites\": [\n",
				"    {\n",
				"      \"species\": [\n",
				"        {\n",
				"          \"element\": \"Si\",\n",
				"          \"occu\": 1\n",
				"        }\n",
				"      ],\n",
				"      \"abc\": [0, 0, 0],\n",
				"      \"xyz\": [0, 0, 0],\n",
				"      \"label\": \"Si\",\n",
				"      \"properties\": {}\n",
				"    },\n",
				"    {\n",
				"      \"species\": [\n",
				"        {\n",
				"          \"element\": \"Si\",\n",
				"          \"occu\": 1\n",
				"        }\n",
				"      ],\n",
				"      \"abc\": [0.25, 0.25, 0.25],\n",
				"      \"xyz\": [0.178, 0.178, 0.178],\n",
				"      \"label\": \"Si\",\n",
				"      \"properties\": {}\n",
				"    },\n",
				"    {\n",
				"      \"species\": [\n",
				"        {\n",
				"          \"element\": \"Li\",\n",
				"          \"occu\": 1\n",
				"        }\n",
				"      ],\n",
				"      \"abc\": [0.5, 0.5, 0.5],\n",
				"      \"xyz\": [0.5, 0.5, 0.5],\n",
				"      \"label\": \"Li\",\n",
				"      \"properties\": {}\n",
				"    }\n",
				"  ],\n",
				"  \"lattice\": {\n",
				"    \"matrix\": [\n",
				"      [3.866002, 0, 2.243049],\n",
				"      [3.866002, 3.866002, 0],\n",
				"      [0, 3.866002, 2.243049]\n",
				"    ],\n",
				"    \"a\": 5.431,\n",
				"    \"b\": 5.431,\n",
				"    \"c\": 5.431,\n",
				"    \"alpha\": 109.471219,\n",
				"    \"beta\": 109.471219,\n",
				"    \"gamma\": 109.471219,\n",
				"    \"volume\": 129.584354898\n",
				"  },\n",
				"  \"properties\": {\n",
				"    \"space_group\": {\n",
				"      \"number\": 227,\n",
				"      \"source\": \"spglib\",\n",
				"      \"symbol\": \"Fd-3m\"\n",
				"    }\n",
				"  }\n",
				"}\n",
				")\n",
				"\n",
				"structure.to(filename=\"../experiments/05-crystal-Si-Li-interstitial-gpt3.5.cif\", fmt=\"cif\")\n",
				"structure.to_ase_atoms().write(\"../experiments/05-crystal-Si-Li-interstitial-gpt3.5.xyz\")"
			]
		}
	],
	"metadata": {
		"kernelspec": {
			"display_name": "llamp",
			"language": "python",
			"name": "python3"
		},
		"language_info": {
			"codemirror_mode": {
				"name": "ipython",
				"version": 3
			},
			"file_extension": ".py",
			"mimetype": "text/x-python",
			"name": "python",
			"nbconvert_exporter": "python",
			"pygments_lexer": "ipython3",
			"version": "3.11.4"
		}
	},
	"nbformat": 4,
	"nbformat_minor": 2
}
