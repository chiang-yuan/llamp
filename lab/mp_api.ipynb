{
 "cells": [
  {
   "cell_type": "code",
   "execution_count": 18,
   "metadata": {},
   "outputs": [],
   "source": [
    "from langchain import hub\n",
    "\n",
    "from langchain.schema import SystemMessage\n",
    "\n",
    "\n",
    "mp_prompt = hub.pull(\"hwchase17/react-multi-input-json\")"
   ]
  },
  {
   "cell_type": "code",
   "execution_count": 20,
   "metadata": {},
   "outputs": [
    {
     "data": {
      "text/plain": [
       "[SystemMessagePromptTemplate(prompt=PromptTemplate(input_variables=['tool_names', 'tools'], template='Respond to the human as helpfully and accurately as possible. You have access to the following tools:\\n\\n{tools}\\n\\nUse a json blob to specify a tool by providing an action key (tool name) and an action_input key (tool input).\\n\\nValid \"action\" values: \"Final Answer\" or {tool_names}\\n\\nProvide only ONE action per $JSON_BLOB, as shown:\\n\\n```\\n{{\\n  \"action\": $TOOL_NAME,\\n  \"action_input\": $INPUT\\n}}\\n```\\n\\nFollow this format:\\n\\nQuestion: input question to answer\\nThought: consider previous and subsequent steps\\nAction:\\n```\\n$JSON_BLOB\\n```\\nObservation: action result\\n... (repeat Thought/Action/Observation N times)\\nThought: I know what to respond\\nAction:\\n```\\n{{\\n  \"action\": \"Final Answer\",\\n  \"action_input\": \"Final response to human\"\\n}}\\n\\nBegin! Reminder to ALWAYS respond with a valid json blob of a single action. Use tools if necessary. Respond directly if appropriate. Format is Action:```$JSON_BLOB```then Observation')),\n",
       " HumanMessagePromptTemplate(prompt=PromptTemplate(input_variables=['agent_scratchpad', 'input'], template='{input}\\n\\n{agent_scratchpad}\\n (reminder to respond in a JSON blob no matter what)')),\n",
       " SystemMessage(content='You are a data-aware agent that has access to computational and experimental materials data on Materials Project.')]"
      ]
     },
     "execution_count": 20,
     "metadata": {},
     "output_type": "execute_result"
    }
   ],
   "source": [
    "mp_prompt.messages.append(SystemMessage(content=\"You are a data-aware agent that has access to computational and experimental materials data on Materials Project.\"))"
   ]
  },
  {
   "cell_type": "code",
   "execution_count": 27,
   "metadata": {},
   "outputs": [
    {
     "data": {
      "text/plain": [
       "'Respond to the human as helpfully and accurately as possible. You have access to the following tools:\\n\\n{tools}\\n\\nUse a json blob to specify a tool by providing an action key (tool name) and an action_input key (tool input).\\n\\nValid \"action\" values: \"Final Answer\" or {tool_names}\\n\\nProvide only ONE action per $JSON_BLOB, as shown:\\n\\n```\\n{{\\n  \"action\": $TOOL_NAME,\\n  \"action_input\": $INPUT\\n}}\\n```\\n\\nFollow this format:\\n\\nQuestion: input question to answer\\nThought: consider previous and subsequent steps\\nAction:\\n```\\n$JSON_BLOB\\n```\\nObservation: action result\\n... (repeat Thought/Action/Observation N times)\\nThought: I know what to respond\\nAction:\\n```\\n{{\\n  \"action\": \"Final Answer\",\\n  \"action_input\": \"Final response to human\"\\n}}\\n\\nBegin! Reminder to ALWAYS respond with a valid json blob of a single action. Use tools if necessary. Respond directly if appropriate. Format is Action:```$JSON_BLOB```then Observation'"
      ]
     },
     "execution_count": 27,
     "metadata": {},
     "output_type": "execute_result"
    }
   ],
   "source": [
    "mp_prompt.messages[0].prompt.template = \"You are a helpful agent having access to materials data on Materials Project.\" + mp_prompt.messages[0].prompt.template"
   ]
  },
  {
   "cell_type": "code",
   "execution_count": 44,
   "metadata": {},
   "outputs": [
    {
     "name": "stderr",
     "output_type": "stream",
     "text": [
      "/home/cyrus/miniconda3/envs/llamp/lib/python3.11/site-packages/mp_api/client/mprester.py:230: UserWarning: mpcontribs-client not installed. Install the package to query MPContribs data, or construct pourbaix diagrams: 'pip install mpcontribs-client'\n",
      "  warnings.warn(\n"
     ]
    },
    {
     "data": {
      "application/vnd.jupyter.widget-view+json": {
       "model_id": "91b5e8371251457692102b15dd4a93b4",
       "version_major": 2,
       "version_minor": 0
      },
      "text/plain": [
       "Retrieving ElasticityDoc documents:   0%|          | 0/1 [00:00<?, ?it/s]"
      ]
     },
     "metadata": {},
     "output_type": "display_data"
    },
    {
     "name": "stdout",
     "output_type": "stream",
     "text": [
      "['builder_meta', 'nsites', 'elements', 'nelements', 'composition', 'composition_reduced', 'formula_pretty', 'formula_anonymous', 'chemsys', 'volume', 'density', 'density_atomic', 'symmetry', 'property_name', 'material_id', 'deprecated', 'deprecation_reasons', 'last_updated', 'origins', 'warnings', 'structure', 'order', 'elastic_tensor', 'compliance_tensor', 'bulk_modulus', 'shear_modulus', 'sound_velocity', 'thermal_conductivity', 'young_modulus', 'universal_anisotropy', 'homogeneous_poisson', 'debye_temperature', 'fitting_data', 'fitting_method', 'state']\n",
      "\u001b[4m\u001b[1mMPDataDoc<ElasticityDoc>\u001b[0;0m\u001b[0;0m\n",
      "\u001b[1mformula_pretty\u001b[0;0m='Si',\n",
      "\u001b[1mmaterial_id\u001b[0;0m=MPID(mp-149),\n",
      "\u001b[1melastic_tensor\u001b[0;0m=ElasticTensorDoc(raw=((153.19279267761982, 56.777185976088205, 56.777185976088205, -7.979727989493311e-17, -6.661338147750937e-16, 9.436895709313829e-16), (56.777185976088205, 153.19279267761982, 56.77718597608822, -6.661338147750937e-16, -7.979727989493311e-17, 6.839865079851815e-15), (56.777185976088205, 56.77718597608822, 153.19279267761985, -6.661338147750941e-16, 9.436895709313833e-16, -7.979727989493315e-17), (-7.979727989493311e-17, -6.661338147750937e-16, -6.661338147750941e-16, 74.25053622362908, 0.0, 1.2528910738651292e-32), (-6.661338147750937e-16, -7.979727989493311e-17, 9.436895709313833e-16, 0.0, 74.2505362236291, -2.0608663726559307e-15), (9.436895709313829e-16, 6.839865079851815e-15, -7.979727989493315e-17, 1.2528910738651292e-32, -2.0608663726559307e-15, 74.25053622362913)), ieee_format=((153.0, 57.0, 57.0, -0.0, -0.0, 0.0), (57.0, 153.0, 57.0, -0.0, -0.0, 0.0), (57.0, 57.0, 153.0, -0.0, 0.0, 0.0), (-0.0, -0.0, -0.0, 74.0, 0.0, -0.0), (-0.0, -0.0, 0.0, 0.0, 74.0, -0.0), (0.0, 0.0, 0.0, -0.0, -0.0, 74.0)))\n",
      "\n",
      "\u001b[1mFields not requested:\u001b[0;0m\n",
      "['builder_meta', 'nsites', 'elements', 'nelements', 'composition', 'composition_reduced', 'formula_anonymous', 'chemsys', 'volume', 'density', 'density_atomic', 'symmetry', 'property_name', 'deprecated', 'deprecation_reasons', 'last_updated', 'origins', 'warnings', 'structure', 'order', 'compliance_tensor', 'bulk_modulus', 'shear_modulus', 'sound_velocity', 'thermal_conductivity', 'young_modulus', 'universal_anisotropy', 'homogeneous_poisson', 'debye_temperature', 'fitting_data', 'fitting_method', 'state']\n"
     ]
    },
    {
     "data": {
      "application/vnd.jupyter.widget-view+json": {
       "model_id": "d337d6ac47db462abc94e37cc21d01e7",
       "version_major": 2,
       "version_minor": 0
      },
      "text/plain": [
       "Retrieving RobocrystallogapherDoc documents:   0%|          | 0/2 [00:00<?, ?it/s]"
      ]
     },
     "metadata": {},
     "output_type": "display_data"
    },
    {
     "name": "stdout",
     "output_type": "stream",
     "text": [
      "2\n"
     ]
    }
   ],
   "source": [
    "\n",
    "\n",
    "from mp_api.client import MPRester\n",
    "\n",
    "import dotenv\n",
    "\n",
    "dotenv.load_dotenv()\n",
    "\n",
    "with MPRester() as mpr:\n",
    "\n",
    "    mpr.materials.elasticity.search()\n",
    "\n",
    "    elastic_docs = mpr.materials.elasticity._search(\n",
    "        **{\"material_ids\": \"mp-149\", \"fields\": [\"material_id\", \"formula_pretty\", \"elastic_tensor\"]}\n",
    "        # query={\"material_id\": \"mp-149\"},\n",
    "        # fields=[\"elasticity\"]\n",
    "    )\n",
    "    print(mpr.materials.elasticity.available_fields)\n",
    "\n",
    "    print(elastic_docs[0])\n",
    "    \n",
    "\n",
    "    robodocs = mpr.materials.robocrys._search(\n",
    "        material_ids=\"mp-149,mp-19017,mp-1002\",\n",
    "        # fields=[\"description\"]\n",
    "    )\n",
    "\n",
    "    print(len(robodocs))"
   ]
  },
  {
   "cell_type": "code",
   "execution_count": 13,
   "metadata": {},
   "outputs": [
    {
     "data": {
      "text/plain": [
       "\u001b[4m\u001b[1mMPDataDoc<RobocrystallogapherDoc>\u001b[0;0m\u001b[0;0m(\n",
       "\u001b[1mbuilder_meta\u001b[0;0m=EmmetMeta(emmet_version='0.65.0', pymatgen_version='2023.7.17', pull_request=990, database_version='2023.11.1', build_date=datetime.datetime(2023, 8, 27, 2, 21, 17, 245000), license=None),\n",
       "\u001b[1mnsites\u001b[0;0m=None,\n",
       "\u001b[1melements\u001b[0;0m=None,\n",
       "\u001b[1mnelements\u001b[0;0m=None,\n",
       "\u001b[1mcomposition\u001b[0;0m=None,\n",
       "\u001b[1mcomposition_reduced\u001b[0;0m=None,\n",
       "\u001b[1mformula_pretty\u001b[0;0m=None,\n",
       "\u001b[1mformula_anonymous\u001b[0;0m=None,\n",
       "\u001b[1mchemsys\u001b[0;0m=None,\n",
       "\u001b[1mvolume\u001b[0;0m=None,\n",
       "\u001b[1mdensity\u001b[0;0m=None,\n",
       "\u001b[1mdensity_atomic\u001b[0;0m=None,\n",
       "\u001b[1msymmetry\u001b[0;0m=None,\n",
       "\u001b[1mproperty_name\u001b[0;0m='robocrys',\n",
       "\u001b[1mmaterial_id\u001b[0;0m=MPID(mp-19017),\n",
       "\u001b[1mdeprecated\u001b[0;0m=False,\n",
       "\u001b[1mdeprecation_reasons\u001b[0;0m=None,\n",
       "\u001b[1mlast_updated\u001b[0;0m=datetime.datetime(2023, 3, 11, 11, 38, 26, 705000),\n",
       "\u001b[1morigins\u001b[0;0m=[],\n",
       "\u001b[1mwarnings\u001b[0;0m=[],\n",
       "\u001b[1mdescription\u001b[0;0m='LiFePO₄ is Hausmannite-derived structured and crystallizes in the orthorhombic Pnma space group. Li¹⁺ is bonded to six O²⁻ atoms to form LiO₆ octahedra that share corners with four equivalent FeO₆ octahedra, corners with two equivalent PO₄ tetrahedra, edges with two equivalent LiO₆ octahedra, edges with two equivalent FeO₆ octahedra, and edges with two equivalent PO₄ tetrahedra. The corner-sharing octahedral tilt angles range from 58-69°. There are a spread of Li-O bond distances ranging from 2.06-2.18 Å. Fe²⁺ is bonded to six O²⁻ atoms to form FeO₆ octahedra that share corners with four equivalent LiO₆ octahedra, corners with four equivalent FeO₆ octahedra, corners with four equivalent PO₄ tetrahedra, edges with two equivalent LiO₆ octahedra, and  an edgeedge with one PO₄ tetrahedra. The corner-sharing octahedral tilt angles range from 53-69°. There are a spread of Fe-O bond distances ranging from 2.03-2.25 Å. P⁵⁺ is bonded to four O²⁻ atoms to form PO₄ tetrahedra that share corners with two equivalent LiO₆ octahedra, corners with four equivalent FeO₆ octahedra,  an edgeedge with one FeO₆ octahedra, and edges with two equivalent LiO₆ octahedra. The corner-sharing octahedral tilt angles range from 50-61°. There are a spread of P-O bond distances ranging from 1.52-1.55 Å. There are three inequivalent O²⁻ sites. In the first O²⁻ site, O²⁻ is bonded in a 4-coordinate geometry to two equivalent Li¹⁺, one Fe²⁺, and one P⁵⁺ atom. In the second O²⁻ site, O²⁻ is bonded in a distorted rectangular see-saw-like geometry to one Li¹⁺, two equivalent Fe²⁺, and one P⁵⁺ atom. In the third O²⁻ site, O²⁻ is bonded in a rectangular see-saw-like geometry to two equivalent Li¹⁺, one Fe²⁺, and one P⁵⁺ atom.',\n",
       "\u001b[1mcondensed_structure\u001b[0;0m=CondensedStructureData(mineral=MineralData(type='Hausmannite', name=None), dimensionality=3, formula='LiFePO4', spg_symbol='Pnma', crystal_system='orthorhombic'),\n",
       "\u001b[1mrobocrys_version\u001b[0;0m='0.2.8',\n",
       "\u001b[1mfields_not_requested\u001b[0;0m=[]\n",
       ")"
      ]
     },
     "execution_count": 13,
     "metadata": {},
     "output_type": "execute_result"
    }
   ],
   "source": [
    "robodocs[0]"
   ]
  },
  {
   "cell_type": "code",
   "execution_count": null,
   "metadata": {},
   "outputs": [],
   "source": []
  }
 ],
 "metadata": {
  "kernelspec": {
   "display_name": "llamp",
   "language": "python",
   "name": "python3"
  },
  "language_info": {
   "codemirror_mode": {
    "name": "ipython",
    "version": 3
   },
   "file_extension": ".py",
   "mimetype": "text/x-python",
   "name": "python",
   "nbconvert_exporter": "python",
   "pygments_lexer": "ipython3",
   "version": "3.11.5"
  }
 },
 "nbformat": 4,
 "nbformat_minor": 2
}
