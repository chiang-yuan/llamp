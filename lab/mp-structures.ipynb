{
 "cells": [
  {
   "cell_type": "code",
   "execution_count": 1,
   "metadata": {},
   "outputs": [
    {
     "name": "stderr",
     "output_type": "stream",
     "text": [
      "/home/cyrus/miniconda3/envs/llamp/lib/python3.11/site-packages/mp_api/client/mprester.py:227: UserWarning: mpcontribs-client not installed. Install the package to query MPContribs data, or construct pourbaix diagrams: 'pip install mpcontribs-client'\n",
      "  warnings.warn(\n"
     ]
    },
    {
     "data": {
      "application/vnd.jupyter.widget-view+json": {
       "model_id": "9d5a495321c2488192923439c43d001f",
       "version_major": 2,
       "version_minor": 0
      },
      "text/plain": [
       "Retrieving SummaryDoc documents:   0%|          | 0/322 [00:00<?, ?it/s]"
      ]
     },
     "metadata": {},
     "output_type": "display_data"
    },
    {
     "name": "stdout",
     "output_type": "stream",
     "text": [
      "322\n",
      "mp-16964 {'@module': 'pymatgen.core.structure', '@class': 'Structure', 'charge': 0, 'lattice': {'matrix': [[5.0387274, -0.0, 0.0], [0.0, 10.87461833, -2.51033772], [0.0, 0.02721038, 11.16057258]], 'pbc': [True, True, True], 'a': 5.0387274, 'b': 11.160605686593662, 'c': 11.160605750506, 'alpha': 102.85897923226668, 'beta': 90.0, 'gamma': 90.0, 'volume': 611.8792444208717}, 'sites': [{'species': [{'element': 'Si', 'occu': 1}], 'abc': [0.49873169, 0.99474781, 0.4164471], 'xyz': [2.512973031651306, 10.828834452194256, 2.150635135950125], 'label': 'Si', 'properties': {'magmom': -0.0}}, {'species': [{'element': 'Si', 'occu': 1}], 'abc': [0.99873169, 0.00525219, 0.5835529], 'xyz': [5.032336731651306, 0.0729942578057447, 6.499599724049875], 'label': 'Si', 'properties': {'magmom': -0.0}}, {'species': [{'element': 'Si', 'occu': 1}], 'abc': [0.49873169, 0.5835529, 0.00525219], 'xyz': [2.512973031651306, 6.34605797695039, -1.4062974087864377], 'label': 'Si', 'properties': {'magmom': -0.0}}, {'species': [{'element': 'Si', 'occu': 1}], 'abc': [0.99873169, 0.4164471, 0.99474781], 'xyz': [5.032336731651306, 4.555770733049611, 10.05653226878644], 'label': 'Si', 'properties': {'magmom': -0.0}}, {'species': [{'element': 'Si', 'occu': 1}], 'abc': [0.91235647, 0.75365601, 0.65717174], 'xyz': [4.597115543956278, 8.213603353631326, 5.442481791987193], 'label': 'Si', 'properties': {'magmom': 0.0}}, {'species': [{'element': 'Si', 'occu': 1}], 'abc': [0.41235647, 0.24634399, 0.34282826], 'xyz': [2.077751843956278, 2.6882253563686755, 3.207753068012808], 'label': 'Si', 'properties': {'magmom': 0.0}}, {'species': [{'element': 'Si', 'occu': 1}], 'abc': [0.91235647, 0.34282826, 0.24634399], 'xyz': [4.597115543956278, 3.734829593816622, 1.8887252674818273], 'label': 'Si', 'properties': {'magmom': 0.0}}, {'species': [{'element': 'Si', 'occu': 1}], 'abc': [0.41235647, 0.65717174, 0.75365601], 'xyz': [2.077751843956278, 7.166999116183378, 6.761509592518173], 'label': 'Si', 'properties': {'magmom': 0.0}}, {'species': [{'element': 'Si', 'occu': 1}], 'abc': [0.38696129, 0.72568436, 0.27431564], 'xyz': [1.949792454662346, 7.899004675854663, 1.2398067883270925], 'label': 'Si', 'properties': {'magmom': -0.0}}, {'species': [{'element': 'Si', 'occu': 1}], 'abc': [0.88696129, 0.27431564, 0.72568436], 'xyz': [4.469156154662346, 3.002824034145338, 7.410428071672908], 'label': 'Si', 'properties': {'magmom': -0.0}}, {'species': [{'element': 'Si', 'occu': 1}], 'abc': [0.8878843, 0.62195318, 0.37804682], 'xyz': [4.47380695043982, 6.773790249259781, 2.657906445420246], 'label': 'Si', 'properties': {'magmom': 0.0}}, {'species': [{'element': 'Si', 'occu': 1}], 'abc': [0.3878843, 0.37804682, 0.62195318], 'xyz': [1.9544432504398201, 4.128038460740219, 5.992328414579754], 'label': 'Si', 'properties': {'magmom': 0.0}}, {'species': [{'element': 'O', 'occu': 1}], 'abc': [0.48436714, 0.10787037, 0.34955492], 'xyz': [2.4405939799776357, 1.1825606250699516, 3.630441996674737], 'label': 'O', 'properties': {'magmom': 0.0}}, {'species': [{'element': 'O', 'occu': 1}], 'abc': [0.98436714, 0.89212963, 0.65044508], 'xyz': [4.959957679977636, 9.719268084930048, 5.019792863325263], 'label': 'O', 'properties': {'magmom': 0.0}}, {'species': [{'element': 'O', 'occu': 1}], 'abc': [0.48436714, 0.65044508, 0.89212963], 'xyz': [2.4405939799776357, 7.097617175867876, 8.323840667271128], 'label': 'O', 'properties': {'magmom': 0.0}}, {'species': [{'element': 'O', 'occu': 1}], 'abc': [0.98436714, 0.34955492, 0.10787037], 'xyz': [4.959957679977636, 3.8042115341321243, 0.32639419272887216], 'label': 'O', 'properties': {'magmom': 0.0}}, {'species': [{'element': 'O', 'occu': 1}], 'abc': [0.94066142, 0.66314652, 0.5233236], 'xyz': [4.739736471076908, 7.225705135886679, 4.175869297584154], 'label': 'O', 'properties': {'magmom': -0.0}}, {'species': [{'element': 'O', 'occu': 1}], 'abc': [0.44066142, 0.33685348, 0.4766764], 'xyz': [2.2203727710769083, 3.6761235741133205, 4.474365562415846], 'label': 'O', 'properties': {'magmom': -0.0}}, {'species': [{'element': 'O', 'occu': 1}], 'abc': [0.94066142, 0.4766764, 0.33685348], 'xyz': [4.739736471076908, 5.192839828113534, 2.5628589652117704], 'label': 'O', 'properties': {'magmom': -0.0}}, {'species': [{'element': 'O', 'occu': 1}], 'abc': [0.44066142, 0.5233236, 0.66314652], 'xyz': [2.2203727710769083, 5.708988881886466, 6.08737589478823], 'label': 'O', 'properties': {'magmom': -0.0}}, {'species': [{'element': 'O', 'occu': 1}], 'abc': [0.08567723, 0.69464351, 0.30535649], 'xyz': [0.43170420635710194, 7.562291912789905, 1.664163464312847], 'label': 'O', 'properties': {'magmom': 0.0}}, {'species': [{'element': 'O', 'occu': 1}], 'abc': [0.58567723, 0.30535649, 0.69464351], 'xyz': [2.9510679063571024, 3.3395367972100956, 6.986071395687153], 'label': 'O', 'properties': {'magmom': 0.0}}, {'species': [{'element': 'O', 'occu': 1}], 'abc': [0.43301544, 0.87134987, 0.3158824], 'xyz': [2.1818467621510558, 9.48419254828443, 1.338046005966496], 'label': 'O', 'properties': {'magmom': 0.0}}, {'species': [{'element': 'O', 'occu': 1}], 'abc': [0.93301544, 0.12865013, 0.6841176], 'xyz': [4.701210462151056, 1.417636161715571, 7.312188854033505], 'label': 'O', 'properties': {'magmom': 0.0}}, {'species': [{'element': 'O', 'occu': 1}], 'abc': [0.08585585, 0.3471101, 0.6528899], 'xyz': [0.43260422384528996, 3.792455238265295, 6.415261538675971], 'label': 'O', 'properties': {'magmom': 0.0}}, {'species': [{'element': 'O', 'occu': 1}], 'abc': [0.58585585, 0.6528899, 0.3471101], 'xyz': [2.95196792384529, 7.109373471734705, 2.2349733213240297], 'label': 'O', 'properties': {'magmom': 0.0}}, {'species': [{'element': 'O', 'occu': 1}], 'abc': [0.29316552, 0.4697997, 0.98459633], 'xyz': [1.4771811383592481, 5.135683669334406, 9.809302895211946], 'label': 'O', 'properties': {'magmom': 0.0}}, {'species': [{'element': 'O', 'occu': 1}], 'abc': [0.79316552, 0.5302003, 0.01540367], 'xyz': [3.996544838359248, 5.766145040665593, -1.1590680352119473], 'label': 'O', 'properties': {'magmom': 0.0}}, {'species': [{'element': 'O', 'occu': 1}], 'abc': [0.29316552, 0.01540367, 0.5302003], 'xyz': [1.4771811383592481, 0.1819359837703851, 5.878670516260342], 'label': 'O', 'properties': {'magmom': 0.0}}, {'species': [{'element': 'O', 'occu': 1}], 'abc': [0.79316552, 0.98459633, 0.4697997], 'xyz': [3.996544838359248, 10.719892726229615, 2.7715643437396587], 'label': 'O', 'properties': {'magmom': 0.0}}, {'species': [{'element': 'O', 'occu': 1}], 'abc': [0.11311498, 0.70735788, 0.75008352], 'xyz': [0.569955549076452, 7.712657025328878, 6.595654398318649], 'label': 'O', 'properties': {'magmom': -0.0}}, {'species': [{'element': 'O', 'occu': 1}], 'abc': [0.61311498, 0.29264212, 0.24991648], 'xyz': [3.089319249076452, 3.189171684671122, 2.0545804616813523], 'label': 'O', 'properties': {'magmom': -0.0}}, {'species': [{'element': 'O', 'occu': 1}], 'abc': [0.11311498, 0.24991648, 0.29264212], 'xyz': [0.569955549076452, 2.725709237666284, 2.6386788536314443], 'label': 'O', 'properties': {'magmom': -0.0}}, {'species': [{'element': 'O', 'occu': 1}], 'abc': [0.61311498, 0.75008352, 0.70735788], 'xyz': [3.089319249076452, 8.176119472333715, 6.011556006368556], 'label': 'O', 'properties': {'magmom': -0.0}}, {'species': [{'element': 'O', 'occu': 1}], 'abc': [0.93301544, 0.3158824, 0.87134987], 'xyz': [4.701210462151056, 3.458810298240043, 8.931791962904436], 'label': 'O', 'properties': {'magmom': 0.0}}, {'species': [{'element': 'O', 'occu': 1}], 'abc': [0.43301544, 0.6841176, 0.12865013], 'xyz': [2.1818467621510558, 7.443018411759958, -0.28155710290443636], 'label': 'O', 'properties': {'magmom': 0.0}}]}\n",
      "Full Formula (Si12 O24)\n",
      "Reduced Formula: SiO2\n",
      "abc   :   5.038727  11.160606  11.160606\n",
      "angles: 102.858979  90.000000  90.000000\n",
      "pbc   :       True       True       True\n",
      "Sites (36)\n",
      "  #  SP           a         b         c    magmom\n",
      "---  ----  --------  --------  --------  --------\n",
      "  0  Si    0.498732  0.994748  0.416447        -0\n",
      "  1  Si    0.998732  0.005252  0.583553        -0\n",
      "  2  Si    0.498732  0.583553  0.005252        -0\n",
      "  3  Si    0.998732  0.416447  0.994748        -0\n",
      "  4  Si    0.912356  0.753656  0.657172         0\n",
      "  5  Si    0.412356  0.246344  0.342828         0\n",
      "  6  Si    0.912356  0.342828  0.246344         0\n",
      "  7  Si    0.412356  0.657172  0.753656         0\n",
      "  8  Si    0.386961  0.725684  0.274316        -0\n",
      "  9  Si    0.886961  0.274316  0.725684        -0\n",
      " 10  Si    0.887884  0.621953  0.378047         0\n",
      " 11  Si    0.387884  0.378047  0.621953         0\n",
      " 12  O     0.484367  0.10787   0.349555         0\n",
      " 13  O     0.984367  0.89213   0.650445         0\n",
      " 14  O     0.484367  0.650445  0.89213          0\n",
      " 15  O     0.984367  0.349555  0.10787          0\n",
      " 16  O     0.940661  0.663147  0.523324        -0\n",
      " 17  O     0.440661  0.336853  0.476676        -0\n",
      " 18  O     0.940661  0.476676  0.336853        -0\n",
      " 19  O     0.440661  0.523324  0.663147        -0\n",
      " 20  O     0.085677  0.694644  0.305356         0\n",
      " 21  O     0.585677  0.305356  0.694644         0\n",
      " 22  O     0.433015  0.87135   0.315882         0\n",
      " 23  O     0.933015  0.12865   0.684118         0\n",
      " 24  O     0.085856  0.34711   0.65289          0\n",
      " 25  O     0.585856  0.65289   0.34711          0\n",
      " 26  O     0.293166  0.4698    0.984596         0\n",
      " 27  O     0.793166  0.5302    0.015404         0\n",
      " 28  O     0.293166  0.015404  0.5302           0\n",
      " 29  O     0.793166  0.984596  0.4698           0\n",
      " 30  O     0.113115  0.707358  0.750084        -0\n",
      " 31  O     0.613115  0.292642  0.249916        -0\n",
      " 32  O     0.113115  0.249916  0.292642        -0\n",
      " 33  O     0.613115  0.750084  0.707358        -0\n",
      " 34  O     0.933015  0.315882  0.87135          0\n",
      " 35  O     0.433015  0.684118  0.12865          0\n"
     ]
    }
   ],
   "source": [
    "\n",
    "\n",
    "from mp_api.client import MPRester\n",
    "from llamp.utils import MP_API_KEY\n",
    "\n",
    "from monty.json import MontyDecoder\n",
    "import json\n",
    "\n",
    "\n",
    "with MPRester(MP_API_KEY, use_document_model=False, monty_decode=False) as mpr:\n",
    "\n",
    "    query_params = {\n",
    "        'formula': \"SiO2\", 'fields': [\"pretty_formula\", \"structure\", \"material_id\"]\n",
    "    }\n",
    "\n",
    "    resposne = mpr.materials.summary._search(**query_params)\n",
    "\n",
    "    mpr.materials.summary.search()\n",
    "\n",
    "    print(len(resposne))\n",
    "    print(\n",
    "        resposne[0]['material_id'],\n",
    "        resposne[0]['structure']\n",
    "        )\n",
    "\n",
    "    \n",
    "    decoded = json.loads(json.dumps(resposne[0]['structure']), cls=MontyDecoder)\n",
    "    print(decoded)\n"
   ]
  },
  {
   "cell_type": "code",
   "execution_count": null,
   "metadata": {},
   "outputs": [],
   "source": []
  }
 ],
 "metadata": {
  "kernelspec": {
   "display_name": "llamp",
   "language": "python",
   "name": "python3"
  },
  "language_info": {
   "codemirror_mode": {
    "name": "ipython",
    "version": 3
   },
   "file_extension": ".py",
   "mimetype": "text/x-python",
   "name": "python",
   "nbconvert_exporter": "python",
   "pygments_lexer": "ipython3",
   "version": "3.11.5"
  }
 },
 "nbformat": 4,
 "nbformat_minor": 2
}
