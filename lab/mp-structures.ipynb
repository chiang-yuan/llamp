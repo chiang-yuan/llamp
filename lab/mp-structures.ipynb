{
 "cells": [
  {
   "cell_type": "code",
   "execution_count": 1,
   "metadata": {},
   "outputs": [
    {
     "name": "stderr",
     "output_type": "stream",
     "text": [
      "/home/cyrus/miniconda3/envs/llamp/lib/python3.11/site-packages/mp_api/client/mprester.py:227: UserWarning: mpcontribs-client not installed. Install the package to query MPContribs data, or construct pourbaix diagrams: 'pip install mpcontribs-client'\n",
      "  warnings.warn(\n"
     ]
    }
   ],
   "source": [
    "\n",
    "\n",
    "from mp_api.client import MPRester\n",
    "from llamp.utils import MP_API_KEY\n",
    "\n",
    "from monty.json import MontyDecoder\n",
    "import json\n",
    "\n",
    "\n",
    "with MPRester(MP_API_KEY, use_document_model=False, monty_decode=False) as mpr:\n",
    "\n",
    "    query_params = {\n",
    "        'formula': \"SiO2\", 'fields': [\"pretty_formula\", \"structure\", \"material_id\"]\n",
    "    }\n",
    "\n",
    "    resposne = mpr.materials.summary._search(**query_params)\n",
    "\n",
    "    print(len(resposne))\n",
    "    print(\n",
    "        resposne[0]['material_id'],\n",
    "        resposne[0]['structure']\n",
    "        )\n",
    "\n",
    "    \n",
    "    decoded = json.loads(json.dumps(resposne[0]['structure']), cls=MontyDecoder)\n",
    "    print(decoded)\n"
   ]
  },
  {
   "cell_type": "code",
   "execution_count": null,
   "metadata": {},
   "outputs": [],
   "source": []
  }
 ],
 "metadata": {
  "kernelspec": {
   "display_name": "llamp",
   "language": "python",
   "name": "python3"
  },
  "language_info": {
   "codemirror_mode": {
    "name": "ipython",
    "version": 3
   },
   "file_extension": ".py",
   "mimetype": "text/x-python",
   "name": "python",
   "nbconvert_exporter": "python",
   "pygments_lexer": "ipython3",
   "version": "3.11.5"
  }
 },
 "nbformat": 4,
 "nbformat_minor": 2
}
