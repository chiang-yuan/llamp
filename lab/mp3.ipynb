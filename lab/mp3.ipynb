{
 "cells": [
  {
   "cell_type": "code",
   "execution_count": null,
   "metadata": {},
   "outputs": [],
   "source": [
    "import json\n",
    "import os\n",
    "\n",
    "import openai\n",
    "from langchain.tools import OpenAPISpec\n",
    "from dotenv import load_dotenv\n",
    "\n",
    "load_dotenv()\n",
    "\n",
    "OPENAI_API_KEY = os.getenv(\"OPENAI_API_KEY\", None)\n",
    "MP_API_KEY = os.getenv(\"MP_API_KEY\", None)\n",
    "\n",
    "spec = OpenAPISpec.from_file(\"mp_openapi.json\")"
   ]
  },
  {
   "cell_type": "code",
   "execution_count": null,
   "metadata": {},
   "outputs": [],
   "source": [
    "from openapi_schema_pydantic import PathItem, Operation, Parameter\n",
    "\n",
    "# TODO: construct a class\n",
    "\n",
    "\n",
    "def get_endpoints(spec: OpenAPISpec):\n",
    "    endpoints = [\n",
    "        (route, method, operation)\n",
    "        for route, paths in spec.paths.items()\n",
    "        for method, operation in paths\n",
    "        if method in [\"get\", \"post\"]\n",
    "    ]\n",
    "    return endpoints\n",
    "\n",
    "\n",
    "def get_functions(spec: OpenAPISpec):\n",
    "    endpoints = get_endpoints(spec)\n",
    "    functions = []\n",
    "    for route, method, operation in endpoints:\n",
    "        if operation is None:\n",
    "            continue\n",
    "\n",
    "        name = (\n",
    "            operation.operationId\n",
    "            if len(operation.operationId) <= 64\n",
    "            else operation.operationId[:64]\n",
    "        )\n",
    "\n",
    "        description = operation.description or operation.summary\n",
    "\n",
    "        properties = {\n",
    "            property.name: {\n",
    "                \"type\": property.param_schema.type,\n",
    "                \"description\": property.description\n",
    "                if property.description is not None\n",
    "                else \"\",\n",
    "                **(\n",
    "                    {\"enum\": property.param_schema.enum}\n",
    "                    if property.param_schema.enum is not None\n",
    "                    else {}\n",
    "                ),\n",
    "            }\n",
    "            for property in operation.parameters\n",
    "            if property.param_schema.type is not None\n",
    "        }\n",
    "\n",
    "        required = [\n",
    "            property.name for property in operation.parameters if property.required\n",
    "        ]\n",
    "        functions.append(\n",
    "            {\n",
    "                \"name\": name,\n",
    "                \"description\": description,\n",
    "                \"parameters\": {\n",
    "                    \"type\": \"object\",\n",
    "                    \"properties\": properties,\n",
    "                },\n",
    "                **({\"required\": required} if required else {}),\n",
    "            }\n",
    "        )\n",
    "\n",
    "    return functions\n",
    "\n",
    "\n",
    "functions = get_functions(spec)\n",
    "\n",
    "print(len(functions))"
   ]
  },
  {
   "cell_type": "code",
   "execution_count": null,
   "metadata": {},
   "outputs": [],
   "source": [
    "functions[0]"
   ]
  },
  {
   "cell_type": "code",
   "execution_count": null,
   "metadata": {},
   "outputs": [],
   "source": [
    "functions[11]"
   ]
  },
  {
   "cell_type": "code",
   "execution_count": null,
   "metadata": {},
   "outputs": [],
   "source": [
    "# functions = [functions[11]]\n",
    "# functions = [functions[0]]\n",
    "functions"
   ]
  },
  {
   "cell_type": "code",
   "execution_count": null,
   "metadata": {},
   "outputs": [],
   "source": [
    "user_input = \"What is the bond length of H2O?\"\n",
    "\n",
    "messages = [{\"role\": \"user\", \"content\": user_input}]\n",
    "\n",
    "response = openai.ChatCompletion.create(\n",
    "    model=\"gpt-3.5-turbo-0613\",\n",
    "    messages=messages,\n",
    "    functions=functions,\n",
    "    function_call=\"auto\",  # auto is default, but we'll be explicit\n",
    ")\n",
    "response\n",
    "# response_message = response[\"choices\"][0][\"message\"]"
   ]
  },
  {
   "cell_type": "code",
   "execution_count": null,
   "metadata": {},
   "outputs": [],
   "source": [
    "response_message"
   ]
  },
  {
   "cell_type": "code",
   "execution_count": null,
   "metadata": {},
   "outputs": [],
   "source": [
    "spec.paths[\"/mpcomplete/\"].get.parameters"
   ]
  }
 ],
 "metadata": {
  "kernelspec": {
   "display_name": ".venv",
   "language": "python",
   "name": "python3"
  },
  "language_info": {
   "codemirror_mode": {
    "name": "ipython",
    "version": 3
   },
   "file_extension": ".py",
   "mimetype": "text/x-python",
   "name": "python",
   "nbconvert_exporter": "python",
   "pygments_lexer": "ipython3",
   "version": "3.11.4"
  },
  "orig_nbformat": 4
 },
 "nbformat": 4,
 "nbformat_minor": 2
}
