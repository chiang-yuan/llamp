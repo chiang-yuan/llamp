{
 "cells": [
  {
   "cell_type": "code",
   "execution_count": null,
   "metadata": {},
   "outputs": [],
   "source": [
    "import requests\n",
    "\n",
    "\n",
    "def get_stream(query: str):\n",
    "    s = requests.Session()\n",
    "    with s.get('http://localhost:8000/chat',\n",
    "               stream=True,\n",
    "               json={'text': query}) as r:\n",
    "        for line in r.iter_content():\n",
    "            print(line.decode('utf-8'), end=\"\")\n",
    "\n",
    "\n",
    "get_stream('What is the bulk modulus of Fe?')"
   ]
  },
  {
   "cell_type": "code",
   "execution_count": 7,
   "metadata": {},
   "outputs": [
    {
     "name": "stdout",
     "output_type": "stream",
     "text": [
      "Calling Tool: `MPElectronicExpert` with input `{'input': 'What is the bandgap of CsPbI3?'}`\n",
      "---\n",
      "Tool Result: `{'input': 'What is the bandgap of CsPbI3?', 'output': 'The bandgap of CsPbI3 varies depending on the specific material structure. The reported bandgaps are 1.6421 eV for material with ID mp-1120768, 1.4785 eV for material with ID mp-1069538, and 2.5181 eV for material with ID mp-540839.'}`\n",
      "---\n",
      "Final Output: Action:\n",
      "```json\n",
      "{\n",
      "  \"action\": \"Final Answer\",\n",
      "  \"action_input\": \"The bandgap of CsPbI3 varies depending on the specific material structure. The reported bandgaps are 1.6421 eV for material with ID mp-1120768, 1.4785 eV for material with ID mp-1069538, and 2.5181 eV for material with ID mp-540839.\"\n",
      "}\n",
      "```\n",
      "---\n"
     ]
    }
   ],
   "source": [
    "get_stream(\"What's the bandgap of CsPbI3?\")"
   ]
  },
  {
   "cell_type": "code",
   "execution_count": 8,
   "metadata": {},
   "outputs": [
    {
     "name": "stdout",
     "output_type": "stream",
     "text": [
      "Calling Tool: `MPElasticityExpert` with input `{'input': 'What is the bulk modulus of iron (Fe)?'}`\n",
      "---\n",
      "Calling Tool: `MPElasticityExpert` with input `{'input': 'What is the bulk modulus of cobalt (Co)?'}`\n",
      "---\n",
      "Calling Tool: `MPElasticityExpert` with input `{'input': 'What is the bulk modulus of nickel (Ni)?'}`\n",
      "---\n",
      "Tool Result: `{'input': 'What is the bulk modulus of iron (Fe)?', 'output': 'The bulk modulus of iron (Fe) can be derived from the elastic tensor. For material ID mp-13, the Voigt average of the bulk modulus is approximately 274 GPa. Please note that the bulk modulus can vary depending on the specific crystal structure and conditions of the iron sample.'}`\n",
      "---\n",
      "Tool Result: `{'input': 'What is the bulk modulus of cobalt (Co)?', 'output': 'The bulk modulus of cobalt (Co) has been reported with different values for different crystal structures. For instance, one entry (material_id: mp-54) has a bulk modulus (Voigt-Reuss-Hill average) of approximately -1127.579 GPa, which seems to be an unphysical negative value and might indicate an issue with the data or its interpretation. Another entry (material_id: mp-102) reports a bulk modulus (Voigt-Reuss-Hill average) of 200.587 GPa, which is a more typical positive value for a bulk modulus.'}`\n",
      "---\n",
      "Tool Result: `{'input': 'What is the bulk modulus of nickel (Ni)?', 'output': 'The bulk modulus of nickel (Ni) varies depending on the specific material structure. Here are some values for different entries of nickel in the Materials Project database: mp-10257 has a bulk modulus of 197.345 GPa, mp-23 has a bulk modulus of 173.808 GPa, mp-1014111 has a bulk modulus of 15.039 GPa, and mp-1008728 has a bulk modulus of 192.55 GPa.'}`\n",
      "---\n",
      "Final Output: Action:\n",
      "```\n",
      "{\n",
      "  \"action\": \"Final Answer\",\n",
      "  \"action_input\": \"The bulk moduli of the metals are as follows: For iron (Fe), the bulk modulus is approximately 274 GPa (material ID mp-13). For cobalt (Co), there is a reported bulk modulus of 200.587 GPa (material ID mp-102), although another entry shows an unphysical negative value which likely indicates an error. For nickel (Ni), the bulk modulus varies with different entries: mp-10257 has a bulk modulus of 197.345 GPa, mp-23 has a bulk modulus of 173.808 GPa, mp-1014111 has a bulk modulus of 15.039 GPa, and mp-1008728 has a bulk modulus of 192.55 GPa.\"\n",
      "}\n",
      "```\n",
      "---\n"
     ]
    }
   ],
   "source": [
    "get_stream( \"What are the bulk moduli of the following metals: Fe, Co, Ni?\")"
   ]
  }
 ],
 "metadata": {
  "kernelspec": {
   "display_name": "venv",
   "language": "python",
   "name": "python3"
  },
  "language_info": {
   "codemirror_mode": {
    "name": "ipython",
    "version": 3
   },
   "file_extension": ".py",
   "mimetype": "text/x-python",
   "name": "python",
   "nbconvert_exporter": "python",
   "pygments_lexer": "ipython3",
   "version": "3.11.4"
  }
 },
 "nbformat": 4,
 "nbformat_minor": 2
}
