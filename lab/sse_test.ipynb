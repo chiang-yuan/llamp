{
 "cells": [
  {
   "cell_type": "code",
   "execution_count": 39,
   "metadata": {},
   "outputs": [
    {
     "name": "stdout",
     "output_type": "stream",
     "text": [
      "Action:\n",
      "```json\n",
      "{\n",
      "  \"action\": \"MPElasticityExpert\",\n",
      "  \"action_input\": {\n",
      "    \"input\": \"What is the bulk modulus of Fe?\"\n",
      "  }\n",
      "}\n",
      "```"
     ]
    }
   ],
   "source": [
    "import requests\n",
    "\n",
    "\n",
    "def get_stream(query: str):\n",
    "    s = requests.Session()\n",
    "    with s.get('http://localhost:8000/chat',\n",
    "               stream=True,\n",
    "               json={'text': query}) as r:\n",
    "        for line in r.iter_content():\n",
    "            print(line.decode('utf-8'), end=\"\")\n",
    "\n",
    "\n",
    "get_stream('What is the bulk modulus of Fe?')"
   ]
  }
 ],
 "metadata": {
  "kernelspec": {
   "display_name": "venv",
   "language": "python",
   "name": "python3"
  },
  "language_info": {
   "codemirror_mode": {
    "name": "ipython",
    "version": 3
   },
   "file_extension": ".py",
   "mimetype": "text/x-python",
   "name": "python",
   "nbconvert_exporter": "python",
   "pygments_lexer": "ipython3",
   "version": "3.11.4"
  }
 },
 "nbformat": 4,
 "nbformat_minor": 2
}
