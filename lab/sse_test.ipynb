{
 "cells": [
  {
   "cell_type": "code",
   "execution_count": 10,
   "metadata": {},
   "outputs": [
    {
     "data": {
      "text/plain": [
       "{'status': 'ok'}"
      ]
     },
     "execution_count": 10,
     "metadata": {},
     "output_type": "execute_result"
    }
   ],
   "source": [
    "import requests\n",
    "\n",
    "response = requests.get('http://localhost:8000/health')\n",
    "response.json()\n"
   ]
  },
  {
   "cell_type": "code",
   "execution_count": 11,
   "metadata": {},
   "outputs": [],
   "source": [
    "import requests\n",
    "\n",
    "\n",
    "def get_stream(query: str):\n",
    "    s = requests.Session()\n",
    "    with s.post('http://localhost:8000/chat',\n",
    "               stream=True,\n",
    "               json={'text': query}) as r:\n",
    "        for line in r.iter_content():\n",
    "            print(line.decode('utf-8'), end=\"\")\n",
    "\n"
   ]
  },
  {
   "cell_type": "code",
   "execution_count": 7,
   "metadata": {},
   "outputs": [
    {
     "name": "stdout",
     "output_type": "stream",
     "text": [
      "Calling Tool: `MPElectronicExpert` with input `{'input': 'What is the bandgap of CsPbI3?'}`\n",
      "---\n",
      "Tool Result: `{'input': 'What is the bandgap of CsPbI3?', 'output': 'The bandgap of CsPbI3 varies depending on the specific material structure. The reported bandgaps are 1.6421 eV for material with ID mp-1120768, 1.4785 eV for material with ID mp-1069538, and 2.5181 eV for material with ID mp-540839.'}`\n",
      "---\n",
      "Final Output: Action:\n",
      "```json\n",
      "{\n",
      "  \"action\": \"Final Answer\",\n",
      "  \"action_input\": \"The bandgap of CsPbI3 varies depending on the specific material structure. The reported bandgaps are 1.6421 eV for material with ID mp-1120768, 1.4785 eV for material with ID mp-1069538, and 2.5181 eV for material with ID mp-540839.\"\n",
      "}\n",
      "```\n",
      "---\n"
     ]
    }
   ],
   "source": [
    "get_stream(\"What's the bandgap of CsPbI3?\")"
   ]
  },
  {
   "cell_type": "code",
   "execution_count": null,
   "metadata": {},
   "outputs": [],
   "source": [
    "get_stream('What is the bulk modulus of Fe?')"
   ]
  },
  {
   "cell_type": "code",
   "execution_count": 20,
   "metadata": {},
   "outputs": [
    {
     "name": "stdout",
     "output_type": "stream",
     "text": [
      "Calling Tool: `MPElasticityExpert` with input `{'input': 'What is the bulk modulus of iron (Fe)?'}`\n",
      "---\n",
      "Calling Tool: `MPElasticityExpert` with input `{'input': 'What is the bulk modulus of cobalt (Co)?'}`\n",
      "---\n",
      "Calling Tool: `MPElasticityExpert` with input `{'input': 'What is the bulk modulus of nickel (Ni)?'}`\n",
      "---\n",
      "Tool Result: `{'input': 'What is the bulk modulus of iron (Fe)?', 'output': 'The bulk modulus of iron (Fe) varies depending on the specific crystal structure and conditions. Here are some values for different entries of iron in the Materials Project database: mp-150 has a bulk modulus of approximately 170 GPa, mp-568345 has a bulk modulus of approximately 180 GPa, mp-13 has a bulk modulus of approximately 170 GPa, and mp-136 has a bulk modulus of approximately 170 GPa. These values are derived from the elastic tensor data and represent the Voigt-Reuss-Hill average bulk modulus.'}`\n",
      "---\n",
      "Tool Result: `{'input': 'What is the bulk modulus of cobalt (Co)?', 'output': 'The bulk modulus of cobalt (Co) has been reported with different values for different structures. For instance, one structure of cobalt with material ID mp-54 has a bulk modulus (Voigt-Reuss-Hill average) of approximately -1127.579 GPa, which seems to be an erroneous value due to its negative sign. Another structure with material ID mp-102 has a bulk modulus (Voigt-Reuss-Hill average) of 200.587 GPa, which is a more typical value for a metallic element.'}`\n",
      "---\n",
      "Tool Result: `{'input': 'What is the bulk modulus of nickel (Ni)?', 'output': 'The bulk modulus of nickel (Ni) varies depending on the specific crystal structure and conditions. Here are some values for the bulk modulus (K) from different entries on Materials Project: mp-1008728: K ~ 180 GPa (approximated from elastic tensor), mp-1014111: K is not well-defined due to atypical elastic tensor values, mp-23: K ~ 210 GPa (approximated from elastic tensor), mp-10257: K ~ 270 GPa (approximated from elastic tensor). Please note that these values are derived from the elastic tensor and should be used as estimates.'}`\n",
      "---\n",
      "Final Output: Action:\n",
      "```\n",
      "{\n",
      "  \"action\": \"Final Answer\",\n",
      "  \"action_input\": \"The bulk moduli of the metals are as follows: For iron (Fe), the bulk modulus varies depending on the crystal structure and conditions, with values around 170 GPa to 180 GPa. For cobalt (Co), the bulk modulus also varies, with a typical value reported around 200.587 GPa for one of the structures. However, there is an erroneous value of -1127.579 GPa for another structure, which should be disregarded. For nickel (Ni), the bulk modulus ranges from approximately 180 GPa to 270 GPa, depending on the specific crystal structure and conditions.\"\n",
      "}\n",
      "```\n",
      "---\n"
     ]
    }
   ],
   "source": [
    "get_stream( \"What are the bulk moduli of the following metals: Fe, Co, Ni?\")"
   ]
  },
  {
   "cell_type": "code",
   "execution_count": 14,
   "metadata": {},
   "outputs": [
    {
     "name": "stdout",
     "output_type": "stream",
     "text": [
      "Final Output: Action:\n",
      "```json\n",
      "{\n",
      "  \"action\": \"multi_tool_use.parallel\",\n",
      "  \"action_input\": {\n",
      "    \"tool_uses\": [\n",
      "      {\n",
      "        \"recipient_name\": \"functions.MPElasticityExpert\",\n",
      "        \"parameters\": {\n",
      "          \"input\": \"What is the material with the highest bulk modulus in the Si-O system?\"\n",
      "        }\n",
      "      },\n",
      "      {\n",
      "        \"recipient_name\": \"functions.MPThermoExpert\",\n",
      "        \"parameters\": {\n",
      "          \"input\": \"What is the material with the lowest formation energy in the Si-O system?\"\n",
      "        }\n",
      "      }\n",
      "    ]\n",
      "  }\n",
      "}\n",
      "```\n",
      "---\n"
     ]
    }
   ],
   "source": [
    "# FIXME\n",
    "get_stream(\"What's the stiffest material with the lowest formation energy in Si-O system?\")"
   ]
  },
  {
   "cell_type": "code",
   "execution_count": 26,
   "metadata": {},
   "outputs": [
    {
     "name": "stdout",
     "output_type": "stream",
     "text": [
      "Calling Tool: `MPElasticityExpert` with input `{'input': 'What is the full elastic tensor of NaCl?'}`\n",
      "---\n",
      "Tool Result: `{'input': 'What is the full elastic tensor of NaCl?', 'output': \"The full elastic tensor of NaCl is available for two different entries in the Materials Project database. For material_id 'mp-22862', the raw elastic tensor is [[47.49860799851083, 11.905982188412978, 11.905982188412978, -2.8969882048812674e-16, -8.326672684688672e-17, -4.0245584642661915e-16], [11.905982188412978, 47.49860799851083, 11.905982188412978, -8.326672684688672e-17, -2.8969882048812674e-16, 8.755854048151501e-16], [11.905982188412978, 11.905982188412978, 47.498607998510835, -2.7755575615628873e-17, -4.0245584642661934e-16, -2.8969882048812674e-16], [-2.8969882048812674e-16, -8.326672684688672e-17, -2.7755575615628873e-17, 12.346528650005286, 0.0, 4.548539333379926e-32], [-8.326672684688672e-17, -2.8969882048812674e-16, -4.0245584642661934e-16, 0.0, 12.346528650005286, -3.426850095357504e-16], [-4.0245584642661915e-16, 8.755854048151501e-16, -2.8969882048812674e-16, 4.548539333379926e-32, -3.426850095357504e-16, 12.346528650005297]]. For material_id 'mp-22851', the raw elastic tensor is [[75.98221656025066, 0.7598099394417421, 0.7598099394417421, 4.510281037539697e-16, 4.440892098500625e-16, 4.440892098500625e-16], [0.7598099394417421, 75.98221656025066, 0.7598099394417424, 4.440892098500625e-16, 4.510281037539697e-16, 5.229936620407271e-16], [0.7598099394417421, 0.7598099394417424, 75.98221656025068, 4.440892098500626e-16, 4.440892098500626e-16, 4.510281037539696e-16], [4.510281037539697e-16, 4.440892098500625e-16, 4.440892098500626e-16, -2.6118973682358293, 0.0, -7.081558243585513e-32], [4.440892098500625e-16, 4.510281037539697e-16, 4.440892098500626e-16, 0.0, -2.6118973682358297, 7.249471490433169e-17], [4.440892098500625e-16, 5.229936620407271e-16, 4.510281037539696e-16, -7.081558243585513e-32, 7.249471490433169e-17, -2.611897368235813]].\"}`\n",
      "---\n",
      "Final Output: Action:\n",
      "```\n",
      "{\n",
      "  \"action\": \"Final Answer\",\n",
      "  \"action_input\": \"The full elastic tensor of NaCl is available for two different entries in the Materials Project database. For material_id 'mp-22862', the raw elastic tensor is [[47.49860799851083, 11.905982188412978, 11.905982188412978, -2.8969882048812674e-16, -8.326672684688672e-17, -4.0245584642661915e-16], [11.905982188412978, 47.49860799851083, 11.905982188412978, -8.326672684688672e-17, -2.8969882048812674e-16, 8.755854048151501e-16], [11.905982188412978, 11.905982188412978, 47.498607998510835, -2.7755575615628873e-17, -4.0245584642661934e-16, -2.8969882048812674e-16], [-2.8969882048812674e-16, -8.326672684688672e-17, -2.7755575615628873e-17, 12.346528650005286, 0.0, 4.548539333379926e-32], [-8.326672684688672e-17, -2.8969882048812674e-16, -4.0245584642661934e-16, 0.0, 12.346528650005286, -3.426850095357504e-16], [-4.0245584642661915e-16, 8.755854048151501e-16, -2.8969882048812674e-16, 4.548539333379926e-32, -3.426850095357504e-16, 12.346528650005297]]. For material_id 'mp-22851', the raw elastic tensor is [[75.98221656025066, 0.7598099394417421, 0.7598099394417421, 4.510281037539697e-16, 4.440892098500625e-16, 4.440892098500625e-16], [0.7598099394417421, 75.98221656025066, 0.7598099394417424, 4.440892098500625e-16, 4.510281037539697e-16, 5.229936620407271e-16], [0.7598099394417421, 0.7598099394417424, 75.98221656025068, 4.440892098500626e-16, 4.440892098500626e-16, 4.510281037539696e-16], [4.510281037539697e-16, 4.440892098500625e-16, 4.440892098500626e-16, -2.6118973682358293, 0.0, -7.081558243585513e-32], [4.440892098500625e-16, 4.510281037539697e-16, 4.440892098500626e-16, 0.0, -2.6118973682358297, 7.249471490433169e-17], [4.440892098500625e-16, 5.229936620407271e-16, 4.510281037539696e-16, -7.081558243585513e-32, 7.249471490433169e-17, -2.611897368235813]].\"\n",
      "}\n",
      "```\n",
      "---\n"
     ]
    }
   ],
   "source": [
    "get_stream(\"What is the full elastic tensor of NaCl?\")"
   ]
  },
  {
   "cell_type": "code",
   "execution_count": 12,
   "metadata": {},
   "outputs": [
    {
     "name": "stdout",
     "output_type": "stream",
     "text": [
      "Final Output: To provide information on the synthesis of YMnO_3 (Yttrium Manganese Oxide), I would need to consult scientific literature or databases that might contain synthesis methods for this compound. However, I do not have direct access to such databases or literature. Synthesis methods for materials can vary widely and often require specific laboratory techniques and conditions. Common methods for synthesizing oxides like YMnO_3 include solid-state reaction, sol-gel processes, hydrothermal synthesis, and chemical vapor deposition, among others.\n",
      "\n",
      "For detailed synthesis procedures, researchers typically refer to scientific articles, patents, or materials science textbooks. If you are looking for a specific synthesis method, I recommend consulting recent scientific literature or materials science resources that specialize in the synthesis of complex oxides.\n",
      "\n",
      "If you have access to a database or a specific reference that you would like me to look into, please provide that information, and I will assist you to the best of my ability.\n",
      "\n",
      "Action:\n",
      "```\n",
      "{\n",
      "  \"action\": \"Final Answer\",\n",
      "  \"action_input\": \"To obtain detailed synthesis methods for YMnO3, one should consult scientific literature or materials science resources. Common synthesis techniques include solid-state reaction, sol-gel processes, hydrothermal synthesis, and chemical vapor deposition. If you have access to a specific database or reference, please provide that information for further assistance.\"\n",
      "}\n",
      "```\n",
      "---\n"
     ]
    }
   ],
   "source": [
    "# FIXME\n",
    "get_stream(\"How to synthesize YMnO3?\")\n"
   ]
  }
 ],
 "metadata": {
  "kernelspec": {
   "display_name": "venv",
   "language": "python",
   "name": "python3"
  },
  "language_info": {
   "codemirror_mode": {
    "name": "ipython",
    "version": 3
   },
   "file_extension": ".py",
   "mimetype": "text/x-python",
   "name": "python",
   "nbconvert_exporter": "python",
   "pygments_lexer": "ipython3",
   "version": "3.11.4"
  }
 },
 "nbformat": 4,
 "nbformat_minor": 2
}
