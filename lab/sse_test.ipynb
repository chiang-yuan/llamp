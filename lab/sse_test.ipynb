{
 "cells": [
  {
   "cell_type": "code",
   "execution_count": 1,
   "metadata": {},
   "outputs": [
    {
     "data": {
      "text/plain": [
       "{'status': 'ok'}"
      ]
     },
     "execution_count": 1,
     "metadata": {},
     "output_type": "execute_result"
    }
   ],
   "source": [
    "import requests\n",
    "\n",
    "response = requests.get('http://localhost:8000/health')\n",
    "response.json()\n"
   ]
  },
  {
   "cell_type": "code",
   "execution_count": 109,
   "metadata": {},
   "outputs": [],
   "source": [
    "import requests\n",
    "\n",
    "\n",
    "def get_stream(query: str):\n",
    "    s = requests.Session()\n",
    "    buffer = b''\n",
    "    with s.post('http://localhost:8000/chat', stream=True, json={'text': query}) as r:\n",
    "        for chunk in r.iter_content(chunk_size=1):\n",
    "            buffer += chunk\n",
    "            try:\n",
    "                text = buffer.decode('utf-8')\n",
    "                print(text, end=\"\")\n",
    "                buffer = b''\n",
    "            except UnicodeDecodeError:\n",
    "                continue\n"
   ]
  },
  {
   "cell_type": "code",
   "execution_count": 127,
   "metadata": {},
   "outputs": [
    {
     "name": "stdout",
     "output_type": "stream",
     "text": [
      "Thought: To provide the bandgap of CsPbI3, I will use the MPElectronicExpert tool to query the Materials Project database.\n",
      "\n",
      "Action:\n",
      "```json\n",
      "{\n",
      "  \"action\": \"MPElectronicExpert\",\n",
      "  \"action_input\": {\n",
      "    \"input\": \"What is the bandgap of CsPbI3?\"\n",
      "  }\n",
      "}\n",
      "```AGENT_ACTION: tool='MPElectronicExpert' tool_input={'input': 'What is the bandgap of CsPbI3?'} log='Thought: To provide the bandgap of CsPbI3, I will use the MPElectronicExpert tool to query the Materials Project database.\\n\\nAction:\\n```json\\n{\\n  \"action\": \"MPElectronicExpert\",\\n  \"action_input\": {\\n    \"input\": \"What is the bandgap of CsPbI3?\"\\n  }\\n}\\n```'Action:\n",
      "```\n",
      "{\n",
      "  \"action\": \"search_materials_electronic_structure__get\",\n",
      "  \"action_input\": {\n",
      "    \"formula\": \"CsPbI3\"\n",
      "  }\n",
      "}\n",
      "```Action:\n",
      "```\n",
      "{\n",
      "  \"action\": \"Final Answer\",\n",
      "  \"action_input\": \"The bandgap of CsPbI3 varies depending on the specific material structure. The reported bandgaps are 1.6421 eV for material with ID mp-1120768, 1.4785 eV for material with ID mp-1069538, and 2.5181 eV for material with ID mp-540839.\"\n",
      "}\n",
      "```Action:\n",
      "```json\n",
      "{\n",
      "  \"action\": \"Final Answer\",\n",
      "  \"action_input\": \"The bandgap of CsPbI3 varies depending on the specific material structure. The reported bandgaps are 1.6421 eV for material with ID mp-1120768, 1.4785 eV for material with ID mp-1069538, and 2.5181 eV for material with ID mp-540839.\"\n",
      "}\n",
      "```"
     ]
    }
   ],
   "source": [
    "get_stream(\"What's the bandgap of CsPbI3?\")"
   ]
  },
  {
   "cell_type": "code",
   "execution_count": 118,
   "metadata": {},
   "outputs": [
    {
     "name": "stdout",
     "output_type": "stream",
     "text": [
      "Action:\n",
      "```json\n",
      "{\n",
      "  \"action\": \"MPElasticityExpert\",\n",
      "  \"action_input\": {\n",
      "    \"input\": \"What is the bulk modulus of Fe?\"\n",
      "  }\n",
      "}\n",
      "```Action:\n",
      "```\n",
      "{\n",
      "  \"action\": \"search_materials_elasticity__get\",\n",
      "  \"action_input\": {\n",
      "    \"formula\": \"Fe\"\n",
      "  }\n",
      "}\n",
      "```Action:\n",
      "```\n",
      "{\n",
      "  \"action\": \"Final Answer\",\n",
      "  \"action_input\": \"The bulk modulus of Fe varies depending on the crystal structure and conditions. For example, material with ID mp-13 has a bulk modulus (Voigt-Reuss-Hill average) of approximately 170 GPa, while material with ID mp-136 has a bulk modulus of approximately 172 GPa. Please note that these values are derived from the elastic tensor and are approximate.\"\n",
      "}\n",
      "```Action:\n",
      "```json\n",
      "{\n",
      "  \"action\": \"Final Answer\",\n",
      "  \"action_input\": \"The bulk modulus of iron (Fe) varies depending on its crystal structure and conditions. For instance, the material with ID mp-13 has a bulk modulus (Voigt-Reuss-Hill average) of approximately 170 GPa, and the material with ID mp-136 has a bulk modulus of approximately 172 GPa. These values are derived from the elastic tensor and should be considered approximate.\"\n",
      "}\n",
      "```"
     ]
    }
   ],
   "source": [
    "get_stream('What is the bulk modulus of Fe?')"
   ]
  },
  {
   "cell_type": "code",
   "execution_count": 20,
   "metadata": {},
   "outputs": [
    {
     "name": "stdout",
     "output_type": "stream",
     "text": [
      "Calling Tool: `MPElasticityExpert` with input `{'input': 'What is the bulk modulus of iron (Fe)?'}`\n",
      "---\n",
      "Calling Tool: `MPElasticityExpert` with input `{'input': 'What is the bulk modulus of cobalt (Co)?'}`\n",
      "---\n",
      "Calling Tool: `MPElasticityExpert` with input `{'input': 'What is the bulk modulus of nickel (Ni)?'}`\n",
      "---\n",
      "Tool Result: `{'input': 'What is the bulk modulus of iron (Fe)?', 'output': 'The bulk modulus of iron (Fe) varies depending on the specific crystal structure and conditions. Here are some values for different entries of iron in the Materials Project database: mp-150 has a bulk modulus of approximately 170 GPa, mp-568345 has a bulk modulus of approximately 180 GPa, mp-13 has a bulk modulus of approximately 170 GPa, and mp-136 has a bulk modulus of approximately 170 GPa. These values are derived from the elastic tensor data and represent the Voigt-Reuss-Hill average bulk modulus.'}`\n",
      "---\n",
      "Tool Result: `{'input': 'What is the bulk modulus of cobalt (Co)?', 'output': 'The bulk modulus of cobalt (Co) has been reported with different values for different structures. For instance, one structure of cobalt with material ID mp-54 has a bulk modulus (Voigt-Reuss-Hill average) of approximately -1127.579 GPa, which seems to be an erroneous value due to its negative sign. Another structure with material ID mp-102 has a bulk modulus (Voigt-Reuss-Hill average) of 200.587 GPa, which is a more typical value for a metallic element.'}`\n",
      "---\n",
      "Tool Result: `{'input': 'What is the bulk modulus of nickel (Ni)?', 'output': 'The bulk modulus of nickel (Ni) varies depending on the specific crystal structure and conditions. Here are some values for the bulk modulus (K) from different entries on Materials Project: mp-1008728: K ~ 180 GPa (approximated from elastic tensor), mp-1014111: K is not well-defined due to atypical elastic tensor values, mp-23: K ~ 210 GPa (approximated from elastic tensor), mp-10257: K ~ 270 GPa (approximated from elastic tensor). Please note that these values are derived from the elastic tensor and should be used as estimates.'}`\n",
      "---\n",
      "Final Output: Action:\n",
      "```\n",
      "{\n",
      "  \"action\": \"Final Answer\",\n",
      "  \"action_input\": \"The bulk moduli of the metals are as follows: For iron (Fe), the bulk modulus varies depending on the crystal structure and conditions, with values around 170 GPa to 180 GPa. For cobalt (Co), the bulk modulus also varies, with a typical value reported around 200.587 GPa for one of the structures. However, there is an erroneous value of -1127.579 GPa for another structure, which should be disregarded. For nickel (Ni), the bulk modulus ranges from approximately 180 GPa to 270 GPa, depending on the specific crystal structure and conditions.\"\n",
      "}\n",
      "```\n",
      "---\n"
     ]
    }
   ],
   "source": [
    "get_stream( \"What are the bulk moduli of the following metals: Fe, Co, Ni?\")"
   ]
  },
  {
   "cell_type": "code",
   "execution_count": 14,
   "metadata": {},
   "outputs": [
    {
     "name": "stdout",
     "output_type": "stream",
     "text": [
      "Final Output: Action:\n",
      "```json\n",
      "{\n",
      "  \"action\": \"multi_tool_use.parallel\",\n",
      "  \"action_input\": {\n",
      "    \"tool_uses\": [\n",
      "      {\n",
      "        \"recipient_name\": \"functions.MPElasticityExpert\",\n",
      "        \"parameters\": {\n",
      "          \"input\": \"What is the material with the highest bulk modulus in the Si-O system?\"\n",
      "        }\n",
      "      },\n",
      "      {\n",
      "        \"recipient_name\": \"functions.MPThermoExpert\",\n",
      "        \"parameters\": {\n",
      "          \"input\": \"What is the material with the lowest formation energy in the Si-O system?\"\n",
      "        }\n",
      "      }\n",
      "    ]\n",
      "  }\n",
      "}\n",
      "```\n",
      "---\n"
     ]
    }
   ],
   "source": [
    "# FIXME\n",
    "get_stream(\"What's the stiffest material with the lowest formation energy in Si-O system?\")"
   ]
  },
  {
   "cell_type": "code",
   "execution_count": 120,
   "metadata": {},
   "outputs": [
    {
     "name": "stdout",
     "output_type": "stream",
     "text": [
      "Action:\n",
      "```json\n",
      "{\n",
      "  \"action\": \"MPElasticityExpert\",\n",
      "  \"action_input\": {\n",
      "    \"input\": \"What is the full elastic tensor of NaCl?\"\n",
      "  }\n",
      "}\n",
      "```Action:\n",
      "```\n",
      "{\n",
      "  \"action\": \"search_materials_elasticity__get\",\n",
      "  \"action_input\": {\n",
      "    \"formula\": \"NaCl\",\n",
      "    \"fields\": \"material_id,formula_pretty,elastic_tensor\"\n",
      "  }\n",
      "}\n",
      "```Action:\n",
      "```\n",
      "{\n",
      "  \"action\": \"Final Answer\",\n",
      "  \"action_input\": \"The full elastic tensor of NaCl is available for two different entries in the Materials Project database. For material_id 'mp-22851', the raw elastic tensor is [[75.98221656025066, 0.7598099394417421, 0.7598099394417421, 4.510281037539697e-16, 4.440892098500625e-16, 4.440892098500625e-16], [0.7598099394417421, 75.98221656025066, 0.7598099394417424, 4.440892098500625e-16, 4.510281037539697e-16, 5.229936620407271e-16], [0.7598099394417421, 0.7598099394417424, 75.98221656025068, 4.440892098500626e-16, 4.440892098500626e-16, 4.510281037539696e-16], [4.510281037539697e-16, 4.440892098500625e-16, 4.440892098500626e-16, -2.6118973682358293, 0.0, -7.081558243585513e-32], [4.440892098500625e-16, 4.510281037539697e-16, 4.440892098500626e-16, 0.0, -2.6118973682358297, 7.249471490433169e-17], [4.440892098500625e-16, 5.229936620407271e-16, 4.510281037539696e-16, -7.081558243585513e-32, 7.249471490433169e-17, -2.611897368235813]]. For material_id 'mp-22862', the raw elastic tensor is [[47.49860799851083, 11.905982188412978, 11.905982188412978, -2.8969882048812674e-16, -8.326672684688672e-17, -4.0245584642661915e-16], [11.905982188412978, 47.49860799851083, 11.905982188412978, -8.326672684688672e-17, -2.8969882048812674e-16, 8.755854048151501e-16], [11.905982188412978, 11.905982188412978, 47.498607998510835, -2.7755575615628873e-17, -4.0245584642661934e-16, -2.8969882048812674e-16], [-2.8969882048812674e-16, -8.326672684688672e-17, -2.7755575615628873e-17, 12.346528650005286, 0.0, 4.548539333379926e-32], [-8.326672684688672e-17, -2.8969882048812674e-16, -4.0245584642661934e-16, 0.0, 12.346528650005286, -3.426850095357504e-16], [-4.0245584642661915e-16, 8.755854048151501e-16, -2.8969882048812674e-16, 4.548539333379926e-32, -3.426850095357504e-16, 12.346528650005297]].\"\n",
      "}\n",
      "```Action:\n",
      "```json\n",
      "{\n",
      "  \"action\": \"Final Answer\",\n",
      "  \"action_input\": \"The full elastic tensor of NaCl is available for two different entries in the Materials Project database. For material_id 'mp-22851', the raw elastic tensor is [[75.98221656025066, 0.7598099394417421, 0.7598099394417421, 4.510281037539697e-16, 4.440892098500625e-16, 4.440892098500625e-16], [0.7598099394417421, 75.98221656025066, 0.7598099394417424, 4.440892098500625e-16, 4.510281037539697e-16, 5.229936620407271e-16], [0.7598099394417421, 0.7598099394417424, 75.98221656025068, 4.440892098500626e-16, 4.440892098500626e-16, 4.510281037539696e-16], [4.510281037539697e-16, 4.440892098500625e-16, 4.440892098500626e-16, -2.6118973682358293, 0.0, -7.081558243585513e-32], [4.440892098500625e-16, 4.510281037539697e-16, 4.440892098500626e-16, 0.0, -2.6118973682358297, 7.249471490433169e-17], [4.440892098500625e-16, 5.229936620407271e-16, 4.510281037539696e-16, -7.081558243585513e-32, 7.249471490433169e-17, -2.611897368235813]]. For material_id 'mp-22862', the raw elastic tensor is [[47.49860799851083, 11.905982188412978, 11.905982188412978, -2.8969882048812674e-16, -8.326672684688672e-17, -4.0245584642661915e-16], [11.905982188412978, 47.49860799851083, 11.905982188412978, -8.326672684688672e-17, -2.8969882048812674e-16, 8.755854048151501e-16], [11.905982188412978, 11.905982188412978, 47.498607998510835, -2.7755575615628873e-17, -4.0245584642661934e-16, -2.8969882048812674e-16], [-2.8969882048812674e-16, -8.326672684688672e-17, -2.7755575615628873e-17, 12.346528650005286, 0.0, 4.548539333379926e-32], [-8.326672684688672e-17, -2.8969882048812674e-16, -4.0245584642661934e-16, 0.0, 12.346528650005286, -3.426850095357504e-16], [-4.0245584642661915e-16, 8.755854048151501e-16, -2.8969882048812674e-16, 4.548539333379926e-32, -3.426850095357504e-16, 12.346528650005297]].\"\n",
      "}\n",
      "```"
     ]
    }
   ],
   "source": [
    "get_stream(\"What is the full elastic tensor of NaCl?\")"
   ]
  },
  {
   "cell_type": "code",
   "execution_count": 121,
   "metadata": {},
   "outputs": [
    {
     "name": "stdout",
     "output_type": "stream",
     "text": [
      "Action:\n",
      "```json\n",
      "{\n",
      "  \"action\": \"MPSynthesisExpert\",\n",
      "  \"action_input\": {\n",
      "    \"input\": \"How to synthesize YMnO3?\"\n",
      "  }\n",
      "}\n",
      "```AGENT_ACTION: tool='MPSynthesisExpert' tool_input={'input': 'How to synthesize YMnO3?'} log='Action:\\n```json\\n{\\n  \"action\": \"MPSynthesisExpert\",\\n  \"action_input\": {\\n    \"input\": \"How to synthesize YMnO3?\"\\n  }\\n}\\n```'Action:\n",
      "```\n",
      "{\n",
      "  \"action\": \"search_materials_synthesis__get\",\n",
      "  \"action_input\": {\n",
      "    \"target_formula\": \"YMnO3\"\n",
      "  }\n",
      "}\n",
      "```Action:\n",
      "```\n",
      "{\n",
      "  \"action\": \"Final Answer\",\n",
      "  \"action_input\": \"The synthesis of YMnO3 can be achieved through a solid-state reaction method. According to the literature, one way to synthesize YMnO3 is by reacting Y(NO3)3·6H2O with Mn(NO3)2·4H2O and [OH-] in the presence of O2. The precursors are dissolved in water, and citric acid is added during the process. The mixture is then heated at 250°C for 2 hours, followed by heating at a temperature range of 700°C to 930°C for 10 to 18 hours in an air atmosphere. For more detailed procedures and conditions, please refer to the source with DOI: 10.1021/ic502027k.\"\n",
      "}\n",
      "```Action:\n",
      "```json\n",
      "{\n",
      "  \"action\": \"Final Answer\",\n",
      "  \"action_input\": \"The synthesis of YMnO3 can be achieved through a solid-state reaction method. According to the literature, one way to synthesize YMnO3 is by reacting Y(NO3)3·6H2O with Mn(NO3)2·4H2O and [OH-] in the presence of O2. The precursors are dissolved in water, and citric acid is added during the process. The mixture is then heated at 250°C for 2 hours, followed by heating at a temperature range of 700°C to 930°C for 10 to 18 hours in an air atmosphere. For more detailed procedures and conditions, please refer to the source with DOI: 10.1021/ic502027k.\"\n",
      "}\n",
      "```"
     ]
    }
   ],
   "source": [
    "# FIXME\n",
    "get_stream(\"How to synthesize YMnO3?\")\n"
   ]
  },
  {
   "cell_type": "code",
   "execution_count": 111,
   "metadata": {},
   "outputs": [
    {
     "name": "stdout",
     "output_type": "stream",
     "text": [
      "Action:\n",
      "```json\n",
      "{\n",
      "  \"action\": \"MPStructureRetriever\",\n",
      "  \"action_input\": {\n",
      "    \"input\": \"Y2O3 structure\"\n",
      "  }\n",
      "}\n",
      "```Action:\n",
      "```\n",
      "{\n",
      "  \"action\": \"search_materials_structure__get\",\n",
      "  \"action_input\": {\n",
      "    \"formula\": \"Y2O3\",\n",
      "    \"limit\": 5\n",
      "  }\n",
      "}\n",
      "```Action:\n",
      "```json\n",
      "{\n",
      "  \"action\": \"MPStructureRetriever\",\n",
      "  \"action_input\": {\n",
      "    \"input\": \"Y2O3 structure\"\n",
      "  }\n",
      "}\n",
      "```Action:\n",
      "```\n",
      "{\n",
      "  \"action\": \"search_materials_structure__get\",\n",
      "  \"action_input\": {\n",
      "    \"formula\": \"Y2O3\"\n",
      "  }\n",
      "}\n",
      "```Action:\n",
      "```json\n",
      "{\n",
      "  \"action\": \"Final Answer\",\n",
      "  \"action_input\": \"The structure of Y2O3 (Yttrium Oxide) can be represented by several entries in the Materials Project database. Here is the structure for one of the entries with the material ID 'mp-2652':\\n\\n- Lattice parameters:\\n  - a: 9.18664496684133 Å\\n  - b: 9.186645498602466 Å\\n  - c: 9.18664537 Å\\n  - alpha: 109.47122257802636°\\n  - beta: 109.4712237505925°\\n  - gamma: 109.47121307982988°\\n  - volume: 596.8276909170065 Å³\\n\\n- Wyckoff positions:\\n  - Y: [0.25, 0.71745644, 0.46745644] (and other equivalent positions"
     ]
    },
    {
     "ename": "KeyboardInterrupt",
     "evalue": "",
     "output_type": "error",
     "traceback": [
      "\u001b[0;31m---------------------------------------------------------------------------\u001b[0m",
      "\u001b[0;31mKeyboardInterrupt\u001b[0m                         Traceback (most recent call last)",
      "Cell \u001b[0;32mIn[111], line 2\u001b[0m\n\u001b[1;32m      1\u001b[0m \u001b[38;5;66;03m# FIXME: structure\u001b[39;00m\n\u001b[0;32m----> 2\u001b[0m \u001b[43mget_stream\u001b[49m\u001b[43m(\u001b[49m\u001b[38;5;124;43m\"\u001b[39;49m\u001b[38;5;124;43mPlease give me the structure of Y2O3\u001b[39;49m\u001b[38;5;124;43m\"\u001b[39;49m\u001b[43m)\u001b[49m\n",
      "Cell \u001b[0;32mIn[109], line 8\u001b[0m, in \u001b[0;36mget_stream\u001b[0;34m(query)\u001b[0m\n\u001b[1;32m      6\u001b[0m buffer \u001b[38;5;241m=\u001b[39m \u001b[38;5;124mb\u001b[39m\u001b[38;5;124m'\u001b[39m\u001b[38;5;124m'\u001b[39m\n\u001b[1;32m      7\u001b[0m \u001b[38;5;28;01mwith\u001b[39;00m s\u001b[38;5;241m.\u001b[39mpost(\u001b[38;5;124m'\u001b[39m\u001b[38;5;124mhttp://localhost:8000/chat\u001b[39m\u001b[38;5;124m'\u001b[39m, stream\u001b[38;5;241m=\u001b[39m\u001b[38;5;28;01mTrue\u001b[39;00m, json\u001b[38;5;241m=\u001b[39m{\u001b[38;5;124m'\u001b[39m\u001b[38;5;124mtext\u001b[39m\u001b[38;5;124m'\u001b[39m: query}) \u001b[38;5;28;01mas\u001b[39;00m r:\n\u001b[0;32m----> 8\u001b[0m \u001b[43m    \u001b[49m\u001b[38;5;28;43;01mfor\u001b[39;49;00m\u001b[43m \u001b[49m\u001b[43mchunk\u001b[49m\u001b[43m \u001b[49m\u001b[38;5;129;43;01min\u001b[39;49;00m\u001b[43m \u001b[49m\u001b[43mr\u001b[49m\u001b[38;5;241;43m.\u001b[39;49m\u001b[43miter_content\u001b[49m\u001b[43m(\u001b[49m\u001b[43mchunk_size\u001b[49m\u001b[38;5;241;43m=\u001b[39;49m\u001b[38;5;241;43m1\u001b[39;49m\u001b[43m)\u001b[49m\u001b[43m:\u001b[49m\u001b[43m  \u001b[49m\u001b[38;5;66;43;03m# Read one byte at a time\u001b[39;49;00m\n\u001b[1;32m      9\u001b[0m \u001b[43m        \u001b[49m\u001b[43mbuffer\u001b[49m\u001b[43m \u001b[49m\u001b[38;5;241;43m+\u001b[39;49m\u001b[38;5;241;43m=\u001b[39;49m\u001b[43m \u001b[49m\u001b[43mchunk\u001b[49m\n\u001b[1;32m     10\u001b[0m \u001b[43m        \u001b[49m\u001b[38;5;28;43;01mtry\u001b[39;49;00m\u001b[43m:\u001b[49m\n",
      "File \u001b[0;32m~/code/llamp/venv/lib/python3.11/site-packages/requests/models.py:816\u001b[0m, in \u001b[0;36mResponse.iter_content.<locals>.generate\u001b[0;34m()\u001b[0m\n\u001b[1;32m    814\u001b[0m \u001b[38;5;28;01mif\u001b[39;00m \u001b[38;5;28mhasattr\u001b[39m(\u001b[38;5;28mself\u001b[39m\u001b[38;5;241m.\u001b[39mraw, \u001b[38;5;124m\"\u001b[39m\u001b[38;5;124mstream\u001b[39m\u001b[38;5;124m\"\u001b[39m):\n\u001b[1;32m    815\u001b[0m     \u001b[38;5;28;01mtry\u001b[39;00m:\n\u001b[0;32m--> 816\u001b[0m         \u001b[38;5;28;01myield from\u001b[39;00m \u001b[38;5;28mself\u001b[39m\u001b[38;5;241m.\u001b[39mraw\u001b[38;5;241m.\u001b[39mstream(chunk_size, decode_content\u001b[38;5;241m=\u001b[39m\u001b[38;5;28;01mTrue\u001b[39;00m)\n\u001b[1;32m    817\u001b[0m     \u001b[38;5;28;01mexcept\u001b[39;00m ProtocolError \u001b[38;5;28;01mas\u001b[39;00m e:\n\u001b[1;32m    818\u001b[0m         \u001b[38;5;28;01mraise\u001b[39;00m ChunkedEncodingError(e)\n",
      "File \u001b[0;32m~/code/llamp/venv/lib/python3.11/site-packages/urllib3/response.py:933\u001b[0m, in \u001b[0;36mHTTPResponse.stream\u001b[0;34m(self, amt, decode_content)\u001b[0m\n\u001b[1;32m    917\u001b[0m \u001b[38;5;250m\u001b[39m\u001b[38;5;124;03m\"\"\"\u001b[39;00m\n\u001b[1;32m    918\u001b[0m \u001b[38;5;124;03mA generator wrapper for the read() method. A call will block until\u001b[39;00m\n\u001b[1;32m    919\u001b[0m \u001b[38;5;124;03m``amt`` bytes have been read from the connection or until the\u001b[39;00m\n\u001b[0;32m   (...)\u001b[0m\n\u001b[1;32m    930\u001b[0m \u001b[38;5;124;03m    'content-encoding' header.\u001b[39;00m\n\u001b[1;32m    931\u001b[0m \u001b[38;5;124;03m\"\"\"\u001b[39;00m\n\u001b[1;32m    932\u001b[0m \u001b[38;5;28;01mif\u001b[39;00m \u001b[38;5;28mself\u001b[39m\u001b[38;5;241m.\u001b[39mchunked \u001b[38;5;129;01mand\u001b[39;00m \u001b[38;5;28mself\u001b[39m\u001b[38;5;241m.\u001b[39msupports_chunked_reads():\n\u001b[0;32m--> 933\u001b[0m     \u001b[38;5;28;01myield from\u001b[39;00m \u001b[38;5;28mself\u001b[39m\u001b[38;5;241m.\u001b[39mread_chunked(amt, decode_content\u001b[38;5;241m=\u001b[39mdecode_content)\n\u001b[1;32m    934\u001b[0m \u001b[38;5;28;01melse\u001b[39;00m:\n\u001b[1;32m    935\u001b[0m     \u001b[38;5;28;01mwhile\u001b[39;00m \u001b[38;5;129;01mnot\u001b[39;00m is_fp_closed(\u001b[38;5;28mself\u001b[39m\u001b[38;5;241m.\u001b[39m_fp) \u001b[38;5;129;01mor\u001b[39;00m \u001b[38;5;28mlen\u001b[39m(\u001b[38;5;28mself\u001b[39m\u001b[38;5;241m.\u001b[39m_decoded_buffer) \u001b[38;5;241m>\u001b[39m \u001b[38;5;241m0\u001b[39m:\n",
      "File \u001b[0;32m~/code/llamp/venv/lib/python3.11/site-packages/urllib3/response.py:1073\u001b[0m, in \u001b[0;36mHTTPResponse.read_chunked\u001b[0;34m(self, amt, decode_content)\u001b[0m\n\u001b[1;32m   1070\u001b[0m     \u001b[38;5;28;01mreturn\u001b[39;00m \u001b[38;5;28;01mNone\u001b[39;00m\n\u001b[1;32m   1072\u001b[0m \u001b[38;5;28;01mwhile\u001b[39;00m \u001b[38;5;28;01mTrue\u001b[39;00m:\n\u001b[0;32m-> 1073\u001b[0m     \u001b[38;5;28;43mself\u001b[39;49m\u001b[38;5;241;43m.\u001b[39;49m\u001b[43m_update_chunk_length\u001b[49m\u001b[43m(\u001b[49m\u001b[43m)\u001b[49m\n\u001b[1;32m   1074\u001b[0m     \u001b[38;5;28;01mif\u001b[39;00m \u001b[38;5;28mself\u001b[39m\u001b[38;5;241m.\u001b[39mchunk_left \u001b[38;5;241m==\u001b[39m \u001b[38;5;241m0\u001b[39m:\n\u001b[1;32m   1075\u001b[0m         \u001b[38;5;28;01mbreak\u001b[39;00m\n",
      "File \u001b[0;32m~/code/llamp/venv/lib/python3.11/site-packages/urllib3/response.py:1001\u001b[0m, in \u001b[0;36mHTTPResponse._update_chunk_length\u001b[0;34m(self)\u001b[0m\n\u001b[1;32m    999\u001b[0m \u001b[38;5;28;01mif\u001b[39;00m \u001b[38;5;28mself\u001b[39m\u001b[38;5;241m.\u001b[39mchunk_left \u001b[38;5;129;01mis\u001b[39;00m \u001b[38;5;129;01mnot\u001b[39;00m \u001b[38;5;28;01mNone\u001b[39;00m:\n\u001b[1;32m   1000\u001b[0m     \u001b[38;5;28;01mreturn\u001b[39;00m \u001b[38;5;28;01mNone\u001b[39;00m\n\u001b[0;32m-> 1001\u001b[0m line \u001b[38;5;241m=\u001b[39m \u001b[38;5;28mself\u001b[39m\u001b[38;5;241m.\u001b[39m_fp\u001b[38;5;241m.\u001b[39mfp\u001b[38;5;241m.\u001b[39mreadline()  \u001b[38;5;66;03m# type: ignore[union-attr]\u001b[39;00m\n\u001b[1;32m   1002\u001b[0m line \u001b[38;5;241m=\u001b[39m line\u001b[38;5;241m.\u001b[39msplit(\u001b[38;5;124mb\u001b[39m\u001b[38;5;124m\"\u001b[39m\u001b[38;5;124m;\u001b[39m\u001b[38;5;124m\"\u001b[39m, \u001b[38;5;241m1\u001b[39m)[\u001b[38;5;241m0\u001b[39m]\n\u001b[1;32m   1003\u001b[0m \u001b[38;5;28;01mtry\u001b[39;00m:\n",
      "File \u001b[0;32m~/.pyenv/versions/3.11.4/lib/python3.11/socket.py:706\u001b[0m, in \u001b[0;36mSocketIO.readinto\u001b[0;34m(self, b)\u001b[0m\n\u001b[1;32m    704\u001b[0m \u001b[38;5;28;01mwhile\u001b[39;00m \u001b[38;5;28;01mTrue\u001b[39;00m:\n\u001b[1;32m    705\u001b[0m     \u001b[38;5;28;01mtry\u001b[39;00m:\n\u001b[0;32m--> 706\u001b[0m         \u001b[38;5;28;01mreturn\u001b[39;00m \u001b[38;5;28;43mself\u001b[39;49m\u001b[38;5;241;43m.\u001b[39;49m\u001b[43m_sock\u001b[49m\u001b[38;5;241;43m.\u001b[39;49m\u001b[43mrecv_into\u001b[49m\u001b[43m(\u001b[49m\u001b[43mb\u001b[49m\u001b[43m)\u001b[49m\n\u001b[1;32m    707\u001b[0m     \u001b[38;5;28;01mexcept\u001b[39;00m timeout:\n\u001b[1;32m    708\u001b[0m         \u001b[38;5;28mself\u001b[39m\u001b[38;5;241m.\u001b[39m_timeout_occurred \u001b[38;5;241m=\u001b[39m \u001b[38;5;28;01mTrue\u001b[39;00m\n",
      "\u001b[0;31mKeyboardInterrupt\u001b[0m: "
     ]
    }
   ],
   "source": [
    "# FIXME: structure\n",
    "get_stream(\"Please give me the structure of Y2O3\")"
   ]
  },
  {
   "cell_type": "code",
   "execution_count": 117,
   "metadata": {},
   "outputs": [
    {
     "name": "stdout",
     "output_type": "stream",
     "text": [
      "Thought: To find the stiffest material with the lowest formation energy in the Si-O system, I will need to use the Materials Project database to search for materials with the highest bulk modulus (a measure of stiffness) and the lowest formation energy within the specified chemical system.\n",
      "\n",
      "Action:\n",
      "```\n",
      "{\n",
      "  \"action\": \"MPElasticityExpert\",\n",
      "  \"action_input\": {\n",
      "    \"input\": \"What are the materials with the highest bulk modulus in the Si-O system?\"\n",
      "  }\n",
      "}\n",
      "```To find the materials with the highest bulk modulus in the Si-O (silicon-oxygen) system, I will use the `search_materials_elasticity__get` tool with the `chemsys` argument set to \"Si-O\" and sort the results by the bulk modulus in descending order.\n",
      "\n",
      "Action:\n",
      "```\n",
      "{\n",
      "  \"action\": \"search_materials_elasticity__get\",\n",
      "  \"action_input\": {\n",
      "    \"chemsys\": \"Si-O\",\n",
      "    \"sort_fields\": \"-k_vrh_max\",\n",
      "    \"fields\": \"material_id,formula_pretty,k_vrh_max\",\n",
      "    \"limit\": 5\n",
      "  }\n",
      "}\n",
      "```Action:\n",
      "```\n",
      "{\n",
      "  \"action\": \"Final Answer\",\n",
      "  \"action_input\": \"The material with the highest bulk modulus in the Si-O system, based on the Voigt-Reuss-Hill average, is SiO2 with the material ID mp-558733, which has a bulk modulus of approximately 516.4 GPa.\"\n",
      "}\n",
      "```Action:\n",
      "```json\n",
      "{\n",
      "  \"action\": \"MPThermoExpert\",\n",
      "  \"action_input\": {\n",
      "    \"input\": \"What is the formation energy of SiO2 with the material ID mp-558733?\"\n",
      "  }\n",
      "}\n",
      "```Action:\n",
      "```\n",
      "{\n",
      "  \"action\": \"search_materials_thermo__get\",\n",
      "  \"action_input\": {\n",
      "    \"material_ids\": \"mp-558733\",\n",
      "    \"fields\": \"formation_energy_per_atom\"\n",
      "  }\n",
      "}\n",
      "```Action:\n",
      "```\n",
      "{\n",
      "  \"action\": \"Final Answer\",\n",
      "  \"action_input\": \"The formation energy per atom for SiO2 with the material ID mp-558733 is -3.009988136944445 eV/atom.\"\n",
      "}\n",
      "```Action:\n",
      "```json\n",
      "{\n",
      "  \"action\": \"Final Answer\",\n",
      "  \"action_input\": \"The stiffest material in the Si-O system, based on the highest bulk modulus, is SiO2 with the material ID mp-558733, which has a bulk modulus of approximately 516.4 GPa. The formation energy per atom for this material is -3.009988136944445 eV/atom.\"\n",
      "}\n",
      "```"
     ]
    }
   ],
   "source": [
    "get_stream(\n",
    "    \"What's the stiffest material with the lowest formation energy in Si-O system?\")"
   ]
  }
 ],
 "metadata": {
  "kernelspec": {
   "display_name": "venv",
   "language": "python",
   "name": "python3"
  },
  "language_info": {
   "codemirror_mode": {
    "name": "ipython",
    "version": 3
   },
   "file_extension": ".py",
   "mimetype": "text/x-python",
   "name": "python",
   "nbconvert_exporter": "python",
   "pygments_lexer": "ipython3",
   "version": "3.11.4"
  }
 },
 "nbformat": 4,
 "nbformat_minor": 2
}
