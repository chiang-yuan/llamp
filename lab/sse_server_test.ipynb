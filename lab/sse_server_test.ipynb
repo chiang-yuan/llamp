{
 "cells": [
  {
   "cell_type": "code",
   "execution_count": 1,
   "metadata": {},
   "outputs": [
    {
     "name": "stderr",
     "output_type": "stream",
     "text": [
      "/Users/oliver/code/llamp/venv/lib/python3.11/site-packages/tqdm/auto.py:21: TqdmWarning: IProgress not found. Please update jupyter and ipywidgets. See https://ipywidgets.readthedocs.io/en/stable/user_install.html\n",
      "  from .autonotebook import tqdm as notebook_tqdm\n",
      "/Users/oliver/code/llamp/venv/lib/python3.11/site-packages/mp_api/client/mprester.py:230: UserWarning: mpcontribs-client not installed. Install the package to query MPContribs data, or construct pourbaix diagrams: 'pip install mpcontribs-client'\n",
      "  warnings.warn(\n"
     ]
    }
   ],
   "source": [
    "import sys\n",
    "sys.path.append('../api/src')\n",
    "\n",
    "import re\n",
    "import os\n",
    "\n",
    "from dotenv import load_dotenv\n",
    "from langchain.agents import AgentExecutor\n",
    "from langchain.chains.conversation.memory import ConversationBufferWindowMemory\n",
    "from langchain.tools import ArxivQueryRun, WikipediaQueryRun\n",
    "from langchain.tools.render import render_text_description_and_args, format_tool_to_openai_function\n",
    "from langchain.utilities import ArxivAPIWrapper, WikipediaAPIWrapper\n",
    "from langchain import hub\n",
    "from langchain.agents import AgentExecutor, create_openai_tools_agent\n",
    "from langchain_openai import ChatOpenAI\n",
    "from langchain.callbacks.streaming_stdout import StreamingStdOutCallbackHandler\n",
    "\n",
    "\n",
    "from llamp.mp.agents import (\n",
    "    MPSummaryExpert,\n",
    "    MPThermoExpert,\n",
    "    MPElasticityExpert,\n",
    "    MPDielectricExpert,\n",
    "    MPMagnetismExpert,\n",
    "    MPElectronicExpert,\n",
    ")\n",
    "load_dotenv()\n",
    "\n",
    "OPENAI_API_KEY = os.getenv(\"OPENAI_API_KEY\", None)\n",
    "OPENAI_GPT_MODEL = \"gpt-4-1106-preview\"\n",
    "\n",
    "\n",
    "wikipedia = WikipediaQueryRun(api_wrapper=WikipediaAPIWrapper())\n",
    "arxiv = ArxivQueryRun(api_wrapper=ArxivAPIWrapper())\n",
    "\n",
    "\n",
    "mp_llm = ChatOpenAI(\n",
    "    temperature=0,\n",
    "    model=OPENAI_GPT_MODEL,\n",
    "    openai_api_key=OPENAI_API_KEY,\n",
    "    openai_organization=None,\n",
    "    max_retries=5,\n",
    "    streaming=True,\n",
    "    callbacks=[StreamingStdOutCallbackHandler()],\n",
    ")\n",
    "\n",
    "llm = ChatOpenAI(\n",
    "    temperature=0,\n",
    "    model=OPENAI_GPT_MODEL,\n",
    "    openai_api_key=OPENAI_API_KEY,\n",
    "    openai_organization=None,\n",
    "    streaming=True,\n",
    "    callbacks=[StreamingStdOutCallbackHandler()],\n",
    ")\n",
    "\n",
    "\n",
    "tools = [\n",
    "    MPThermoExpert(llm=mp_llm).as_tool(\n",
    "        agent_kwargs=dict(return_intermediate_steps=False)),\n",
    "    MPElasticityExpert(llm=mp_llm).as_tool(\n",
    "        agent_kwargs=dict(return_intermediate_steps=False)),\n",
    "    MPDielectricExpert(llm=mp_llm).as_tool(\n",
    "        agent_kwargs=dict(return_intermediate_steps=False)),\n",
    "    MPMagnetismExpert(llm=mp_llm).as_tool(\n",
    "        agent_kwargs=dict(return_intermediate_steps=False)),\n",
    "    MPElectronicExpert(llm=mp_llm).as_tool(\n",
    "        agent_kwargs=dict(return_intermediate_steps=False)),\n",
    "    MPSummaryExpert(llm=mp_llm).as_tool(\n",
    "        agent_kwargs=dict(return_intermediate_steps=False)),\n",
    "     arxiv,\n",
    "     wikipedia,\n",
    "]"
   ]
  },
  {
   "cell_type": "code",
   "execution_count": 2,
   "metadata": {},
   "outputs": [
    {
     "data": {
      "text/plain": [
       "\"MPThermoExpert: MPThermoExpert(input: str) - Theromodynamics expert that has access to Materials Project thermo endpoint, args: {'input': {'title': 'Input', 'description': 'Complete question to ask the assistatn agent. Should include all the context and details needed to answer the question holistically.', 'type': 'string'}}\\nMPElasticityExpert: MPElasticityExpert(input: str) - Elasticity expert that has access to Materials Project elasticity endpoint, including bulk, shear, and young's modulus, poisson ratio, and universal anisotropy index, args: {'input': {'title': 'Input', 'description': 'Complete question to ask the assistatn agent. Should include all the context and details needed to answer the question holistically.', 'type': 'string'}}\\nMPDielectricExpert: MPDielectricExpert(input: str) - Dielectric expert that has access to Materials Project dielectric endpoint, args: {'input': {'title': 'Input', 'description': 'Complete question to ask the assistatn agent. Should include all the context and details needed to answer the question holistically.', 'type': 'string'}}\\nMPMagnetismExpert: MPMagnetismExpert(input: str) - Magnetism expert that has access to Materials Project magnetism endpoint, args: {'input': {'title': 'Input', 'description': 'Complete question to ask the assistatn agent. Should include all the context and details needed to answer the question holistically.', 'type': 'string'}}\\nMPElectronicExpert: MPElectronicExpert(input: str) - Electronic expert that has access to Materials Project electronic endpoint, args: {'input': {'title': 'Input', 'description': 'Complete question to ask the assistatn agent. Should include all the context and details needed to answer the question holistically.', 'type': 'string'}}\\nMPSummaryExpert: MPSummaryExpert(input: str) - Summary expert that has access to Materials Project summary endpoint, args: {'input': {'title': 'Input', 'description': 'Complete question to ask the assistatn agent. Should include all the context and details needed to answer the question holistically.', 'type': 'string'}}\\narxiv: A wrapper around Arxiv.org Useful for when you need to answer questions about Physics, Mathematics, Computer Science, Quantitative Biology, Quantitative Finance, Statistics, Electrical Engineering, and Economics from scientific articles on arxiv.org. Input should be a search query., args: {'query': {'title': 'Query', 'description': 'search query to look up', 'type': 'string'}}\\nwikipedia: A wrapper around Wikipedia. Useful for when you need to answer general questions about people, places, companies, facts, historical events, or other subjects. Input should be a search query., args: {'query': {'title': 'Query', 'type': 'string'}}\""
      ]
     },
     "execution_count": 2,
     "metadata": {},
     "output_type": "execute_result"
    }
   ],
   "source": [
    "\n",
    "\n",
    "prompt = hub.pull(\"hwchase17/react-multi-input-json\")\n",
    "prompt.messages[0].prompt.template = re.sub(\n",
    "    r\"\\s+\", \" \",\n",
    "    \"\"\"You are a data-aware agent that can consult materials-related\n",
    "    data through Materials Project (MP) database, arXiv, and Wikipedia. Ask \n",
    "    user to clarify their queries if needed. Please note that you don't have \n",
    "    direct control over MP but through multiple assistant agents to help you. \n",
    "    You need to provide complete context in the input for them to do their job.\n",
    "    \"\"\").replace(\"\\n\", \" \") + prompt.messages[0].prompt.template\n"
   ]
  },
  {
   "cell_type": "code",
   "execution_count": 3,
   "metadata": {},
   "outputs": [],
   "source": [
    "prompt = prompt.partial(\n",
    "    tools=render_text_description_and_args(tools),\n",
    "    tool_names=\", \".join([t.name for t in tools]),\n",
    ")\n",
    "model = ChatOpenAI(temperature=0, streaming=True, max_retries=5,\n",
    "                   model=OPENAI_GPT_MODEL, api_key=OPENAI_API_KEY)\n",
    "agent = create_openai_tools_agent(model.with_config(\n",
    "    {'tags': ['react-multi-input-json']}), tools, prompt)\n",
    "\n",
    "\n",
    "conversational_memory = ConversationBufferWindowMemory(\n",
    "    memory_key='chat_history',\n",
    "    k=5,\n",
    "    return_messages=True\n",
    ")\n",
    "agent_executor = AgentExecutor(agent=agent, tools=tools).with_config({\n",
    "    'run_name': 'react-multi-input-json',\n",
    "})"
   ]
  },
  {
   "cell_type": "code",
   "execution_count": 4,
   "metadata": {},
   "outputs": [
    {
     "name": "stdout",
     "output_type": "stream",
     "text": [
      "Calling Tool: `MPElasticityExpert` with input `{'input': 'What is the bulk modulus of iron (Fe)?'}`\n",
      "---\n",
      "\n",
      "\n",
      "\u001b[1m> Entering new AgentExecutor chain...\u001b[0m\n"
     ]
    },
    {
     "name": "stderr",
     "output_type": "stream",
     "text": [
      "/Users/oliver/code/llamp/venv/lib/python3.11/site-packages/mp_api/client/mprester.py:230: UserWarning: mpcontribs-client not installed. Install the package to query MPContribs data, or construct pourbaix diagrams: 'pip install mpcontribs-client'\n",
      "  warnings.warn(\n",
      "/Users/oliver/code/llamp/venv/lib/python3.11/site-packages/mp_api/client/mprester.py:230: UserWarning: mpcontribs-client not installed. Install the package to query MPContribs data, or construct pourbaix diagrams: 'pip install mpcontribs-client'\n",
      "  warnings.warn(\n"
     ]
    },
    {
     "name": "stdout",
     "output_type": "stream",
     "text": [
      "Action:\n",
      "```\n",
      "{\n",
      "  \"action\": \"search_materials_elasticity__get\",\n",
      "  \"action_input\": {\n",
      "    \"formula\": \"Fe\",\n",
      "    \"fields\": \"material_id,formula_pretty,bulk_modulus\"\n",
      "  }\n",
      "}\n",
      "```\u001b[32;1m\u001b[1;3mAction:\n",
      "```\n",
      "{\n",
      "  \"action\": \"search_materials_elasticity__get\",\n",
      "  \"action_input\": {\n",
      "    \"formula\": \"Fe\",\n",
      "    \"fields\": \"material_id,formula_pretty,bulk_modulus\"\n",
      "  }\n",
      "}\n",
      "```\u001b[0m{\"formula\": \"Fe\", \"fields\": \"material_id,formula_pretty,bulk_modulus\"}\n"
     ]
    },
    {
     "name": "stderr",
     "output_type": "stream",
     "text": [
      "Retrieving SummaryDoc documents: 100%|██████████| 10/10 [00:00<00:00, 146653.99it/s]\n",
      "Retrieving ElasticityDoc documents: 100%|██████████| 4/4 [00:00<00:00, 66576.25it/s]\n"
     ]
    },
    {
     "name": "stdout",
     "output_type": "stream",
     "text": [
      "\u001b[36;1m\u001b[1;3m[{'formula_pretty': 'Fe', 'material_id': 'mp-136', 'elastic_tensor': {'raw': [[533.1049561765178, 179.90963906823504, 155.99496312976856, 9.714451465470118e-15, -1.2989609388114328e-14, 2.7755575615628906e-15], [179.90963906823504, 527.5690949703794, 153.63137470367502, 9.547918011776345e-15, -1.3933298959045711e-14, 2.8474848866768495e-14], [155.99496312976856, 153.63137470367502, 624.2810588699431, 7.327471962526033e-15, -1.3544720900426911e-14, 5.551115123125764e-16], [9.714451465470118e-15, 9.547918011776345e-15, 7.327471962526033e-15, 168.93500235013536, 0.0, 2.187656762018417e-30], [-1.2989609388114328e-14, -1.3933298959045711e-14, -1.3544720900426911e-14, 0.0, 168.42688381862257, -4.37996423834296e-15], [2.7755575615628906e-15, 2.8474848866768495e-14, 5.551115123125764e-16, 2.187656762018417e-30, -4.37996423834296e-15, 171.94797365144507]], 'ieee_format': [[529.0, 182.0, 155.0, -0.0, -0.0, 0.0], [182.0, 529.0, 155.0, -0.0, -0.0, 0.0], [155.0, 155.0, 624.0, 0.0, 0.0, 0.0], [-0.0, -0.0, 0.0, 169.0, 0.0, 0.0], [-0.0, 0.0, 0.0, 0.0, 169.0, 0.0], [0.0, 0.0, 0.0, 0.0, -0.0, 174.0]]}, 'bulk_modulus': {'voigt': 296.003, 'reuss': 295.207, 'vrh': 295.605}}, {'formula_pretty': 'Fe', 'material_id': 'mp-150', 'elastic_tensor': {'raw': [[5.082891311344186, 249.75031927914773, 249.75031927914773, 2.7200464103316327e-15, 2.442490654175344e-15, 1.3045120539345587e-15], [249.75031927914773, 5.082891311344186, 249.7503192791478, 2.2482016248659416e-15, 2.7200464103316327e-15, 2.7601310238497606e-14], [249.75031927914773, 249.7503192791478, 5.082891311344132, 2.609024107869118e-15, 1.3045120539345587e-15, 2.720046410331633e-15], [2.7200464103316327e-15, 2.2482016248659416e-15, 2.609024107869118e-15, -36.19576724976288, 0.0, -4.270724356131571e-31], [2.442490654175344e-15, 2.7200464103316327e-15, 1.3045120539345587e-15, 0.0, -36.19576724976289, 1.0046343548664963e-15], [1.3045120539345587e-15, 2.7601310238497606e-14, 2.720046410331633e-15, -4.270724356131571e-31, 1.0046343548664963e-15, -36.19576724976289]], 'ieee_format': [[5.0, 250.0, 250.0, -0.0, -0.0, 0.0], [250.0, 5.0, 250.0, -0.0, -0.0, 0.0], [250.0, 250.0, 5.0, -0.0, 0.0, 0.0], [-0.0, -0.0, -0.0, -36.0, -0.0, -0.0], [-0.0, -0.0, 0.0, -0.0, -36.0, 0.0], [0.0, 0.0, 0.0, -0.0, 0.0, -36.0]]}, 'bulk_modulus': {'voigt': 168.195, 'reuss': 168.195, 'vrh': 168.195}}, {'formula_pretty': 'Fe', 'material_id': 'mp-13', 'elastic_tensor': {'raw': [[304.6138605243007, 164.32192428373142, 161.47756279646148, 0.00959782740567405, -44.9227280479162, 0.015243010038755101], [164.32192428373142, 275.3706887455405, 155.2223716509495, 0.020783299796543017, 24.990009116835864, 0.01825412347018773], [161.47756279646148, 155.2223716509495, 327.69642303012995, 0.018774652966968012, 0.013266359421023324, 0.008274900542928848], [0.00959782740567405, 0.020783299796543017, 0.018774652966968012, 76.62706534574426, 0.00614664002936019, 14.805872693412036], [-44.9227280479162, 24.990009116835864, 0.013266359421023324, 0.00614664002936019, 75.60462170854075, 0.0041421855069886555], [0.015243010038755101, 0.01825412347018773, 0.008274900542928848, 14.805872693412036, 0.0041421855069886555, 70.434198124599]], 'ieee_format': [[274.0, 175.0, 175.0, 0.0, 0.0, 0.0], [175.0, 274.0, 175.0, 0.0, 0.0, 0.0], [175.0, 175.0, 274.0, 0.0, 0.0, 0.0], [0.0, 0.0, 0.0, 89.0, 0.0, 0.0], [0.0, 0.0, 0.0, 0.0, 89.0, 0.0], [0.0, 0.0, 0.0, 0.0, 0.0, 89.0]]}, 'bulk_modulus': {'voigt': 207.747, 'reuss': 206.439, 'vrh': 207.093}}, {'formula_pretty': 'Fe', 'material_id': 'mp-568345', 'elastic_tensor': {'raw': [[428.0401727591902, -7.708102473816239, -7.708102473816239, 2.2204460492503126e-16, 0.0, 0.0], [-7.708102473816239, 428.0401727591902, -7.708102473816241, 0.0, 2.2204460492503126e-16, -8.004680796527137e-16], [-7.708102473816239, -7.708102473816241, 428.04017275919034, -3.486305596842099e-32, 0.0, 2.220446049250313e-16], [2.2204460492503126e-16, 0.0, -3.486305596842099e-32, -66.03043594091886, 0.0, -3.486305596842099e-32], [0.0, 2.2204460492503126e-16, 0.0, 0.0, -66.03043594091888, 1.8327127576911146e-15], [0.0, -8.004680796527137e-16, 2.220446049250313e-16, -3.486305596842099e-32, 1.8327127576911146e-15, -66.03043594091878]], 'ieee_format': [[428.0, -8.0, -8.0, 0.0, -0.0, 0.0], [-8.0, 428.0, -8.0, 0.0, 0.0, -0.0], [-8.0, -8.0, 428.0, -0.0, 0.0, -0.0], [0.0, 0.0, -0.0, -66.0, 0.0, 0.0], [-0.0, 0.0, 0.0, 0.0, -66.0, 0.0], [0.0, -0.0, -0.0, 0.0, 0.0, -66.0]]}, 'bulk_modulus': {'voigt': 137.541, 'reuss': 137.541, 'vrh': 137.541}}]\u001b[0mAction:\n",
      "```\n",
      "{\n",
      "  \"action\": \"Final Answer\",\n",
      "  \"action_input\": \"The bulk modulus of iron (Fe) varies depending on the specific structure and conditions. Here are some values for different entries of iron in the Materials Project database: mp-136 has a bulk modulus (Voigt-Reuss-Hill average) of 295.605 GPa, mp-150 has a bulk modulus (Voigt-Reuss-Hill average) of 168.195 GPa, mp-13 has a bulk modulus (Voigt-Reuss-Hill average) of 207.093 GPa, and mp-568345 has a bulk modulus (Voigt-Reuss-Hill average) of 137.541 GPa.\"\n",
      "}\n",
      "```\u001b[32;1m\u001b[1;3mAction:\n",
      "```\n",
      "{\n",
      "  \"action\": \"Final Answer\",\n",
      "  \"action_input\": \"The bulk modulus of iron (Fe) varies depending on the specific structure and conditions. Here are some values for different entries of iron in the Materials Project database: mp-136 has a bulk modulus (Voigt-Reuss-Hill average) of 295.605 GPa, mp-150 has a bulk modulus (Voigt-Reuss-Hill average) of 168.195 GPa, mp-13 has a bulk modulus (Voigt-Reuss-Hill average) of 207.093 GPa, and mp-568345 has a bulk modulus (Voigt-Reuss-Hill average) of 137.541 GPa.\"\n",
      "}\n",
      "```\u001b[0m\n",
      "\n",
      "\u001b[1m> Finished chain.\u001b[0m\n",
      "Tool Result: `{'input': 'What is the bulk modulus of iron (Fe)?', 'output': 'The bulk modulus of iron (Fe) varies depending on the specific structure and conditions. Here are some values for different entries of iron in the Materials Project database: mp-136 has a bulk modulus (Voigt-Reuss-Hill average) of 295.605 GPa, mp-150 has a bulk modulus (Voigt-Reuss-Hill average) of 168.195 GPa, mp-13 has a bulk modulus (Voigt-Reuss-Hill average) of 207.093 GPa, and mp-568345 has a bulk modulus (Voigt-Reuss-Hill average) of 137.541 GPa.'}`\n",
      "---\n",
      "Final Output: Action:\n",
      "```json\n",
      "{\n",
      "  \"action\": \"Final Answer\",\n",
      "  \"action_input\": \"The bulk modulus of iron (Fe) varies depending on the specific structure and conditions. Here are some values for different entries of iron in the Materials Project database: mp-136 has a bulk modulus (Voigt-Reuss-Hill average) of 295.605 GPa, mp-150 has a bulk modulus (Voigt-Reuss-Hill average) of 168.195 GPa, mp-13 has a bulk modulus (Voigt-Reuss-Hill average) of 207.093 GPa, and mp-568345 has a bulk modulus (Voigt-Reuss-Hill average) of 137.541 GPa.\"\n",
      "}\n",
      "```\n",
      "---\n"
     ]
    }
   ],
   "source": [
    "chunks = []\n",
    "\n",
    "async for chunk in agent_executor.astream(\n",
    "    {\"input\": \"What's the Bulk Modulus Fe?\"},\n",
    "):\n",
    "    # Agent Action\n",
    "    if \"actions\" in chunk:\n",
    "        for action in chunk[\"actions\"]:\n",
    "            print(\n",
    "                f\"Calling Tool: `{action.tool}` with input `{action.tool_input}`\")\n",
    "    # Observation\n",
    "    elif \"steps\" in chunk:\n",
    "        for step in chunk[\"steps\"]:\n",
    "            print(f\"Tool Result: `{step.observation}`\")\n",
    "    # Final result\n",
    "    elif \"output\" in chunk:\n",
    "        print(f'Final Output: {chunk[\"output\"]}')\n",
    "    else:\n",
    "        raise ValueError()\n",
    "    print(\"---\")"
   ]
  }
 ],
 "metadata": {
  "kernelspec": {
   "display_name": "venv",
   "language": "python",
   "name": "python3"
  },
  "language_info": {
   "codemirror_mode": {
    "name": "ipython",
    "version": 3
   },
   "file_extension": ".py",
   "mimetype": "text/x-python",
   "name": "python",
   "nbconvert_exporter": "python",
   "pygments_lexer": "ipython3",
   "version": "3.11.4"
  }
 },
 "nbformat": 4,
 "nbformat_minor": 2
}
