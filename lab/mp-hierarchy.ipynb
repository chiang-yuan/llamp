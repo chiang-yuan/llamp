{
 "cells": [
  {
   "cell_type": "markdown",
   "metadata": {},
   "source": [
    "# `MPAPIWrapper`, `Tool`"
   ]
  },
  {
   "cell_type": "code",
   "execution_count": 1,
   "metadata": {},
   "outputs": [
    {
     "name": "stderr",
     "output_type": "stream",
     "text": [
      "/home/cyrus/miniconda3/envs/llamp/lib/python3.11/site-packages/mp_api/client/mprester.py:227: UserWarning: mpcontribs-client not installed. Install the package to query MPContribs data, or construct pourbaix diagrams: 'pip install mpcontribs-client'\n",
      "  warnings.warn(\n"
     ]
    }
   ],
   "source": [
    "\n",
    "import re\n",
    "from langchain.schema import SystemMessage\n",
    "from langchain.tools.base import ToolException\n",
    "from langchain.utilities import SerpAPIWrapper\n",
    "from langchain.agents import AgentType, initialize_agent\n",
    "from langchain.llms import OpenAI\n",
    "from langchain.chat_models import ChatOpenAI\n",
    "from langchain.tools import Tool\n",
    "\n",
    "from llamp.mp.tools import (\n",
    "    MaterialsSummary,\n",
    "    MaterialsSynthesis,\n",
    "    MaterialsThermo,\n",
    "    MaterialsElasticity,\n",
    "    MaterialsMagnetism,\n",
    "    MaterialsStructure,\n",
    "    MaterialsSimilarity,\n",
    "    MaterialsDielectric,\n",
    "    MaterialsPiezoelectric,\n",
    "    MaterialsOxidation,\n",
    ")\n",
    "from llamp.ase.tools import NoseHooverMD\n",
    "\n",
    "tools = [\n",
    "    MaterialsSummary(),\n",
    "    MaterialsStructure(),\n",
    "    MaterialsSynthesis(return_direct=False),\n",
    "    MaterialsThermo(),\n",
    "    MaterialsElasticity(),\n",
    "    MaterialsMagnetism(),\n",
    "    MaterialsStructure(return_direct=True),\n",
    "    MaterialsSimilarity(),\n",
    "    MaterialsDielectric(),\n",
    "    MaterialsPiezoelectric(),\n",
    "    NoseHooverMD(return_direct=True),\n",
    "    # StructureVis()\n",
    "]\n",
    "\n",
    "llm = ChatOpenAI(\n",
    "    temperature=0,\n",
    "    # top_p=1, \n",
    "    model=\"gpt-3.5-turbo-16k-0613\",\n",
    "    # streaming=False,\n",
    ")\n",
    "\n",
    "# import os\n",
    "# os.environ[\"LANGCHAIN_TRACING\"] = \"true\"\n",
    "from langchain.globals import set_debug\n",
    "\n",
    "# # NOTE: https://python.langchain.com/docs/modules/agents/agent_types/structured_chat#use-lcel\n",
    "\n",
    "\n",
    "set_debug(False)\n",
    "\n",
    "agent = initialize_agent(\n",
    "    tools=tools,\n",
    "    llm=llm,\n",
    "    # agent=AgentType.OPENAI_MULTI_FUNCTIONS,\n",
    "    # agent=AgentType.OPENAI_MULTI_FUNCTIONS,\n",
    "    agent=AgentType.OPENAI_FUNCTIONS,\n",
    "    verbose=True,\n",
    "    # agent_kwargs={\n",
    "    #     \"system_message\": SystemMessage(\n",
    "    #         content=re.sub(\n",
    "    #             r\"\\s+\", \" \", \n",
    "    #             \"\"\"You are a data-aware AI assistant that is good at physics, chemistry, \n",
    "    #             and materials science and answers question based on computational data on \n",
    "    #             Materials Project database, latest research papers on arXiv, and other \n",
    "    #             sources like wikipedia. DO NOT hallucinate the API input arguments and ask \n",
    "    #             user to provide more detailed information if necessary. Sometimes you may \n",
    "    #             user other API endpoints to retrieve the related information. You can ask\n",
    "    #             provide options for user to choose from.\"\"\")\n",
    "    #             .replace(\"\\n\", \" \")\n",
    "    #         ),\n",
    "    #     \"handle_parsing_errors\": True,\n",
    "    # },\n",
    "    # handle_parsing_errors=True,\n",
    "    # agent_kwargs={\"handle_parsing_errors\": True},\n",
    ")\n",
    "\n",
    "# extra_prompt_messages: Optional[List[BaseMessagePromptTemplate]] = None,\n",
    "# system_message: Optional[SystemMessage] = SystemMessage(\n",
    "#     content=\"You are a helpful AI assistant.\"\n",
    "# ),"
   ]
  },
  {
   "cell_type": "code",
   "execution_count": 2,
   "metadata": {},
   "outputs": [
    {
     "name": "stderr",
     "output_type": "stream",
     "text": [
      "/home/cyrus/miniconda3/envs/llamp/lib/python3.11/site-packages/mp_api/client/mprester.py:227: UserWarning: mpcontribs-client not installed. Install the package to query MPContribs data, or construct pourbaix diagrams: 'pip install mpcontribs-client'\n",
      "  warnings.warn(\n"
     ]
    },
    {
     "name": "stdout",
     "output_type": "stream",
     "text": [
      "\n",
      "\n",
      "\u001b[1m> Entering new AgentExecutor chain...\u001b[0m\n",
      "\u001b[32;1m\u001b[1;3m\n",
      "Invoking: `search_materials_elasticity__get` with `{'formula': 'NaCl'}`\n",
      "\n",
      "\n",
      "\u001b[0m"
     ]
    },
    {
     "data": {
      "application/vnd.jupyter.widget-view+json": {
       "model_id": "e53702b5b43d4114b5eca2bfb9b6ae85",
       "version_major": 2,
       "version_minor": 0
      },
      "text/plain": [
       "Retrieving MaterialsDoc documents:   0%|          | 0/3 [00:00<?, ?it/s]"
      ]
     },
     "metadata": {},
     "output_type": "display_data"
    },
    {
     "name": "stderr",
     "output_type": "stream",
     "text": [
      "/home/cyrus/miniconda3/envs/llamp/lib/python3.11/site-packages/mp_api/client/core/client.py:821: UserWarning: The server does not support the request made to https://api.materialsproject.org/materials/elasticity/mp-1120767/?_limit=1&_fields=pretty_formula%2Celasticity%2Ctask_id. This may be due to an outdated mp-api package, or a problem with the query.\n",
      "  warnings.warn(\n",
      "/home/cyrus/miniconda3/envs/llamp/lib/python3.11/site-packages/mp_api/client/core/client.py:821: UserWarning: The server does not support the request made to https://api.materialsproject.org/materials/elasticity/mp-22851/?_limit=1&_fields=pretty_formula%2Celasticity%2Ctask_id. This may be due to an outdated mp-api package, or a problem with the query.\n",
      "  warnings.warn(\n"
     ]
    },
    {
     "data": {
      "application/vnd.jupyter.widget-view+json": {
       "model_id": "f8ab833dcf324473bfc8c594b3a185f4",
       "version_major": 2,
       "version_minor": 0
      },
      "text/plain": [
       "Retrieving ElasticityDoc documents:   0%|          | 0/1 [00:00<?, ?it/s]"
      ]
     },
     "metadata": {},
     "output_type": "display_data"
    },
    {
     "name": "stdout",
     "output_type": "stream",
     "text": [
      "\u001b[33;1m\u001b[1;3m[{'pretty_formula': 'NaCl', 'elasticity': {'k_voigt': 22.590490142223533, 'k_reuss': 22.590490142223533, 'k_vrh': 22.590490142223533, 'g_voigt': 14.508697233449267, 'g_reuss': 14.040668599133046, 'g_vrh': 14.274682916291155, 'universal_anisotropy': 0.16666892712827064, 'homogeneous_poisson': 0.23902464037610438, 'elastic_tensor': [[46.0, 11.0, 11.0, 0.0, 0.0, 0.0], [11.0, 46.0, 11.0, 0.0, 0.0, 0.0], [11.0, 11.0, 46.0, 0.0, 0.0, 0.0], [0.0, 0.0, 0.0, 12.0, 0.0, 0.0], [0.0, 0.0, 0.0, 0.0, 12.0, 0.0], [0.0, 0.0, 0.0, 0.0, 0.0, 12.0]], 'compliance_tensor': [[23.6, -4.4, -4.4, 0.0, 0.0, 0.0], [-4.4, 23.6, -4.4, 0.0, 0.0, 0.0], [-4.4, -4.4, 23.6, 0.0, 0.0, 0.0], [0.0, 0.0, 0.0, 81.3, 0.0, 0.0], [0.0, 0.0, 0.0, 0.0, 81.3, 0.0], [0.0, 0.0, 0.0, 0.0, 0.0, 81.3]]}, 'task_id': 'mp-22862'}]\u001b[0m\u001b[32;1m\u001b[1;3mThe elastic tensor of NaCl is as follows:\n",
      "\n",
      "- Voigt average of the bulk modulus (k_voigt): 22.59 GPa\n",
      "- Reuss average of the bulk modulus (k_reuss): 22.59 GPa\n",
      "- Voigt-Reuss-Hill average of the bulk modulus (k_vrh): 22.59 GPa\n",
      "- Voigt average of the shear modulus (g_voigt): 14.51 GPa\n",
      "- Reuss average of the shear modulus (g_reuss): 14.04 GPa\n",
      "- Voigt-Reuss-Hill average of the shear modulus (g_vrh): 14.27 GPa\n",
      "- Universal anisotropy: 0.17\n",
      "- Homogeneous Poisson ratio: 0.24\n",
      "\n",
      "The elastic tensor components are as follows:\n",
      "\n",
      "```\n",
      "[[46.0, 11.0, 11.0, 0.0, 0.0, 0.0],\n",
      " [11.0, 46.0, 11.0, 0.0, 0.0, 0.0],\n",
      " [11.0, 11.0, 46.0, 0.0, 0.0, 0.0],\n",
      " [0.0, 0.0, 0.0, 12.0, 0.0, 0.0],\n",
      " [0.0, 0.0, 0.0, 0.0, 12.0, 0.0],\n",
      " [0.0, 0.0, 0.0, 0.0, 0.0, 12.0]]\n",
      "```\n",
      "\n",
      "The compliance tensor components are as follows:\n",
      "\n",
      "```\n",
      "[[23.6, -4.4, -4.4, 0.0, 0.0, 0.0],\n",
      " [-4.4, 23.6, -4.4, 0.0, 0.0, 0.0],\n",
      " [-4.4, -4.4, 23.6, 0.0, 0.0, 0.0],\n",
      " [0.0, 0.0, 0.0, 81.3, 0.0, 0.0],\n",
      " [0.0, 0.0, 0.0, 0.0, 81.3, 0.0],\n",
      " [0.0, 0.0, 0.0, 0.0, 0.0, 81.3]]\n",
      "```\n",
      "\n",
      "Please note that the values are given in GPa.\u001b[0m\n",
      "\n",
      "\u001b[1m> Finished chain.\u001b[0m\n"
     ]
    },
    {
     "data": {
      "text/plain": [
       "'The elastic tensor of NaCl is as follows:\\n\\n- Voigt average of the bulk modulus (k_voigt): 22.59 GPa\\n- Reuss average of the bulk modulus (k_reuss): 22.59 GPa\\n- Voigt-Reuss-Hill average of the bulk modulus (k_vrh): 22.59 GPa\\n- Voigt average of the shear modulus (g_voigt): 14.51 GPa\\n- Reuss average of the shear modulus (g_reuss): 14.04 GPa\\n- Voigt-Reuss-Hill average of the shear modulus (g_vrh): 14.27 GPa\\n- Universal anisotropy: 0.17\\n- Homogeneous Poisson ratio: 0.24\\n\\nThe elastic tensor components are as follows:\\n\\n```\\n[[46.0, 11.0, 11.0, 0.0, 0.0, 0.0],\\n [11.0, 46.0, 11.0, 0.0, 0.0, 0.0],\\n [11.0, 11.0, 46.0, 0.0, 0.0, 0.0],\\n [0.0, 0.0, 0.0, 12.0, 0.0, 0.0],\\n [0.0, 0.0, 0.0, 0.0, 12.0, 0.0],\\n [0.0, 0.0, 0.0, 0.0, 0.0, 12.0]]\\n```\\n\\nThe compliance tensor components are as follows:\\n\\n```\\n[[23.6, -4.4, -4.4, 0.0, 0.0, 0.0],\\n [-4.4, 23.6, -4.4, 0.0, 0.0, 0.0],\\n [-4.4, -4.4, 23.6, 0.0, 0.0, 0.0],\\n [0.0, 0.0, 0.0, 81.3, 0.0, 0.0],\\n [0.0, 0.0, 0.0, 0.0, 81.3, 0.0],\\n [0.0, 0.0, 0.0, 0.0, 0.0, 81.3]]\\n```\\n\\nPlease note that the values are given in GPa.'"
      ]
     },
     "execution_count": 2,
     "metadata": {},
     "output_type": "execute_result"
    }
   ],
   "source": [
    "agent.run(\"What is the elastic tensor of NaCl?\")"
   ]
  },
  {
   "cell_type": "code",
   "execution_count": null,
   "metadata": {},
   "outputs": [],
   "source": [
    "agent.run('Run a molecular dynamics simulation of mp-2589 at 300K for 100 fs for with 2 fs timestep.')"
   ]
  },
  {
   "cell_type": "code",
   "execution_count": 5,
   "metadata": {},
   "outputs": [
    {
     "name": "stderr",
     "output_type": "stream",
     "text": [
      "/home/cyrus/miniconda3/envs/llamp/lib/python3.11/site-packages/mp_api/client/mprester.py:227: UserWarning: mpcontribs-client not installed. Install the package to query MPContribs data, or construct pourbaix diagrams: 'pip install mpcontribs-client'\n",
      "  warnings.warn(\n"
     ]
    },
    {
     "name": "stdout",
     "output_type": "stream",
     "text": [
      "\u001b[32;1m\u001b[1;3m[chain/start]\u001b[0m \u001b[1m[1:chain:AgentExecutor] Entering Chain run with input:\n",
      "\u001b[0m{\n",
      "  \"input\": \"What's the structure of Barium Titanate?\"\n",
      "}\n",
      "\u001b[32;1m\u001b[1;3m[llm/start]\u001b[0m \u001b[1m[1:chain:AgentExecutor > 2:llm:ChatOpenAI] Entering LLM run with input:\n",
      "\u001b[0m{\n",
      "  \"prompts\": [\n",
      "    \"System: You are a helpful AI assistant.\\nHuman: What's the structure of Barium Titanate?\"\n",
      "  ]\n",
      "}\n",
      "\u001b[36;1m\u001b[1;3m[llm/end]\u001b[0m \u001b[1m[1:chain:AgentExecutor > 2:llm:ChatOpenAI] [6.89s] Exiting LLM run with output:\n",
      "\u001b[0m{\n",
      "  \"generations\": [\n",
      "    [\n",
      "      {\n",
      "        \"text\": \"\",\n",
      "        \"generation_info\": {\n",
      "          \"finish_reason\": \"function_call\"\n",
      "        },\n",
      "        \"type\": \"ChatGeneration\",\n",
      "        \"message\": {\n",
      "          \"lc\": 1,\n",
      "          \"type\": \"constructor\",\n",
      "          \"id\": [\n",
      "            \"langchain\",\n",
      "            \"schema\",\n",
      "            \"messages\",\n",
      "            \"AIMessage\"\n",
      "          ],\n",
      "          \"kwargs\": {\n",
      "            \"content\": \"\",\n",
      "            \"additional_kwargs\": {\n",
      "              \"function_call\": {\n",
      "                \"name\": \"search_materials_structure__get\",\n",
      "                \"arguments\": \"{\\n  \\\"formula\\\": \\\"BaTiO3\\\",\\n  \\\"limit\\\": 1\\n}\"\n",
      "              }\n",
      "            }\n",
      "          }\n",
      "        }\n",
      "      }\n",
      "    ]\n",
      "  ],\n",
      "  \"llm_output\": {\n",
      "    \"token_usage\": {\n",
      "      \"prompt_tokens\": 11967,\n",
      "      \"completion_tokens\": 29,\n",
      "      \"total_tokens\": 11996\n",
      "    },\n",
      "    \"model_name\": \"gpt-3.5-turbo-16k-0613\"\n",
      "  },\n",
      "  \"run\": null\n",
      "}\n",
      "\u001b[32;1m\u001b[1;3m[tool/start]\u001b[0m \u001b[1m[1:chain:AgentExecutor > 3:tool:search_materials_structure__get] Entering Tool run with input:\n",
      "\u001b[0m\"{'formula': 'BaTiO3', 'limit': 1}\"\n"
     ]
    },
    {
     "data": {
      "application/vnd.jupyter.widget-view+json": {
       "model_id": "afe8371fed314d84a109fb249d9a4799",
       "version_major": 2,
       "version_minor": 0
      },
      "text/plain": [
       "Retrieving SummaryDoc documents:   0%|          | 0/11 [00:00<?, ?it/s]"
      ]
     },
     "metadata": {},
     "output_type": "display_data"
    },
    {
     "name": "stdout",
     "output_type": "stream",
     "text": [
      "\u001b[36;1m\u001b[1;3m[tool/end]\u001b[0m \u001b[1m[1:chain:AgentExecutor > 3:tool:search_materials_structure__get] [3.21s] Exiting Tool run with output:\n",
      "\u001b[0m\"[structures]mp-558125,mp-5933,mp-1076932,mp-2998,mp-5020,mp-19990,mp-5986,mp-995191,mp-644497,mp-5777,mp-504715\"\n",
      "\u001b[36;1m\u001b[1;3m[chain/end]\u001b[0m \u001b[1m[1:chain:AgentExecutor] [10.12s] Exiting Chain run with output:\n",
      "\u001b[0m{\n",
      "  \"output\": \"[structures]mp-558125,mp-5933,mp-1076932,mp-2998,mp-5020,mp-19990,mp-5986,mp-995191,mp-644497,mp-5777,mp-504715\"\n",
      "}\n"
     ]
    },
    {
     "data": {
      "text/plain": [
       "'[structures]mp-558125,mp-5933,mp-1076932,mp-2998,mp-5020,mp-19990,mp-5986,mp-995191,mp-644497,mp-5777,mp-504715'"
      ]
     },
     "execution_count": 5,
     "metadata": {},
     "output_type": "execute_result"
    }
   ],
   "source": [
    "agent.run(\"What's the structure of Barium Titanate?\")"
   ]
  },
  {
   "cell_type": "code",
   "execution_count": null,
   "metadata": {},
   "outputs": [],
   "source": [
    "agent.run(\"What is the structure of YbCl3?\")"
   ]
  },
  {
   "cell_type": "code",
   "execution_count": null,
   "metadata": {},
   "outputs": [],
   "source": [
    "agent.run(\"What is the elastic tensor of NaCl?\")"
   ]
  },
  {
   "cell_type": "code",
   "execution_count": null,
   "metadata": {},
   "outputs": [],
   "source": [
    "agent.run(\"Give me some possible synthesis recipe for Li4Ti5O12?\")"
   ]
  },
  {
   "cell_type": "code",
   "execution_count": null,
   "metadata": {},
   "outputs": [],
   "source": [
    "agent.invoke({\"input\": \"What is the elastic tensor of NaCl?\"})\n",
    "\n",
    "\n"
   ]
  },
  {
   "cell_type": "markdown",
   "metadata": {},
   "source": [
    "# Try"
   ]
  },
  {
   "cell_type": "code",
   "execution_count": null,
   "metadata": {},
   "outputs": [],
   "source": [
    "from llamp.mp.agent import MPLLM\n",
    "\n",
    "mpllm = MPLLM()\n",
    "\n",
    "mpllm.reduced_spec"
   ]
  },
  {
   "cell_type": "code",
   "execution_count": null,
   "metadata": {},
   "outputs": [],
   "source": [
    "mpllm.reduced_spec.__dict__"
   ]
  },
  {
   "cell_type": "code",
   "execution_count": null,
   "metadata": {},
   "outputs": [],
   "source": [
    "print(mpllm.mpr.session.headers)"
   ]
  },
  {
   "cell_type": "code",
   "execution_count": null,
   "metadata": {},
   "outputs": [],
   "source": [
    "from langchain.requests import RequestsWrapper\n",
    "\n",
    "\n",
    "requests_wrapper = RequestsWrapper(headers=mpllm.mpr.session.headers)"
   ]
  },
  {
   "cell_type": "code",
   "execution_count": null,
   "metadata": {},
   "outputs": [],
   "source": [
    "from langchain.llms.openai import OpenAI\n",
    "from langchain.chat_models import ChatOpenAI\n",
    "from langchain.agents.agent_toolkits.openapi import planner\n",
    "from llamp.utils import OPENAI_API_KEY\n",
    "# llm = OpenAI(\n",
    "#     model=\"gpt-4\", \n",
    "#     temperature=0.7, \n",
    "#     max_tokens=4096, \n",
    "#     top_p=1.0, \n",
    "#     frequency_penalty=0.0, \n",
    "#     presence_penalty=0.0, \n",
    "#     openai_api_key=OPENAI_API_KEY\n",
    "# )\n",
    "\n",
    "llm = ChatOpenAI(\n",
    "    model=\"gpt-4\", \n",
    "    temperature=0, \n",
    "    # max_tokens=2048,\n",
    "    openai_api_key=OPENAI_API_KEY\n",
    ")\n",
    "\n",
    "mp_agent = planner.create_openapi_agent(\n",
    "    api_spec=mpllm.reduced_spec, requests_wrapper=requests_wrapper, llm=llm,\n",
    "    # system_prompt=\"When generating the plan, include the 'limit', 'fields' or '_fields' parameter whenever possible\",\n",
    "    agent_executor_kwargs={\n",
    "        \"handle_parsing_errors\": True,\n",
    "        # \"trim_intermediate_steps\": 5,\n",
    "        # \"return_intermediate_steps\": True,\n",
    "        # \"early_stopping_method\": \"generate\"\n",
    "        }\n",
    "    )"
   ]
  },
  {
   "cell_type": "code",
   "execution_count": null,
   "metadata": {},
   "outputs": [],
   "source": [
    "mp_agent.run(\"What's the elastic tensor of NaCl?\")"
   ]
  },
  {
   "cell_type": "code",
   "execution_count": null,
   "metadata": {},
   "outputs": [],
   "source": [
    "\n",
    "from langchain.agents import initialize_agent, Tool\n",
    "from langchain.chat_models import ChatOpenAI\n",
    "from langchain.utilities import SerpAPIWrapper\n",
    "\n",
    "from llamp.mp.mpapi import MPAPIWrapper\n",
    "\n",
    "llm = ChatOpenAI(\n",
    "    model=\"gpt-3.5-turbo-16k-0613\", \n",
    "    temperature=0, \n",
    "    max_tokens=4096,\n",
    "    openai_api_key=OPENAI_API_KEY\n",
    ")\n",
    "\n",
    "# Initialize the SerpAPIWrapper for search functionality\n",
    "# Replace <your_api_key> in serpapi_api_key=\"<your_api_key>\" with your actual SerpAPI key.\n",
    "search = SerpAPIWrapper()\n",
    "\n",
    "tools = [\n",
    "    Tool(\n",
    "        name=\"Search\",\n",
    "        func=search.run,\n",
    "        description=\"Useful when you need to answer questions about current events. You should ask targeted questions.\",\n",
    "    ),\n",
    "]\n",
    "\n"
   ]
  },
  {
   "cell_type": "code",
   "execution_count": null,
   "metadata": {},
   "outputs": [],
   "source": [
    "from langchain.agents import create_json_agent, AgentExecutor\n",
    "from langchain.agents.agent_toolkits import JsonToolkit\n",
    "from langchain.chains import LLMChain\n",
    "from langchain.llms.openai import OpenAI\n",
    "from langchain.requests import TextRequestsWrapper\n",
    "from langchain.tools.json.tool import JsonSpec\n",
    "\n",
    "llm = ChatOpenAI(\n",
    "    model=\"gpt-3.5-turbo-16k-0613\", \n",
    "    temperature=0, \n",
    "    max_tokens=4096,\n",
    "    openai_api_key=OPENAI_API_KEY\n",
    ")\n",
    "\n",
    "json_spec = mpllm.json_spec\n",
    "json_toolkit = JsonToolkit(spec=json_spec)\n",
    "\n",
    "json_agent_executor = create_json_agent(\n",
    "    llm=llm, toolkit=json_toolkit, verbose=True\n",
    ")\n",
    "\n",
    "json_agent_executor.run(\n",
    "    \"What's the elastic tensor of NaCl? Look at the paths in MP API to retrieve the answer.\"\n",
    ")"
   ]
  },
  {
   "cell_type": "code",
   "execution_count": null,
   "metadata": {},
   "outputs": [],
   "source": [
    "from langchain.agents import create_openapi_agent\n",
    "from langchain.agents.agent_toolkits import OpenAPIToolkit\n",
    "from langchain.llms.openai import OpenAI\n",
    "from langchain.requests import TextRequestsWrapper\n",
    "from langchain.tools.json.tool import JsonSpec\n",
    "\n",
    "openapi_toolkit = OpenAPIToolkit.from_llm(\n",
    "    llm, json_spec, requests_wrapper, verbose=True\n",
    ")\n",
    "openapi_agent_executor = create_openapi_agent(\n",
    "    llm=OpenAI(temperature=0, openai_api_key=OPENAI_API_KEY), toolkit=openapi_toolkit, verbose=True\n",
    ")\n"
   ]
  },
  {
   "cell_type": "code",
   "execution_count": null,
   "metadata": {},
   "outputs": [],
   "source": [
    "from langchain.schema.messages import AIMessage, HumanMessage, SystemMessage\n",
    "\n",
    "openapi_agent_executor.run(\n",
    "    # SystemMessage(\"You are a data-aware scientist with access to the Materials Project API. You can answer user queries about materials based on the tools you have, without hallucinating.\"),\n",
    "    # HumanMessage(\"What's the elastic tensor of NaCl?\"),\n",
    "    \"What's the elastic tensor of NaCl?\"\n",
    ")"
   ]
  },
  {
   "cell_type": "code",
   "execution_count": null,
   "metadata": {},
   "outputs": [],
   "source": []
  }
 ],
 "metadata": {
  "kernelspec": {
   "display_name": "llamp",
   "language": "python",
   "name": "python3"
  },
  "language_info": {
   "codemirror_mode": {
    "name": "ipython",
    "version": 3
   },
   "file_extension": ".py",
   "mimetype": "text/x-python",
   "name": "python",
   "nbconvert_exporter": "python",
   "pygments_lexer": "ipython3",
   "version": "3.11.5"
  }
 },
 "nbformat": 4,
 "nbformat_minor": 2
}
