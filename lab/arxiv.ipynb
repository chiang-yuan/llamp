{
 "cells": [
  {
   "cell_type": "code",
   "execution_count": 7,
   "metadata": {},
   "outputs": [],
   "source": [
    "# import requests\n",
    "# from langchain.agents.agent_toolkits.openapi.spec import reduce_openapi_spec\n",
    "# raw_spec = requests.get(\n",
    "#     \"https://api.materialsproject.org/openapi.json\"\n",
    "# ).json()\n",
    "\n",
    "# spec = reduce_openapi_spec(raw_spec)"
   ]
  }
 ],
 "metadata": {
  "kernelspec": {
   "display_name": "llamp",
   "language": "python",
   "name": "python3"
  },
  "language_info": {
   "codemirror_mode": {
    "name": "ipython",
    "version": 3
   },
   "file_extension": ".py",
   "mimetype": "text/x-python",
   "name": "python",
   "nbconvert_exporter": "python",
   "pygments_lexer": "ipython3",
   "version": "3.11.5"
  }
 },
 "nbformat": 4,
 "nbformat_minor": 2
}
