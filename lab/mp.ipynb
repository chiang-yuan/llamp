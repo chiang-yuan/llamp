{
 "cells": [
  {
   "cell_type": "code",
   "execution_count": 3,
   "id": "0e7112bd",
   "metadata": {},
   "outputs": [
    {
     "name": "stdout",
     "output_type": "stream",
     "text": [
      "MPLLM is ready to serve you!\n",
      "OpenAI General: {\n",
      "  \"id\": \"chatcmpl-8CcyARQH2wHjt1UkDNiEMewGIriGX\",\n",
      "  \"object\": \"chat.completion\",\n",
      "  \"created\": 1698020426,\n",
      "  \"model\": \"gpt-3.5-turbo-16k-0613\",\n",
      "  \"choices\": [\n",
      "    {\n",
      "      \"index\": 0,\n",
      "      \"message\": {\n",
      "        \"role\": \"assistant\",\n",
      "        \"content\": \"Call MP\"\n",
      "      },\n",
      "      \"finish_reason\": \"stop\"\n",
      "    }\n",
      "  ],\n",
      "  \"usage\": {\n",
      "    \"prompt_tokens\": 149,\n",
      "    \"completion_tokens\": 2,\n",
      "    \"total_tokens\": 151\n",
      "  }\n",
      "}\n",
      "LLaMP Function Calling: {\n",
      "  \"id\": \"chatcmpl-8CcyCyKrMyZ31BrRErxgzvqpXyBha\",\n",
      "  \"object\": \"chat.completion\",\n",
      "  \"created\": 1698020428,\n",
      "  \"model\": \"gpt-3.5-turbo-16k-0613\",\n",
      "  \"choices\": [\n",
      "    {\n",
      "      \"index\": 0,\n",
      "      \"message\": {\n",
      "        \"role\": \"assistant\",\n",
      "        \"content\": null,\n",
      "        \"function_call\": {\n",
      "          \"name\": \"search_materials_summary__get\",\n",
      "          \"arguments\": \"{\\n  \\\"formula\\\": \\\"Al\\\",\\n  \\\"chemsys\\\": \\\"Al\\\",\\n  \\\"spacegroup_symbol\\\": \\\"Im-3m\\\",\\n  \\\"_fields\\\": \\\"structure\\\"\\n}\"\n",
      "        }\n",
      "      },\n",
      "      \"finish_reason\": \"function_call\"\n",
      "    }\n",
      "  ],\n",
      "  \"usage\": {\n",
      "    \"prompt_tokens\": 14391,\n",
      "    \"completion_tokens\": 46,\n",
      "    \"total_tokens\": 14437\n",
      "  }\n",
      "}\n",
      "LLaMP: {\n",
      "  \"role\": \"assistant\",\n",
      "  \"content\": null,\n",
      "  \"function_call\": {\n",
      "    \"name\": \"search_materials_summary__get\",\n",
      "    \"arguments\": \"{\\n  \\\"formula\\\": \\\"Al\\\",\\n  \\\"chemsys\\\": \\\"Al\\\",\\n  \\\"spacegroup_symbol\\\": \\\"Im-3m\\\",\\n  \\\"_fields\\\": \\\"structure\\\"\\n}\"\n",
      "  }\n",
      "}\n",
      "MP API call: search_materials_summary__get\n",
      "MP API args: {\n",
      "  \"formula\": \"Al\",\n",
      "  \"chemsys\": \"Al\",\n",
      "  \"spacegroup_symbol\": \"Im-3m\",\n",
      "  \"_fields\": \"structure\"\n",
      "}\n"
     ]
    },
    {
     "data": {
      "application/vnd.jupyter.widget-view+json": {
       "model_id": "acfffdc2e83a48eea46114ff3dd15059",
       "version_major": 2,
       "version_minor": 0
      },
      "text/plain": [
       "Retrieving SummaryDoc documents:   0%|          | 0/1 [00:00<?, ?it/s]"
      ]
     },
     "metadata": {},
     "output_type": "display_data"
    },
    {
     "name": "stdout",
     "output_type": "stream",
     "text": [
      "MP API response: [{\"structure\": {\"@module\": \"pymatgen.core.structure\", \"@class\": \"Structure\", \"charge\": 0, \"lattice\": {\"matrix\": [[1.59121869, 1.59121869, 1.59121869], [1.59121869, -1.59121869, -1.59121869], [-1.59121869, 1.59121869, -1.59121869]], \"pbc\": [true, true, true], \"a\": 2.756071617033191, \"b\": 2.756071617033191, \"c\": 2.756071617033191, \"alpha\": 109.47122063449069, \"beta\": 109.47122063449069, \"gamma\": 109.47122063449069, \"volume\": 16.11571598722545}, \"sites\": [{\"species\": [{\"element\": \"Al\", \"occu\": 1}], \"abc\": [0.0, -0.0, 0.0], \"xyz\": [0.0, 0.0, 0.0], \"label\": \"Al\", \"properties\": {\"magmom\": 0.0}}]}}]\n",
      "OpenAI Text Completion: {\n",
      "  \"id\": \"chatcmpl-8CcyHcuGlnsxP6OVSsLRwtFzlePn6\",\n",
      "  \"object\": \"chat.completion\",\n",
      "  \"created\": 1698020433,\n",
      "  \"model\": \"gpt-3.5-turbo-16k-0613\",\n",
      "  \"choices\": [\n",
      "    {\n",
      "      \"index\": 0,\n",
      "      \"message\": {\n",
      "        \"role\": \"assistant\",\n",
      "        \"content\": \"The crystal structure of BCC Al can be represented by the following pymatgen structure dictionary:\\n\\n{\\n  \\\"@module\\\": \\\"pymatgen.core.structure\\\",\\n  \\\"@class\\\": \\\"Structure\\\",\\n  \\\"charge\\\": 0,\\n  \\\"lattice\\\": {\\n    \\\"matrix\\\": [\\n      [1.59121869, 1.59121869, 1.59121869],\\n      [1.59121869, -1.59121869, -1.59121869],\\n      [-1.59121869, 1.59121869, -1.59121869]\\n    ],\\n    \\\"pbc\\\": [true, true, true],\\n    \\\"a\\\": 2.756071617033191,\\n    \\\"b\\\": 2.756071617033191,\\n    \\\"c\\\": 2.756071617033191,\\n    \\\"alpha\\\": 109.47122063449069,\\n    \\\"beta\\\": 109.47122063449069,\\n    \\\"gamma\\\": 109.47122063449069,\\n    \\\"volume\\\": 16.11571598722545\\n  },\\n  \\\"sites\\\": [\\n    {\\n      \\\"species\\\": [\\n        {\\n          \\\"element\\\": \\\"Al\\\",\\n          \\\"occu\\\": 1\\n        }\\n      ],\\n      \\\"abc\\\": [0.0, -0.0, 0.0],\\n      \\\"xyz\\\": [0.0, 0.0, 0.0],\\n      \\\"label\\\": \\\"Al\\\",\\n      \\\"properties\\\": {\\n        \\\"magmom\\\": 0.0\\n      }\\n    }\\n  ]\\n}\"\n",
      "      },\n",
      "      \"finish_reason\": \"stop\"\n",
      "    }\n",
      "  ],\n",
      "  \"usage\": {\n",
      "    \"prompt_tokens\": 349,\n",
      "    \"completion_tokens\": 330,\n",
      "    \"total_tokens\": 679\n",
      "  }\n",
      "}\n"
     ]
    },
    {
     "data": {
      "text/plain": [
       "<OpenAIObject at 0x7fee4f5a67b0> JSON: {\n",
       "  \"role\": \"assistant\",\n",
       "  \"content\": \"The crystal structure of BCC Al can be represented by the following pymatgen structure dictionary:\\n\\n{\\n  \\\"@module\\\": \\\"pymatgen.core.structure\\\",\\n  \\\"@class\\\": \\\"Structure\\\",\\n  \\\"charge\\\": 0,\\n  \\\"lattice\\\": {\\n    \\\"matrix\\\": [\\n      [1.59121869, 1.59121869, 1.59121869],\\n      [1.59121869, -1.59121869, -1.59121869],\\n      [-1.59121869, 1.59121869, -1.59121869]\\n    ],\\n    \\\"pbc\\\": [true, true, true],\\n    \\\"a\\\": 2.756071617033191,\\n    \\\"b\\\": 2.756071617033191,\\n    \\\"c\\\": 2.756071617033191,\\n    \\\"alpha\\\": 109.47122063449069,\\n    \\\"beta\\\": 109.47122063449069,\\n    \\\"gamma\\\": 109.47122063449069,\\n    \\\"volume\\\": 16.11571598722545\\n  },\\n  \\\"sites\\\": [\\n    {\\n      \\\"species\\\": [\\n        {\\n          \\\"element\\\": \\\"Al\\\",\\n          \\\"occu\\\": 1\\n        }\\n      ],\\n      \\\"abc\\\": [0.0, -0.0, 0.0],\\n      \\\"xyz\\\": [0.0, 0.0, 0.0],\\n      \\\"label\\\": \\\"Al\\\",\\n      \\\"properties\\\": {\\n        \\\"magmom\\\": 0.0\\n      }\\n    }\\n  ]\\n}\"\n",
       "}"
      ]
     },
     "execution_count": 3,
     "metadata": {},
     "output_type": "execute_result"
    }
   ],
   "source": [
    "from llamp.mp.agent import MPLLM\n",
    "from langchain.schema import HumanMessage, ChatMessage\n",
    "\n",
    "mpllm = MPLLM()\n",
    "\n",
    "print(\"MPLLM is ready to serve you!\")\n",
    "\n",
    "# user_input = input(\"Enter materials-related question: \")\n",
    "# user_input = \"What is the bandgap of stable BaTiO3?\"\n",
    "user_input = \"What is the elastic tensor of NaCl?\"\n",
    "# user_input = \"What is the bandgap of stable MgSe?\"\n",
    "# user_input = \"Is YbCl3 magnetic or non-magnetic?\"\n",
    "# # user_input = \"What is the energy above hull of Cu3P4Pb3O16 at 0K?\"\n",
    "# # user_input = \"Is Cu stable in FCC or BCC structure at 0K based on the energy distance above hull?\"\n",
    "# # user_input = \"Do we have stable Cu-substituted lead phosphate apatite at 0K?\"\n",
    "# # user_input = \"What is the bandgap of the most stable magnetite?\"\n",
    "# user_input = \"Search for the necessary information for FCC Cu and summarize for me.\"\n",
    "user_input = \"Pull out the crystal structure of BCC Al using summary endpoint and print out pymatgen structure dictionary for me\"\n",
    "# # user_input = \"What is the crystal structure of LiFePO4?\"\n",
    "# # user_input = \"Give me 10 entries (including chemical formula and material id) closest to the GGA energy hull in the Mg-Ni-Zn system at 0K\"\n",
    "# user_input = \"What are the oxidation states of atoms in magnetite? Feed relevant fields to request MP API and print out the results for me.\"\n",
    "# user_input = \"Give me some example recipes to synthesize Li4Ti5O12\"\"\n",
    "\n",
    "# mpllm.run_material_conversation(\n",
    "#     user_input=user_input, \n",
    "#     # model='gpt-4-32k-0314', \n",
    "#     model='gpt-3.5-turbo-16k', \n",
    "#     debug=True\n",
    "#     )\n",
    "\n",
    "mpllm.run(\n",
    "    messages=[ChatMessage(role='user', content=user_input)], \n",
    "    # model='gpt-4-32k-0314', \n",
    "    model='gpt-3.5-turbo-16k-0613', \n",
    "    debug=True\n",
    "    )\n",
    "# mpllm.run_material_conversation(user_input, model=\"gpt-3.5-turbo-16k-0613\", debug=True)"
   ]
  },
  {
   "cell_type": "code",
   "execution_count": 5,
   "id": "ea194f02",
   "metadata": {},
   "outputs": [
    {
     "name": "stdout",
     "output_type": "stream",
     "text": [
      "The third method involves solid-state synthesis to prepare Li4Ti5O12. Here is a summary of the procedures and the operation conditions for each step:\n",
      "\n",
      "1. Precursors: Li2CO3 and titanium dioxide (TiO2).\n",
      "\n",
      "2. Mixing: Thoroughly mix the Li2CO3 and TiO2 powders in the desired stoichiometric ratio. This can be done using a mortar and pestle or a ball mill.\n",
      "\n",
      "3. Grinding: Grind the mixture to ensure homogeneity and to enhance the reaction kinetics. This step helps in achieving a uniform distribution of the reactants.\n",
      "\n",
      "4. Heating: Transfer the ground mixture to a crucible or a ceramic boat and heat it in a furnace. The heating temperature and duration depend on the specific synthesis conditions mentioned in the literature. Typically, the mixture is heated at temperatures ranging from 700°C to 900°C for several hours.\n",
      "\n",
      "5. Cooling: After the desired heating duration, allow the sample to cool down slowly to room temperature. This slow cooling process helps in minimizing the formation of unwanted phases and ensures the stability of the final Li4Ti5O12 product.\n",
      "\n",
      "6. Characterization: Once the sample has cooled down, it can be characterized using various techniques such as X-ray diffraction (XRD), scanning electron microscopy (SEM), and energy-dispersive X-ray spectroscopy (EDS) to confirm the formation of Li4Ti5O12 and to analyze its structural and morphological properties.\n",
      "\n",
      "It is important to note that the specific operation conditions, such as the heating temperature, duration, and cooling rate, may vary depending on the specific synthesis conditions mentioned in the literature source. Therefore, it is recommended to refer to the original research paper for detailed information on the exact operation conditions used in the synthesis of Li4Ti5O12.\n"
     ]
    }
   ],
   "source": [
    "print(f\"\"\"The third method involves solid-state synthesis to prepare Li4Ti5O12. Here is a summary of the procedures and the operation conditions for each step:\\n\\n1. Precursors: Li2CO3 and titanium dioxide (TiO2).\\n\\n2. Mixing: Thoroughly mix the Li2CO3 and TiO2 powders in the desired stoichiometric ratio. This can be done using a mortar and pestle or a ball mill.\\n\\n3. Grinding: Grind the mixture to ensure homogeneity and to enhance the reaction kinetics. This step helps in achieving a uniform distribution of the reactants.\\n\\n4. Heating: Transfer the ground mixture to a crucible or a ceramic boat and heat it in a furnace. The heating temperature and duration depend on the specific synthesis conditions mentioned in the literature. Typically, the mixture is heated at temperatures ranging from 700\\u00b0C to 900\\u00b0C for several hours.\\n\\n5. Cooling: After the desired heating duration, allow the sample to cool down slowly to room temperature. This slow cooling process helps in minimizing the formation of unwanted phases and ensures the stability of the final Li4Ti5O12 product.\\n\\n6. Characterization: Once the sample has cooled down, it can be characterized using various techniques such as X-ray diffraction (XRD), scanning electron microscopy (SEM), and energy-dispersive X-ray spectroscopy (EDS) to confirm the formation of Li4Ti5O12 and to analyze its structural and morphological properties.\\n\\nIt is important to note that the specific operation conditions, such as the heating temperature, duration, and cooling rate, may vary depending on the specific synthesis conditions mentioned in the literature source. Therefore, it is recommended to refer to the original research paper for detailed information on the exact operation conditions used in the synthesis of Li4Ti5O12.\"\"\")"
   ]
  },
  {
   "cell_type": "code",
   "execution_count": 3,
   "id": "4737a512",
   "metadata": {},
   "outputs": [
    {
     "name": "stdout",
     "output_type": "stream",
     "text": [
      "To start with the first method, solid-state synthesis using TiO2 (anatase) and LiOH·H2O as precursors, you will need to follow these steps:\n",
      "\n",
      "1. Measure and weigh the required amounts of TiO2 (anatase) and LiOH·H2O according to the stoichiometric ratio of the reaction: 4 LiOH·H2O + 5 TiO2 -> 1 Li4Ti5O12 + 6 H2O.\n",
      "\n",
      "2. Thoroughly mix the weighed precursors in a mortar and pestle or a ball mill to ensure homogeneity.\n",
      "\n",
      "3. Transfer the mixture to a crucible or ceramic boat.\n",
      "\n",
      "4. Place the crucible or ceramic boat in a furnace and heat it under an oxygen atmosphere.\n",
      "\n",
      "5. Ramp the temperature gradually to the desired annealing temperature, typically around 700-900°C, and hold it for a specific duration, usually several hours.\n",
      "\n",
      "6. After the annealing process, allow the sample to cool down slowly to room temperature.\n",
      "\n",
      "7. Remove the sample from the furnace and store it in a desiccator to prevent moisture absorption.\n",
      "\n",
      "8. Characterize the synthesized Li4Ti5O12 sample using techniques such as X-ray diffraction (XRD), scanning electron microscopy (SEM), and energy-dispersive X-ray spectroscopy (EDS) to confirm the formation of the desired phase.\n",
      "\n",
      "It is important to note that the specific annealing temperature and duration may vary depending on the equipment and conditions used. Therefore, it is recommended to refer to the original research paper or consult with experts in the field for precise synthesis parameters.\n"
     ]
    }
   ],
   "source": [
    "print(f\"\"\"To start with the first method, solid-state synthesis using TiO2 (anatase) and LiOH\\u00b7H2O as precursors, you will need to follow these steps:\\n\\n1. Measure and weigh the required amounts of TiO2 (anatase) and LiOH\\u00b7H2O according to the stoichiometric ratio of the reaction: 4 LiOH\\u00b7H2O + 5 TiO2 -> 1 Li4Ti5O12 + 6 H2O.\\n\\n2. Thoroughly mix the weighed precursors in a mortar and pestle or a ball mill to ensure homogeneity.\\n\\n3. Transfer the mixture to a crucible or ceramic boat.\\n\\n4. Place the crucible or ceramic boat in a furnace and heat it under an oxygen atmosphere.\\n\\n5. Ramp the temperature gradually to the desired annealing temperature, typically around 700-900\\u00b0C, and hold it for a specific duration, usually several hours.\\n\\n6. After the annealing process, allow the sample to cool down slowly to room temperature.\\n\\n7. Remove the sample from the furnace and store it in a desiccator to prevent moisture absorption.\\n\\n8. Characterize the synthesized Li4Ti5O12 sample using techniques such as X-ray diffraction (XRD), scanning electron microscopy (SEM), and energy-dispersive X-ray spectroscopy (EDS) to confirm the formation of the desired phase.\\n\\nIt is important to note that the specific annealing temperature and duration may vary depending on the equipment and conditions used. Therefore, it is recommended to refer to the original research paper or consult with experts in the field for precise synthesis parameters.\"\"\")"
   ]
  }
 ],
 "metadata": {
  "kernelspec": {
   "display_name": "dev",
   "language": "python",
   "name": "python3"
  },
  "language_info": {
   "codemirror_mode": {
    "name": "ipython",
    "version": 3
   },
   "file_extension": ".py",
   "mimetype": "text/x-python",
   "name": "python",
   "nbconvert_exporter": "python",
   "pygments_lexer": "ipython3",
   "version": "3.11.5"
  },
  "widgets": {
   "application/vnd.jupyter.widget-state+json": {
    "state": {},
    "version_major": 2,
    "version_minor": 0
   }
  }
 },
 "nbformat": 4,
 "nbformat_minor": 5
}
