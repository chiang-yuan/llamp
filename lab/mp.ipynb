{
 "cells": [
  {
   "cell_type": "code",
   "execution_count": 1,
   "id": "0e7112bd",
   "metadata": {},
   "outputs": [
    {
     "name": "stderr",
     "output_type": "stream",
     "text": [
      "/home/cyrus/miniconda3/envs/llamp/lib/python3.11/site-packages/mp_api/client/mprester.py:227: UserWarning: mpcontribs-client not installed. Install the package to query MPContribs data, or construct pourbaix diagrams: 'pip install mpcontribs-client'\n",
      "  warnings.warn(\n"
     ]
    },
    {
     "name": "stdout",
     "output_type": "stream",
     "text": [
      "MPLLM is ready to serve you!\n",
      "Conversation started.\n",
      "User: Pull out the crystal structure of BCC Al using summary endpoint and print out pymatgen structure dictionary for me\n",
      "OpenAI General: {\n",
      "  \"id\": \"chatcmpl-86C9P8KuBY8pAg5iqKchkWT3GZPII\",\n",
      "  \"object\": \"chat.completion\",\n",
      "  \"created\": 1696487367,\n",
      "  \"model\": \"gpt-3.5-turbo-16k-0613\",\n",
      "  \"choices\": [\n",
      "    {\n",
      "      \"index\": 0,\n",
      "      \"message\": {\n",
      "        \"role\": \"assistant\",\n",
      "        \"content\": \"Call MP\"\n",
      "      },\n",
      "      \"finish_reason\": \"stop\"\n",
      "    }\n",
      "  ],\n",
      "  \"usage\": {\n",
      "    \"prompt_tokens\": 149,\n",
      "    \"completion_tokens\": 2,\n",
      "    \"total_tokens\": 151\n",
      "  }\n",
      "}\n",
      "LLaMP Function Calling: {\n",
      "  \"id\": \"chatcmpl-86C9R5ncUEROVLN2cnDlVDJxsUrXg\",\n",
      "  \"object\": \"chat.completion\",\n",
      "  \"created\": 1696487369,\n",
      "  \"model\": \"gpt-3.5-turbo-16k-0613\",\n",
      "  \"choices\": [\n",
      "    {\n",
      "      \"index\": 0,\n",
      "      \"message\": {\n",
      "        \"role\": \"assistant\",\n",
      "        \"content\": null,\n",
      "        \"function_call\": {\n",
      "          \"name\": \"search_materials_summary__get\",\n",
      "          \"arguments\": \"{\\n  \\\"formula\\\": \\\"Al\\\",\\n  \\\"chemsys\\\": \\\"Al\\\",\\n  \\\"spacegroup_symbol\\\": \\\"Im-3m\\\",\\n  \\\"_fields\\\": \\\"structure\\\"\\n}\"\n",
      "        }\n",
      "      },\n",
      "      \"finish_reason\": \"function_call\"\n",
      "    }\n",
      "  ],\n",
      "  \"usage\": {\n",
      "    \"prompt_tokens\": 14726,\n",
      "    \"completion_tokens\": 46,\n",
      "    \"total_tokens\": 14772\n",
      "  }\n",
      "}\n",
      "LLaMP: {\n",
      "  \"role\": \"assistant\",\n",
      "  \"content\": null,\n",
      "  \"function_call\": {\n",
      "    \"name\": \"search_materials_summary__get\",\n",
      "    \"arguments\": \"{\\n  \\\"formula\\\": \\\"Al\\\",\\n  \\\"chemsys\\\": \\\"Al\\\",\\n  \\\"spacegroup_symbol\\\": \\\"Im-3m\\\",\\n  \\\"_fields\\\": \\\"structure\\\"\\n}\"\n",
      "  }\n",
      "}\n",
      "MP API call: search_materials_summary__get\n",
      "MP API args: {\n",
      "  \"formula\": \"Al\",\n",
      "  \"chemsys\": \"Al\",\n",
      "  \"spacegroup_symbol\": \"Im-3m\",\n",
      "  \"_fields\": \"structure\"\n",
      "}\n"
     ]
    },
    {
     "data": {
      "application/vnd.jupyter.widget-view+json": {
       "model_id": "0efc2a1ad9ad4b4ba9fe941ae9035d85",
       "version_major": 2,
       "version_minor": 0
      },
      "text/plain": [
       "Retrieving SummaryDoc documents:   0%|          | 0/1 [00:00<?, ?it/s]"
      ]
     },
     "metadata": {},
     "output_type": "display_data"
    },
    {
     "name": "stdout",
     "output_type": "stream",
     "text": [
      "MP API response: [{\"structure\": {\"@module\": \"pymatgen.core.structure\", \"@class\": \"Structure\", \"charge\": 0, \"lattice\": {\"matrix\": [[1.59121869, 1.59121869, 1.59121869], [1.59121869, -1.59121869, -1.59121869], [-1.59121869, 1.59121869, -1.59121869]], \"pbc\": [true, true, true], \"a\": 2.756071617033191, \"b\": 2.756071617033191, \"c\": 2.756071617033191, \"alpha\": 109.47122063449069, \"beta\": 109.47122063449069, \"gamma\": 109.47122063449069, \"volume\": 16.11571598722545}, \"sites\": [{\"species\": [{\"element\": \"Al\", \"occu\": 1}], \"abc\": [0.0, -0.0, 0.0], \"xyz\": [0.0, 0.0, 0.0], \"label\": \"Al\", \"properties\": {\"magmom\": 0.0}}]}}]\n",
      "OpenAI Text Completion: {\n",
      "  \"id\": \"chatcmpl-86C9VhmjdX3LeBhRpAOVC9KXWFl4q\",\n",
      "  \"object\": \"chat.completion\",\n",
      "  \"created\": 1696487373,\n",
      "  \"model\": \"gpt-3.5-turbo-16k-0613\",\n",
      "  \"choices\": [\n",
      "    {\n",
      "      \"index\": 0,\n",
      "      \"message\": {\n",
      "        \"role\": \"assistant\",\n",
      "        \"content\": \"The material is a single crystal structure of Aluminum (Al) with a lattice parameter of 2.756 \\u00c5 and a volume of 16.116 \\u00c5\\u00b3. The crystal structure has a cubic symmetry with lattice angles of 109.471\\u00b0. The Al atom is located at the origin of the crystal structure.\"\n",
      "      },\n",
      "      \"finish_reason\": \"stop\"\n",
      "    }\n",
      "  ],\n",
      "  \"usage\": {\n",
      "    \"prompt_tokens\": 325,\n",
      "    \"completion_tokens\": 63,\n",
      "    \"total_tokens\": 388\n",
      "  }\n",
      "}\n",
      "OpenAI: The material is a single crystal structure of Aluminum (Al) with a lattice parameter of 2.756 Å and a volume of 16.116 Å³. The crystal structure has a cubic symmetry with lattice angles of 109.471°. The Al atom is located at the origin of the crystal structure.\n",
      "User: Print out the pymatgen structure dictionary for me directly\n",
      "OpenAI General: {\n",
      "  \"id\": \"chatcmpl-86CAABN93J48apqcG45JUHcNmmttl\",\n",
      "  \"object\": \"chat.completion\",\n",
      "  \"created\": 1696487414,\n",
      "  \"model\": \"gpt-3.5-turbo-16k-0613\",\n",
      "  \"choices\": [\n",
      "    {\n",
      "      \"index\": 0,\n",
      "      \"message\": {\n",
      "        \"role\": \"assistant\",\n",
      "        \"content\": \"Please clarify your request. What do you mean by \\\"pymatgen structure dictionary\\\"?\"\n",
      "      },\n",
      "      \"finish_reason\": \"stop\"\n",
      "    }\n",
      "  ],\n",
      "  \"usage\": {\n",
      "    \"prompt_tokens\": 138,\n",
      "    \"completion_tokens\": 18,\n",
      "    \"total_tokens\": 156\n",
      "  }\n",
      "}\n",
      "OpenAI: Please clarify your request. What do you mean by \"pymatgen structure dictionary\"?\n"
     ]
    },
    {
     "ename": "KeyboardInterrupt",
     "evalue": "Interrupted by user",
     "output_type": "error",
     "traceback": [
      "\u001b[0;31m---------------------------------------------------------------------------\u001b[0m",
      "\u001b[0;31mKeyboardInterrupt\u001b[0m                         Traceback (most recent call last)",
      "\u001b[1;32m/home/cyrus/dev/llamp/lab/mp.ipynb Cell 1\u001b[0m line \u001b[0;36m2\n\u001b[1;32m     <a href='vscode-notebook-cell://wsl%2Bubuntu/home/cyrus/dev/llamp/lab/mp.ipynb#W0sdnNjb2RlLXJlbW90ZQ%3D%3D?line=16'>17</a>\u001b[0m user_input \u001b[39m=\u001b[39m \u001b[39m\"\u001b[39m\u001b[39mPull out the crystal structure of BCC Al using summary endpoint and print out pymatgen structure dictionary for me\u001b[39m\u001b[39m\"\u001b[39m\n\u001b[1;32m     <a href='vscode-notebook-cell://wsl%2Bubuntu/home/cyrus/dev/llamp/lab/mp.ipynb#W0sdnNjb2RlLXJlbW90ZQ%3D%3D?line=17'>18</a>\u001b[0m \u001b[39m# # user_input = \"What is the crystal structure of LiFePO4?\"\u001b[39;00m\n\u001b[1;32m     <a href='vscode-notebook-cell://wsl%2Bubuntu/home/cyrus/dev/llamp/lab/mp.ipynb#W0sdnNjb2RlLXJlbW90ZQ%3D%3D?line=18'>19</a>\u001b[0m \u001b[39m# # user_input = \"Give me 10 entries (including chemical formula and material id) closest to the GGA energy hull in the Mg-Ni-Zn system at 0K\"\u001b[39;00m\n\u001b[1;32m     <a href='vscode-notebook-cell://wsl%2Bubuntu/home/cyrus/dev/llamp/lab/mp.ipynb#W0sdnNjb2RlLXJlbW90ZQ%3D%3D?line=19'>20</a>\u001b[0m \u001b[39m# user_input = \"What are the oxidation states of atoms in magnetite? Feed relevant fields to request MP API and print out the results for me.\"\u001b[39;00m\n\u001b[1;32m     <a href='vscode-notebook-cell://wsl%2Bubuntu/home/cyrus/dev/llamp/lab/mp.ipynb#W0sdnNjb2RlLXJlbW90ZQ%3D%3D?line=20'>21</a>\u001b[0m \u001b[39m# user_input = \"Give me some example recipes to synthesize Li4Ti5O12\"\u001b[39;00m\n\u001b[0;32m---> <a href='vscode-notebook-cell://wsl%2Bubuntu/home/cyrus/dev/llamp/lab/mp.ipynb#W0sdnNjb2RlLXJlbW90ZQ%3D%3D?line=22'>23</a>\u001b[0m mpllm\u001b[39m.\u001b[39;49mrun_material_conversation(\n\u001b[1;32m     <a href='vscode-notebook-cell://wsl%2Bubuntu/home/cyrus/dev/llamp/lab/mp.ipynb#W0sdnNjb2RlLXJlbW90ZQ%3D%3D?line=23'>24</a>\u001b[0m     user_input\u001b[39m=\u001b[39;49muser_input, \n\u001b[1;32m     <a href='vscode-notebook-cell://wsl%2Bubuntu/home/cyrus/dev/llamp/lab/mp.ipynb#W0sdnNjb2RlLXJlbW90ZQ%3D%3D?line=24'>25</a>\u001b[0m     \u001b[39m# model='gpt-4-32k-0314', \u001b[39;49;00m\n\u001b[1;32m     <a href='vscode-notebook-cell://wsl%2Bubuntu/home/cyrus/dev/llamp/lab/mp.ipynb#W0sdnNjb2RlLXJlbW90ZQ%3D%3D?line=25'>26</a>\u001b[0m     model\u001b[39m=\u001b[39;49m\u001b[39m'\u001b[39;49m\u001b[39mgpt-3.5-turbo-16k-0613\u001b[39;49m\u001b[39m'\u001b[39;49m, \n\u001b[1;32m     <a href='vscode-notebook-cell://wsl%2Bubuntu/home/cyrus/dev/llamp/lab/mp.ipynb#W0sdnNjb2RlLXJlbW90ZQ%3D%3D?line=26'>27</a>\u001b[0m     debug\u001b[39m=\u001b[39;49m\u001b[39mTrue\u001b[39;49;00m\n\u001b[1;32m     <a href='vscode-notebook-cell://wsl%2Bubuntu/home/cyrus/dev/llamp/lab/mp.ipynb#W0sdnNjb2RlLXJlbW90ZQ%3D%3D?line=27'>28</a>\u001b[0m     )\n\u001b[1;32m     <a href='vscode-notebook-cell://wsl%2Bubuntu/home/cyrus/dev/llamp/lab/mp.ipynb#W0sdnNjb2RlLXJlbW90ZQ%3D%3D?line=28'>29</a>\u001b[0m \u001b[39m# mpllm.run_material_conversation(user_input, model=\"gpt-3.5-turbo-16k-0613\", debug=True)\u001b[39;00m\n",
      "File \u001b[0;32m~/dev/llamp/api/src/llamp/mp/agent.py:847\u001b[0m, in \u001b[0;36mMPLLM.run_material_conversation\u001b[0;34m(self, user_input, model, debug)\u001b[0m\n\u001b[1;32m    844\u001b[0m     \u001b[39mprint\u001b[39m(\u001b[39m\"\u001b[39m\u001b[39mConversation started.\u001b[39m\u001b[39m\"\u001b[39m)\n\u001b[1;32m    846\u001b[0m \u001b[39mwhile\u001b[39;00m \u001b[39mTrue\u001b[39;00m:\n\u001b[0;32m--> 847\u001b[0m     user_input \u001b[39m=\u001b[39m user_input \u001b[39mif\u001b[39;00m user_input \u001b[39melse\u001b[39;00m \u001b[39minput\u001b[39;49m(\u001b[39m\"\u001b[39;49m\u001b[39mUser: \u001b[39;49m\u001b[39m\"\u001b[39;49m)\n\u001b[1;32m    848\u001b[0m     \u001b[39mprint\u001b[39m(\u001b[39m\"\u001b[39m\u001b[39mUser:\u001b[39m\u001b[39m\"\u001b[39m, user_input)\n\u001b[1;32m    849\u001b[0m     gen_reponse \u001b[39m=\u001b[39m \u001b[39mself\u001b[39m\u001b[39m.\u001b[39mgeneral_reponse(\n\u001b[1;32m    850\u001b[0m         {\u001b[39m\"\u001b[39m\u001b[39mrole\u001b[39m\u001b[39m\"\u001b[39m: \u001b[39m\"\u001b[39m\u001b[39muser\u001b[39m\u001b[39m\"\u001b[39m, \u001b[39m\"\u001b[39m\u001b[39mcontent\u001b[39m\u001b[39m\"\u001b[39m: user_input},\n\u001b[1;32m    851\u001b[0m         model\u001b[39m=\u001b[39mmodel \u001b[39mif\u001b[39;00m model \u001b[39melse\u001b[39;00m \u001b[39m\"\u001b[39m\u001b[39mgpt-3.5-turbo-0613\u001b[39m\u001b[39m\"\u001b[39m,\n\u001b[1;32m    852\u001b[0m         debug\u001b[39m=\u001b[39mdebug,\n\u001b[1;32m    853\u001b[0m     )\n",
      "File \u001b[0;32m~/miniconda3/envs/llamp/lib/python3.11/site-packages/ipykernel/kernelbase.py:1202\u001b[0m, in \u001b[0;36mKernel.raw_input\u001b[0;34m(self, prompt)\u001b[0m\n\u001b[1;32m   1200\u001b[0m     msg \u001b[39m=\u001b[39m \u001b[39m\"\u001b[39m\u001b[39mraw_input was called, but this frontend does not support input requests.\u001b[39m\u001b[39m\"\u001b[39m\n\u001b[1;32m   1201\u001b[0m     \u001b[39mraise\u001b[39;00m StdinNotImplementedError(msg)\n\u001b[0;32m-> 1202\u001b[0m \u001b[39mreturn\u001b[39;00m \u001b[39mself\u001b[39;49m\u001b[39m.\u001b[39;49m_input_request(\n\u001b[1;32m   1203\u001b[0m     \u001b[39mstr\u001b[39;49m(prompt),\n\u001b[1;32m   1204\u001b[0m     \u001b[39mself\u001b[39;49m\u001b[39m.\u001b[39;49m_parent_ident[\u001b[39m\"\u001b[39;49m\u001b[39mshell\u001b[39;49m\u001b[39m\"\u001b[39;49m],\n\u001b[1;32m   1205\u001b[0m     \u001b[39mself\u001b[39;49m\u001b[39m.\u001b[39;49mget_parent(\u001b[39m\"\u001b[39;49m\u001b[39mshell\u001b[39;49m\u001b[39m\"\u001b[39;49m),\n\u001b[1;32m   1206\u001b[0m     password\u001b[39m=\u001b[39;49m\u001b[39mFalse\u001b[39;49;00m,\n\u001b[1;32m   1207\u001b[0m )\n",
      "File \u001b[0;32m~/miniconda3/envs/llamp/lib/python3.11/site-packages/ipykernel/kernelbase.py:1245\u001b[0m, in \u001b[0;36mKernel._input_request\u001b[0;34m(self, prompt, ident, parent, password)\u001b[0m\n\u001b[1;32m   1242\u001b[0m \u001b[39mexcept\u001b[39;00m \u001b[39mKeyboardInterrupt\u001b[39;00m:\n\u001b[1;32m   1243\u001b[0m     \u001b[39m# re-raise KeyboardInterrupt, to truncate traceback\u001b[39;00m\n\u001b[1;32m   1244\u001b[0m     msg \u001b[39m=\u001b[39m \u001b[39m\"\u001b[39m\u001b[39mInterrupted by user\u001b[39m\u001b[39m\"\u001b[39m\n\u001b[0;32m-> 1245\u001b[0m     \u001b[39mraise\u001b[39;00m \u001b[39mKeyboardInterrupt\u001b[39;00m(msg) \u001b[39mfrom\u001b[39;00m \u001b[39mNone\u001b[39;00m\n\u001b[1;32m   1246\u001b[0m \u001b[39mexcept\u001b[39;00m \u001b[39mException\u001b[39;00m:\n\u001b[1;32m   1247\u001b[0m     \u001b[39mself\u001b[39m\u001b[39m.\u001b[39mlog\u001b[39m.\u001b[39mwarning(\u001b[39m\"\u001b[39m\u001b[39mInvalid Message:\u001b[39m\u001b[39m\"\u001b[39m, exc_info\u001b[39m=\u001b[39m\u001b[39mTrue\u001b[39;00m)\n",
      "\u001b[0;31mKeyboardInterrupt\u001b[0m: Interrupted by user"
     ]
    }
   ],
   "source": [
    "from llamp.mp.agent import MPLLM\n",
    "\n",
    "mpllm = MPLLM()\n",
    "\n",
    "print(\"MPLLM is ready to serve you!\")\n",
    "\n",
    "# user_input = input(\"Enter materials-related question: \")\n",
    "# user_input = \"What is the bandgap of stable BaTiO3?\"\n",
    "user_input = \"What is the elastic tensor of NaCl? Summarize it in text for me.\"\n",
    "user_input = \"What is the bandgap of stable MgSe?\"\n",
    "# user_input = \"Is YbCl3 magnetic or non-magnetic?\"\n",
    "# # user_input = \"What is the energy above hull of Cu3P4Pb3O16 at 0K?\"\n",
    "# # user_input = \"Is Cu stable in FCC or BCC structure at 0K based on the energy distance above hull?\"\n",
    "# # user_input = \"Do we have stable Cu-substituted lead phosphate apatite at 0K?\"\n",
    "# # user_input = \"What is the bandgap of the most stable magnetite?\"\n",
    "# user_input = \"Search for the necessary information for FCC Cu and summarize for me.\"\n",
    "user_input = \"Pull out the crystal structure of BCC Al using summary endpoint and print out pymatgen structure dictionary for me\"\n",
    "# # user_input = \"What is the crystal structure of LiFePO4?\"\n",
    "# # user_input = \"Give me 10 entries (including chemical formula and material id) closest to the GGA energy hull in the Mg-Ni-Zn system at 0K\"\n",
    "# user_input = \"What are the oxidation states of atoms in magnetite? Feed relevant fields to request MP API and print out the results for me.\"\n",
    "# user_input = \"Give me some example recipes to synthesize Li4Ti5O12\"\n",
    "\n",
    "mpllm.run_material_conversation(\n",
    "    user_input=user_input, \n",
    "    # model='gpt-4-32k-0314', \n",
    "    model='gpt-3.5-turbo-16k-0613', \n",
    "    debug=True\n",
    "    )\n",
    "# mpllm.run_material_conversation(user_input, model=\"gpt-3.5-turbo-16k-0613\", debug=True)"
   ]
  },
  {
   "cell_type": "code",
   "execution_count": 5,
   "id": "ea194f02",
   "metadata": {},
   "outputs": [
    {
     "name": "stdout",
     "output_type": "stream",
     "text": [
      "The third method involves solid-state synthesis to prepare Li4Ti5O12. Here is a summary of the procedures and the operation conditions for each step:\n",
      "\n",
      "1. Precursors: Li2CO3 and titanium dioxide (TiO2).\n",
      "\n",
      "2. Mixing: Thoroughly mix the Li2CO3 and TiO2 powders in the desired stoichiometric ratio. This can be done using a mortar and pestle or a ball mill.\n",
      "\n",
      "3. Grinding: Grind the mixture to ensure homogeneity and to enhance the reaction kinetics. This step helps in achieving a uniform distribution of the reactants.\n",
      "\n",
      "4. Heating: Transfer the ground mixture to a crucible or a ceramic boat and heat it in a furnace. The heating temperature and duration depend on the specific synthesis conditions mentioned in the literature. Typically, the mixture is heated at temperatures ranging from 700°C to 900°C for several hours.\n",
      "\n",
      "5. Cooling: After the desired heating duration, allow the sample to cool down slowly to room temperature. This slow cooling process helps in minimizing the formation of unwanted phases and ensures the stability of the final Li4Ti5O12 product.\n",
      "\n",
      "6. Characterization: Once the sample has cooled down, it can be characterized using various techniques such as X-ray diffraction (XRD), scanning electron microscopy (SEM), and energy-dispersive X-ray spectroscopy (EDS) to confirm the formation of Li4Ti5O12 and to analyze its structural and morphological properties.\n",
      "\n",
      "It is important to note that the specific operation conditions, such as the heating temperature, duration, and cooling rate, may vary depending on the specific synthesis conditions mentioned in the literature source. Therefore, it is recommended to refer to the original research paper for detailed information on the exact operation conditions used in the synthesis of Li4Ti5O12.\n"
     ]
    }
   ],
   "source": [
    "print(f\"\"\"The third method involves solid-state synthesis to prepare Li4Ti5O12. Here is a summary of the procedures and the operation conditions for each step:\\n\\n1. Precursors: Li2CO3 and titanium dioxide (TiO2).\\n\\n2. Mixing: Thoroughly mix the Li2CO3 and TiO2 powders in the desired stoichiometric ratio. This can be done using a mortar and pestle or a ball mill.\\n\\n3. Grinding: Grind the mixture to ensure homogeneity and to enhance the reaction kinetics. This step helps in achieving a uniform distribution of the reactants.\\n\\n4. Heating: Transfer the ground mixture to a crucible or a ceramic boat and heat it in a furnace. The heating temperature and duration depend on the specific synthesis conditions mentioned in the literature. Typically, the mixture is heated at temperatures ranging from 700\\u00b0C to 900\\u00b0C for several hours.\\n\\n5. Cooling: After the desired heating duration, allow the sample to cool down slowly to room temperature. This slow cooling process helps in minimizing the formation of unwanted phases and ensures the stability of the final Li4Ti5O12 product.\\n\\n6. Characterization: Once the sample has cooled down, it can be characterized using various techniques such as X-ray diffraction (XRD), scanning electron microscopy (SEM), and energy-dispersive X-ray spectroscopy (EDS) to confirm the formation of Li4Ti5O12 and to analyze its structural and morphological properties.\\n\\nIt is important to note that the specific operation conditions, such as the heating temperature, duration, and cooling rate, may vary depending on the specific synthesis conditions mentioned in the literature source. Therefore, it is recommended to refer to the original research paper for detailed information on the exact operation conditions used in the synthesis of Li4Ti5O12.\"\"\")"
   ]
  },
  {
   "cell_type": "code",
   "execution_count": 3,
   "id": "4737a512",
   "metadata": {},
   "outputs": [
    {
     "name": "stdout",
     "output_type": "stream",
     "text": [
      "To start with the first method, solid-state synthesis using TiO2 (anatase) and LiOH·H2O as precursors, you will need to follow these steps:\n",
      "\n",
      "1. Measure and weigh the required amounts of TiO2 (anatase) and LiOH·H2O according to the stoichiometric ratio of the reaction: 4 LiOH·H2O + 5 TiO2 -> 1 Li4Ti5O12 + 6 H2O.\n",
      "\n",
      "2. Thoroughly mix the weighed precursors in a mortar and pestle or a ball mill to ensure homogeneity.\n",
      "\n",
      "3. Transfer the mixture to a crucible or ceramic boat.\n",
      "\n",
      "4. Place the crucible or ceramic boat in a furnace and heat it under an oxygen atmosphere.\n",
      "\n",
      "5. Ramp the temperature gradually to the desired annealing temperature, typically around 700-900°C, and hold it for a specific duration, usually several hours.\n",
      "\n",
      "6. After the annealing process, allow the sample to cool down slowly to room temperature.\n",
      "\n",
      "7. Remove the sample from the furnace and store it in a desiccator to prevent moisture absorption.\n",
      "\n",
      "8. Characterize the synthesized Li4Ti5O12 sample using techniques such as X-ray diffraction (XRD), scanning electron microscopy (SEM), and energy-dispersive X-ray spectroscopy (EDS) to confirm the formation of the desired phase.\n",
      "\n",
      "It is important to note that the specific annealing temperature and duration may vary depending on the equipment and conditions used. Therefore, it is recommended to refer to the original research paper or consult with experts in the field for precise synthesis parameters.\n"
     ]
    }
   ],
   "source": [
    "print(f\"\"\"To start with the first method, solid-state synthesis using TiO2 (anatase) and LiOH\\u00b7H2O as precursors, you will need to follow these steps:\\n\\n1. Measure and weigh the required amounts of TiO2 (anatase) and LiOH\\u00b7H2O according to the stoichiometric ratio of the reaction: 4 LiOH\\u00b7H2O + 5 TiO2 -> 1 Li4Ti5O12 + 6 H2O.\\n\\n2. Thoroughly mix the weighed precursors in a mortar and pestle or a ball mill to ensure homogeneity.\\n\\n3. Transfer the mixture to a crucible or ceramic boat.\\n\\n4. Place the crucible or ceramic boat in a furnace and heat it under an oxygen atmosphere.\\n\\n5. Ramp the temperature gradually to the desired annealing temperature, typically around 700-900\\u00b0C, and hold it for a specific duration, usually several hours.\\n\\n6. After the annealing process, allow the sample to cool down slowly to room temperature.\\n\\n7. Remove the sample from the furnace and store it in a desiccator to prevent moisture absorption.\\n\\n8. Characterize the synthesized Li4Ti5O12 sample using techniques such as X-ray diffraction (XRD), scanning electron microscopy (SEM), and energy-dispersive X-ray spectroscopy (EDS) to confirm the formation of the desired phase.\\n\\nIt is important to note that the specific annealing temperature and duration may vary depending on the equipment and conditions used. Therefore, it is recommended to refer to the original research paper or consult with experts in the field for precise synthesis parameters.\"\"\")"
   ]
  }
 ],
 "metadata": {
  "kernelspec": {
   "display_name": "dev",
   "language": "python",
   "name": "python3"
  },
  "language_info": {
   "codemirror_mode": {
    "name": "ipython",
    "version": 3
   },
   "file_extension": ".py",
   "mimetype": "text/x-python",
   "name": "python",
   "nbconvert_exporter": "python",
   "pygments_lexer": "ipython3",
   "version": "3.11.5"
  },
  "widgets": {
   "application/vnd.jupyter.widget-state+json": {
    "state": {},
    "version_major": 2,
    "version_minor": 0
   }
  }
 },
 "nbformat": 4,
 "nbformat_minor": 5
}
