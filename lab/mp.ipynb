{
 "cells": [
  {
   "cell_type": "code",
   "execution_count": 3,
   "id": "0e7112bd",
   "metadata": {},
   "outputs": [
    {
     "name": "stdout",
     "output_type": "stream",
     "text": [
      "MPLLM is ready to serve you!\n",
      "Conversation started.\n",
      "User: What are the oxidation states of atoms in magnetite?\n",
      "Error: The model `gpt-4-32k-0314` does not exist or you do not have access to it. Learn more: https://help.openai.com/en/articles/7102672-how-can-i-access-gpt-4.\n",
      "OpenAI General: {}\n"
     ]
    },
    {
     "ename": "KeyError",
     "evalue": "'choices'",
     "output_type": "error",
     "traceback": [
      "\u001b[0;31m---------------------------------------------------------------------------\u001b[0m",
      "\u001b[0;31mKeyError\u001b[0m                                  Traceback (most recent call last)",
      "\u001b[1;32m/home/cyrus/llamp/lab/mp.ipynb Cell 1\u001b[0m line \u001b[0;36m2\n\u001b[1;32m     <a href='vscode-notebook-cell://wsl%2Bubuntu/home/cyrus/llamp/lab/mp.ipynb#W0sdnNjb2RlLXJlbW90ZQ%3D%3D?line=17'>18</a>\u001b[0m \u001b[39m# user_input = \"What is the crystal structure of LiFePO4?\"\u001b[39;00m\n\u001b[1;32m     <a href='vscode-notebook-cell://wsl%2Bubuntu/home/cyrus/llamp/lab/mp.ipynb#W0sdnNjb2RlLXJlbW90ZQ%3D%3D?line=18'>19</a>\u001b[0m \u001b[39m# user_input = \"Give me 10 entries (including chemical formula and material id) closest to the GGA energy hull in the Mg-Ni-Zn system at 0K\"\u001b[39;00m\n\u001b[1;32m     <a href='vscode-notebook-cell://wsl%2Bubuntu/home/cyrus/llamp/lab/mp.ipynb#W0sdnNjb2RlLXJlbW90ZQ%3D%3D?line=19'>20</a>\u001b[0m user_input \u001b[39m=\u001b[39m \u001b[39m\"\u001b[39m\u001b[39mWhat are the oxidation states of atoms in magnetite?\u001b[39m\u001b[39m\"\u001b[39m\n\u001b[0;32m---> <a href='vscode-notebook-cell://wsl%2Bubuntu/home/cyrus/llamp/lab/mp.ipynb#W0sdnNjb2RlLXJlbW90ZQ%3D%3D?line=21'>22</a>\u001b[0m mpllm\u001b[39m.\u001b[39;49mrun_material_conversation(user_input\u001b[39m=\u001b[39;49muser_input, model\u001b[39m=\u001b[39;49m\u001b[39m'\u001b[39;49m\u001b[39mgpt-4-32k-0314\u001b[39;49m\u001b[39m'\u001b[39;49m, debug\u001b[39m=\u001b[39;49m\u001b[39mTrue\u001b[39;49;00m)\n\u001b[1;32m     <a href='vscode-notebook-cell://wsl%2Bubuntu/home/cyrus/llamp/lab/mp.ipynb#W0sdnNjb2RlLXJlbW90ZQ%3D%3D?line=22'>23</a>\u001b[0m \u001b[39m# mpllm.run_material_conversation(user_input, model=\"gpt-3.5-turbo-16k-0613\", debug=True)\u001b[39;00m\n",
      "File \u001b[0;32m~/llamp/api/src/llamp/mp/agent.py:783\u001b[0m, in \u001b[0;36mMPLLM.run_material_conversation\u001b[0;34m(self, user_input, model, debug)\u001b[0m\n\u001b[1;32m    780\u001b[0m \u001b[39mif\u001b[39;00m debug:\n\u001b[1;32m    781\u001b[0m     \u001b[39mprint\u001b[39m(\u001b[39m\"\u001b[39m\u001b[39mOpenAI General:\u001b[39m\u001b[39m\"\u001b[39m, gen_reponse)\n\u001b[0;32m--> 783\u001b[0m gen_reponse_msg \u001b[39m=\u001b[39m gen_reponse[\u001b[39m\"\u001b[39;49m\u001b[39mchoices\u001b[39;49m\u001b[39m\"\u001b[39;49m][\u001b[39m0\u001b[39m][\u001b[39m\"\u001b[39m\u001b[39mmessage\u001b[39m\u001b[39m\"\u001b[39m]  \u001b[39m# type: ignore\u001b[39;00m\n\u001b[1;32m    785\u001b[0m \u001b[39mif\u001b[39;00m gen_reponse_msg[\u001b[39m\"\u001b[39m\u001b[39mcontent\u001b[39m\u001b[39m\"\u001b[39m] \u001b[39m==\u001b[39m \u001b[39mself\u001b[39m\u001b[39m.\u001b[39mcall_mp_hint:\n\u001b[1;32m    786\u001b[0m     mat_reponse \u001b[39m=\u001b[39m \u001b[39mself\u001b[39m\u001b[39m.\u001b[39mmaterial_response(\n\u001b[1;32m    787\u001b[0m         {\u001b[39m\"\u001b[39m\u001b[39mrole\u001b[39m\u001b[39m\"\u001b[39m: \u001b[39m\"\u001b[39m\u001b[39muser\u001b[39m\u001b[39m\"\u001b[39m, \u001b[39m\"\u001b[39m\u001b[39mcontent\u001b[39m\u001b[39m\"\u001b[39m: user_input},\n\u001b[1;32m    788\u001b[0m         model\u001b[39m=\u001b[39mmodel \u001b[39mif\u001b[39;00m model \u001b[39melse\u001b[39;00m \u001b[39m\"\u001b[39m\u001b[39mgpt-3.5-turbo-16k-0613\u001b[39m\u001b[39m\"\u001b[39m,\n\u001b[1;32m    789\u001b[0m         debug\u001b[39m=\u001b[39mdebug,\n\u001b[1;32m    790\u001b[0m     )\n",
      "\u001b[0;31mKeyError\u001b[0m: 'choices'"
     ]
    }
   ],
   "source": [
    "from llamp.mp.agent import MPLLM\n",
    "\n",
    "mpllm = MPLLM()\n",
    "\n",
    "print(\"MPLLM is ready to serve you!\")\n",
    "\n",
    "# user_input = input(\"Enter materials-related question: \")\n",
    "user_input = \"What is the bandgap of stable BaTiO3?\"\n",
    "user_input = \"What is the elastic tensor of NaCl? Summarize it in text for me.\"\n",
    "# user_input = \"What is the bandgap of stable MgSe?\"\n",
    "user_input = \"Is YbCl3 magnetic or non-magnetic?\"\n",
    "# user_input = \"What is the energy above hull of Cu3P4Pb3O16 at 0K?\"\n",
    "# user_input = \"Is Cu stable in FCC or BCC structure at 0K based on the energy distance above hull?\"\n",
    "# user_input = \"Do we have stable Cu-substituted lead phosphate apatite at 0K?\"\n",
    "# user_input = \"What is the bandgap of the most stable magnetite?\"\n",
    "user_input = \"Search for the necessary information for FCC Cu and summarize for me.\"\n",
    "user_input = \"Pull out the crystal structure of BCC Al using summary endpoint and print out pymatgen structure dictionary for me\"\n",
    "# user_input = \"What is the crystal structure of LiFePO4?\"\n",
    "# user_input = \"Give me 10 entries (including chemical formula and material id) closest to the GGA energy hull in the Mg-Ni-Zn system at 0K\"\n",
    "user_input = \"What are the oxidation states of atoms in magnetite?\"\n",
    "\n",
    "mpllm.run_material_conversation(\n",
    "    user_input=user_input, \n",
    "    # model='gpt-4-32k-0314', \n",
    "    debug=True\n",
    "    )\n",
    "# mpllm.run_material_conversation(user_input, model=\"gpt-3.5-turbo-16k-0613\", debug=True)"
   ]
  }
 ],
 "metadata": {
  "kernelspec": {
   "display_name": "dev",
   "language": "python",
   "name": "python3"
  },
  "language_info": {
   "codemirror_mode": {
    "name": "ipython",
    "version": 3
   },
   "file_extension": ".py",
   "mimetype": "text/x-python",
   "name": "python",
   "nbconvert_exporter": "python",
   "pygments_lexer": "ipython3",
   "version": "3.11.5"
  },
  "widgets": {
   "application/vnd.jupyter.widget-state+json": {
    "state": {},
    "version_major": 2,
    "version_minor": 0
   }
  }
 },
 "nbformat": 4,
 "nbformat_minor": 5
}
