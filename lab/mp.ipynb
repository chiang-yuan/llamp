{
 "cells": [
  {
   "cell_type": "code",
   "execution_count": 1,
   "id": "0e7112bd",
   "metadata": {},
   "outputs": [
    {
     "name": "stderr",
     "output_type": "stream",
     "text": [
      "/home/cyrus/miniconda3/envs/llamp/lib/python3.11/site-packages/mp_api/client/mprester.py:182: UserWarning: mpcontribs-client not installed. Install the package to query MPContribs data, or construct pourbaix diagrams: 'pip install mpcontribs-client'\n",
      "  warnings.warn(\n"
     ]
    },
    {
     "name": "stdout",
     "output_type": "stream",
     "text": [
      "MPLLM is ready to serve you!\n",
      "Conversation started.\n",
      "User: What is the elastic tensor of NaCl? Summarize it in text for me.\n",
      "OpenAI General: {\n",
      "  \"id\": \"chatcmpl-83Rok0jinLISnm1WBtex2V6ldQr7I\",\n",
      "  \"object\": \"chat.completion\",\n",
      "  \"created\": 1695832606,\n",
      "  \"model\": \"gpt-3.5-turbo-16k-0613\",\n",
      "  \"choices\": [\n",
      "    {\n",
      "      \"index\": 0,\n",
      "      \"message\": {\n",
      "        \"role\": \"assistant\",\n",
      "        \"content\": \"Call MP\"\n",
      "      },\n",
      "      \"finish_reason\": \"stop\"\n",
      "    }\n",
      "  ],\n",
      "  \"usage\": {\n",
      "    \"prompt_tokens\": 145,\n",
      "    \"completion_tokens\": 2,\n",
      "    \"total_tokens\": 147\n",
      "  }\n",
      "}\n",
      "LLaMP Function Calling: {\n",
      "  \"id\": \"chatcmpl-83Rom4oI0Wfok02LU8h3ZX1W3zrat\",\n",
      "  \"object\": \"chat.completion\",\n",
      "  \"created\": 1695832608,\n",
      "  \"model\": \"gpt-3.5-turbo-16k-0613\",\n",
      "  \"choices\": [\n",
      "    {\n",
      "      \"index\": 0,\n",
      "      \"message\": {\n",
      "        \"role\": \"assistant\",\n",
      "        \"content\": null,\n",
      "        \"function_call\": {\n",
      "          \"name\": \"search_materials_elasticity__get\",\n",
      "          \"arguments\": \"{\\n  \\\"formula\\\": \\\"NaCl\\\"\\n}\"\n",
      "        }\n",
      "      },\n",
      "      \"finish_reason\": \"function_call\"\n",
      "    }\n",
      "  ],\n",
      "  \"usage\": {\n",
      "    \"prompt_tokens\": 14718,\n",
      "    \"completion_tokens\": 22,\n",
      "    \"total_tokens\": 14740\n",
      "  }\n",
      "}\n",
      "LLaMP: {\n",
      "  \"role\": \"assistant\",\n",
      "  \"content\": null,\n",
      "  \"function_call\": {\n",
      "    \"name\": \"search_materials_elasticity__get\",\n",
      "    \"arguments\": \"{\\n  \\\"formula\\\": \\\"NaCl\\\"\\n}\"\n",
      "  }\n",
      "}\n",
      "MP API call: search_materials_elasticity__get\n",
      "MP API args: {\n",
      "  \"formula\": \"NaCl\"\n",
      "}\n"
     ]
    },
    {
     "data": {
      "application/vnd.jupyter.widget-view+json": {
       "model_id": "2cd8c4dd162148f6b88a42059177b991",
       "version_major": 2,
       "version_minor": 0
      },
      "text/plain": [
       "Retrieving MaterialsDoc documents:   0%|          | 0/3 [00:00<?, ?it/s]"
      ]
     },
     "metadata": {},
     "output_type": "display_data"
    },
    {
     "data": {
      "application/vnd.jupyter.widget-view+json": {
       "model_id": "bb0b6410ea534c04a508f5e91795ca08",
       "version_major": 2,
       "version_minor": 0
      },
      "text/plain": [
       "Retrieving ElasticityDoc documents:   0%|          | 0/1 [00:00<?, ?it/s]"
      ]
     },
     "metadata": {},
     "output_type": "display_data"
    },
    {
     "name": "stdout",
     "output_type": "stream",
     "text": [
      "MP API response: [{\"pretty_formula\": \"NaCl\", \"elasticity\": {\"k_voigt\": 22.590490142223533, \"k_reuss\": 22.590490142223533, \"k_vrh\": 22.590490142223533, \"g_voigt\": 14.508697233449267, \"g_reuss\": 14.040668599133046, \"g_vrh\": 14.274682916291155, \"universal_anisotropy\": 0.16666892712827064, \"homogeneous_poisson\": 0.23902464037610438, \"elastic_tensor\": [[46.0, 11.0, 11.0, 0.0, 0.0, 0.0], [11.0, 46.0, 11.0, 0.0, 0.0, 0.0], [11.0, 11.0, 46.0, 0.0, 0.0, 0.0], [0.0, 0.0, 0.0, 12.0, 0.0, 0.0], [0.0, 0.0, 0.0, 0.0, 12.0, 0.0], [0.0, 0.0, 0.0, 0.0, 0.0, 12.0]], \"compliance_tensor\": [[23.6, -4.4, -4.4, 0.0, 0.0, 0.0], [-4.4, 23.6, -4.4, 0.0, 0.0, 0.0], [-4.4, -4.4, 23.6, 0.0, 0.0, 0.0], [0.0, 0.0, 0.0, 81.3, 0.0, 0.0], [0.0, 0.0, 0.0, 0.0, 81.3, 0.0], [0.0, 0.0, 0.0, 0.0, 0.0, 81.3]]}, \"task_id\": \"mp-22862\"}]\n",
      "OpenAI Text Completion: {\n",
      "  \"id\": \"chatcmpl-83Rp2WVi4QViy5Wkzk4m6AcUz1sCg\",\n",
      "  \"object\": \"chat.completion\",\n",
      "  \"created\": 1695832624,\n",
      "  \"model\": \"gpt-3.5-turbo-16k-0613\",\n",
      "  \"choices\": [\n",
      "    {\n",
      "      \"index\": 0,\n",
      "      \"message\": {\n",
      "        \"role\": \"assistant\",\n",
      "        \"content\": \"The elastic tensor of NaCl can be summarized as follows:\\n\\n- Bulk modulus (Voigt): 22.59 GPa\\n- Bulk modulus (Reuss): 22.59 GPa\\n- Bulk modulus (Voigt-Reuss-Hill average): 22.59 GPa\\n- Shear modulus (Voigt): 14.51 GPa\\n- Shear modulus (Reuss): 14.04 GPa\\n- Shear modulus (Voigt-Reuss-Hill average): 14.27 GPa\\n- Universal anisotropy index: 0.17\\n- Homogeneous Poisson's ratio: 0.24\\n\\nThe elastic tensor components are as follows:\\n[[46.0, 11.0, 11.0, 0.0, 0.0, 0.0],\\n [11.0, 46.0, 11.0, 0.0, 0.0, 0.0],\\n [11.0, 11.0, 46.0, 0.0, 0.0, 0.0],\\n [0.0, 0.0, 0.0, 12.0, 0.0, 0.0],\\n [0.0, 0.0, 0.0, 0.0, 12.0, 0.0],\\n [0.0, 0.0, 0.0, 0.0, 0.0, 12.0]]\\n\\nAnd the compliance tensor components are as follows:\\n[[23.6, -4.4, -4.4, 0.0, 0.0, 0.0],\\n [-4.4, 23.6, -4.4, 0.0, 0.0, 0.0],\\n [-4.4, -4.4, 23.6, 0.0, 0.0, 0.0],\\n [0.0, 0.0, 0.0, 81.3, 0.0, 0.0],\\n [0.0, 0.0, 0.0, 0.0, 81.3, 0.0],\\n [0.0, 0.0, 0.0, 0.0, 0.0, 81.3]]\"\n",
      "      },\n",
      "      \"finish_reason\": \"stop\"\n",
      "    }\n",
      "  ],\n",
      "  \"usage\": {\n",
      "    \"prompt_tokens\": 616,\n",
      "    \"completion_tokens\": 512,\n",
      "    \"total_tokens\": 1128\n",
      "  }\n",
      "}\n",
      "OpenAI: The elastic tensor of NaCl can be summarized as follows:\n",
      "\n",
      "- Bulk modulus (Voigt): 22.59 GPa\n",
      "- Bulk modulus (Reuss): 22.59 GPa\n",
      "- Bulk modulus (Voigt-Reuss-Hill average): 22.59 GPa\n",
      "- Shear modulus (Voigt): 14.51 GPa\n",
      "- Shear modulus (Reuss): 14.04 GPa\n",
      "- Shear modulus (Voigt-Reuss-Hill average): 14.27 GPa\n",
      "- Universal anisotropy index: 0.17\n",
      "- Homogeneous Poisson's ratio: 0.24\n",
      "\n",
      "The elastic tensor components are as follows:\n",
      "[[46.0, 11.0, 11.0, 0.0, 0.0, 0.0],\n",
      " [11.0, 46.0, 11.0, 0.0, 0.0, 0.0],\n",
      " [11.0, 11.0, 46.0, 0.0, 0.0, 0.0],\n",
      " [0.0, 0.0, 0.0, 12.0, 0.0, 0.0],\n",
      " [0.0, 0.0, 0.0, 0.0, 12.0, 0.0],\n",
      " [0.0, 0.0, 0.0, 0.0, 0.0, 12.0]]\n",
      "\n",
      "And the compliance tensor components are as follows:\n",
      "[[23.6, -4.4, -4.4, 0.0, 0.0, 0.0],\n",
      " [-4.4, 23.6, -4.4, 0.0, 0.0, 0.0],\n",
      " [-4.4, -4.4, 23.6, 0.0, 0.0, 0.0],\n",
      " [0.0, 0.0, 0.0, 81.3, 0.0, 0.0],\n",
      " [0.0, 0.0, 0.0, 0.0, 81.3, 0.0],\n",
      " [0.0, 0.0, 0.0, 0.0, 0.0, 81.3]]\n",
      "User: What's is the 11 components in elastic tensor\n",
      "OpenAI General: {\n",
      "  \"id\": \"chatcmpl-83Rq0NL0loXQVTlfTK355TAQABC0d\",\n",
      "  \"object\": \"chat.completion\",\n",
      "  \"created\": 1695832684,\n",
      "  \"model\": \"gpt-3.5-turbo-16k-0613\",\n",
      "  \"choices\": [\n",
      "    {\n",
      "      \"index\": 0,\n",
      "      \"message\": {\n",
      "        \"role\": \"assistant\",\n",
      "        \"content\": \"Call MP\"\n",
      "      },\n",
      "      \"finish_reason\": \"stop\"\n",
      "    }\n",
      "  ],\n",
      "  \"usage\": {\n",
      "    \"prompt_tokens\": 697,\n",
      "    \"completion_tokens\": 2,\n",
      "    \"total_tokens\": 699\n",
      "  }\n",
      "}\n",
      "LLaMP Function Calling: {\n",
      "  \"id\": \"chatcmpl-83Rq1kJ3lJL9uXNyBD28YFmgJTdA1\",\n",
      "  \"object\": \"chat.completion\",\n",
      "  \"created\": 1695832685,\n",
      "  \"model\": \"gpt-3.5-turbo-16k-0613\",\n",
      "  \"choices\": [\n",
      "    {\n",
      "      \"index\": 0,\n",
      "      \"message\": {\n",
      "        \"role\": \"assistant\",\n",
      "        \"content\": null,\n",
      "        \"function_call\": {\n",
      "          \"name\": \"search_materials_elasticity__get\",\n",
      "          \"arguments\": \"{\\n  \\\"formula\\\": \\\"NaCl\\\",\\n  \\\"_fields\\\": \\\"elasticity\\\"\\n}\"\n",
      "        }\n",
      "      },\n",
      "      \"finish_reason\": \"function_call\"\n",
      "    }\n",
      "  ],\n",
      "  \"usage\": {\n",
      "    \"prompt_tokens\": 15262,\n",
      "    \"completion_tokens\": 30,\n",
      "    \"total_tokens\": 15292\n",
      "  }\n",
      "}\n",
      "LLaMP: {\n",
      "  \"role\": \"assistant\",\n",
      "  \"content\": null,\n",
      "  \"function_call\": {\n",
      "    \"name\": \"search_materials_elasticity__get\",\n",
      "    \"arguments\": \"{\\n  \\\"formula\\\": \\\"NaCl\\\",\\n  \\\"_fields\\\": \\\"elasticity\\\"\\n}\"\n",
      "  }\n",
      "}\n",
      "MP API call: search_materials_elasticity__get\n",
      "MP API args: {\n",
      "  \"formula\": \"NaCl\",\n",
      "  \"_fields\": \"elasticity\"\n",
      "}\n"
     ]
    },
    {
     "data": {
      "application/vnd.jupyter.widget-view+json": {
       "model_id": "b0490f05a74b4d0c99f80fc301d6a2a7",
       "version_major": 2,
       "version_minor": 0
      },
      "text/plain": [
       "Retrieving MaterialsDoc documents:   0%|          | 0/3 [00:00<?, ?it/s]"
      ]
     },
     "metadata": {},
     "output_type": "display_data"
    },
    {
     "data": {
      "application/vnd.jupyter.widget-view+json": {
       "model_id": "cb6512d272e24f79a799138ed9f7da39",
       "version_major": 2,
       "version_minor": 0
      },
      "text/plain": [
       "Retrieving ElasticityDoc documents:   0%|          | 0/1 [00:00<?, ?it/s]"
      ]
     },
     "metadata": {},
     "output_type": "display_data"
    },
    {
     "name": "stdout",
     "output_type": "stream",
     "text": [
      "MP API response: [{\"pretty_formula\": \"NaCl\", \"elasticity\": {\"k_voigt\": 22.590490142223533, \"k_reuss\": 22.590490142223533, \"k_vrh\": 22.590490142223533, \"g_voigt\": 14.508697233449267, \"g_reuss\": 14.040668599133046, \"g_vrh\": 14.274682916291155, \"universal_anisotropy\": 0.16666892712827064, \"homogeneous_poisson\": 0.23902464037610438, \"elastic_tensor\": [[46.0, 11.0, 11.0, 0.0, 0.0, 0.0], [11.0, 46.0, 11.0, 0.0, 0.0, 0.0], [11.0, 11.0, 46.0, 0.0, 0.0, 0.0], [0.0, 0.0, 0.0, 12.0, 0.0, 0.0], [0.0, 0.0, 0.0, 0.0, 12.0, 0.0], [0.0, 0.0, 0.0, 0.0, 0.0, 12.0]], \"compliance_tensor\": [[23.6, -4.4, -4.4, 0.0, 0.0, 0.0], [-4.4, 23.6, -4.4, 0.0, 0.0, 0.0], [-4.4, -4.4, 23.6, 0.0, 0.0, 0.0], [0.0, 0.0, 0.0, 81.3, 0.0, 0.0], [0.0, 0.0, 0.0, 0.0, 81.3, 0.0], [0.0, 0.0, 0.0, 0.0, 0.0, 81.3]]}, \"task_id\": \"mp-22862\"}]\n",
      "OpenAI Text Completion: {\n",
      "  \"id\": \"chatcmpl-83Rq8eUho8ZOKkSWgl2xviX2QrHe4\",\n",
      "  \"object\": \"chat.completion\",\n",
      "  \"created\": 1695832692,\n",
      "  \"model\": \"gpt-3.5-turbo-16k-0613\",\n",
      "  \"choices\": [\n",
      "    {\n",
      "      \"index\": 0,\n",
      "      \"message\": {\n",
      "        \"role\": \"assistant\",\n",
      "        \"content\": \"The 11 component in the elastic tensor of NaCl is 46.0.\"\n",
      "      },\n",
      "      \"finish_reason\": \"stop\"\n",
      "    }\n",
      "  ],\n",
      "  \"usage\": {\n",
      "    \"prompt_tokens\": 1160,\n",
      "    \"completion_tokens\": 17,\n",
      "    \"total_tokens\": 1177\n",
      "  }\n",
      "}\n",
      "OpenAI: The 11 component in the elastic tensor of NaCl is 46.0.\n"
     ]
    },
    {
     "ename": "KeyboardInterrupt",
     "evalue": "Interrupted by user",
     "output_type": "error",
     "traceback": [
      "\u001b[0;31m---------------------------------------------------------------------------\u001b[0m",
      "\u001b[0;31mKeyboardInterrupt\u001b[0m                         Traceback (most recent call last)",
      "\u001b[1;32m/home/cyrus/llamp/lab/mp.ipynb Cell 1\u001b[0m line \u001b[0;36m2\n\u001b[1;32m      <a href='vscode-notebook-cell://wsl%2Bubuntu/home/cyrus/llamp/lab/mp.ipynb#W0sdnNjb2RlLXJlbW90ZQ%3D%3D?line=8'>9</a>\u001b[0m user_input \u001b[39m=\u001b[39m \u001b[39m\"\u001b[39m\u001b[39mWhat is the elastic tensor of NaCl? Summarize it in text for me.\u001b[39m\u001b[39m\"\u001b[39m\n\u001b[1;32m     <a href='vscode-notebook-cell://wsl%2Bubuntu/home/cyrus/llamp/lab/mp.ipynb#W0sdnNjb2RlLXJlbW90ZQ%3D%3D?line=9'>10</a>\u001b[0m \u001b[39m# user_input = \"What is the bandgap of stable MgSe?\"\u001b[39;00m\n\u001b[1;32m     <a href='vscode-notebook-cell://wsl%2Bubuntu/home/cyrus/llamp/lab/mp.ipynb#W0sdnNjb2RlLXJlbW90ZQ%3D%3D?line=10'>11</a>\u001b[0m \u001b[39m# user_input = \"Is YbCl3 magnetic or non-magnetic?\"\u001b[39;00m\n\u001b[1;32m     <a href='vscode-notebook-cell://wsl%2Bubuntu/home/cyrus/llamp/lab/mp.ipynb#W0sdnNjb2RlLXJlbW90ZQ%3D%3D?line=11'>12</a>\u001b[0m \u001b[39m# # user_input = \"What is the energy above hull of Cu3P4Pb3O16 at 0K?\"\u001b[39;00m\n\u001b[0;32m   (...)\u001b[0m\n\u001b[1;32m     <a href='vscode-notebook-cell://wsl%2Bubuntu/home/cyrus/llamp/lab/mp.ipynb#W0sdnNjb2RlLXJlbW90ZQ%3D%3D?line=19'>20</a>\u001b[0m \u001b[39m# user_input = \"What are the oxidation states of atoms in magnetite? Feed relevant fields to request MP API and print out the results for me.\"\u001b[39;00m\n\u001b[1;32m     <a href='vscode-notebook-cell://wsl%2Bubuntu/home/cyrus/llamp/lab/mp.ipynb#W0sdnNjb2RlLXJlbW90ZQ%3D%3D?line=20'>21</a>\u001b[0m \u001b[39m# user_input = \"Give me some example recipes to synthesize Li4Ti5O12\"\u001b[39;00m\n\u001b[0;32m---> <a href='vscode-notebook-cell://wsl%2Bubuntu/home/cyrus/llamp/lab/mp.ipynb#W0sdnNjb2RlLXJlbW90ZQ%3D%3D?line=22'>23</a>\u001b[0m mpllm\u001b[39m.\u001b[39;49mrun_material_conversation(\n\u001b[1;32m     <a href='vscode-notebook-cell://wsl%2Bubuntu/home/cyrus/llamp/lab/mp.ipynb#W0sdnNjb2RlLXJlbW90ZQ%3D%3D?line=23'>24</a>\u001b[0m     user_input\u001b[39m=\u001b[39;49muser_input, \n\u001b[1;32m     <a href='vscode-notebook-cell://wsl%2Bubuntu/home/cyrus/llamp/lab/mp.ipynb#W0sdnNjb2RlLXJlbW90ZQ%3D%3D?line=24'>25</a>\u001b[0m     \u001b[39m# model='gpt-4-32k-0314', \u001b[39;49;00m\n\u001b[1;32m     <a href='vscode-notebook-cell://wsl%2Bubuntu/home/cyrus/llamp/lab/mp.ipynb#W0sdnNjb2RlLXJlbW90ZQ%3D%3D?line=25'>26</a>\u001b[0m     model\u001b[39m=\u001b[39;49m\u001b[39m'\u001b[39;49m\u001b[39mgpt-3.5-turbo-16k\u001b[39;49m\u001b[39m'\u001b[39;49m, \n\u001b[1;32m     <a href='vscode-notebook-cell://wsl%2Bubuntu/home/cyrus/llamp/lab/mp.ipynb#W0sdnNjb2RlLXJlbW90ZQ%3D%3D?line=26'>27</a>\u001b[0m     debug\u001b[39m=\u001b[39;49m\u001b[39mTrue\u001b[39;49;00m\n\u001b[1;32m     <a href='vscode-notebook-cell://wsl%2Bubuntu/home/cyrus/llamp/lab/mp.ipynb#W0sdnNjb2RlLXJlbW90ZQ%3D%3D?line=27'>28</a>\u001b[0m     )\n\u001b[1;32m     <a href='vscode-notebook-cell://wsl%2Bubuntu/home/cyrus/llamp/lab/mp.ipynb#W0sdnNjb2RlLXJlbW90ZQ%3D%3D?line=28'>29</a>\u001b[0m \u001b[39m# mpllm.run_material_conversation(user_input, model=\"gpt-3.5-turbo-16k-0613\", debug=True)\u001b[39;00m\n",
      "File \u001b[0;32m~/llamp/api/src/llamp/mp/agent.py:841\u001b[0m, in \u001b[0;36mMPLLM.run_material_conversation\u001b[0;34m(self, user_input, model, debug)\u001b[0m\n\u001b[1;32m    838\u001b[0m     \u001b[39mprint\u001b[39m(\u001b[39m\"\u001b[39m\u001b[39mConversation started.\u001b[39m\u001b[39m\"\u001b[39m)\n\u001b[1;32m    840\u001b[0m \u001b[39mwhile\u001b[39;00m \u001b[39mTrue\u001b[39;00m:\n\u001b[0;32m--> 841\u001b[0m     user_input \u001b[39m=\u001b[39m user_input \u001b[39mif\u001b[39;00m user_input \u001b[39melse\u001b[39;00m \u001b[39minput\u001b[39;49m(\u001b[39m\"\u001b[39;49m\u001b[39mUser: \u001b[39;49m\u001b[39m\"\u001b[39;49m)\n\u001b[1;32m    842\u001b[0m     \u001b[39mprint\u001b[39m(\u001b[39m\"\u001b[39m\u001b[39mUser:\u001b[39m\u001b[39m\"\u001b[39m, user_input)\n\u001b[1;32m    843\u001b[0m     gen_reponse \u001b[39m=\u001b[39m \u001b[39mself\u001b[39m\u001b[39m.\u001b[39mgeneral_reponse(\n\u001b[1;32m    844\u001b[0m         {\u001b[39m\"\u001b[39m\u001b[39mrole\u001b[39m\u001b[39m\"\u001b[39m: \u001b[39m\"\u001b[39m\u001b[39muser\u001b[39m\u001b[39m\"\u001b[39m, \u001b[39m\"\u001b[39m\u001b[39mcontent\u001b[39m\u001b[39m\"\u001b[39m: user_input},\n\u001b[1;32m    845\u001b[0m         model\u001b[39m=\u001b[39mmodel \u001b[39mif\u001b[39;00m model \u001b[39melse\u001b[39;00m \u001b[39m\"\u001b[39m\u001b[39mgpt-3.5-turbo-0613\u001b[39m\u001b[39m\"\u001b[39m,\n\u001b[1;32m    846\u001b[0m         debug\u001b[39m=\u001b[39mdebug,\n\u001b[1;32m    847\u001b[0m     )\n",
      "File \u001b[0;32m~/miniconda3/envs/llamp/lib/python3.11/site-packages/ipykernel/kernelbase.py:1202\u001b[0m, in \u001b[0;36mKernel.raw_input\u001b[0;34m(self, prompt)\u001b[0m\n\u001b[1;32m   1200\u001b[0m     msg \u001b[39m=\u001b[39m \u001b[39m\"\u001b[39m\u001b[39mraw_input was called, but this frontend does not support input requests.\u001b[39m\u001b[39m\"\u001b[39m\n\u001b[1;32m   1201\u001b[0m     \u001b[39mraise\u001b[39;00m StdinNotImplementedError(msg)\n\u001b[0;32m-> 1202\u001b[0m \u001b[39mreturn\u001b[39;00m \u001b[39mself\u001b[39;49m\u001b[39m.\u001b[39;49m_input_request(\n\u001b[1;32m   1203\u001b[0m     \u001b[39mstr\u001b[39;49m(prompt),\n\u001b[1;32m   1204\u001b[0m     \u001b[39mself\u001b[39;49m\u001b[39m.\u001b[39;49m_parent_ident[\u001b[39m\"\u001b[39;49m\u001b[39mshell\u001b[39;49m\u001b[39m\"\u001b[39;49m],\n\u001b[1;32m   1205\u001b[0m     \u001b[39mself\u001b[39;49m\u001b[39m.\u001b[39;49mget_parent(\u001b[39m\"\u001b[39;49m\u001b[39mshell\u001b[39;49m\u001b[39m\"\u001b[39;49m),\n\u001b[1;32m   1206\u001b[0m     password\u001b[39m=\u001b[39;49m\u001b[39mFalse\u001b[39;49;00m,\n\u001b[1;32m   1207\u001b[0m )\n",
      "File \u001b[0;32m~/miniconda3/envs/llamp/lib/python3.11/site-packages/ipykernel/kernelbase.py:1245\u001b[0m, in \u001b[0;36mKernel._input_request\u001b[0;34m(self, prompt, ident, parent, password)\u001b[0m\n\u001b[1;32m   1242\u001b[0m \u001b[39mexcept\u001b[39;00m \u001b[39mKeyboardInterrupt\u001b[39;00m:\n\u001b[1;32m   1243\u001b[0m     \u001b[39m# re-raise KeyboardInterrupt, to truncate traceback\u001b[39;00m\n\u001b[1;32m   1244\u001b[0m     msg \u001b[39m=\u001b[39m \u001b[39m\"\u001b[39m\u001b[39mInterrupted by user\u001b[39m\u001b[39m\"\u001b[39m\n\u001b[0;32m-> 1245\u001b[0m     \u001b[39mraise\u001b[39;00m \u001b[39mKeyboardInterrupt\u001b[39;00m(msg) \u001b[39mfrom\u001b[39;00m \u001b[39mNone\u001b[39;00m\n\u001b[1;32m   1246\u001b[0m \u001b[39mexcept\u001b[39;00m \u001b[39mException\u001b[39;00m:\n\u001b[1;32m   1247\u001b[0m     \u001b[39mself\u001b[39m\u001b[39m.\u001b[39mlog\u001b[39m.\u001b[39mwarning(\u001b[39m\"\u001b[39m\u001b[39mInvalid Message:\u001b[39m\u001b[39m\"\u001b[39m, exc_info\u001b[39m=\u001b[39m\u001b[39mTrue\u001b[39;00m)\n",
      "\u001b[0;31mKeyboardInterrupt\u001b[0m: Interrupted by user"
     ]
    }
   ],
   "source": [
    "from llamp.mp.agent import MPLLM\n",
    "\n",
    "mpllm = MPLLM()\n",
    "\n",
    "print(\"MPLLM is ready to serve you!\")\n",
    "\n",
    "# user_input = input(\"Enter materials-related question: \")\n",
    "user_input = \"What is the bandgap of stable BaTiO3?\"\n",
    "user_input = \"What is the elastic tensor of NaCl? Summarize it in text for me.\"\n",
    "# user_input = \"What is the bandgap of stable MgSe?\"\n",
    "# user_input = \"Is YbCl3 magnetic or non-magnetic?\"\n",
    "# # user_input = \"What is the energy above hull of Cu3P4Pb3O16 at 0K?\"\n",
    "# # user_input = \"Is Cu stable in FCC or BCC structure at 0K based on the energy distance above hull?\"\n",
    "# # user_input = \"Do we have stable Cu-substituted lead phosphate apatite at 0K?\"\n",
    "# # user_input = \"What is the bandgap of the most stable magnetite?\"\n",
    "# user_input = \"Search for the necessary information for FCC Cu and summarize for me.\"\n",
    "# user_input = \"Pull out the crystal structure of BCC Al using summary endpoint and print out pymatgen structure dictionary for me\"\n",
    "# # user_input = \"What is the crystal structure of LiFePO4?\"\n",
    "# # user_input = \"Give me 10 entries (including chemical formula and material id) closest to the GGA energy hull in the Mg-Ni-Zn system at 0K\"\n",
    "# user_input = \"What are the oxidation states of atoms in magnetite? Feed relevant fields to request MP API and print out the results for me.\"\n",
    "# user_input = \"Give me some example recipes to synthesize Li4Ti5O12\"\n",
    "\n",
    "mpllm.run_material_conversation(\n",
    "    user_input=user_input, \n",
    "    # model='gpt-4-32k-0314', \n",
    "    model='gpt-3.5-turbo-16k', \n",
    "    debug=True\n",
    "    )\n",
    "# mpllm.run_material_conversation(user_input, model=\"gpt-3.5-turbo-16k-0613\", debug=True)"
   ]
  }
 ],
 "metadata": {
  "kernelspec": {
   "display_name": "dev",
   "language": "python",
   "name": "python3"
  },
  "language_info": {
   "codemirror_mode": {
    "name": "ipython",
    "version": 3
   },
   "file_extension": ".py",
   "mimetype": "text/x-python",
   "name": "python",
   "nbconvert_exporter": "python",
   "pygments_lexer": "ipython3",
   "version": "3.11.5"
  },
  "widgets": {
   "application/vnd.jupyter.widget-state+json": {
    "state": {},
    "version_major": 2,
    "version_minor": 0
   }
  }
 },
 "nbformat": 4,
 "nbformat_minor": 5
}
