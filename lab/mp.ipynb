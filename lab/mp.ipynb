{
 "cells": [
  {
   "cell_type": "code",
   "execution_count": 1,
   "id": "0e7112bd",
   "metadata": {},
   "outputs": [
    {
     "name": "stderr",
     "output_type": "stream",
     "text": [
      "/home/cyrus/miniconda3/envs/llamp/lib/python3.11/site-packages/mp_api/client/mprester.py:227: UserWarning: mpcontribs-client not installed. Install the package to query MPContribs data, or construct pourbaix diagrams: 'pip install mpcontribs-client'\n",
      "  warnings.warn(\n"
     ]
    },
    {
     "name": "stdout",
     "output_type": "stream",
     "text": [
      "MPLLM is ready to serve you!\n",
      "Conversation started.\n",
      "User: What is the elastic tensor of NaCl?\n",
      "OpenAI General: {\n",
      "  \"id\": \"chatcmpl-89fzRSCymwvx1idotE7B5KqzfqhjC\",\n",
      "  \"object\": \"chat.completion\",\n",
      "  \"created\": 1697317053,\n",
      "  \"model\": \"gpt-3.5-turbo-16k-0613\",\n",
      "  \"choices\": [\n",
      "    {\n",
      "      \"index\": 0,\n",
      "      \"message\": {\n",
      "        \"role\": \"assistant\",\n",
      "        \"content\": \"Call MP\"\n",
      "      },\n",
      "      \"finish_reason\": \"stop\"\n",
      "    }\n",
      "  ],\n",
      "  \"usage\": {\n",
      "    \"prompt_tokens\": 136,\n",
      "    \"completion_tokens\": 2,\n",
      "    \"total_tokens\": 138\n",
      "  }\n",
      "}\n",
      "LLaMP Function Calling: {\n",
      "  \"id\": \"chatcmpl-89fzUUqgCRvbrbkezD3fP2YBgCsTB\",\n",
      "  \"object\": \"chat.completion\",\n",
      "  \"created\": 1697317056,\n",
      "  \"model\": \"gpt-3.5-turbo-16k-0613\",\n",
      "  \"choices\": [\n",
      "    {\n",
      "      \"index\": 0,\n",
      "      \"message\": {\n",
      "        \"role\": \"assistant\",\n",
      "        \"content\": null,\n",
      "        \"function_call\": {\n",
      "          \"name\": \"search_materials_elasticity__get\",\n",
      "          \"arguments\": \"{\\n  \\\"formula\\\": \\\"NaCl\\\"\\n}\"\n",
      "        }\n",
      "      },\n",
      "      \"finish_reason\": \"function_call\"\n",
      "    }\n",
      "  ],\n",
      "  \"usage\": {\n",
      "    \"prompt_tokens\": 14700,\n",
      "    \"completion_tokens\": 22,\n",
      "    \"total_tokens\": 14722\n",
      "  }\n",
      "}\n",
      "LLaMP: {\n",
      "  \"role\": \"assistant\",\n",
      "  \"content\": null,\n",
      "  \"function_call\": {\n",
      "    \"name\": \"search_materials_elasticity__get\",\n",
      "    \"arguments\": \"{\\n  \\\"formula\\\": \\\"NaCl\\\"\\n}\"\n",
      "  }\n",
      "}\n",
      "MP API call: search_materials_elasticity__get\n",
      "MP API args: {\n",
      "  \"formula\": \"NaCl\"\n",
      "}\n"
     ]
    },
    {
     "data": {
      "application/vnd.jupyter.widget-view+json": {
       "model_id": "960d3d8f8d2048ababe7b7ec62114337",
       "version_major": 2,
       "version_minor": 0
      },
      "text/plain": [
       "Retrieving MaterialsDoc documents:   0%|          | 0/3 [00:00<?, ?it/s]"
      ]
     },
     "metadata": {},
     "output_type": "display_data"
    },
    {
     "name": "stderr",
     "output_type": "stream",
     "text": [
      "/home/cyrus/miniconda3/envs/llamp/lib/python3.11/site-packages/mp_api/client/core/client.py:821: UserWarning: The server does not support the request made to https://api.materialsproject.org/materials/elasticity/mp-1120767/?_limit=1&_fields=pretty_formula%2Celasticity%2Ctask_id. This may be due to an outdated mp-api package, or a problem with the query.\n",
      "  warnings.warn(\n",
      "/home/cyrus/miniconda3/envs/llamp/lib/python3.11/site-packages/mp_api/client/core/client.py:821: UserWarning: The server does not support the request made to https://api.materialsproject.org/materials/elasticity/mp-22851/?_limit=1&_fields=pretty_formula%2Celasticity%2Ctask_id. This may be due to an outdated mp-api package, or a problem with the query.\n",
      "  warnings.warn(\n"
     ]
    },
    {
     "data": {
      "application/vnd.jupyter.widget-view+json": {
       "model_id": "21e4cc4c44534c2596515a8a587cddc0",
       "version_major": 2,
       "version_minor": 0
      },
      "text/plain": [
       "Retrieving ElasticityDoc documents:   0%|          | 0/1 [00:00<?, ?it/s]"
      ]
     },
     "metadata": {},
     "output_type": "display_data"
    },
    {
     "name": "stdout",
     "output_type": "stream",
     "text": [
      "MP API response: [{\"pretty_formula\": \"NaCl\", \"elasticity\": {\"k_voigt\": 22.590490142223533, \"k_reuss\": 22.590490142223533, \"k_vrh\": 22.590490142223533, \"g_voigt\": 14.508697233449267, \"g_reuss\": 14.040668599133046, \"g_vrh\": 14.274682916291155, \"universal_anisotropy\": 0.16666892712827064, \"homogeneous_poisson\": 0.23902464037610438, \"elastic_tensor\": [[46.0, 11.0, 11.0, 0.0, 0.0, 0.0], [11.0, 46.0, 11.0, 0.0, 0.0, 0.0], [11.0, 11.0, 46.0, 0.0, 0.0, 0.0], [0.0, 0.0, 0.0, 12.0, 0.0, 0.0], [0.0, 0.0, 0.0, 0.0, 12.0, 0.0], [0.0, 0.0, 0.0, 0.0, 0.0, 12.0]], \"compliance_tensor\": [[23.6, -4.4, -4.4, 0.0, 0.0, 0.0], [-4.4, 23.6, -4.4, 0.0, 0.0, 0.0], [-4.4, -4.4, 23.6, 0.0, 0.0, 0.0], [0.0, 0.0, 0.0, 81.3, 0.0, 0.0], [0.0, 0.0, 0.0, 0.0, 81.3, 0.0], [0.0, 0.0, 0.0, 0.0, 0.0, 81.3]]}, \"task_id\": \"mp-22862\"}]\n",
      "OpenAI Text Completion: {\n",
      "  \"id\": \"chatcmpl-89fzgP7Ozn86fST2KCpllbiGcKOU9\",\n",
      "  \"object\": \"chat.completion\",\n",
      "  \"created\": 1697317068,\n",
      "  \"model\": \"gpt-3.5-turbo-16k-0613\",\n",
      "  \"choices\": [\n",
      "    {\n",
      "      \"index\": 0,\n",
      "      \"message\": {\n",
      "        \"role\": \"assistant\",\n",
      "        \"content\": \"The elastic tensor of NaCl is as follows:\\n\\n[[46.0, 11.0, 11.0, 0.0, 0.0, 0.0],\\n [11.0, 46.0, 11.0, 0.0, 0.0, 0.0],\\n [11.0, 11.0, 46.0, 0.0, 0.0, 0.0],\\n [0.0, 0.0, 0.0, 12.0, 0.0, 0.0],\\n [0.0, 0.0, 0.0, 0.0, 12.0, 0.0],\\n [0.0, 0.0, 0.0, 0.0, 0.0, 12.0]]\\n\\nPlease note that the values are given in units of GPa.\"\n",
      "      },\n",
      "      \"finish_reason\": \"stop\"\n",
      "    }\n",
      "  ],\n",
      "  \"usage\": {\n",
      "    \"prompt_tokens\": 598,\n",
      "    \"completion_tokens\": 203,\n",
      "    \"total_tokens\": 801\n",
      "  }\n",
      "}\n",
      "OpenAI: The elastic tensor of NaCl is as follows:\n",
      "\n",
      "[[46.0, 11.0, 11.0, 0.0, 0.0, 0.0],\n",
      " [11.0, 46.0, 11.0, 0.0, 0.0, 0.0],\n",
      " [11.0, 11.0, 46.0, 0.0, 0.0, 0.0],\n",
      " [0.0, 0.0, 0.0, 12.0, 0.0, 0.0],\n",
      " [0.0, 0.0, 0.0, 0.0, 12.0, 0.0],\n",
      " [0.0, 0.0, 0.0, 0.0, 0.0, 12.0]]\n",
      "\n",
      "Please note that the values are given in units of GPa.\n"
     ]
    }
   ],
   "source": [
    "from llamp.mp.agent import MPLLM\n",
    "\n",
    "mpllm = MPLLM()\n",
    "\n",
    "print(\"MPLLM is ready to serve you!\")\n",
    "\n",
    "# user_input = input(\"Enter materials-related question: \")\n",
    "# user_input = \"What is the bandgap of stable BaTiO3?\"\n",
    "user_input = \"What is the elastic tensor of NaCl?\"\n",
    "# user_input = \"What is the bandgap of stable MgSe?\"\n",
    "# user_input = \"Is YbCl3 magnetic or non-magnetic?\"\n",
    "# # user_input = \"What is the energy above hull of Cu3P4Pb3O16 at 0K?\"\n",
    "# # user_input = \"Is Cu stable in FCC or BCC structure at 0K based on the energy distance above hull?\"\n",
    "# # user_input = \"Do we have stable Cu-substituted lead phosphate apatite at 0K?\"\n",
    "# # user_input = \"What is the bandgap of the most stable magnetite?\"\n",
    "# user_input = \"Search for the necessary information for FCC Cu and summarize for me.\"\n",
    "# user_input = \"Pull out the crystal structure of BCC Al using summary endpoint and print out pymatgen structure dictionary for me\"\n",
    "# # user_input = \"What is the crystal structure of LiFePO4?\"\n",
    "# # user_input = \"Give me 10 entries (including chemical formula and material id) closest to the GGA energy hull in the Mg-Ni-Zn system at 0K\"\n",
    "# user_input = \"What are the oxidation states of atoms in magnetite? Feed relevant fields to request MP API and print out the results for me.\"\n",
    "# user_input = \"Give me some example recipes to synthesize Li4Ti5O12\"\"\n",
    "\n",
    "mpllm.run_material_conversation(\n",
    "    user_input=user_input, \n",
    "    # model='gpt-4-32k-0314', \n",
    "    model='gpt-3.5-turbo-16k-0613', \n",
    "    debug=True\n",
    "    )\n",
    "# mpllm.run_material_conversation(user_input, model=\"gpt-3.5-turbo-16k-0613\", debug=True)"
   ]
  },
  {
   "cell_type": "code",
   "execution_count": 5,
   "id": "ea194f02",
   "metadata": {},
   "outputs": [
    {
     "name": "stdout",
     "output_type": "stream",
     "text": [
      "The third method involves solid-state synthesis to prepare Li4Ti5O12. Here is a summary of the procedures and the operation conditions for each step:\n",
      "\n",
      "1. Precursors: Li2CO3 and titanium dioxide (TiO2).\n",
      "\n",
      "2. Mixing: Thoroughly mix the Li2CO3 and TiO2 powders in the desired stoichiometric ratio. This can be done using a mortar and pestle or a ball mill.\n",
      "\n",
      "3. Grinding: Grind the mixture to ensure homogeneity and to enhance the reaction kinetics. This step helps in achieving a uniform distribution of the reactants.\n",
      "\n",
      "4. Heating: Transfer the ground mixture to a crucible or a ceramic boat and heat it in a furnace. The heating temperature and duration depend on the specific synthesis conditions mentioned in the literature. Typically, the mixture is heated at temperatures ranging from 700°C to 900°C for several hours.\n",
      "\n",
      "5. Cooling: After the desired heating duration, allow the sample to cool down slowly to room temperature. This slow cooling process helps in minimizing the formation of unwanted phases and ensures the stability of the final Li4Ti5O12 product.\n",
      "\n",
      "6. Characterization: Once the sample has cooled down, it can be characterized using various techniques such as X-ray diffraction (XRD), scanning electron microscopy (SEM), and energy-dispersive X-ray spectroscopy (EDS) to confirm the formation of Li4Ti5O12 and to analyze its structural and morphological properties.\n",
      "\n",
      "It is important to note that the specific operation conditions, such as the heating temperature, duration, and cooling rate, may vary depending on the specific synthesis conditions mentioned in the literature source. Therefore, it is recommended to refer to the original research paper for detailed information on the exact operation conditions used in the synthesis of Li4Ti5O12.\n"
     ]
    }
   ],
   "source": [
    "print(f\"\"\"The third method involves solid-state synthesis to prepare Li4Ti5O12. Here is a summary of the procedures and the operation conditions for each step:\\n\\n1. Precursors: Li2CO3 and titanium dioxide (TiO2).\\n\\n2. Mixing: Thoroughly mix the Li2CO3 and TiO2 powders in the desired stoichiometric ratio. This can be done using a mortar and pestle or a ball mill.\\n\\n3. Grinding: Grind the mixture to ensure homogeneity and to enhance the reaction kinetics. This step helps in achieving a uniform distribution of the reactants.\\n\\n4. Heating: Transfer the ground mixture to a crucible or a ceramic boat and heat it in a furnace. The heating temperature and duration depend on the specific synthesis conditions mentioned in the literature. Typically, the mixture is heated at temperatures ranging from 700\\u00b0C to 900\\u00b0C for several hours.\\n\\n5. Cooling: After the desired heating duration, allow the sample to cool down slowly to room temperature. This slow cooling process helps in minimizing the formation of unwanted phases and ensures the stability of the final Li4Ti5O12 product.\\n\\n6. Characterization: Once the sample has cooled down, it can be characterized using various techniques such as X-ray diffraction (XRD), scanning electron microscopy (SEM), and energy-dispersive X-ray spectroscopy (EDS) to confirm the formation of Li4Ti5O12 and to analyze its structural and morphological properties.\\n\\nIt is important to note that the specific operation conditions, such as the heating temperature, duration, and cooling rate, may vary depending on the specific synthesis conditions mentioned in the literature source. Therefore, it is recommended to refer to the original research paper for detailed information on the exact operation conditions used in the synthesis of Li4Ti5O12.\"\"\")"
   ]
  },
  {
   "cell_type": "code",
   "execution_count": 3,
   "id": "4737a512",
   "metadata": {},
   "outputs": [
    {
     "name": "stdout",
     "output_type": "stream",
     "text": [
      "To start with the first method, solid-state synthesis using TiO2 (anatase) and LiOH·H2O as precursors, you will need to follow these steps:\n",
      "\n",
      "1. Measure and weigh the required amounts of TiO2 (anatase) and LiOH·H2O according to the stoichiometric ratio of the reaction: 4 LiOH·H2O + 5 TiO2 -> 1 Li4Ti5O12 + 6 H2O.\n",
      "\n",
      "2. Thoroughly mix the weighed precursors in a mortar and pestle or a ball mill to ensure homogeneity.\n",
      "\n",
      "3. Transfer the mixture to a crucible or ceramic boat.\n",
      "\n",
      "4. Place the crucible or ceramic boat in a furnace and heat it under an oxygen atmosphere.\n",
      "\n",
      "5. Ramp the temperature gradually to the desired annealing temperature, typically around 700-900°C, and hold it for a specific duration, usually several hours.\n",
      "\n",
      "6. After the annealing process, allow the sample to cool down slowly to room temperature.\n",
      "\n",
      "7. Remove the sample from the furnace and store it in a desiccator to prevent moisture absorption.\n",
      "\n",
      "8. Characterize the synthesized Li4Ti5O12 sample using techniques such as X-ray diffraction (XRD), scanning electron microscopy (SEM), and energy-dispersive X-ray spectroscopy (EDS) to confirm the formation of the desired phase.\n",
      "\n",
      "It is important to note that the specific annealing temperature and duration may vary depending on the equipment and conditions used. Therefore, it is recommended to refer to the original research paper or consult with experts in the field for precise synthesis parameters.\n"
     ]
    }
   ],
   "source": [
    "print(f\"\"\"To start with the first method, solid-state synthesis using TiO2 (anatase) and LiOH\\u00b7H2O as precursors, you will need to follow these steps:\\n\\n1. Measure and weigh the required amounts of TiO2 (anatase) and LiOH\\u00b7H2O according to the stoichiometric ratio of the reaction: 4 LiOH\\u00b7H2O + 5 TiO2 -> 1 Li4Ti5O12 + 6 H2O.\\n\\n2. Thoroughly mix the weighed precursors in a mortar and pestle or a ball mill to ensure homogeneity.\\n\\n3. Transfer the mixture to a crucible or ceramic boat.\\n\\n4. Place the crucible or ceramic boat in a furnace and heat it under an oxygen atmosphere.\\n\\n5. Ramp the temperature gradually to the desired annealing temperature, typically around 700-900\\u00b0C, and hold it for a specific duration, usually several hours.\\n\\n6. After the annealing process, allow the sample to cool down slowly to room temperature.\\n\\n7. Remove the sample from the furnace and store it in a desiccator to prevent moisture absorption.\\n\\n8. Characterize the synthesized Li4Ti5O12 sample using techniques such as X-ray diffraction (XRD), scanning electron microscopy (SEM), and energy-dispersive X-ray spectroscopy (EDS) to confirm the formation of the desired phase.\\n\\nIt is important to note that the specific annealing temperature and duration may vary depending on the equipment and conditions used. Therefore, it is recommended to refer to the original research paper or consult with experts in the field for precise synthesis parameters.\"\"\")"
   ]
  }
 ],
 "metadata": {
  "kernelspec": {
   "display_name": "dev",
   "language": "python",
   "name": "python3"
  },
  "language_info": {
   "codemirror_mode": {
    "name": "ipython",
    "version": 3
   },
   "file_extension": ".py",
   "mimetype": "text/x-python",
   "name": "python",
   "nbconvert_exporter": "python",
   "pygments_lexer": "ipython3",
   "version": "3.11.5"
  },
  "widgets": {
   "application/vnd.jupyter.widget-state+json": {
    "state": {},
    "version_major": 2,
    "version_minor": 0
   }
  }
 },
 "nbformat": 4,
 "nbformat_minor": 5
}
