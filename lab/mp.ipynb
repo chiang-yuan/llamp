{
 "cells": [
  {
   "cell_type": "code",
   "execution_count": 1,
   "id": "b83565cd-972e-441e-80a0-279da3d606e7",
   "metadata": {
    "tags": []
   },
   "outputs": [],
   "source": [
    "import json\n",
    "import os\n",
    "\n",
    "import openai\n",
    "from dotenv import load_dotenv\n",
    "from mp_api.client import MPRester\n",
    "\n",
    "from langchain.tools import APIOperation, OpenAPISpec\n",
    "\n",
    "load_dotenv()\n",
    "OPENAI_API_KEY = os.getenv(\"OPENAI_API_KEY\", None)\n",
    "MP_API_KEY = os.getenv(\"MP_API_KEY\", None)\n",
    "openai.api_key = OPENAI_API_KEY"
   ]
  },
  {
   "cell_type": "code",
   "execution_count": 2,
   "id": "14e84068-df15-4050-9e9d-ccea43f82079",
   "metadata": {
    "tags": []
   },
   "outputs": [],
   "source": [
    "import json\n",
    "import os\n",
    "\n",
    "import openai\n",
    "from dotenv import load_dotenv\n",
    "from mp_api.client import MPRester\n",
    "\n",
    "from langchain.tools import APIOperation, OpenAPISpec\n",
    "\n",
    "load_dotenv()\n",
    "OPENAI_API_KEY = os.getenv(\"OPENAI_API_KEY\", None)\n",
    "MP_API_KEY = os.getenv(\"MP_API_KEY\", None)\n",
    "openai.api_key = OPENAI_API_KEY\n",
    "\n",
    "spec = OpenAPISpec.from_url(\"https://api.materialsproject.org/openapi.json\")\n",
    "operation = APIOperation.from_openapi_spec(\n",
    "    spec, \"/materials/summary/{material_id}/\", \"get\"\n",
    ")\n",
    "\n",
    "# from langchain.chat_models import ChatOpenAI, ChatAnthropic\n",
    "# from langchain.schema import HumanMessage, AIMessage, ChatMessage\n",
    "# from langchain.tools import format_tool_to_openai_function\n",
    "\n",
    "# llm = ChatAnthropic(anthropic_api_key=)\n",
    "# llm = ChatOpenAI(model='gpt-4-0613', temperature=0.5, openai_api_key=OPENAI_API_KEY, client=)\n",
    "\n",
    "\n",
    "class LLMaterialsAgent:\n",
    "    def __init__(self, mp_api_key=MP_API_KEY, openai_api_key=OPENAI_API_KEY):\n",
    "        # Initialize the Materials Project API\n",
    "        self.mpr = MPRester(mp_api_key)\n",
    "        # Initialize the OpenAI API\n",
    "        openai.api_key = openai_api_key\n",
    "\n",
    "    def get_materials_data(self, query_params):\n",
    "        # Retrieve data from the Materials Project using the MPRester class\n",
    "        data = self.mpr.summary.search(**query_params)\n",
    "        return data\n",
    "\n",
    "    def run_conversation(self, user_input):\n",
    "        # Step 1: send the conversation and available functions to GPT\n",
    "        messages = [{\"role\": \"user\", \"content\": user_input}]\n",
    "        functions = [\n",
    "            {\n",
    "                \"name\": \"get_materials_data\",\n",
    "                \"description\": \"Get materials data from the Materials Project\",\n",
    "                \"parameters\": {\n",
    "                    \"type\": \"object\",\n",
    "                    \"properties\": {\n",
    "                        \"elements\": {\n",
    "                            \"type\": \"array\",\n",
    "                            \"items\": {\"type\": \"string\"},\n",
    "                            \"description\": \"Elements to query, e.g., ['Si', 'O']\",\n",
    "                        },\n",
    "                        \"band_gap\": {\n",
    "                            \"type\": \"array\",\n",
    "                            \"items\": {\"type\": \"number\"},\n",
    "                            \"description\": \"Range of band gap values, e.g., [0.5, 1.0]\",\n",
    "                        },\n",
    "                        # \"limit\": {\n",
    "                        #     \"type\": \"integer\",\n",
    "                        #     \"description\": \"Number of materials to retrieve, e.g., 5\",\n",
    "                        # },\n",
    "                    },\n",
    "                    \"required\": [\"elements\", \"band_gap\"],\n",
    "                },\n",
    "            }\n",
    "        ]\n",
    "        response = openai.ChatCompletion.create(\n",
    "            model=\"gpt-3.5-turbo-0613\",\n",
    "            messages=messages,\n",
    "            functions=functions,\n",
    "            function_call=\"auto\",  # auto is default, but we'll be explicit\n",
    "        )\n",
    "        response_message = response[\"choices\"][0][\"message\"]\n",
    "\n",
    "        # Step 2: check if GPT wanted to call a function\n",
    "        if response_message.get(\"function_call\"):\n",
    "            # Step 3: call the function\n",
    "            # Note: the JSON response may not always be valid; be sure to handle errors\n",
    "            available_functions = {\n",
    "                \"get_materials_data\": self.get_materials_data,\n",
    "            }  # only one function in this example, but you can have multiple\n",
    "            function_name = response_message[\"function_call\"][\"name\"]\n",
    "            function_to_call = available_functions[function_name]\n",
    "            function_args = json.loads(response_message[\"function_call\"][\"arguments\"])\n",
    "            function_response = function_to_call(query_params=function_args)\n",
    "\n",
    "            breakpoint()\n",
    "\n",
    "            # Step 4: send the info on the function call and function response to GPT\n",
    "            messages.append(\n",
    "                response_message\n",
    "            )  # extend conversation with assistant's reply\n",
    "            breakpoint()\n",
    "            messages.append(\n",
    "                {\n",
    "                    \"role\": \"function\",\n",
    "                    \"name\": function_name,\n",
    "                    \"content\": json.dumps(function_response[0]),\n",
    "                    # \"content\": function_response,\n",
    "                }\n",
    "            )  # extend conversation with function response\n",
    "            breakpoint()\n",
    "            second_response = openai.ChatCompletion.create(\n",
    "                model=\"gpt-3.5-turbo-0613\",\n",
    "                messages=messages,\n",
    "            )  # get a new response from GPT where it can see the function response\n",
    "            breakpoint()\n",
    "            return second_response"
   ]
  },
  {
   "cell_type": "code",
   "execution_count": 3,
   "id": "fb100b5a-723d-49a7-8165-c029e5fa0137",
   "metadata": {
    "tags": []
   },
   "outputs": [
    {
     "name": "stderr",
     "output_type": "stream",
     "text": [
      "/global/homes/c/cyrusyc/.conda/envs/dev/lib/python3.11/site-packages/mp_api/client/mprester.py:182: UserWarning: mpcontribs-client not installed. Install the package to query MPContribs data, or construct pourbaix diagrams: 'pip install mpcontribs-client'\n",
      "  warnings.warn(\n"
     ]
    },
    {
     "name": "stdin",
     "output_type": "stream",
     "text": [
      "Please enter your natural language query:  Give me materials containing P and O with bandgap between 5 eV and 6 eV\n"
     ]
    }
   ],
   "source": [
    "ll_agent = LLMaterialsAgent()\n",
    "user_input = input(\"Please enter your natural language query: \")\n"
   ]
  },
  {
   "cell_type": "code",
   "execution_count": 94,
   "id": "427454eb-7708-41ff-8b47-0607d836bd42",
   "metadata": {
    "tags": []
   },
   "outputs": [],
   "source": [
    "messages = [{\"role\": \"user\", \"content\": user_input}]\n",
    "functions = [\n",
    "    {\n",
    "        \"name\": \"get_materials_data\",\n",
    "        \"description\": \"Get materials data from the Materials Project\",\n",
    "        \"parameters\": {\n",
    "            \"type\": \"object\",\n",
    "            \"properties\": {\n",
    "                \"elements\": {\n",
    "                    \"type\": \"array\",\n",
    "                    \"items\": {\"type\": \"string\"},\n",
    "                    \"description\": \"Elements to query, e.g., ['Si', 'O']\",\n",
    "                },\n",
    "                \"band_gap\": {\n",
    "                    \"type\": \"array\",\n",
    "                    \"items\": {\"type\": \"number\"},\n",
    "                    \"description\": \"Range of band gap values, e.g., [0.5, 1.0]\",\n",
    "                },\n",
    "                # \"limit\": {\n",
    "                #     \"type\": \"integer\",\n",
    "                #     \"description\": \"Number of materials to retrieve, e.g., 5\",\n",
    "                # },\n",
    "            },\n",
    "            \"required\": [\"elements\", \"band_gap\"],\n",
    "        },\n",
    "    }\n",
    "]\n",
    "response = openai.ChatCompletion.create(\n",
    "    model=\"gpt-3.5-turbo-0613\",\n",
    "    messages=messages,\n",
    "    functions=functions,\n",
    "    function_call=\"auto\",  # auto is default, but we'll be explicit\n",
    ")\n",
    "response_message = response[\"choices\"][0][\"message\"]"
   ]
  },
  {
   "cell_type": "code",
   "execution_count": 95,
   "id": "66d4c6ba-15f2-434c-8c3a-59c6b1cb5660",
   "metadata": {
    "tags": []
   },
   "outputs": [
    {
     "data": {
      "application/vnd.jupyter.widget-view+json": {
       "model_id": "192e308cf57744519142adc8eb12c15a",
       "version_major": 2,
       "version_minor": 0
      },
      "text/plain": [
       "Retrieving SummaryDoc documents:   0%|          | 0/724 [00:00<?, ?it/s]"
      ]
     },
     "metadata": {},
     "output_type": "display_data"
    }
   ],
   "source": [
    "available_functions = {\n",
    "    \"get_materials_data\": ll_agent.get_materials_data,\n",
    "}  # only one function in this example, but you can have multiple\n",
    "function_name = response_message[\"function_call\"][\"name\"]\n",
    "function_to_call = available_functions[function_name]\n",
    "function_args = json.loads(response_message[\"function_call\"][\"arguments\"])\n",
    "function_response = function_to_call(query_params=function_args)"
   ]
  },
  {
   "cell_type": "code",
   "execution_count": 96,
   "id": "ebe7264c-6a2e-4461-b069-831d85480c8a",
   "metadata": {
    "tags": []
   },
   "outputs": [],
   "source": [
    "\n",
    "messages.append(\n",
    "    {\n",
    "        \"role\": \"function\",\n",
    "        \"name\": function_name,\n",
    "        # \"content\": json.dumps(function_response[0]),\n",
    "        \"content\": serialize_nested_object(function_response[0].dict()),\n",
    "    }\n",
    ")"
   ]
  },
  {
   "cell_type": "code",
   "execution_count": 97,
   "id": "16860c9b-d7bb-4009-a048-973744d4765d",
   "metadata": {
    "tags": []
   },
   "outputs": [
    {
     "ename": "TypeError",
     "evalue": "keys must be str, int, float, bool or None, not Element",
     "output_type": "error",
     "traceback": [
      "\u001b[0;31m---------------------------------------------------------------------------\u001b[0m",
      "\u001b[0;31mTypeError\u001b[0m                                 Traceback (most recent call last)",
      "Cell \u001b[0;32mIn[97], line 1\u001b[0m\n\u001b[0;32m----> 1\u001b[0m second_response \u001b[38;5;241m=\u001b[39m \u001b[43mopenai\u001b[49m\u001b[38;5;241;43m.\u001b[39;49m\u001b[43mChatCompletion\u001b[49m\u001b[38;5;241;43m.\u001b[39;49m\u001b[43mcreate\u001b[49m\u001b[43m(\u001b[49m\n\u001b[1;32m      2\u001b[0m \u001b[43m    \u001b[49m\u001b[43mmodel\u001b[49m\u001b[38;5;241;43m=\u001b[39;49m\u001b[38;5;124;43m\"\u001b[39;49m\u001b[38;5;124;43mgpt-3.5-turbo-0613\u001b[39;49m\u001b[38;5;124;43m\"\u001b[39;49m\u001b[43m,\u001b[49m\n\u001b[1;32m      3\u001b[0m \u001b[43m    \u001b[49m\u001b[43mmessages\u001b[49m\u001b[38;5;241;43m=\u001b[39;49m\u001b[43mmessages\u001b[49m\u001b[43m,\u001b[49m\n\u001b[1;32m      4\u001b[0m \u001b[43m)\u001b[49m  \u001b[38;5;66;03m# get a new response from GPT where it can see the function response\u001b[39;00m\n",
      "File \u001b[0;32m~/.conda/envs/dev/lib/python3.11/site-packages/openai/api_resources/chat_completion.py:25\u001b[0m, in \u001b[0;36mChatCompletion.create\u001b[0;34m(cls, *args, **kwargs)\u001b[0m\n\u001b[1;32m     23\u001b[0m \u001b[38;5;28;01mwhile\u001b[39;00m \u001b[38;5;28;01mTrue\u001b[39;00m:\n\u001b[1;32m     24\u001b[0m     \u001b[38;5;28;01mtry\u001b[39;00m:\n\u001b[0;32m---> 25\u001b[0m         \u001b[38;5;28;01mreturn\u001b[39;00m \u001b[38;5;28;43msuper\u001b[39;49m\u001b[43m(\u001b[49m\u001b[43m)\u001b[49m\u001b[38;5;241;43m.\u001b[39;49m\u001b[43mcreate\u001b[49m\u001b[43m(\u001b[49m\u001b[38;5;241;43m*\u001b[39;49m\u001b[43margs\u001b[49m\u001b[43m,\u001b[49m\u001b[43m \u001b[49m\u001b[38;5;241;43m*\u001b[39;49m\u001b[38;5;241;43m*\u001b[39;49m\u001b[43mkwargs\u001b[49m\u001b[43m)\u001b[49m\n\u001b[1;32m     26\u001b[0m     \u001b[38;5;28;01mexcept\u001b[39;00m TryAgain \u001b[38;5;28;01mas\u001b[39;00m e:\n\u001b[1;32m     27\u001b[0m         \u001b[38;5;28;01mif\u001b[39;00m timeout \u001b[38;5;129;01mis\u001b[39;00m \u001b[38;5;129;01mnot\u001b[39;00m \u001b[38;5;28;01mNone\u001b[39;00m \u001b[38;5;129;01mand\u001b[39;00m time\u001b[38;5;241m.\u001b[39mtime() \u001b[38;5;241m>\u001b[39m start \u001b[38;5;241m+\u001b[39m timeout:\n",
      "File \u001b[0;32m~/.conda/envs/dev/lib/python3.11/site-packages/openai/api_resources/abstract/engine_api_resource.py:153\u001b[0m, in \u001b[0;36mEngineAPIResource.create\u001b[0;34m(cls, api_key, api_base, api_type, request_id, api_version, organization, **params)\u001b[0m\n\u001b[1;32m    127\u001b[0m \u001b[38;5;129m@classmethod\u001b[39m\n\u001b[1;32m    128\u001b[0m \u001b[38;5;28;01mdef\u001b[39;00m \u001b[38;5;21mcreate\u001b[39m(\n\u001b[1;32m    129\u001b[0m     \u001b[38;5;28mcls\u001b[39m,\n\u001b[0;32m   (...)\u001b[0m\n\u001b[1;32m    136\u001b[0m     \u001b[38;5;241m*\u001b[39m\u001b[38;5;241m*\u001b[39mparams,\n\u001b[1;32m    137\u001b[0m ):\n\u001b[1;32m    138\u001b[0m     (\n\u001b[1;32m    139\u001b[0m         deployment_id,\n\u001b[1;32m    140\u001b[0m         engine,\n\u001b[0;32m   (...)\u001b[0m\n\u001b[1;32m    150\u001b[0m         api_key, api_base, api_type, api_version, organization, \u001b[38;5;241m*\u001b[39m\u001b[38;5;241m*\u001b[39mparams\n\u001b[1;32m    151\u001b[0m     )\n\u001b[0;32m--> 153\u001b[0m     response, _, api_key \u001b[38;5;241m=\u001b[39m \u001b[43mrequestor\u001b[49m\u001b[38;5;241;43m.\u001b[39;49m\u001b[43mrequest\u001b[49m\u001b[43m(\u001b[49m\n\u001b[1;32m    154\u001b[0m \u001b[43m        \u001b[49m\u001b[38;5;124;43m\"\u001b[39;49m\u001b[38;5;124;43mpost\u001b[39;49m\u001b[38;5;124;43m\"\u001b[39;49m\u001b[43m,\u001b[49m\n\u001b[1;32m    155\u001b[0m \u001b[43m        \u001b[49m\u001b[43murl\u001b[49m\u001b[43m,\u001b[49m\n\u001b[1;32m    156\u001b[0m \u001b[43m        \u001b[49m\u001b[43mparams\u001b[49m\u001b[38;5;241;43m=\u001b[39;49m\u001b[43mparams\u001b[49m\u001b[43m,\u001b[49m\n\u001b[1;32m    157\u001b[0m \u001b[43m        \u001b[49m\u001b[43mheaders\u001b[49m\u001b[38;5;241;43m=\u001b[39;49m\u001b[43mheaders\u001b[49m\u001b[43m,\u001b[49m\n\u001b[1;32m    158\u001b[0m \u001b[43m        \u001b[49m\u001b[43mstream\u001b[49m\u001b[38;5;241;43m=\u001b[39;49m\u001b[43mstream\u001b[49m\u001b[43m,\u001b[49m\n\u001b[1;32m    159\u001b[0m \u001b[43m        \u001b[49m\u001b[43mrequest_id\u001b[49m\u001b[38;5;241;43m=\u001b[39;49m\u001b[43mrequest_id\u001b[49m\u001b[43m,\u001b[49m\n\u001b[1;32m    160\u001b[0m \u001b[43m        \u001b[49m\u001b[43mrequest_timeout\u001b[49m\u001b[38;5;241;43m=\u001b[39;49m\u001b[43mrequest_timeout\u001b[49m\u001b[43m,\u001b[49m\n\u001b[1;32m    161\u001b[0m \u001b[43m    \u001b[49m\u001b[43m)\u001b[49m\n\u001b[1;32m    163\u001b[0m     \u001b[38;5;28;01mif\u001b[39;00m stream:\n\u001b[1;32m    164\u001b[0m         \u001b[38;5;66;03m# must be an iterator\u001b[39;00m\n\u001b[1;32m    165\u001b[0m         \u001b[38;5;28;01massert\u001b[39;00m \u001b[38;5;129;01mnot\u001b[39;00m \u001b[38;5;28misinstance\u001b[39m(response, OpenAIResponse)\n",
      "File \u001b[0;32m~/.conda/envs/dev/lib/python3.11/site-packages/openai/api_requestor.py:288\u001b[0m, in \u001b[0;36mAPIRequestor.request\u001b[0;34m(self, method, url, params, headers, files, stream, request_id, request_timeout)\u001b[0m\n\u001b[1;32m    277\u001b[0m \u001b[38;5;28;01mdef\u001b[39;00m \u001b[38;5;21mrequest\u001b[39m(\n\u001b[1;32m    278\u001b[0m     \u001b[38;5;28mself\u001b[39m,\n\u001b[1;32m    279\u001b[0m     method,\n\u001b[0;32m   (...)\u001b[0m\n\u001b[1;32m    286\u001b[0m     request_timeout: Optional[Union[\u001b[38;5;28mfloat\u001b[39m, Tuple[\u001b[38;5;28mfloat\u001b[39m, \u001b[38;5;28mfloat\u001b[39m]]] \u001b[38;5;241m=\u001b[39m \u001b[38;5;28;01mNone\u001b[39;00m,\n\u001b[1;32m    287\u001b[0m ) \u001b[38;5;241m-\u001b[39m\u001b[38;5;241m>\u001b[39m Tuple[Union[OpenAIResponse, Iterator[OpenAIResponse]], \u001b[38;5;28mbool\u001b[39m, \u001b[38;5;28mstr\u001b[39m]:\n\u001b[0;32m--> 288\u001b[0m     result \u001b[38;5;241m=\u001b[39m \u001b[38;5;28;43mself\u001b[39;49m\u001b[38;5;241;43m.\u001b[39;49m\u001b[43mrequest_raw\u001b[49m\u001b[43m(\u001b[49m\n\u001b[1;32m    289\u001b[0m \u001b[43m        \u001b[49m\u001b[43mmethod\u001b[49m\u001b[38;5;241;43m.\u001b[39;49m\u001b[43mlower\u001b[49m\u001b[43m(\u001b[49m\u001b[43m)\u001b[49m\u001b[43m,\u001b[49m\n\u001b[1;32m    290\u001b[0m \u001b[43m        \u001b[49m\u001b[43murl\u001b[49m\u001b[43m,\u001b[49m\n\u001b[1;32m    291\u001b[0m \u001b[43m        \u001b[49m\u001b[43mparams\u001b[49m\u001b[38;5;241;43m=\u001b[39;49m\u001b[43mparams\u001b[49m\u001b[43m,\u001b[49m\n\u001b[1;32m    292\u001b[0m \u001b[43m        \u001b[49m\u001b[43msupplied_headers\u001b[49m\u001b[38;5;241;43m=\u001b[39;49m\u001b[43mheaders\u001b[49m\u001b[43m,\u001b[49m\n\u001b[1;32m    293\u001b[0m \u001b[43m        \u001b[49m\u001b[43mfiles\u001b[49m\u001b[38;5;241;43m=\u001b[39;49m\u001b[43mfiles\u001b[49m\u001b[43m,\u001b[49m\n\u001b[1;32m    294\u001b[0m \u001b[43m        \u001b[49m\u001b[43mstream\u001b[49m\u001b[38;5;241;43m=\u001b[39;49m\u001b[43mstream\u001b[49m\u001b[43m,\u001b[49m\n\u001b[1;32m    295\u001b[0m \u001b[43m        \u001b[49m\u001b[43mrequest_id\u001b[49m\u001b[38;5;241;43m=\u001b[39;49m\u001b[43mrequest_id\u001b[49m\u001b[43m,\u001b[49m\n\u001b[1;32m    296\u001b[0m \u001b[43m        \u001b[49m\u001b[43mrequest_timeout\u001b[49m\u001b[38;5;241;43m=\u001b[39;49m\u001b[43mrequest_timeout\u001b[49m\u001b[43m,\u001b[49m\n\u001b[1;32m    297\u001b[0m \u001b[43m    \u001b[49m\u001b[43m)\u001b[49m\n\u001b[1;32m    298\u001b[0m     resp, got_stream \u001b[38;5;241m=\u001b[39m \u001b[38;5;28mself\u001b[39m\u001b[38;5;241m.\u001b[39m_interpret_response(result, stream)\n\u001b[1;32m    299\u001b[0m     \u001b[38;5;28;01mreturn\u001b[39;00m resp, got_stream, \u001b[38;5;28mself\u001b[39m\u001b[38;5;241m.\u001b[39mapi_key\n",
      "File \u001b[0;32m~/.conda/envs/dev/lib/python3.11/site-packages/openai/api_requestor.py:581\u001b[0m, in \u001b[0;36mAPIRequestor.request_raw\u001b[0;34m(self, method, url, params, supplied_headers, files, stream, request_id, request_timeout)\u001b[0m\n\u001b[1;32m    569\u001b[0m \u001b[38;5;28;01mdef\u001b[39;00m \u001b[38;5;21mrequest_raw\u001b[39m(\n\u001b[1;32m    570\u001b[0m     \u001b[38;5;28mself\u001b[39m,\n\u001b[1;32m    571\u001b[0m     method,\n\u001b[0;32m   (...)\u001b[0m\n\u001b[1;32m    579\u001b[0m     request_timeout: Optional[Union[\u001b[38;5;28mfloat\u001b[39m, Tuple[\u001b[38;5;28mfloat\u001b[39m, \u001b[38;5;28mfloat\u001b[39m]]] \u001b[38;5;241m=\u001b[39m \u001b[38;5;28;01mNone\u001b[39;00m,\n\u001b[1;32m    580\u001b[0m ) \u001b[38;5;241m-\u001b[39m\u001b[38;5;241m>\u001b[39m requests\u001b[38;5;241m.\u001b[39mResponse:\n\u001b[0;32m--> 581\u001b[0m     abs_url, headers, data \u001b[38;5;241m=\u001b[39m \u001b[38;5;28;43mself\u001b[39;49m\u001b[38;5;241;43m.\u001b[39;49m\u001b[43m_prepare_request_raw\u001b[49m\u001b[43m(\u001b[49m\n\u001b[1;32m    582\u001b[0m \u001b[43m        \u001b[49m\u001b[43murl\u001b[49m\u001b[43m,\u001b[49m\u001b[43m \u001b[49m\u001b[43msupplied_headers\u001b[49m\u001b[43m,\u001b[49m\u001b[43m \u001b[49m\u001b[43mmethod\u001b[49m\u001b[43m,\u001b[49m\u001b[43m \u001b[49m\u001b[43mparams\u001b[49m\u001b[43m,\u001b[49m\u001b[43m \u001b[49m\u001b[43mfiles\u001b[49m\u001b[43m,\u001b[49m\u001b[43m \u001b[49m\u001b[43mrequest_id\u001b[49m\n\u001b[1;32m    583\u001b[0m \u001b[43m    \u001b[49m\u001b[43m)\u001b[49m\n\u001b[1;32m    585\u001b[0m     \u001b[38;5;28;01mif\u001b[39;00m \u001b[38;5;129;01mnot\u001b[39;00m \u001b[38;5;28mhasattr\u001b[39m(_thread_context, \u001b[38;5;124m\"\u001b[39m\u001b[38;5;124msession\u001b[39m\u001b[38;5;124m\"\u001b[39m):\n\u001b[1;32m    586\u001b[0m         _thread_context\u001b[38;5;241m.\u001b[39msession \u001b[38;5;241m=\u001b[39m _make_session()\n",
      "File \u001b[0;32m~/.conda/envs/dev/lib/python3.11/site-packages/openai/api_requestor.py:553\u001b[0m, in \u001b[0;36mAPIRequestor._prepare_request_raw\u001b[0;34m(self, url, supplied_headers, method, params, files, request_id)\u001b[0m\n\u001b[1;32m    551\u001b[0m         data \u001b[38;5;241m=\u001b[39m params\n\u001b[1;32m    552\u001b[0m     \u001b[38;5;28;01mif\u001b[39;00m params \u001b[38;5;129;01mand\u001b[39;00m \u001b[38;5;129;01mnot\u001b[39;00m files:\n\u001b[0;32m--> 553\u001b[0m         data \u001b[38;5;241m=\u001b[39m \u001b[43mjson\u001b[49m\u001b[38;5;241;43m.\u001b[39;49m\u001b[43mdumps\u001b[49m\u001b[43m(\u001b[49m\u001b[43mparams\u001b[49m\u001b[43m)\u001b[49m\u001b[38;5;241m.\u001b[39mencode()\n\u001b[1;32m    554\u001b[0m         headers[\u001b[38;5;124m\"\u001b[39m\u001b[38;5;124mContent-Type\u001b[39m\u001b[38;5;124m\"\u001b[39m] \u001b[38;5;241m=\u001b[39m \u001b[38;5;124m\"\u001b[39m\u001b[38;5;124mapplication/json\u001b[39m\u001b[38;5;124m\"\u001b[39m\n\u001b[1;32m    555\u001b[0m \u001b[38;5;28;01melse\u001b[39;00m:\n",
      "File \u001b[0;32m~/.conda/envs/dev/lib/python3.11/json/__init__.py:231\u001b[0m, in \u001b[0;36mdumps\u001b[0;34m(obj, skipkeys, ensure_ascii, check_circular, allow_nan, cls, indent, separators, default, sort_keys, **kw)\u001b[0m\n\u001b[1;32m    226\u001b[0m \u001b[38;5;66;03m# cached encoder\u001b[39;00m\n\u001b[1;32m    227\u001b[0m \u001b[38;5;28;01mif\u001b[39;00m (\u001b[38;5;129;01mnot\u001b[39;00m skipkeys \u001b[38;5;129;01mand\u001b[39;00m ensure_ascii \u001b[38;5;129;01mand\u001b[39;00m\n\u001b[1;32m    228\u001b[0m     check_circular \u001b[38;5;129;01mand\u001b[39;00m allow_nan \u001b[38;5;129;01mand\u001b[39;00m\n\u001b[1;32m    229\u001b[0m     \u001b[38;5;28mcls\u001b[39m \u001b[38;5;129;01mis\u001b[39;00m \u001b[38;5;28;01mNone\u001b[39;00m \u001b[38;5;129;01mand\u001b[39;00m indent \u001b[38;5;129;01mis\u001b[39;00m \u001b[38;5;28;01mNone\u001b[39;00m \u001b[38;5;129;01mand\u001b[39;00m separators \u001b[38;5;129;01mis\u001b[39;00m \u001b[38;5;28;01mNone\u001b[39;00m \u001b[38;5;129;01mand\u001b[39;00m\n\u001b[1;32m    230\u001b[0m     default \u001b[38;5;129;01mis\u001b[39;00m \u001b[38;5;28;01mNone\u001b[39;00m \u001b[38;5;129;01mand\u001b[39;00m \u001b[38;5;129;01mnot\u001b[39;00m sort_keys \u001b[38;5;129;01mand\u001b[39;00m \u001b[38;5;129;01mnot\u001b[39;00m kw):\n\u001b[0;32m--> 231\u001b[0m     \u001b[38;5;28;01mreturn\u001b[39;00m \u001b[43m_default_encoder\u001b[49m\u001b[38;5;241;43m.\u001b[39;49m\u001b[43mencode\u001b[49m\u001b[43m(\u001b[49m\u001b[43mobj\u001b[49m\u001b[43m)\u001b[49m\n\u001b[1;32m    232\u001b[0m \u001b[38;5;28;01mif\u001b[39;00m \u001b[38;5;28mcls\u001b[39m \u001b[38;5;129;01mis\u001b[39;00m \u001b[38;5;28;01mNone\u001b[39;00m:\n\u001b[1;32m    233\u001b[0m     \u001b[38;5;28mcls\u001b[39m \u001b[38;5;241m=\u001b[39m JSONEncoder\n",
      "File \u001b[0;32m~/.conda/envs/dev/lib/python3.11/json/encoder.py:200\u001b[0m, in \u001b[0;36mJSONEncoder.encode\u001b[0;34m(self, o)\u001b[0m\n\u001b[1;32m    196\u001b[0m         \u001b[38;5;28;01mreturn\u001b[39;00m encode_basestring(o)\n\u001b[1;32m    197\u001b[0m \u001b[38;5;66;03m# This doesn't pass the iterator directly to ''.join() because the\u001b[39;00m\n\u001b[1;32m    198\u001b[0m \u001b[38;5;66;03m# exceptions aren't as detailed.  The list call should be roughly\u001b[39;00m\n\u001b[1;32m    199\u001b[0m \u001b[38;5;66;03m# equivalent to the PySequence_Fast that ''.join() would do.\u001b[39;00m\n\u001b[0;32m--> 200\u001b[0m chunks \u001b[38;5;241m=\u001b[39m \u001b[38;5;28;43mself\u001b[39;49m\u001b[38;5;241;43m.\u001b[39;49m\u001b[43miterencode\u001b[49m\u001b[43m(\u001b[49m\u001b[43mo\u001b[49m\u001b[43m,\u001b[49m\u001b[43m \u001b[49m\u001b[43m_one_shot\u001b[49m\u001b[38;5;241;43m=\u001b[39;49m\u001b[38;5;28;43;01mTrue\u001b[39;49;00m\u001b[43m)\u001b[49m\n\u001b[1;32m    201\u001b[0m \u001b[38;5;28;01mif\u001b[39;00m \u001b[38;5;129;01mnot\u001b[39;00m \u001b[38;5;28misinstance\u001b[39m(chunks, (\u001b[38;5;28mlist\u001b[39m, \u001b[38;5;28mtuple\u001b[39m)):\n\u001b[1;32m    202\u001b[0m     chunks \u001b[38;5;241m=\u001b[39m \u001b[38;5;28mlist\u001b[39m(chunks)\n",
      "File \u001b[0;32m~/.conda/envs/dev/lib/python3.11/json/encoder.py:258\u001b[0m, in \u001b[0;36mJSONEncoder.iterencode\u001b[0;34m(self, o, _one_shot)\u001b[0m\n\u001b[1;32m    253\u001b[0m \u001b[38;5;28;01melse\u001b[39;00m:\n\u001b[1;32m    254\u001b[0m     _iterencode \u001b[38;5;241m=\u001b[39m _make_iterencode(\n\u001b[1;32m    255\u001b[0m         markers, \u001b[38;5;28mself\u001b[39m\u001b[38;5;241m.\u001b[39mdefault, _encoder, \u001b[38;5;28mself\u001b[39m\u001b[38;5;241m.\u001b[39mindent, floatstr,\n\u001b[1;32m    256\u001b[0m         \u001b[38;5;28mself\u001b[39m\u001b[38;5;241m.\u001b[39mkey_separator, \u001b[38;5;28mself\u001b[39m\u001b[38;5;241m.\u001b[39mitem_separator, \u001b[38;5;28mself\u001b[39m\u001b[38;5;241m.\u001b[39msort_keys,\n\u001b[1;32m    257\u001b[0m         \u001b[38;5;28mself\u001b[39m\u001b[38;5;241m.\u001b[39mskipkeys, _one_shot)\n\u001b[0;32m--> 258\u001b[0m \u001b[38;5;28;01mreturn\u001b[39;00m \u001b[43m_iterencode\u001b[49m\u001b[43m(\u001b[49m\u001b[43mo\u001b[49m\u001b[43m,\u001b[49m\u001b[43m \u001b[49m\u001b[38;5;241;43m0\u001b[39;49m\u001b[43m)\u001b[49m\n",
      "\u001b[0;31mTypeError\u001b[0m: keys must be str, int, float, bool or None, not Element"
     ]
    }
   ],
   "source": [
    "second_response = openai.ChatCompletion.create(\n",
    "    model=\"gpt-3.5-turbo-0613\",\n",
    "    messages=messages,\n",
    ")  # get a new response from GPT where it can see the function response"
   ]
  },
  {
   "cell_type": "code",
   "execution_count": 59,
   "id": "b1e14c90-7326-448c-bb2f-033019a50d64",
   "metadata": {
    "scrolled": true,
    "tags": []
   },
   "outputs": [
    {
     "ename": "TypeError",
     "evalue": "__init__() takes exactly 1 positional argument (2 given)",
     "output_type": "error",
     "traceback": [
      "\u001b[0;31m---------------------------------------------------------------------------\u001b[0m",
      "\u001b[0;31mTypeError\u001b[0m                                 Traceback (most recent call last)",
      "Cell \u001b[0;32mIn[59], line 3\u001b[0m\n\u001b[1;32m      1\u001b[0m \u001b[38;5;28;01mfrom\u001b[39;00m \u001b[38;5;21;01memmet\u001b[39;00m\u001b[38;5;21;01m.\u001b[39;00m\u001b[38;5;21;01mcore\u001b[39;00m\u001b[38;5;21;01m.\u001b[39;00m\u001b[38;5;21;01msummary\u001b[39;00m \u001b[38;5;28;01mimport\u001b[39;00m SummaryDoc\n\u001b[0;32m----> 3\u001b[0m \u001b[43mSummaryDoc\u001b[49m\u001b[43m(\u001b[49m\u001b[43mfunction_response\u001b[49m\u001b[43m[\u001b[49m\u001b[38;5;241;43m0\u001b[39;49m\u001b[43m]\u001b[49m\u001b[43m)\u001b[49m\n",
      "File \u001b[0;32m~/.conda/envs/dev/lib/python3.11/site-packages/pydantic/main.py:332\u001b[0m, in \u001b[0;36mpydantic.main.BaseModel.__init__\u001b[0;34m()\u001b[0m\n",
      "\u001b[0;31mTypeError\u001b[0m: __init__() takes exactly 1 positional argument (2 given)"
     ]
    }
   ],
   "source": [
    "from emmet.core.summary import SummaryDoc\n",
    "from monty.serialization import \n"
   ]
  },
  {
   "cell_type": "code",
   "execution_count": 98,
   "id": "5214ab19-0304-489d-b5ed-b948cb87d444",
   "metadata": {
    "tags": []
   },
   "outputs": [
    {
     "data": {
      "text/plain": [
       "{'builder_meta': {'emmet_version': '0.38.6',\n",
       "  'pymatgen_version': '2022.10.22',\n",
       "  'pull_request': 825,\n",
       "  'database_version': '2022.10.28',\n",
       "  'build_date': '2022-10-28 00:53:44.517000'},\n",
       " 'nsites': 60,\n",
       " 'elements': ['B', 'H', 'O', 'P', 'Rb'],\n",
       " 'nelements': 5,\n",
       " 'composition': 'Rb4 B8 P8 H4 O36',\n",
       " 'composition_reduced': 'Rb1 B2 P2 H1 O9',\n",
       " 'formula_pretty': 'RbB2P2HO9',\n",
       " 'formula_anonymous': 'ABC2D2E9',\n",
       " 'chemsys': 'B-H-O-P-Rb',\n",
       " 'volume': 749.1588974767661,\n",
       " 'density': 2.78432500447169,\n",
       " 'density_atomic': 12.48598162461277,\n",
       " 'symmetry': {'crystal_system': 'Monoclinic',\n",
       "  'symbol': 'P2_1/c',\n",
       "  'number': 14,\n",
       "  'point_group': '2/m',\n",
       "  'symprec': 0.1,\n",
       "  'version': '1.16.2'},\n",
       " 'property_name': 'summary',\n",
       " 'material_id': MPID(mp-758281),\n",
       " 'deprecated': False,\n",
       " 'deprecation_reasons': 'None',\n",
       " 'last_updated': '2022-10-28 00:53:44.517000',\n",
       " 'origins': [],\n",
       " 'warnings': [],\n",
       " 'structure': 'Full Formula (Rb4 B8 P8 H4 O36)\\nReduced Formula: RbB2P2HO9\\nabc   :  12.307468   6.863573   8.947393\\nangles:  82.390451  90.000000  90.000000\\npbc   :       True       True       True\\nSites (60)\\n  #  SP           a         b         c    magmom\\n---  ----  --------  --------  --------  --------\\n  0  Rb    0.379546  0.727529  0.810332        -0\\n  1  Rb    0.120454  0.727529  0.310332        -0\\n  2  Rb    0.879546  0.272471  0.689668        -0\\n  3  Rb    0.620454  0.272471  0.189668        -0\\n  4  B     0.637865  0.931859  0.639584         0\\n  5  B     0.862135  0.931859  0.139584         0\\n  6  B     0.635578  0.616382  0.53082          0\\n  7  B     0.864422  0.616382  0.03082          0\\n  8  B     0.135578  0.383618  0.96918          0\\n  9  B     0.364422  0.383618  0.46918          0\\n 10  B     0.137865  0.068141  0.860416         0\\n 11  B     0.362135  0.068141  0.360416         0\\n 12  P     0.708065  0.872591  0.942525         0\\n 13  P     0.791935  0.872591  0.442525         0\\n 14  P     0.038175  0.71024   0.822847         0\\n 15  P     0.461825  0.71024   0.322847         0\\n 16  P     0.538175  0.28976   0.677153         0\\n 17  P     0.961825  0.28976   0.177153         0\\n 18  P     0.208065  0.127409  0.557475         0\\n 19  P     0.291935  0.127409  0.057475         0\\n 20  H     0.980127  0.777773  0.588558         0\\n 21  H     0.519873  0.777773  0.088558         0\\n 22  H     0.480127  0.222227  0.911442         0\\n 23  H     0.019873  0.222227  0.411442         0\\n 24  O     0.20475   0.990645  0.995487         0\\n 25  O     0.29525   0.990645  0.495487         0\\n 26  O     0.045864  0.928288  0.847509         0\\n 27  O     0.715314  0.937751  0.769537         0\\n 28  O     0.454136  0.928288  0.347509         0\\n 29  O     0.904851  0.895075  0.503115        -0\\n 30  O     0.784686  0.937751  0.269537         0\\n 31  O     0.595149  0.895075  0.003115        -0\\n 32  O     0.593202  0.742629  0.629888         0\\n 33  O     0.74959   0.65599   0.985119         0\\n 34  O     0.040897  0.688794  0.651716        -0\\n 35  O     0.92835   0.623739  0.883297         0\\n 36  O     0.906798  0.742629  0.129888         0\\n 37  O     0.136239  0.595689  0.899943        -0\\n 38  O     0.75041   0.65599   0.485119         0\\n 39  O     0.459103  0.688794  0.151716        -0\\n 40  O     0.57165   0.623739  0.383297         0\\n 41  O     0.363761  0.595689  0.399943        -0\\n 42  O     0.636239  0.404311  0.600057        -0\\n 43  O     0.42835   0.376261  0.616703         0\\n 44  O     0.540897  0.311206  0.848284        -0\\n 45  O     0.24959   0.34401   0.514881         0\\n 46  O     0.863761  0.404311  0.100057        -0\\n 47  O     0.093202  0.257371  0.870112         0\\n 48  O     0.07165   0.376261  0.116703         0\\n 49  O     0.959103  0.311206  0.348284        -0\\n 50  O     0.25041   0.34401   0.014881         0\\n 51  O     0.406798  0.257371  0.370112         0\\n 52  O     0.404851  0.104925  0.996885        -0\\n 53  O     0.215314  0.062249  0.730463         0\\n 54  O     0.095149  0.104925  0.496885        -0\\n 55  O     0.545864  0.071712  0.652491         0\\n 56  O     0.284686  0.062249  0.230463         0\\n 57  O     0.954136  0.071712  0.152491         0\\n 58  O     0.70475   0.009355  0.504513         0\\n 59  O     0.79525   0.009355  0.004513         0',\n",
       " 'task_ids': [MPID(mp-758281),\n",
       "  MPID(mp-1886554),\n",
       "  MPID(mp-1362209),\n",
       "  MPID(mp-783002),\n",
       "  MPID(mp-843838),\n",
       "  MPID(mp-786031)],\n",
       " 'uncorrected_energy_per_atom': -7.079847634999999,\n",
       " 'energy_per_atom': -7.4920476350000005,\n",
       " 'formation_energy_per_atom': -2.6201244967500004,\n",
       " 'energy_above_hull': 0.0,\n",
       " 'is_stable': True,\n",
       " 'equilibrium_reaction_energy_per_atom': -0.0006755033333352145,\n",
       " 'decomposes_to': 'None',\n",
       " 'xas': [{'edge': 'L2', 'absorbing_element': 'Rb', 'spectrum_type': 'XANES'},\n",
       "  {'edge': 'L3', 'absorbing_element': 'Rb', 'spectrum_type': 'XANES'}],\n",
       " 'grain_boundaries': 'None',\n",
       " 'band_gap': 5.7824,\n",
       " 'cbm': 6.038,\n",
       " 'vbm': 0.2556,\n",
       " 'efermi': 0.36560564,\n",
       " 'is_gap_direct': False,\n",
       " 'is_metal': False,\n",
       " 'es_source_calc_id': MPID(mp-786031),\n",
       " 'bandstructure': {'setyawan_curtarolo': {'task_id': MPID(mp-786031),\n",
       "   'band_gap': 5.7824,\n",
       "   'cbm': {'band_index': {'1': [160]},\n",
       "    'kpoint_index': [0],\n",
       "    'kpoint': '[0. 0. 0.] [0. 0. 0.] \\\\Gamma',\n",
       "    'energy': 6.038,\n",
       "    'projections': {}},\n",
       "   'vbm': {'band_index': {'1': [158, 159]},\n",
       "    'kpoint_index': [71],\n",
       "    'kpoint': '[0.5 0.  0. ] [0.25525906 0.         0.        ] Z',\n",
       "    'energy': 0.2556,\n",
       "    'projections': {}},\n",
       "   'efermi': 0.36560564,\n",
       "   'is_gap_direct': False,\n",
       "   'is_metal': False,\n",
       "   'magnetic_ordering': 'NM',\n",
       "   'nbands': 304.0,\n",
       "   'equivalent_labels': {'setyawan_curtarolo': {'latimer_munro': {'\\\\Gamma': 'Γ',\n",
       "      'A': 'd',\n",
       "      'H_1': 'o_{1}',\n",
       "      'H_2': 'o',\n",
       "      'M_1': 't_{2}',\n",
       "      'M_2': 't_{2}',\n",
       "      'X': 'b',\n",
       "      'Y_1': 'c',\n",
       "      'Z': 'a',\n",
       "      'C': 'f^{*}',\n",
       "      'D': 'e^{*}',\n",
       "      'D_1': 'D_1',\n",
       "      'E': 'g^{*}',\n",
       "      'H': 'o^{*}',\n",
       "      'M': 't^{*}',\n",
       "      'Y': 'c^{*}'},\n",
       "     'hinuma': {'\\\\Gamma': 'GAMMA',\n",
       "      'A': 'C_2',\n",
       "      'C': 'A',\n",
       "      'D': 'D',\n",
       "      'E': 'E',\n",
       "      'H': 'H',\n",
       "      'H_1': 'H_2',\n",
       "      'H_2': 'H_4',\n",
       "      'M': 'M',\n",
       "      'M_1': 'M_2',\n",
       "      'M_2': 'M_2',\n",
       "      'X': 'Y_2',\n",
       "      'Y': 'B',\n",
       "      'Y_1': 'B_2',\n",
       "      'Z': 'Z',\n",
       "      'D_1': 'D_1'}},\n",
       "    'latimer_munro': {'setyawan_curtarolo': {'o': 'H_2',\n",
       "      'o_{1}': 'H_1',\n",
       "      'b': 'X',\n",
       "      'c': 'Y_1',\n",
       "      'Γ': '\\\\Gamma',\n",
       "      'd': 'A',\n",
       "      't_{2}': 'M_1',\n",
       "      'a': 'Z',\n",
       "      'g': 'E^{*}',\n",
       "      't': 'M^{*}',\n",
       "      'o_{2}': 'H^{*}',\n",
       "      'f': 'C^{*}',\n",
       "      'e': 'D^{*}',\n",
       "      't_{1}': 't_{1}'},\n",
       "     'hinuma': {'o': 'H_4',\n",
       "      'o_{1}': 'H_2',\n",
       "      'b': 'Y_2',\n",
       "      'c': 'B_2',\n",
       "      'Γ': 'GAMMA',\n",
       "      'e': 'D_2',\n",
       "      't_{1}': 'M_4',\n",
       "      'd': 'C_2',\n",
       "      't_{2}': 'M_2',\n",
       "      'a': 'Z',\n",
       "      'g': 'E^{*}',\n",
       "      't': 'M^{*}',\n",
       "      'o_{2}': 'H^{*}',\n",
       "      'f': 'A^{*}'}},\n",
       "    'hinuma': {'setyawan_curtarolo': {'GAMMA': '\\\\Gamma',\n",
       "      'Z': 'Z',\n",
       "      'B': 'Y',\n",
       "      'B_2': 'Y_1',\n",
       "      'Y_2': 'X',\n",
       "      'C_2': 'A',\n",
       "      'D': 'D',\n",
       "      'A': 'C',\n",
       "      'E': 'E',\n",
       "      'H': 'H',\n",
       "      'H_2': 'H_1',\n",
       "      'H_4': 'H_2',\n",
       "      'M': 'M',\n",
       "      'M_2': 'M_1',\n",
       "      'Y': 'X^{*}',\n",
       "      'C': 'A^{*}',\n",
       "      'D_2': 'D^{*}',\n",
       "      'M_4': 'M_4'},\n",
       "     'latimer_munro': {'GAMMA': 'Γ',\n",
       "      'Z': 'a',\n",
       "      'B_2': 'c',\n",
       "      'Y_2': 'b',\n",
       "      'C_2': 'd',\n",
       "      'D_2': 'e',\n",
       "      'H_2': 'o_{1}',\n",
       "      'H_4': 'o',\n",
       "      'M_2': 't_{2}',\n",
       "      'M_4': 't_{1}',\n",
       "      'B': 'c^{*}',\n",
       "      'Y': 'b^{*}',\n",
       "      'C': 'd^{*}',\n",
       "      'D': 'e^{*}',\n",
       "      'A': 'f^{*}',\n",
       "      'E': 'g^{*}',\n",
       "      'H': 'o^{*}',\n",
       "      'M': 't^{*}'}}},\n",
       "   'direct_gap': 5.787},\n",
       "  'hinuma': 'None',\n",
       "  'latimer_munro': 'None'},\n",
       " 'dos': {'total': {'1': {'task_id': MPID(mp-843838),\n",
       "    'band_gap': 5.8694,\n",
       "    'cbm': 6.2653,\n",
       "    'vbm': 0.3959,\n",
       "    'efermi': 0.29112692,\n",
       "    'spin_polarization': 'None'}},\n",
       "  'elemental': {Element Rb: {'total': {'1': {'task_id': MPID(mp-843838),\n",
       "      'band_gap': 5.8694,\n",
       "      'cbm': 6.2653,\n",
       "      'vbm': 0.3959,\n",
       "      'efermi': 0.29112692,\n",
       "      'spin_polarization': 'None'}},\n",
       "    's': {'1': {'task_id': MPID(mp-843838),\n",
       "      'band_gap': 6.8476,\n",
       "      'cbm': 6.2653,\n",
       "      'vbm': -0.5823,\n",
       "      'efermi': 0.29112692,\n",
       "      'spin_polarization': 'None'}},\n",
       "    'p': {'1': {'task_id': MPID(mp-843838),\n",
       "      'band_gap': 5.8694,\n",
       "      'cbm': 6.2653,\n",
       "      'vbm': 0.3959,\n",
       "      'efermi': 0.29112692,\n",
       "      'spin_polarization': 'None'}},\n",
       "    'd': {'1': {'task_id': MPID(mp-843838),\n",
       "      'band_gap': 6.0091,\n",
       "      'cbm': 6.2653,\n",
       "      'vbm': 0.2562,\n",
       "      'efermi': 0.29112692,\n",
       "      'spin_polarization': 'None'}}},\n",
       "   Element B: {'total': {'1': {'task_id': MPID(mp-843838),\n",
       "      'band_gap': 5.8694,\n",
       "      'cbm': 6.2653,\n",
       "      'vbm': 0.3959,\n",
       "      'efermi': 0.29112692,\n",
       "      'spin_polarization': 'None'}},\n",
       "    's': {'1': {'task_id': MPID(mp-843838),\n",
       "      'band_gap': 6.0091,\n",
       "      'cbm': 6.2653,\n",
       "      'vbm': 0.2562,\n",
       "      'efermi': 0.29112692,\n",
       "      'spin_polarization': 'None'}},\n",
       "    'p': {'1': {'task_id': MPID(mp-843838),\n",
       "      'band_gap': 6.0091,\n",
       "      'cbm': 6.405,\n",
       "      'vbm': 0.3959,\n",
       "      'efermi': 0.29112692,\n",
       "      'spin_polarization': 'None'}},\n",
       "    'd': {'1': {'task_id': MPID(mp-843838),\n",
       "      'band_gap': 41.9238,\n",
       "      'cbm': 16.327,\n",
       "      'vbm': -25.5968,\n",
       "      'efermi': 0.29112692,\n",
       "      'spin_polarization': 'None'}}},\n",
       "   Element P: {'total': {'1': {'task_id': MPID(mp-843838),\n",
       "      'band_gap': 5.8694,\n",
       "      'cbm': 6.2653,\n",
       "      'vbm': 0.3959,\n",
       "      'efermi': 0.29112692,\n",
       "      'spin_polarization': 'None'}},\n",
       "    's': {'1': {'task_id': MPID(mp-843838),\n",
       "      'band_gap': 5.8694,\n",
       "      'cbm': 6.2653,\n",
       "      'vbm': 0.3959,\n",
       "      'efermi': 0.29112692,\n",
       "      'spin_polarization': 'None'}},\n",
       "    'p': {'1': {'task_id': MPID(mp-843838),\n",
       "      'band_gap': 6.2886,\n",
       "      'cbm': 6.6845,\n",
       "      'vbm': 0.3959,\n",
       "      'efermi': 0.29112692,\n",
       "      'spin_polarization': 'None'}},\n",
       "    'd': {'1': {'task_id': MPID(mp-843838),\n",
       "      'band_gap': 41.9238,\n",
       "      'cbm': 16.327,\n",
       "      'vbm': -25.5968,\n",
       "      'efermi': 0.29112692,\n",
       "      'spin_polarization': 'None'}}},\n",
       "   Element H: {'total': {'1': {'task_id': MPID(mp-843838),\n",
       "      'band_gap': 5.8694,\n",
       "      'cbm': 6.2653,\n",
       "      'vbm': 0.3959,\n",
       "      'efermi': 0.29112692,\n",
       "      'spin_polarization': 'None'}},\n",
       "    's': {'1': {'task_id': MPID(mp-843838),\n",
       "      'band_gap': 6.2886,\n",
       "      'cbm': 6.2653,\n",
       "      'vbm': -0.0233,\n",
       "      'efermi': 0.29112692,\n",
       "      'spin_polarization': 'None'}},\n",
       "    'p': {'1': {'task_id': MPID(mp-843838),\n",
       "      'band_gap': 7.2668,\n",
       "      'cbm': 7.6627,\n",
       "      'vbm': 0.3959,\n",
       "      'efermi': 0.29112692,\n",
       "      'spin_polarization': 'None'}},\n",
       "    'd': {'1': {'task_id': MPID(mp-843838),\n",
       "      'band_gap': 41.9238,\n",
       "      'cbm': 16.327,\n",
       "      'vbm': -25.5968,\n",
       "      'efermi': 0.29112692,\n",
       "      'spin_polarization': 'None'}}},\n",
       "   Element O: {'total': {'1': {'task_id': MPID(mp-843838),\n",
       "      'band_gap': 5.8694,\n",
       "      'cbm': 6.2653,\n",
       "      'vbm': 0.3959,\n",
       "      'efermi': 0.29112692,\n",
       "      'spin_polarization': 'None'}},\n",
       "    's': {'1': {'task_id': MPID(mp-843838),\n",
       "      'band_gap': 5.8694,\n",
       "      'cbm': 6.2653,\n",
       "      'vbm': 0.3959,\n",
       "      'efermi': 0.29112692,\n",
       "      'spin_polarization': 'None'}},\n",
       "    'p': {'1': {'task_id': MPID(mp-843838),\n",
       "      'band_gap': 5.8694,\n",
       "      'cbm': 6.2653,\n",
       "      'vbm': 0.3959,\n",
       "      'efermi': 0.29112692,\n",
       "      'spin_polarization': 'None'}},\n",
       "    'd': {'1': {'task_id': MPID(mp-843838),\n",
       "      'band_gap': 41.9238,\n",
       "      'cbm': 16.327,\n",
       "      'vbm': -25.5968,\n",
       "      'efermi': 0.29112692,\n",
       "      'spin_polarization': 'None'}}}},\n",
       "  'orbital': {'s': {'1': {'task_id': MPID(mp-843838),\n",
       "     'band_gap': 5.8694,\n",
       "     'cbm': 6.2653,\n",
       "     'vbm': 0.3959,\n",
       "     'efermi': 0.29112692,\n",
       "     'spin_polarization': 'None'}},\n",
       "   'p': {'1': {'task_id': MPID(mp-843838),\n",
       "     'band_gap': 5.8694,\n",
       "     'cbm': 6.2653,\n",
       "     'vbm': 0.3959,\n",
       "     'efermi': 0.29112692,\n",
       "     'spin_polarization': 'None'}},\n",
       "   'd': {'1': {'task_id': MPID(mp-843838),\n",
       "     'band_gap': 6.0091,\n",
       "     'cbm': 6.2653,\n",
       "     'vbm': 0.2562,\n",
       "     'efermi': 0.29112692,\n",
       "     'spin_polarization': 'None'}}},\n",
       "  'magnetic_ordering': 'NM'},\n",
       " 'dos_energy_up': 'None',\n",
       " 'dos_energy_down': 'None',\n",
       " 'is_magnetic': False,\n",
       " 'ordering': 'NM',\n",
       " 'total_magnetization': 0.0004723,\n",
       " 'total_magnetization_normalized_vol': 6.304403532958741e-07,\n",
       " 'total_magnetization_normalized_formula_units': 0.000118075,\n",
       " 'num_magnetic_sites': 0,\n",
       " 'num_unique_magnetic_sites': 0,\n",
       " 'types_of_magnetic_species': [],\n",
       " 'k_voigt': 'None',\n",
       " 'k_reuss': 'None',\n",
       " 'k_vrh': 'None',\n",
       " 'g_voigt': 'None',\n",
       " 'g_reuss': 'None',\n",
       " 'g_vrh': 'None',\n",
       " 'universal_anisotropy': 'None',\n",
       " 'homogeneous_poisson': 'None',\n",
       " 'e_total': 'None',\n",
       " 'e_ionic': 'None',\n",
       " 'e_electronic': 'None',\n",
       " 'n': 'None',\n",
       " 'e_ij_max': 'None',\n",
       " 'weighted_surface_energy_EV_PER_ANG2': 'None',\n",
       " 'weighted_surface_energy': 'None',\n",
       " 'weighted_work_function': 'None',\n",
       " 'surface_anisotropy': 'None',\n",
       " 'shape_factor': 'None',\n",
       " 'has_reconstructed': 'None',\n",
       " 'possible_species': ['H+', 'B3+', 'Rb+', 'P5+', 'O2-'],\n",
       " 'has_props': ['HasProps.provenance',\n",
       "  'HasProps.charge_density',\n",
       "  'HasProps.bandstructure',\n",
       "  'HasProps.substrates',\n",
       "  'HasProps.materials',\n",
       "  'HasProps.dos',\n",
       "  'HasProps.electronic_structure',\n",
       "  'HasProps.oxi_states',\n",
       "  'HasProps.thermo',\n",
       "  'HasProps.xas',\n",
       "  'HasProps.magnetism'],\n",
       " 'theoretical': False,\n",
       " 'database_IDs': {'icsd': ['icsd-406878']},\n",
       " 'fields_not_requested': []}"
      ]
     },
     "execution_count": 98,
     "metadata": {},
     "output_type": "execute_result"
    }
   ],
   "source": [
    "from pymatgen.core import Structure, Element\n",
    "import datetime\n",
    "def serialize_nested_object(obj):\n",
    "    if isinstance(obj, dict):\n",
    "        serialized_dict = {}\n",
    "        for key, value in obj.items():\n",
    "            serialized_dict[key] = serialize_nested_object(value)\n",
    "        return serialized_dict\n",
    "    elif isinstance(obj, list):\n",
    "        serialized_list = []\n",
    "        for item in obj:\n",
    "            serialized_list.append(serialize_nested_object(item))\n",
    "        return serialized_list\n",
    "    elif isinstance(obj, (datetime.datetime, Element)):\n",
    "        return str(obj)\n",
    "    elif isinstance(obj, (str, int, float)):\n",
    "        return obj\n",
    "    else:\n",
    "        # Handle other data types or custom objects as needed\n",
    "        return str(obj)\n",
    "\n",
    "\n",
    "serialize_nested_object(function_response[0].dict())\n"
   ]
  },
  {
   "cell_type": "code",
   "execution_count": 60,
   "id": "8467a881-d1f7-443e-be86-bd123fd65740",
   "metadata": {
    "tags": []
   },
   "outputs": [
    {
     "ename": "TypeError",
     "evalue": "'str' object does not support item assignment",
     "output_type": "error",
     "traceback": [
      "\u001b[0;31m---------------------------------------------------------------------------\u001b[0m",
      "\u001b[0;31mTypeError\u001b[0m                                 Traceback (most recent call last)",
      "Cell \u001b[0;32mIn[60], line 4\u001b[0m\n\u001b[1;32m      1\u001b[0m \u001b[38;5;28;01mfrom\u001b[39;00m \u001b[38;5;21;01mmonty\u001b[39;00m\u001b[38;5;21;01m.\u001b[39;00m\u001b[38;5;21;01mjson\u001b[39;00m \u001b[38;5;28;01mimport\u001b[39;00m MontyEncoder\n\u001b[1;32m      3\u001b[0m encoder \u001b[38;5;241m=\u001b[39m MontyEncoder()\n\u001b[0;32m----> 4\u001b[0m a \u001b[38;5;241m=\u001b[39m \u001b[43mencoder\u001b[49m\u001b[38;5;241;43m.\u001b[39;49m\u001b[43mencode\u001b[49m\u001b[43m(\u001b[49m\u001b[43mfunction_response\u001b[49m\u001b[43m[\u001b[49m\u001b[38;5;241;43m0\u001b[39;49m\u001b[43m]\u001b[49m\u001b[43m)\u001b[49m\n",
      "File \u001b[0;32m~/.conda/envs/dev/lib/python3.11/json/encoder.py:200\u001b[0m, in \u001b[0;36mJSONEncoder.encode\u001b[0;34m(self, o)\u001b[0m\n\u001b[1;32m    196\u001b[0m         \u001b[38;5;28;01mreturn\u001b[39;00m encode_basestring(o)\n\u001b[1;32m    197\u001b[0m \u001b[38;5;66;03m# This doesn't pass the iterator directly to ''.join() because the\u001b[39;00m\n\u001b[1;32m    198\u001b[0m \u001b[38;5;66;03m# exceptions aren't as detailed.  The list call should be roughly\u001b[39;00m\n\u001b[1;32m    199\u001b[0m \u001b[38;5;66;03m# equivalent to the PySequence_Fast that ''.join() would do.\u001b[39;00m\n\u001b[0;32m--> 200\u001b[0m chunks \u001b[38;5;241m=\u001b[39m \u001b[38;5;28;43mself\u001b[39;49m\u001b[38;5;241;43m.\u001b[39;49m\u001b[43miterencode\u001b[49m\u001b[43m(\u001b[49m\u001b[43mo\u001b[49m\u001b[43m,\u001b[49m\u001b[43m \u001b[49m\u001b[43m_one_shot\u001b[49m\u001b[38;5;241;43m=\u001b[39;49m\u001b[38;5;28;43;01mTrue\u001b[39;49;00m\u001b[43m)\u001b[49m\n\u001b[1;32m    201\u001b[0m \u001b[38;5;28;01mif\u001b[39;00m \u001b[38;5;129;01mnot\u001b[39;00m \u001b[38;5;28misinstance\u001b[39m(chunks, (\u001b[38;5;28mlist\u001b[39m, \u001b[38;5;28mtuple\u001b[39m)):\n\u001b[1;32m    202\u001b[0m     chunks \u001b[38;5;241m=\u001b[39m \u001b[38;5;28mlist\u001b[39m(chunks)\n",
      "File \u001b[0;32m~/.conda/envs/dev/lib/python3.11/json/encoder.py:258\u001b[0m, in \u001b[0;36mJSONEncoder.iterencode\u001b[0;34m(self, o, _one_shot)\u001b[0m\n\u001b[1;32m    253\u001b[0m \u001b[38;5;28;01melse\u001b[39;00m:\n\u001b[1;32m    254\u001b[0m     _iterencode \u001b[38;5;241m=\u001b[39m _make_iterencode(\n\u001b[1;32m    255\u001b[0m         markers, \u001b[38;5;28mself\u001b[39m\u001b[38;5;241m.\u001b[39mdefault, _encoder, \u001b[38;5;28mself\u001b[39m\u001b[38;5;241m.\u001b[39mindent, floatstr,\n\u001b[1;32m    256\u001b[0m         \u001b[38;5;28mself\u001b[39m\u001b[38;5;241m.\u001b[39mkey_separator, \u001b[38;5;28mself\u001b[39m\u001b[38;5;241m.\u001b[39mitem_separator, \u001b[38;5;28mself\u001b[39m\u001b[38;5;241m.\u001b[39msort_keys,\n\u001b[1;32m    257\u001b[0m         \u001b[38;5;28mself\u001b[39m\u001b[38;5;241m.\u001b[39mskipkeys, _one_shot)\n\u001b[0;32m--> 258\u001b[0m \u001b[38;5;28;01mreturn\u001b[39;00m \u001b[43m_iterencode\u001b[49m\u001b[43m(\u001b[49m\u001b[43mo\u001b[49m\u001b[43m,\u001b[49m\u001b[43m \u001b[49m\u001b[38;5;241;43m0\u001b[39;49m\u001b[43m)\u001b[49m\n",
      "File \u001b[0;32m~/.conda/envs/dev/lib/python3.11/site-packages/monty/json.py:355\u001b[0m, in \u001b[0;36mMontyEncoder.default\u001b[0;34m(self, o)\u001b[0m\n\u001b[1;32m    352\u001b[0m     d \u001b[38;5;241m=\u001b[39m o\u001b[38;5;241m.\u001b[39mas_dict()\n\u001b[1;32m    354\u001b[0m \u001b[38;5;28;01mif\u001b[39;00m \u001b[38;5;124m\"\u001b[39m\u001b[38;5;124m@module\u001b[39m\u001b[38;5;124m\"\u001b[39m \u001b[38;5;129;01mnot\u001b[39;00m \u001b[38;5;129;01min\u001b[39;00m d:\n\u001b[0;32m--> 355\u001b[0m     \u001b[43md\u001b[49m\u001b[43m[\u001b[49m\u001b[38;5;124;43m\"\u001b[39;49m\u001b[38;5;124;43m@module\u001b[39;49m\u001b[38;5;124;43m\"\u001b[39;49m\u001b[43m]\u001b[49m \u001b[38;5;241m=\u001b[39m \u001b[38;5;28mstr\u001b[39m(o\u001b[38;5;241m.\u001b[39m\u001b[38;5;18m__class__\u001b[39m\u001b[38;5;241m.\u001b[39m\u001b[38;5;18m__module__\u001b[39m)\n\u001b[1;32m    356\u001b[0m \u001b[38;5;28;01mif\u001b[39;00m \u001b[38;5;124m\"\u001b[39m\u001b[38;5;124m@class\u001b[39m\u001b[38;5;124m\"\u001b[39m \u001b[38;5;129;01mnot\u001b[39;00m \u001b[38;5;129;01min\u001b[39;00m d:\n\u001b[1;32m    357\u001b[0m     d[\u001b[38;5;124m\"\u001b[39m\u001b[38;5;124m@class\u001b[39m\u001b[38;5;124m\"\u001b[39m] \u001b[38;5;241m=\u001b[39m \u001b[38;5;28mstr\u001b[39m(o\u001b[38;5;241m.\u001b[39m\u001b[38;5;18m__class__\u001b[39m\u001b[38;5;241m.\u001b[39m\u001b[38;5;18m__name__\u001b[39m)\n",
      "\u001b[0;31mTypeError\u001b[0m: 'str' object does not support item assignment"
     ]
    }
   ],
   "source": [
    "from monty.json import MontyEncoder\n",
    "\n",
    "encoder = MontyEncoder()\n",
    "a = encoder.encode(function_response[0])"
   ]
  },
  {
   "cell_type": "code",
   "execution_count": 63,
   "id": "e6bf2dbc-d1e4-4f38-a690-78052d904c15",
   "metadata": {
    "tags": []
   },
   "outputs": [
    {
     "ename": "TypeError",
     "evalue": "the JSON object must be str, bytes or bytearray, not dict",
     "output_type": "error",
     "traceback": [
      "\u001b[0;31m---------------------------------------------------------------------------\u001b[0m",
      "\u001b[0;31mTypeError\u001b[0m                                 Traceback (most recent call last)",
      "Cell \u001b[0;32mIn[63], line 4\u001b[0m\n\u001b[1;32m      1\u001b[0m \u001b[38;5;28;01mfrom\u001b[39;00m \u001b[38;5;21;01mmonty\u001b[39;00m\u001b[38;5;21;01m.\u001b[39;00m\u001b[38;5;21;01mjson\u001b[39;00m \u001b[38;5;28;01mimport\u001b[39;00m MontyDecoder, MontyEncoder\n\u001b[1;32m      3\u001b[0m decoder \u001b[38;5;241m=\u001b[39m MontyDecoder()\n\u001b[0;32m----> 4\u001b[0m \u001b[43mdecoder\u001b[49m\u001b[38;5;241;43m.\u001b[39;49m\u001b[43mdecode\u001b[49m\u001b[43m(\u001b[49m\u001b[43mfunction_response\u001b[49m\u001b[43m[\u001b[49m\u001b[38;5;241;43m0\u001b[39;49m\u001b[43m]\u001b[49m\u001b[38;5;241;43m.\u001b[39;49m\u001b[43mdict\u001b[49m\u001b[43m(\u001b[49m\u001b[43m)\u001b[49m\u001b[43m)\u001b[49m\n\u001b[1;32m      5\u001b[0m \u001b[38;5;66;03m# encoder = MontyEncoder()\u001b[39;00m\n\u001b[1;32m      6\u001b[0m \u001b[38;5;66;03m# encoder.encode()\u001b[39;00m\n\u001b[1;32m      7\u001b[0m \u001b[38;5;66;03m# json.dumps(function_response[0])\u001b[39;00m\n",
      "File \u001b[0;32m~/.conda/envs/dev/lib/python3.11/site-packages/monty/json.py:496\u001b[0m, in \u001b[0;36mMontyDecoder.decode\u001b[0;34m(self, s)\u001b[0m\n\u001b[1;32m    494\u001b[0m         d \u001b[38;5;241m=\u001b[39m json\u001b[38;5;241m.\u001b[39mloads(s)\n\u001b[1;32m    495\u001b[0m \u001b[38;5;28;01melse\u001b[39;00m:\n\u001b[0;32m--> 496\u001b[0m     d \u001b[38;5;241m=\u001b[39m \u001b[43mjson\u001b[49m\u001b[38;5;241;43m.\u001b[39;49m\u001b[43mloads\u001b[49m\u001b[43m(\u001b[49m\u001b[43ms\u001b[49m\u001b[43m)\u001b[49m\n\u001b[1;32m    497\u001b[0m \u001b[38;5;28;01mreturn\u001b[39;00m \u001b[38;5;28mself\u001b[39m\u001b[38;5;241m.\u001b[39mprocess_decoded(d)\n",
      "File \u001b[0;32m~/.conda/envs/dev/lib/python3.11/json/__init__.py:339\u001b[0m, in \u001b[0;36mloads\u001b[0;34m(s, cls, object_hook, parse_float, parse_int, parse_constant, object_pairs_hook, **kw)\u001b[0m\n\u001b[1;32m    337\u001b[0m \u001b[38;5;28;01melse\u001b[39;00m:\n\u001b[1;32m    338\u001b[0m     \u001b[38;5;28;01mif\u001b[39;00m \u001b[38;5;129;01mnot\u001b[39;00m \u001b[38;5;28misinstance\u001b[39m(s, (\u001b[38;5;28mbytes\u001b[39m, \u001b[38;5;28mbytearray\u001b[39m)):\n\u001b[0;32m--> 339\u001b[0m         \u001b[38;5;28;01mraise\u001b[39;00m \u001b[38;5;167;01mTypeError\u001b[39;00m(\u001b[38;5;124mf\u001b[39m\u001b[38;5;124m'\u001b[39m\u001b[38;5;124mthe JSON object must be str, bytes or bytearray, \u001b[39m\u001b[38;5;124m'\u001b[39m\n\u001b[1;32m    340\u001b[0m                         \u001b[38;5;124mf\u001b[39m\u001b[38;5;124m'\u001b[39m\u001b[38;5;124mnot \u001b[39m\u001b[38;5;132;01m{\u001b[39;00ms\u001b[38;5;241m.\u001b[39m\u001b[38;5;18m__class__\u001b[39m\u001b[38;5;241m.\u001b[39m\u001b[38;5;18m__name__\u001b[39m\u001b[38;5;132;01m}\u001b[39;00m\u001b[38;5;124m'\u001b[39m)\n\u001b[1;32m    341\u001b[0m     s \u001b[38;5;241m=\u001b[39m s\u001b[38;5;241m.\u001b[39mdecode(detect_encoding(s), \u001b[38;5;124m'\u001b[39m\u001b[38;5;124msurrogatepass\u001b[39m\u001b[38;5;124m'\u001b[39m)\n\u001b[1;32m    343\u001b[0m \u001b[38;5;28;01mif\u001b[39;00m (\u001b[38;5;28mcls\u001b[39m \u001b[38;5;129;01mis\u001b[39;00m \u001b[38;5;28;01mNone\u001b[39;00m \u001b[38;5;129;01mand\u001b[39;00m object_hook \u001b[38;5;129;01mis\u001b[39;00m \u001b[38;5;28;01mNone\u001b[39;00m \u001b[38;5;129;01mand\u001b[39;00m\n\u001b[1;32m    344\u001b[0m         parse_int \u001b[38;5;129;01mis\u001b[39;00m \u001b[38;5;28;01mNone\u001b[39;00m \u001b[38;5;129;01mand\u001b[39;00m parse_float \u001b[38;5;129;01mis\u001b[39;00m \u001b[38;5;28;01mNone\u001b[39;00m \u001b[38;5;129;01mand\u001b[39;00m\n\u001b[1;32m    345\u001b[0m         parse_constant \u001b[38;5;129;01mis\u001b[39;00m \u001b[38;5;28;01mNone\u001b[39;00m \u001b[38;5;129;01mand\u001b[39;00m object_pairs_hook \u001b[38;5;129;01mis\u001b[39;00m \u001b[38;5;28;01mNone\u001b[39;00m \u001b[38;5;129;01mand\u001b[39;00m \u001b[38;5;129;01mnot\u001b[39;00m kw):\n",
      "\u001b[0;31mTypeError\u001b[0m: the JSON object must be str, bytes or bytearray, not dict"
     ]
    }
   ],
   "source": [
    "from monty.json import MontyDecoder, MontyEncoder\n",
    "\n",
    "decoder = MontyDecoder()\n",
    "decoder.decode(function_response[0].dict())\n",
    "# encoder = MontyEncoder()\n",
    "# encoder.encode()\n",
    "# json.dumps(function_response[0])"
   ]
  },
  {
   "cell_type": "code",
   "execution_count": null,
   "id": "8053d321-0599-4f20-9ffa-e0464ec4f3ba",
   "metadata": {},
   "outputs": [],
   "source": []
  }
 ],
 "metadata": {
  "kernelspec": {
   "display_name": "dev",
   "language": "python",
   "name": "dev"
  },
  "language_info": {
   "codemirror_mode": {
    "name": "ipython",
    "version": 3
   },
   "file_extension": ".py",
   "mimetype": "text/x-python",
   "name": "python",
   "nbconvert_exporter": "python",
   "pygments_lexer": "ipython3",
   "version": "3.11.4"
  },
  "widgets": {
   "application/vnd.jupyter.widget-state+json": {
    "state": {
     "074325dedc404264a3f97288078e427f": {
      "model_module": "@jupyter-widgets/controls",
      "model_module_version": "1.5.0",
      "model_name": "HTMLModel",
      "state": {
       "layout": "IPY_MODEL_0c847adb506248efa7fa84df003c71d4",
       "style": "IPY_MODEL_d07b1473e64a4b88b8a93268a7ac91e1",
       "value": " 724/724 [00:00&lt;00:00, 116939.16it/s]"
      }
     },
     "089a9ca2df2e4bc881945a4132f359ff": {
      "model_module": "@jupyter-widgets/base",
      "model_module_version": "1.2.0",
      "model_name": "LayoutModel",
      "state": {}
     },
     "0c847adb506248efa7fa84df003c71d4": {
      "model_module": "@jupyter-widgets/base",
      "model_module_version": "1.2.0",
      "model_name": "LayoutModel",
      "state": {}
     },
     "1705f577a48e4c19b8df67383ef93a34": {
      "model_module": "@jupyter-widgets/controls",
      "model_module_version": "1.5.0",
      "model_name": "DescriptionStyleModel",
      "state": {
       "description_width": ""
      }
     },
     "192e308cf57744519142adc8eb12c15a": {
      "model_module": "@jupyter-widgets/controls",
      "model_module_version": "1.5.0",
      "model_name": "HBoxModel",
      "state": {
       "children": [
        "IPY_MODEL_afbc893150834db48ef8a7b02792cdec",
        "IPY_MODEL_f1d60d2a0ab24646a1728766fc8bfc18",
        "IPY_MODEL_5d2df4fc9a0748da9acc920ccf7edd0f"
       ],
       "layout": "IPY_MODEL_fee3dbaf7eaf4ed5a5e77c19da9b7f20"
      }
     },
     "22f801ecf9814712b279db0197e21004": {
      "model_module": "@jupyter-widgets/controls",
      "model_module_version": "1.5.0",
      "model_name": "DescriptionStyleModel",
      "state": {
       "description_width": ""
      }
     },
     "23ee44b0a53141a4919dcfb277cbbace": {
      "model_module": "@jupyter-widgets/base",
      "model_module_version": "1.2.0",
      "model_name": "LayoutModel",
      "state": {}
     },
     "2a43294d50244c9c9c1c32641b8856a3": {
      "model_module": "@jupyter-widgets/base",
      "model_module_version": "1.2.0",
      "model_name": "LayoutModel",
      "state": {}
     },
     "4fa1d1c39f6a450faba9e72eed4c7cc6": {
      "model_module": "@jupyter-widgets/controls",
      "model_module_version": "1.5.0",
      "model_name": "DescriptionStyleModel",
      "state": {
       "description_width": ""
      }
     },
     "50fa205178db417d93a771091914de2c": {
      "model_module": "@jupyter-widgets/base",
      "model_module_version": "1.2.0",
      "model_name": "LayoutModel",
      "state": {}
     },
     "52351a63e7e64dd3a7bc97047c0d4a19": {
      "model_module": "@jupyter-widgets/controls",
      "model_module_version": "1.5.0",
      "model_name": "ProgressStyleModel",
      "state": {
       "description_width": ""
      }
     },
     "55a319bc9bfe4bd5b1979fc4e93bae87": {
      "model_module": "@jupyter-widgets/controls",
      "model_module_version": "1.5.0",
      "model_name": "ProgressStyleModel",
      "state": {
       "description_width": ""
      }
     },
     "55ccf5e2ba5b4ecc816f5a2afb72b649": {
      "model_module": "@jupyter-widgets/controls",
      "model_module_version": "1.5.0",
      "model_name": "ProgressStyleModel",
      "state": {
       "description_width": ""
      }
     },
     "5d2df4fc9a0748da9acc920ccf7edd0f": {
      "model_module": "@jupyter-widgets/controls",
      "model_module_version": "1.5.0",
      "model_name": "HTMLModel",
      "state": {
       "layout": "IPY_MODEL_71277e97464746859692d39495e8699e",
       "style": "IPY_MODEL_dee396a9ca1e4e80917bacd48afc9d5b",
       "value": " 724/724 [00:00&lt;00:00, 122269.13it/s]"
      }
     },
     "688c2f5aed17428c9fa5a08df249c8e1": {
      "model_module": "@jupyter-widgets/base",
      "model_module_version": "1.2.0",
      "model_name": "LayoutModel",
      "state": {}
     },
     "70795a1755ca46c490210b6bba4723df": {
      "model_module": "@jupyter-widgets/base",
      "model_module_version": "1.2.0",
      "model_name": "LayoutModel",
      "state": {}
     },
     "71277e97464746859692d39495e8699e": {
      "model_module": "@jupyter-widgets/base",
      "model_module_version": "1.2.0",
      "model_name": "LayoutModel",
      "state": {}
     },
     "77f3f7c500c04c809f92e07c45c200e4": {
      "model_module": "@jupyter-widgets/base",
      "model_module_version": "1.2.0",
      "model_name": "LayoutModel",
      "state": {}
     },
     "79335148f8b541eabd8b7cfe25d88c3d": {
      "model_module": "@jupyter-widgets/controls",
      "model_module_version": "1.5.0",
      "model_name": "HBoxModel",
      "state": {
       "children": [
        "IPY_MODEL_ce6c4e680fee4c44b6194e67ed636bdd",
        "IPY_MODEL_c8c7dd5dc2bf4650bcdbaa34c86d164c",
        "IPY_MODEL_bf45aeaeb78b4596b3f8820230c8e468"
       ],
       "layout": "IPY_MODEL_89aca43a5b4d46d5b1ba68331c69f386"
      }
     },
     "79498c41863a4f1abfcd71839d519fda": {
      "model_module": "@jupyter-widgets/base",
      "model_module_version": "1.2.0",
      "model_name": "LayoutModel",
      "state": {}
     },
     "7c56f4a3f0444663b1de5e0c5f2c574a": {
      "model_module": "@jupyter-widgets/controls",
      "model_module_version": "1.5.0",
      "model_name": "HTMLModel",
      "state": {
       "layout": "IPY_MODEL_23ee44b0a53141a4919dcfb277cbbace",
       "style": "IPY_MODEL_c7d7876e1c114d6a8fdc9670e2caecef",
       "value": "Retrieving SummaryDoc documents: 100%"
      }
     },
     "89aca43a5b4d46d5b1ba68331c69f386": {
      "model_module": "@jupyter-widgets/base",
      "model_module_version": "1.2.0",
      "model_name": "LayoutModel",
      "state": {}
     },
     "89beb9b7f25645efaa064811e1f65b70": {
      "model_module": "@jupyter-widgets/base",
      "model_module_version": "1.2.0",
      "model_name": "LayoutModel",
      "state": {}
     },
     "96f17b363ef74b2b87198f965b4246d5": {
      "model_module": "@jupyter-widgets/controls",
      "model_module_version": "1.5.0",
      "model_name": "DescriptionStyleModel",
      "state": {
       "description_width": ""
      }
     },
     "99d93f7a0bfc453eaca9e89fc263de9d": {
      "model_module": "@jupyter-widgets/base",
      "model_module_version": "1.2.0",
      "model_name": "LayoutModel",
      "state": {}
     },
     "9f3c29d46c584613845a156ff93c4875": {
      "model_module": "@jupyter-widgets/controls",
      "model_module_version": "1.5.0",
      "model_name": "HBoxModel",
      "state": {
       "children": [
        "IPY_MODEL_7c56f4a3f0444663b1de5e0c5f2c574a",
        "IPY_MODEL_cd45c2aa40a143d7a9cf419d800831a1",
        "IPY_MODEL_074325dedc404264a3f97288078e427f"
       ],
       "layout": "IPY_MODEL_77f3f7c500c04c809f92e07c45c200e4"
      }
     },
     "a7b5138ca45e44fbb136259a7b26c231": {
      "model_module": "@jupyter-widgets/controls",
      "model_module_version": "1.5.0",
      "model_name": "HBoxModel",
      "state": {
       "children": [
        "IPY_MODEL_e69e66499aae40bea74a59e05dfcd714",
        "IPY_MODEL_d2089e1d028d41d2929ba1f944ebaa81",
        "IPY_MODEL_ea09b86e3dbb4e598b1d52071630732e"
       ],
       "layout": "IPY_MODEL_ac3a3f29adc847df9d4dc33ae93bd809"
      }
     },
     "ac3a3f29adc847df9d4dc33ae93bd809": {
      "model_module": "@jupyter-widgets/base",
      "model_module_version": "1.2.0",
      "model_name": "LayoutModel",
      "state": {}
     },
     "afbc893150834db48ef8a7b02792cdec": {
      "model_module": "@jupyter-widgets/controls",
      "model_module_version": "1.5.0",
      "model_name": "HTMLModel",
      "state": {
       "layout": "IPY_MODEL_2a43294d50244c9c9c1c32641b8856a3",
       "style": "IPY_MODEL_1705f577a48e4c19b8df67383ef93a34",
       "value": "Retrieving SummaryDoc documents: 100%"
      }
     },
     "bf45aeaeb78b4596b3f8820230c8e468": {
      "model_module": "@jupyter-widgets/controls",
      "model_module_version": "1.5.0",
      "model_name": "HTMLModel",
      "state": {
       "layout": "IPY_MODEL_50fa205178db417d93a771091914de2c",
       "style": "IPY_MODEL_e8797471f3f04b14b31ec604f3cc6277",
       "value": " 724/724 [00:00&lt;00:00, 129733.67it/s]"
      }
     },
     "c7d7876e1c114d6a8fdc9670e2caecef": {
      "model_module": "@jupyter-widgets/controls",
      "model_module_version": "1.5.0",
      "model_name": "DescriptionStyleModel",
      "state": {
       "description_width": ""
      }
     },
     "c8c7dd5dc2bf4650bcdbaa34c86d164c": {
      "model_module": "@jupyter-widgets/controls",
      "model_module_version": "1.5.0",
      "model_name": "FloatProgressModel",
      "state": {
       "bar_style": "success",
       "layout": "IPY_MODEL_688c2f5aed17428c9fa5a08df249c8e1",
       "max": 724,
       "style": "IPY_MODEL_52351a63e7e64dd3a7bc97047c0d4a19",
       "value": 724
      }
     },
     "cd45c2aa40a143d7a9cf419d800831a1": {
      "model_module": "@jupyter-widgets/controls",
      "model_module_version": "1.5.0",
      "model_name": "FloatProgressModel",
      "state": {
       "bar_style": "success",
       "layout": "IPY_MODEL_99d93f7a0bfc453eaca9e89fc263de9d",
       "max": 724,
       "style": "IPY_MODEL_55ccf5e2ba5b4ecc816f5a2afb72b649",
       "value": 724
      }
     },
     "ce6c4e680fee4c44b6194e67ed636bdd": {
      "model_module": "@jupyter-widgets/controls",
      "model_module_version": "1.5.0",
      "model_name": "HTMLModel",
      "state": {
       "layout": "IPY_MODEL_70795a1755ca46c490210b6bba4723df",
       "style": "IPY_MODEL_22f801ecf9814712b279db0197e21004",
       "value": "Retrieving SummaryDoc documents: 100%"
      }
     },
     "d07b1473e64a4b88b8a93268a7ac91e1": {
      "model_module": "@jupyter-widgets/controls",
      "model_module_version": "1.5.0",
      "model_name": "DescriptionStyleModel",
      "state": {
       "description_width": ""
      }
     },
     "d2089e1d028d41d2929ba1f944ebaa81": {
      "model_module": "@jupyter-widgets/controls",
      "model_module_version": "1.5.0",
      "model_name": "FloatProgressModel",
      "state": {
       "bar_style": "success",
       "layout": "IPY_MODEL_089a9ca2df2e4bc881945a4132f359ff",
       "max": 724,
       "style": "IPY_MODEL_d42898367e1f4546af77ed2653ce4c1e",
       "value": 724
      }
     },
     "d42898367e1f4546af77ed2653ce4c1e": {
      "model_module": "@jupyter-widgets/controls",
      "model_module_version": "1.5.0",
      "model_name": "ProgressStyleModel",
      "state": {
       "description_width": ""
      }
     },
     "dee396a9ca1e4e80917bacd48afc9d5b": {
      "model_module": "@jupyter-widgets/controls",
      "model_module_version": "1.5.0",
      "model_name": "DescriptionStyleModel",
      "state": {
       "description_width": ""
      }
     },
     "e69e66499aae40bea74a59e05dfcd714": {
      "model_module": "@jupyter-widgets/controls",
      "model_module_version": "1.5.0",
      "model_name": "HTMLModel",
      "state": {
       "layout": "IPY_MODEL_79498c41863a4f1abfcd71839d519fda",
       "style": "IPY_MODEL_96f17b363ef74b2b87198f965b4246d5",
       "value": "Retrieving SummaryDoc documents: 100%"
      }
     },
     "e8797471f3f04b14b31ec604f3cc6277": {
      "model_module": "@jupyter-widgets/controls",
      "model_module_version": "1.5.0",
      "model_name": "DescriptionStyleModel",
      "state": {
       "description_width": ""
      }
     },
     "ea09b86e3dbb4e598b1d52071630732e": {
      "model_module": "@jupyter-widgets/controls",
      "model_module_version": "1.5.0",
      "model_name": "HTMLModel",
      "state": {
       "layout": "IPY_MODEL_89beb9b7f25645efaa064811e1f65b70",
       "style": "IPY_MODEL_4fa1d1c39f6a450faba9e72eed4c7cc6",
       "value": " 724/724 [00:00&lt;00:00, 121142.38it/s]"
      }
     },
     "ec0cd30a304849db92a7542038065e3f": {
      "model_module": "@jupyter-widgets/base",
      "model_module_version": "1.2.0",
      "model_name": "LayoutModel",
      "state": {}
     },
     "f1d60d2a0ab24646a1728766fc8bfc18": {
      "model_module": "@jupyter-widgets/controls",
      "model_module_version": "1.5.0",
      "model_name": "FloatProgressModel",
      "state": {
       "bar_style": "success",
       "layout": "IPY_MODEL_ec0cd30a304849db92a7542038065e3f",
       "max": 724,
       "style": "IPY_MODEL_55a319bc9bfe4bd5b1979fc4e93bae87",
       "value": 724
      }
     },
     "fee3dbaf7eaf4ed5a5e77c19da9b7f20": {
      "model_module": "@jupyter-widgets/base",
      "model_module_version": "1.2.0",
      "model_name": "LayoutModel",
      "state": {}
     }
    },
    "version_major": 2,
    "version_minor": 0
   }
  }
 },
 "nbformat": 4,
 "nbformat_minor": 5
}
