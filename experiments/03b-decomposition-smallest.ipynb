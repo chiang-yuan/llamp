{
 "cells": [
  {
   "cell_type": "code",
   "execution_count": 1,
   "metadata": {},
   "outputs": [],
   "source": [
    "import os\n",
    "\n",
    "from dotenv import load_dotenv\n",
    "from langchain import hub\n",
    "from langchain.agents import AgentExecutor, AgentType, initialize_agent, load_tools\n",
    "from langchain.agents.format_scratchpad import format_log_to_str\n",
    "from langchain.agents.output_parsers import (\n",
    "    JSONAgentOutputParser,\n",
    "    ReActSingleInputOutputParser,\n",
    ")\n",
    "from langchain.chains.conversation.memory import ConversationBufferWindowMemory\n",
    "from langchain.chat_models import ChatOpenAI\n",
    "from langchain.llms import OpenAI\n",
    "from langchain.tools import ArxivQueryRun, WikipediaQueryRun, tool\n",
    "from langchain.tools.render import render_text_description_and_args, format_tool_to_openai_function\n",
    "from langchain.utilities import ArxivAPIWrapper, WikipediaAPIWrapper\n",
    "from langchain.prompts import MessagesPlaceholder\n",
    "from langchain.schema import ChatMessage, SystemMessage\n",
    "\n",
    "from pymatgen.core.periodic_table import _pt_data\n",
    "\n",
    "from llamp.mp.agents import (\n",
    "    MPSummaryExpert,\n",
    "    MPThermoExpert,\n",
    "    MPElasticityExpert,\n",
    "    MPDielectricExpert,\n",
    "    MPPiezoelectricExpert,\n",
    "    MPMagnetismExpert,\n",
    "    MPElectronicExpert,\n",
    "    MPSynthesisExpert\n",
    ")\n",
    "from llamp.arxiv.agents import ArxivAgent\n",
    "\n",
    "load_dotenv()\n",
    "\n",
    "OPENAI_API_KEY = os.getenv(\"OPENAI_API_KEY\", None)\n",
    "\n",
    "# OPENAI_GPT_MODEL = \"gpt-4-1106-preview\"\n",
    "OPENAI_GPT_MODEL = \"gpt-3.5-turbo-1106\""
   ]
  },
  {
   "cell_type": "code",
   "execution_count": 2,
   "metadata": {},
   "outputs": [
    {
     "name": "stderr",
     "output_type": "stream",
     "text": [
      "/home/cyrus/miniconda3/envs/llamp/lib/python3.11/site-packages/mp_api/client/mprester.py:230: UserWarning: mpcontribs-client not installed. Install the package to query MPContribs data, or construct pourbaix diagrams: 'pip install mpcontribs-client'\n",
      "  warnings.warn(\n"
     ]
    }
   ],
   "source": [
    "import re\n",
    "\n",
    "mp_llm = ChatOpenAI(\n",
    "    temperature=0.2,\n",
    "    model=\"gpt-4-1106-preview\",\n",
    "    openai_api_key=OPENAI_API_KEY,\n",
    "    openai_organization=None,\n",
    "    max_retries=5,\n",
    "    # streaming=True\n",
    ")\n",
    "\n",
    "llm = ChatOpenAI(\n",
    "    temperature=0.7,\n",
    "    model=\"gpt-4\",\n",
    "    openai_api_key=OPENAI_API_KEY,\n",
    "    openai_organization=None,\n",
    "    # streaming=True\n",
    ")\n",
    "\n",
    "wikipedia = WikipediaQueryRun(api_wrapper=WikipediaAPIWrapper())\n",
    "arxiv = ArxivQueryRun(api_wrapper=ArxivAPIWrapper())\n",
    "\n",
    "tools = [\n",
    "    MPThermoExpert(llm=mp_llm).as_tool(agent_kwargs=dict(return_intermediate_steps=False)),\n",
    "    MPElasticityExpert(llm=mp_llm).as_tool(agent_kwargs=dict(return_intermediate_steps=False)),\n",
    "    MPDielectricExpert(llm=mp_llm).as_tool(agent_kwargs=dict(return_intermediate_steps=False)),\n",
    "    MPMagnetismExpert(llm=mp_llm).as_tool(agent_kwargs=dict(return_intermediate_steps=False)),\n",
    "    MPElectronicExpert(llm=mp_llm).as_tool(agent_kwargs=dict(return_intermediate_steps=False)),\n",
    "    MPSummaryExpert(llm=mp_llm).as_tool(agent_kwargs=dict(return_intermediate_steps=False)),\n",
    "    MPSynthesisExpert(llm=mp_llm).as_tool(agent_kwargs=dict(return_intermediate_steps=False)),\n",
    "    ArxivAgent(llm=mp_llm).as_tool(agent_kwargs=dict(return_intermediate_steps=False)),\n",
    "    # arxiv,\n",
    "    # wikipedia,\n",
    "]\n",
    "\n",
    "prompt = hub.pull(\"hwchase17/react-multi-input-json\")\n",
    "prompt.messages[0].prompt.template = re.sub(\n",
    "    r\"\\s+\", \" \",\n",
    "    \"\"\"You are a data-aware agent that can consult materials-related\n",
    "    data through Materials Project (MP) database, arXiv, and Wikipedia. Ask \n",
    "    user to clarify their queries if needed. Please note that you don't have \n",
    "    direct control over MP but through multiple assistant agents to help you. \n",
    "    You need to provide complete context in the input for them to do their job.\n",
    "    \"\"\").replace(\"\\n\", \" \") + prompt.messages[0].prompt.template\n",
    "\n",
    "prompt = prompt.partial(\n",
    "    tools=render_text_description_and_args(tools),\n",
    "    tool_names=\", \".join([t.name for t in tools]),\n",
    ")\n",
    "\n",
    "agent = (\n",
    "    {\n",
    "        \"input\": lambda x: x[\"input\"],\n",
    "        \"agent_scratchpad\": lambda x: format_log_to_str(x[\"intermediate_steps\"]),\n",
    "    }\n",
    "    | prompt\n",
    "    | llm.bind(stop=[\"Observation\"])\n",
    "    # | map_reduce_chain  # TODO: Add map-reduce after LLM\n",
    "    | JSONAgentOutputParser()\n",
    ")\n",
    "\n",
    "\n",
    "conversational_memory = ConversationBufferWindowMemory(\n",
    "    memory_key='chat_history',\n",
    "    k=5,\n",
    "    return_messages=True\n",
    ")\n",
    "\n",
    "agent_kwargs = {\n",
    "    \"handle_parsing_errors\": True,\n",
    "    \"extra_prompt_messages\": [\n",
    "        MessagesPlaceholder(variable_name=\"chat_history\"),\n",
    "        # SystemMessage(content=re.sub(\n",
    "        #     r\"\\s+\", \" \",\n",
    "        #     \"\"\"You are a helpful data-aware agent that can consult materials-related\n",
    "        #     data through Materials Project (MP) database, arXiv, and Wikipedia. Ask \n",
    "        #     user to clarify their queries if needed. Please note that you don't have \n",
    "        #     direct control to MP but through multiple assistant agents to help you. \n",
    "        #     You need to provide complete context for them to do their job. \n",
    "        #     \"\"\").replace(\"\\n\", \" \")\n",
    "        # )\n",
    "        ],\n",
    "    # \"early_stopping_method\": 'generate',\n",
    "    # \"extra_prompt_messages\": \n",
    "    # )\n",
    "}\n",
    "\n",
    "agent_executor = initialize_agent(\n",
    "    agent=AgentType.STRUCTURED_CHAT_ZERO_SHOT_REACT_DESCRIPTION,\n",
    "    tools=tools,\n",
    "    llm=llm,\n",
    "    verbose=True,\n",
    "    max_iterations=20,\n",
    "    memory=conversational_memory,\n",
    "    agent_kwargs=agent_kwargs,\n",
    "    handle_parsing_errors=True,\n",
    ")\n",
    "\n",
    "# agent_executor = initialize_agent(\n",
    "#     tools=tools,\n",
    "#     llm=llm,\n",
    "#     agent=AgentType.ZERO_SHOT_REACT_DESCRIPTION,\n",
    "#     verbose=True,\n",
    "#     max_iterations=5,\n",
    "# )"
   ]
  },
  {
   "cell_type": "code",
   "execution_count": 3,
   "metadata": {},
   "outputs": [
    {
     "name": "stdout",
     "output_type": "stream",
     "text": [
      "\n",
      "\n",
      "\u001b[1m> Entering new AgentExecutor chain...\u001b[0m\n",
      "\u001b[32;1m\u001b[1;3mAction:\n",
      "```\n",
      "{\n",
      "  \"action\": \"MPThermoExpert\",\n",
      "  \"action_input\": \"What are the decomposition enthalpies of Ag2O3, MgZn2, GaAs, GaN, SiC, BN, InSe, MoS2, BaTiO3, CsPbI3?\"\n",
      "}\n",
      "```\u001b[0m\n",
      "\n",
      "\u001b[1m> Entering new AgentExecutor chain...\u001b[0m\n"
     ]
    },
    {
     "name": "stderr",
     "output_type": "stream",
     "text": [
      "/home/cyrus/miniconda3/envs/llamp/lib/python3.11/site-packages/mp_api/client/mprester.py:230: UserWarning: mpcontribs-client not installed. Install the package to query MPContribs data, or construct pourbaix diagrams: 'pip install mpcontribs-client'\n",
      "  warnings.warn(\n",
      "/home/cyrus/miniconda3/envs/llamp/lib/python3.11/site-packages/mp_api/client/mprester.py:230: UserWarning: mpcontribs-client not installed. Install the package to query MPContribs data, or construct pourbaix diagrams: 'pip install mpcontribs-client'\n",
      "  warnings.warn(\n"
     ]
    },
    {
     "name": "stdout",
     "output_type": "stream",
     "text": [
      "\u001b[32;1m\u001b[1;3mAction:\n",
      "```\n",
      "{\n",
      "  \"action\": \"search_materials_thermo__get\",\n",
      "  \"action_input\": {\n",
      "    \"formula\": \"Ag2O3,MgZn2,GaAs,GaN,SiC,BN,InSe,MoS2,BaTiO3,CsPbI3\",\n",
      "    \"fields\": \"formula_pretty,decomposition_enthalpy\",\n",
      "    \"limit\": 10\n",
      "  }\n",
      "}\n",
      "```\u001b[0m{\"formula\": \"Ag2O3,MgZn2,GaAs,GaN,SiC,BN,InSe,MoS2,BaTiO3,CsPbI3\", \"limit\": 10, \"fields\": \"formula_pretty,decomposition_enthalpy\"}\n"
     ]
    },
    {
     "data": {
      "application/vnd.jupyter.widget-view+json": {
       "model_id": "512568fc39e344b4940a0c5ae137b23f",
       "version_major": 2,
       "version_minor": 0
      },
      "text/plain": [
       "Retrieving ThermoDoc documents:   0%|          | 0/375 [00:00<?, ?it/s]"
      ]
     },
     "metadata": {},
     "output_type": "display_data"
    },
    {
     "name": "stdout",
     "output_type": "stream",
     "text": [
      "\u001b[36;1m\u001b[1;3m[{'formula_pretty': 'BN', 'decomposition_enthalpy': -1.4072748981250012}, {'formula_pretty': 'BN', 'decomposition_enthalpy': -0.9720448369070542}, {'formula_pretty': 'BN', 'decomposition_enthalpy': -1.1358175223237197}, {'formula_pretty': 'BN', 'decomposition_enthalpy': -1.4116915706250008}, {'formula_pretty': 'BN', 'decomposition_enthalpy': -1.1790629660737206}, {'formula_pretty': 'BN', 'decomposition_enthalpy': -0.6075890986737207}, {'formula_pretty': 'BN', 'decomposition_enthalpy': -0.3575749482737205}, {'formula_pretty': 'BN', 'decomposition_enthalpy': -1.272021661073719}, {'formula_pretty': 'BN', 'decomposition_enthalpy': -1.2660621935737186}, {'formula_pretty': 'BN', 'decomposition_enthalpy': -0.4984053038307703}]\u001b[0m\u001b[32;1m\u001b[1;3mAction:\n",
      "```\n",
      "{\n",
      "  \"action\": \"Final Answer\",\n",
      "  \"action_input\": \"The decomposition enthalpies for the requested compounds are as follows: BN has multiple values ranging from approximately -0.36 to -1.41 eV/atom. The decomposition enthalpies for the other compounds were not provided in the search results.\"\n",
      "}\n",
      "```\u001b[0m\n",
      "\n",
      "\u001b[1m> Finished chain.\u001b[0m\n",
      "\n",
      "Observation: \u001b[36;1m\u001b[1;3m{'input': 'What are the decomposition enthalpies of Ag2O3, MgZn2, GaAs, GaN, SiC, BN, InSe, MoS2, BaTiO3, CsPbI3?', 'output': 'The decomposition enthalpies for the requested compounds are as follows: BN has multiple values ranging from approximately -0.36 to -1.41 eV/atom. The decomposition enthalpies for the other compounds were not provided in the search results.'}\u001b[0m\n",
      "Thought:\u001b[32;1m\u001b[1;3mFrom the previous observation, we have data for only one material, BN, which has multiple values ranging from approximately -0.36 to -1.41 eV/atom. We do not have data for the other materials. Therefore, to retrieve the decomposition enthalpies for the other materials, I will need to make individual searches for each.\n",
      "\n",
      "Let's start with Ag2O3. I will use the MPThermoExpert tool to get this information.\n",
      "Action:\n",
      "```\n",
      "{\n",
      "  \"action\": \"MPThermoExpert\",\n",
      "  \"action_input\": \"What is the decomposition enthalpy of Ag2O3?\"\n",
      "}\n",
      "```\u001b[0m\n",
      "\n",
      "\u001b[1m> Entering new AgentExecutor chain...\u001b[0m\n"
     ]
    },
    {
     "name": "stderr",
     "output_type": "stream",
     "text": [
      "/home/cyrus/miniconda3/envs/llamp/lib/python3.11/site-packages/mp_api/client/mprester.py:230: UserWarning: mpcontribs-client not installed. Install the package to query MPContribs data, or construct pourbaix diagrams: 'pip install mpcontribs-client'\n",
      "  warnings.warn(\n",
      "/home/cyrus/miniconda3/envs/llamp/lib/python3.11/site-packages/mp_api/client/mprester.py:230: UserWarning: mpcontribs-client not installed. Install the package to query MPContribs data, or construct pourbaix diagrams: 'pip install mpcontribs-client'\n",
      "  warnings.warn(\n"
     ]
    },
    {
     "name": "stdout",
     "output_type": "stream",
     "text": [
      "\u001b[32;1m\u001b[1;3mAction:\n",
      "```\n",
      "{\n",
      "  \"action\": \"search_materials_thermo__get\",\n",
      "  \"action_input\": {\n",
      "    \"formula\": \"Ag2O3\",\n",
      "    \"fields\": \"material_id,decomposition_enthalpy\"\n",
      "  }\n",
      "}\n",
      "```\u001b[0m{\"formula\": \"Ag2O3\", \"fields\": \"material_id,decomposition_enthalpy\"}\n"
     ]
    },
    {
     "data": {
      "application/vnd.jupyter.widget-view+json": {
       "model_id": "6f5b83bd24724e628aba49d172f7d741",
       "version_major": 2,
       "version_minor": 0
      },
      "text/plain": [
       "Retrieving ThermoDoc documents:   0%|          | 0/7 [00:00<?, ?it/s]"
      ]
     },
     "metadata": {},
     "output_type": "display_data"
    },
    {
     "name": "stdout",
     "output_type": "stream",
     "text": [
      "\u001b[36;1m\u001b[1;3m[{'material_id': 'mp-546190', 'decomposition_enthalpy': 0.019745315499998917}, {'material_id': 'mp-546190', 'decomposition_enthalpy': 0.019373648083333528}, {'material_id': 'mp-11872', 'decomposition_enthalpy': 0.1896089910833334}, {'material_id': 'mp-546190', 'decomposition_enthalpy': 0.07069883200000149}, {'material_id': 'mp-1046809', 'decomposition_enthalpy': 0.2562119740833335}, {'material_id': 'mp-11872', 'decomposition_enthalpy': 0.1899806584999988}, {'material_id': 'mp-1046809', 'decomposition_enthalpy': 0.2565836414999989}]\u001b[0m\u001b[32;1m\u001b[1;3mAction:\n",
      "```\n",
      "{\n",
      "  \"action\": \"Final Answer\",\n",
      "  \"action_input\": \"The decomposition enthalpy of Ag2O3 varies depending on the specific material entry. Here are some values for different entries of Ag2O3 on the Materials Project: 0.019745315499998917 eV/atom (mp-546190), 0.019373648083333528 eV/atom (mp-546190), 0.1896089910833334 eV/atom (mp-11872), 0.07069883200000149 eV/atom (mp-546190), 0.2562119740833335 eV/atom (mp-1046809), 0.1899806584999988 eV/atom (mp-11872), 0.2565836414999989 eV/atom (mp-1046809).\"\n",
      "}\n",
      "```\u001b[0m\n",
      "\n",
      "\u001b[1m> Finished chain.\u001b[0m\n",
      "\n",
      "Observation: \u001b[36;1m\u001b[1;3m{'input': 'What is the decomposition enthalpy of Ag2O3?', 'output': 'The decomposition enthalpy of Ag2O3 varies depending on the specific material entry. Here are some values for different entries of Ag2O3 on the Materials Project: 0.019745315499998917 eV/atom (mp-546190), 0.019373648083333528 eV/atom (mp-546190), 0.1896089910833334 eV/atom (mp-11872), 0.07069883200000149 eV/atom (mp-546190), 0.2562119740833335 eV/atom (mp-1046809), 0.1899806584999988 eV/atom (mp-11872), 0.2565836414999989 eV/atom (mp-1046809).'}\u001b[0m\n",
      "Thought:\u001b[32;1m\u001b[1;3mWe have obtained the decomposition enthalpy for Ag2O3 from the MPThermoExpert tool. The values vary depending on the specific material entry. The smallest value is 0.019373648083333528 eV/atom (mp-546190).\n",
      "\n",
      "Next, let's find the decomposition enthalpy for MgZn2.\n",
      "Action:\n",
      "```\n",
      "{\n",
      "  \"action\": \"MPThermoExpert\",\n",
      "  \"action_input\": \"What is the decomposition enthalpy of MgZn2?\"\n",
      "}\n",
      "```\u001b[0m\n",
      "\n",
      "\u001b[1m> Entering new AgentExecutor chain...\u001b[0m\n"
     ]
    },
    {
     "name": "stderr",
     "output_type": "stream",
     "text": [
      "/home/cyrus/miniconda3/envs/llamp/lib/python3.11/site-packages/mp_api/client/mprester.py:230: UserWarning: mpcontribs-client not installed. Install the package to query MPContribs data, or construct pourbaix diagrams: 'pip install mpcontribs-client'\n",
      "  warnings.warn(\n",
      "/home/cyrus/miniconda3/envs/llamp/lib/python3.11/site-packages/mp_api/client/mprester.py:230: UserWarning: mpcontribs-client not installed. Install the package to query MPContribs data, or construct pourbaix diagrams: 'pip install mpcontribs-client'\n",
      "  warnings.warn(\n"
     ]
    },
    {
     "name": "stdout",
     "output_type": "stream",
     "text": [
      "\u001b[32;1m\u001b[1;3mAction:\n",
      "```\n",
      "{\n",
      "  \"action\": \"search_materials_thermo__get\",\n",
      "  \"action_input\": {\n",
      "    \"formula\": \"MgZn2\",\n",
      "    \"fields\": \"material_id,formula_pretty,decomposition_enthalpy\"\n",
      "  }\n",
      "}\n",
      "```\u001b[0m{\"formula\": \"MgZn2\", \"fields\": \"material_id,formula_pretty,decomposition_enthalpy\"}\n"
     ]
    },
    {
     "data": {
      "application/vnd.jupyter.widget-view+json": {
       "model_id": "dbe6ff3ef9994739ace0c45794096abe",
       "version_major": 2,
       "version_minor": 0
      },
      "text/plain": [
       "Retrieving ThermoDoc documents:   0%|          | 0/37 [00:00<?, ?it/s]"
      ]
     },
     "metadata": {},
     "output_type": "display_data"
    },
    {
     "name": "stdout",
     "output_type": "stream",
     "text": [
      "\u001b[36;1m\u001b[1;3m[{'formula_pretty': 'MgZn2', 'material_id': 'mp-1094198', 'decomposition_enthalpy': 0.06060323477037022}, {'formula_pretty': 'MgZn2', 'material_id': 'mp-1094504', 'decomposition_enthalpy': 0.11442287643703675}, {'formula_pretty': 'MgZn2', 'material_id': 'mp-1094426', 'decomposition_enthalpy': 0.13555632977037013}, {'formula_pretty': 'MgZn2', 'material_id': 'mp-1094456', 'decomposition_enthalpy': 0.11125203310370368}, {'formula_pretty': 'MgZn2', 'material_id': 'mp-1094191', 'decomposition_enthalpy': 0.08976933810370347}, {'formula_pretty': 'MgZn2', 'material_id': 'mp-1094436', 'decomposition_enthalpy': 0.13447727143703703}, {'formula_pretty': 'MgZn2', 'material_id': 'mp-1094492', 'decomposition_enthalpy': 0.1077406364370368}, {'formula_pretty': 'MgZn2', 'material_id': 'mp-1094460', 'decomposition_enthalpy': 0.11613992810370344}, {'formula_pretty': 'MgZn2', 'material_id': 'mp-978269', 'decomposition_enthalpy': -0.012146315229628168}, {'formula_pretty': 'MgZn2', 'material_id': 'mp-1124', 'decomposition_enthalpy': -0.019741910229628568}]\u001b[0m\u001b[32;1m\u001b[1;3mAction:\n",
      "```\n",
      "{\n",
      "  \"action\": \"Final Answer\",\n",
      "  \"action_input\": \"The decomposition enthalpy of MgZn2 varies depending on the specific material entry. Here are some values for different entries of MgZn2 on the Materials Project: mp-1094198: 0.0606 eV/atom, mp-1094504: 0.1144 eV/atom, mp-1094426: 0.1356 eV/atom, mp-1094456: 0.1113 eV/atom, mp-1094191: 0.0898 eV/atom, mp-1094436: 0.1345 eV/atom, mp-1094492: 0.1077 eV/atom, mp-1094460: 0.1161 eV/atom, mp-978269: -0.0121 eV/atom, mp-1124: -0.0197 eV/atom.\"\n",
      "}\n",
      "```\u001b[0m\n",
      "\n",
      "\u001b[1m> Finished chain.\u001b[0m\n",
      "\n",
      "Observation: \u001b[36;1m\u001b[1;3m{'input': 'What is the decomposition enthalpy of MgZn2?', 'output': 'The decomposition enthalpy of MgZn2 varies depending on the specific material entry. Here are some values for different entries of MgZn2 on the Materials Project: mp-1094198: 0.0606 eV/atom, mp-1094504: 0.1144 eV/atom, mp-1094426: 0.1356 eV/atom, mp-1094456: 0.1113 eV/atom, mp-1094191: 0.0898 eV/atom, mp-1094436: 0.1345 eV/atom, mp-1094492: 0.1077 eV/atom, mp-1094460: 0.1161 eV/atom, mp-978269: -0.0121 eV/atom, mp-1124: -0.0197 eV/atom.'}\u001b[0m\n",
      "Thought:\u001b[32;1m\u001b[1;3mThe decomposition enthalpy for MgZn2 varies depending on the specific material entry. The smallest value is -0.0197 eV/atom (mp-1124).\n",
      "\n",
      "Next, I will find the decomposition enthalpy for GaAs.\n",
      "Action:\n",
      "```\n",
      "{\n",
      "  \"action\": \"MPThermoExpert\",\n",
      "  \"action_input\": \"What is the decomposition enthalpy of GaAs?\"\n",
      "}\n",
      "```\u001b[0m\n",
      "\n",
      "\u001b[1m> Entering new AgentExecutor chain...\u001b[0m\n"
     ]
    },
    {
     "name": "stderr",
     "output_type": "stream",
     "text": [
      "/home/cyrus/miniconda3/envs/llamp/lib/python3.11/site-packages/mp_api/client/mprester.py:230: UserWarning: mpcontribs-client not installed. Install the package to query MPContribs data, or construct pourbaix diagrams: 'pip install mpcontribs-client'\n",
      "  warnings.warn(\n",
      "/home/cyrus/miniconda3/envs/llamp/lib/python3.11/site-packages/mp_api/client/mprester.py:230: UserWarning: mpcontribs-client not installed. Install the package to query MPContribs data, or construct pourbaix diagrams: 'pip install mpcontribs-client'\n",
      "  warnings.warn(\n"
     ]
    },
    {
     "name": "stdout",
     "output_type": "stream",
     "text": [
      "\u001b[32;1m\u001b[1;3mAction:\n",
      "```\n",
      "{\n",
      "  \"action\": \"search_materials_thermo__get\",\n",
      "  \"action_input\": {\n",
      "    \"formula\": \"GaAs\",\n",
      "    \"fields\": \"material_id,formula_pretty,decomposition_enthalpy\"\n",
      "  }\n",
      "}\n",
      "```\u001b[0m{\"formula\": \"GaAs\", \"fields\": \"material_id,formula_pretty,decomposition_enthalpy\"}\n"
     ]
    },
    {
     "data": {
      "application/vnd.jupyter.widget-view+json": {
       "model_id": "e8b622bea6404e78acde9fef61662eb0",
       "version_major": 2,
       "version_minor": 0
      },
      "text/plain": [
       "Retrieving ThermoDoc documents:   0%|          | 0/28 [00:00<?, ?it/s]"
      ]
     },
     "metadata": {},
     "output_type": "display_data"
    },
    {
     "name": "stdout",
     "output_type": "stream",
     "text": [
      "\u001b[36;1m\u001b[1;3m[{'formula_pretty': 'GaAs', 'material_id': 'mp-1245274', 'decomposition_enthalpy': -0.018212712649999574}, {'formula_pretty': 'GaAs', 'material_id': 'mp-2362466', 'decomposition_enthalpy': -0.09357818125000072}, {'formula_pretty': 'GaAs', 'material_id': 'mp-1245314', 'decomposition_enthalpy': -0.03643588125000008}, {'formula_pretty': 'GaAs', 'material_id': 'mp-2534', 'decomposition_enthalpy': -0.44627705625000047}, {'formula_pretty': 'GaAs', 'material_id': 'mp-1245274', 'decomposition_enthalpy': 0.07554670735000002}, {'formula_pretty': 'GaAs', 'material_id': 'mp-8883', 'decomposition_enthalpy': -0.4408126312500009}, {'formula_pretty': 'GaAs', 'material_id': 'mp-1245074', 'decomposition_enthalpy': 0.06000199795000016}, {'formula_pretty': 'GaAs', 'material_id': 'mp-603640', 'decomposition_enthalpy': -0.09816429625000112}, {'formula_pretty': 'GaAs', 'material_id': 'mp-1244999', 'decomposition_enthalpy': 0.014016871649999985}, {'formula_pretty': 'GaAs', 'material_id': 'mp-1244899', 'decomposition_enthalpy': -0.03577590605000225}]\u001b[0m\u001b[32;1m\u001b[1;3mAction:\n",
      "```\n",
      "{\n",
      "  \"action\": \"Final Answer\",\n",
      "  \"action_input\": \"The decomposition enthalpy of GaAs varies depending on the specific material entry. Here are some values for different entries of GaAs on Materials Project: -0.018 eV/atom, -0.094 eV/atom, -0.036 eV/atom, -0.446 eV/atom, 0.076 eV/atom, -0.441 eV/atom, 0.060 eV/atom, -0.098 eV/atom, 0.014 eV/atom, -0.036 eV/atom.\"\n",
      "}\n",
      "```\u001b[0m\n",
      "\n",
      "\u001b[1m> Finished chain.\u001b[0m\n",
      "\n",
      "Observation: \u001b[36;1m\u001b[1;3m{'input': 'What is the decomposition enthalpy of GaAs?', 'output': 'The decomposition enthalpy of GaAs varies depending on the specific material entry. Here are some values for different entries of GaAs on Materials Project: -0.018 eV/atom, -0.094 eV/atom, -0.036 eV/atom, -0.446 eV/atom, 0.076 eV/atom, -0.441 eV/atom, 0.060 eV/atom, -0.098 eV/atom, 0.014 eV/atom, -0.036 eV/atom.'}\u001b[0m\n",
      "Thought:\u001b[32;1m\u001b[1;3mThe decomposition enthalpy for GaAs varies depending on the specific material entry. The smallest value is -0.446 eV/atom.\n",
      "\n",
      "Next, I will find the decomposition enthalpy for GaN.\n",
      "Action:\n",
      "```\n",
      "{\n",
      "  \"action\": \"MPThermoExpert\",\n",
      "  \"action_input\": \"What is the decomposition enthalpy of GaN?\"\n",
      "}\n",
      "```\u001b[0m\n",
      "\n",
      "\u001b[1m> Entering new AgentExecutor chain...\u001b[0m\n"
     ]
    },
    {
     "name": "stderr",
     "output_type": "stream",
     "text": [
      "/home/cyrus/miniconda3/envs/llamp/lib/python3.11/site-packages/mp_api/client/mprester.py:230: UserWarning: mpcontribs-client not installed. Install the package to query MPContribs data, or construct pourbaix diagrams: 'pip install mpcontribs-client'\n",
      "  warnings.warn(\n",
      "/home/cyrus/miniconda3/envs/llamp/lib/python3.11/site-packages/mp_api/client/mprester.py:230: UserWarning: mpcontribs-client not installed. Install the package to query MPContribs data, or construct pourbaix diagrams: 'pip install mpcontribs-client'\n",
      "  warnings.warn(\n"
     ]
    },
    {
     "name": "stdout",
     "output_type": "stream",
     "text": [
      "\u001b[32;1m\u001b[1;3mAction:\n",
      "```\n",
      "{\n",
      "  \"action\": \"search_materials_thermo__get\",\n",
      "  \"action_input\": {\n",
      "    \"formula\": \"GaN\",\n",
      "    \"fields\": \"material_id,formula_pretty,decomposition_enthalpy\"\n",
      "  }\n",
      "}\n",
      "```\u001b[0m{\"formula\": \"GaN\", \"fields\": \"material_id,formula_pretty,decomposition_enthalpy\"}\n"
     ]
    },
    {
     "data": {
      "application/vnd.jupyter.widget-view+json": {
       "model_id": "5e132d73f70b453f9072ffa7f05a848a",
       "version_major": 2,
       "version_minor": 0
      },
      "text/plain": [
       "Retrieving ThermoDoc documents:   0%|          | 0/90 [00:00<?, ?it/s]"
      ]
     },
     "metadata": {},
     "output_type": "display_data"
    },
    {
     "name": "stdout",
     "output_type": "stream",
     "text": [
      "\u001b[36;1m\u001b[1;3m[{'formula_pretty': 'GaN', 'material_id': 'mp-1245069', 'decomposition_enthalpy': 0.010410069625001128}, {'formula_pretty': 'GaN', 'material_id': 'mp-1244984', 'decomposition_enthalpy': 0.07162439492500106}, {'formula_pretty': 'GaN', 'material_id': 'mp-1244934', 'decomposition_enthalpy': 0.01619859122500067}, {'formula_pretty': 'GaN', 'material_id': 'mp-1244866', 'decomposition_enthalpy': -0.011633118375000251}, {'formula_pretty': 'GaN', 'material_id': 'mp-1244916', 'decomposition_enthalpy': -0.02091831857499926}, {'formula_pretty': 'GaN', 'material_id': 'mp-1244975', 'decomposition_enthalpy': -0.05231203347499935}, {'formula_pretty': 'GaN', 'material_id': 'mp-1244884', 'decomposition_enthalpy': 0.022242420225000004}, {'formula_pretty': 'GaN', 'material_id': 'mp-1245002', 'decomposition_enthalpy': 0.028080117325000487}, {'formula_pretty': 'GaN', 'material_id': 'mp-1245033', 'decomposition_enthalpy': 0.03236611592499905}, {'formula_pretty': 'GaN', 'material_id': 'mp-1245046', 'decomposition_enthalpy': 0.034414682625000026}]\u001b[0m\u001b[32;1m\u001b[1;3mAction:\n",
      "```\n",
      "{\n",
      "  \"action\": \"Final Answer\",\n",
      "  \"action_input\": \"The decomposition enthalpy of GaN varies depending on the specific material entry. Here are some values for different entries of GaN on the Materials Project: mp-1245069: 0.01041 eV/atom, mp-1244984: 0.07162 eV/atom, mp-1244934: 0.01620 eV/atom, mp-1244866: -0.01163 eV/atom, mp-1244916: -0.02092 eV/atom, mp-1244975: -0.05231 eV/atom, mp-1244884: 0.02224 eV/atom, mp-1245002: 0.02808 eV/atom, mp-1245033: 0.03237 eV/atom, mp-1245046: 0.03441 eV/atom.\"\n",
      "}\n",
      "```\u001b[0m\n",
      "\n",
      "\u001b[1m> Finished chain.\u001b[0m\n",
      "\n",
      "Observation: \u001b[36;1m\u001b[1;3m{'input': 'What is the decomposition enthalpy of GaN?', 'output': 'The decomposition enthalpy of GaN varies depending on the specific material entry. Here are some values for different entries of GaN on the Materials Project: mp-1245069: 0.01041 eV/atom, mp-1244984: 0.07162 eV/atom, mp-1244934: 0.01620 eV/atom, mp-1244866: -0.01163 eV/atom, mp-1244916: -0.02092 eV/atom, mp-1244975: -0.05231 eV/atom, mp-1244884: 0.02224 eV/atom, mp-1245002: 0.02808 eV/atom, mp-1245033: 0.03237 eV/atom, mp-1245046: 0.03441 eV/atom.'}\u001b[0m\n",
      "Thought:\u001b[32;1m\u001b[1;3mThe decomposition enthalpy for GaN varies depending on the specific material entry. The smallest value is -0.05231 eV/atom (mp-1244975).\n",
      "\n",
      "Next, I will find the decomposition enthalpy for SiC.\n",
      "Action:\n",
      "```\n",
      "{\n",
      "  \"action\": \"MPThermoExpert\",\n",
      "  \"action_input\": \"What is the decomposition enthalpy of SiC?\"\n",
      "}\n",
      "```\n",
      "\u001b[0m\n",
      "\n",
      "\u001b[1m> Entering new AgentExecutor chain...\u001b[0m\n"
     ]
    },
    {
     "name": "stderr",
     "output_type": "stream",
     "text": [
      "/home/cyrus/miniconda3/envs/llamp/lib/python3.11/site-packages/mp_api/client/mprester.py:230: UserWarning: mpcontribs-client not installed. Install the package to query MPContribs data, or construct pourbaix diagrams: 'pip install mpcontribs-client'\n",
      "  warnings.warn(\n",
      "/home/cyrus/miniconda3/envs/llamp/lib/python3.11/site-packages/mp_api/client/mprester.py:230: UserWarning: mpcontribs-client not installed. Install the package to query MPContribs data, or construct pourbaix diagrams: 'pip install mpcontribs-client'\n",
      "  warnings.warn(\n"
     ]
    },
    {
     "name": "stdout",
     "output_type": "stream",
     "text": [
      "\u001b[32;1m\u001b[1;3mAction:\n",
      "```\n",
      "{\n",
      "  \"action\": \"search_materials_thermo__get\",\n",
      "  \"action_input\": {\n",
      "    \"formula\": \"SiC\",\n",
      "    \"fields\": \"material_id,formula_pretty,decomposition_enthalpy\"\n",
      "  }\n",
      "}\n",
      "```\u001b[0m{\"formula\": \"SiC\", \"fields\": \"material_id,formula_pretty,decomposition_enthalpy\"}\n"
     ]
    },
    {
     "data": {
      "application/vnd.jupyter.widget-view+json": {
       "model_id": "fef685220c184ee0b0804d4c4a740617",
       "version_major": 2,
       "version_minor": 0
      },
      "text/plain": [
       "Retrieving ThermoDoc documents:   0%|          | 0/74 [00:00<?, ?it/s]"
      ]
     },
     "metadata": {},
     "output_type": "display_data"
    },
    {
     "name": "stdout",
     "output_type": "stream",
     "text": [
      "\u001b[36;1m\u001b[1;3m[{'formula_pretty': 'SiC', 'material_id': 'mp-624397', 'decomposition_enthalpy': -0.1720132442045461}, {'formula_pretty': 'SiC', 'material_id': 'mp-11713', 'decomposition_enthalpy': -0.20076638075000108}, {'formula_pretty': 'SiC', 'material_id': 'mp-570641', 'decomposition_enthalpy': -0.19450718000000045}, {'formula_pretty': 'SiC', 'material_id': 'mp-570690', 'decomposition_enthalpy': -0.19540863819444443}, {'formula_pretty': 'SiC', 'material_id': 'mp-1204356', 'decomposition_enthalpy': -0.20314058927631606}, {'formula_pretty': 'SiC', 'material_id': 'mp-11714', 'decomposition_enthalpy': -0.20355650125000047}, {'formula_pretty': 'SiC', 'material_id': 'mp-582034', 'decomposition_enthalpy': -0.20385373996428502}, {'formula_pretty': 'SiC', 'material_id': 'mp-567551', 'decomposition_enthalpy': -0.20382989643750093}, {'formula_pretty': 'SiC', 'material_id': 'mp-568656', 'decomposition_enthalpy': -0.2037761992500009}, {'formula_pretty': 'SiC', 'material_id': 'mp-7631', 'decomposition_enthalpy': -0.20387451758333341}]\u001b[0m\u001b[32;1m\u001b[1;3mAction:\n",
      "```\n",
      "{\n",
      "  \"action\": \"Final Answer\",\n",
      "  \"action_input\": \"The decomposition enthalpy of SiC varies for different materials on the Materials Project. Here are some values for different entries of SiC: -0.172 eV/atom, -0.201 eV/atom, -0.195 eV/atom, -0.195 eV/atom, -0.203 eV/atom, -0.204 eV/atom, -0.204 eV/atom, -0.204 eV/atom, -0.204 eV/atom, -0.204 eV/atom. Please note that these values are for different polymorphs or calculation conditions of SiC.\"\n",
      "}\n",
      "```\u001b[0m\n",
      "\n",
      "\u001b[1m> Finished chain.\u001b[0m\n",
      "\n",
      "Observation: \u001b[36;1m\u001b[1;3m{'input': 'What is the decomposition enthalpy of SiC?', 'output': 'The decomposition enthalpy of SiC varies for different materials on the Materials Project. Here are some values for different entries of SiC: -0.172 eV/atom, -0.201 eV/atom, -0.195 eV/atom, -0.195 eV/atom, -0.203 eV/atom, -0.204 eV/atom, -0.204 eV/atom, -0.204 eV/atom, -0.204 eV/atom, -0.204 eV/atom. Please note that these values are for different polymorphs or calculation conditions of SiC.'}\u001b[0m\n",
      "Thought:\u001b[32;1m\u001b[1;3mThe decomposition enthalpy for SiC varies depending on the specific material entry. The smallest value is -0.204 eV/atom.\n",
      "\n",
      "Next, I will find the decomposition enthalpy for InSe.\n",
      "Action:\n",
      "```\n",
      "{\n",
      "  \"action\": \"MPThermoExpert\",\n",
      "  \"action_input\": \"What is the decomposition enthalpy of InSe?\"\n",
      "}\n",
      "```\n",
      "\u001b[0m\n",
      "\n",
      "\u001b[1m> Entering new AgentExecutor chain...\u001b[0m\n"
     ]
    },
    {
     "name": "stderr",
     "output_type": "stream",
     "text": [
      "/home/cyrus/miniconda3/envs/llamp/lib/python3.11/site-packages/mp_api/client/mprester.py:230: UserWarning: mpcontribs-client not installed. Install the package to query MPContribs data, or construct pourbaix diagrams: 'pip install mpcontribs-client'\n",
      "  warnings.warn(\n",
      "/home/cyrus/miniconda3/envs/llamp/lib/python3.11/site-packages/mp_api/client/mprester.py:230: UserWarning: mpcontribs-client not installed. Install the package to query MPContribs data, or construct pourbaix diagrams: 'pip install mpcontribs-client'\n",
      "  warnings.warn(\n"
     ]
    },
    {
     "name": "stdout",
     "output_type": "stream",
     "text": [
      "\u001b[32;1m\u001b[1;3mAction:\n",
      "```\n",
      "{\n",
      "  \"action\": \"search_materials_thermo__get\",\n",
      "  \"action_input\": {\n",
      "    \"formula\": \"InSe\",\n",
      "    \"fields\": \"material_id,decomposition_enthalpy\"\n",
      "  }\n",
      "}\n",
      "```\u001b[0m{\"formula\": \"InSe\", \"fields\": \"material_id,decomposition_enthalpy\"}\n"
     ]
    },
    {
     "data": {
      "application/vnd.jupyter.widget-view+json": {
       "model_id": "7d3ef226309c455aabf3b654aa9947c6",
       "version_major": 2,
       "version_minor": 0
      },
      "text/plain": [
       "Retrieving ThermoDoc documents:   0%|          | 0/12 [00:00<?, ?it/s]"
      ]
     },
     "metadata": {},
     "output_type": "display_data"
    },
    {
     "name": "stdout",
     "output_type": "stream",
     "text": [
      "\u001b[36;1m\u001b[1;3m[{'material_id': 'mp-20485', 'decomposition_enthalpy': -0.06335874611121284}, {'material_id': 'mp-21405', 'decomposition_enthalpy': -0.03215832236126559}, {'material_id': 'mp-21405', 'decomposition_enthalpy': -0.0321583223612123}, {'material_id': 'mp-20485', 'decomposition_enthalpy': -0.051144245138896594}, {'material_id': 'mp-22691', 'decomposition_enthalpy': -0.06293424611126497}, {'material_id': 'mp-1079260', 'decomposition_enthalpy': -0.06156189361126607}, {'material_id': 'mp-20485', 'decomposition_enthalpy': -0.06335874611126613}, {'material_id': 'mp-1079260', 'decomposition_enthalpy': -0.06156189361121278}, {'material_id': 'mp-22691', 'decomposition_enthalpy': -0.06293424611121168}, {'material_id': 'mp-21405', 'decomposition_enthalpy': -0.018161218888896435}]\u001b[0m\u001b[32;1m\u001b[1;3mAction:\n",
      "```\n",
      "{\n",
      "  \"action\": \"Final Answer\",\n",
      "  \"action_input\": \"The decomposition enthalpy of InSe varies depending on the specific material entry. Here are some values for different entries of InSe on Materials Project: -0.06336, -0.03216, -0.05114, -0.06293, -0.06156, -0.01816 eV/atom.\"\n",
      "}\n",
      "```\u001b[0m\n",
      "\n",
      "\u001b[1m> Finished chain.\u001b[0m\n",
      "\n",
      "Observation: \u001b[36;1m\u001b[1;3m{'input': 'What is the decomposition enthalpy of InSe?', 'output': 'The decomposition enthalpy of InSe varies depending on the specific material entry. Here are some values for different entries of InSe on Materials Project: -0.06336, -0.03216, -0.05114, -0.06293, -0.06156, -0.01816 eV/atom.'}\u001b[0m\n",
      "Thought:\u001b[32;1m\u001b[1;3mThe decomposition enthalpy for InSe varies depending on the specific material entry. The smallest value is -0.06336 eV/atom.\n",
      "\n",
      "Next, I will find the decomposition enthalpy for MoS2.\n",
      "Action:\n",
      "```\n",
      "{\n",
      "  \"action\": \"MPThermoExpert\",\n",
      "  \"action_input\": \"What is the decomposition enthalpy of MoS2?\"\n",
      "}\n",
      "```\n",
      "\u001b[0m\n",
      "\n",
      "\u001b[1m> Entering new AgentExecutor chain...\u001b[0m\n"
     ]
    },
    {
     "name": "stderr",
     "output_type": "stream",
     "text": [
      "/home/cyrus/miniconda3/envs/llamp/lib/python3.11/site-packages/mp_api/client/mprester.py:230: UserWarning: mpcontribs-client not installed. Install the package to query MPContribs data, or construct pourbaix diagrams: 'pip install mpcontribs-client'\n",
      "  warnings.warn(\n",
      "/home/cyrus/miniconda3/envs/llamp/lib/python3.11/site-packages/mp_api/client/mprester.py:230: UserWarning: mpcontribs-client not installed. Install the package to query MPContribs data, or construct pourbaix diagrams: 'pip install mpcontribs-client'\n",
      "  warnings.warn(\n"
     ]
    },
    {
     "name": "stdout",
     "output_type": "stream",
     "text": [
      "\u001b[32;1m\u001b[1;3mAction:\n",
      "```\n",
      "{\n",
      "  \"action\": \"search_materials_thermo__get\",\n",
      "  \"action_input\": {\n",
      "    \"formula\": \"MoS2\",\n",
      "    \"fields\": \"material_id,decomposition_enthalpy\"\n",
      "  }\n",
      "}\n",
      "```\u001b[0m{\"formula\": \"MoS2\", \"fields\": \"material_id,decomposition_enthalpy\"}\n"
     ]
    },
    {
     "data": {
      "application/vnd.jupyter.widget-view+json": {
       "model_id": "ae15205ea4764087b244807e859c24c4",
       "version_major": 2,
       "version_minor": 0
      },
      "text/plain": [
       "Retrieving ThermoDoc documents:   0%|          | 0/32 [00:00<?, ?it/s]"
      ]
     },
     "metadata": {},
     "output_type": "display_data"
    },
    {
     "name": "stdout",
     "output_type": "stream",
     "text": [
      "\u001b[36;1m\u001b[1;3m[{'material_id': 'mp-1238797', 'decomposition_enthalpy': -0.6691974952083317}, {'material_id': 'mp-1027525', 'decomposition_enthalpy': -0.31731105296873885}, {'material_id': 'mp-1023939', 'decomposition_enthalpy': -0.3137567929687375}, {'material_id': 'mp-1238797', 'decomposition_enthalpy': -0.02468877463540231}, {'material_id': 'mp-1023924', 'decomposition_enthalpy': -0.3065526746354035}, {'material_id': 'mp-1042086', 'decomposition_enthalpy': 0.2674948611458241}, {'material_id': 'mp-1027525', 'decomposition_enthalpy': -0.37941685218750987}, {'material_id': 'mp-2815', 'decomposition_enthalpy': -0.3800061355208433}, {'material_id': 'mp-1018809', 'decomposition_enthalpy': -0.37873078385417625}, {'material_id': 'mp-1405065', 'decomposition_enthalpy': -0.11246309968750978}]\u001b[0m\u001b[32;1m\u001b[1;3mAction:\n",
      "```\n",
      "{\n",
      "  \"action\": \"Final Answer\",\n",
      "  \"action_input\": \"The decomposition enthalpy of MoS2 varies depending on the specific material entry. Here are some values for different entries of MoS2 on the Materials Project: -0.669 eV/atom (mp-1238797), -0.317 eV/atom (mp-1027525), -0.314 eV/atom (mp-1023939), -0.025 eV/atom (mp-1238797), -0.307 eV/atom (mp-1023924), 0.267 eV/atom (mp-1042086), -0.379 eV/atom (mp-1027525), -0.380 eV/atom (mp-2815), -0.379 eV/atom (mp-1018809), -0.112 eV/atom (mp-1405065).\"\n",
      "}\n",
      "```\u001b[0m\n",
      "\n",
      "\u001b[1m> Finished chain.\u001b[0m\n",
      "\n",
      "Observation: \u001b[36;1m\u001b[1;3m{'input': 'What is the decomposition enthalpy of MoS2?', 'output': 'The decomposition enthalpy of MoS2 varies depending on the specific material entry. Here are some values for different entries of MoS2 on the Materials Project: -0.669 eV/atom (mp-1238797), -0.317 eV/atom (mp-1027525), -0.314 eV/atom (mp-1023939), -0.025 eV/atom (mp-1238797), -0.307 eV/atom (mp-1023924), 0.267 eV/atom (mp-1042086), -0.379 eV/atom (mp-1027525), -0.380 eV/atom (mp-2815), -0.379 eV/atom (mp-1018809), -0.112 eV/atom (mp-1405065).'}\u001b[0m\n",
      "Thought:\u001b[32;1m\u001b[1;3mThe decomposition enthalpy for MoS2 varies depending on the specific material entry. The smallest value is -0.669 eV/atom (mp-1238797).\n",
      "\n",
      "Next, I will find the decomposition enthalpy for BaTiO3.\n",
      "Action:\n",
      "```\n",
      "{\n",
      "  \"action\": \"MPThermoExpert\",\n",
      "  \"action_input\": \"What is the decomposition enthalpy of BaTiO3?\"\n",
      "}\n",
      "```\n",
      "\u001b[0m\n",
      "\n",
      "\u001b[1m> Entering new AgentExecutor chain...\u001b[0m\n"
     ]
    },
    {
     "name": "stderr",
     "output_type": "stream",
     "text": [
      "/home/cyrus/miniconda3/envs/llamp/lib/python3.11/site-packages/mp_api/client/mprester.py:230: UserWarning: mpcontribs-client not installed. Install the package to query MPContribs data, or construct pourbaix diagrams: 'pip install mpcontribs-client'\n",
      "  warnings.warn(\n",
      "/home/cyrus/miniconda3/envs/llamp/lib/python3.11/site-packages/mp_api/client/mprester.py:230: UserWarning: mpcontribs-client not installed. Install the package to query MPContribs data, or construct pourbaix diagrams: 'pip install mpcontribs-client'\n",
      "  warnings.warn(\n"
     ]
    },
    {
     "name": "stdout",
     "output_type": "stream",
     "text": [
      "\u001b[32;1m\u001b[1;3mAction:\n",
      "```\n",
      "{\n",
      "  \"action\": \"search_materials_thermo__get\",\n",
      "  \"action_input\": {\n",
      "    \"formula\": \"BaTiO3\",\n",
      "    \"fields\": \"decomposition_enthalpy\"\n",
      "  }\n",
      "}\n",
      "```\u001b[0m{\"formula\": \"BaTiO3\", \"fields\": \"decomposition_enthalpy\"}\n"
     ]
    },
    {
     "data": {
      "application/vnd.jupyter.widget-view+json": {
       "model_id": "5d440f83e5854b9f9230b6be6bd601f3",
       "version_major": 2,
       "version_minor": 0
      },
      "text/plain": [
       "Retrieving ThermoDoc documents:   0%|          | 0/28 [00:00<?, ?it/s]"
      ]
     },
     "metadata": {},
     "output_type": "display_data"
    },
    {
     "name": "stdout",
     "output_type": "stream",
     "text": [
      "\u001b[36;1m\u001b[1;3m[{'decomposition_enthalpy': -0.06202943316632492}, {'decomposition_enthalpy': 3.0552489213374576}, {'decomposition_enthalpy': -0.061369689499658264}, {'decomposition_enthalpy': -0.06332626349965942}, {'decomposition_enthalpy': -0.06328527349966073}, {'decomposition_enthalpy': -0.06070682149965734}, {'decomposition_enthalpy': -0.05585959149965802}, {'decomposition_enthalpy': 0.692029431337458}, {'decomposition_enthalpy': -0.019623724662508835}, {'decomposition_enthalpy': -0.02172899666715722}]\u001b[0m\u001b[32;1m\u001b[1;3mAction:\n",
      "```\n",
      "{\n",
      "  \"action\": \"Final Answer\",\n",
      "  \"action_input\": \"The decomposition enthalpy of BaTiO3 varies depending on the specific material entry. The values range from approximately -0.063 to 3.055 eV/atom.\"\n",
      "}\n",
      "```\u001b[0m\n",
      "\n",
      "\u001b[1m> Finished chain.\u001b[0m\n",
      "\n",
      "Observation: \u001b[36;1m\u001b[1;3m{'input': 'What is the decomposition enthalpy of BaTiO3?', 'output': 'The decomposition enthalpy of BaTiO3 varies depending on the specific material entry. The values range from approximately -0.063 to 3.055 eV/atom.'}\u001b[0m\n",
      "Thought:\u001b[32;1m\u001b[1;3mThe decomposition enthalpy for BaTiO3 varies depending on the specific material entry. The smallest value is -0.063 eV/atom.\n",
      "\n",
      "Lastly, I will find the decomposition enthalpy for CsPbI3.\n",
      "Action:\n",
      "```\n",
      "{\n",
      "  \"action\": \"MPThermoExpert\",\n",
      "  \"action_input\": \"What is the decomposition enthalpy of CsPbI3?\"\n",
      "}\n",
      "```\n",
      "\u001b[0m\n",
      "\n",
      "\u001b[1m> Entering new AgentExecutor chain...\u001b[0m\n"
     ]
    },
    {
     "name": "stderr",
     "output_type": "stream",
     "text": [
      "/home/cyrus/miniconda3/envs/llamp/lib/python3.11/site-packages/mp_api/client/mprester.py:230: UserWarning: mpcontribs-client not installed. Install the package to query MPContribs data, or construct pourbaix diagrams: 'pip install mpcontribs-client'\n",
      "  warnings.warn(\n",
      "/home/cyrus/miniconda3/envs/llamp/lib/python3.11/site-packages/mp_api/client/mprester.py:230: UserWarning: mpcontribs-client not installed. Install the package to query MPContribs data, or construct pourbaix diagrams: 'pip install mpcontribs-client'\n",
      "  warnings.warn(\n"
     ]
    },
    {
     "name": "stdout",
     "output_type": "stream",
     "text": [
      "\u001b[32;1m\u001b[1;3mAction:\n",
      "```\n",
      "{\n",
      "  \"action\": \"search_materials_thermo__get\",\n",
      "  \"action_input\": {\n",
      "    \"formula\": \"CsPbI3\",\n",
      "    \"fields\": \"material_id,formula_pretty,decomposition_enthalpy\"\n",
      "  }\n",
      "}\n",
      "```\u001b[0m{\"formula\": \"CsPbI3\", \"fields\": \"material_id,formula_pretty,decomposition_enthalpy\"}\n"
     ]
    },
    {
     "data": {
      "application/vnd.jupyter.widget-view+json": {
       "model_id": "9093eee9df8c42f2a57a03e4330be1db",
       "version_major": 2,
       "version_minor": 0
      },
      "text/plain": [
       "Retrieving ThermoDoc documents:   0%|          | 0/7 [00:00<?, ?it/s]"
      ]
     },
     "metadata": {},
     "output_type": "display_data"
    },
    {
     "name": "stdout",
     "output_type": "stream",
     "text": [
      "\u001b[36;1m\u001b[1;3m[{'formula_pretty': 'CsPbI3', 'material_id': 'mp-540839', 'decomposition_enthalpy': -0.007867185124988296}, {'formula_pretty': 'CsPbI3', 'material_id': 'mp-1120768', 'decomposition_enthalpy': 0.008309992000000488}, {'formula_pretty': 'CsPbI3', 'material_id': 'mp-540839', 'decomposition_enthalpy': -0.0075133250000019025}, {'formula_pretty': 'CsPbI3', 'material_id': 'mp-540839', 'decomposition_enthalpy': -0.018602333249852165}, {'formula_pretty': 'CsPbI3', 'material_id': 'mp-1069538', 'decomposition_enthalpy': 0.017536019000000902}, {'formula_pretty': 'CsPbI3', 'material_id': 'mp-1120768', 'decomposition_enthalpy': 0.00795613187501143}, {'formula_pretty': 'CsPbI3', 'material_id': 'mp-1069538', 'decomposition_enthalpy': 0.017182158875011844}]\u001b[0m\u001b[32;1m\u001b[1;3mAction:\n",
      "```\n",
      "{\n",
      "  \"action\": \"Final Answer\",\n",
      "  \"action_input\": \"The decomposition enthalpy of CsPbI3 varies depending on the specific material entry. Here are some values for different entries on Materials Project: -0.007867 eV/atom (mp-540839), 0.008310 eV/atom (mp-1120768), -0.007513 eV/atom (mp-540839), -0.018602 eV/atom (mp-540839), 0.017536 eV/atom (mp-1069538), 0.007956 eV/atom (mp-1120768), 0.017182 eV/atom (mp-1069538).\"\n",
      "}\n",
      "```\u001b[0m\n",
      "\n",
      "\u001b[1m> Finished chain.\u001b[0m\n",
      "\n",
      "Observation: \u001b[36;1m\u001b[1;3m{'input': 'What is the decomposition enthalpy of CsPbI3?', 'output': 'The decomposition enthalpy of CsPbI3 varies depending on the specific material entry. Here are some values for different entries on Materials Project: -0.007867 eV/atom (mp-540839), 0.008310 eV/atom (mp-1120768), -0.007513 eV/atom (mp-540839), -0.018602 eV/atom (mp-540839), 0.017536 eV/atom (mp-1069538), 0.007956 eV/atom (mp-1120768), 0.017182 eV/atom (mp-1069538).'}\u001b[0m\n",
      "Thought:\u001b[32;1m\u001b[1;3mThe decomposition enthalpy for CsPbI3 varies depending on the specific material entry. The smallest value is -0.018602 eV/atom (mp-540839).\n",
      "\n",
      "Now, I have gathered all of the smallest decomposition enthalpy values for the requested materials. I will compile these into a clear answer for the user.\n",
      "Action:\n",
      "```\n",
      "{\n",
      "  \"action\": \"Final Answer\",\n",
      "  \"action_input\": \"The smallest decomposition enthalpy values for the requested materials are as follows: Ag2O3: 0.019373648083333528 eV/atom, MgZn2: -0.0197 eV/atom, GaAs: -0.446 eV/atom, GaN: -0.05231 eV/atom, SiC: -0.204 eV/atom, BN: -1.41 eV/atom, InSe: -0.06336 eV/atom, MoS2: -0.669 eV/atom, BaTiO3: -0.063 eV/atom, CsPbI3: -0.018602 eV/atom.\"\n",
      "}\n",
      "```\u001b[0m\n",
      "\n",
      "\u001b[1m> Finished chain.\u001b[0m\n"
     ]
    },
    {
     "data": {
      "text/plain": [
       "{'input': 'Give me the decomposition enthalpies of the following materials: Ag2O3, MgZn2, GaAs, GaN, SiC, BN, InSe, MoS2, BaTiO3, CsPbI3. If there are multiple values, please give me the smallest value.',\n",
       " 'chat_history': [],\n",
       " 'output': 'The smallest decomposition enthalpy values for the requested materials are as follows: Ag2O3: 0.019373648083333528 eV/atom, MgZn2: -0.0197 eV/atom, GaAs: -0.446 eV/atom, GaN: -0.05231 eV/atom, SiC: -0.204 eV/atom, BN: -1.41 eV/atom, InSe: -0.06336 eV/atom, MoS2: -0.669 eV/atom, BaTiO3: -0.063 eV/atom, CsPbI3: -0.018602 eV/atom.'}"
      ]
     },
     "execution_count": 3,
     "metadata": {},
     "output_type": "execute_result"
    }
   ],
   "source": [
    "agent_executor.invoke({\n",
    "    \"input\": \"Give me the decomposition enthalpies of the following materials: Ag2O3, MgZn2, GaAs, GaN, SiC, BN, InSe, MoS2, BaTiO3, CsPbI3. If there are multiple values, please give me the smallest value.\",\n",
    "})"
   ]
  },
  {
   "cell_type": "code",
   "execution_count": 4,
   "metadata": {},
   "outputs": [
    {
     "name": "stdout",
     "output_type": "stream",
     "text": [
      "The smallest decomposition enthalpy values for the requested materials are as follows: Ag2O3: 0.019373648083333528 eV/atom, MgZn2: -0.0197 eV/atom, GaAs: -0.446 eV/atom, GaN: -0.05231 eV/atom, SiC: -0.204 eV/atom, BN: -1.41 eV/atom, InSe: -0.06336 eV/atom, MoS2: -0.669 eV/atom, BaTiO3: -0.063 eV/atom, CsPbI3: -0.018602 eV/atom.\n"
     ]
    }
   ],
   "source": [
    "print(agent_executor.memory.chat_memory.messages[1].content)"
   ]
  },
  {
   "cell_type": "code",
   "execution_count": 5,
   "metadata": {},
   "outputs": [],
   "source": [
    "\n",
    "llm_gpt = ChatOpenAI(\n",
    "    temperature=0.7,\n",
    "    model=OPENAI_GPT_MODEL,\n",
    "    openai_api_key=OPENAI_API_KEY,\n",
    "    openai_organization=None,\n",
    "    # streaming=True\n",
    ")\n",
    "\n",
    "response = llm_gpt.invoke(agent_executor.memory.chat_memory.messages[0].content)\n"
   ]
  },
  {
   "cell_type": "code",
   "execution_count": 6,
   "metadata": {},
   "outputs": [
    {
     "name": "stdout",
     "output_type": "stream",
     "text": [
      "The decomposition enthalpies of the materials are as follows:\n",
      "- Ag2O3:  -1138.5 kJ/mol\n",
      "- MgZn2:  -54.2 kJ/mol\n",
      "- GaAs:  -452.2 kJ/mol\n",
      "- GaN:  -510.9 kJ/mol\n",
      "- SiC:  -2133.6 kJ/mol\n",
      "- BN:  -2551.0 kJ/mol\n",
      "- InSe:  -209.3 kJ/mol\n",
      "- MoS2:  -739.3 kJ/mol\n",
      "- BaTiO3:  -393.5 kJ/mol\n",
      "- CsPbI3:  -65.3 kJ/mol\n"
     ]
    }
   ],
   "source": [
    "print(response.content)"
   ]
  },
  {
   "cell_type": "code",
   "execution_count": null,
   "metadata": {},
   "outputs": [],
   "source": []
  }
 ],
 "metadata": {
  "kernelspec": {
   "display_name": "llamp",
   "language": "python",
   "name": "python3"
  },
  "language_info": {
   "codemirror_mode": {
    "name": "ipython",
    "version": 3
   },
   "file_extension": ".py",
   "mimetype": "text/x-python",
   "name": "python",
   "nbconvert_exporter": "python",
   "pygments_lexer": "ipython3",
   "version": "3.11.5"
  }
 },
 "nbformat": 4,
 "nbformat_minor": 2
}
