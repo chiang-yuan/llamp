{
 "cells": [
  {
   "cell_type": "code",
   "execution_count": 1,
   "metadata": {},
   "outputs": [
    {
     "name": "stdout",
     "output_type": "stream",
     "text": [
      "No module named 'phonopy'\n",
      "No module named 'phonopy'\n"
     ]
    }
   ],
   "source": [
    "import os\n",
    "import re\n",
    "\n",
    "from dotenv import load_dotenv\n",
    "from langchain import hub\n",
    "from langchain.agents import AgentType, load_tools\n",
    "from langchain.agents.initialize import initialize_agent\n",
    "from langchain.agents.format_scratchpad import format_log_to_str\n",
    "from langchain.agents.output_parsers import JSONAgentOutputParser\n",
    "from langchain.chains.conversation.memory import ConversationBufferWindowMemory\n",
    "# from langchain.chat_models import ChatOpenAI\n",
    "# from langchain.llms import OpenAI\n",
    "from langchain_openai import ChatOpenAI\n",
    "from langchain.tools import ArxivQueryRun, WikipediaQueryRun\n",
    "from langchain.tools.render import render_text_description_and_args\n",
    "from langchain.utilities import ArxivAPIWrapper, WikipediaAPIWrapper\n",
    "from langchain.prompts import MessagesPlaceholder\n",
    "# from langchain.schema import ChatMessage, SystemMessage\n",
    "from langchain.callbacks.streaming_stdout import StreamingStdOutCallbackHandler\n",
    "from langchain.callbacks.base import BaseCallbackManager\n",
    "\n",
    "from llamp.mp.agents import (\n",
    "    MPSummaryExpert,\n",
    "    MPThermoExpert,\n",
    "    MPElasticityExpert,\n",
    "    MPDielectricExpert,\n",
    "    MPPiezoelectricExpert,\n",
    "    MPMagnetismExpert,\n",
    "    MPElectronicExpert,\n",
    "    MPSynthesisExpert,\n",
    "    MPStructureRetriever,\n",
    ")\n",
    "from llamp.arxiv.agents import ArxivAgent\n",
    "\n",
    "load_dotenv()\n",
    "\n",
    "OPENAI_API_KEY = os.getenv(\"OPENAI_API_KEY\", None)\n",
    "OPENAI_ORGANIZATION = os.getenv(\"OPENAI_ORGANIZATION\", None)\n",
    "\n",
    "OPENAI_GPT_MODEL = \"gpt-4-1106-preview\"\n",
    "# OPENAI_GPT_MODEL = \"gpt-3.5-turbo-1106\"\n",
    "# OPENAI_GPT_MODEL = \"gpt-4\""
   ]
  },
  {
   "cell_type": "code",
   "execution_count": 2,
   "metadata": {},
   "outputs": [
    {
     "name": "stderr",
     "output_type": "stream",
     "text": [
      "/home/cyrus/miniconda3/envs/llamp/lib/python3.12/site-packages/langchain_core/_api/deprecation.py:117: LangChainDeprecationWarning: The function `initialize_agent` was deprecated in LangChain 0.1.0 and will be removed in 0.2.0. Use Use new agent constructor methods like create_react_agent, create_json_agent, create_structured_chat_agent, etc. instead.\n",
      "  warn_deprecated(\n"
     ]
    }
   ],
   "source": [
    "top_llm = ChatOpenAI(\n",
    "    temperature=0.1,\n",
    "    model=OPENAI_GPT_MODEL,\n",
    "    openai_api_key=OPENAI_API_KEY,\n",
    "    openai_organization=OPENAI_ORGANIZATION,\n",
    "    streaming=True,\n",
    "    callbacks=[StreamingStdOutCallbackHandler()],\n",
    ")\n",
    "\n",
    "bottom_callback_handler = StreamingStdOutCallbackHandler()\n",
    "\n",
    "bottom_llm = ChatOpenAI(\n",
    "    temperature=0,\n",
    "    model=OPENAI_GPT_MODEL,\n",
    "    openai_api_key=OPENAI_API_KEY,\n",
    "    openai_organization=OPENAI_ORGANIZATION,\n",
    "    max_retries=5,\n",
    "    streaming=True,\n",
    "    callbacks=[bottom_callback_handler],\n",
    ")\n",
    "\n",
    "\n",
    "wikipedia = WikipediaQueryRun(api_wrapper=WikipediaAPIWrapper())\n",
    "arxiv = ArxivQueryRun(api_wrapper=ArxivAPIWrapper())\n",
    "\n",
    "tools = [\n",
    "    MPThermoExpert(llm=bottom_llm).as_tool(\n",
    "        agent_kwargs=dict(return_intermediate_steps=False)\n",
    "    ),\n",
    "    MPElasticityExpert(llm=bottom_llm).as_tool(\n",
    "        agent_kwargs=dict(return_intermediate_steps=False)\n",
    "    ),\n",
    "    MPDielectricExpert(llm=bottom_llm).as_tool(\n",
    "        agent_kwargs=dict(return_intermediate_steps=False)\n",
    "    ),\n",
    "    MPMagnetismExpert(llm=bottom_llm).as_tool(\n",
    "        agent_kwargs=dict(return_intermediate_steps=False)\n",
    "    ),\n",
    "    MPElectronicExpert(llm=bottom_llm).as_tool(\n",
    "        agent_kwargs=dict(return_intermediate_steps=False)\n",
    "    ),\n",
    "    MPPiezoelectricExpert(llm=bottom_llm).as_tool(\n",
    "        agent_kwargs=dict(return_intermediate_steps=False)\n",
    "    ),\n",
    "    MPSummaryExpert(llm=bottom_llm).as_tool(\n",
    "        agent_kwargs=dict(return_intermediate_steps=False)\n",
    "    ),\n",
    "    MPSynthesisExpert(llm=bottom_llm).as_tool(\n",
    "        agent_kwargs=dict(return_intermediate_steps=False)\n",
    "    ),\n",
    "    MPStructureRetriever(llm=bottom_llm).as_tool(\n",
    "        agent_kwargs=dict(return_intermediate_steps=False)\n",
    "    ),\n",
    "    # ArxivAgent(llm=bottom_llm).as_tool(agent_kwargs=dict(return_intermediate_steps=False)),\n",
    "    arxiv,\n",
    "    wikipedia,\n",
    "]\n",
    "tools += load_tools([\"llm-math\"], llm=bottom_llm)\n",
    "\n",
    "prompt = hub.pull(\"hwchase17/react-multi-input-json\")\n",
    "prompt.messages[0].prompt.template = (\n",
    "    re.sub(\n",
    "        r\"\\s+\",\n",
    "        \" \",\n",
    "        \"\"\"You are a data-aware agent that can consult materials-related\n",
    "    data through Materials Project (MP) database, arXiv, and Wikipedia. Ask \n",
    "    user to clarify their queries if needed. Please note that you don't have \n",
    "    direct control over MP but through multiple assistant agents to help you. \n",
    "    You need to provide complete context in the input for them to do their job.\n",
    "    \"\"\",\n",
    "    ).replace(\"\\n\", \" \")\n",
    "    + prompt.messages[0].prompt.template\n",
    ")\n",
    "\n",
    "prompt = prompt.partial(\n",
    "    tools=render_text_description_and_args(tools),\n",
    "    tool_names=\", \".join([t.name for t in tools]),\n",
    ")\n",
    "\n",
    "agent = (\n",
    "    {\n",
    "        \"input\": lambda x: x[\"input\"],\n",
    "        \"agent_scratchpad\": lambda x: format_log_to_str(x[\"intermediate_steps\"]),\n",
    "    }\n",
    "    | prompt\n",
    "    | top_llm.bind(stop=[\"Observation\"])\n",
    "    # | map_reduce_chain  # TODO: Add map-reduce after LLM\n",
    "    | JSONAgentOutputParser()\n",
    ")\n",
    "\n",
    "conversational_memory = ConversationBufferWindowMemory(\n",
    "    memory_key=\"chat_history\", k=5, return_messages=True\n",
    ")\n",
    "\n",
    "agent_kwargs = {\n",
    "    \"handle_parsing_errors\": True,\n",
    "    \"extra_prompt_messages\": [\n",
    "        MessagesPlaceholder(variable_name=\"chat_history\"),\n",
    "    ],\n",
    "    \"early_stopping_method\": \"generate\",\n",
    "}\n",
    "\n",
    "agent_executor = initialize_agent(\n",
    "    agent=AgentType.STRUCTURED_CHAT_ZERO_SHOT_REACT_DESCRIPTION,\n",
    "    tools=tools,\n",
    "    llm=top_llm,\n",
    "    verbose=True,\n",
    "    max_iterations=20,\n",
    "    memory=conversational_memory,\n",
    "    agent_kwargs=agent_kwargs,\n",
    "    handle_parsing_errors=True,\n",
    "    callback_manager=BaseCallbackManager(handlers=[bottom_callback_handler]),\n",
    ")"
   ]
  },
  {
   "cell_type": "code",
   "execution_count": 3,
   "metadata": {},
   "outputs": [
    {
     "name": "stdout",
     "output_type": "stream",
     "text": [
      "\n",
      "\n",
      "\u001b[1m> Entering new AgentExecutor chain...\u001b[0m\n",
      "To find the magnetic ordering of stable FePO_4, along with its material ID, space group, and magnetization per formula unit, I will use the MPMagnetismExpert tool to query the Materials Project database.\n",
      "\n",
      "Action:\n",
      "```json\n",
      "{\n",
      "  \"action\": \"MPMagnetismExpert\",\n",
      "  \"action_input\": {\n",
      "    \"input\": \"What is the magnetic ordering of stable FePO4?\"\n",
      "  }\n",
      "}\n",
      "```\u001b[32;1m\u001b[1;3mTo find the magnetic ordering of stable FePO_4, along with its material ID, space group, and magnetization per formula unit, I will use the MPMagnetismExpert tool to query the Materials Project database.\n",
      "\n",
      "Action:\n",
      "```json\n",
      "{\n",
      "  \"action\": \"MPMagnetismExpert\",\n",
      "  \"action_input\": {\n",
      "    \"input\": \"What is the magnetic ordering of stable FePO4?\"\n",
      "  }\n",
      "}\n",
      "```\u001b[0m\n",
      "\n",
      "\u001b[1m> Entering new AgentExecutor chain...\u001b[0m\n",
      "Action:\n",
      "```\n",
      "{\n",
      "  \"action\": \"search_materials_magnetism__get\",\n",
      "  \"action_input\": {\n",
      "    \"formula\": \"FePO4\"\n",
      "  }\n",
      "}\n",
      "```\u001b[32;1m\u001b[1;3mAction:\n",
      "```\n",
      "{\n",
      "  \"action\": \"search_materials_magnetism__get\",\n",
      "  \"action_input\": {\n",
      "    \"formula\": \"FePO4\"\n",
      "  }\n",
      "}\n",
      "```\u001b[0m"
     ]
    },
    {
     "data": {
      "application/vnd.jupyter.widget-view+json": {
       "model_id": "ffc43f134ce244c2869c54d479f74c05",
       "version_major": 2,
       "version_minor": 0
      },
      "text/plain": [
       "Retrieving SummaryDoc documents:   0%|          | 0/30 [00:00<?, ?it/s]"
      ]
     },
     "metadata": {},
     "output_type": "display_data"
    },
    {
     "data": {
      "application/vnd.jupyter.widget-view+json": {
       "model_id": "48a0f38b3a674323891bab4c33025244",
       "version_major": 2,
       "version_minor": 0
      },
      "text/plain": [
       "Retrieving MagnetismDoc documents:   0%|          | 0/1 [00:00<?, ?it/s]"
      ]
     },
     "metadata": {},
     "output_type": "display_data"
    },
    {
     "name": "stdout",
     "output_type": "stream",
     "text": [
      "\u001b[36;1m\u001b[1;3m[{'formula_pretty': 'FePO4', 'material_id': 'mp-19109', 'ordering': 'FM', 'is_magnetic': True, 'exchange_symmetry': 152, 'num_magnetic_sites': 3, 'num_unique_magnetic_sites': 1, 'types_of_magnetic_species': ['Fe'], 'magmoms': [4.1, 4.1, 4.1, 0.0, 0.0, 0.0, 0.0, 0.0, 0.0, 0.0, 0.0, 0.0, 0.0, 0.0, 0.0, 0.0, 0.0, 0.0], 'total_magnetization': 15.0000006, 'total_magnetization_normalized_vol': 0.06026982889365446, 'total_magnetization_normalized_formula_units': 5.0000002}]\u001b[0mAction:\n",
      "```\n",
      "{\n",
      "  \"action\": \"Final Answer\",\n",
      "  \"action_input\": \"The magnetic ordering of stable FePO4 is ferromagnetic (FM).\"\n",
      "}\n",
      "```\u001b[32;1m\u001b[1;3mAction:\n",
      "```\n",
      "{\n",
      "  \"action\": \"Final Answer\",\n",
      "  \"action_input\": \"The magnetic ordering of stable FePO4 is ferromagnetic (FM).\"\n",
      "}\n",
      "```\u001b[0m\n",
      "\n",
      "\u001b[1m> Finished chain.\u001b[0m\n",
      "\n",
      "Observation: \u001b[36;1m\u001b[1;3m{'input': 'What is the magnetic ordering of stable FePO4?', 'output': 'The magnetic ordering of stable FePO4 is ferromagnetic (FM).'}\u001b[0m\n",
      "Thought:Action:\n",
      "```json\n",
      "{\n",
      "  \"action\": \"MPSummaryExpert\",\n",
      "  \"action_input\": {\n",
      "    \"input\": \"Give me the summary of stable FePO4 including material id, space group, and magnetization per formula unit.\"\n",
      "  }\n",
      "}\n",
      "```\u001b[32;1m\u001b[1;3mAction:\n",
      "```json\n",
      "{\n",
      "  \"action\": \"MPSummaryExpert\",\n",
      "  \"action_input\": {\n",
      "    \"input\": \"Give me the summary of stable FePO4 including material id, space group, and magnetization per formula unit.\"\n",
      "  }\n",
      "}\n",
      "```\u001b[0m\n",
      "\n",
      "\u001b[1m> Entering new AgentExecutor chain...\u001b[0m\n",
      "Action:\n",
      "```\n",
      "{\n",
      "  \"action\": \"search_materials_summary__get\",\n",
      "  \"action_input\": {\n",
      "    \"formula\": \"FePO4\",\n",
      "    \"is_stable\": true,\n",
      "    \"fields\": \"material_id,symmetry,total_magnetization_normalized_formula_units\"\n",
      "  }\n",
      "}\n",
      "```\u001b[32;1m\u001b[1;3mAction:\n",
      "```\n",
      "{\n",
      "  \"action\": \"search_materials_summary__get\",\n",
      "  \"action_input\": {\n",
      "    \"formula\": \"FePO4\",\n",
      "    \"is_stable\": true,\n",
      "    \"fields\": \"material_id,symmetry,total_magnetization_normalized_formula_units\"\n",
      "  }\n",
      "}\n",
      "```\u001b[0m"
     ]
    },
    {
     "data": {
      "application/vnd.jupyter.widget-view+json": {
       "model_id": "3675edc9675c4b1ab21be926b82b2d23",
       "version_major": 2,
       "version_minor": 0
      },
      "text/plain": [
       "Retrieving SummaryDoc documents:   0%|          | 0/1 [00:00<?, ?it/s]"
      ]
     },
     "metadata": {},
     "output_type": "display_data"
    },
    {
     "name": "stdout",
     "output_type": "stream",
     "text": [
      "\u001b[36;1m\u001b[1;3m[{'formula_pretty': 'FePO4', 'symmetry': {'crystal_system': 'Triclinic', 'symbol': 'P-1', 'number': 2, 'point_group': '-1', 'symprec': 0.1, 'version': '2.0.2'}, 'material_id': 'mp-753395', 'total_magnetization_normalized_formula_units': 5.00000015}]\u001b[0mAction:\n",
      "```\n",
      "{\n",
      "  \"action\": \"Final Answer\",\n",
      "  \"action_input\": \"The stable FePO4 has the material id 'mp-753395', belongs to the Triclinic crystal system with space group symbol 'P-1' and number 2. The total magnetization per formula unit is approximately 5.00000015 Bohr magnetons.\"\n",
      "}\n",
      "```\u001b[32;1m\u001b[1;3mAction:\n",
      "```\n",
      "{\n",
      "  \"action\": \"Final Answer\",\n",
      "  \"action_input\": \"The stable FePO4 has the material id 'mp-753395', belongs to the Triclinic crystal system with space group symbol 'P-1' and number 2. The total magnetization per formula unit is approximately 5.00000015 Bohr magnetons.\"\n",
      "}\n",
      "```\u001b[0m\n",
      "\n",
      "\u001b[1m> Finished chain.\u001b[0m\n",
      "\n",
      "Observation: \u001b[36;1m\u001b[1;3m{'input': 'Give me the summary of stable FePO4 including material id, space group, and magnetization per formula unit.', 'output': \"The stable FePO4 has the material id 'mp-753395', belongs to the Triclinic crystal system with space group symbol 'P-1' and number 2. The total magnetization per formula unit is approximately 5.00000015 Bohr magnetons.\"}\u001b[0m\n",
      "Thought:Action:\n",
      "```json\n",
      "{\n",
      "  \"action\": \"Final Answer\",\n",
      "  \"action_input\": \"The stable FePO4 has a ferromagnetic (FM) magnetic ordering. Its material id is 'mp-753395', and it belongs to the Triclinic crystal system with space group symbol 'P-1' and number 2. The total magnetization per formula unit is approximately 5.00000015 Bohr magnetons.\"\n",
      "}\n",
      "```\u001b[32;1m\u001b[1;3mAction:\n",
      "```json\n",
      "{\n",
      "  \"action\": \"Final Answer\",\n",
      "  \"action_input\": \"The stable FePO4 has a ferromagnetic (FM) magnetic ordering. Its material id is 'mp-753395', and it belongs to the Triclinic crystal system with space group symbol 'P-1' and number 2. The total magnetization per formula unit is approximately 5.00000015 Bohr magnetons.\"\n",
      "}\n",
      "```\u001b[0m\n",
      "\n",
      "\u001b[1m> Finished chain.\u001b[0m\n"
     ]
    },
    {
     "data": {
      "text/plain": [
       "{'input': 'What is the magnetic ordering of stable FePO4? Give me its material id, space group, and magnetization per formula unit.',\n",
       " 'chat_history': [],\n",
       " 'output': \"The stable FePO4 has a ferromagnetic (FM) magnetic ordering. Its material id is 'mp-753395', and it belongs to the Triclinic crystal system with space group symbol 'P-1' and number 2. The total magnetization per formula unit is approximately 5.00000015 Bohr magnetons.\"}"
      ]
     },
     "execution_count": 3,
     "metadata": {},
     "output_type": "execute_result"
    }
   ],
   "source": [
    "agent_executor.invoke(\n",
    "    {\n",
    "        \"input\": \"What is the magnetic ordering of stable FePO4? Give me its material id, space group, and magnetization per formula unit.\",\n",
    "    }\n",
    ")"
   ]
  },
  {
   "cell_type": "code",
   "execution_count": 4,
   "metadata": {},
   "outputs": [
    {
     "data": {
      "text/plain": [
       "AIMessage(content='The magnetic ordering of stable FePO4 is antiferromagnetic. Its material id in the Materials Project database is mp-2133, and its space group is Pnma. The magnetization per formula unit is 4.04 μB.', response_metadata={'finish_reason': 'stop', 'logprobs': None})"
      ]
     },
     "execution_count": 4,
     "metadata": {},
     "output_type": "execute_result"
    }
   ],
   "source": [
    "\n",
    "llm_gpt = ChatOpenAI(\n",
    "    temperature=0.7,\n",
    "    model=\"gpt-3.5-turbo-1106\",\n",
    "    openai_api_key=OPENAI_API_KEY,\n",
    "    openai_organization=OPENAI_ORGANIZATION,\n",
    "    # streaming=True\n",
    ")\n",
    "\n",
    "llm_gpt.invoke(agent_executor.memory.chat_memory.messages[0].content)\n"
   ]
  },
  {
   "cell_type": "code",
   "execution_count": null,
   "metadata": {},
   "outputs": [],
   "source": []
  }
 ],
 "metadata": {
  "kernelspec": {
   "display_name": "llamp",
   "language": "python",
   "name": "python3"
  },
  "language_info": {
   "codemirror_mode": {
    "name": "ipython",
    "version": 3
   },
   "file_extension": ".py",
   "mimetype": "text/x-python",
   "name": "python",
   "nbconvert_exporter": "python",
   "pygments_lexer": "ipython3",
   "version": "3.11.8"
  }
 },
 "nbformat": 4,
 "nbformat_minor": 2
}
