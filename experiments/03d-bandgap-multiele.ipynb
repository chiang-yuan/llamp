{
 "cells": [
  {
   "cell_type": "code",
   "execution_count": null,
   "metadata": {},
   "outputs": [],
   "source": [
    "import os\n",
    "import re\n",
    "import tempfile\n",
    "from monty.tempfile import ScratchDir\n",
    "\n",
    "from dotenv import load_dotenv\n",
    "from langchain import hub\n",
    "from langchain.agents import load_tools\n",
    "from langchain_experimental.tools import PythonREPLTool\n",
    "from langchain.agents import create_react_agent, AgentExecutor, create_openai_functions_agent\n",
    "from langchain.chains.conversation.memory import ConversationBufferWindowMemory\n",
    "from langchain_openai import ChatOpenAI\n",
    "from langchain_community.chat_models import ChatOllama\n",
    "from langchain_google_genai import GoogleGenerativeAI\n",
    "from langchain.tools import ArxivQueryRun, WikipediaQueryRun\n",
    "from langchain.utilities import ArxivAPIWrapper, WikipediaAPIWrapper\n",
    "\n",
    "from langchain.callbacks.streaming_stdout import StreamingStdOutCallbackHandler\n",
    "\n",
    "from llamp.mp.agents import (\n",
    "    MPSummaryExpert,\n",
    "    MPThermoExpert,\n",
    "    MPElasticityExpert,\n",
    "    MPDielectricExpert,\n",
    "    MPPiezoelectricExpert,\n",
    "    MPMagnetismExpert,\n",
    "    MPElectronicExpert,\n",
    "    MPSynthesisExpert,\n",
    "    MPStructureRetriever,\n",
    ")\n",
    "from llamp.atomate2.agents import MLFFMDAgent\n",
    "# from llamp.arxiv.agents import ArxivAgent\n",
    "\n",
    "load_dotenv()\n",
    "\n",
    "MP_API_KEY = os.getenv(\"MP_API_KEY\", None)\n",
    "\n",
    "OPENAI_API_KEY = os.getenv(\"OPENAI_API_KEY\", None)\n",
    "OPENAI_ORGANIZATION = os.getenv(\"OPENAI_ORGANIZATION\", None)\n",
    "GOOGLE_API_KEY = os.getenv(\"GOOGLE_API_KEY\", None)\n",
    "\n",
    "OPENAI_GPT_MODEL = \"gpt-4-1106-preview\"\n",
    "# OPENAI_GPT_MODEL = \"gpt-4-0125-preview\"\n",
    "# OPENAI_GPT_MODEL = \"gpt-3.5-turbo-1106\"\n",
    "# OPENAI_GPT_MODEL = \"gpt-4-turbo\"\n",
    "llama = True # TODO: if we're running llama instead of gpt backbone for llamp\n",
    "react = True "
   ]
  },
  {
   "cell_type": "code",
   "execution_count": 2,
   "metadata": {},
   "outputs": [],
   "source": [
    "if not llama:\n",
    "    top_llm = ChatOpenAI(\n",
    "        temperature=0.1,\n",
    "        model=OPENAI_GPT_MODEL,\n",
    "        openai_api_key=OPENAI_API_KEY,\n",
    "        openai_organization=OPENAI_ORGANIZATION,\n",
    "        streaming=True,\n",
    "        callbacks=[StreamingStdOutCallbackHandler()],\n",
    "    )\n",
    "else: \n",
    "    model = \"llama3.1\"\n",
    "    top_llm = ChatOllama(\n",
    "        model=model,\n",
    "        temperature=0.1,\n",
    "        callbacks=[StreamingStdOutCallbackHandler()],\n",
    "        num_predict=-2,\n",
    "    )\n",
    "\n",
    "\n",
    "bottom_callback_handler = StreamingStdOutCallbackHandler()\n",
    "\n",
    "if not llama:\n",
    "    bottom_llm = ChatOpenAI(\n",
    "        temperature=0.0,\n",
    "        model=OPENAI_GPT_MODEL,\n",
    "        openai_api_key=OPENAI_API_KEY,\n",
    "        openai_organization=OPENAI_ORGANIZATION,\n",
    "        max_retries=5,\n",
    "        streaming=True,\n",
    "        callbacks=[bottom_callback_handler],\n",
    "    )\n",
    "else:\n",
    "       bottom_llm =  ChatOllama(\n",
    "        model=model,\n",
    "        temperature=0.1,\n",
    "        callbacks=[StreamingStdOutCallbackHandler()],\n",
    "        num_predict=-2,\n",
    "    )\n",
    "\n",
    "\n",
    "wikipedia = WikipediaQueryRun(api_wrapper=WikipediaAPIWrapper())\n",
    "arxiv = ArxivQueryRun(api_wrapper=ArxivAPIWrapper())\n",
    "\n",
    "tools = load_tools([\"llm-math\"], llm=bottom_llm)\n",
    "tools += [PythonREPLTool(\n",
    "    description=re.sub(\n",
    "        r\"\\s+\",\n",
    "        \" \",\n",
    "        \"\"\"A Python shell. Use this to execute python commands.\n",
    "        Input should be a valid python command.\n",
    "        \n",
    "        TIPS:\n",
    "        - If you want to see the output of a value, you should print it out\n",
    "        with `print(...)`.\n",
    "        - If you write any file to a local file system, you should ALWAYS \n",
    "        print the paths to the files as well.\n",
    "        - If you plot any graph, you should show the graph, save it to local \n",
    "        and print the path to the image file.\n",
    "        - Combine all your output string together and print once together in\n",
    "        JSON format at the end of the code.\n",
    "        \"\"\"\n",
    "    )\n",
    ")]\n",
    "tools += [\n",
    "    MPThermoExpert(llm=bottom_llm, mp_api_key=MP_API_KEY).as_tool(\n",
    "        agent_kwargs=dict(return_intermediate_steps=False)\n",
    "    ),\n",
    "    MPElasticityExpert(llm=bottom_llm, mp_api_key=MP_API_KEY).as_tool(\n",
    "        agent_kwargs=dict(return_intermediate_steps=False)\n",
    "    ),\n",
    "    MPDielectricExpert(llm=bottom_llm, mp_api_key=MP_API_KEY).as_tool(\n",
    "        agent_kwargs=dict(return_intermediate_steps=False)\n",
    "    ),\n",
    "    MPMagnetismExpert(llm=bottom_llm, mp_api_key=MP_API_KEY).as_tool(\n",
    "        agent_kwargs=dict(return_intermediate_steps=False)\n",
    "    ),\n",
    "    MPElectronicExpert(llm=bottom_llm, mp_api_key=MP_API_KEY).as_tool(\n",
    "        agent_kwargs=dict(return_intermediate_steps=False)\n",
    "    ),\n",
    "    MPPiezoelectricExpert(llm=bottom_llm, mp_api_key=MP_API_KEY).as_tool(\n",
    "        agent_kwargs=dict(return_intermediate_steps=False)\n",
    "    ),\n",
    "    MPSummaryExpert(llm=bottom_llm, mp_api_key=MP_API_KEY).as_tool(\n",
    "        agent_kwargs=dict(return_intermediate_steps=False)\n",
    "    ),\n",
    "    MPSynthesisExpert(llm=bottom_llm, mp_api_key=MP_API_KEY).as_tool(\n",
    "        agent_kwargs=dict(return_intermediate_steps=False)\n",
    "    ),\n",
    "    MPStructureRetriever(llm=bottom_llm, mp_api_key=MP_API_KEY).as_tool(\n",
    "        agent_kwargs=dict(return_intermediate_steps=False)\n",
    "    ),\n",
    "    MLFFMDAgent(llm=bottom_llm).as_tool(\n",
    "        agent_kwargs=dict(return_intermediate_steps=False)\n",
    "    ),\n",
    "    arxiv,\n",
    "    wikipedia,\n",
    "]\n",
    "\n",
    "instructions = re.sub(\n",
    "    r\"\\s+\",\n",
    "    \" \",\n",
    "    \"\"\"You name is LLaMP and you are a helpful agent that can consult \n",
    "    materials-related data through Materials Project (MP) database, arXiv, \n",
    "    Wikipedia, and run calculations/simulations via a python REPL and MP atomate2 \n",
    "    computational workflow.     \n",
    "        \n",
    "    If you get an error, debug your code and try again. Only use \n",
    "    the output of your code to answer the question. Ask user to clarify their \n",
    "    queries if needed. Please note that you don't have direct control over MP but \n",
    "    through multiple assistant agents to help you. You need to provide complete \n",
    "    context in the input for assistants to do their job. REFINE and CRITQUE the \n",
    "    output of the assistants if needed. You can end the conversation by saying \"Bye\".\n",
    "    \"\"\",\n",
    "    )\n",
    "if react:\n",
    "    base_prompt = hub.pull(\"langchain-ai/react-agent-template\")\n",
    "    prompt = base_prompt.partial(instructions=instructions)\n",
    "else:\n",
    "    base_prompt = hub.pull(\"hwchase17/openai-functions-agent\")\n",
    "    prompt = base_prompt.partial(instructions=instructions) \n",
    "\n",
    "conversational_memory = ConversationBufferWindowMemory(\n",
    "    memory_key=\"chat_history\", k=5, return_messages=True\n",
    ")\n",
    "\n",
    "if react:\n",
    "    agent = create_react_agent(top_llm, tools, prompt)\n",
    "else:\n",
    "    agent = create_openai_functions_agent(top_llm, tools, prompt)\n",
    "agent_executor = AgentExecutor(\n",
    "    agent=agent, tools=tools, verbose=True,\n",
    "    handle_parsing_errors=True,\n",
    "    memory=conversational_memory,\n",
    ")"
   ]
  },
  {
   "cell_type": "code",
   "execution_count": 3,
   "metadata": {},
   "outputs": [
    {
     "name": "stdout",
     "output_type": "stream",
     "text": [
      "Query: What are the bandgaps of the following materials: Ba(PdS2)2, FePO4, DyBi2IO4, NaFe(SO4)2, Eu2B5BrO9, Sr5As3H, TlGaS2, AgSbS2, Pr3S3N, LiLaO2. Give me one value of the most stable structure for each material.\n",
      "\n",
      "\n",
      "\u001b[1m> Entering new AgentExecutor chain...\u001b[0m\n",
      "Thought: Do I need to use a tool? Yes\n",
      "Action: MPSummaryExpert\n",
      "Action Input: What are the bandgaps of the following materials: Ba(PdS2)2, FePO4, DyBi2IO4, NaFe(SO4)2, Eu2B5BrO9, Sr5As3H, TlGaS2, AgSbS2, Pr3S3N, LiLaO2. Give me one value of the most stable structure for each material.\u001b[32;1m\u001b[1;3mThought: Do I need to use a tool? Yes\n",
      "Action: MPSummaryExpert\n",
      "Action Input: What are the bandgaps of the following materials: Ba(PdS2)2, FePO4, DyBi2IO4, NaFe(SO4)2, Eu2B5BrO9, Sr5As3H, TlGaS2, AgSbS2, Pr3S3N, LiLaO2. Give me one value of the most stable structure for each material.\u001b[0m\n",
      "\n",
      "\u001b[1m> Entering new AgentExecutor chain...\u001b[0m\n",
      "Action:\n",
      "```\n",
      "{\n",
      "  \"action\": \"search_materials_summary__get\",\n",
      "  \"action_input\": {\n",
      "    \"formula\": \"Ba(PdS2)2,FePO4,DyBi2IO4,NaFe(SO4)2,Eu2B5BrO9,Sr5As3H,TlGaS2,AgSbS2,Pr3S3N,LiLaO2\",\n",
      "    \"fields\": \"material_id,formula_pretty,band_gap,is_stable\",\n",
      "    \"sort_fields\": \"-stability\",\n",
      "    \"limit\": 1\n",
      "  }\n",
      "}\n",
      "```\u001b[32;1m\u001b[1;3mAction:\n",
      "```\n",
      "{\n",
      "  \"action\": \"search_materials_summary__get\",\n",
      "  \"action_input\": {\n",
      "    \"formula\": \"Ba(PdS2)2,FePO4,DyBi2IO4,NaFe(SO4)2,Eu2B5BrO9,Sr5As3H,TlGaS2,AgSbS2,Pr3S3N,LiLaO2\",\n",
      "    \"fields\": \"material_id,formula_pretty,band_gap,is_stable\",\n",
      "    \"sort_fields\": \"-stability\",\n",
      "    \"limit\": 1\n",
      "  }\n",
      "}\n",
      "```\u001b[0m"
     ]
    },
    {
     "data": {
      "application/vnd.jupyter.widget-view+json": {
       "model_id": "03200a8235f8437d997fb2ed06058050",
       "version_major": 2,
       "version_minor": 0
      },
      "text/plain": [
       "Retrieving SummaryDoc documents:   0%|          | 0/47 [00:00<?, ?it/s]"
      ]
     },
     "metadata": {},
     "output_type": "display_data"
    },
    {
     "name": "stdout",
     "output_type": "stream",
     "text": [
      "\u001b[36;1m\u001b[1;3mError on search_materials_summary__get: 'stability'. Please revise arguments or try smaller request by specifying 'limit' in request.\u001b[0mAction:\n",
      "```\n",
      "{\n",
      "  \"action\": \"search_materials_summary__get\",\n",
      "  \"action_input\": {\n",
      "    \"formula\": \"Ba(PdS2)2,FePO4,DyBi2IO4,NaFe(SO4)2,Eu2B5BrO9,Sr5As3H,TlGaS2,AgSbS2,Pr3S3N,LiLaO2\",\n",
      "    \"fields\": \"material_id,formula_pretty,band_gap,is_stable\",\n",
      "    \"sort_fields\": \"-energy_above_hull\",\n",
      "    \"limit\": 1\n",
      "  }\n",
      "}\n",
      "```\u001b[32;1m\u001b[1;3mAction:\n",
      "```\n",
      "{\n",
      "  \"action\": \"search_materials_summary__get\",\n",
      "  \"action_input\": {\n",
      "    \"formula\": \"Ba(PdS2)2,FePO4,DyBi2IO4,NaFe(SO4)2,Eu2B5BrO9,Sr5As3H,TlGaS2,AgSbS2,Pr3S3N,LiLaO2\",\n",
      "    \"fields\": \"material_id,formula_pretty,band_gap,is_stable\",\n",
      "    \"sort_fields\": \"-energy_above_hull\",\n",
      "    \"limit\": 1\n",
      "  }\n",
      "}\n",
      "```\u001b[0m"
     ]
    },
    {
     "data": {
      "application/vnd.jupyter.widget-view+json": {
       "model_id": "c95d4f3a20cb42098ccd00f15db9d67a",
       "version_major": 2,
       "version_minor": 0
      },
      "text/plain": [
       "Retrieving SummaryDoc documents:   0%|          | 0/47 [00:00<?, ?it/s]"
      ]
     },
     "metadata": {},
     "output_type": "display_data"
    },
    {
     "name": "stdout",
     "output_type": "stream",
     "text": [
      "\u001b[36;1m\u001b[1;3m[{'formula_pretty': 'FePO4', 'material_id': 'mp-1048924', 'energy_above_hull': 0.20172496479166657, 'is_stable': False, 'band_gap': 0.8201}]\u001b[0mAction:\n",
      "```\n",
      "{\n",
      "  \"action\": \"search_materials_summary__get\",\n",
      "  \"action_input\": {\n",
      "    \"formula\": \"Ba(PdS2)2,FePO4,DyBi2IO4,NaFe(SO4)2,Eu2B5BrO9,Sr5As3H,TlGaS2,AgSbS2,Pr3S3N,LiLaO2\",\n",
      "    \"fields\": \"material_id,formula_pretty,band_gap,is_stable\",\n",
      "    \"is_stable\": true,\n",
      "    \"limit\": 1\n",
      "  }\n",
      "}\n",
      "```\u001b[32;1m\u001b[1;3mAction:\n",
      "```\n",
      "{\n",
      "  \"action\": \"search_materials_summary__get\",\n",
      "  \"action_input\": {\n",
      "    \"formula\": \"Ba(PdS2)2,FePO4,DyBi2IO4,NaFe(SO4)2,Eu2B5BrO9,Sr5As3H,TlGaS2,AgSbS2,Pr3S3N,LiLaO2\",\n",
      "    \"fields\": \"material_id,formula_pretty,band_gap,is_stable\",\n",
      "    \"is_stable\": true,\n",
      "    \"limit\": 1\n",
      "  }\n",
      "}\n",
      "```\u001b[0m"
     ]
    },
    {
     "data": {
      "application/vnd.jupyter.widget-view+json": {
       "model_id": "da4654fae04a4546a4a5fa5043fbe6b3",
       "version_major": 2,
       "version_minor": 0
      },
      "text/plain": [
       "Retrieving SummaryDoc documents:   0%|          | 0/9 [00:00<?, ?it/s]"
      ]
     },
     "metadata": {},
     "output_type": "display_data"
    },
    {
     "name": "stdout",
     "output_type": "stream",
     "text": [
      "\u001b[36;1m\u001b[1;3m[{'formula_pretty': 'NaFe(SO4)2', 'material_id': 'mp-1102092', 'is_stable': True, 'band_gap': 2.0944000000000003}]\u001b[0mAction:\n",
      "```\n",
      "{\n",
      "  \"action\": \"search_materials_summary__get\",\n",
      "  \"action_input\": {\n",
      "    \"formula\": \"Ba(PdS2)2\",\n",
      "    \"fields\": \"material_id,formula_pretty,band_gap,is_stable\",\n",
      "    \"is_stable\": true,\n",
      "    \"limit\": 1\n",
      "  }\n",
      "}\n",
      "```\u001b[32;1m\u001b[1;3mAction:\n",
      "```\n",
      "{\n",
      "  \"action\": \"search_materials_summary__get\",\n",
      "  \"action_input\": {\n",
      "    \"formula\": \"Ba(PdS2)2\",\n",
      "    \"fields\": \"material_id,formula_pretty,band_gap,is_stable\",\n",
      "    \"is_stable\": true,\n",
      "    \"limit\": 1\n",
      "  }\n",
      "}\n",
      "```\u001b[0m"
     ]
    },
    {
     "data": {
      "application/vnd.jupyter.widget-view+json": {
       "model_id": "a605dc28a14f448381ae5924dce07a5e",
       "version_major": 2,
       "version_minor": 0
      },
      "text/plain": [
       "Retrieving SummaryDoc documents:   0%|          | 0/1 [00:00<?, ?it/s]"
      ]
     },
     "metadata": {},
     "output_type": "display_data"
    },
    {
     "name": "stdout",
     "output_type": "stream",
     "text": [
      "\u001b[36;1m\u001b[1;3m[{'formula_pretty': 'Ba(PdS2)2', 'material_id': 'mp-28967', 'is_stable': True, 'band_gap': 0.7791999999999999}]\u001b[0mAction:\n",
      "```\n",
      "{\n",
      "  \"action\": \"search_materials_summary__get\",\n",
      "  \"action_input\": {\n",
      "    \"formula\": \"DyBi2IO4\",\n",
      "    \"fields\": \"material_id,formula_pretty,band_gap,is_stable\",\n",
      "    \"is_stable\": true,\n",
      "    \"limit\": 1\n",
      "  }\n",
      "}\n",
      "```\u001b[32;1m\u001b[1;3mAction:\n",
      "```\n",
      "{\n",
      "  \"action\": \"search_materials_summary__get\",\n",
      "  \"action_input\": {\n",
      "    \"formula\": \"DyBi2IO4\",\n",
      "    \"fields\": \"material_id,formula_pretty,band_gap,is_stable\",\n",
      "    \"is_stable\": true,\n",
      "    \"limit\": 1\n",
      "  }\n",
      "}\n",
      "```\u001b[0m"
     ]
    },
    {
     "data": {
      "application/vnd.jupyter.widget-view+json": {
       "model_id": "a2969acd897c4409b6eef91b1a8009f0",
       "version_major": 2,
       "version_minor": 0
      },
      "text/plain": [
       "Retrieving SummaryDoc documents:   0%|          | 0/1 [00:00<?, ?it/s]"
      ]
     },
     "metadata": {},
     "output_type": "display_data"
    },
    {
     "name": "stdout",
     "output_type": "stream",
     "text": [
      "\u001b[36;1m\u001b[1;3m[{'formula_pretty': 'DyBi2IO4', 'material_id': 'mp-546266', 'is_stable': True, 'band_gap': 1.3667999999999996}]\u001b[0m\u001b[32;1m\u001b[1;3m\u001b[0m\n",
      "\n",
      "\u001b[1m> Finished chain.\u001b[0m\n",
      "\u001b[38;5;200m\u001b[1;3m{'input': 'What are the bandgaps of the following materials: Ba(PdS2)2, FePO4, DyBi2IO4, NaFe(SO4)2, Eu2B5BrO9, Sr5As3H, TlGaS2, AgSbS2, Pr3S3N, LiLaO2. Give me one value of the most stable structure for each material.', 'output': 'Agent stopped due to iteration limit or time limit.'}\u001b[0mThe MPSummaryExpert tool has reached an iteration limit or time limit, which means it was unable to retrieve the bandgap information for all the requested materials in one go. Since the list of materials is quite long, it might be more efficient to query the bandgaps of these materials one by one or in smaller groups.\n",
      "\n",
      "I will proceed by querying the bandgaps for each material individually using the MPSummaryExpert tool.\n",
      "\n",
      "Let's start with the first material, Ba(PdS2)2.\n",
      "\n",
      "Thought: Do I need to use a tool? Yes\n",
      "Action: MPSummaryExpert\n",
      "Action Input: What is the bandgap of the most stable structure of Ba(PdS2)2?\u001b[32;1m\u001b[1;3mThe MPSummaryExpert tool has reached an iteration limit or time limit, which means it was unable to retrieve the bandgap information for all the requested materials in one go. Since the list of materials is quite long, it might be more efficient to query the bandgaps of these materials one by one or in smaller groups.\n",
      "\n",
      "I will proceed by querying the bandgaps for each material individually using the MPSummaryExpert tool.\n",
      "\n",
      "Let's start with the first material, Ba(PdS2)2.\n",
      "\n",
      "Thought: Do I need to use a tool? Yes\n",
      "Action: MPSummaryExpert\n",
      "Action Input: What is the bandgap of the most stable structure of Ba(PdS2)2?\u001b[0m\n",
      "\n",
      "\u001b[1m> Entering new AgentExecutor chain...\u001b[0m\n",
      "To find the bandgap of the most stable structure of Ba(PdS2)2, I will search for materials with the formula \"Ba(PdS2)2\" and filter for the most stable structure, which is typically indicated by having the lowest energy above the hull (E_hull = 0).\n",
      "\n",
      "Action:\n",
      "```\n",
      "{\n",
      "  \"action\": \"search_materials_summary__get\",\n",
      "  \"action_input\": {\n",
      "    \"formula\": \"Ba(PdS2)2\",\n",
      "    \"is_stable\": true,\n",
      "    \"fields\": \"material_id,band_gap\",\n",
      "    \"sort_fields\": \"energy_above_hull\",\n",
      "    \"limit\": 1\n",
      "  }\n",
      "}\n",
      "```\u001b[32;1m\u001b[1;3mTo find the bandgap of the most stable structure of Ba(PdS2)2, I will search for materials with the formula \"Ba(PdS2)2\" and filter for the most stable structure, which is typically indicated by having the lowest energy above the hull (E_hull = 0).\n",
      "\n",
      "Action:\n",
      "```\n",
      "{\n",
      "  \"action\": \"search_materials_summary__get\",\n",
      "  \"action_input\": {\n",
      "    \"formula\": \"Ba(PdS2)2\",\n",
      "    \"is_stable\": true,\n",
      "    \"fields\": \"material_id,band_gap\",\n",
      "    \"sort_fields\": \"energy_above_hull\",\n",
      "    \"limit\": 1\n",
      "  }\n",
      "}\n",
      "```\u001b[0m"
     ]
    },
    {
     "data": {
      "application/vnd.jupyter.widget-view+json": {
       "model_id": "676b1696ef884ed3b7780c70b448818c",
       "version_major": 2,
       "version_minor": 0
      },
      "text/plain": [
       "Retrieving SummaryDoc documents:   0%|          | 0/1 [00:00<?, ?it/s]"
      ]
     },
     "metadata": {},
     "output_type": "display_data"
    },
    {
     "name": "stdout",
     "output_type": "stream",
     "text": [
      "\u001b[36;1m\u001b[1;3m[{'formula_pretty': 'Ba(PdS2)2', 'material_id': 'mp-28967', 'energy_above_hull': 0.0, 'band_gap': 0.7791999999999999}]\u001b[0mAction:\n",
      "```\n",
      "{\n",
      "  \"action\": \"Final Answer\",\n",
      "  \"action_input\": \"The bandgap of the most stable structure of Ba(PdS2)2 is approximately 0.779 eV.\"\n",
      "}\n",
      "```\u001b[32;1m\u001b[1;3mAction:\n",
      "```\n",
      "{\n",
      "  \"action\": \"Final Answer\",\n",
      "  \"action_input\": \"The bandgap of the most stable structure of Ba(PdS2)2 is approximately 0.779 eV.\"\n",
      "}\n",
      "```\u001b[0m\n",
      "\n",
      "\u001b[1m> Finished chain.\u001b[0m\n",
      "\u001b[38;5;200m\u001b[1;3m{'input': 'What is the bandgap of the most stable structure of Ba(PdS2)2?', 'output': 'The bandgap of the most stable structure of Ba(PdS2)2 is approximately 0.779 eV.'}\u001b[0mI have obtained the bandgap for the first material, Ba(PdS2)2. Now I will proceed to query the bandgap for the next material, FePO4.\n",
      "\n",
      "Thought: Do I need to use a tool? Yes\n",
      "Action: MPSummaryExpert\n",
      "Action Input: What is the bandgap of the most stable structure of FePO4?\u001b[32;1m\u001b[1;3mI have obtained the bandgap for the first material, Ba(PdS2)2. Now I will proceed to query the bandgap for the next material, FePO4.\n",
      "\n",
      "Thought: Do I need to use a tool? Yes\n",
      "Action: MPSummaryExpert\n",
      "Action Input: What is the bandgap of the most stable structure of FePO4?\u001b[0m\n",
      "\n",
      "\u001b[1m> Entering new AgentExecutor chain...\u001b[0m\n",
      "Thought: To find the bandgap of the most stable structure of FePO4, I will use the search_materials_summary__get tool with the formula \"FePO4\" and the is_stable parameter set to true. I will also sort the results by energy_above_hull to get the most stable structure first.\n",
      "\n",
      "Action:\n",
      "```\n",
      "{\n",
      "  \"action\": \"search_materials_summary__get\",\n",
      "  \"action_input\": {\n",
      "    \"formula\": \"FePO4\",\n",
      "    \"is_stable\": true,\n",
      "    \"sort_fields\": \"energy_above_hull\",\n",
      "    \"fields\": \"material_id,band_gap\",\n",
      "    \"limit\": 1\n",
      "  }\n",
      "}\n",
      "```\u001b[32;1m\u001b[1;3mThought: To find the bandgap of the most stable structure of FePO4, I will use the search_materials_summary__get tool with the formula \"FePO4\" and the is_stable parameter set to true. I will also sort the results by energy_above_hull to get the most stable structure first.\n",
      "\n",
      "Action:\n",
      "```\n",
      "{\n",
      "  \"action\": \"search_materials_summary__get\",\n",
      "  \"action_input\": {\n",
      "    \"formula\": \"FePO4\",\n",
      "    \"is_stable\": true,\n",
      "    \"sort_fields\": \"energy_above_hull\",\n",
      "    \"fields\": \"material_id,band_gap\",\n",
      "    \"limit\": 1\n",
      "  }\n",
      "}\n",
      "```\u001b[0m"
     ]
    },
    {
     "data": {
      "application/vnd.jupyter.widget-view+json": {
       "model_id": "88180aebc18e41239a175d2bb7c1ec48",
       "version_major": 2,
       "version_minor": 0
      },
      "text/plain": [
       "Retrieving SummaryDoc documents:   0%|          | 0/1 [00:00<?, ?it/s]"
      ]
     },
     "metadata": {},
     "output_type": "display_data"
    },
    {
     "name": "stdout",
     "output_type": "stream",
     "text": [
      "\u001b[36;1m\u001b[1;3m[{'formula_pretty': 'FePO4', 'material_id': 'mp-753395', 'energy_above_hull': 0.0, 'band_gap': 2.1932}]\u001b[0mAction:\n",
      "```\n",
      "{\n",
      "  \"action\": \"Final Answer\",\n",
      "  \"action_input\": \"The bandgap of the most stable structure of FePO4 is 2.1932 eV.\"\n",
      "}\n",
      "```\u001b[32;1m\u001b[1;3mAction:\n",
      "```\n",
      "{\n",
      "  \"action\": \"Final Answer\",\n",
      "  \"action_input\": \"The bandgap of the most stable structure of FePO4 is 2.1932 eV.\"\n",
      "}\n",
      "```\u001b[0m\n",
      "\n",
      "\u001b[1m> Finished chain.\u001b[0m\n",
      "\u001b[38;5;200m\u001b[1;3m{'input': 'What is the bandgap of the most stable structure of FePO4?', 'output': 'The bandgap of the most stable structure of FePO4 is 2.1932 eV.'}\u001b[0mI have obtained the bandgap for the second material, FePO4. Now I will continue to query the bandgaps for the remaining materials one by one.\n",
      "\n",
      "Next, I will query the bandgap for DyBi2IO4.\n",
      "\n",
      "Thought: Do I need to use a tool? Yes\n",
      "Action: MPSummaryExpert\n",
      "Action Input: What is the bandgap of the most stable structure of DyBi2IO4?\u001b[32;1m\u001b[1;3mI have obtained the bandgap for the second material, FePO4. Now I will continue to query the bandgaps for the remaining materials one by one.\n",
      "\n",
      "Next, I will query the bandgap for DyBi2IO4.\n",
      "\n",
      "Thought: Do I need to use a tool? Yes\n",
      "Action: MPSummaryExpert\n",
      "Action Input: What is the bandgap of the most stable structure of DyBi2IO4?\u001b[0m\n",
      "\n",
      "\u001b[1m> Entering new AgentExecutor chain...\u001b[0m\n",
      "Thought: To find the bandgap of the most stable structure of DyBi2IO4, I need to search for materials with this formula and then look for the one with the highest stability (usually indicated by the lowest energy above hull) and retrieve its bandgap.\n",
      "\n",
      "Action:\n",
      "```\n",
      "{\n",
      "  \"action\": \"search_materials_summary__get\",\n",
      "  \"action_input\": {\n",
      "    \"formula\": \"DyBi2IO4\",\n",
      "    \"fields\": \"material_id,band_gap,energy_above_hull\",\n",
      "    \"sort_fields\": \"-energy_above_hull\",\n",
      "    \"limit\": 1\n",
      "  }\n",
      "}\n",
      "```\u001b[32;1m\u001b[1;3mThought: To find the bandgap of the most stable structure of DyBi2IO4, I need to search for materials with this formula and then look for the one with the highest stability (usually indicated by the lowest energy above hull) and retrieve its bandgap.\n",
      "\n",
      "Action:\n",
      "```\n",
      "{\n",
      "  \"action\": \"search_materials_summary__get\",\n",
      "  \"action_input\": {\n",
      "    \"formula\": \"DyBi2IO4\",\n",
      "    \"fields\": \"material_id,band_gap,energy_above_hull\",\n",
      "    \"sort_fields\": \"-energy_above_hull\",\n",
      "    \"limit\": 1\n",
      "  }\n",
      "}\n",
      "```\u001b[0m"
     ]
    },
    {
     "data": {
      "application/vnd.jupyter.widget-view+json": {
       "model_id": "d5bcdc5da7dc4486a73069e9e68733c4",
       "version_major": 2,
       "version_minor": 0
      },
      "text/plain": [
       "Retrieving SummaryDoc documents:   0%|          | 0/1 [00:00<?, ?it/s]"
      ]
     },
     "metadata": {},
     "output_type": "display_data"
    },
    {
     "name": "stdout",
     "output_type": "stream",
     "text": [
      "\u001b[36;1m\u001b[1;3m[{'formula_pretty': 'DyBi2IO4', 'material_id': 'mp-546266', 'energy_above_hull': 0.0, 'band_gap': 1.3667999999999996}]\u001b[0mAction:\n",
      "```\n",
      "{\n",
      "  \"action\": \"Final Answer\",\n",
      "  \"action_input\": \"The bandgap of the most stable structure of DyBi2IO4 is 1.367 eV.\"\n",
      "}\n",
      "```\u001b[32;1m\u001b[1;3mAction:\n",
      "```\n",
      "{\n",
      "  \"action\": \"Final Answer\",\n",
      "  \"action_input\": \"The bandgap of the most stable structure of DyBi2IO4 is 1.367 eV.\"\n",
      "}\n",
      "```\u001b[0m\n",
      "\n",
      "\u001b[1m> Finished chain.\u001b[0m\n",
      "\u001b[38;5;200m\u001b[1;3m{'input': 'What is the bandgap of the most stable structure of DyBi2IO4?', 'output': 'The bandgap of the most stable structure of DyBi2IO4 is 1.367 eV.'}\u001b[0mI have obtained the bandgap for the third material, DyBi2IO4. Now I will proceed to query the bandgap for the next material, NaFe(SO4)2.\n",
      "\n",
      "Thought: Do I need to use a tool? Yes\n",
      "Action: MPSummaryExpert\n",
      "Action Input: What is the bandgap of the most stable structure of NaFe(SO4)2?\u001b[32;1m\u001b[1;3mI have obtained the bandgap for the third material, DyBi2IO4. Now I will proceed to query the bandgap for the next material, NaFe(SO4)2.\n",
      "\n",
      "Thought: Do I need to use a tool? Yes\n",
      "Action: MPSummaryExpert\n",
      "Action Input: What is the bandgap of the most stable structure of NaFe(SO4)2?\u001b[0m\n",
      "\n",
      "\u001b[1m> Entering new AgentExecutor chain...\u001b[0m\n",
      "To find the bandgap of the most stable structure of NaFe(SO4)2, I will search for materials with this formula and then look for the one with the highest stability, which is typically indicated by having the lowest energy above the hull (E_above_hull = 0). I will then retrieve the bandgap value for that material.\n",
      "\n",
      "Action:\n",
      "```\n",
      "{\n",
      "  \"action\": \"search_materials_summary__get\",\n",
      "  \"action_input\": {\n",
      "    \"formula\": \"NaFe(SO4)2\",\n",
      "    \"fields\": \"material_id,formula_pretty,band_gap,is_stable\",\n",
      "    \"sort_fields\": \"-energy_above_hull\",\n",
      "    \"limit\": 1\n",
      "  }\n",
      "}\n",
      "```\u001b[32;1m\u001b[1;3mTo find the bandgap of the most stable structure of NaFe(SO4)2, I will search for materials with this formula and then look for the one with the highest stability, which is typically indicated by having the lowest energy above the hull (E_above_hull = 0). I will then retrieve the bandgap value for that material.\n",
      "\n",
      "Action:\n",
      "```\n",
      "{\n",
      "  \"action\": \"search_materials_summary__get\",\n",
      "  \"action_input\": {\n",
      "    \"formula\": \"NaFe(SO4)2\",\n",
      "    \"fields\": \"material_id,formula_pretty,band_gap,is_stable\",\n",
      "    \"sort_fields\": \"-energy_above_hull\",\n",
      "    \"limit\": 1\n",
      "  }\n",
      "}\n",
      "```\u001b[0m"
     ]
    },
    {
     "data": {
      "application/vnd.jupyter.widget-view+json": {
       "model_id": "2380b8f896484fdb88324dedd4cbea6a",
       "version_major": 2,
       "version_minor": 0
      },
      "text/plain": [
       "Retrieving SummaryDoc documents:   0%|          | 0/2 [00:00<?, ?it/s]"
      ]
     },
     "metadata": {},
     "output_type": "display_data"
    },
    {
     "name": "stdout",
     "output_type": "stream",
     "text": [
      "\u001b[36;1m\u001b[1;3m[{'formula_pretty': 'NaFe(SO4)2', 'material_id': 'mp-1210660', 'energy_above_hull': 0.026285956666642463, 'is_stable': False, 'band_gap': 2.1127000000000002}]\u001b[0mAction:\n",
      "```\n",
      "{\n",
      "  \"action\": \"Final Answer\",\n",
      "  \"action_input\": \"The most stable structure of NaFe(SO4)2 found in the Materials Project database has a band gap of 2.1127 eV. However, please note that this structure is not considered stable as it has a non-zero energy above hull.\"\n",
      "}\n",
      "```\u001b[32;1m\u001b[1;3mAction:\n",
      "```\n",
      "{\n",
      "  \"action\": \"Final Answer\",\n",
      "  \"action_input\": \"The most stable structure of NaFe(SO4)2 found in the Materials Project database has a band gap of 2.1127 eV. However, please note that this structure is not considered stable as it has a non-zero energy above hull.\"\n",
      "}\n",
      "```\u001b[0m\n",
      "\n",
      "\u001b[1m> Finished chain.\u001b[0m\n",
      "\u001b[38;5;200m\u001b[1;3m{'input': 'What is the bandgap of the most stable structure of NaFe(SO4)2?', 'output': 'The most stable structure of NaFe(SO4)2 found in the Materials Project database has a band gap of 2.1127 eV. However, please note that this structure is not considered stable as it has a non-zero energy above hull.'}\u001b[0mI have obtained the bandgap for the fourth material, NaFe(SO4)2, with a note that the structure is not considered stable as it has a non-zero energy above hull. Now I will proceed to query the bandgap for the next material, Eu2B5BrO9.\n",
      "\n",
      "Thought: Do I need to use a tool? Yes\n",
      "Action: MPSummaryExpert\n",
      "Action Input: What is the bandgap of the most stable structure of Eu2B5BrO9?\u001b[32;1m\u001b[1;3mI have obtained the bandgap for the fourth material, NaFe(SO4)2, with a note that the structure is not considered stable as it has a non-zero energy above hull. Now I will proceed to query the bandgap for the next material, Eu2B5BrO9.\n",
      "\n",
      "Thought: Do I need to use a tool? Yes\n",
      "Action: MPSummaryExpert\n",
      "Action Input: What is the bandgap of the most stable structure of Eu2B5BrO9?\u001b[0m\n",
      "\n",
      "\u001b[1m> Entering new AgentExecutor chain...\u001b[0m\n",
      "Thought: To find the bandgap of the most stable structure of Eu2B5BrO9, I need to search for materials with this formula and then look for the one with the highest stability (which could be indicated by the lowest energy above hull). I will use the search_materials_summary__get tool to find materials with the formula Eu2B5BrO9 and then check their stability and bandgap.\n",
      "\n",
      "Action:\n",
      "```\n",
      "{\n",
      "  \"action\": \"search_materials_summary__get\",\n",
      "  \"action_input\": {\n",
      "    \"formula\": \"Eu2B5BrO9\",\n",
      "    \"sort_fields\": \"-energy_above_hull\",\n",
      "    \"fields\": \"material_id,formula_pretty,band_gap,is_stable\"\n",
      "  }\n",
      "}\n",
      "```\u001b[32;1m\u001b[1;3mThought: To find the bandgap of the most stable structure of Eu2B5BrO9, I need to search for materials with this formula and then look for the one with the highest stability (which could be indicated by the lowest energy above hull). I will use the search_materials_summary__get tool to find materials with the formula Eu2B5BrO9 and then check their stability and bandgap.\n",
      "\n",
      "Action:\n",
      "```\n",
      "{\n",
      "  \"action\": \"search_materials_summary__get\",\n",
      "  \"action_input\": {\n",
      "    \"formula\": \"Eu2B5BrO9\",\n",
      "    \"sort_fields\": \"-energy_above_hull\",\n",
      "    \"fields\": \"material_id,formula_pretty,band_gap,is_stable\"\n",
      "  }\n",
      "}\n",
      "```\u001b[0m"
     ]
    },
    {
     "data": {
      "application/vnd.jupyter.widget-view+json": {
       "model_id": "ed051f6d23214a2dbe29d9e2c4f8b9af",
       "version_major": 2,
       "version_minor": 0
      },
      "text/plain": [
       "Retrieving SummaryDoc documents:   0%|          | 0/1 [00:00<?, ?it/s]"
      ]
     },
     "metadata": {},
     "output_type": "display_data"
    },
    {
     "name": "stdout",
     "output_type": "stream",
     "text": [
      "\u001b[36;1m\u001b[1;3m[{'formula_pretty': 'Eu2B5BrO9', 'material_id': 'mp-558834', 'energy_above_hull': 0.0, 'is_stable': True, 'band_gap': 0.8801000000000005}]\u001b[0mAction:\n",
      "```\n",
      "{\n",
      "  \"action\": \"Final Answer\",\n",
      "  \"action_input\": \"The bandgap of the most stable structure of Eu2B5BrO9 is 0.8801 eV.\"\n",
      "}\n",
      "```\u001b[32;1m\u001b[1;3mAction:\n",
      "```\n",
      "{\n",
      "  \"action\": \"Final Answer\",\n",
      "  \"action_input\": \"The bandgap of the most stable structure of Eu2B5BrO9 is 0.8801 eV.\"\n",
      "}\n",
      "```\u001b[0m\n",
      "\n",
      "\u001b[1m> Finished chain.\u001b[0m\n",
      "\u001b[38;5;200m\u001b[1;3m{'input': 'What is the bandgap of the most stable structure of Eu2B5BrO9?', 'output': 'The bandgap of the most stable structure of Eu2B5BrO9 is 0.8801 eV.'}\u001b[0mI have obtained the bandgap for the fifth material, Eu2B5BrO9. Now I will proceed to query the bandgap for the next material, Sr5As3H.\n",
      "\n",
      "Thought: Do I need to use a tool? Yes\n",
      "Action: MPSummaryExpert\n",
      "Action Input: What is the bandgap of the most stable structure of Sr5As3H?\u001b[32;1m\u001b[1;3mI have obtained the bandgap for the fifth material, Eu2B5BrO9. Now I will proceed to query the bandgap for the next material, Sr5As3H.\n",
      "\n",
      "Thought: Do I need to use a tool? Yes\n",
      "Action: MPSummaryExpert\n",
      "Action Input: What is the bandgap of the most stable structure of Sr5As3H?\u001b[0m\n",
      "\n",
      "\u001b[1m> Entering new AgentExecutor chain...\u001b[0m\n",
      "To find the bandgap of the most stable structure of Sr5As3H, I will search for materials with this composition and then look for the one with the highest stability (which typically means the lowest energy above hull). I will then retrieve the bandgap value for that material.\n",
      "\n",
      "Action:\n",
      "```\n",
      "{\n",
      "  \"action\": \"search_materials_summary__get\",\n",
      "  \"action_input\": {\n",
      "    \"formula\": \"Sr5As3H\",\n",
      "    \"fields\": \"material_id,band_gap,energy_above_hull\",\n",
      "    \"sort_fields\": \"-energy_above_hull\",\n",
      "    \"limit\": 1\n",
      "  }\n",
      "}\n",
      "```\u001b[32;1m\u001b[1;3mTo find the bandgap of the most stable structure of Sr5As3H, I will search for materials with this composition and then look for the one with the highest stability (which typically means the lowest energy above hull). I will then retrieve the bandgap value for that material.\n",
      "\n",
      "Action:\n",
      "```\n",
      "{\n",
      "  \"action\": \"search_materials_summary__get\",\n",
      "  \"action_input\": {\n",
      "    \"formula\": \"Sr5As3H\",\n",
      "    \"fields\": \"material_id,band_gap,energy_above_hull\",\n",
      "    \"sort_fields\": \"-energy_above_hull\",\n",
      "    \"limit\": 1\n",
      "  }\n",
      "}\n",
      "```\u001b[0m"
     ]
    },
    {
     "data": {
      "application/vnd.jupyter.widget-view+json": {
       "model_id": "b8448fc74d2540c3aaa8d492d14bd24f",
       "version_major": 2,
       "version_minor": 0
      },
      "text/plain": [
       "Retrieving SummaryDoc documents:   0%|          | 0/1 [00:00<?, ?it/s]"
      ]
     },
     "metadata": {},
     "output_type": "display_data"
    },
    {
     "name": "stdout",
     "output_type": "stream",
     "text": [
      "\u001b[36;1m\u001b[1;3m[{'formula_pretty': 'Sr5As3H', 'material_id': 'mp-24338', 'energy_above_hull': 0.0, 'band_gap': 0.6763999999999997}]\u001b[0mAction:\n",
      "```\n",
      "{\n",
      "  \"action\": \"Final Answer\",\n",
      "  \"action_input\": \"The most stable structure of Sr5As3H on the Materials Project database has a band gap of 0.676 eV.\"\n",
      "}\n",
      "```\u001b[32;1m\u001b[1;3mAction:\n",
      "```\n",
      "{\n",
      "  \"action\": \"Final Answer\",\n",
      "  \"action_input\": \"The most stable structure of Sr5As3H on the Materials Project database has a band gap of 0.676 eV.\"\n",
      "}\n",
      "```\u001b[0m\n",
      "\n",
      "\u001b[1m> Finished chain.\u001b[0m\n",
      "\u001b[38;5;200m\u001b[1;3m{'input': 'What is the bandgap of the most stable structure of Sr5As3H?', 'output': 'The most stable structure of Sr5As3H on the Materials Project database has a band gap of 0.676 eV.'}\u001b[0mI have obtained the bandgap for the sixth material, Sr5As3H. Now I will proceed to query the bandgap for the next material, TlGaS2.\n",
      "\n",
      "Thought: Do I need to use a tool? Yes\n",
      "Action: MPSummaryExpert\n",
      "Action Input: What is the bandgap of the most stable structure of TlGaS2?\u001b[32;1m\u001b[1;3mI have obtained the bandgap for the sixth material, Sr5As3H. Now I will proceed to query the bandgap for the next material, TlGaS2.\n",
      "\n",
      "Thought: Do I need to use a tool? Yes\n",
      "Action: MPSummaryExpert\n",
      "Action Input: What is the bandgap of the most stable structure of TlGaS2?\u001b[0m\n",
      "\n",
      "\u001b[1m> Entering new AgentExecutor chain...\u001b[0m\n",
      "To find the bandgap of the most stable structure of TlGaS2, I will search for materials with the formula TlGaS2 that are stable and retrieve their bandgap values.\n",
      "\n",
      "Action:\n",
      "```\n",
      "{\n",
      "  \"action\": \"search_materials_summary__get\",\n",
      "  \"action_input\": {\n",
      "    \"formula\": \"TlGaS2\",\n",
      "    \"is_stable\": true,\n",
      "    \"fields\": \"material_id,formula_pretty,band_gap\",\n",
      "    \"sort_fields\": \"-formation_energy_per_atom\",\n",
      "    \"limit\": 1\n",
      "  }\n",
      "}\n",
      "```\u001b[32;1m\u001b[1;3mTo find the bandgap of the most stable structure of TlGaS2, I will search for materials with the formula TlGaS2 that are stable and retrieve their bandgap values.\n",
      "\n",
      "Action:\n",
      "```\n",
      "{\n",
      "  \"action\": \"search_materials_summary__get\",\n",
      "  \"action_input\": {\n",
      "    \"formula\": \"TlGaS2\",\n",
      "    \"is_stable\": true,\n",
      "    \"fields\": \"material_id,formula_pretty,band_gap\",\n",
      "    \"sort_fields\": \"-formation_energy_per_atom\",\n",
      "    \"limit\": 1\n",
      "  }\n",
      "}\n",
      "```\u001b[0m"
     ]
    },
    {
     "data": {
      "application/vnd.jupyter.widget-view+json": {
       "model_id": "42155623d41f4007aa1ab282721a4361",
       "version_major": 2,
       "version_minor": 0
      },
      "text/plain": [
       "Retrieving SummaryDoc documents:   0%|          | 0/1 [00:00<?, ?it/s]"
      ]
     },
     "metadata": {},
     "output_type": "display_data"
    },
    {
     "name": "stdout",
     "output_type": "stream",
     "text": [
      "\u001b[36;1m\u001b[1;3m[{'formula_pretty': 'TlGaS2', 'material_id': 'mp-4016', 'formation_energy_per_atom': -0.884232564895834, 'band_gap': 1.7885}]\u001b[0mAction:\n",
      "```\n",
      "{\n",
      "  \"action\": \"Final Answer\",\n",
      "  \"action_input\": \"The bandgap of the most stable structure of TlGaS2 is 1.7885 eV.\"\n",
      "}\n",
      "```\u001b[32;1m\u001b[1;3mAction:\n",
      "```\n",
      "{\n",
      "  \"action\": \"Final Answer\",\n",
      "  \"action_input\": \"The bandgap of the most stable structure of TlGaS2 is 1.7885 eV.\"\n",
      "}\n",
      "```\u001b[0m\n",
      "\n",
      "\u001b[1m> Finished chain.\u001b[0m\n",
      "\u001b[38;5;200m\u001b[1;3m{'input': 'What is the bandgap of the most stable structure of TlGaS2?', 'output': 'The bandgap of the most stable structure of TlGaS2 is 1.7885 eV.'}\u001b[0mI have obtained the bandgap for the seventh material, TlGaS2. Now I will proceed to query the bandgap for the next material, AgSbS2.\n",
      "\n",
      "Thought: Do I need to use a tool? Yes\n",
      "Action: MPSummaryExpert\n",
      "Action Input: What is the bandgap of the most stable structure of AgSbS2?\u001b[32;1m\u001b[1;3mI have obtained the bandgap for the seventh material, TlGaS2. Now I will proceed to query the bandgap for the next material, AgSbS2.\n",
      "\n",
      "Thought: Do I need to use a tool? Yes\n",
      "Action: MPSummaryExpert\n",
      "Action Input: What is the bandgap of the most stable structure of AgSbS2?\u001b[0m\n",
      "\n",
      "\u001b[1m> Entering new AgentExecutor chain...\u001b[0m\n",
      "Action:\n",
      "```json\n",
      "{\n",
      "  \"action\": \"search_materials_summary__get\",\n",
      "  \"action_input\": {\n",
      "    \"formula\": \"AgSbS2\",\n",
      "    \"sort_fields\": \"-energy_above_hull\",\n",
      "    \"fields\": \"material_id,band_gap,is_stable\",\n",
      "    \"limit\": 1\n",
      "  }\n",
      "}\n",
      "```\u001b[32;1m\u001b[1;3mAction:\n",
      "```json\n",
      "{\n",
      "  \"action\": \"search_materials_summary__get\",\n",
      "  \"action_input\": {\n",
      "    \"formula\": \"AgSbS2\",\n",
      "    \"sort_fields\": \"-energy_above_hull\",\n",
      "    \"fields\": \"material_id,band_gap,is_stable\",\n",
      "    \"limit\": 1\n",
      "  }\n",
      "}\n",
      "```\u001b[0m"
     ]
    },
    {
     "data": {
      "application/vnd.jupyter.widget-view+json": {
       "model_id": "9af34f0d6f1a4fa8881856bc8ae69bb0",
       "version_major": 2,
       "version_minor": 0
      },
      "text/plain": [
       "Retrieving SummaryDoc documents:   0%|          | 0/7 [00:00<?, ?it/s]"
      ]
     },
     "metadata": {},
     "output_type": "display_data"
    },
    {
     "name": "stdout",
     "output_type": "stream",
     "text": [
      "\u001b[36;1m\u001b[1;3m[{'formula_pretty': 'AgSbS2', 'material_id': 'mp-1229010', 'energy_above_hull': 0.11462453000000039, 'is_stable': False, 'band_gap': 0.0}]\u001b[0mAction:\n",
      "```json\n",
      "{\n",
      "  \"action\": \"Final Answer\",\n",
      "  \"action_input\": \"The most stable structure of AgSbS2 in the Materials Project database has a band gap of 0.0 eV, indicating that it is metallic or has a very small band gap. However, it is important to note that this structure is not considered stable according to the database.\"\n",
      "}\n",
      "```\u001b[32;1m\u001b[1;3mAction:\n",
      "```json\n",
      "{\n",
      "  \"action\": \"Final Answer\",\n",
      "  \"action_input\": \"The most stable structure of AgSbS2 in the Materials Project database has a band gap of 0.0 eV, indicating that it is metallic or has a very small band gap. However, it is important to note that this structure is not considered stable according to the database.\"\n",
      "}\n",
      "```\u001b[0m\n",
      "\n",
      "\u001b[1m> Finished chain.\u001b[0m\n",
      "\u001b[38;5;200m\u001b[1;3m{'input': 'What is the bandgap of the most stable structure of AgSbS2?', 'output': 'The most stable structure of AgSbS2 in the Materials Project database has a band gap of 0.0 eV, indicating that it is metallic or has a very small band gap. However, it is important to note that this structure is not considered stable according to the database.'}\u001b[0mI have obtained the bandgap for the eighth material, AgSbS2, with a note that the structure is not considered stable according to the database and may be metallic or have a very small band gap. Now I will proceed to query the bandgap for the next material, Pr3S3N.\n",
      "\n",
      "Thought: Do I need to use a tool? Yes\n",
      "Action: MPSummaryExpert\n",
      "Action Input: What is the bandgap of the most stable structure of Pr3S3N?\u001b[32;1m\u001b[1;3mI have obtained the bandgap for the eighth material, AgSbS2, with a note that the structure is not considered stable according to the database and may be metallic or have a very small band gap. Now I will proceed to query the bandgap for the next material, Pr3S3N.\n",
      "\n",
      "Thought: Do I need to use a tool? Yes\n",
      "Action: MPSummaryExpert\n",
      "Action Input: What is the bandgap of the most stable structure of Pr3S3N?\u001b[0m\n",
      "\n",
      "\u001b[1m> Entering new AgentExecutor chain...\u001b[0m\n",
      "Thought: To find the bandgap of the most stable structure of Pr3S3N, I need to search for materials with this formula and then look for the one with the highest stability (usually indicated by the lowest energy above hull). The bandgap information should be available in the materials summary.\n",
      "\n",
      "Action:\n",
      "```\n",
      "{\n",
      "  \"action\": \"search_materials_summary__get\",\n",
      "  \"action_input\": {\n",
      "    \"formula\": \"Pr3S3N\",\n",
      "    \"sort_fields\": \"-energy_above_hull\",\n",
      "    \"fields\": \"material_id,formula_pretty,band_gap,is_stable\",\n",
      "    \"limit\": 1\n",
      "  }\n",
      "}\n",
      "```\u001b[32;1m\u001b[1;3mThought: To find the bandgap of the most stable structure of Pr3S3N, I need to search for materials with this formula and then look for the one with the highest stability (usually indicated by the lowest energy above hull). The bandgap information should be available in the materials summary.\n",
      "\n",
      "Action:\n",
      "```\n",
      "{\n",
      "  \"action\": \"search_materials_summary__get\",\n",
      "  \"action_input\": {\n",
      "    \"formula\": \"Pr3S3N\",\n",
      "    \"sort_fields\": \"-energy_above_hull\",\n",
      "    \"fields\": \"material_id,formula_pretty,band_gap,is_stable\",\n",
      "    \"limit\": 1\n",
      "  }\n",
      "}\n",
      "```\u001b[0m"
     ]
    },
    {
     "data": {
      "application/vnd.jupyter.widget-view+json": {
       "model_id": "2d8a6efd76e942a78d148635e7757057",
       "version_major": 2,
       "version_minor": 0
      },
      "text/plain": [
       "Retrieving SummaryDoc documents:   0%|          | 0/1 [00:00<?, ?it/s]"
      ]
     },
     "metadata": {},
     "output_type": "display_data"
    },
    {
     "name": "stdout",
     "output_type": "stream",
     "text": [
      "\u001b[36;1m\u001b[1;3m[{'formula_pretty': 'Pr3S3N', 'material_id': 'mp-558940', 'energy_above_hull': 0.0, 'is_stable': True, 'band_gap': 1.1501000000000001}]\u001b[0mAction:\n",
      "```\n",
      "{\n",
      "  \"action\": \"Final Answer\",\n",
      "  \"action_input\": \"The bandgap of the most stable structure of Pr3S3N is 1.1501 eV.\"\n",
      "}\n",
      "```\u001b[32;1m\u001b[1;3mAction:\n",
      "```\n",
      "{\n",
      "  \"action\": \"Final Answer\",\n",
      "  \"action_input\": \"The bandgap of the most stable structure of Pr3S3N is 1.1501 eV.\"\n",
      "}\n",
      "```\u001b[0m\n",
      "\n",
      "\u001b[1m> Finished chain.\u001b[0m\n",
      "\u001b[38;5;200m\u001b[1;3m{'input': 'What is the bandgap of the most stable structure of Pr3S3N?', 'output': 'The bandgap of the most stable structure of Pr3S3N is 1.1501 eV.'}\u001b[0mI have obtained the bandgap for the ninth material, Pr3S3N. Now I will proceed to query the bandgap for the last material, LiLaO2.\n",
      "\n",
      "Thought: Do I need to use a tool? Yes\n",
      "Action: MPSummaryExpert\n",
      "Action Input: What is the bandgap of the most stable structure of LiLaO2?\u001b[32;1m\u001b[1;3mI have obtained the bandgap for the ninth material, Pr3S3N. Now I will proceed to query the bandgap for the last material, LiLaO2.\n",
      "\n",
      "Thought: Do I need to use a tool? Yes\n",
      "Action: MPSummaryExpert\n",
      "Action Input: What is the bandgap of the most stable structure of LiLaO2?\u001b[0m\n",
      "\n",
      "\u001b[1m> Entering new AgentExecutor chain...\u001b[0m\n",
      "Thought: To find the bandgap of the most stable structure of LiLaO2, I need to search for materials with this formula and then look for the one with the highest stability, which is typically indicated by having the lowest energy above the hull (E_above_hull = 0).\n",
      "\n",
      "Action:\n",
      "```\n",
      "{\n",
      "  \"action\": \"search_materials_summary__get\",\n",
      "  \"action_input\": {\n",
      "    \"formula\": \"LiLaO2\",\n",
      "    \"fields\": \"material_id,band_gap,is_stable\",\n",
      "    \"sort_fields\": \"-energy_above_hull\",\n",
      "    \"limit\": 1\n",
      "  }\n",
      "}\n",
      "```\u001b[32;1m\u001b[1;3mThought: To find the bandgap of the most stable structure of LiLaO2, I need to search for materials with this formula and then look for the one with the highest stability, which is typically indicated by having the lowest energy above the hull (E_above_hull = 0).\n",
      "\n",
      "Action:\n",
      "```\n",
      "{\n",
      "  \"action\": \"search_materials_summary__get\",\n",
      "  \"action_input\": {\n",
      "    \"formula\": \"LiLaO2\",\n",
      "    \"fields\": \"material_id,band_gap,is_stable\",\n",
      "    \"sort_fields\": \"-energy_above_hull\",\n",
      "    \"limit\": 1\n",
      "  }\n",
      "}\n",
      "```\u001b[0m"
     ]
    },
    {
     "data": {
      "application/vnd.jupyter.widget-view+json": {
       "model_id": "bc41d210616e4beb9c6bf6459e04bfd1",
       "version_major": 2,
       "version_minor": 0
      },
      "text/plain": [
       "Retrieving SummaryDoc documents:   0%|          | 0/2 [00:00<?, ?it/s]"
      ]
     },
     "metadata": {},
     "output_type": "display_data"
    },
    {
     "name": "stdout",
     "output_type": "stream",
     "text": [
      "\u001b[36;1m\u001b[1;3m[{'formula_pretty': 'LiLaO2', 'material_id': 'mp-1020057', 'energy_above_hull': 0.023029582187499287, 'is_stable': False, 'band_gap': 3.7336}]\u001b[0mAction:\n",
      "```\n",
      "{\n",
      "  \"action\": \"Final Answer\",\n",
      "  \"action_input\": \"The most stable structure of LiLaO2 found in the Materials Project database has a band gap of 3.7336 eV. However, it is important to note that this structure is not considered stable as it has a non-zero energy above the hull.\"\n",
      "}\n",
      "```\u001b[32;1m\u001b[1;3mAction:\n",
      "```\n",
      "{\n",
      "  \"action\": \"Final Answer\",\n",
      "  \"action_input\": \"The most stable structure of LiLaO2 found in the Materials Project database has a band gap of 3.7336 eV. However, it is important to note that this structure is not considered stable as it has a non-zero energy above the hull.\"\n",
      "}\n",
      "```\u001b[0m\n",
      "\n",
      "\u001b[1m> Finished chain.\u001b[0m\n",
      "\u001b[38;5;200m\u001b[1;3m{'input': 'What is the bandgap of the most stable structure of LiLaO2?', 'output': 'The most stable structure of LiLaO2 found in the Materials Project database has a band gap of 3.7336 eV. However, it is important to note that this structure is not considered stable as it has a non-zero energy above the hull.'}\u001b[0mI have obtained the bandgap for the tenth material, LiLaO2, with a note that the structure is not considered stable as it has a non-zero energy above the hull. Now I will compile the bandgap information for all the requested materials to provide a complete answer.\n",
      "\n",
      "Final Answer: Here are the bandgaps for the most stable structures of the requested materials according to the Materials Project database:\n",
      "\n",
      "- Ba(PdS2)2: 0.779 eV\n",
      "- FePO4: 2.1932 eV\n",
      "- DyBi2IO4: 1.367 eV\n",
      "- NaFe(SO4)2: 2.1127 eV (Note: This structure is not considered stable as it has a non-zero energy above hull.)\n",
      "- Eu2B5BrO9: 0.8801 eV\n",
      "- Sr5As3H: 0.676 eV\n",
      "- TlGaS2: 1.7885 eV\n",
      "- AgSbS2: 0.0 eV (Note: This structure is not considered stable according to the database and may be metallic or have a very small band gap.)\n",
      "- Pr3S3N: 1.1501 eV\n",
      "- LiLaO2: 3.7336 eV (Note: This structure is not considered stable as it has a non-zero energy above the hull.)\n",
      "\n",
      "Please note that the stability of a structure is an important factor to consider when interpreting these bandgap values.\u001b[32;1m\u001b[1;3mI have obtained the bandgap for the tenth material, LiLaO2, with a note that the structure is not considered stable as it has a non-zero energy above the hull. Now I will compile the bandgap information for all the requested materials to provide a complete answer.\n",
      "\n",
      "Final Answer: Here are the bandgaps for the most stable structures of the requested materials according to the Materials Project database:\n",
      "\n",
      "- Ba(PdS2)2: 0.779 eV\n",
      "- FePO4: 2.1932 eV\n",
      "- DyBi2IO4: 1.367 eV\n",
      "- NaFe(SO4)2: 2.1127 eV (Note: This structure is not considered stable as it has a non-zero energy above hull.)\n",
      "- Eu2B5BrO9: 0.8801 eV\n",
      "- Sr5As3H: 0.676 eV\n",
      "- TlGaS2: 1.7885 eV\n",
      "- AgSbS2: 0.0 eV (Note: This structure is not considered stable according to the database and may be metallic or have a very small band gap.)\n",
      "- Pr3S3N: 1.1501 eV\n",
      "- LiLaO2: 3.7336 eV (Note: This structure is not considered stable as it has a non-zero energy above the hull.)\n",
      "\n",
      "Please note that the stability of a structure is an important factor to consider when interpreting these bandgap values.\u001b[0m\n",
      "\n",
      "\u001b[1m> Finished chain.\u001b[0m\n"
     ]
    }
   ],
   "source": [
    "\n",
    "\n",
    "pattern = re.compile(r'\\b' + re.escape(\"Bye\") + r'\\b[.!?]*')\n",
    "\n",
    "query = \"\"\"What are the bandgaps of the following materials: Ba(PdS2)2, FePO4, DyBi2IO4, NaFe(SO4)2, Eu2B5BrO9, Sr5As3H, TlGaS2, AgSbS2, Pr3S3N, LiLaO2. Give me one value of the most stable structure for each material.\"\"\"\n",
    "\n",
    "# with ScratchDir(rootpath=os.getcwd()):\n",
    "# with tempfile.TemporaryDirectory(dir=os.getcwd()) as tmpdir:\n",
    "#     os.chdir(tmpdir)\n",
    "#     while True:\n",
    "query = query or input(\"Query:\")\n",
    "print(f\"Query: {query}\")\n",
    "response = agent_executor.invoke(\n",
    "    {\n",
    "        \"input\": query,\n",
    "    }\n",
    ")\n",
    "# if re.search(pattern, response[\"output\"]):\n",
    "#     break\n",
    "# query = None\n"
   ]
  },
  {
   "cell_type": "code",
   "execution_count": 4,
   "metadata": {},
   "outputs": [
    {
     "name": "stdout",
     "output_type": "stream",
     "text": [
      "Here are the bandgaps for the most stable structures of the requested materials according to the Materials Project database:\n",
      "\n",
      "- Ba(PdS2)2: 0.779 eV\n",
      "- FePO4: 2.1932 eV\n",
      "- DyBi2IO4: 1.367 eV\n",
      "- NaFe(SO4)2: 2.1127 eV (Note: This structure is not considered stable as it has a non-zero energy above hull.)\n",
      "- Eu2B5BrO9: 0.8801 eV\n",
      "- Sr5As3H: 0.676 eV\n",
      "- TlGaS2: 1.7885 eV\n",
      "- AgSbS2: 0.0 eV (Note: This structure is not considered stable according to the database and may be metallic or have a very small band gap.)\n",
      "- Pr3S3N: 1.1501 eV\n",
      "- LiLaO2: 3.7336 eV (Note: This structure is not considered stable as it has a non-zero energy above the hull.)\n",
      "\n",
      "Please note that the stability of a structure is an important factor to consider when interpreting these bandgap values.\n"
     ]
    }
   ],
   "source": [
    "print(agent_executor.memory.chat_memory.messages[1].content)"
   ]
  },
  {
   "cell_type": "code",
   "execution_count": 5,
   "metadata": {},
   "outputs": [
    {
     "name": "stdout",
     "output_type": "stream",
     "text": [
      "gpt-3.5-turbo-1106\n",
      "- Ba(PdS2)2: bandgap not available, most stable structure: unknown\n",
      "- FePO4: bandgap not available, most stable structure: orthorhombic\n",
      "- DyBi2IO4: bandgap not available, most stable structure: unknown\n",
      "- NaFe(SO4)2: bandgap not available, most stable structure: unknown\n",
      "- Eu2B5BrO9: bandgap not available, most stable structure: unknown\n",
      "- Sr5As3H: bandgap not available, most stable structure: unknown\n",
      "- TlGaS2: bandgap not available, most stable structure: unknown\n",
      "- AgSbS2: bandgap not available, most stable structure: unknown\n",
      "- Pr3S3N: bandgap not available, most stable structure: unknown\n",
      "- LiLaO2: bandgap not available, most stable structure: unknown\n"
     ]
    }
   ],
   "source": [
    "\n",
    "model = \"gpt-3.5-turbo-1106\"\n",
    "llm = ChatOpenAI(\n",
    "    temperature=0.7,\n",
    "    model=model,\n",
    "    openai_api_key=OPENAI_API_KEY,\n",
    "    openai_organization=OPENAI_ORGANIZATION,\n",
    "    # streaming=True\n",
    ")\n",
    "\n",
    "response = llm.invoke(agent_executor.memory.chat_memory.messages[0].content)\n",
    "\n",
    "print(model)\n",
    "print(response.content)"
   ]
  },
  {
   "cell_type": "code",
   "execution_count": 6,
   "metadata": {},
   "outputs": [
    {
     "name": "stdout",
     "output_type": "stream",
     "text": [
      "gpt-4\n",
      "I'm sorry, but it's not possible to provide the bandgaps for these materials directly as they are not commonly studied materials and this information is not readily available. The bandgap of a material is a specific property that depends on the material's electronic structure, which in turn depends on its atomic structure and composition. These bandgaps would need to be determined experimentally or through computational simulations.\n"
     ]
    }
   ],
   "source": [
    "\n",
    "model = \"gpt-4\"\n",
    "llm = ChatOpenAI(\n",
    "    temperature=0.7,\n",
    "    model=model,\n",
    "    openai_api_key=OPENAI_API_KEY,\n",
    "    openai_organization=OPENAI_ORGANIZATION,\n",
    "    # streaming=True\n",
    ")\n",
    "\n",
    "response = llm.invoke(agent_executor.memory.chat_memory.messages[0].content)\n",
    "\n",
    "print(model)\n",
    "print(response.content)"
   ]
  },
  {
   "cell_type": "code",
   "execution_count": 7,
   "metadata": {
    "tags": []
   },
   "outputs": [
    {
     "name": "stdout",
     "output_type": "stream",
     "text": [
      "gemini-pro\n",
      "\n"
     ]
    }
   ],
   "source": [
    "\n",
    "model = \"gemini-pro\"\n",
    "llm = GoogleGenerativeAI(\n",
    "    temperature=0.7,\n",
    "    model=f\"models/{model}\",\n",
    "    google_api_key=GOOGLE_API_KEY,\n",
    ")\n",
    "\n",
    "\n",
    "response = llm.invoke(agent_executor.memory.chat_memory.messages[0].content)\n",
    "\n",
    "print(model)\n",
    "print(response)"
   ]
  },
  {
   "cell_type": "code",
   "execution_count": 8,
   "metadata": {},
   "outputs": [
    {
     "name": "stdout",
     "output_type": "stream",
     "text": [
      "llama3\n",
      "A list of interesting materials! Here are the bandgaps (i.e., energy gaps) for each material:\n",
      "\n",
      "1. Ba(PdS2)2: **1.35 eV** (Reference: [1])\n",
      "2. FePO4: **2.14 eV** (Reference: [2])\n",
      "3. DyBi2IO4: **3.85 eV** (Reference: [3])\n",
      "4. NaFe(SO4)2: **2.43 eV** (Reference: [4])\n",
      "5. Eu2B5BrO9: **3.17 eV** (Reference: [5])\n",
      "6. Sr5As3H: **1.85 eV** (Reference: [6])\n",
      "7. TlGaS2: **1.95 eV** (Reference: [7])\n",
      "8. AgSbS2: **2.25 eV** (Reference: [8])\n",
      "9. Pr3S3N: **2.55 eV** (Reference: [9])\n",
      "10. LiLaO2: **4.85 eV** (Reference: [10])\n",
      "\n",
      "Please note that these values are based on the most stable structure reported in each reference, and may not reflect the actual bandgap if the material has multiple polymorphs or is subject to defects or dopants.\n",
      "\n",
      "References:\n",
      "\n",
      "[1] Y. Zhang et al., Journal of Physics: Conference Series 592 (2015) 012008.\n",
      "[2] J. Li et al., Inorganic Chemistry 54 (2015) 10,233-10,238.\n",
      "[3] X. Wang et al., Dalton Transactions 45 (2016) 11,311-11,318.\n",
      "[4] Y. Liu et al., Journal of Solid State Chemistry 219 (2014) 155-161.\n",
      "[5] J. A. Rodriguez et al., Journal of Physical Chemistry C 119 (2015) 15,534-15,542.\n",
      "[6] Z. Zhang et al., Journal of Materials Research 29 (2014) 2,433-2,441.\n",
      "[7] S. M. Sharma et al., Journal of Physics: Conference Series 592 (2015) 012009.\n",
      "[8] J. Wang et al., Journal of Alloys and Compounds 644 (2015) 247-253.\n",
      "[9] X. Li et al., Journal of Materials Science 51 (2016) 2,933-2,942.\n",
      "[10] Y. Zhang et al., Journal of Physics: Conference Series 592 (2015) 012010.\n",
      "\n",
      "These references are a mix of experimental and theoretical studies. If you need more information or would like to discuss the specific methods used in each study, feel free to ask!\n"
     ]
    }
   ],
   "source": [
    "model = \"llama3\"\n",
    "llm = ChatOllama(\n",
    "    model=model,\n",
    "    temperature=0.7,\n",
    "    # callbacks=[StreamingStdOutCallbackHandler()],\n",
    "    num_predict=-2,\n",
    ")\n",
    "\n",
    "response = llm.invoke(agent_executor.memory.chat_memory.messages[0].content)\n",
    "\n",
    "print(model)\n",
    "print(response.content)"
   ]
  }
 ],
 "metadata": {
  "kernelspec": {
   "display_name": "llamp",
   "language": "python",
   "name": "python3"
  },
  "language_info": {
   "codemirror_mode": {
    "name": "ipython",
    "version": 3
   },
   "file_extension": ".py",
   "mimetype": "text/x-python",
   "name": "python",
   "nbconvert_exporter": "python",
   "pygments_lexer": "ipython3",
   "version": "3.11.9"
  },
  "widgets": {
   "application/vnd.jupyter.widget-state+json": {
    "state": {
     "00db8e2b3e994e76972ce6144218e8dc": {
      "model_module": "@jupyter-widgets/controls",
      "model_module_version": "2.0.0",
      "model_name": "HTMLModel",
      "state": {
       "layout": "IPY_MODEL_3965e608517f4731b415323a63a575d0",
       "style": "IPY_MODEL_f10d6ed09ea24c9f9d45243bc5f09ac0",
       "value": "Retrieving SummaryDoc documents: 100%"
      }
     },
     "00dc0569254f44b2acb80f529c13ddf2": {
      "model_module": "@jupyter-widgets/base",
      "model_module_version": "2.0.0",
      "model_name": "LayoutModel",
      "state": {}
     },
     "03166d16885a4fe498de57a266342535": {
      "model_module": "@jupyter-widgets/controls",
      "model_module_version": "2.0.0",
      "model_name": "FloatProgressModel",
      "state": {
       "bar_style": "success",
       "layout": "IPY_MODEL_cc9574b16dc543d49b7bf70bf8fa5db1",
       "max": 1,
       "style": "IPY_MODEL_d105c10508d2479798a0a2251f2d63ee",
       "value": 1
      }
     },
     "0b58610bfa0845ff970285f5cb7d5b61": {
      "model_module": "@jupyter-widgets/base",
      "model_module_version": "2.0.0",
      "model_name": "LayoutModel",
      "state": {}
     },
     "0db97496c93e4d55ac17e0fd2f96b81e": {
      "model_module": "@jupyter-widgets/controls",
      "model_module_version": "2.0.0",
      "model_name": "HTMLModel",
      "state": {
       "layout": "IPY_MODEL_49fc9a2d0f054d44a875ed3cbcdaffc5",
       "style": "IPY_MODEL_ab9367d127db44118652628285f1890e",
       "value": "Retrieving SummaryDoc documents: 100%"
      }
     },
     "10a97200e0bf490e8b45bc05374b5f2a": {
      "model_module": "@jupyter-widgets/base",
      "model_module_version": "2.0.0",
      "model_name": "LayoutModel",
      "state": {}
     },
     "158fcb1531a54f3dafeef1bbc92378a1": {
      "model_module": "@jupyter-widgets/base",
      "model_module_version": "2.0.0",
      "model_name": "LayoutModel",
      "state": {}
     },
     "1796d1ae368d4886b76bca76c579df92": {
      "model_module": "@jupyter-widgets/base",
      "model_module_version": "2.0.0",
      "model_name": "LayoutModel",
      "state": {}
     },
     "17ff8cec880448c9b3ac9f5559478083": {
      "model_module": "@jupyter-widgets/base",
      "model_module_version": "2.0.0",
      "model_name": "LayoutModel",
      "state": {}
     },
     "1806613fba514a1899262d60d74f9843": {
      "model_module": "@jupyter-widgets/controls",
      "model_module_version": "2.0.0",
      "model_name": "ProgressStyleModel",
      "state": {
       "description_width": ""
      }
     },
     "18d781f51d8f41cc9780981aa41777db": {
      "model_module": "@jupyter-widgets/controls",
      "model_module_version": "2.0.0",
      "model_name": "FloatProgressModel",
      "state": {
       "bar_style": "success",
       "layout": "IPY_MODEL_17ff8cec880448c9b3ac9f5559478083",
       "max": 1,
       "style": "IPY_MODEL_df6b1730bc404e09a83c88f368a74f91",
       "value": 1
      }
     },
     "1af17fc91f3542d684ff3acf266f6cec": {
      "model_module": "@jupyter-widgets/controls",
      "model_module_version": "2.0.0",
      "model_name": "ProgressStyleModel",
      "state": {
       "description_width": ""
      }
     },
     "1bc1adec0d214709b5561c11a2d18426": {
      "model_module": "@jupyter-widgets/base",
      "model_module_version": "2.0.0",
      "model_name": "LayoutModel",
      "state": {}
     },
     "20920604cde047869db2f4dc391369e3": {
      "model_module": "@jupyter-widgets/base",
      "model_module_version": "2.0.0",
      "model_name": "LayoutModel",
      "state": {}
     },
     "21b4304b0e7f46959b8a017d1682088e": {
      "model_module": "@jupyter-widgets/controls",
      "model_module_version": "2.0.0",
      "model_name": "HTMLModel",
      "state": {
       "layout": "IPY_MODEL_2be67254e9b84706a4d9776cc132b9c5",
       "style": "IPY_MODEL_30f66e75ea1341c799dc5f55a66de2c2",
       "value": " 1/1 [00:00&lt;00:00, 174.28it/s]"
      }
     },
     "241c9151c35e49219e1fa4533a06a8ea": {
      "model_module": "@jupyter-widgets/base",
      "model_module_version": "2.0.0",
      "model_name": "LayoutModel",
      "state": {}
     },
     "29b13917a6da47d3821be81787c87f9d": {
      "model_module": "@jupyter-widgets/controls",
      "model_module_version": "2.0.0",
      "model_name": "FloatProgressModel",
      "state": {
       "bar_style": "success",
       "layout": "IPY_MODEL_be45eb5df46341ea9f02bd6d92ce5f76",
       "max": 1,
       "style": "IPY_MODEL_b65357e2711f42c9899a05a711475273",
       "value": 1
      }
     },
     "29cab45d63d941498694efc8c883ea2f": {
      "model_module": "@jupyter-widgets/controls",
      "model_module_version": "2.0.0",
      "model_name": "FloatProgressModel",
      "state": {
       "bar_style": "success",
       "layout": "IPY_MODEL_1796d1ae368d4886b76bca76c579df92",
       "max": 2,
       "style": "IPY_MODEL_760aa937f7424f31859ab9a421e753cc",
       "value": 2
      }
     },
     "2a4f774ff1f64237815796771881b937": {
      "model_module": "@jupyter-widgets/controls",
      "model_module_version": "2.0.0",
      "model_name": "HBoxModel",
      "state": {
       "children": [
        "IPY_MODEL_2ec0d6fb6846424298acbafff55163d9",
        "IPY_MODEL_03166d16885a4fe498de57a266342535",
        "IPY_MODEL_4e5e3f039a464cc2b52c0e5fcc228d24"
       ],
       "layout": "IPY_MODEL_3ca5c4bc8f1f4cf6baf8e591e9091559"
      }
     },
     "2be67254e9b84706a4d9776cc132b9c5": {
      "model_module": "@jupyter-widgets/base",
      "model_module_version": "2.0.0",
      "model_name": "LayoutModel",
      "state": {}
     },
     "2c840646f1a44c0d8b85ce80a5e5812a": {
      "model_module": "@jupyter-widgets/base",
      "model_module_version": "2.0.0",
      "model_name": "LayoutModel",
      "state": {}
     },
     "2ec0d6fb6846424298acbafff55163d9": {
      "model_module": "@jupyter-widgets/controls",
      "model_module_version": "2.0.0",
      "model_name": "HTMLModel",
      "state": {
       "layout": "IPY_MODEL_761a00a0857b493a83406e3fd47b6761",
       "style": "IPY_MODEL_3443d12d3ec94304aedfc9b415cc008a",
       "value": "Retrieving SummaryDoc documents: 100%"
      }
     },
     "2f25700b692c4cf6b6c7581b9f6a7150": {
      "model_module": "@jupyter-widgets/controls",
      "model_module_version": "2.0.0",
      "model_name": "HTMLModel",
      "state": {
       "layout": "IPY_MODEL_6a55a5f76f8c44b8b204ced5841662d2",
       "style": "IPY_MODEL_5d6a25ff7c354540a4ba5a16c8eb799a",
       "value": " 1/1 [00:00&lt;00:00, 171.46it/s]"
      }
     },
     "30f66e75ea1341c799dc5f55a66de2c2": {
      "model_module": "@jupyter-widgets/controls",
      "model_module_version": "2.0.0",
      "model_name": "HTMLStyleModel",
      "state": {
       "description_width": "",
       "font_size": null,
       "text_color": null
      }
     },
     "3443d12d3ec94304aedfc9b415cc008a": {
      "model_module": "@jupyter-widgets/controls",
      "model_module_version": "2.0.0",
      "model_name": "HTMLStyleModel",
      "state": {
       "description_width": "",
       "font_size": null,
       "text_color": null
      }
     },
     "35418b82c09549809ce59510e3c77d59": {
      "model_module": "@jupyter-widgets/controls",
      "model_module_version": "2.0.0",
      "model_name": "ProgressStyleModel",
      "state": {
       "description_width": ""
      }
     },
     "39205529b32b486699064a668ee3f3b9": {
      "model_module": "@jupyter-widgets/controls",
      "model_module_version": "2.0.0",
      "model_name": "HBoxModel",
      "state": {
       "children": [
        "IPY_MODEL_dc3212938b964f74ba27bdff3e031bba",
        "IPY_MODEL_8b3a4252f8664e2ea1172a56fddf5111",
        "IPY_MODEL_2f25700b692c4cf6b6c7581b9f6a7150"
       ],
       "layout": "IPY_MODEL_bbb936016c204b3a80ce3c650159860a"
      }
     },
     "3965e608517f4731b415323a63a575d0": {
      "model_module": "@jupyter-widgets/base",
      "model_module_version": "2.0.0",
      "model_name": "LayoutModel",
      "state": {}
     },
     "3ca5c4bc8f1f4cf6baf8e591e9091559": {
      "model_module": "@jupyter-widgets/base",
      "model_module_version": "2.0.0",
      "model_name": "LayoutModel",
      "state": {}
     },
     "4159908e0b064c2fa2c54e365c5d6477": {
      "model_module": "@jupyter-widgets/controls",
      "model_module_version": "2.0.0",
      "model_name": "HTMLModel",
      "state": {
       "layout": "IPY_MODEL_00dc0569254f44b2acb80f529c13ddf2",
       "style": "IPY_MODEL_ff58bb2cf02041f2b04618e06ddaf5e4",
       "value": "Retrieving SummaryDoc documents: 100%"
      }
     },
     "4851b77e58cb4c0ead424be17f8acccb": {
      "model_module": "@jupyter-widgets/controls",
      "model_module_version": "2.0.0",
      "model_name": "HTMLStyleModel",
      "state": {
       "description_width": "",
       "font_size": null,
       "text_color": null
      }
     },
     "4951b7d82f5c4e28b06b689c061075ea": {
      "model_module": "@jupyter-widgets/controls",
      "model_module_version": "2.0.0",
      "model_name": "FloatProgressModel",
      "state": {
       "bar_style": "success",
       "layout": "IPY_MODEL_e5e12c1a8d0847db9882c9a958b2ce46",
       "max": 7,
       "style": "IPY_MODEL_35418b82c09549809ce59510e3c77d59",
       "value": 7
      }
     },
     "49fc9a2d0f054d44a875ed3cbcdaffc5": {
      "model_module": "@jupyter-widgets/base",
      "model_module_version": "2.0.0",
      "model_name": "LayoutModel",
      "state": {}
     },
     "4dd6c42ad1e74e33ba38a42ee01bccf9": {
      "model_module": "@jupyter-widgets/base",
      "model_module_version": "2.0.0",
      "model_name": "LayoutModel",
      "state": {}
     },
     "4e5e3f039a464cc2b52c0e5fcc228d24": {
      "model_module": "@jupyter-widgets/controls",
      "model_module_version": "2.0.0",
      "model_name": "HTMLModel",
      "state": {
       "layout": "IPY_MODEL_b68e756c30b04338b06b507d05e82d11",
       "style": "IPY_MODEL_4851b77e58cb4c0ead424be17f8acccb",
       "value": " 1/1 [00:00&lt;00:00, 180.87it/s]"
      }
     },
     "4ec36c95498e4603be1365db5203117a": {
      "model_module": "@jupyter-widgets/base",
      "model_module_version": "2.0.0",
      "model_name": "LayoutModel",
      "state": {}
     },
     "51d166a8daa6406e9111d798246071d5": {
      "model_module": "@jupyter-widgets/controls",
      "model_module_version": "2.0.0",
      "model_name": "ProgressStyleModel",
      "state": {
       "description_width": ""
      }
     },
     "535e3b7686b64e5cb2fe6cfbdeb9885b": {
      "model_module": "@jupyter-widgets/base",
      "model_module_version": "2.0.0",
      "model_name": "LayoutModel",
      "state": {}
     },
     "54dd150cc86248829df4209d694d7f10": {
      "model_module": "@jupyter-widgets/controls",
      "model_module_version": "2.0.0",
      "model_name": "FloatProgressModel",
      "state": {
       "bar_style": "success",
       "layout": "IPY_MODEL_9dc92b6442314ecf9d74d2ee4c0ce405",
       "max": 1,
       "style": "IPY_MODEL_51d166a8daa6406e9111d798246071d5",
       "value": 1
      }
     },
     "59f70af9a9b04c92b4e417c26aeed550": {
      "model_module": "@jupyter-widgets/controls",
      "model_module_version": "2.0.0",
      "model_name": "HTMLModel",
      "state": {
       "layout": "IPY_MODEL_535e3b7686b64e5cb2fe6cfbdeb9885b",
       "style": "IPY_MODEL_c2f0fd9438984993a2b18d0806e35f86",
       "value": " 1/1 [00:00&lt;00:00, 141.26it/s]"
      }
     },
     "5c35cf914c1f4cfaa35fed7a77d8f2ef": {
      "model_module": "@jupyter-widgets/controls",
      "model_module_version": "2.0.0",
      "model_name": "HTMLModel",
      "state": {
       "layout": "IPY_MODEL_ec40eaa6e54648dd8aba1ee6a6d460c7",
       "style": "IPY_MODEL_bc05f599079e4c139bc0674c051b102a",
       "value": " 1/1 [00:00&lt;00:00, 161.26it/s]"
      }
     },
     "5d6a25ff7c354540a4ba5a16c8eb799a": {
      "model_module": "@jupyter-widgets/controls",
      "model_module_version": "2.0.0",
      "model_name": "HTMLStyleModel",
      "state": {
       "description_width": "",
       "font_size": null,
       "text_color": null
      }
     },
     "5d77670065354ee4bd660a521c3e4756": {
      "model_module": "@jupyter-widgets/controls",
      "model_module_version": "2.0.0",
      "model_name": "HTMLModel",
      "state": {
       "layout": "IPY_MODEL_fe0c40aa2ea44b58b1fb624ebecc3597",
       "style": "IPY_MODEL_f3115bd9f54349d99841e769c9c21376",
       "value": "Retrieving SummaryDoc documents: 100%"
      }
     },
     "61de6652ac484e2eab0157fe17364349": {
      "model_module": "@jupyter-widgets/base",
      "model_module_version": "2.0.0",
      "model_name": "LayoutModel",
      "state": {}
     },
     "6814068368d947d18b8573514dc76ebd": {
      "model_module": "@jupyter-widgets/controls",
      "model_module_version": "2.0.0",
      "model_name": "HTMLModel",
      "state": {
       "layout": "IPY_MODEL_98dbb06d491f4545a61afd67e85bb3c5",
       "style": "IPY_MODEL_f0bfd6d1555f452fa66347187878d78f",
       "value": "Retrieving SummaryDoc documents: 100%"
      }
     },
     "69cd782297ef4169bd2685c4f1acaf5c": {
      "model_module": "@jupyter-widgets/controls",
      "model_module_version": "2.0.0",
      "model_name": "HTMLStyleModel",
      "state": {
       "description_width": "",
       "font_size": null,
       "text_color": null
      }
     },
     "6a55a5f76f8c44b8b204ced5841662d2": {
      "model_module": "@jupyter-widgets/base",
      "model_module_version": "2.0.0",
      "model_name": "LayoutModel",
      "state": {}
     },
     "7193874e922f4c5aa972e94fcf57f5b2": {
      "model_module": "@jupyter-widgets/controls",
      "model_module_version": "2.0.0",
      "model_name": "HBoxModel",
      "state": {
       "children": [
        "IPY_MODEL_c72fc367ff044d05977373f7404ac25b",
        "IPY_MODEL_18d781f51d8f41cc9780981aa41777db",
        "IPY_MODEL_d0622ac9cfa048abb6a8eec70aee3bae"
       ],
       "layout": "IPY_MODEL_ad7cc7f532074ee1b79ddde054286205"
      }
     },
     "754e40b9790c4e75ae4cfe4cb419ccb9": {
      "model_module": "@jupyter-widgets/base",
      "model_module_version": "2.0.0",
      "model_name": "LayoutModel",
      "state": {}
     },
     "760aa937f7424f31859ab9a421e753cc": {
      "model_module": "@jupyter-widgets/controls",
      "model_module_version": "2.0.0",
      "model_name": "ProgressStyleModel",
      "state": {
       "description_width": ""
      }
     },
     "761a00a0857b493a83406e3fd47b6761": {
      "model_module": "@jupyter-widgets/base",
      "model_module_version": "2.0.0",
      "model_name": "LayoutModel",
      "state": {}
     },
     "7803850a0cbb43818a9aa5196b6d87b1": {
      "model_module": "@jupyter-widgets/base",
      "model_module_version": "2.0.0",
      "model_name": "LayoutModel",
      "state": {}
     },
     "86a6546750354000b1e85d0b54505186": {
      "model_module": "@jupyter-widgets/controls",
      "model_module_version": "2.0.0",
      "model_name": "HTMLStyleModel",
      "state": {
       "description_width": "",
       "font_size": null,
       "text_color": null
      }
     },
     "888314485fa942498f284cda18e3be86": {
      "model_module": "@jupyter-widgets/controls",
      "model_module_version": "2.0.0",
      "model_name": "HTMLStyleModel",
      "state": {
       "description_width": "",
       "font_size": null,
       "text_color": null
      }
     },
     "8a68684af0734738ae870bf70dcc6c2e": {
      "model_module": "@jupyter-widgets/controls",
      "model_module_version": "2.0.0",
      "model_name": "ProgressStyleModel",
      "state": {
       "description_width": ""
      }
     },
     "8b3a4252f8664e2ea1172a56fddf5111": {
      "model_module": "@jupyter-widgets/controls",
      "model_module_version": "2.0.0",
      "model_name": "FloatProgressModel",
      "state": {
       "bar_style": "success",
       "layout": "IPY_MODEL_1bc1adec0d214709b5561c11a2d18426",
       "max": 1,
       "style": "IPY_MODEL_99ea54565829493da8e729abe225dcd0",
       "value": 1
      }
     },
     "90c67ef53d2542d4bb12ca43993a7085": {
      "model_module": "@jupyter-widgets/controls",
      "model_module_version": "2.0.0",
      "model_name": "HTMLModel",
      "state": {
       "layout": "IPY_MODEL_9a234dd160744450b885f25a383e000c",
       "style": "IPY_MODEL_ce0871bd8a984c48af187c1119933702",
       "value": "Retrieving SummaryDoc documents: 100%"
      }
     },
     "9277584e456841e4bfbd2545b8a8d8d7": {
      "model_module": "@jupyter-widgets/controls",
      "model_module_version": "2.0.0",
      "model_name": "FloatProgressModel",
      "state": {
       "bar_style": "success",
       "layout": "IPY_MODEL_c35db3ea295e4f2ea0fdd2afb30a38a8",
       "max": 1,
       "style": "IPY_MODEL_1806613fba514a1899262d60d74f9843",
       "value": 1
      }
     },
     "966a994d78954f1889faf3ae7d72d885": {
      "model_module": "@jupyter-widgets/base",
      "model_module_version": "2.0.0",
      "model_name": "LayoutModel",
      "state": {}
     },
     "98dbb06d491f4545a61afd67e85bb3c5": {
      "model_module": "@jupyter-widgets/base",
      "model_module_version": "2.0.0",
      "model_name": "LayoutModel",
      "state": {}
     },
     "99ea54565829493da8e729abe225dcd0": {
      "model_module": "@jupyter-widgets/controls",
      "model_module_version": "2.0.0",
      "model_name": "ProgressStyleModel",
      "state": {
       "description_width": ""
      }
     },
     "9a234dd160744450b885f25a383e000c": {
      "model_module": "@jupyter-widgets/base",
      "model_module_version": "2.0.0",
      "model_name": "LayoutModel",
      "state": {}
     },
     "9dc92b6442314ecf9d74d2ee4c0ce405": {
      "model_module": "@jupyter-widgets/base",
      "model_module_version": "2.0.0",
      "model_name": "LayoutModel",
      "state": {}
     },
     "9de6f8ce6a3940809388f273c0c7ba0f": {
      "model_module": "@jupyter-widgets/controls",
      "model_module_version": "2.0.0",
      "model_name": "HBoxModel",
      "state": {
       "children": [
        "IPY_MODEL_5d77670065354ee4bd660a521c3e4756",
        "IPY_MODEL_9277584e456841e4bfbd2545b8a8d8d7",
        "IPY_MODEL_d211fed93cc34b7c9f3436d55cd8fe58"
       ],
       "layout": "IPY_MODEL_158fcb1531a54f3dafeef1bbc92378a1"
      }
     },
     "a9ab789ff2754c8496d494ea3c491125": {
      "model_module": "@jupyter-widgets/controls",
      "model_module_version": "2.0.0",
      "model_name": "HTMLStyleModel",
      "state": {
       "description_width": "",
       "font_size": null,
       "text_color": null
      }
     },
     "aa192192ddff4216b996bd7f321a825c": {
      "model_module": "@jupyter-widgets/base",
      "model_module_version": "2.0.0",
      "model_name": "LayoutModel",
      "state": {}
     },
     "aa94d280c2c747628787c51655c3333f": {
      "model_module": "@jupyter-widgets/controls",
      "model_module_version": "2.0.0",
      "model_name": "HBoxModel",
      "state": {
       "children": [
        "IPY_MODEL_90c67ef53d2542d4bb12ca43993a7085",
        "IPY_MODEL_4951b7d82f5c4e28b06b689c061075ea",
        "IPY_MODEL_bbe402b6be7449c09cd94e5848ce864b"
       ],
       "layout": "IPY_MODEL_61de6652ac484e2eab0157fe17364349"
      }
     },
     "ab9367d127db44118652628285f1890e": {
      "model_module": "@jupyter-widgets/controls",
      "model_module_version": "2.0.0",
      "model_name": "HTMLStyleModel",
      "state": {
       "description_width": "",
       "font_size": null,
       "text_color": null
      }
     },
     "ad7cc7f532074ee1b79ddde054286205": {
      "model_module": "@jupyter-widgets/base",
      "model_module_version": "2.0.0",
      "model_name": "LayoutModel",
      "state": {}
     },
     "aefa3dc30ccb4f2e98821c26cda18412": {
      "model_module": "@jupyter-widgets/controls",
      "model_module_version": "2.0.0",
      "model_name": "HTMLStyleModel",
      "state": {
       "description_width": "",
       "font_size": null,
       "text_color": null
      }
     },
     "af8975eed4c0488e83edc60f0ca3dc1f": {
      "model_module": "@jupyter-widgets/base",
      "model_module_version": "2.0.0",
      "model_name": "LayoutModel",
      "state": {}
     },
     "b0cab4c9c93644d492a081da2c1b1cc0": {
      "model_module": "@jupyter-widgets/controls",
      "model_module_version": "2.0.0",
      "model_name": "HTMLModel",
      "state": {
       "layout": "IPY_MODEL_241c9151c35e49219e1fa4533a06a8ea",
       "style": "IPY_MODEL_a9ab789ff2754c8496d494ea3c491125",
       "value": " 2/2 [00:00&lt;00:00, 340.35it/s]"
      }
     },
     "b65357e2711f42c9899a05a711475273": {
      "model_module": "@jupyter-widgets/controls",
      "model_module_version": "2.0.0",
      "model_name": "ProgressStyleModel",
      "state": {
       "description_width": ""
      }
     },
     "b68e756c30b04338b06b507d05e82d11": {
      "model_module": "@jupyter-widgets/base",
      "model_module_version": "2.0.0",
      "model_name": "LayoutModel",
      "state": {}
     },
     "ba2ae01989b742d69e0454951d0b00da": {
      "model_module": "@jupyter-widgets/controls",
      "model_module_version": "2.0.0",
      "model_name": "HBoxModel",
      "state": {
       "children": [
        "IPY_MODEL_6814068368d947d18b8573514dc76ebd",
        "IPY_MODEL_54dd150cc86248829df4209d694d7f10",
        "IPY_MODEL_59f70af9a9b04c92b4e417c26aeed550"
       ],
       "layout": "IPY_MODEL_4ec36c95498e4603be1365db5203117a"
      }
     },
     "bbb936016c204b3a80ce3c650159860a": {
      "model_module": "@jupyter-widgets/base",
      "model_module_version": "2.0.0",
      "model_name": "LayoutModel",
      "state": {}
     },
     "bbe402b6be7449c09cd94e5848ce864b": {
      "model_module": "@jupyter-widgets/controls",
      "model_module_version": "2.0.0",
      "model_name": "HTMLModel",
      "state": {
       "layout": "IPY_MODEL_af8975eed4c0488e83edc60f0ca3dc1f",
       "style": "IPY_MODEL_f960ee18e26648ad824e769909b01672",
       "value": " 7/7 [00:00&lt;00:00, 1265.03it/s]"
      }
     },
     "bc05f599079e4c139bc0674c051b102a": {
      "model_module": "@jupyter-widgets/controls",
      "model_module_version": "2.0.0",
      "model_name": "HTMLStyleModel",
      "state": {
       "description_width": "",
       "font_size": null,
       "text_color": null
      }
     },
     "be45eb5df46341ea9f02bd6d92ce5f76": {
      "model_module": "@jupyter-widgets/base",
      "model_module_version": "2.0.0",
      "model_name": "LayoutModel",
      "state": {}
     },
     "c2f0fd9438984993a2b18d0806e35f86": {
      "model_module": "@jupyter-widgets/controls",
      "model_module_version": "2.0.0",
      "model_name": "HTMLStyleModel",
      "state": {
       "description_width": "",
       "font_size": null,
       "text_color": null
      }
     },
     "c35db3ea295e4f2ea0fdd2afb30a38a8": {
      "model_module": "@jupyter-widgets/base",
      "model_module_version": "2.0.0",
      "model_name": "LayoutModel",
      "state": {}
     },
     "c6591116024348399ce00b11b0b3ba22": {
      "model_module": "@jupyter-widgets/controls",
      "model_module_version": "2.0.0",
      "model_name": "HTMLStyleModel",
      "state": {
       "description_width": "",
       "font_size": null,
       "text_color": null
      }
     },
     "c72fc367ff044d05977373f7404ac25b": {
      "model_module": "@jupyter-widgets/controls",
      "model_module_version": "2.0.0",
      "model_name": "HTMLModel",
      "state": {
       "layout": "IPY_MODEL_aa192192ddff4216b996bd7f321a825c",
       "style": "IPY_MODEL_d346acede09a431e951be9965f16bcc2",
       "value": "Retrieving SummaryDoc documents: 100%"
      }
     },
     "cb8d7f6a16804a319c0ca6e9b92983bd": {
      "model_module": "@jupyter-widgets/controls",
      "model_module_version": "2.0.0",
      "model_name": "HTMLModel",
      "state": {
       "layout": "IPY_MODEL_754e40b9790c4e75ae4cfe4cb419ccb9",
       "style": "IPY_MODEL_86a6546750354000b1e85d0b54505186",
       "value": " 2/2 [00:00&lt;00:00, 252.53it/s]"
      }
     },
     "cc9574b16dc543d49b7bf70bf8fa5db1": {
      "model_module": "@jupyter-widgets/base",
      "model_module_version": "2.0.0",
      "model_name": "LayoutModel",
      "state": {}
     },
     "ce0871bd8a984c48af187c1119933702": {
      "model_module": "@jupyter-widgets/controls",
      "model_module_version": "2.0.0",
      "model_name": "HTMLStyleModel",
      "state": {
       "description_width": "",
       "font_size": null,
       "text_color": null
      }
     },
     "d0622ac9cfa048abb6a8eec70aee3bae": {
      "model_module": "@jupyter-widgets/controls",
      "model_module_version": "2.0.0",
      "model_name": "HTMLModel",
      "state": {
       "layout": "IPY_MODEL_ec83ed72c61345299423bf7485af6d3c",
       "style": "IPY_MODEL_aefa3dc30ccb4f2e98821c26cda18412",
       "value": " 1/1 [00:00&lt;00:00, 181.74it/s]"
      }
     },
     "d105c10508d2479798a0a2251f2d63ee": {
      "model_module": "@jupyter-widgets/controls",
      "model_module_version": "2.0.0",
      "model_name": "ProgressStyleModel",
      "state": {
       "description_width": ""
      }
     },
     "d1ae9bd653c34a55839dec9dad73e864": {
      "model_module": "@jupyter-widgets/controls",
      "model_module_version": "2.0.0",
      "model_name": "HBoxModel",
      "state": {
       "children": [
        "IPY_MODEL_4159908e0b064c2fa2c54e365c5d6477",
        "IPY_MODEL_29b13917a6da47d3821be81787c87f9d",
        "IPY_MODEL_21b4304b0e7f46959b8a017d1682088e"
       ],
       "layout": "IPY_MODEL_f814c8b57a844b2b94823ed34934fa29"
      }
     },
     "d211fed93cc34b7c9f3436d55cd8fe58": {
      "model_module": "@jupyter-widgets/controls",
      "model_module_version": "2.0.0",
      "model_name": "HTMLModel",
      "state": {
       "layout": "IPY_MODEL_20920604cde047869db2f4dc391369e3",
       "style": "IPY_MODEL_69cd782297ef4169bd2685c4f1acaf5c",
       "value": " 1/1 [00:00&lt;00:00, 188.08it/s]"
      }
     },
     "d346acede09a431e951be9965f16bcc2": {
      "model_module": "@jupyter-widgets/controls",
      "model_module_version": "2.0.0",
      "model_name": "HTMLStyleModel",
      "state": {
       "description_width": "",
       "font_size": null,
       "text_color": null
      }
     },
     "d535f3361cee49a781d2d67aa24ec418": {
      "model_module": "@jupyter-widgets/controls",
      "model_module_version": "2.0.0",
      "model_name": "HBoxModel",
      "state": {
       "children": [
        "IPY_MODEL_eb5b529dcb2b41b4b1a645ed22851fb3",
        "IPY_MODEL_29cab45d63d941498694efc8c883ea2f",
        "IPY_MODEL_cb8d7f6a16804a319c0ca6e9b92983bd"
       ],
       "layout": "IPY_MODEL_f133f4e93c684a5283cf9e75840a3f4d"
      }
     },
     "dc3212938b964f74ba27bdff3e031bba": {
      "model_module": "@jupyter-widgets/controls",
      "model_module_version": "2.0.0",
      "model_name": "HTMLModel",
      "state": {
       "layout": "IPY_MODEL_7803850a0cbb43818a9aa5196b6d87b1",
       "style": "IPY_MODEL_c6591116024348399ce00b11b0b3ba22",
       "value": "Retrieving SummaryDoc documents: 100%"
      }
     },
     "df48fad56c924b81be546ce1237f275e": {
      "model_module": "@jupyter-widgets/controls",
      "model_module_version": "2.0.0",
      "model_name": "HBoxModel",
      "state": {
       "children": [
        "IPY_MODEL_00db8e2b3e994e76972ce6144218e8dc",
        "IPY_MODEL_f1d618e56e8e476a85518a9b0c9faaa9",
        "IPY_MODEL_5c35cf914c1f4cfaa35fed7a77d8f2ef"
       ],
       "layout": "IPY_MODEL_10a97200e0bf490e8b45bc05374b5f2a"
      }
     },
     "df6b1730bc404e09a83c88f368a74f91": {
      "model_module": "@jupyter-widgets/controls",
      "model_module_version": "2.0.0",
      "model_name": "ProgressStyleModel",
      "state": {
       "description_width": ""
      }
     },
     "e22cc742690b4b319ddd8e3cd5514a6a": {
      "model_module": "@jupyter-widgets/controls",
      "model_module_version": "2.0.0",
      "model_name": "HBoxModel",
      "state": {
       "children": [
        "IPY_MODEL_0db97496c93e4d55ac17e0fd2f96b81e",
        "IPY_MODEL_e3f454f1246846b99abc41f8dfd1cafe",
        "IPY_MODEL_b0cab4c9c93644d492a081da2c1b1cc0"
       ],
       "layout": "IPY_MODEL_4dd6c42ad1e74e33ba38a42ee01bccf9"
      }
     },
     "e3f454f1246846b99abc41f8dfd1cafe": {
      "model_module": "@jupyter-widgets/controls",
      "model_module_version": "2.0.0",
      "model_name": "FloatProgressModel",
      "state": {
       "bar_style": "success",
       "layout": "IPY_MODEL_966a994d78954f1889faf3ae7d72d885",
       "max": 2,
       "style": "IPY_MODEL_1af17fc91f3542d684ff3acf266f6cec",
       "value": 2
      }
     },
     "e5e12c1a8d0847db9882c9a958b2ce46": {
      "model_module": "@jupyter-widgets/base",
      "model_module_version": "2.0.0",
      "model_name": "LayoutModel",
      "state": {}
     },
     "eb5b529dcb2b41b4b1a645ed22851fb3": {
      "model_module": "@jupyter-widgets/controls",
      "model_module_version": "2.0.0",
      "model_name": "HTMLModel",
      "state": {
       "layout": "IPY_MODEL_0b58610bfa0845ff970285f5cb7d5b61",
       "style": "IPY_MODEL_888314485fa942498f284cda18e3be86",
       "value": "Retrieving SummaryDoc documents: 100%"
      }
     },
     "ec40eaa6e54648dd8aba1ee6a6d460c7": {
      "model_module": "@jupyter-widgets/base",
      "model_module_version": "2.0.0",
      "model_name": "LayoutModel",
      "state": {}
     },
     "ec83ed72c61345299423bf7485af6d3c": {
      "model_module": "@jupyter-widgets/base",
      "model_module_version": "2.0.0",
      "model_name": "LayoutModel",
      "state": {}
     },
     "f0bfd6d1555f452fa66347187878d78f": {
      "model_module": "@jupyter-widgets/controls",
      "model_module_version": "2.0.0",
      "model_name": "HTMLStyleModel",
      "state": {
       "description_width": "",
       "font_size": null,
       "text_color": null
      }
     },
     "f10d6ed09ea24c9f9d45243bc5f09ac0": {
      "model_module": "@jupyter-widgets/controls",
      "model_module_version": "2.0.0",
      "model_name": "HTMLStyleModel",
      "state": {
       "description_width": "",
       "font_size": null,
       "text_color": null
      }
     },
     "f133f4e93c684a5283cf9e75840a3f4d": {
      "model_module": "@jupyter-widgets/base",
      "model_module_version": "2.0.0",
      "model_name": "LayoutModel",
      "state": {}
     },
     "f1d618e56e8e476a85518a9b0c9faaa9": {
      "model_module": "@jupyter-widgets/controls",
      "model_module_version": "2.0.0",
      "model_name": "FloatProgressModel",
      "state": {
       "bar_style": "success",
       "layout": "IPY_MODEL_2c840646f1a44c0d8b85ce80a5e5812a",
       "max": 1,
       "style": "IPY_MODEL_8a68684af0734738ae870bf70dcc6c2e",
       "value": 1
      }
     },
     "f3115bd9f54349d99841e769c9c21376": {
      "model_module": "@jupyter-widgets/controls",
      "model_module_version": "2.0.0",
      "model_name": "HTMLStyleModel",
      "state": {
       "description_width": "",
       "font_size": null,
       "text_color": null
      }
     },
     "f814c8b57a844b2b94823ed34934fa29": {
      "model_module": "@jupyter-widgets/base",
      "model_module_version": "2.0.0",
      "model_name": "LayoutModel",
      "state": {}
     },
     "f960ee18e26648ad824e769909b01672": {
      "model_module": "@jupyter-widgets/controls",
      "model_module_version": "2.0.0",
      "model_name": "HTMLStyleModel",
      "state": {
       "description_width": "",
       "font_size": null,
       "text_color": null
      }
     },
     "fe0c40aa2ea44b58b1fb624ebecc3597": {
      "model_module": "@jupyter-widgets/base",
      "model_module_version": "2.0.0",
      "model_name": "LayoutModel",
      "state": {}
     },
     "ff58bb2cf02041f2b04618e06ddaf5e4": {
      "model_module": "@jupyter-widgets/controls",
      "model_module_version": "2.0.0",
      "model_name": "HTMLStyleModel",
      "state": {
       "description_width": "",
       "font_size": null,
       "text_color": null
      }
     }
    },
    "version_major": 2,
    "version_minor": 0
   }
  }
 },
 "nbformat": 4,
 "nbformat_minor": 4
}
