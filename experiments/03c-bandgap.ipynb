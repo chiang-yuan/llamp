{
 "cells": [
  {
   "cell_type": "code",
   "execution_count": 1,
   "metadata": {},
   "outputs": [],
   "source": [
    "import os\n",
    "import re\n",
    "import tempfile\n",
    "from monty.tempfile import ScratchDir\n",
    "\n",
    "from dotenv import load_dotenv\n",
    "from langchain import hub\n",
    "from langchain.agents import load_tools\n",
    "from langchain_experimental.tools import PythonREPLTool\n",
    "from langchain.agents import create_react_agent, AgentExecutor\n",
    "from langchain.chains.conversation.memory import ConversationBufferWindowMemory\n",
    "from langchain_openai import ChatOpenAI\n",
    "from langchain_google_genai import GoogleGenerativeAI\n",
    "from langchain.tools import ArxivQueryRun, WikipediaQueryRun\n",
    "from langchain.utilities import ArxivAPIWrapper, WikipediaAPIWrapper\n",
    "\n",
    "from langchain.callbacks.streaming_stdout import StreamingStdOutCallbackHandler\n",
    "\n",
    "from llamp.mp.agents import (\n",
    "    MPSummaryExpert,\n",
    "    MPThermoExpert,\n",
    "    MPElasticityExpert,\n",
    "    MPDielectricExpert,\n",
    "    MPPiezoelectricExpert,\n",
    "    MPMagnetismExpert,\n",
    "    MPElectronicExpert,\n",
    "    MPSynthesisExpert,\n",
    "    MPStructureRetriever,\n",
    ")\n",
    "from llamp.atomate2.agents import MLFFMDAgent\n",
    "# from llamp.arxiv.agents import ArxivAgent\n",
    "\n",
    "load_dotenv()\n",
    "\n",
    "MP_API_KEY = os.getenv(\"MP_API_KEY\", None)\n",
    "\n",
    "OPENAI_API_KEY = os.getenv(\"OPENAI_API_KEY\", None)\n",
    "OPENAI_ORGANIZATION = os.getenv(\"OPENAI_ORGANIZATION\", None)\n",
    "GOOGLE_API_KEY = os.getenv(\"GOOGLE_API_KEY\", None)\n",
    "\n",
    "OPENAI_GPT_MODEL = \"gpt-4-1106-preview\"\n",
    "# OPENAI_GPT_MODEL = \"gpt-4-0125-preview\"\n",
    "# OPENAI_GPT_MODEL = \"gpt-3.5-turbo-1106\"\n",
    "# OPENAI_GPT_MODEL = \"gpt-4-turbo\""
   ]
  },
  {
   "cell_type": "code",
   "execution_count": 2,
   "metadata": {},
   "outputs": [],
   "source": [
    "top_llm = ChatOpenAI(\n",
    "    temperature=0.2,\n",
    "    model=OPENAI_GPT_MODEL,\n",
    "    openai_api_key=OPENAI_API_KEY,\n",
    "    openai_organization=OPENAI_ORGANIZATION,\n",
    "    streaming=True,\n",
    "    callbacks=[StreamingStdOutCallbackHandler()],\n",
    ")\n",
    "\n",
    "bottom_callback_handler = StreamingStdOutCallbackHandler()\n",
    "\n",
    "bottom_llm = ChatOpenAI(\n",
    "    temperature=0.0,\n",
    "    model=OPENAI_GPT_MODEL,\n",
    "    openai_api_key=OPENAI_API_KEY,\n",
    "    openai_organization=OPENAI_ORGANIZATION,\n",
    "    max_retries=5,\n",
    "    streaming=True,\n",
    "    callbacks=[bottom_callback_handler],\n",
    ")\n",
    "\n",
    "\n",
    "wikipedia = WikipediaQueryRun(api_wrapper=WikipediaAPIWrapper())\n",
    "arxiv = ArxivQueryRun(api_wrapper=ArxivAPIWrapper())\n",
    "\n",
    "tools = load_tools([\"llm-math\"], llm=bottom_llm)\n",
    "tools += [PythonREPLTool(\n",
    "    description=re.sub(\n",
    "        r\"\\s+\",\n",
    "        \" \",\n",
    "        \"\"\"A Python shell. Use this to execute python commands.\n",
    "        Input should be a valid python command.\n",
    "        \n",
    "        TIPS:\n",
    "        - If you want to see the output of a value, you should print it out\n",
    "        with `print(...)`.\n",
    "        - If you write any file to a local file system, you should ALWAYS \n",
    "        print the paths to the files as well.\n",
    "        - If you plot any graph, you should show the graph, save it to local \n",
    "        and print the path to the image file.\n",
    "        - Combine all your output string together and print once together in\n",
    "        JSON format at the end of the code.\n",
    "        \"\"\"\n",
    "    )\n",
    ")]\n",
    "tools += [\n",
    "    MPThermoExpert(llm=bottom_llm, mp_api_key=MP_API_KEY).as_tool(\n",
    "        agent_kwargs=dict(return_intermediate_steps=False)\n",
    "    ),\n",
    "    MPElasticityExpert(llm=bottom_llm, mp_api_key=MP_API_KEY).as_tool(\n",
    "        agent_kwargs=dict(return_intermediate_steps=False)\n",
    "    ),\n",
    "    MPDielectricExpert(llm=bottom_llm, mp_api_key=MP_API_KEY).as_tool(\n",
    "        agent_kwargs=dict(return_intermediate_steps=False)\n",
    "    ),\n",
    "    MPMagnetismExpert(llm=bottom_llm, mp_api_key=MP_API_KEY).as_tool(\n",
    "        agent_kwargs=dict(return_intermediate_steps=False)\n",
    "    ),\n",
    "    MPElectronicExpert(llm=bottom_llm, mp_api_key=MP_API_KEY).as_tool(\n",
    "        agent_kwargs=dict(return_intermediate_steps=False)\n",
    "    ),\n",
    "    MPPiezoelectricExpert(llm=bottom_llm, mp_api_key=MP_API_KEY).as_tool(\n",
    "        agent_kwargs=dict(return_intermediate_steps=False)\n",
    "    ),\n",
    "    MPSummaryExpert(llm=bottom_llm, mp_api_key=MP_API_KEY).as_tool(\n",
    "        agent_kwargs=dict(return_intermediate_steps=False)\n",
    "    ),\n",
    "    MPSynthesisExpert(llm=bottom_llm, mp_api_key=MP_API_KEY).as_tool(\n",
    "        agent_kwargs=dict(return_intermediate_steps=False)\n",
    "    ),\n",
    "    MPStructureRetriever(llm=bottom_llm, mp_api_key=MP_API_KEY).as_tool(\n",
    "        agent_kwargs=dict(return_intermediate_steps=False)\n",
    "    ),\n",
    "    MLFFMDAgent(llm=bottom_llm).as_tool(\n",
    "        agent_kwargs=dict(return_intermediate_steps=False)\n",
    "    ),\n",
    "    arxiv,\n",
    "    wikipedia,\n",
    "]\n",
    "\n",
    "instructions = re.sub(\n",
    "    r\"\\s+\",\n",
    "    \" \",\n",
    "    \"\"\"You name is LLaMP and you are a helpful agent that can consult \n",
    "    materials-related data through Materials Project (MP) database, arXiv, \n",
    "    Wikipedia, and run calculations/simulations via a python REPL and MP atomate2 \n",
    "    computational workflow.     \n",
    "        \n",
    "    If you get an error, debug your code and try again. Only use \n",
    "    the output of your code to answer the question. Ask user to clarify their \n",
    "    queries if needed. Please note that you don't have direct control over MP but \n",
    "    through multiple assistant agents to help you. You need to provide complete \n",
    "    context in the input for assistants to do their job. REFINE and CRITQUE the \n",
    "    output of the assistants if needed. You can end the conversation by saying \"Bye\".\n",
    "    \"\"\",\n",
    "    )\n",
    "base_prompt = hub.pull(\"langchain-ai/react-agent-template\")\n",
    "prompt = base_prompt.partial(instructions=instructions)\n",
    "\n",
    "conversational_memory = ConversationBufferWindowMemory(\n",
    "    memory_key=\"chat_history\", k=5, return_messages=True\n",
    ")\n",
    "\n",
    "agent = create_react_agent(top_llm, tools, prompt)\n",
    "agent_executor = AgentExecutor(\n",
    "    agent=agent, tools=tools, verbose=True,\n",
    "    handle_parsing_errors=True,\n",
    "    memory=conversational_memory,\n",
    ")"
   ]
  },
  {
   "cell_type": "code",
   "execution_count": 3,
   "metadata": {},
   "outputs": [
    {
     "name": "stdout",
     "output_type": "stream",
     "text": [
      "Query: What are the bandgaps of the following materials in their most stable bulk form at 0K: Si, Ge, and GaAs, GaN, SiC, BN, InSe, MoS2, BaTiO3, CsPbI3?\n",
      "\n",
      "\n",
      "\u001b[1m> Entering new AgentExecutor chain...\u001b[0m\n",
      "Thought: Do I need to use a tool? Yes\n",
      "Action: MPSummaryExpert\n",
      "Action Input: What are the bandgaps of Si, Ge, GaAs, GaN, SiC, BN, InSe, MoS2, BaTiO3, CsPbI3 in their most stable bulk form at 0K?\u001b[32;1m\u001b[1;3mThought: Do I need to use a tool? Yes\n",
      "Action: MPSummaryExpert\n",
      "Action Input: What are the bandgaps of Si, Ge, GaAs, GaN, SiC, BN, InSe, MoS2, BaTiO3, CsPbI3 in their most stable bulk form at 0K?\u001b[0m\n",
      "\n",
      "\u001b[1m> Entering new AgentExecutor chain...\u001b[0m\n",
      "Action:\n",
      "```\n",
      "{\n",
      "  \"action\": \"search_materials_summary__get\",\n",
      "  \"action_input\": {\n",
      "    \"formula\": \"Si,Ge,GaAs,GaN,SiC,BN,InSe,MoS2,BaTiO3,CsPbI3\",\n",
      "    \"is_stable\": true,\n",
      "    \"fields\": \"material_id,formula_pretty,band_gap\"\n",
      "  }\n",
      "}\n",
      "```\u001b[32;1m\u001b[1;3mAction:\n",
      "```\n",
      "{\n",
      "  \"action\": \"search_materials_summary__get\",\n",
      "  \"action_input\": {\n",
      "    \"formula\": \"Si,Ge,GaAs,GaN,SiC,BN,InSe,MoS2,BaTiO3,CsPbI3\",\n",
      "    \"is_stable\": true,\n",
      "    \"fields\": \"material_id,formula_pretty,band_gap\"\n",
      "  }\n",
      "}\n",
      "```\u001b[0m"
     ]
    },
    {
     "data": {
      "application/vnd.jupyter.widget-view+json": {
       "model_id": "f907d36ccc864035b3c38f3a3e974509",
       "version_major": 2,
       "version_minor": 0
      },
      "text/plain": [
       "Retrieving SummaryDoc documents:   0%|          | 0/10 [00:00<?, ?it/s]"
      ]
     },
     "metadata": {},
     "output_type": "display_data"
    },
    {
     "name": "stdout",
     "output_type": "stream",
     "text": [
      "\u001b[36;1m\u001b[1;3m[{'formula_pretty': 'InSe', 'material_id': 'mp-20485', 'band_gap': 0.4590000000000001}, {'formula_pretty': 'MoS2', 'material_id': 'mp-1434', 'band_gap': 1.2042000000000002}, {'formula_pretty': 'BN', 'material_id': 'mp-604884', 'band_gap': 4.3683}, {'formula_pretty': 'SiC', 'material_id': 'mp-1204356', 'band_gap': 1.8389000000000006}, {'formula_pretty': 'GaAs', 'material_id': 'mp-2534', 'band_gap': 0.18610000000000015}, {'formula_pretty': 'GaN', 'material_id': 'mp-804', 'band_gap': 1.7264999999999997}, {'formula_pretty': 'Ge', 'material_id': 'mp-32', 'band_gap': 0.0}, {'formula_pretty': 'Si', 'material_id': 'mp-149', 'band_gap': 0.6105}, {'formula_pretty': 'BaTiO3', 'material_id': 'mp-5777', 'band_gap': 2.2929999999999997}, {'formula_pretty': 'CsPbI3', 'material_id': 'mp-540839', 'band_gap': 2.5181}]\u001b[0mAction:\n",
      "```\n",
      "{\n",
      "  \"action\": \"Final Answer\",\n",
      "  \"action_input\": \"The band gaps of the most stable bulk forms at 0K for the requested materials are as follows: Si (Silicon) - 0.6105 eV, Ge (Germanium) - 0.0 eV, GaAs (Gallium Arsenide) - 0.1861 eV, GaN (Gallium Nitride) - 1.7265 eV, SiC (Silicon Carbide) - 1.8389 eV, BN (Boron Nitride) - 4.3683 eV, InSe (Indium Selenide) - 0.459 eV, MoS2 (Molybdenum Disulfide) - 1.2042 eV, BaTiO3 (Barium Titanate) - 2.293 eV, CsPbI3 (Cesium Lead Iodide) - 2.5181 eV.\"\n",
      "}\n",
      "```\u001b[32;1m\u001b[1;3mAction:\n",
      "```\n",
      "{\n",
      "  \"action\": \"Final Answer\",\n",
      "  \"action_input\": \"The band gaps of the most stable bulk forms at 0K for the requested materials are as follows: Si (Silicon) - 0.6105 eV, Ge (Germanium) - 0.0 eV, GaAs (Gallium Arsenide) - 0.1861 eV, GaN (Gallium Nitride) - 1.7265 eV, SiC (Silicon Carbide) - 1.8389 eV, BN (Boron Nitride) - 4.3683 eV, InSe (Indium Selenide) - 0.459 eV, MoS2 (Molybdenum Disulfide) - 1.2042 eV, BaTiO3 (Barium Titanate) - 2.293 eV, CsPbI3 (Cesium Lead Iodide) - 2.5181 eV.\"\n",
      "}\n",
      "```\u001b[0m\n",
      "\n",
      "\u001b[1m> Finished chain.\u001b[0m\n",
      "\u001b[38;5;200m\u001b[1;3m{'input': 'What are the bandgaps of Si, Ge, GaAs, GaN, SiC, BN, InSe, MoS2, BaTiO3, CsPbI3 in their most stable bulk form at 0K?', 'output': 'The band gaps of the most stable bulk forms at 0K for the requested materials are as follows: Si (Silicon) - 0.6105 eV, Ge (Germanium) - 0.0 eV, GaAs (Gallium Arsenide) - 0.1861 eV, GaN (Gallium Nitride) - 1.7265 eV, SiC (Silicon Carbide) - 1.8389 eV, BN (Boron Nitride) - 4.3683 eV, InSe (Indium Selenide) - 0.459 eV, MoS2 (Molybdenum Disulfide) - 1.2042 eV, BaTiO3 (Barium Titanate) - 2.293 eV, CsPbI3 (Cesium Lead Iodide) - 2.5181 eV.'}\u001b[0m\n",
      "Final Answer: The bandgaps of the most stable bulk forms at 0K for the requested materials are as follows:\n",
      "- Si (Silicon): 0.6105 eV\n",
      "- Ge (Germanium): 0.0 eV\n",
      "- GaAs (Gallium Arsenide): 0.1861 eV\n",
      "- GaN (Gallium Nitride): 1.7265 eV\n",
      "- SiC (Silicon Carbide): 1.8389 eV\n",
      "- BN (Boron Nitride): 4.3683 eV\n",
      "- InSe (Indium Selenide): 0.459 eV\n",
      "- MoS2 (Molybdenum Disulfide): 1.2042 eV\n",
      "- BaTiO3 (Barium Titanate): 2.293 eV\n",
      "- CsPbI3 (Cesium Lead Iodide): 2.5181 eV.\u001b[32;1m\u001b[1;3m\n",
      "Final Answer: The bandgaps of the most stable bulk forms at 0K for the requested materials are as follows:\n",
      "- Si (Silicon): 0.6105 eV\n",
      "- Ge (Germanium): 0.0 eV\n",
      "- GaAs (Gallium Arsenide): 0.1861 eV\n",
      "- GaN (Gallium Nitride): 1.7265 eV\n",
      "- SiC (Silicon Carbide): 1.8389 eV\n",
      "- BN (Boron Nitride): 4.3683 eV\n",
      "- InSe (Indium Selenide): 0.459 eV\n",
      "- MoS2 (Molybdenum Disulfide): 1.2042 eV\n",
      "- BaTiO3 (Barium Titanate): 2.293 eV\n",
      "- CsPbI3 (Cesium Lead Iodide): 2.5181 eV.\u001b[0m\n",
      "\n",
      "\u001b[1m> Finished chain.\u001b[0m\n"
     ]
    }
   ],
   "source": [
    "\n",
    "\n",
    "pattern = re.compile(r'\\b' + re.escape(\"Bye\") + r'\\b[.!?]*')\n",
    "\n",
    "query = \"\"\"What are the bandgaps of the following materials in their most stable bulk form at 0K: Si, Ge, and GaAs, GaN, SiC, BN, InSe, MoS2, BaTiO3, CsPbI3?\"\"\"\n",
    "\n",
    "# with ScratchDir(rootpath=os.getcwd()):\n",
    "# with tempfile.TemporaryDirectory(dir=os.getcwd()) as tmpdir:\n",
    "#     os.chdir(tmpdir)\n",
    "#     while True:\n",
    "query = query or input(\"Query:\")\n",
    "print(f\"Query: {query}\")\n",
    "response = agent_executor.invoke(\n",
    "    {\n",
    "        \"input\": query,\n",
    "    }\n",
    ")\n",
    "# if re.search(pattern, response[\"output\"]):\n",
    "#     break\n",
    "# query = None\n"
   ]
  },
  {
   "cell_type": "code",
   "execution_count": 4,
   "metadata": {},
   "outputs": [
    {
     "name": "stdout",
     "output_type": "stream",
     "text": [
      "The bandgaps of the most stable bulk forms at 0K for the requested materials are as follows:\n",
      "- Si (Silicon): 0.6105 eV\n",
      "- Ge (Germanium): 0.0 eV\n",
      "- GaAs (Gallium Arsenide): 0.1861 eV\n",
      "- GaN (Gallium Nitride): 1.7265 eV\n",
      "- SiC (Silicon Carbide): 1.8389 eV\n",
      "- BN (Boron Nitride): 4.3683 eV\n",
      "- InSe (Indium Selenide): 0.459 eV\n",
      "- MoS2 (Molybdenum Disulfide): 1.2042 eV\n",
      "- BaTiO3 (Barium Titanate): 2.293 eV\n",
      "- CsPbI3 (Cesium Lead Iodide): 2.5181 eV.\n"
     ]
    }
   ],
   "source": [
    "print(agent_executor.memory.chat_memory.messages[1].content)"
   ]
  },
  {
   "cell_type": "code",
   "execution_count": 5,
   "metadata": {},
   "outputs": [
    {
     "name": "stdout",
     "output_type": "stream",
     "text": [
      "gpt-3.5-turbo-1106\n",
      "The bandgaps of the following materials at 0K are:\n",
      "\n",
      "- Si: 1.17 eV\n",
      "- Ge: 0.66 eV\n",
      "- GaAs: 1.52 eV\n",
      "- GaN: 3.39 eV\n",
      "- SiC: 3.23 eV\n",
      "- BN: 6.0 eV\n",
      "- InSe: 1.26 eV\n",
      "- MoS2: 1.29 eV\n",
      "- BaTiO3: 3.2 eV\n",
      "- CsPbI3: 1.73 eV\n"
     ]
    }
   ],
   "source": [
    "\n",
    "model = \"gpt-3.5-turbo-1106\"\n",
    "llm = ChatOpenAI(\n",
    "    temperature=0.7,\n",
    "    model=model,\n",
    "    openai_api_key=OPENAI_API_KEY,\n",
    "    openai_organization=OPENAI_ORGANIZATION,\n",
    "    # streaming=True\n",
    ")\n",
    "\n",
    "response = llm.invoke(agent_executor.memory.chat_memory.messages[0].content)\n",
    "\n",
    "print(model)\n",
    "print(response.content)"
   ]
  },
  {
   "cell_type": "code",
   "execution_count": 6,
   "metadata": {},
   "outputs": [
    {
     "name": "stdout",
     "output_type": "stream",
     "text": [
      "gpt-4\n",
      "1. Silicon (Si): 1.12 eV\n",
      "2. Germanium (Ge): 0.66 eV\n",
      "3. Gallium Arsenide (GaAs): 1.42 eV\n",
      "4. Gallium Nitride (GaN): 3.4 eV\n",
      "5. Silicon Carbide (SiC): 2.36 eV\n",
      "6. Boron Nitride (BN): 6.4 eV (for hexagonal BN which is the most stable bulk form)\n",
      "7. Indium Selenide (InSe): 1.3 eV\n",
      "8. Molybdenum Disulfide (MoS2): 1.29 eV\n",
      "9. Barium Titanate (BaTiO3): 3.2 eV\n",
      "10. Cesium Lead Iodide (CsPbI3): 1.73 eV\n",
      "\n",
      "Please note that the exact bandgap can vary slightly depending on the measurement technique and sample quality. Also, temperature can affect the bandgap value. In addition, for some materials, the bandgap can be direct or indirect which is also an important factor for their optoelectronic properties.\n"
     ]
    }
   ],
   "source": [
    "\n",
    "model = \"gpt-4\"\n",
    "llm = ChatOpenAI(\n",
    "    temperature=0.7,\n",
    "    model=model,\n",
    "    openai_api_key=OPENAI_API_KEY,\n",
    "    openai_organization=OPENAI_ORGANIZATION,\n",
    "    # streaming=True\n",
    ")\n",
    "\n",
    "response = llm.invoke(agent_executor.memory.chat_memory.messages[0].content)\n",
    "\n",
    "print(model)\n",
    "print(response.content)"
   ]
  },
  {
   "cell_type": "code",
   "execution_count": 7,
   "metadata": {
    "tags": []
   },
   "outputs": [
    {
     "name": "stdout",
     "output_type": "stream",
     "text": [
      "gemini-pro\n",
      "| Material | Bandgap (eV) |\n",
      "|---|---|\n",
      "| Si | 1.17 |\n",
      "| Ge | 0.66 |\n",
      "| GaAs | 1.42 |\n",
      "| GaN | 3.4 |\n",
      "| SiC | 3.26 |\n",
      "| BN | 6.4 |\n",
      "| InSe | 1.3 |\n",
      "| MoS2 | 1.9 |\n",
      "| BaTiO3 | 3.2 |\n",
      "| CsPbI3 | 1.73 |\n"
     ]
    }
   ],
   "source": [
    "\n",
    "model = \"gemini-pro\"\n",
    "llm = GoogleGenerativeAI(\n",
    "    temperature=0.7,\n",
    "    model=f\"models/{model}\",\n",
    "    google_api_key=GOOGLE_API_KEY,\n",
    ")\n",
    "\n",
    "\n",
    "response = llm.invoke(agent_executor.memory.chat_memory.messages[0].content)\n",
    "\n",
    "print(model)\n",
    "print(response)"
   ]
  },
  {
   "cell_type": "code",
   "execution_count": null,
   "metadata": {},
   "outputs": [],
   "source": []
  }
 ],
 "metadata": {
  "kernelspec": {
   "display_name": "dev",
   "language": "python",
   "name": "dev"
  },
  "language_info": {
   "codemirror_mode": {
    "name": "ipython",
    "version": 3
   },
   "file_extension": ".py",
   "mimetype": "text/x-python",
   "name": "python",
   "nbconvert_exporter": "python",
   "pygments_lexer": "ipython3",
   "version": "3.11.9"
  },
  "widgets": {
   "application/vnd.jupyter.widget-state+json": {
    "state": {
     "09d9779236b74d62bc31e0b007765eb6": {
      "model_module": "@jupyter-widgets/base",
      "model_module_version": "2.0.0",
      "model_name": "LayoutModel",
      "state": {}
     },
     "1c66504c757f4feebf911170b4340ee7": {
      "model_module": "@jupyter-widgets/controls",
      "model_module_version": "2.0.0",
      "model_name": "HTMLStyleModel",
      "state": {
       "description_width": "",
       "font_size": null,
       "text_color": null
      }
     },
     "2628aba5edf245708d89631a9dd7c183": {
      "model_module": "@jupyter-widgets/controls",
      "model_module_version": "2.0.0",
      "model_name": "HTMLStyleModel",
      "state": {
       "description_width": "",
       "font_size": null,
       "text_color": null
      }
     },
     "2d58648ad34540ce8d3c3fe8782d728d": {
      "model_module": "@jupyter-widgets/base",
      "model_module_version": "2.0.0",
      "model_name": "LayoutModel",
      "state": {}
     },
     "4625b8171b5049f7a506c00c7d1c33fb": {
      "model_module": "@jupyter-widgets/controls",
      "model_module_version": "2.0.0",
      "model_name": "HTMLModel",
      "state": {
       "layout": "IPY_MODEL_da71d77b9b984143a1e873e73adefcb7",
       "style": "IPY_MODEL_2628aba5edf245708d89631a9dd7c183",
       "value": " 10/10 [00:00&lt;00:00, 1325.38it/s]"
      }
     },
     "4d841c0c3ed141c68e32783ec608ec49": {
      "model_module": "@jupyter-widgets/controls",
      "model_module_version": "2.0.0",
      "model_name": "HTMLModel",
      "state": {
       "layout": "IPY_MODEL_2d58648ad34540ce8d3c3fe8782d728d",
       "style": "IPY_MODEL_1c66504c757f4feebf911170b4340ee7",
       "value": "Retrieving SummaryDoc documents: 100%"
      }
     },
     "5dcc3543b043486e9234eb1d7bf96e1f": {
      "model_module": "@jupyter-widgets/base",
      "model_module_version": "2.0.0",
      "model_name": "LayoutModel",
      "state": {}
     },
     "74139137d2c9432b89418340c672f3da": {
      "model_module": "@jupyter-widgets/controls",
      "model_module_version": "2.0.0",
      "model_name": "FloatProgressModel",
      "state": {
       "bar_style": "success",
       "layout": "IPY_MODEL_09d9779236b74d62bc31e0b007765eb6",
       "max": 10,
       "style": "IPY_MODEL_978ff383544e469ea6c4f0219c7254cd",
       "value": 10
      }
     },
     "978ff383544e469ea6c4f0219c7254cd": {
      "model_module": "@jupyter-widgets/controls",
      "model_module_version": "2.0.0",
      "model_name": "ProgressStyleModel",
      "state": {
       "description_width": ""
      }
     },
     "da71d77b9b984143a1e873e73adefcb7": {
      "model_module": "@jupyter-widgets/base",
      "model_module_version": "2.0.0",
      "model_name": "LayoutModel",
      "state": {}
     },
     "f907d36ccc864035b3c38f3a3e974509": {
      "model_module": "@jupyter-widgets/controls",
      "model_module_version": "2.0.0",
      "model_name": "HBoxModel",
      "state": {
       "children": [
        "IPY_MODEL_4d841c0c3ed141c68e32783ec608ec49",
        "IPY_MODEL_74139137d2c9432b89418340c672f3da",
        "IPY_MODEL_4625b8171b5049f7a506c00c7d1c33fb"
       ],
       "layout": "IPY_MODEL_5dcc3543b043486e9234eb1d7bf96e1f"
      }
     }
    },
    "version_major": 2,
    "version_minor": 0
   }
  }
 },
 "nbformat": 4,
 "nbformat_minor": 4
}
