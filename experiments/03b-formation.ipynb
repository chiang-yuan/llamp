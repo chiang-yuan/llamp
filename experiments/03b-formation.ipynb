{
 "cells": [
  {
   "cell_type": "code",
   "execution_count": 1,
   "metadata": {},
   "outputs": [],
   "source": [
    "import os\n",
    "\n",
    "from dotenv import load_dotenv\n",
    "from langchain import hub\n",
    "from langchain.agents import AgentExecutor, AgentType, initialize_agent, load_tools\n",
    "from langchain.agents.format_scratchpad import format_log_to_str\n",
    "from langchain.agents.output_parsers import (\n",
    "    JSONAgentOutputParser,\n",
    "    ReActSingleInputOutputParser,\n",
    ")\n",
    "from langchain.chains.conversation.memory import ConversationBufferWindowMemory\n",
    "from langchain.chat_models import ChatOpenAI\n",
    "from langchain.llms import OpenAI\n",
    "from langchain.tools import ArxivQueryRun, WikipediaQueryRun, tool\n",
    "from langchain.tools.render import render_text_description_and_args, format_tool_to_openai_function\n",
    "from langchain.utilities import ArxivAPIWrapper, WikipediaAPIWrapper\n",
    "from langchain.prompts import MessagesPlaceholder\n",
    "from langchain.schema import ChatMessage, SystemMessage\n",
    "\n",
    "from pymatgen.core.periodic_table import _pt_data\n",
    "\n",
    "from llamp.mp.agents import (\n",
    "    MPSummaryExpert,\n",
    "    MPThermoExpert,\n",
    "    MPElasticityExpert,\n",
    "    MPDielectricExpert,\n",
    "    MPPiezoelectricExpert,\n",
    "    MPMagnetismExpert,\n",
    "    MPElectronicExpert,\n",
    "    MPSynthesisExpert\n",
    ")\n",
    "from llamp.arxiv.agents import ArxivAgent\n",
    "\n",
    "load_dotenv()\n",
    "\n",
    "OPENAI_API_KEY = os.getenv(\"OPENAI_API_KEY\", None)\n",
    "\n",
    "# OPENAI_GPT_MODEL = \"gpt-4-1106-preview\"\n",
    "OPENAI_GPT_MODEL = \"gpt-3.5-turbo-1106\""
   ]
  },
  {
   "cell_type": "code",
   "execution_count": 2,
   "metadata": {},
   "outputs": [
    {
     "name": "stderr",
     "output_type": "stream",
     "text": [
      "/home/cyrus/miniconda3/envs/llamp/lib/python3.11/site-packages/mp_api/client/mprester.py:230: UserWarning: mpcontribs-client not installed. Install the package to query MPContribs data, or construct pourbaix diagrams: 'pip install mpcontribs-client'\n",
      "  warnings.warn(\n"
     ]
    }
   ],
   "source": [
    "import re\n",
    "\n",
    "mp_llm = ChatOpenAI(\n",
    "    temperature=0.2,\n",
    "    model=\"gpt-4-1106-preview\",\n",
    "    openai_api_key=OPENAI_API_KEY,\n",
    "    openai_organization=None,\n",
    "    max_retries=5,\n",
    "    # streaming=True\n",
    ")\n",
    "\n",
    "llm = ChatOpenAI(\n",
    "    temperature=0.7,\n",
    "    model=\"gpt-4\",\n",
    "    openai_api_key=OPENAI_API_KEY,\n",
    "    openai_organization=None,\n",
    "    # streaming=True\n",
    ")\n",
    "\n",
    "wikipedia = WikipediaQueryRun(api_wrapper=WikipediaAPIWrapper())\n",
    "arxiv = ArxivQueryRun(api_wrapper=ArxivAPIWrapper())\n",
    "\n",
    "tools = [\n",
    "    MPThermoExpert(llm=mp_llm).as_tool(agent_kwargs=dict(return_intermediate_steps=False)),\n",
    "    MPElasticityExpert(llm=mp_llm).as_tool(agent_kwargs=dict(return_intermediate_steps=False)),\n",
    "    MPDielectricExpert(llm=mp_llm).as_tool(agent_kwargs=dict(return_intermediate_steps=False)),\n",
    "    MPMagnetismExpert(llm=mp_llm).as_tool(agent_kwargs=dict(return_intermediate_steps=False)),\n",
    "    MPElectronicExpert(llm=mp_llm).as_tool(agent_kwargs=dict(return_intermediate_steps=False)),\n",
    "    MPSummaryExpert(llm=mp_llm).as_tool(agent_kwargs=dict(return_intermediate_steps=False)),\n",
    "    MPSynthesisExpert(llm=mp_llm).as_tool(agent_kwargs=dict(return_intermediate_steps=False)),\n",
    "    ArxivAgent(llm=mp_llm).as_tool(agent_kwargs=dict(return_intermediate_steps=False)),\n",
    "    # arxiv,\n",
    "    # wikipedia,\n",
    "]\n",
    "\n",
    "prompt = hub.pull(\"hwchase17/react-multi-input-json\")\n",
    "prompt.messages[0].prompt.template = re.sub(\n",
    "    r\"\\s+\", \" \",\n",
    "    \"\"\"You are a data-aware agent that can consult materials-related\n",
    "    data through Materials Project (MP) database, arXiv, and Wikipedia. Ask \n",
    "    user to clarify their queries if needed. Please note that you don't have \n",
    "    direct control over MP but through multiple assistant agents to help you. \n",
    "    You need to provide complete context in the input for them to do their job.\n",
    "    \"\"\").replace(\"\\n\", \" \") + prompt.messages[0].prompt.template\n",
    "\n",
    "prompt = prompt.partial(\n",
    "    tools=render_text_description_and_args(tools),\n",
    "    tool_names=\", \".join([t.name for t in tools]),\n",
    ")\n",
    "\n",
    "agent = (\n",
    "    {\n",
    "        \"input\": lambda x: x[\"input\"],\n",
    "        \"agent_scratchpad\": lambda x: format_log_to_str(x[\"intermediate_steps\"]),\n",
    "    }\n",
    "    | prompt\n",
    "    | llm.bind(stop=[\"Observation\"])\n",
    "    # | map_reduce_chain  # TODO: Add map-reduce after LLM\n",
    "    | JSONAgentOutputParser()\n",
    ")\n",
    "\n",
    "\n",
    "conversational_memory = ConversationBufferWindowMemory(\n",
    "    memory_key='chat_history',\n",
    "    k=5,\n",
    "    return_messages=True\n",
    ")\n",
    "\n",
    "agent_kwargs = {\n",
    "    \"handle_parsing_errors\": True,\n",
    "    \"extra_prompt_messages\": [\n",
    "        MessagesPlaceholder(variable_name=\"chat_history\"),\n",
    "        # SystemMessage(content=re.sub(\n",
    "        #     r\"\\s+\", \" \",\n",
    "        #     \"\"\"You are a helpful data-aware agent that can consult materials-related\n",
    "        #     data through Materials Project (MP) database, arXiv, and Wikipedia. Ask \n",
    "        #     user to clarify their queries if needed. Please note that you don't have \n",
    "        #     direct control to MP but through multiple assistant agents to help you. \n",
    "        #     You need to provide complete context for them to do their job. \n",
    "        #     \"\"\").replace(\"\\n\", \" \")\n",
    "        # )\n",
    "        ],\n",
    "    # \"early_stopping_method\": 'generate',\n",
    "    # \"extra_prompt_messages\": \n",
    "    # )\n",
    "}\n",
    "\n",
    "agent_executor = initialize_agent(\n",
    "    agent=AgentType.STRUCTURED_CHAT_ZERO_SHOT_REACT_DESCRIPTION,\n",
    "    tools=tools,\n",
    "    llm=llm,\n",
    "    verbose=True,\n",
    "    max_iterations=20,\n",
    "    memory=conversational_memory,\n",
    "    agent_kwargs=agent_kwargs,\n",
    "    handle_parsing_errors=True,\n",
    ")\n",
    "\n",
    "# agent_executor = initialize_agent(\n",
    "#     tools=tools,\n",
    "#     llm=llm,\n",
    "#     agent=AgentType.ZERO_SHOT_REACT_DESCRIPTION,\n",
    "#     verbose=True,\n",
    "#     max_iterations=5,\n",
    "# )"
   ]
  },
  {
   "cell_type": "code",
   "execution_count": 3,
   "metadata": {},
   "outputs": [
    {
     "name": "stdout",
     "output_type": "stream",
     "text": [
      "\n",
      "\n",
      "\u001b[1m> Entering new AgentExecutor chain...\u001b[0m\n"
     ]
    },
    {
     "name": "stdout",
     "output_type": "stream",
     "text": [
      "\u001b[32;1m\u001b[1;3mAction:\n",
      "```\n",
      "{\n",
      "  \"action\": \"MPThermoExpert\",\n",
      "  \"action_input\": \"What are the formation energies of Ag2O3, MgZn2, GaAs, GaN, SiC, BN, InSe, MoS2, BaTiO3, CsPbI3?\"\n",
      "}\n",
      "```\u001b[0m\n",
      "\n",
      "\u001b[1m> Entering new AgentExecutor chain...\u001b[0m\n"
     ]
    },
    {
     "name": "stderr",
     "output_type": "stream",
     "text": [
      "/home/cyrus/miniconda3/envs/llamp/lib/python3.11/site-packages/mp_api/client/mprester.py:230: UserWarning: mpcontribs-client not installed. Install the package to query MPContribs data, or construct pourbaix diagrams: 'pip install mpcontribs-client'\n",
      "  warnings.warn(\n",
      "/home/cyrus/miniconda3/envs/llamp/lib/python3.11/site-packages/mp_api/client/mprester.py:230: UserWarning: mpcontribs-client not installed. Install the package to query MPContribs data, or construct pourbaix diagrams: 'pip install mpcontribs-client'\n",
      "  warnings.warn(\n"
     ]
    },
    {
     "name": "stdout",
     "output_type": "stream",
     "text": [
      "\u001b[32;1m\u001b[1;3mAction:\n",
      "```\n",
      "{\n",
      "  \"action\": \"search_materials_thermo__get\",\n",
      "  \"action_input\": {\n",
      "    \"formula\": \"Ag2O3,MgZn2,GaAs,GaN,SiC,BN,InSe,MoS2,BaTiO3,CsPbI3\",\n",
      "    \"fields\": \"material_id,formula_pretty,formation_energy_per_atom\"\n",
      "  }\n",
      "}\n",
      "```\u001b[0m{\"formula\": \"Ag2O3,MgZn2,GaAs,GaN,SiC,BN,InSe,MoS2,BaTiO3,CsPbI3\", \"fields\": \"material_id,formula_pretty,formation_energy_per_atom\"}\n"
     ]
    },
    {
     "data": {
      "application/vnd.jupyter.widget-view+json": {
       "model_id": "a63358628ce14458b8af4cf8ae35fb0b",
       "version_major": 2,
       "version_minor": 0
      },
      "text/plain": [
       "Retrieving ThermoDoc documents:   0%|          | 0/375 [00:00<?, ?it/s]"
      ]
     },
     "metadata": {},
     "output_type": "display_data"
    },
    {
     "name": "stdout",
     "output_type": "stream",
     "text": [
      "\u001b[36;1m\u001b[1;3m[{'formula_pretty': 'SiC', 'material_id': 'mp-624397', 'formation_energy_per_atom': -0.17201324420454578}, {'formula_pretty': 'SiC', 'material_id': 'mp-11713', 'formation_energy_per_atom': -0.20076638075000092}, {'formula_pretty': 'SiC', 'material_id': 'mp-570641', 'formation_energy_per_atom': -0.19450718000000045}, {'formula_pretty': 'SiC', 'material_id': 'mp-570690', 'formation_energy_per_atom': -0.19540863819444432}, {'formula_pretty': 'SiC', 'material_id': 'mp-1204356', 'formation_energy_per_atom': -0.20314058927631531}, {'formula_pretty': 'SiC', 'material_id': 'mp-11714', 'formation_energy_per_atom': -0.20355650125000047}, {'formula_pretty': 'SiC', 'material_id': 'mp-582034', 'formation_energy_per_atom': -0.20385373996428566}, {'formula_pretty': 'SiC', 'material_id': 'mp-567551', 'formation_energy_per_atom': -0.20382989643750093}, {'formula_pretty': 'SiC', 'material_id': 'mp-568656', 'formation_energy_per_atom': -0.2037761992500009}, {'formula_pretty': 'SiC', 'material_id': 'mp-7631', 'formation_energy_per_atom': -0.20387451758333341}]\u001b[0m\u001b[32;1m\u001b[1;3mAction:\n",
      "```\n",
      "{\n",
      "  \"action\": \"Final Answer\",\n",
      "  \"action_input\": \"The formation energies for the requested compounds are not all available in a single query. However, for SiC, multiple polymorphs are found with the following formation energies per atom (in eV/atom): mp-624397: -0.172, mp-11713: -0.201, mp-570641: -0.195, mp-570690: -0.195, mp-1204356: -0.203, mp-11714: -0.204, mp-582034: -0.204, mp-567551: -0.204, mp-568656: -0.204, mp-7631: -0.204. Please note that these values are for different polymorphs of SiC. For the formation energies of the other compounds, additional queries are required.\"\n",
      "}\n",
      "```\u001b[0m\n",
      "\n",
      "\u001b[1m> Finished chain.\u001b[0m\n",
      "\n",
      "Observation: \u001b[36;1m\u001b[1;3m{'input': 'What are the formation energies of Ag2O3, MgZn2, GaAs, GaN, SiC, BN, InSe, MoS2, BaTiO3, CsPbI3?', 'output': 'The formation energies for the requested compounds are not all available in a single query. However, for SiC, multiple polymorphs are found with the following formation energies per atom (in eV/atom): mp-624397: -0.172, mp-11713: -0.201, mp-570641: -0.195, mp-570690: -0.195, mp-1204356: -0.203, mp-11714: -0.204, mp-582034: -0.204, mp-567551: -0.204, mp-568656: -0.204, mp-7631: -0.204. Please note that these values are for different polymorphs of SiC. For the formation energies of the other compounds, additional queries are required.'}\u001b[0m\n",
      "Thought:\u001b[32;1m\u001b[1;3mThe previous observation only provided information on SiC. I need to run additional queries for each of the other materials requested. I'll start by querying for Ag2O3. \n",
      "Action:\n",
      "```\n",
      "{\n",
      "  \"action\": \"MPThermoExpert\",\n",
      "  \"action_input\": \"What is the formation energy of Ag2O3?\"\n",
      "}\n",
      "```\u001b[0m\n",
      "\n",
      "\u001b[1m> Entering new AgentExecutor chain...\u001b[0m\n"
     ]
    },
    {
     "name": "stderr",
     "output_type": "stream",
     "text": [
      "/home/cyrus/miniconda3/envs/llamp/lib/python3.11/site-packages/mp_api/client/mprester.py:230: UserWarning: mpcontribs-client not installed. Install the package to query MPContribs data, or construct pourbaix diagrams: 'pip install mpcontribs-client'\n",
      "  warnings.warn(\n",
      "/home/cyrus/miniconda3/envs/llamp/lib/python3.11/site-packages/mp_api/client/mprester.py:230: UserWarning: mpcontribs-client not installed. Install the package to query MPContribs data, or construct pourbaix diagrams: 'pip install mpcontribs-client'\n",
      "  warnings.warn(\n"
     ]
    },
    {
     "name": "stdout",
     "output_type": "stream",
     "text": [
      "\u001b[32;1m\u001b[1;3mAction:\n",
      "```\n",
      "{\n",
      "  \"action\": \"search_materials_thermo__get\",\n",
      "  \"action_input\": {\n",
      "    \"formula\": \"Ag2O3\",\n",
      "    \"fields\": \"material_id,formula_pretty,formation_energy_per_atom\"\n",
      "  }\n",
      "}\n",
      "```\u001b[0m{\"formula\": \"Ag2O3\", \"fields\": \"material_id,formula_pretty,formation_energy_per_atom\"}\n"
     ]
    },
    {
     "data": {
      "application/vnd.jupyter.widget-view+json": {
       "model_id": "5daee36681a547048ace9c6adf6b5b0c",
       "version_major": 2,
       "version_minor": 0
      },
      "text/plain": [
       "Retrieving ThermoDoc documents:   0%|          | 0/7 [00:00<?, ?it/s]"
      ]
     },
     "metadata": {},
     "output_type": "display_data"
    },
    {
     "name": "stdout",
     "output_type": "stream",
     "text": [
      "\u001b[36;1m\u001b[1;3m[{'formula_pretty': 'Ag2O3', 'material_id': 'mp-546190', 'formation_energy_per_atom': -0.352642995166665}, {'formula_pretty': 'Ag2O3', 'material_id': 'mp-546190', 'formation_energy_per_atom': -0.3601406719166668}, {'formula_pretty': 'Ag2O3', 'material_id': 'mp-11872', 'formation_energy_per_atom': -0.18990532891666662}, {'formula_pretty': 'Ag2O3', 'material_id': 'mp-546190', 'formation_energy_per_atom': -0.07711658999999856}, {'formula_pretty': 'Ag2O3', 'material_id': 'mp-1046809', 'formation_energy_per_atom': -0.12330234591666667}, {'formula_pretty': 'Ag2O3', 'material_id': 'mp-11872', 'formation_energy_per_atom': -0.18240765216666546}, {'formula_pretty': 'Ag2O3', 'material_id': 'mp-1046809', 'formation_energy_per_atom': -0.11580466916666551}]\u001b[0m\u001b[32;1m\u001b[1;3mAction:\n",
      "```\n",
      "{\n",
      "  \"action\": \"Final Answer\",\n",
      "  \"action_input\": \"The formation energy per atom for Ag2O3 varies depending on the specific material entry. Here are some of the values from the Materials Project: -0.3526, -0.3601, -0.1899, -0.0771, -0.1233, -0.1824, -0.1158 eV/atom.\"\n",
      "}\n",
      "```\u001b[0m\n",
      "\n",
      "\u001b[1m> Finished chain.\u001b[0m\n",
      "\n",
      "Observation: \u001b[36;1m\u001b[1;3m{'input': 'What is the formation energy of Ag2O3?', 'output': 'The formation energy per atom for Ag2O3 varies depending on the specific material entry. Here are some of the values from the Materials Project: -0.3526, -0.3601, -0.1899, -0.0771, -0.1233, -0.1824, -0.1158 eV/atom.'}\u001b[0m\n",
      "Thought:\u001b[32;1m\u001b[1;3mI have the information for Ag2O3, and I know that the lowest formation energy is -0.3601 eV/atom. Now I will query for MgZn2. \n",
      "Action:\n",
      "```\n",
      "{\n",
      "  \"action\": \"MPThermoExpert\",\n",
      "  \"action_input\": \"What is the formation energy of MgZn2?\"\n",
      "}\n",
      "```\u001b[0m\n",
      "\n",
      "\u001b[1m> Entering new AgentExecutor chain...\u001b[0m\n"
     ]
    },
    {
     "name": "stderr",
     "output_type": "stream",
     "text": [
      "/home/cyrus/miniconda3/envs/llamp/lib/python3.11/site-packages/mp_api/client/mprester.py:230: UserWarning: mpcontribs-client not installed. Install the package to query MPContribs data, or construct pourbaix diagrams: 'pip install mpcontribs-client'\n",
      "  warnings.warn(\n",
      "/home/cyrus/miniconda3/envs/llamp/lib/python3.11/site-packages/mp_api/client/mprester.py:230: UserWarning: mpcontribs-client not installed. Install the package to query MPContribs data, or construct pourbaix diagrams: 'pip install mpcontribs-client'\n",
      "  warnings.warn(\n"
     ]
    },
    {
     "name": "stdout",
     "output_type": "stream",
     "text": [
      "\u001b[32;1m\u001b[1;3mAction:\n",
      "```\n",
      "{\n",
      "  \"action\": \"search_materials_thermo__get\",\n",
      "  \"action_input\": {\n",
      "    \"formula\": \"MgZn2\"\n",
      "  }\n",
      "}\n",
      "```\u001b[0m{\"formula\": \"MgZn2\"}\n",
      "Error on search_materials_thermo__get: fields must be specified. Please provide more information or try smaller request.\n",
      "\u001b[36;1m\u001b[1;3mError on search_materials_thermo__get: fields must be specified. Please provide more information or try smaller request.\u001b[0m\u001b[32;1m\u001b[1;3mAction:\n",
      "```\n",
      "{\n",
      "  \"action\": \"search_materials_thermo__get\",\n",
      "  \"action_input\": {\n",
      "    \"formula\": \"MgZn2\",\n",
      "    \"fields\": \"formation_energy_per_atom\"\n",
      "  }\n",
      "}\n",
      "```\u001b[0m{\"formula\": \"MgZn2\", \"fields\": \"formation_energy_per_atom\"}\n"
     ]
    },
    {
     "data": {
      "application/vnd.jupyter.widget-view+json": {
       "model_id": "f244a1dc19f840819d15ee30d783f844",
       "version_major": 2,
       "version_minor": 0
      },
      "text/plain": [
       "Retrieving ThermoDoc documents:   0%|          | 0/37 [00:00<?, ?it/s]"
      ]
     },
     "metadata": {},
     "output_type": "display_data"
    },
    {
     "name": "stdout",
     "output_type": "stream",
     "text": [
      "\u001b[36;1m\u001b[1;3m[{'formation_energy_per_atom': -0.050285159999999905}, {'formation_energy_per_atom': 0.0035344816666667}, {'formation_energy_per_atom': 0.024667935000000085}, {'formation_energy_per_atom': 0.00036363833333356393}, {'formation_energy_per_atom': -0.02111905666666658}, {'formation_energy_per_atom': 0.02358887666666683}, {'formation_energy_per_atom': -0.0031477583333332504}, {'formation_energy_per_atom': 0.005251533333333391}, {'formation_energy_per_atom': -0.12303470999999828}, {'formation_energy_per_atom': -0.13063030499999861}]\u001b[0m\u001b[32;1m\u001b[1;3mAction:\n",
      "```\n",
      "{\n",
      "  \"action\": \"Final Answer\",\n",
      "  \"action_input\": \"The formation energy per atom for compounds with the formula MgZn2 varies among different entries in the Materials Project database. Here are some of the values: -0.0503, 0.0035, 0.0247, 0.0004, -0.0211, 0.0236, -0.0031, 0.0053, -0.1230, -0.1306 eV/atom.\"\n",
      "}\n",
      "```\u001b[0m\n",
      "\n",
      "\u001b[1m> Finished chain.\u001b[0m\n",
      "\n",
      "Observation: \u001b[36;1m\u001b[1;3m{'input': 'What is the formation energy of MgZn2?', 'output': 'The formation energy per atom for compounds with the formula MgZn2 varies among different entries in the Materials Project database. Here are some of the values: -0.0503, 0.0035, 0.0247, 0.0004, -0.0211, 0.0236, -0.0031, 0.0053, -0.1230, -0.1306 eV/atom.'}\u001b[0m\n",
      "Thought:\u001b[32;1m\u001b[1;3mI have the information for MgZn2, and I know that the lowest formation energy is -0.1306 eV/atom. Now I will query for GaAs.\n",
      "Action:\n",
      "```\n",
      "{\n",
      "  \"action\": \"MPThermoExpert\",\n",
      "  \"action_input\": \"What is the formation energy of GaAs?\"\n",
      "}\n",
      "```\u001b[0m\n",
      "\n",
      "\u001b[1m> Entering new AgentExecutor chain...\u001b[0m\n"
     ]
    },
    {
     "name": "stderr",
     "output_type": "stream",
     "text": [
      "/home/cyrus/miniconda3/envs/llamp/lib/python3.11/site-packages/mp_api/client/mprester.py:230: UserWarning: mpcontribs-client not installed. Install the package to query MPContribs data, or construct pourbaix diagrams: 'pip install mpcontribs-client'\n",
      "  warnings.warn(\n",
      "/home/cyrus/miniconda3/envs/llamp/lib/python3.11/site-packages/mp_api/client/mprester.py:230: UserWarning: mpcontribs-client not installed. Install the package to query MPContribs data, or construct pourbaix diagrams: 'pip install mpcontribs-client'\n",
      "  warnings.warn(\n"
     ]
    },
    {
     "name": "stdout",
     "output_type": "stream",
     "text": [
      "\u001b[32;1m\u001b[1;3mAction:\n",
      "```\n",
      "{\n",
      "  \"action\": \"search_materials_thermo__get\",\n",
      "  \"action_input\": {\n",
      "    \"formula\": \"GaAs\",\n",
      "    \"fields\": \"material_id,formula_pretty,formation_energy_per_atom\"\n",
      "  }\n",
      "}\n",
      "```\u001b[0m{\"formula\": \"GaAs\", \"fields\": \"material_id,formula_pretty,formation_energy_per_atom\"}\n"
     ]
    },
    {
     "data": {
      "application/vnd.jupyter.widget-view+json": {
       "model_id": "4a2d0b636cf348049445301a37270fb0",
       "version_major": 2,
       "version_minor": 0
      },
      "text/plain": [
       "Retrieving ThermoDoc documents:   0%|          | 0/28 [00:00<?, ?it/s]"
      ]
     },
     "metadata": {},
     "output_type": "display_data"
    },
    {
     "name": "stdout",
     "output_type": "stream",
     "text": [
      "\u001b[36;1m\u001b[1;3m[{'formula_pretty': 'GaAs', 'material_id': 'mp-1245274', 'formation_energy_per_atom': -0.018212712649999505}, {'formula_pretty': 'GaAs', 'material_id': 'mp-2362466', 'formation_energy_per_atom': -0.09357818125000072}, {'formula_pretty': 'GaAs', 'material_id': 'mp-1245314', 'formation_energy_per_atom': -0.03643588124999951}, {'formula_pretty': 'GaAs', 'material_id': 'mp-2534', 'formation_energy_per_atom': -0.44627705625000047}, {'formula_pretty': 'GaAs', 'material_id': 'mp-1245274', 'formation_energy_per_atom': 0.07554670735000002}, {'formula_pretty': 'GaAs', 'material_id': 'mp-8883', 'formation_energy_per_atom': -0.4408126312500009}, {'formula_pretty': 'GaAs', 'material_id': 'mp-1245074', 'formation_energy_per_atom': 0.06000199795000014}, {'formula_pretty': 'GaAs', 'material_id': 'mp-603640', 'formation_energy_per_atom': -0.09816429625000112}, {'formula_pretty': 'GaAs', 'material_id': 'mp-1244999', 'formation_energy_per_atom': 0.01401687165000112}, {'formula_pretty': 'GaAs', 'material_id': 'mp-1244899', 'formation_energy_per_atom': -0.03577590605000069}]\u001b[0m\u001b[32;1m\u001b[1;3mAction:\n",
      "```\n",
      "{\n",
      "  \"action\": \"Final Answer\",\n",
      "  \"action_input\": \"The formation energy per atom for GaAs varies depending on the specific material entry. Here are some values from the Materials Project: -0.018 eV/atom, -0.094 eV/atom, -0.036 eV/atom, -0.446 eV/atom, 0.076 eV/atom, -0.441 eV/atom, 0.060 eV/atom, -0.098 eV/atom, 0.014 eV/atom, -0.036 eV/atom. These values correspond to different calculated entries for GaAs in the database.\"\n",
      "}\n",
      "```\u001b[0m\n",
      "\n",
      "\u001b[1m> Finished chain.\u001b[0m\n",
      "\n",
      "Observation: \u001b[36;1m\u001b[1;3m{'input': 'What is the formation energy of GaAs?', 'output': 'The formation energy per atom for GaAs varies depending on the specific material entry. Here are some values from the Materials Project: -0.018 eV/atom, -0.094 eV/atom, -0.036 eV/atom, -0.446 eV/atom, 0.076 eV/atom, -0.441 eV/atom, 0.060 eV/atom, -0.098 eV/atom, 0.014 eV/atom, -0.036 eV/atom. These values correspond to different calculated entries for GaAs in the database.'}\u001b[0m\n",
      "Thought:\u001b[32;1m\u001b[1;3mI have the information for GaAs, and I know that the lowest formation energy is -0.446 eV/atom. Now I will query for GaN.\n",
      "Action:\n",
      "```\n",
      "{\n",
      "  \"action\": \"MPThermoExpert\",\n",
      "  \"action_input\": \"What is the formation energy of GaN?\"\n",
      "}\n",
      "```\u001b[0m\n",
      "\n",
      "\u001b[1m> Entering new AgentExecutor chain...\u001b[0m\n"
     ]
    },
    {
     "name": "stderr",
     "output_type": "stream",
     "text": [
      "/home/cyrus/miniconda3/envs/llamp/lib/python3.11/site-packages/mp_api/client/mprester.py:230: UserWarning: mpcontribs-client not installed. Install the package to query MPContribs data, or construct pourbaix diagrams: 'pip install mpcontribs-client'\n",
      "  warnings.warn(\n",
      "/home/cyrus/miniconda3/envs/llamp/lib/python3.11/site-packages/mp_api/client/mprester.py:230: UserWarning: mpcontribs-client not installed. Install the package to query MPContribs data, or construct pourbaix diagrams: 'pip install mpcontribs-client'\n",
      "  warnings.warn(\n"
     ]
    },
    {
     "name": "stdout",
     "output_type": "stream",
     "text": [
      "\u001b[32;1m\u001b[1;3mAction:\n",
      "```\n",
      "{\n",
      "  \"action\": \"search_materials_thermo__get\",\n",
      "  \"action_input\": {\n",
      "    \"formula\": \"GaN\"\n",
      "  }\n",
      "}\n",
      "```\u001b[0m{\"formula\": \"GaN\"}\n",
      "Error on search_materials_thermo__get: fields must be specified. Please provide more information or try smaller request.\n",
      "\u001b[36;1m\u001b[1;3mError on search_materials_thermo__get: fields must be specified. Please provide more information or try smaller request.\u001b[0m\u001b[32;1m\u001b[1;3mAction:\n",
      "```\n",
      "{\n",
      "  \"action\": \"search_materials_thermo__get\",\n",
      "  \"action_input\": {\n",
      "    \"formula\": \"GaN\",\n",
      "    \"fields\": \"formation_energy_per_atom\"\n",
      "  }\n",
      "}\n",
      "```\u001b[0m{\"formula\": \"GaN\", \"fields\": \"formation_energy_per_atom\"}\n"
     ]
    },
    {
     "data": {
      "application/vnd.jupyter.widget-view+json": {
       "model_id": "cb659388ef52474b9494cede001a08c6",
       "version_major": 2,
       "version_minor": 0
      },
      "text/plain": [
       "Retrieving ThermoDoc documents:   0%|          | 0/90 [00:00<?, ?it/s]"
      ]
     },
     "metadata": {},
     "output_type": "display_data"
    },
    {
     "name": "stdout",
     "output_type": "stream",
     "text": [
      "\u001b[36;1m\u001b[1;3m[{'formation_energy_per_atom': 0.010410069624999779}, {'formation_energy_per_atom': 0.07162439492499971}, {'formation_energy_per_atom': 0.016198591224999746}, {'formation_energy_per_atom': -0.011633118375000322}, {'formation_energy_per_atom': -0.02091831857499983}, {'formation_energy_per_atom': -0.05231203347500014}, {'formation_energy_per_atom': 0.022242420224999934}, {'formation_energy_per_atom': 0.02808011732500063}, {'formation_energy_per_atom': 0.03236611592499912}, {'formation_energy_per_atom': 0.03441468262499939}]\u001b[0m\u001b[32;1m\u001b[1;3mAction:\n",
      "```\n",
      "{\n",
      "  \"action\": \"Final Answer\",\n",
      "  \"action_input\": \"The formation energy per atom for various GaN materials ranges from approximately -0.052 eV/atom to 0.034 eV/atom.\"\n",
      "}\n",
      "```\u001b[0m\n",
      "\n",
      "\u001b[1m> Finished chain.\u001b[0m\n",
      "\n",
      "Observation: \u001b[36;1m\u001b[1;3m{'input': 'What is the formation energy of GaN?', 'output': 'The formation energy per atom for various GaN materials ranges from approximately -0.052 eV/atom to 0.034 eV/atom.'}\u001b[0m\n",
      "Thought:\u001b[32;1m\u001b[1;3mI have the information for GaN, and I know that the lowest formation energy is -0.052 eV/atom. Now I will query for BN.\n",
      "Action:\n",
      "```\n",
      "{\n",
      "  \"action\": \"MPThermoExpert\",\n",
      "  \"action_input\": \"What is the formation energy of BN?\"\n",
      "}\n",
      "```\u001b[0m\n",
      "\n",
      "\u001b[1m> Entering new AgentExecutor chain...\u001b[0m\n"
     ]
    },
    {
     "name": "stderr",
     "output_type": "stream",
     "text": [
      "/home/cyrus/miniconda3/envs/llamp/lib/python3.11/site-packages/mp_api/client/mprester.py:230: UserWarning: mpcontribs-client not installed. Install the package to query MPContribs data, or construct pourbaix diagrams: 'pip install mpcontribs-client'\n",
      "  warnings.warn(\n",
      "/home/cyrus/miniconda3/envs/llamp/lib/python3.11/site-packages/mp_api/client/mprester.py:230: UserWarning: mpcontribs-client not installed. Install the package to query MPContribs data, or construct pourbaix diagrams: 'pip install mpcontribs-client'\n",
      "  warnings.warn(\n"
     ]
    },
    {
     "name": "stdout",
     "output_type": "stream",
     "text": [
      "\u001b[32;1m\u001b[1;3mAction:\n",
      "```\n",
      "{\n",
      "  \"action\": \"search_materials_thermo__get\",\n",
      "  \"action_input\": {\n",
      "    \"formula\": \"BN\"\n",
      "  }\n",
      "}\n",
      "```\u001b[0m{\"formula\": \"BN\"}\n",
      "Error on search_materials_thermo__get: fields must be specified. Please provide more information or try smaller request.\n",
      "\u001b[36;1m\u001b[1;3mError on search_materials_thermo__get: fields must be specified. Please provide more information or try smaller request.\u001b[0m\u001b[32;1m\u001b[1;3mAction:\n",
      "```\n",
      "{\n",
      "  \"action\": \"search_materials_thermo__get\",\n",
      "  \"action_input\": {\n",
      "    \"formula\": \"BN\",\n",
      "    \"fields\": \"formation_energy_per_atom\"\n",
      "  }\n",
      "}\n",
      "```\u001b[0m{\"formula\": \"BN\", \"fields\": \"formation_energy_per_atom\"}\n"
     ]
    },
    {
     "data": {
      "application/vnd.jupyter.widget-view+json": {
       "model_id": "0bc1f347504d4165a89d280e5e55e5a3",
       "version_major": 2,
       "version_minor": 0
      },
      "text/plain": [
       "Retrieving ThermoDoc documents:   0%|          | 0/60 [00:00<?, ?it/s]"
      ]
     },
     "metadata": {},
     "output_type": "display_data"
    },
    {
     "name": "stdout",
     "output_type": "stream",
     "text": [
      "\u001b[36;1m\u001b[1;3m[{'formation_energy_per_atom': -1.4072748981250012}, {'formation_energy_per_atom': -1.1112567439583347}, {'formation_energy_per_atom': -1.2750294293750013}, {'formation_energy_per_atom': -1.4116915706250008}, {'formation_energy_per_atom': -1.3182748731250022}, {'formation_energy_per_atom': -0.7468010057250012}, {'formation_energy_per_atom': -0.4967868553250014}, {'formation_energy_per_atom': -1.4112335681250006}, {'formation_energy_per_atom': -1.4052741006250002}, {'formation_energy_per_atom': -0.6450635241833333}]\u001b[0m\u001b[32;1m\u001b[1;3mAction:\n",
      "```\n",
      "{\n",
      "  \"action\": \"Final Answer\",\n",
      "  \"action_input\": \"The formation energy per atom for BN varies depending on the specific material and its structure. The values range from approximately -1.41 to -0.50 eV/atom.\"\n",
      "}\n",
      "```\u001b[0m\n",
      "\n",
      "\u001b[1m> Finished chain.\u001b[0m\n",
      "\n",
      "Observation: \u001b[36;1m\u001b[1;3m{'input': 'What is the formation energy of BN?', 'output': 'The formation energy per atom for BN varies depending on the specific material and its structure. The values range from approximately -1.41 to -0.50 eV/atom.'}\u001b[0m\n",
      "Thought:\u001b[32;1m\u001b[1;3mI have the information for BN, and I know that the lowest formation energy is -1.41 eV/atom. Now I will query for InSe.\n",
      "Action:\n",
      "```\n",
      "{\n",
      "  \"action\": \"MPThermoExpert\",\n",
      "  \"action_input\": \"What is the formation energy of InSe?\"\n",
      "}\n",
      "```\u001b[0m\n",
      "\n",
      "\u001b[1m> Entering new AgentExecutor chain...\u001b[0m\n"
     ]
    },
    {
     "name": "stderr",
     "output_type": "stream",
     "text": [
      "/home/cyrus/miniconda3/envs/llamp/lib/python3.11/site-packages/mp_api/client/mprester.py:230: UserWarning: mpcontribs-client not installed. Install the package to query MPContribs data, or construct pourbaix diagrams: 'pip install mpcontribs-client'\n",
      "  warnings.warn(\n",
      "/home/cyrus/miniconda3/envs/llamp/lib/python3.11/site-packages/mp_api/client/mprester.py:230: UserWarning: mpcontribs-client not installed. Install the package to query MPContribs data, or construct pourbaix diagrams: 'pip install mpcontribs-client'\n",
      "  warnings.warn(\n"
     ]
    },
    {
     "name": "stdout",
     "output_type": "stream",
     "text": [
      "\u001b[32;1m\u001b[1;3mAction:\n",
      "```\n",
      "{\n",
      "  \"action\": \"search_materials_thermo__get\",\n",
      "  \"action_input\": {\n",
      "    \"formula\": \"InSe\",\n",
      "    \"fields\": \"material_id,formula_pretty,formation_energy_per_atom\"\n",
      "  }\n",
      "}\n",
      "```\u001b[0m{\"formula\": \"InSe\", \"fields\": \"material_id,formula_pretty,formation_energy_per_atom\"}\n"
     ]
    },
    {
     "data": {
      "application/vnd.jupyter.widget-view+json": {
       "model_id": "22cafca8dab745eeb820bdb7804b5329",
       "version_major": 2,
       "version_minor": 0
      },
      "text/plain": [
       "Retrieving ThermoDoc documents:   0%|          | 0/12 [00:00<?, ?it/s]"
      ]
     },
     "metadata": {},
     "output_type": "display_data"
    },
    {
     "name": "stdout",
     "output_type": "stream",
     "text": [
      "\u001b[36;1m\u001b[1;3m[{'formula_pretty': 'InSe', 'material_id': 'mp-20485', 'formation_energy_per_atom': -0.676726512031248}, {'formula_pretty': 'InSe', 'material_id': 'mp-21405', 'formation_energy_per_atom': -0.6455260882812475}, {'formula_pretty': 'InSe', 'material_id': 'mp-21405', 'formation_energy_per_atom': -0.6455260882812475}, {'formula_pretty': 'InSe', 'material_id': 'mp-20485', 'formation_energy_per_atom': -0.742582154921875}, {'formula_pretty': 'InSe', 'material_id': 'mp-22691', 'formation_energy_per_atom': -0.6763020120312468}, {'formula_pretty': 'InSe', 'material_id': 'mp-1079260', 'formation_energy_per_atom': -0.674929659531248}, {'formula_pretty': 'InSe', 'material_id': 'mp-20485', 'formation_energy_per_atom': -0.676726512031248}, {'formula_pretty': 'InSe', 'material_id': 'mp-1079260', 'formation_energy_per_atom': -0.674929659531248}, {'formula_pretty': 'InSe', 'material_id': 'mp-22691', 'formation_energy_per_atom': -0.6763020120312468}, {'formula_pretty': 'InSe', 'material_id': 'mp-21405', 'formation_energy_per_atom': -0.7095991286718748}]\u001b[0m\u001b[32;1m\u001b[1;3mAction:\n",
      "```\n",
      "{\n",
      "  \"action\": \"Final Answer\",\n",
      "  \"action_input\": \"The formation energy per atom of InSe varies depending on the specific material entry. Here are some values for different entries on Materials Project: -0.676726512031248 eV/atom (mp-20485), -0.6455260882812475 eV/atom (mp-21405), -0.742582154921875 eV/atom (mp-20485), -0.6763020120312468 eV/atom (mp-22691), -0.674929659531248 eV/atom (mp-1079260), -0.7095991286718748 eV/atom (mp-21405).\"\n",
      "}\n",
      "```\u001b[0m\n",
      "\n",
      "\u001b[1m> Finished chain.\u001b[0m\n",
      "\n",
      "Observation: \u001b[36;1m\u001b[1;3m{'input': 'What is the formation energy of InSe?', 'output': 'The formation energy per atom of InSe varies depending on the specific material entry. Here are some values for different entries on Materials Project: -0.676726512031248 eV/atom (mp-20485), -0.6455260882812475 eV/atom (mp-21405), -0.742582154921875 eV/atom (mp-20485), -0.6763020120312468 eV/atom (mp-22691), -0.674929659531248 eV/atom (mp-1079260), -0.7095991286718748 eV/atom (mp-21405).'}\u001b[0m\n",
      "Thought:\u001b[32;1m\u001b[1;3mI have the information for InSe, and I know that the lowest formation energy is -0.742582154921875 eV/atom. Now I will query for MoS2.\n",
      "Action:\n",
      "```\n",
      "{\n",
      "  \"action\": \"MPThermoExpert\",\n",
      "  \"action_input\": \"What is the formation energy of MoS2?\"\n",
      "}\n",
      "```\n",
      "\u001b[0m\n",
      "\n",
      "\u001b[1m> Entering new AgentExecutor chain...\u001b[0m\n"
     ]
    },
    {
     "name": "stderr",
     "output_type": "stream",
     "text": [
      "/home/cyrus/miniconda3/envs/llamp/lib/python3.11/site-packages/mp_api/client/mprester.py:230: UserWarning: mpcontribs-client not installed. Install the package to query MPContribs data, or construct pourbaix diagrams: 'pip install mpcontribs-client'\n",
      "  warnings.warn(\n",
      "/home/cyrus/miniconda3/envs/llamp/lib/python3.11/site-packages/mp_api/client/mprester.py:230: UserWarning: mpcontribs-client not installed. Install the package to query MPContribs data, or construct pourbaix diagrams: 'pip install mpcontribs-client'\n",
      "  warnings.warn(\n"
     ]
    },
    {
     "name": "stdout",
     "output_type": "stream",
     "text": [
      "\u001b[32;1m\u001b[1;3mAction:\n",
      "```\n",
      "{\n",
      "  \"action\": \"search_materials_thermo__get\",\n",
      "  \"action_input\": {\n",
      "    \"formula\": \"MoS2\",\n",
      "    \"fields\": \"material_id,formula_pretty,formation_energy_per_atom\"\n",
      "  }\n",
      "}\n",
      "```\u001b[0m{\"formula\": \"MoS2\", \"fields\": \"material_id,formula_pretty,formation_energy_per_atom\"}\n"
     ]
    },
    {
     "data": {
      "application/vnd.jupyter.widget-view+json": {
       "model_id": "f2c21231d1ce4e1fb7e9c078a7866b7c",
       "version_major": 2,
       "version_minor": 0
      },
      "text/plain": [
       "Retrieving ThermoDoc documents:   0%|          | 0/32 [00:00<?, ?it/s]"
      ]
     },
     "metadata": {},
     "output_type": "display_data"
    },
    {
     "name": "stdout",
     "output_type": "stream",
     "text": [
      "\u001b[36;1m\u001b[1;3m[{'formula_pretty': 'MoS2', 'material_id': 'mp-1238797', 'formation_energy_per_atom': -0.6691974952083323}, {'formula_pretty': 'MoS2', 'material_id': 'mp-1027525', 'formation_energy_per_atom': -0.9618197735416677}, {'formula_pretty': 'MoS2', 'material_id': 'mp-1023939', 'formation_energy_per_atom': -0.9582655135416663}, {'formula_pretty': 'MoS2', 'material_id': 'mp-1238797', 'formation_energy_per_atom': -0.6691974952083323}, {'formula_pretty': 'MoS2', 'material_id': 'mp-1023924', 'formation_energy_per_atom': -0.9510613952083323}, {'formula_pretty': 'MoS2', 'material_id': 'mp-1042086', 'formation_energy_per_atom': -0.5540545020833333}, {'formula_pretty': 'MoS2', 'material_id': 'mp-1027525', 'formation_energy_per_atom': -1.200966215416667}, {'formula_pretty': 'MoS2', 'material_id': 'mp-2815', 'formation_energy_per_atom': -1.2015554987500003}, {'formula_pretty': 'MoS2', 'material_id': 'mp-1018809', 'formation_energy_per_atom': -1.2002801470833333}, {'formula_pretty': 'MoS2', 'material_id': 'mp-1405065', 'formation_energy_per_atom': -0.9340124629166672}]\u001b[0m\u001b[32;1m\u001b[1;3mAction:\n",
      "```\n",
      "{\n",
      "  \"action\": \"Final Answer\",\n",
      "  \"action_input\": \"The formation energy per atom of MoS2 varies depending on the specific material entry. Here are some values for different entries of MoS2 on Materials Project:\\n- mp-1238797: -0.669 eV/atom\\n- mp-1027525: -0.962 eV/atom and -1.201 eV/atom (two entries)\\n- mp-1023939: -0.958 eV/atom\\n- mp-1023924: -0.951 eV/atom\\n- mp-1042086: -0.554 eV/atom\\n- mp-2815: -1.202 eV/atom\\n- mp-1018809: -1.200 eV/atom\\n- mp-1405065: -0.934 eV/atom\\nPlease note that these values are for individual entries and the actual formation energy can depend on the specific phase or polymorph of MoS2.\"\n",
      "}\n",
      "```\u001b[0m\n",
      "\n",
      "\u001b[1m> Finished chain.\u001b[0m\n",
      "\n",
      "Observation: \u001b[36;1m\u001b[1;3m{'input': 'What is the formation energy of MoS2?', 'output': 'The formation energy per atom of MoS2 varies depending on the specific material entry. Here are some values for different entries of MoS2 on Materials Project:\\n- mp-1238797: -0.669 eV/atom\\n- mp-1027525: -0.962 eV/atom and -1.201 eV/atom (two entries)\\n- mp-1023939: -0.958 eV/atom\\n- mp-1023924: -0.951 eV/atom\\n- mp-1042086: -0.554 eV/atom\\n- mp-2815: -1.202 eV/atom\\n- mp-1018809: -1.200 eV/atom\\n- mp-1405065: -0.934 eV/atom\\nPlease note that these values are for individual entries and the actual formation energy can depend on the specific phase or polymorph of MoS2.'}\u001b[0m\n",
      "Thought:\u001b[32;1m\u001b[1;3mI have the information for MoS2, and I know that the lowest formation energy is -1.202 eV/atom. Now I will query for BaTiO3.\n",
      "Action:\n",
      "```\n",
      "{\n",
      "  \"action\": \"MPThermoExpert\",\n",
      "  \"action_input\": \"What is the formation energy of BaTiO3?\"\n",
      "}\n",
      "```\u001b[0m\n",
      "\n",
      "\u001b[1m> Entering new AgentExecutor chain...\u001b[0m\n"
     ]
    },
    {
     "name": "stderr",
     "output_type": "stream",
     "text": [
      "/home/cyrus/miniconda3/envs/llamp/lib/python3.11/site-packages/mp_api/client/mprester.py:230: UserWarning: mpcontribs-client not installed. Install the package to query MPContribs data, or construct pourbaix diagrams: 'pip install mpcontribs-client'\n",
      "  warnings.warn(\n",
      "/home/cyrus/miniconda3/envs/llamp/lib/python3.11/site-packages/mp_api/client/mprester.py:230: UserWarning: mpcontribs-client not installed. Install the package to query MPContribs data, or construct pourbaix diagrams: 'pip install mpcontribs-client'\n",
      "  warnings.warn(\n"
     ]
    },
    {
     "name": "stdout",
     "output_type": "stream",
     "text": [
      "\u001b[32;1m\u001b[1;3mAction:\n",
      "```\n",
      "{\n",
      "  \"action\": \"search_materials_thermo__get\",\n",
      "  \"action_input\": {\n",
      "    \"formula\": \"BaTiO3\",\n",
      "    \"fields\": \"material_id,formula_pretty,formation_energy_per_atom\"\n",
      "  }\n",
      "}\n",
      "```\u001b[0m{\"formula\": \"BaTiO3\", \"fields\": \"material_id,formula_pretty,formation_energy_per_atom\"}\n"
     ]
    },
    {
     "data": {
      "application/vnd.jupyter.widget-view+json": {
       "model_id": "07b1f9d2b2c643bb962d0855c1feb52b",
       "version_major": 2,
       "version_minor": 0
      },
      "text/plain": [
       "Retrieving ThermoDoc documents:   0%|          | 0/28 [00:00<?, ?it/s]"
      ]
     },
     "metadata": {},
     "output_type": "display_data"
    },
    {
     "name": "stdout",
     "output_type": "stream",
     "text": [
      "\u001b[36;1m\u001b[1;3m[{'formula_pretty': 'BaTiO3', 'material_id': 'mp-558125', 'formation_energy_per_atom': -3.3710064950000023}, {'formula_pretty': 'BaTiO3', 'material_id': 'mp-504715', 'formation_energy_per_atom': -0.41220425916666625}, {'formula_pretty': 'BaTiO3', 'material_id': 'mp-5986', 'formation_energy_per_atom': -3.370346751333332}, {'formula_pretty': 'BaTiO3', 'material_id': 'mp-5777', 'formation_energy_per_atom': -3.372303325333334}, {'formula_pretty': 'BaTiO3', 'material_id': 'mp-5020', 'formation_energy_per_atom': -3.3722623353333345}, {'formula_pretty': 'BaTiO3', 'material_id': 'mp-5933', 'formation_energy_per_atom': -3.3696838833333347}, {'formula_pretty': 'BaTiO3', 'material_id': 'mp-2998', 'formation_energy_per_atom': -3.364836653333333}, {'formula_pretty': 'BaTiO3', 'material_id': 'mp-644497', 'formation_energy_per_atom': -2.7754237491666656}, {'formula_pretty': 'BaTiO3', 'material_id': 'mp-5933', 'formation_energy_per_atom': -3.487076905166634}, {'formula_pretty': 'BaTiO3', 'material_id': 'mp-5777', 'formation_energy_per_atom': -3.4925271839166663}]\u001b[0m\u001b[32;1m\u001b[1;3mAction:\n",
      "```\n",
      "{\n",
      "  \"action\": \"Final Answer\",\n",
      "  \"action_input\": \"The formation energy per atom of BaTiO3 varies depending on the specific material entry. Here are some values for different entries on Materials Project: -3.371 eV/atom (mp-558125), -0.412 eV/atom (mp-504715), -3.370 eV/atom (mp-5986), -3.372 eV/atom (mp-5777), -3.372 eV/atom (mp-5020), -3.370 eV/atom (mp-5933), -3.365 eV/atom (mp-2998), -2.775 eV/atom (mp-644497), -3.487 eV/atom (mp-5933), -3.493 eV/atom (mp-5777).\"\n",
      "}\n",
      "```\u001b[0m\n",
      "\n",
      "\u001b[1m> Finished chain.\u001b[0m\n",
      "\n",
      "Observation: \u001b[36;1m\u001b[1;3m{'input': 'What is the formation energy of BaTiO3?', 'output': 'The formation energy per atom of BaTiO3 varies depending on the specific material entry. Here are some values for different entries on Materials Project: -3.371 eV/atom (mp-558125), -0.412 eV/atom (mp-504715), -3.370 eV/atom (mp-5986), -3.372 eV/atom (mp-5777), -3.372 eV/atom (mp-5020), -3.370 eV/atom (mp-5933), -3.365 eV/atom (mp-2998), -2.775 eV/atom (mp-644497), -3.487 eV/atom (mp-5933), -3.493 eV/atom (mp-5777).'}\u001b[0m\n",
      "Thought:\u001b[32;1m\u001b[1;3mI have the information for BaTiO3, and I know that the lowest formation energy is -3.493 eV/atom. Now I will query for CsPbI3.\n",
      "Action:\n",
      "```\n",
      "{\n",
      "  \"action\": \"MPThermoExpert\",\n",
      "  \"action_input\": \"What is the formation energy of CsPbI3?\"\n",
      "}\n",
      "```\n",
      "\u001b[0m\n",
      "\n",
      "\u001b[1m> Entering new AgentExecutor chain...\u001b[0m\n"
     ]
    },
    {
     "name": "stderr",
     "output_type": "stream",
     "text": [
      "/home/cyrus/miniconda3/envs/llamp/lib/python3.11/site-packages/mp_api/client/mprester.py:230: UserWarning: mpcontribs-client not installed. Install the package to query MPContribs data, or construct pourbaix diagrams: 'pip install mpcontribs-client'\n",
      "  warnings.warn(\n",
      "/home/cyrus/miniconda3/envs/llamp/lib/python3.11/site-packages/mp_api/client/mprester.py:230: UserWarning: mpcontribs-client not installed. Install the package to query MPContribs data, or construct pourbaix diagrams: 'pip install mpcontribs-client'\n",
      "  warnings.warn(\n"
     ]
    },
    {
     "name": "stdout",
     "output_type": "stream",
     "text": [
      "\u001b[32;1m\u001b[1;3mAction:\n",
      "```\n",
      "{\n",
      "  \"action\": \"search_materials_thermo__get\",\n",
      "  \"action_input\": {\n",
      "    \"formula\": \"CsPbI3\",\n",
      "    \"fields\": \"material_id,formula_pretty,formation_energy_per_atom\"\n",
      "  }\n",
      "}\n",
      "```\u001b[0m{\"formula\": \"CsPbI3\", \"fields\": \"material_id,formula_pretty,formation_energy_per_atom\"}\n"
     ]
    },
    {
     "data": {
      "application/vnd.jupyter.widget-view+json": {
       "model_id": "5a7e84b6cc094c0eb4f79260f6d75ef3",
       "version_major": 2,
       "version_minor": 0
      },
      "text/plain": [
       "Retrieving ThermoDoc documents:   0%|          | 0/7 [00:00<?, ?it/s]"
      ]
     },
     "metadata": {},
     "output_type": "display_data"
    },
    {
     "name": "stdout",
     "output_type": "stream",
     "text": [
      "\u001b[36;1m\u001b[1;3m[{'formula_pretty': 'CsPbI3', 'material_id': 'mp-540839', 'formation_energy_per_atom': -1.296129543586207}, {'formula_pretty': 'CsPbI3', 'material_id': 'mp-1120768', 'formation_energy_per_atom': -1.2796408769310343}, {'formula_pretty': 'CsPbI3', 'material_id': 'mp-540839', 'formation_energy_per_atom': -1.295464193931037}, {'formula_pretty': 'CsPbI3', 'material_id': 'mp-540839', 'formation_energy_per_atom': -1.2898320764999993}, {'formula_pretty': 'CsPbI3', 'material_id': 'mp-1069538', 'formation_energy_per_atom': -1.2704148499310342}, {'formula_pretty': 'CsPbI3', 'material_id': 'mp-1120768', 'formation_energy_per_atom': -1.280306226586207}, {'formula_pretty': 'CsPbI3', 'material_id': 'mp-1069538', 'formation_energy_per_atom': -1.271080199586207}]\u001b[0m\u001b[32;1m\u001b[1;3mAction:\n",
      "```\n",
      "{\n",
      "  \"action\": \"Final Answer\",\n",
      "  \"action_input\": \"The formation energy per atom of CsPbI3 varies slightly depending on the specific material entry. Here are some values for different entries on Materials Project: -1.296 eV/atom (mp-540839), -1.280 eV/atom (mp-1120768), -1.270 eV/atom (mp-1069538).\"\n",
      "}\n",
      "```\u001b[0m\n",
      "\n",
      "\u001b[1m> Finished chain.\u001b[0m\n",
      "\n",
      "Observation: \u001b[36;1m\u001b[1;3m{'input': 'What is the formation energy of CsPbI3?', 'output': 'The formation energy per atom of CsPbI3 varies slightly depending on the specific material entry. Here are some values for different entries on Materials Project: -1.296 eV/atom (mp-540839), -1.280 eV/atom (mp-1120768), -1.270 eV/atom (mp-1069538).'}\u001b[0m\n",
      "Thought:\u001b[32;1m\u001b[1;3mI have the information for CsPbI3, and I know that the lowest formation energy is -1.296 eV/atom. Now I have all the information needed to answer the question.\n",
      "Action:\n",
      "```\n",
      "{\n",
      "  \"action\": \"Final Answer\",\n",
      "  \"action_input\": \"The smallest formation energies of the materials you asked for are as follows: Ag2O3: -0.3601 eV/atom, MgZn2: -0.1306 eV/atom, GaAs: -0.446 eV/atom, GaN: -0.052 eV/atom, SiC: -0.204 eV/atom, BN: -1.41 eV/atom, InSe: -0.742582154921875 eV/atom, MoS2: -1.202 eV/atom, BaTiO3: -3.493 eV/atom, CsPbI3: -1.296 eV/atom.\"\n",
      "}\n",
      "```\u001b[0m\n",
      "\n",
      "\u001b[1m> Finished chain.\u001b[0m\n"
     ]
    },
    {
     "data": {
      "text/plain": [
       "{'input': 'Give me the formation energies of the following materials: Ag2O3, MgZn2, GaAs, GaN, SiC, BN, InSe, MoS2, BaTiO3, CsPbI3. If there are multiple values, please give me the smallest value.',\n",
       " 'chat_history': [],\n",
       " 'output': 'The smallest formation energies of the materials you asked for are as follows: Ag2O3: -0.3601 eV/atom, MgZn2: -0.1306 eV/atom, GaAs: -0.446 eV/atom, GaN: -0.052 eV/atom, SiC: -0.204 eV/atom, BN: -1.41 eV/atom, InSe: -0.742582154921875 eV/atom, MoS2: -1.202 eV/atom, BaTiO3: -3.493 eV/atom, CsPbI3: -1.296 eV/atom.'}"
      ]
     },
     "execution_count": 3,
     "metadata": {},
     "output_type": "execute_result"
    }
   ],
   "source": [
    "agent_executor.invoke({\n",
    "    \"input\": \"Give me the formation energies of the following materials: Ag2O3, MgZn2, GaAs, GaN, SiC, BN, InSe, MoS2, BaTiO3, CsPbI3. If there are multiple values, please give me the smallest value.\",\n",
    "})"
   ]
  },
  {
   "cell_type": "code",
   "execution_count": 4,
   "metadata": {},
   "outputs": [
    {
     "name": "stdout",
     "output_type": "stream",
     "text": [
      "The smallest formation energies of the materials you asked for are as follows: Ag2O3: -0.3601 eV/atom, MgZn2: -0.1306 eV/atom, GaAs: -0.446 eV/atom, GaN: -0.052 eV/atom, SiC: -0.204 eV/atom, BN: -1.41 eV/atom, InSe: -0.742582154921875 eV/atom, MoS2: -1.202 eV/atom, BaTiO3: -3.493 eV/atom, CsPbI3: -1.296 eV/atom.\n"
     ]
    }
   ],
   "source": [
    "print(agent_executor.memory.chat_memory.messages[1].content)"
   ]
  },
  {
   "cell_type": "code",
   "execution_count": 5,
   "metadata": {},
   "outputs": [],
   "source": [
    "\n",
    "llm_gpt = ChatOpenAI(\n",
    "    temperature=0.7,\n",
    "    model=OPENAI_GPT_MODEL,\n",
    "    openai_api_key=OPENAI_API_KEY,\n",
    "    openai_organization=None,\n",
    "    # streaming=True\n",
    ")\n",
    "\n",
    "response = llm_gpt.invoke(agent_executor.memory.chat_memory.messages[0].content)\n"
   ]
  },
  {
   "cell_type": "code",
   "execution_count": 6,
   "metadata": {},
   "outputs": [
    {
     "name": "stdout",
     "output_type": "stream",
     "text": [
      "Ag2O3: -2.63 eV/atom\n",
      "MgZn2: -0.27 eV/atom\n",
      "GaAs: -4.13 eV/atom\n",
      "GaN: -3.51 eV/atom\n",
      "SiC: -4.98 eV/atom\n",
      "BN: -3.8 eV/atom\n",
      "InSe: -0.89 eV/atom\n",
      "MoS2: -3.31 eV/atom\n",
      "BaTiO3: -4.45 eV/atom\n",
      "CsPbI3: -2.32 eV/atom\n"
     ]
    }
   ],
   "source": [
    "print(response.content)"
   ]
  },
  {
   "cell_type": "code",
   "execution_count": null,
   "metadata": {},
   "outputs": [],
   "source": []
  }
 ],
 "metadata": {
  "kernelspec": {
   "display_name": "llamp",
   "language": "python",
   "name": "python3"
  },
  "language_info": {
   "codemirror_mode": {
    "name": "ipython",
    "version": 3
   },
   "file_extension": ".py",
   "mimetype": "text/x-python",
   "name": "python",
   "nbconvert_exporter": "python",
   "pygments_lexer": "ipython3",
   "version": "3.11.5"
  }
 },
 "nbformat": 4,
 "nbformat_minor": 2
}
