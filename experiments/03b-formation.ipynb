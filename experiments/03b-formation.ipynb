{
 "cells": [
  {
   "cell_type": "code",
   "execution_count": 1,
   "metadata": {},
   "outputs": [],
   "source": [
    "import os\n",
    "import re\n",
    "import tempfile\n",
    "from monty.tempfile import ScratchDir\n",
    "\n",
    "from dotenv import load_dotenv\n",
    "from langchain import hub\n",
    "from langchain.agents import load_tools\n",
    "from langchain_experimental.tools import PythonREPLTool\n",
    "from langchain.agents import create_react_agent, AgentExecutor\n",
    "from langchain.chains.conversation.memory import ConversationBufferWindowMemory\n",
    "from langchain_openai import ChatOpenAI\n",
    "from langchain_community.chat_models import ChatOllama\n",
    "from langchain_google_genai import GoogleGenerativeAI\n",
    "from langchain.tools import ArxivQueryRun, WikipediaQueryRun\n",
    "from langchain.utilities import ArxivAPIWrapper, WikipediaAPIWrapper\n",
    "\n",
    "from langchain.callbacks.streaming_stdout import StreamingStdOutCallbackHandler\n",
    "\n",
    "from llamp.mp.agents import (\n",
    "    MPSummaryExpert,\n",
    "    MPThermoExpert,\n",
    "    MPElasticityExpert,\n",
    "    MPDielectricExpert,\n",
    "    MPPiezoelectricExpert,\n",
    "    MPMagnetismExpert,\n",
    "    MPElectronicExpert,\n",
    "    MPSynthesisExpert,\n",
    "    MPStructureRetriever,\n",
    ")\n",
    "from llamp.atomate2.agents import MLFFMDAgent\n",
    "# from llamp.arxiv.agents import ArxivAgent\n",
    "\n",
    "load_dotenv()\n",
    "\n",
    "MP_API_KEY = os.getenv(\"MP_API_KEY\", None)\n",
    "\n",
    "OPENAI_API_KEY = os.getenv(\"OPENAI_API_KEY\", None)\n",
    "OPENAI_ORGANIZATION = os.getenv(\"OPENAI_ORGANIZATION\", None)\n",
    "GOOGLE_API_KEY = os.getenv(\"GOOGLE_API_KEY\", None)\n",
    "\n",
    "OPENAI_GPT_MODEL = \"gpt-4-1106-preview\"\n",
    "# OPENAI_GPT_MODEL = \"gpt-4-0125-preview\"\n",
    "# OPENAI_GPT_MODEL = \"gpt-3.5-turbo-1106\"\n",
    "# OPENAI_GPT_MODEL = \"gpt-4-turbo\""
   ]
  },
  {
   "cell_type": "code",
   "execution_count": 2,
   "metadata": {},
   "outputs": [],
   "source": [
    "top_llm = ChatOpenAI(\n",
    "    temperature=0.1,\n",
    "    model=OPENAI_GPT_MODEL,\n",
    "    openai_api_key=OPENAI_API_KEY,\n",
    "    openai_organization=OPENAI_ORGANIZATION,\n",
    "    streaming=True,\n",
    "    callbacks=[StreamingStdOutCallbackHandler()],\n",
    ")\n",
    "\n",
    "bottom_callback_handler = StreamingStdOutCallbackHandler()\n",
    "\n",
    "bottom_llm = ChatOpenAI(\n",
    "    temperature=0.0,\n",
    "    model=OPENAI_GPT_MODEL,\n",
    "    openai_api_key=OPENAI_API_KEY,\n",
    "    openai_organization=OPENAI_ORGANIZATION,\n",
    "    max_retries=5,\n",
    "    streaming=True,\n",
    "    callbacks=[bottom_callback_handler],\n",
    ")\n",
    "\n",
    "\n",
    "wikipedia = WikipediaQueryRun(api_wrapper=WikipediaAPIWrapper())\n",
    "arxiv = ArxivQueryRun(api_wrapper=ArxivAPIWrapper())\n",
    "\n",
    "tools = load_tools([\"llm-math\"], llm=bottom_llm)\n",
    "tools += [PythonREPLTool(\n",
    "    description=re.sub(\n",
    "        r\"\\s+\",\n",
    "        \" \",\n",
    "        \"\"\"A Python shell. Use this to execute python commands.\n",
    "        Input should be a valid python command.\n",
    "        \n",
    "        TIPS:\n",
    "        - If you want to see the output of a value, you should print it out\n",
    "        with `print(...)`.\n",
    "        - If you write any file to a local file system, you should ALWAYS \n",
    "        print the paths to the files as well.\n",
    "        - If you plot any graph, you should show the graph, save it to local \n",
    "        and print the path to the image file.\n",
    "        - Combine all your output string together and print once together in\n",
    "        JSON format at the end of the code.\n",
    "        \"\"\"\n",
    "    )\n",
    ")]\n",
    "tools += [\n",
    "    MPThermoExpert(llm=bottom_llm, mp_api_key=MP_API_KEY).as_tool(\n",
    "        agent_kwargs=dict(return_intermediate_steps=False)\n",
    "    ),\n",
    "    MPElasticityExpert(llm=bottom_llm, mp_api_key=MP_API_KEY).as_tool(\n",
    "        agent_kwargs=dict(return_intermediate_steps=False)\n",
    "    ),\n",
    "    MPDielectricExpert(llm=bottom_llm, mp_api_key=MP_API_KEY).as_tool(\n",
    "        agent_kwargs=dict(return_intermediate_steps=False)\n",
    "    ),\n",
    "    MPMagnetismExpert(llm=bottom_llm, mp_api_key=MP_API_KEY).as_tool(\n",
    "        agent_kwargs=dict(return_intermediate_steps=False)\n",
    "    ),\n",
    "    MPElectronicExpert(llm=bottom_llm, mp_api_key=MP_API_KEY).as_tool(\n",
    "        agent_kwargs=dict(return_intermediate_steps=False)\n",
    "    ),\n",
    "    MPPiezoelectricExpert(llm=bottom_llm, mp_api_key=MP_API_KEY).as_tool(\n",
    "        agent_kwargs=dict(return_intermediate_steps=False)\n",
    "    ),\n",
    "    MPSummaryExpert(llm=bottom_llm, mp_api_key=MP_API_KEY).as_tool(\n",
    "        agent_kwargs=dict(return_intermediate_steps=False)\n",
    "    ),\n",
    "    MPSynthesisExpert(llm=bottom_llm, mp_api_key=MP_API_KEY).as_tool(\n",
    "        agent_kwargs=dict(return_intermediate_steps=False)\n",
    "    ),\n",
    "    MPStructureRetriever(llm=bottom_llm, mp_api_key=MP_API_KEY).as_tool(\n",
    "        agent_kwargs=dict(return_intermediate_steps=False)\n",
    "    ),\n",
    "    MLFFMDAgent(llm=bottom_llm).as_tool(\n",
    "        agent_kwargs=dict(return_intermediate_steps=False)\n",
    "    ),\n",
    "    arxiv,\n",
    "    wikipedia,\n",
    "]\n",
    "\n",
    "instructions = re.sub(\n",
    "    r\"\\s+\",\n",
    "    \" \",\n",
    "    \"\"\"You name is LLaMP and you are a helpful agent that can consult \n",
    "    materials-related data through Materials Project (MP) database, arXiv, \n",
    "    Wikipedia, and run calculations/simulations via a python REPL and MP atomate2 \n",
    "    computational workflow.     \n",
    "        \n",
    "    If you get an error, debug your code and try again. Only use \n",
    "    the output of your code to answer the question. Ask user to clarify their \n",
    "    queries if needed. Please note that you don't have direct control over MP but \n",
    "    through multiple assistant agents to help you. You need to provide complete \n",
    "    context in the input for assistants to do their job. REFINE and CRITQUE the \n",
    "    output of the assistants if needed. You can end the conversation by saying \"Bye\".\n",
    "    \"\"\",\n",
    "    )\n",
    "base_prompt = hub.pull(\"langchain-ai/react-agent-template\")\n",
    "prompt = base_prompt.partial(instructions=instructions)\n",
    "\n",
    "conversational_memory = ConversationBufferWindowMemory(\n",
    "    memory_key=\"chat_history\", k=5, return_messages=True\n",
    ")\n",
    "\n",
    "agent = create_react_agent(top_llm, tools, prompt)\n",
    "agent_executor = AgentExecutor(\n",
    "    agent=agent, tools=tools, verbose=True,\n",
    "    handle_parsing_errors=True,\n",
    "    memory=conversational_memory,\n",
    ")"
   ]
  },
  {
   "cell_type": "code",
   "execution_count": 3,
   "metadata": {},
   "outputs": [
    {
     "name": "stdout",
     "output_type": "stream",
     "text": [
      "Query: \n",
      "Give me the formation energies of the following materials in their most stable bulk form: Ag2O3, MgZn2, GaAs, GaN, SiC, BN, InSe, MoS2, BaTiO3, CsPbI3. If there are multiple values, please give me the smallest value.\n",
      "\n",
      "\n",
      "\n",
      "\u001b[1m> Entering new AgentExecutor chain...\u001b[0m\n",
      "Thought: Do I need to use a tool? Yes\n",
      "Action: MPThermoExpert\n",
      "Action Input: What are the formation energies of Ag2O3, MgZn2, GaAs, GaN, SiC, BN, InSe, MoS2, BaTiO3, CsPbI3 in their most stable bulk form?\u001b[32;1m\u001b[1;3mThought: Do I need to use a tool? Yes\n",
      "Action: MPThermoExpert\n",
      "Action Input: What are the formation energies of Ag2O3, MgZn2, GaAs, GaN, SiC, BN, InSe, MoS2, BaTiO3, CsPbI3 in their most stable bulk form?\u001b[0m\n",
      "\n",
      "\u001b[1m> Entering new AgentExecutor chain...\u001b[0m\n",
      "Action:\n",
      "```json\n",
      "{\n",
      "  \"action\": \"search_materials_thermo__get\",\n",
      "  \"action_input\": {\n",
      "    \"formula\": \"Ag2O3,MgZn2,GaAs,GaN,SiC,BN,InSe,MoS2,BaTiO3,CsPbI3\",\n",
      "    \"fields\": \"material_id,formula_pretty,formation_energy_per_atom,is_stable\",\n",
      "    \"is_stable\": true\n",
      "  }\n",
      "}\n",
      "```\u001b[32;1m\u001b[1;3mAction:\n",
      "```json\n",
      "{\n",
      "  \"action\": \"search_materials_thermo__get\",\n",
      "  \"action_input\": {\n",
      "    \"formula\": \"Ag2O3,MgZn2,GaAs,GaN,SiC,BN,InSe,MoS2,BaTiO3,CsPbI3\",\n",
      "    \"fields\": \"material_id,formula_pretty,formation_energy_per_atom,is_stable\",\n",
      "    \"is_stable\": true\n",
      "  }\n",
      "}\n",
      "```\u001b[0m"
     ]
    },
    {
     "data": {
      "application/vnd.jupyter.widget-view+json": {
       "model_id": "5dbe8492242040449278d6dda5c5e559",
       "version_major": 2,
       "version_minor": 0
      },
      "text/plain": [
       "Retrieving ThermoDoc documents:   0%|          | 0/27 [00:00<?, ?it/s]"
      ]
     },
     "metadata": {},
     "output_type": "display_data"
    },
    {
     "name": "stdout",
     "output_type": "stream",
     "text": [
      "\u001b[36;1m\u001b[1;3m[{'formula_pretty': 'InSe', 'material_id': 'mp-20485', 'formation_energy_per_atom': -0.676726512031248, 'is_stable': True}, {'formula_pretty': 'InSe', 'material_id': 'mp-20485', 'formation_energy_per_atom': -0.676726512031248, 'is_stable': True}, {'formula_pretty': 'InSe', 'material_id': 'mp-22691', 'formation_energy_per_atom': -0.7462709086718746, 'is_stable': True}, {'formula_pretty': 'MoS2', 'material_id': 'mp-2815', 'formation_energy_per_atom': -1.2015554987500003, 'is_stable': True}, {'formula_pretty': 'MoS2', 'material_id': 'mp-1434', 'formation_energy_per_atom': -0.965501308541666, 'is_stable': True}, {'formula_pretty': 'MoS2', 'material_id': 'mp-1434', 'formation_energy_per_atom': -0.965501308541666, 'is_stable': True}, {'formula_pretty': 'GaN', 'material_id': 'mp-804', 'formation_energy_per_atom': -0.65681686875, 'is_stable': True}, {'formula_pretty': 'GaN', 'material_id': 'mp-804', 'formation_energy_per_atom': -0.670049406875, 'is_stable': True}, {'formula_pretty': 'GaN', 'material_id': 'mp-804', 'formation_energy_per_atom': -0.670049406875, 'is_stable': True}, {'formula_pretty': 'GaAs', 'material_id': 'mp-2534', 'formation_energy_per_atom': -0.44627705625000047, 'is_stable': True}, {'formula_pretty': 'GaAs', 'material_id': 'mp-2534', 'formation_energy_per_atom': -0.35251763625, 'is_stable': True}, {'formula_pretty': 'GaAs', 'material_id': 'mp-2534', 'formation_energy_per_atom': -0.44627705625000047, 'is_stable': True}, {'formula_pretty': 'SiC', 'material_id': 'mp-1204356', 'formation_energy_per_atom': -0.20388216661842162, 'is_stable': True}, {'formula_pretty': 'SiC', 'material_id': 'mp-1204356', 'formation_energy_per_atom': -0.3045817636184229, 'is_stable': True}, {'formula_pretty': 'SiC', 'material_id': 'mp-568656', 'formation_energy_per_atom': -0.2037761992500009, 'is_stable': True}, {'formula_pretty': 'BN', 'material_id': 'mp-984', 'formation_energy_per_atom': -1.4613800295833332, 'is_stable': True}, {'formula_pretty': 'BN', 'material_id': 'mp-604884', 'formation_energy_per_atom': -1.4129789931250016, 'is_stable': True}, {'formula_pretty': 'BN', 'material_id': 'mp-604884', 'formation_energy_per_atom': -1.4129789931250016, 'is_stable': True}, {'formula_pretty': 'MgZn2', 'material_id': 'mp-1124', 'formation_energy_per_atom': -0.13063030499999861, 'is_stable': True}, {'formula_pretty': 'MgZn2', 'material_id': 'mp-978269', 'formation_energy_per_atom': -0.1330980316666667, 'is_stable': True}, {'formula_pretty': 'MgZn2', 'material_id': 'mp-1124', 'formation_energy_per_atom': -0.14805395333333493, 'is_stable': True}, {'formula_pretty': 'BaTiO3', 'material_id': 'mp-5777', 'formation_energy_per_atom': -3.372303325333334, 'is_stable': True}, {'formula_pretty': 'BaTiO3', 'material_id': 'mp-5020', 'formation_energy_per_atom': -3.4930003639166665, 'is_stable': True}, {'formula_pretty': 'BaTiO3', 'material_id': 'mp-5777', 'formation_energy_per_atom': -3.489696347166634, 'is_stable': True}, {'formula_pretty': 'CsPbI3', 'material_id': 'mp-540839', 'formation_energy_per_atom': -1.296129543586207, 'is_stable': True}, {'formula_pretty': 'CsPbI3', 'material_id': 'mp-540839', 'formation_energy_per_atom': -1.295464193931037, 'is_stable': True}, {'formula_pretty': 'CsPbI3', 'material_id': 'mp-540839', 'formation_energy_per_atom': -1.2898320764999993, 'is_stable': True}]\u001b[0mAction:\n",
      "```json\n",
      "{\n",
      "  \"action\": \"Final Answer\",\n",
      "  \"action_input\": {\n",
      "    \"response\": {\n",
      "      \"Ag2O3\": \"Data not found\",\n",
      "      \"MgZn2\": -0.13063030499999861,\n",
      "      \"GaAs\": -0.44627705625000047,\n",
      "      \"GaN\": -0.65681686875,\n",
      "      \"SiC\": -0.20388216661842162,\n",
      "      \"BN\": -1.4613800295833332,\n",
      "      \"InSe\": -0.7462709086718746,\n",
      "      \"MoS2\": -1.2015554987500003,\n",
      "      \"BaTiO3\": -3.372303325333334,\n",
      "      \"CsPbI3\": -1.296129543586207\n",
      "    }\n",
      "  }\n",
      "}\n",
      "```\u001b[32;1m\u001b[1;3mAction:\n",
      "```json\n",
      "{\n",
      "  \"action\": \"Final Answer\",\n",
      "  \"action_input\": {\n",
      "    \"response\": {\n",
      "      \"Ag2O3\": \"Data not found\",\n",
      "      \"MgZn2\": -0.13063030499999861,\n",
      "      \"GaAs\": -0.44627705625000047,\n",
      "      \"GaN\": -0.65681686875,\n",
      "      \"SiC\": -0.20388216661842162,\n",
      "      \"BN\": -1.4613800295833332,\n",
      "      \"InSe\": -0.7462709086718746,\n",
      "      \"MoS2\": -1.2015554987500003,\n",
      "      \"BaTiO3\": -3.372303325333334,\n",
      "      \"CsPbI3\": -1.296129543586207\n",
      "    }\n",
      "  }\n",
      "}\n",
      "```\u001b[0m\n",
      "\n",
      "\u001b[1m> Finished chain.\u001b[0m\n",
      "\u001b[38;5;200m\u001b[1;3m{'input': 'What are the formation energies of Ag2O3, MgZn2, GaAs, GaN, SiC, BN, InSe, MoS2, BaTiO3, CsPbI3 in their most stable bulk form?', 'output': {'response': {'Ag2O3': 'Data not found', 'MgZn2': -0.13063030499999861, 'GaAs': -0.44627705625000047, 'GaN': -0.65681686875, 'SiC': -0.20388216661842162, 'BN': -1.4613800295833332, 'InSe': -0.7462709086718746, 'MoS2': -1.2015554987500003, 'BaTiO3': -3.372303325333334, 'CsPbI3': -1.296129543586207}}}\u001b[0mDo I need to use a tool? No\n",
      "Final Answer: Here are the formation energies (in eV per formula unit) of the materials in their most stable bulk form:\n",
      "\n",
      "- Ag2O3: Data not found\n",
      "- MgZn2: -0.13063 eV\n",
      "- GaAs: -0.44628 eV\n",
      "- GaN: -0.65682 eV\n",
      "- SiC: -0.20388 eV\n",
      "- BN: -1.46138 eV\n",
      "- InSe: -0.74627 eV\n",
      "- MoS2: -1.20156 eV\n",
      "- BaTiO3: -3.37230 eV\n",
      "- CsPbI3: -1.29613 eV\n",
      "\n",
      "Please note that the formation energy for Ag2O3 was not found in the database.\u001b[32;1m\u001b[1;3mDo I need to use a tool? No\n",
      "Final Answer: Here are the formation energies (in eV per formula unit) of the materials in their most stable bulk form:\n",
      "\n",
      "- Ag2O3: Data not found\n",
      "- MgZn2: -0.13063 eV\n",
      "- GaAs: -0.44628 eV\n",
      "- GaN: -0.65682 eV\n",
      "- SiC: -0.20388 eV\n",
      "- BN: -1.46138 eV\n",
      "- InSe: -0.74627 eV\n",
      "- MoS2: -1.20156 eV\n",
      "- BaTiO3: -3.37230 eV\n",
      "- CsPbI3: -1.29613 eV\n",
      "\n",
      "Please note that the formation energy for Ag2O3 was not found in the database.\u001b[0m\n",
      "\n",
      "\u001b[1m> Finished chain.\u001b[0m\n"
     ]
    }
   ],
   "source": [
    "\n",
    "\n",
    "\n",
    "pattern = re.compile(r'\\b' + re.escape(\"Bye\") + r'\\b[.!?]*')\n",
    "\n",
    "query = \"\"\"\n",
    "Give me the formation energies of the following materials in their most stable bulk form: Ag2O3, MgZn2, GaAs, GaN, SiC, BN, InSe, MoS2, BaTiO3, CsPbI3. If there are multiple values, please give me the smallest value.\n",
    "\"\"\"\n",
    "\n",
    "# with ScratchDir(rootpath=os.getcwd()):\n",
    "# with tempfile.TemporaryDirectory(dir=os.getcwd()) as tmpdir:\n",
    "#     os.chdir(tmpdir)\n",
    "#     while True:\n",
    "query = query or input(\"Query:\")\n",
    "print(f\"Query: {query}\")\n",
    "response = agent_executor.invoke(\n",
    "    {\n",
    "        \"input\": query,\n",
    "    }\n",
    ")\n",
    "# if re.search(pattern, response[\"output\"]):\n",
    "#     break\n",
    "# query = None"
   ]
  },
  {
   "cell_type": "code",
   "execution_count": 4,
   "metadata": {},
   "outputs": [
    {
     "name": "stdout",
     "output_type": "stream",
     "text": [
      "Here are the formation energies (in eV per formula unit) of the materials in their most stable bulk form:\n",
      "\n",
      "- Ag2O3: Data not found\n",
      "- MgZn2: -0.13063 eV\n",
      "- GaAs: -0.44628 eV\n",
      "- GaN: -0.65682 eV\n",
      "- SiC: -0.20388 eV\n",
      "- BN: -1.46138 eV\n",
      "- InSe: -0.74627 eV\n",
      "- MoS2: -1.20156 eV\n",
      "- BaTiO3: -3.37230 eV\n",
      "- CsPbI3: -1.29613 eV\n",
      "\n",
      "Please note that the formation energy for Ag2O3 was not found in the database.\n"
     ]
    }
   ],
   "source": [
    "print(agent_executor.memory.chat_memory.messages[1].content)"
   ]
  },
  {
   "cell_type": "code",
   "execution_count": 5,
   "metadata": {},
   "outputs": [
    {
     "name": "stdout",
     "output_type": "stream",
     "text": [
      "gpt-3.5-turbo-1106\n",
      "The formation energies of the following materials in their most stable bulk form are as follows:\n",
      "\n",
      "Ag2O3: -2.074 eV/atom\n",
      "MgZn2: -0.669 eV/atom\n",
      "GaAs: -3.49 eV/atom\n",
      "GaN: -3.43 eV/atom\n",
      "SiC: -4.69 eV/atom\n",
      "BN: -6.43 eV/atom\n",
      "InSe: -0.291 eV/atom\n",
      "MoS2: -1.89 eV/atom\n",
      "BaTiO3: -3.13 eV/atom\n",
      "CsPbI3: -1.90 eV/atom\n"
     ]
    }
   ],
   "source": [
    "\n",
    "model = \"gpt-3.5-turbo-1106\"\n",
    "llm = ChatOpenAI(\n",
    "    temperature=0.7,\n",
    "    model=model,\n",
    "    openai_api_key=OPENAI_API_KEY,\n",
    "    openai_organization=OPENAI_ORGANIZATION,\n",
    "    # streaming=True\n",
    ")\n",
    "\n",
    "response = llm.invoke(agent_executor.memory.chat_memory.messages[0].content)\n",
    "\n",
    "print(model)\n",
    "print(response.content)"
   ]
  },
  {
   "cell_type": "code",
   "execution_count": 6,
   "metadata": {},
   "outputs": [
    {
     "name": "stdout",
     "output_type": "stream",
     "text": [
      "gpt-4\n",
      "The formation energy of a material is typically expressed in eV/atom or eV/formula unit. However, the value varies depending on the source, calculation method, and condition. Therefore, the exact values might not be universally agreed upon. Here are some approximate values:\n",
      "\n",
      "1. Ag2O3: The formation energy for Ag2O3 is not commonly reported and may not be well-defined due to its instability.\n",
      "\n",
      "2. MgZn2: -1.19 eV/atom\n",
      "\n",
      "3. GaAs: -1.06 eV/atom \n",
      "\n",
      "4. GaN: -1.77 eV/atom \n",
      "\n",
      "5. SiC: -4.27 eV/atom \n",
      "\n",
      "6. BN: -7.37 eV/atom\n",
      "\n",
      "7. InSe: -0.91 eV/atom \n",
      "\n",
      "8. MoS2: -2.01 eV/atom\n",
      "\n",
      "9. BaTiO3: -7.57 eV/formula unit\n",
      "\n",
      "10. CsPbI3: -3.43 eV/formula unit \n",
      "\n",
      "Please note that these values are approximate and the actual formation energies may differ slightly.\n"
     ]
    }
   ],
   "source": [
    "\n",
    "model = \"gpt-4\"\n",
    "llm = ChatOpenAI(\n",
    "    temperature=0.7,\n",
    "    model=model,\n",
    "    openai_api_key=OPENAI_API_KEY,\n",
    "    openai_organization=OPENAI_ORGANIZATION,\n",
    "    # streaming=True\n",
    ")\n",
    "\n",
    "response = llm.invoke(agent_executor.memory.chat_memory.messages[0].content)\n",
    "\n",
    "print(model)\n",
    "print(response.content)"
   ]
  },
  {
   "cell_type": "code",
   "execution_count": 7,
   "metadata": {
    "tags": []
   },
   "outputs": [
    {
     "name": "stdout",
     "output_type": "stream",
     "text": [
      "gemini-pro\n",
      "* Ag2O3: 0.48 eV/atom\n",
      "* MgZn2: -0.05 eV/atom\n",
      "* GaAs: -0.03 eV/atom\n",
      "* GaN: -0.02 eV/atom\n",
      "* SiC: -0.7 eV/atom\n",
      "* BN: -0.5 eV/atom\n",
      "* InSe: -0.02 eV/atom\n",
      "* MoS2: -0.01 eV/atom\n",
      "* BaTiO3: -0.02 eV/atom\n",
      "* CsPbI3: -0.04 eV/atom\n"
     ]
    }
   ],
   "source": [
    "\n",
    "model = \"gemini-pro\"\n",
    "llm = GoogleGenerativeAI(\n",
    "    temperature=0.7,\n",
    "    model=f\"models/{model}\",\n",
    "    google_api_key=GOOGLE_API_KEY,\n",
    ")\n",
    "\n",
    "\n",
    "response = llm.invoke(agent_executor.memory.chat_memory.messages[0].content)\n",
    "\n",
    "print(model)\n",
    "print(response)"
   ]
  },
  {
   "cell_type": "code",
   "execution_count": null,
   "metadata": {},
   "outputs": [],
   "source": [
    "model = \"llama3\"\n",
    "llm = ChatOllama(\n",
    "    model=model,\n",
    "    temperature=0.7,\n",
    "    # callbacks=[StreamingStdOutCallbackHandler()],\n",
    "    num_predict=-2,\n",
    ")\n",
    "\n",
    "response = llm.invoke(agent_executor.memory.chat_memory.messages[0].content)\n",
    "\n",
    "print(model)\n",
    "print(response.content)"
   ]
  }
 ],
 "metadata": {
  "kernelspec": {
   "display_name": "llamp",
   "language": "python",
   "name": "python3"
  },
  "language_info": {
   "codemirror_mode": {
    "name": "ipython",
    "version": 3
   },
   "file_extension": ".py",
   "mimetype": "text/x-python",
   "name": "python",
   "nbconvert_exporter": "python",
   "pygments_lexer": "ipython3",
   "version": "3.11.9"
  },
  "widgets": {
   "application/vnd.jupyter.widget-state+json": {
    "state": {
     "363bf8390048422ba5e29fcd8d3a2935": {
      "model_module": "@jupyter-widgets/base",
      "model_module_version": "2.0.0",
      "model_name": "LayoutModel",
      "state": {}
     },
     "3b3154af1973408d89a072b319784669": {
      "model_module": "@jupyter-widgets/base",
      "model_module_version": "2.0.0",
      "model_name": "LayoutModel",
      "state": {}
     },
     "4a12287fd40c405d874d2415b257ae98": {
      "model_module": "@jupyter-widgets/controls",
      "model_module_version": "2.0.0",
      "model_name": "HTMLModel",
      "state": {
       "layout": "IPY_MODEL_363bf8390048422ba5e29fcd8d3a2935",
       "style": "IPY_MODEL_8881bc652e3e4e2e976114b328cc7505",
       "value": " 27/27 [00:00&lt;00:00, 3222.26it/s]"
      }
     },
     "5dbe8492242040449278d6dda5c5e559": {
      "model_module": "@jupyter-widgets/controls",
      "model_module_version": "2.0.0",
      "model_name": "HBoxModel",
      "state": {
       "children": [
        "IPY_MODEL_61055cc5781e48ff91eba1c52c456e66",
        "IPY_MODEL_8e2a64e0d5ef4bc681c99e4e130ebc52",
        "IPY_MODEL_4a12287fd40c405d874d2415b257ae98"
       ],
       "layout": "IPY_MODEL_e0f9f5bc928241db98b527a840d7ee3a"
      }
     },
     "61055cc5781e48ff91eba1c52c456e66": {
      "model_module": "@jupyter-widgets/controls",
      "model_module_version": "2.0.0",
      "model_name": "HTMLModel",
      "state": {
       "layout": "IPY_MODEL_fdca4138172a426e8e3e2da1b77e7824",
       "style": "IPY_MODEL_c3865831a51a48ccadfb82f6003adf62",
       "value": "Retrieving ThermoDoc documents: 100%"
      }
     },
     "8881bc652e3e4e2e976114b328cc7505": {
      "model_module": "@jupyter-widgets/controls",
      "model_module_version": "2.0.0",
      "model_name": "HTMLStyleModel",
      "state": {
       "description_width": "",
       "font_size": null,
       "text_color": null
      }
     },
     "8e2a64e0d5ef4bc681c99e4e130ebc52": {
      "model_module": "@jupyter-widgets/controls",
      "model_module_version": "2.0.0",
      "model_name": "FloatProgressModel",
      "state": {
       "bar_style": "success",
       "layout": "IPY_MODEL_3b3154af1973408d89a072b319784669",
       "max": 27,
       "style": "IPY_MODEL_fa646996ddfe4243b925beb1c8f4d3f3",
       "value": 27
      }
     },
     "c3865831a51a48ccadfb82f6003adf62": {
      "model_module": "@jupyter-widgets/controls",
      "model_module_version": "2.0.0",
      "model_name": "HTMLStyleModel",
      "state": {
       "description_width": "",
       "font_size": null,
       "text_color": null
      }
     },
     "e0f9f5bc928241db98b527a840d7ee3a": {
      "model_module": "@jupyter-widgets/base",
      "model_module_version": "2.0.0",
      "model_name": "LayoutModel",
      "state": {}
     },
     "fa646996ddfe4243b925beb1c8f4d3f3": {
      "model_module": "@jupyter-widgets/controls",
      "model_module_version": "2.0.0",
      "model_name": "ProgressStyleModel",
      "state": {
       "description_width": ""
      }
     },
     "fdca4138172a426e8e3e2da1b77e7824": {
      "model_module": "@jupyter-widgets/base",
      "model_module_version": "2.0.0",
      "model_name": "LayoutModel",
      "state": {}
     }
    },
    "version_major": 2,
    "version_minor": 0
   }
  }
 },
 "nbformat": 4,
 "nbformat_minor": 4
}
