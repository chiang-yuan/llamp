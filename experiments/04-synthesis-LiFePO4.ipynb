{
 "cells": [
  {
   "cell_type": "code",
   "execution_count": 1,
   "metadata": {},
   "outputs": [],
   "source": [
    "import os\n",
    "\n",
    "from dotenv import load_dotenv\n",
    "from langchain import hub\n",
    "from langchain.agents import AgentExecutor, AgentType, initialize_agent, load_tools\n",
    "from langchain.agents.format_scratchpad import format_log_to_str\n",
    "from langchain.agents.output_parsers import (\n",
    "    JSONAgentOutputParser,\n",
    "    ReActSingleInputOutputParser,\n",
    ")\n",
    "from langchain.chains.conversation.memory import ConversationBufferWindowMemory\n",
    "from langchain.chat_models import ChatOpenAI\n",
    "from langchain.llms import OpenAI\n",
    "from langchain.tools import ArxivQueryRun, WikipediaQueryRun, tool\n",
    "from langchain.tools.render import render_text_description_and_args, format_tool_to_openai_function\n",
    "from langchain.utilities import ArxivAPIWrapper, WikipediaAPIWrapper\n",
    "from langchain.prompts import MessagesPlaceholder\n",
    "from langchain.schema import ChatMessage, SystemMessage\n",
    "\n",
    "from pymatgen.core.periodic_table import _pt_data\n",
    "\n",
    "from llamp.mp.agents import (\n",
    "    MPSummaryExpert,\n",
    "    MPThermoExpert,\n",
    "    MPElasticityExpert,\n",
    "    MPDielectricExpert,\n",
    "    MPPiezoelectricExpert,\n",
    "    MPMagnetismExpert,\n",
    "    MPElectronicExpert,\n",
    "    MPSynthesisExpert\n",
    ")\n",
    "from llamp.arxiv.agents import ArxivAgent\n",
    "\n",
    "load_dotenv()\n",
    "\n",
    "OPENAI_API_KEY = os.getenv(\"OPENAI_API_KEY\", None)\n",
    "\n",
    "# OPENAI_GPT_MODEL = \"gpt-4-1106-preview\"\n",
    "# OPENAI_GPT_MODEL = \"gpt-3.5-turbo-1106\"\n",
    "OPENAI_GPT_MODEL = \"gpt-4\""
   ]
  },
  {
   "cell_type": "code",
   "execution_count": 2,
   "metadata": {},
   "outputs": [
    {
     "name": "stderr",
     "output_type": "stream",
     "text": [
      "/home/cyrus/miniconda3/envs/llamp/lib/python3.11/site-packages/mp_api/client/mprester.py:230: UserWarning: mpcontribs-client not installed. Install the package to query MPContribs data, or construct pourbaix diagrams: 'pip install mpcontribs-client'\n",
      "  warnings.warn(\n"
     ]
    }
   ],
   "source": [
    "import re\n",
    "\n",
    "mp_llm = ChatOpenAI(\n",
    "    temperature=0.1,\n",
    "    model=\"gpt-4-1106-preview\",\n",
    "    openai_api_key=OPENAI_API_KEY,\n",
    "    openai_organization=None,\n",
    "    max_retries=5,\n",
    "    # streaming=True\n",
    ")\n",
    "\n",
    "llm = ChatOpenAI(\n",
    "    temperature=0.7,\n",
    "    model=\"gpt-4\",\n",
    "    openai_api_key=OPENAI_API_KEY,\n",
    "    openai_organization=None,\n",
    "    # streaming=True\n",
    ")\n",
    "\n",
    "wikipedia = WikipediaQueryRun(api_wrapper=WikipediaAPIWrapper())\n",
    "arxiv = ArxivQueryRun(api_wrapper=ArxivAPIWrapper())\n",
    "\n",
    "tools = [\n",
    "    MPThermoExpert(llm=mp_llm).as_tool(agent_kwargs=dict(return_intermediate_steps=False)),\n",
    "    MPElasticityExpert(llm=mp_llm).as_tool(agent_kwargs=dict(return_intermediate_steps=False)),\n",
    "    MPDielectricExpert(llm=mp_llm).as_tool(agent_kwargs=dict(return_intermediate_steps=False)),\n",
    "    MPMagnetismExpert(llm=mp_llm).as_tool(agent_kwargs=dict(return_intermediate_steps=False)),\n",
    "    MPElectronicExpert(llm=mp_llm).as_tool(agent_kwargs=dict(return_intermediate_steps=False)),\n",
    "    MPSummaryExpert(llm=mp_llm).as_tool(agent_kwargs=dict(return_intermediate_steps=False)),\n",
    "    MPSynthesisExpert(llm=mp_llm).as_tool(agent_kwargs=dict(return_intermediate_steps=False)),\n",
    "    # ArxivAgent(llm=mp_llm).as_tool(agent_kwargs=dict(return_intermediate_steps=False)),\n",
    "    # arxiv,\n",
    "    # wikipedia,\n",
    "]\n",
    "\n",
    "prompt = hub.pull(\"hwchase17/react-multi-input-json\")\n",
    "prompt.messages[0].prompt.template = re.sub(\n",
    "    r\"\\s+\", \" \",\n",
    "    \"\"\"You are a data-aware agent that can consult materials-related\n",
    "    data through Materials Project (MP) database, arXiv, and Wikipedia. Ask \n",
    "    user to clarify their queries if needed. Please note that you don't have \n",
    "    direct control over MP but through multiple assistant agents to help you. \n",
    "    You need to provide complete context in the input for them to do their job.\n",
    "    \"\"\").replace(\"\\n\", \" \") + prompt.messages[0].prompt.template\n",
    "\n",
    "prompt = prompt.partial(\n",
    "    tools=render_text_description_and_args(tools),\n",
    "    tool_names=\", \".join([t.name for t in tools]),\n",
    ")\n",
    "\n",
    "agent = (\n",
    "    {\n",
    "        \"input\": lambda x: x[\"input\"],\n",
    "        \"agent_scratchpad\": lambda x: format_log_to_str(x[\"intermediate_steps\"]),\n",
    "    }\n",
    "    | prompt\n",
    "    | llm.bind(stop=[\"Observation\"])\n",
    "    # | map_reduce_chain  # TODO: Add map-reduce after LLM\n",
    "    | JSONAgentOutputParser()\n",
    ")\n",
    "\n",
    "\n",
    "conversational_memory = ConversationBufferWindowMemory(\n",
    "    memory_key='chat_history',\n",
    "    k=5,\n",
    "    return_messages=True\n",
    ")\n",
    "\n",
    "agent_kwargs = {\n",
    "    \"handle_parsing_errors\": True,\n",
    "    \"extra_prompt_messages\": [\n",
    "        MessagesPlaceholder(variable_name=\"chat_history\"),\n",
    "        # SystemMessage(content=re.sub(\n",
    "        #     r\"\\s+\", \" \",\n",
    "        #     \"\"\"You are a helpful data-aware agent that can consult materials-related\n",
    "        #     data through Materials Project (MP) database, arXiv, and Wikipedia. Ask \n",
    "        #     user to clarify their queries if needed. Please note that you don't have \n",
    "        #     direct control to MP but through multiple assistant agents to help you. \n",
    "        #     You need to provide complete context for them to do their job. \n",
    "        #     \"\"\").replace(\"\\n\", \" \")\n",
    "        # )\n",
    "        ],\n",
    "    # \"early_stopping_method\": 'generate',\n",
    "    # \"extra_prompt_messages\": \n",
    "    # )\n",
    "}\n",
    "\n",
    "agent_executor = initialize_agent(\n",
    "    agent=AgentType.STRUCTURED_CHAT_ZERO_SHOT_REACT_DESCRIPTION,\n",
    "    tools=tools,\n",
    "    llm=llm,\n",
    "    verbose=True,\n",
    "    max_iterations=20,\n",
    "    memory=conversational_memory,\n",
    "    agent_kwargs=agent_kwargs,\n",
    "    handle_parsing_errors=True,\n",
    ")\n",
    "\n",
    "# agent_executor = initialize_agent(\n",
    "#     tools=tools,\n",
    "#     llm=llm,\n",
    "#     agent=AgentType.ZERO_SHOT_REACT_DESCRIPTION,\n",
    "#     verbose=True,\n",
    "#     max_iterations=5,\n",
    "# )"
   ]
  },
  {
   "cell_type": "code",
   "execution_count": 3,
   "metadata": {},
   "outputs": [
    {
     "name": "stdout",
     "output_type": "stream",
     "text": [
      "\n",
      "\n",
      "\u001b[1m> Entering new AgentExecutor chain...\u001b[0m\n"
     ]
    },
    {
     "name": "stdout",
     "output_type": "stream",
     "text": [
      "\u001b[32;1m\u001b[1;3mThe assistant should use the MPSynthesisExpert tool to find the detailed step-by-step procedure and the reference for synthesizing LiFePO4.\n",
      "Action:\n",
      "```\n",
      "{\n",
      "  \"action\": \"MPSynthesisExpert\",\n",
      "  \"action_input\": \"How to synthesis LiFePO4?\"\n",
      "}\n",
      "```\u001b[0m\n",
      "\n",
      "\u001b[1m> Entering new AgentExecutor chain...\u001b[0m\n"
     ]
    },
    {
     "name": "stderr",
     "output_type": "stream",
     "text": [
      "/home/cyrus/miniconda3/envs/llamp/lib/python3.11/site-packages/mp_api/client/mprester.py:230: UserWarning: mpcontribs-client not installed. Install the package to query MPContribs data, or construct pourbaix diagrams: 'pip install mpcontribs-client'\n",
      "  warnings.warn(\n",
      "/home/cyrus/miniconda3/envs/llamp/lib/python3.11/site-packages/mp_api/client/mprester.py:230: UserWarning: mpcontribs-client not installed. Install the package to query MPContribs data, or construct pourbaix diagrams: 'pip install mpcontribs-client'\n",
      "  warnings.warn(\n"
     ]
    },
    {
     "name": "stdout",
     "output_type": "stream",
     "text": [
      "\u001b[32;1m\u001b[1;3mAction:\n",
      "```\n",
      "{\n",
      "  \"action\": \"search_materials_synthesis__get\",\n",
      "  \"action_input\": {\n",
      "    \"target_formula\": \"LiFePO4\"\n",
      "  }\n",
      "}\n",
      "```\u001b[0m{\"target_formula\": \"LiFePO4\"}\n"
     ]
    },
    {
     "data": {
      "application/vnd.jupyter.widget-view+json": {
       "model_id": "47ede9b173d44a8fa4fcdc82bc768271",
       "version_major": 2,
       "version_minor": 0
      },
      "text/plain": [
       "Retrieving SynthesisSearchResultModel documents:   0%|          | 0/285 [00:00<?, ?it/s]"
      ]
     },
     "metadata": {},
     "output_type": "display_data"
    },
    {
     "name": "stdout",
     "output_type": "stream",
     "text": [
      "return first 5 synthesis results for now\n",
      "\u001b[36;1m\u001b[1;3m[{'doi': '10.1021/jp407510h', 'paragraph_string': '6Li3Fe3(PO4)3 was prepared by the previously reported high-temperature solid-state synthesis as ...', 'synthesis_type': 'solid-state', 'reaction_string': '9 Fe2O3 + 18 LiOH + 18 NH4H2PO4 == 1 Li3Fe3(PO4)3 + 36 H2O + 18 NH3 + 4.5 O2', 'reaction': {'left_side': [{'amount': '18', 'material': 'NH4H2PO4'}, {'amount': '18', 'material': 'LiOH'}, {'amount': '9', 'material': 'Fe2O3'}], 'right_side': [{'amount': '1', 'material': 'Li3Fe3(PO4)3'}, {'amount': '36', 'material': 'H2O'}, {'amount': '18', 'material': 'NH3'}, {'amount': '4.5', 'material': 'O2'}]}, 'targets_formula': ['Li18 Fe18 P18 O72'], 'target': {'material_string': '6Li3Fe3(PO4)3', 'material_name': '', 'material_formula': 'Li3Fe3(PO4)3', 'phase': None, 'is_acronym': False, 'composition': [{'formula': 'Li3Fe3(PO4)3', 'amount': '6', 'elements': {'P': '3', 'O': '12', 'Li': '3', 'Fe': '3'}}], 'amounts_vars': {}, 'elements_vars': {}, 'additives': [], 'oxygen_deficiency': 'None'}, 'targets_formula_s': ['LiFePO4'], 'precursors_formula_s': ['PH6NO4', 'LiHO', 'Fe2O3'], 'precursors': [{'material_string': 'NH4H2PO4', 'material_name': '', 'material_formula': 'NH4H2PO4', 'phase': None, 'is_acronym': False, 'composition': [{'formula': 'NH4H2PO4', 'amount': '1', 'elements': {'N': '1', 'H': '6', 'P': '1', 'O': '4'}}], 'amounts_vars': {}, 'elements_vars': {}, 'additives': [], 'oxygen_deficiency': 'None'}, {'material_string': 'LiOH monohydrate', 'material_name': 'monohydrate', 'material_formula': 'LiOH', 'phase': None, 'is_acronym': False, 'composition': [{'formula': 'LiOH', 'amount': '1', 'elements': {'Li': '1', 'O': '1', 'H': '1'}}], 'amounts_vars': {}, 'elements_vars': {}, 'additives': [], 'oxygen_deficiency': 'None'}, {'material_string': 'Fe2O3', 'material_name': '', 'material_formula': 'Fe2O3', 'phase': None, 'is_acronym': False, 'composition': [{'formula': 'Fe2O3', 'amount': '1', 'elements': {'Fe': '2', 'O': '3'}}], 'amounts_vars': {}, 'elements_vars': {}, 'additives': [], 'oxygen_deficiency': 'None'}], 'operations': [{'type': 'StartingSynthesis', 'token': 'prepared', 'conditions': {'heating_temperature': [], 'heating_time': [], 'heating_atmosphere': [], 'mixing_device': None, 'mixing_media': None}}, {'type': 'MixingOperation', 'token': 'ground', 'conditions': {'heating_temperature': [], 'heating_time': [], 'heating_atmosphere': [], 'mixing_device': None, 'mixing_media': None}}, {'type': 'HeatingOperation', 'token': 'heated', 'conditions': {'heating_temperature': [{'min_value': 250.0, 'max_value': 250.0, 'values': [250.0], 'units': '°C'}], 'heating_time': [{'min_value': 4.0, 'max_value': 4.0, 'values': [4.0], 'units': 'h'}], 'heating_atmosphere': [], 'mixing_device': None, 'mixing_media': None}}, {'type': 'MixingOperation', 'token': 'reground', 'conditions': {'heating_temperature': [], 'heating_time': [], 'heating_atmosphere': [], 'mixing_device': None, 'mixing_media': None}}, {'type': 'HeatingOperation', 'token': 'heated', 'conditions': {'heating_temperature': [{'min_value': 850.0, 'max_value': 850.0, 'values': [850.0], 'units': '°C'}], 'heating_time': [{'min_value': 2.0, 'max_value': 2.0, 'values': [2.0], 'units': 'day'}], 'heating_atmosphere': [], 'mixing_device': None, 'mixing_media': None}}], 'total_doc': 285}, {'doi': '10.1021/cm402617b', 'paragraph_string': 'The ion-exchange method was used to prepare olivine phase of NaFePO4 (hereafter will be denoted ...', 'synthesis_type': 'solid-state', 'reaction_string': '1 (NH4)2HPO4 + 1 FeC2O4·2H2O + 0.5 Li2CO3 + 0.5 O2 == 1 LiFePO4 + 2.5 CO2 + 3.5 H2O + 2 NH3', 'reaction': {'left_side': [{'amount': '1', 'material': 'FeC2O4·2H2O'}, {'amount': '0.5', 'material': 'Li2CO3'}, {'amount': '1', 'material': '(NH4)2HPO4'}, {'amount': '0.5', 'material': 'O2'}], 'right_side': [{'amount': '1', 'material': 'LiFePO4'}, {'amount': '2.5', 'material': 'CO2'}, {'amount': '3.5', 'material': 'H2O'}, {'amount': '2', 'material': 'NH3'}]}, 'targets_formula': ['Li1 Fe1 P1 O4'], 'target': {'material_string': 'LiFePO4', 'material_name': '', 'material_formula': 'LiFePO4', 'phase': None, 'is_acronym': False, 'composition': [{'formula': 'LiFePO4', 'amount': '1', 'elements': {'Li': '1', 'Fe': '1', 'P': '1', 'O': '4'}}], 'amounts_vars': {}, 'elements_vars': {}, 'additives': [], 'oxygen_deficiency': 'None'}, 'targets_formula_s': ['LiFePO4'], 'precursors_formula_s': ['Fe(CO2)2', 'Li2CO3', 'PH9(NO2)2'], 'precursors': [{'material_string': 'FeC2O4·2H2O', 'material_name': '', 'material_formula': 'FeC2O4·2H2O', 'phase': None, 'is_acronym': False, 'composition': [{'formula': 'FeC2O4', 'amount': '1', 'elements': {'Fe': '1', 'C': '2', 'O': '4'}}, {'formula': 'H2O', 'amount': '2', 'elements': {'H': '2', 'O': '1'}}], 'amounts_vars': {}, 'elements_vars': {}, 'additives': [], 'oxygen_deficiency': 'None'}, {'material_string': 'Li2CO3', 'material_name': '', 'material_formula': 'Li2CO3', 'phase': None, 'is_acronym': False, 'composition': [{'formula': 'Li2CO3', 'amount': '1', 'elements': {'Li': '2', 'C': '1', 'O': '3'}}], 'amounts_vars': {}, 'elements_vars': {}, 'additives': [], 'oxygen_deficiency': 'None'}, {'material_string': '(NH4)2HPO4', 'material_name': '', 'material_formula': '(NH4)2HPO4', 'phase': None, 'is_acronym': False, 'composition': [{'formula': '(NH4)2HPO4', 'amount': '1', 'elements': {'N': '2', 'H': '9', 'P': '1', 'O': '4'}}], 'amounts_vars': {}, 'elements_vars': {}, 'additives': [], 'oxygen_deficiency': 'None'}], 'operations': [{'type': 'StartingSynthesis', 'token': 'synthesized', 'conditions': {'heating_temperature': [], 'heating_time': [], 'heating_atmosphere': [], 'mixing_device': None, 'mixing_media': None}}], 'total_doc': 285}, {'doi': '10.1021/jp306936t', 'paragraph_string': 'V-modified LiFePO4 prepared by the solution method (LFP-SM) used the following precursors: LiOH·...', 'synthesis_type': 'solid-state', 'reaction_string': '1 FeC2O4·2H2O + 0.5 Li2CO3 + 1 NH4H2PO4 + 0.5 O2 == 1 LiFePO4 + 2.5 CO2 + 3.5 H2O + 1 NH3 ; target LiFePO4 with additives V via NH4VO3 ; target LiFePO4 with additives V via NH4VO3', 'reaction': {'left_side': [{'amount': '0.5', 'material': 'Li2CO3'}, {'amount': '1', 'material': 'FeC2O4·2H2O'}, {'amount': '1', 'material': 'NH4H2PO4'}, {'amount': '0.5', 'material': 'O2'}], 'right_side': [{'amount': '1', 'material': 'LiFePO4'}, {'amount': '2.5', 'material': 'CO2'}, {'amount': '3.5', 'material': 'H2O'}, {'amount': '1', 'material': 'NH3'}]}, 'targets_formula': ['Li1 Fe1 P1 O4'], 'target': {'material_string': 'LiFePO4', 'material_name': '', 'material_formula': 'LiFePO4', 'phase': None, 'is_acronym': False, 'composition': [{'formula': 'LiFePO4', 'amount': '1', 'elements': {'Li': '1', 'Fe': '1', 'P': '1', 'O': '4'}}], 'amounts_vars': {}, 'elements_vars': {}, 'additives': ['V'], 'oxygen_deficiency': 'None'}, 'targets_formula_s': ['LiFePO4'], 'precursors_formula_s': ['Li2CO3', 'Fe(CO2)2', 'VH4NO3', 'PH6NO4'], 'precursors': [{'material_string': 'Li2CO3', 'material_name': '', 'material_formula': 'Li2CO3', 'phase': None, 'is_acronym': False, 'composition': [{'formula': 'Li2CO3', 'amount': '1', 'elements': {'Li': '2', 'C': '1', 'O': '3'}}], 'amounts_vars': {}, 'elements_vars': {}, 'additives': [], 'oxygen_deficiency': 'None'}, {'material_string': 'FeC2O4·2H2O', 'material_name': '', 'material_formula': 'FeC2O4·2H2O', 'phase': None, 'is_acronym': False, 'composition': [{'formula': 'FeC2O4', 'amount': '1', 'elements': {'Fe': '1', 'C': '2', 'O': '4'}}, {'formula': 'H2O', 'amount': '2', 'elements': {'H': '2', 'O': '1'}}], 'amounts_vars': {}, 'elements_vars': {}, 'additives': [], 'oxygen_deficiency': 'None'}, {'material_string': 'NH4VO3', 'material_name': '', 'material_formula': 'NH4VO3', 'phase': None, 'is_acronym': False, 'composition': [{'formula': 'NH4VO3', 'amount': '1', 'elements': {'N': '1', 'H': '4', 'V': '1', 'O': '3'}}], 'amounts_vars': {}, 'elements_vars': {}, 'additives': [], 'oxygen_deficiency': 'None'}, {'material_string': 'NH4H2PO4', 'material_name': '', 'material_formula': 'NH4H2PO4', 'phase': None, 'is_acronym': False, 'composition': [{'formula': 'NH4H2PO4', 'amount': '1', 'elements': {'N': '1', 'H': '6', 'P': '1', 'O': '4'}}], 'amounts_vars': {}, 'elements_vars': {}, 'additives': [], 'oxygen_deficiency': 'None'}], 'operations': [{'type': 'StartingSynthesis', 'token': 'prepared', 'conditions': {'heating_temperature': [], 'heating_time': [], 'heating_atmosphere': [], 'mixing_device': None, 'mixing_media': None}}, {'type': 'StartingSynthesis', 'token': 'prepared', 'conditions': {'heating_temperature': [], 'heating_time': [], 'heating_atmosphere': [], 'mixing_device': None, 'mixing_media': None}}], 'total_doc': 285}, {'doi': '10.1021/cm303259j', 'paragraph_string': 'Pristine LiFePO4 was synthesized by solid-state reactions of lithium carbonate (Li2CO3), iron(II) ...', 'synthesis_type': 'solid-state', 'reaction_string': '1 FeC2O4·2H2O + 0.5 Li2CO3 + 1 NH4H2PO4 + 0.5 O2 == 1 LiFePO4 + 2.5 CO2 + 3.5 H2O + 1 NH3', 'reaction': {'left_side': [{'amount': '0.5', 'material': 'Li2CO3'}, {'amount': '1', 'material': 'FeC2O4·2H2O'}, {'amount': '1', 'material': 'NH4H2PO4'}, {'amount': '0.5', 'material': 'O2'}], 'right_side': [{'amount': '1', 'material': 'LiFePO4'}, {'amount': '2.5', 'material': 'CO2'}, {'amount': '3.5', 'material': 'H2O'}, {'amount': '1', 'material': 'NH3'}]}, 'targets_formula': ['Li1 Fe1 P1 O4'], 'target': {'material_string': 'LiFePO4', 'material_name': '', 'material_formula': 'LiFePO4', 'phase': None, 'is_acronym': False, 'composition': [{'formula': 'LiFePO4', 'amount': '1', 'elements': {'Li': '1', 'Fe': '1', 'P': '1', 'O': '4'}}], 'amounts_vars': {}, 'elements_vars': {}, 'additives': [], 'oxygen_deficiency': 'None'}, 'targets_formula_s': ['LiFePO4'], 'precursors_formula_s': ['Li2CO3', 'Fe(CO2)2', 'PH6NO4'], 'precursors': [{'material_string': 'Li2CO3', 'material_name': '', 'material_formula': 'Li2CO3', 'phase': None, 'is_acronym': False, 'composition': [{'formula': 'Li2CO3', 'amount': '1', 'elements': {'Li': '2', 'C': '1', 'O': '3'}}], 'amounts_vars': {}, 'elements_vars': {}, 'additives': [], 'oxygen_deficiency': 'None'}, {'material_string': 'FeC2O4·2H2O', 'material_name': '', 'material_formula': 'FeC2O4·2H2O', 'phase': None, 'is_acronym': False, 'composition': [{'formula': 'FeC2O4', 'amount': '1', 'elements': {'Fe': '1', 'C': '2', 'O': '4'}}, {'formula': 'H2O', 'amount': '2', 'elements': {'H': '2', 'O': '1'}}], 'amounts_vars': {}, 'elements_vars': {}, 'additives': [], 'oxygen_deficiency': 'None'}, {'material_string': 'NH4H2PO4', 'material_name': '', 'material_formula': 'NH4H2PO4', 'phase': None, 'is_acronym': False, 'composition': [{'formula': 'NH4H2PO4', 'amount': '1', 'elements': {'N': '1', 'H': '6', 'P': '1', 'O': '4'}}], 'amounts_vars': {}, 'elements_vars': {}, 'additives': [], 'oxygen_deficiency': 'None'}], 'operations': [{'type': 'StartingSynthesis', 'token': 'synthesized', 'conditions': {'heating_temperature': [], 'heating_time': [], 'heating_atmosphere': [], 'mixing_device': None, 'mixing_media': None}}], 'total_doc': 285}, {'doi': '10.1007/s10853-011-6139-7', 'paragraph_string': 'The FePO4 was synthesized by a sol-gel combustion method. Stoichiometric amounts of Fe(NO3)3 and ...', 'synthesis_type': 'solid-state', 'reaction_string': '1 FePO4 + 0.5 Li2CO3 == 1 LiFePO4 + 0.5 CO2 + 0.25 O2', 'reaction': {'left_side': [{'amount': '0.5', 'material': 'Li2CO3'}, {'amount': '1', 'material': 'FePO4'}], 'right_side': [{'amount': '1', 'material': 'LiFePO4'}, {'amount': '0.5', 'material': 'CO2'}, {'amount': '0.25', 'material': 'O2'}]}, 'targets_formula': ['Li1 Fe1 P1 O4'], 'target': {'material_string': 'LiFePO4/C', 'material_name': '', 'material_formula': 'LiFePO4', 'phase': None, 'is_acronym': False, 'composition': [{'formula': 'LiFePO4', 'amount': '1', 'elements': {'Li': '1', 'Fe': '1', 'P': '1', 'O': '4'}}], 'amounts_vars': {}, 'elements_vars': {}, 'additives': [], 'oxygen_deficiency': 'None'}, 'targets_formula_s': ['LiFePO4'], 'precursors_formula_s': ['Li2CO3', 'FePO4', 'H4N2O3'], 'precursors': [{'material_string': 'Li2CO3', 'material_name': '', 'material_formula': 'Li2CO3', 'phase': None, 'is_acronym': False, 'composition': [{'formula': 'Li2CO3', 'amount': '1', 'elements': {'Li': '2', 'C': '1', 'O': '3'}}], 'amounts_vars': {}, 'elements_vars': {}, 'additives': [], 'oxygen_deficiency': 'None'}, {'material_string': 'FePO4', 'material_name': '', 'material_formula': 'FePO4', 'phase': None, 'is_acronym': False, 'composition': [{'formula': 'FePO4', 'amount': '1', 'elements': {'Fe': '1', 'P': '1', 'O': '4'}}], 'amounts_vars': {}, 'elements_vars': {}, 'additives': [], 'oxygen_deficiency': 'None'}, {'material_string': 'NH4NO3', 'material_name': '', 'material_formula': 'NH4NO3', 'phase': None, 'is_acronym': False, 'composition': [{'formula': 'NH4NO3', 'amount': '1', 'elements': {'N': '2', 'H': '4', 'O': '3'}}], 'amounts_vars': {}, 'elements_vars': {}, 'additives': [], 'oxygen_deficiency': 'None'}], 'operations': [{'type': 'StartingSynthesis', 'token': 'synthesized', 'conditions': {'heating_temperature': [], 'heating_time': [], 'heating_atmosphere': [], 'mixing_device': None, 'mixing_media': None}}, {'type': 'MixingOperation', 'token': 'dissolved', 'conditions': {'heating_temperature': [], 'heating_time': [], 'heating_atmosphere': [], 'mixing_device': None, 'mixing_media': 'citric acid'}}, {'type': 'MixingOperation', 'token': 'stirring', 'conditions': {'heating_temperature': [], 'heating_time': [], 'heating_atmosphere': [], 'mixing_device': None, 'mixing_media': None}}, {'type': 'MixingOperation', 'token': 'added', 'conditions': {'heating_temperature': [], 'heating_time': [], 'heating_atmosphere': [], 'mixing_device': None, 'mixing_media': None}}, {'type': 'MixingOperation', 'token': 'stirred', 'conditions': {'heating_temperature': [], 'heating_time': [], 'heating_atmosphere': [], 'mixing_device': None, 'mixing_media': None}}, {'type': 'DryingOperation', 'token': 'evaporated', 'conditions': {'heating_temperature': [{'min_value': 120.0, 'max_value': 120.0, 'values': [120.0], 'units': '°C'}], 'heating_time': [], 'heating_atmosphere': [], 'mixing_device': None, 'mixing_media': None}}, {'type': 'StartingSynthesis', 'token': 'synthesized', 'conditions': {'heating_temperature': [], 'heating_time': [], 'heating_atmosphere': [], 'mixing_device': None, 'mixing_media': None}}, {'type': 'MixingOperation', 'token': 'mixed', 'conditions': {'heating_temperature': [], 'heating_time': [], 'heating_atmosphere': [], 'mixing_device': None, 'mixing_media': 'acetone'}}, {'type': 'HeatingOperation', 'token': 'calcined', 'conditions': {'heating_temperature': [{'min_value': 700.0, 'max_value': 700.0, 'values': [700.0], 'units': '°C'}], 'heating_time': [{'min_value': 8.0, 'max_value': 8.0, 'values': [8.0], 'units': 'h'}], 'heating_atmosphere': ['N2'], 'mixing_device': None, 'mixing_media': None}}], 'total_doc': 285}]\u001b[0m\u001b[32;1m\u001b[1;3mAction:\n",
      "```\n",
      "{\n",
      "  \"action\": \"Final Answer\",\n",
      "  \"action_input\": \"LiFePO4 can be synthesized using various methods. One method involves a high-temperature solid-state synthesis using precursors such as Fe2O3, LiOH, and NH4H2PO4. The precursors are mixed and heated at temperatures up to 850°C for several days. Another method uses a sol-gel combustion approach with precursors like FePO4 and Li2CO3, where the mixture is calcined at 700°C in a nitrogen atmosphere. For detailed procedures, please refer to the scientific literature provided in the synthesis descriptions.\"\n",
      "}\n",
      "```\u001b[0m\n",
      "\n",
      "\u001b[1m> Finished chain.\u001b[0m\n",
      "\n",
      "Observation: \u001b[36;1m\u001b[1;3m{'input': 'How to synthesis LiFePO4?', 'output': 'LiFePO4 can be synthesized using various methods. One method involves a high-temperature solid-state synthesis using precursors such as Fe2O3, LiOH, and NH4H2PO4. The precursors are mixed and heated at temperatures up to 850°C for several days. Another method uses a sol-gel combustion approach with precursors like FePO4 and Li2CO3, where the mixture is calcined at 700°C in a nitrogen atmosphere. For detailed procedures, please refer to the scientific literature provided in the synthesis descriptions.'}\u001b[0m\n",
      "Thought:\u001b[32;1m\u001b[1;3mThe MPSynthesisExpert has provided two methods for synthesizing LiFePO4. The first method involves a high-temperature solid-state synthesis using precursors such as Fe2O3, LiOH, and NH4H2PO4, with heating at temperatures up to 850°C for several days. The second method is a sol-gel combustion approach using precursors like FePO4 and Li2CO3, where the mixture is calcined at 700°C in a nitrogen atmosphere. However, the assistant did not provide specific literature references. The assistant should be asked to provide these references.\n",
      "Action:\n",
      "```\n",
      "{\n",
      "  \"action\": \"MPSynthesisExpert\",\n",
      "  \"action_input\": \"What are the references for the synthesis methods of LiFePO4?\"\n",
      "}\n",
      "```\u001b[0m\n",
      "\n",
      "\u001b[1m> Entering new AgentExecutor chain...\u001b[0m\n"
     ]
    },
    {
     "name": "stderr",
     "output_type": "stream",
     "text": [
      "/home/cyrus/miniconda3/envs/llamp/lib/python3.11/site-packages/mp_api/client/mprester.py:230: UserWarning: mpcontribs-client not installed. Install the package to query MPContribs data, or construct pourbaix diagrams: 'pip install mpcontribs-client'\n",
      "  warnings.warn(\n",
      "/home/cyrus/miniconda3/envs/llamp/lib/python3.11/site-packages/mp_api/client/mprester.py:230: UserWarning: mpcontribs-client not installed. Install the package to query MPContribs data, or construct pourbaix diagrams: 'pip install mpcontribs-client'\n",
      "  warnings.warn(\n"
     ]
    },
    {
     "name": "stdout",
     "output_type": "stream",
     "text": [
      "\u001b[32;1m\u001b[1;3mAction:\n",
      "```\n",
      "{\n",
      "  \"action\": \"search_materials_synthesis__get\",\n",
      "  \"action_input\": {\n",
      "    \"target_formula\": \"LiFePO4\",\n",
      "    \"limit\": 5,\n",
      "    \"fields\": \"references\"\n",
      "  }\n",
      "}\n",
      "```\u001b[0m{\"target_formula\": \"LiFePO4\", \"limit\": 5, \"fields\": \"references\"}\n"
     ]
    },
    {
     "data": {
      "application/vnd.jupyter.widget-view+json": {
       "model_id": "e98d83565f7644f789db8f6840c05f8b",
       "version_major": 2,
       "version_minor": 0
      },
      "text/plain": [
       "Retrieving SynthesisSearchResultModel documents:   0%|          | 0/285 [00:00<?, ?it/s]"
      ]
     },
     "metadata": {},
     "output_type": "display_data"
    },
    {
     "name": "stdout",
     "output_type": "stream",
     "text": [
      "return first 5 synthesis results for now\n",
      "\u001b[36;1m\u001b[1;3m[{'doi': '10.1021/jp407510h', 'paragraph_string': '6Li3Fe3(PO4)3 was prepared by the previously reported high-temperature solid-state synthesis as ...', 'synthesis_type': 'solid-state', 'reaction_string': '9 Fe2O3 + 18 LiOH + 18 NH4H2PO4 == 1 Li3Fe3(PO4)3 + 36 H2O + 18 NH3 + 4.5 O2', 'reaction': {'left_side': [{'amount': '18', 'material': 'NH4H2PO4'}, {'amount': '18', 'material': 'LiOH'}, {'amount': '9', 'material': 'Fe2O3'}], 'right_side': [{'amount': '1', 'material': 'Li3Fe3(PO4)3'}, {'amount': '36', 'material': 'H2O'}, {'amount': '18', 'material': 'NH3'}, {'amount': '4.5', 'material': 'O2'}]}, 'targets_formula': ['Li18 Fe18 P18 O72'], 'target': {'material_string': '6Li3Fe3(PO4)3', 'material_name': '', 'material_formula': 'Li3Fe3(PO4)3', 'phase': None, 'is_acronym': False, 'composition': [{'formula': 'Li3Fe3(PO4)3', 'amount': '6', 'elements': {'P': '3', 'O': '12', 'Li': '3', 'Fe': '3'}}], 'amounts_vars': {}, 'elements_vars': {}, 'additives': [], 'oxygen_deficiency': 'None'}, 'targets_formula_s': ['LiFePO4'], 'precursors_formula_s': ['PH6NO4', 'LiHO', 'Fe2O3'], 'precursors': [{'material_string': 'NH4H2PO4', 'material_name': '', 'material_formula': 'NH4H2PO4', 'phase': None, 'is_acronym': False, 'composition': [{'formula': 'NH4H2PO4', 'amount': '1', 'elements': {'N': '1', 'H': '6', 'P': '1', 'O': '4'}}], 'amounts_vars': {}, 'elements_vars': {}, 'additives': [], 'oxygen_deficiency': 'None'}, {'material_string': 'LiOH monohydrate', 'material_name': 'monohydrate', 'material_formula': 'LiOH', 'phase': None, 'is_acronym': False, 'composition': [{'formula': 'LiOH', 'amount': '1', 'elements': {'Li': '1', 'O': '1', 'H': '1'}}], 'amounts_vars': {}, 'elements_vars': {}, 'additives': [], 'oxygen_deficiency': 'None'}, {'material_string': 'Fe2O3', 'material_name': '', 'material_formula': 'Fe2O3', 'phase': None, 'is_acronym': False, 'composition': [{'formula': 'Fe2O3', 'amount': '1', 'elements': {'Fe': '2', 'O': '3'}}], 'amounts_vars': {}, 'elements_vars': {}, 'additives': [], 'oxygen_deficiency': 'None'}], 'operations': [{'type': 'StartingSynthesis', 'token': 'prepared', 'conditions': {'heating_temperature': [], 'heating_time': [], 'heating_atmosphere': [], 'mixing_device': None, 'mixing_media': None}}, {'type': 'MixingOperation', 'token': 'ground', 'conditions': {'heating_temperature': [], 'heating_time': [], 'heating_atmosphere': [], 'mixing_device': None, 'mixing_media': None}}, {'type': 'HeatingOperation', 'token': 'heated', 'conditions': {'heating_temperature': [{'min_value': 250.0, 'max_value': 250.0, 'values': [250.0], 'units': '°C'}], 'heating_time': [{'min_value': 4.0, 'max_value': 4.0, 'values': [4.0], 'units': 'h'}], 'heating_atmosphere': [], 'mixing_device': None, 'mixing_media': None}}, {'type': 'MixingOperation', 'token': 'reground', 'conditions': {'heating_temperature': [], 'heating_time': [], 'heating_atmosphere': [], 'mixing_device': None, 'mixing_media': None}}, {'type': 'HeatingOperation', 'token': 'heated', 'conditions': {'heating_temperature': [{'min_value': 850.0, 'max_value': 850.0, 'values': [850.0], 'units': '°C'}], 'heating_time': [{'min_value': 2.0, 'max_value': 2.0, 'values': [2.0], 'units': 'day'}], 'heating_atmosphere': [], 'mixing_device': None, 'mixing_media': None}}], 'total_doc': 285}, {'doi': '10.1021/cm402617b', 'paragraph_string': 'The ion-exchange method was used to prepare olivine phase of NaFePO4 (hereafter will be denoted ...', 'synthesis_type': 'solid-state', 'reaction_string': '1 (NH4)2HPO4 + 1 FeC2O4·2H2O + 0.5 Li2CO3 + 0.5 O2 == 1 LiFePO4 + 2.5 CO2 + 3.5 H2O + 2 NH3', 'reaction': {'left_side': [{'amount': '1', 'material': 'FeC2O4·2H2O'}, {'amount': '0.5', 'material': 'Li2CO3'}, {'amount': '1', 'material': '(NH4)2HPO4'}, {'amount': '0.5', 'material': 'O2'}], 'right_side': [{'amount': '1', 'material': 'LiFePO4'}, {'amount': '2.5', 'material': 'CO2'}, {'amount': '3.5', 'material': 'H2O'}, {'amount': '2', 'material': 'NH3'}]}, 'targets_formula': ['Li1 Fe1 P1 O4'], 'target': {'material_string': 'LiFePO4', 'material_name': '', 'material_formula': 'LiFePO4', 'phase': None, 'is_acronym': False, 'composition': [{'formula': 'LiFePO4', 'amount': '1', 'elements': {'Li': '1', 'Fe': '1', 'P': '1', 'O': '4'}}], 'amounts_vars': {}, 'elements_vars': {}, 'additives': [], 'oxygen_deficiency': 'None'}, 'targets_formula_s': ['LiFePO4'], 'precursors_formula_s': ['Fe(CO2)2', 'Li2CO3', 'PH9(NO2)2'], 'precursors': [{'material_string': 'FeC2O4·2H2O', 'material_name': '', 'material_formula': 'FeC2O4·2H2O', 'phase': None, 'is_acronym': False, 'composition': [{'formula': 'FeC2O4', 'amount': '1', 'elements': {'Fe': '1', 'C': '2', 'O': '4'}}, {'formula': 'H2O', 'amount': '2', 'elements': {'H': '2', 'O': '1'}}], 'amounts_vars': {}, 'elements_vars': {}, 'additives': [], 'oxygen_deficiency': 'None'}, {'material_string': 'Li2CO3', 'material_name': '', 'material_formula': 'Li2CO3', 'phase': None, 'is_acronym': False, 'composition': [{'formula': 'Li2CO3', 'amount': '1', 'elements': {'Li': '2', 'C': '1', 'O': '3'}}], 'amounts_vars': {}, 'elements_vars': {}, 'additives': [], 'oxygen_deficiency': 'None'}, {'material_string': '(NH4)2HPO4', 'material_name': '', 'material_formula': '(NH4)2HPO4', 'phase': None, 'is_acronym': False, 'composition': [{'formula': '(NH4)2HPO4', 'amount': '1', 'elements': {'N': '2', 'H': '9', 'P': '1', 'O': '4'}}], 'amounts_vars': {}, 'elements_vars': {}, 'additives': [], 'oxygen_deficiency': 'None'}], 'operations': [{'type': 'StartingSynthesis', 'token': 'synthesized', 'conditions': {'heating_temperature': [], 'heating_time': [], 'heating_atmosphere': [], 'mixing_device': None, 'mixing_media': None}}], 'total_doc': 285}, {'doi': '10.1021/jp306936t', 'paragraph_string': 'V-modified LiFePO4 prepared by the solution method (LFP-SM) used the following precursors: LiOH·...', 'synthesis_type': 'solid-state', 'reaction_string': '1 FeC2O4·2H2O + 0.5 Li2CO3 + 1 NH4H2PO4 + 0.5 O2 == 1 LiFePO4 + 2.5 CO2 + 3.5 H2O + 1 NH3 ; target LiFePO4 with additives V via NH4VO3 ; target LiFePO4 with additives V via NH4VO3', 'reaction': {'left_side': [{'amount': '0.5', 'material': 'Li2CO3'}, {'amount': '1', 'material': 'FeC2O4·2H2O'}, {'amount': '1', 'material': 'NH4H2PO4'}, {'amount': '0.5', 'material': 'O2'}], 'right_side': [{'amount': '1', 'material': 'LiFePO4'}, {'amount': '2.5', 'material': 'CO2'}, {'amount': '3.5', 'material': 'H2O'}, {'amount': '1', 'material': 'NH3'}]}, 'targets_formula': ['Li1 Fe1 P1 O4'], 'target': {'material_string': 'LiFePO4', 'material_name': '', 'material_formula': 'LiFePO4', 'phase': None, 'is_acronym': False, 'composition': [{'formula': 'LiFePO4', 'amount': '1', 'elements': {'Li': '1', 'Fe': '1', 'P': '1', 'O': '4'}}], 'amounts_vars': {}, 'elements_vars': {}, 'additives': ['V'], 'oxygen_deficiency': 'None'}, 'targets_formula_s': ['LiFePO4'], 'precursors_formula_s': ['Li2CO3', 'Fe(CO2)2', 'VH4NO3', 'PH6NO4'], 'precursors': [{'material_string': 'Li2CO3', 'material_name': '', 'material_formula': 'Li2CO3', 'phase': None, 'is_acronym': False, 'composition': [{'formula': 'Li2CO3', 'amount': '1', 'elements': {'Li': '2', 'C': '1', 'O': '3'}}], 'amounts_vars': {}, 'elements_vars': {}, 'additives': [], 'oxygen_deficiency': 'None'}, {'material_string': 'FeC2O4·2H2O', 'material_name': '', 'material_formula': 'FeC2O4·2H2O', 'phase': None, 'is_acronym': False, 'composition': [{'formula': 'FeC2O4', 'amount': '1', 'elements': {'Fe': '1', 'C': '2', 'O': '4'}}, {'formula': 'H2O', 'amount': '2', 'elements': {'H': '2', 'O': '1'}}], 'amounts_vars': {}, 'elements_vars': {}, 'additives': [], 'oxygen_deficiency': 'None'}, {'material_string': 'NH4VO3', 'material_name': '', 'material_formula': 'NH4VO3', 'phase': None, 'is_acronym': False, 'composition': [{'formula': 'NH4VO3', 'amount': '1', 'elements': {'N': '1', 'H': '4', 'V': '1', 'O': '3'}}], 'amounts_vars': {}, 'elements_vars': {}, 'additives': [], 'oxygen_deficiency': 'None'}, {'material_string': 'NH4H2PO4', 'material_name': '', 'material_formula': 'NH4H2PO4', 'phase': None, 'is_acronym': False, 'composition': [{'formula': 'NH4H2PO4', 'amount': '1', 'elements': {'N': '1', 'H': '6', 'P': '1', 'O': '4'}}], 'amounts_vars': {}, 'elements_vars': {}, 'additives': [], 'oxygen_deficiency': 'None'}], 'operations': [{'type': 'StartingSynthesis', 'token': 'prepared', 'conditions': {'heating_temperature': [], 'heating_time': [], 'heating_atmosphere': [], 'mixing_device': None, 'mixing_media': None}}, {'type': 'StartingSynthesis', 'token': 'prepared', 'conditions': {'heating_temperature': [], 'heating_time': [], 'heating_atmosphere': [], 'mixing_device': None, 'mixing_media': None}}], 'total_doc': 285}, {'doi': '10.1021/cm303259j', 'paragraph_string': 'Pristine LiFePO4 was synthesized by solid-state reactions of lithium carbonate (Li2CO3), iron(II) ...', 'synthesis_type': 'solid-state', 'reaction_string': '1 FeC2O4·2H2O + 0.5 Li2CO3 + 1 NH4H2PO4 + 0.5 O2 == 1 LiFePO4 + 2.5 CO2 + 3.5 H2O + 1 NH3', 'reaction': {'left_side': [{'amount': '0.5', 'material': 'Li2CO3'}, {'amount': '1', 'material': 'FeC2O4·2H2O'}, {'amount': '1', 'material': 'NH4H2PO4'}, {'amount': '0.5', 'material': 'O2'}], 'right_side': [{'amount': '1', 'material': 'LiFePO4'}, {'amount': '2.5', 'material': 'CO2'}, {'amount': '3.5', 'material': 'H2O'}, {'amount': '1', 'material': 'NH3'}]}, 'targets_formula': ['Li1 Fe1 P1 O4'], 'target': {'material_string': 'LiFePO4', 'material_name': '', 'material_formula': 'LiFePO4', 'phase': None, 'is_acronym': False, 'composition': [{'formula': 'LiFePO4', 'amount': '1', 'elements': {'Li': '1', 'Fe': '1', 'P': '1', 'O': '4'}}], 'amounts_vars': {}, 'elements_vars': {}, 'additives': [], 'oxygen_deficiency': 'None'}, 'targets_formula_s': ['LiFePO4'], 'precursors_formula_s': ['Li2CO3', 'Fe(CO2)2', 'PH6NO4'], 'precursors': [{'material_string': 'Li2CO3', 'material_name': '', 'material_formula': 'Li2CO3', 'phase': None, 'is_acronym': False, 'composition': [{'formula': 'Li2CO3', 'amount': '1', 'elements': {'Li': '2', 'C': '1', 'O': '3'}}], 'amounts_vars': {}, 'elements_vars': {}, 'additives': [], 'oxygen_deficiency': 'None'}, {'material_string': 'FeC2O4·2H2O', 'material_name': '', 'material_formula': 'FeC2O4·2H2O', 'phase': None, 'is_acronym': False, 'composition': [{'formula': 'FeC2O4', 'amount': '1', 'elements': {'Fe': '1', 'C': '2', 'O': '4'}}, {'formula': 'H2O', 'amount': '2', 'elements': {'H': '2', 'O': '1'}}], 'amounts_vars': {}, 'elements_vars': {}, 'additives': [], 'oxygen_deficiency': 'None'}, {'material_string': 'NH4H2PO4', 'material_name': '', 'material_formula': 'NH4H2PO4', 'phase': None, 'is_acronym': False, 'composition': [{'formula': 'NH4H2PO4', 'amount': '1', 'elements': {'N': '1', 'H': '6', 'P': '1', 'O': '4'}}], 'amounts_vars': {}, 'elements_vars': {}, 'additives': [], 'oxygen_deficiency': 'None'}], 'operations': [{'type': 'StartingSynthesis', 'token': 'synthesized', 'conditions': {'heating_temperature': [], 'heating_time': [], 'heating_atmosphere': [], 'mixing_device': None, 'mixing_media': None}}], 'total_doc': 285}, {'doi': '10.1007/s10853-011-6139-7', 'paragraph_string': 'The FePO4 was synthesized by a sol-gel combustion method. Stoichiometric amounts of Fe(NO3)3 and ...', 'synthesis_type': 'solid-state', 'reaction_string': '1 FePO4 + 0.5 Li2CO3 == 1 LiFePO4 + 0.5 CO2 + 0.25 O2', 'reaction': {'left_side': [{'amount': '0.5', 'material': 'Li2CO3'}, {'amount': '1', 'material': 'FePO4'}], 'right_side': [{'amount': '1', 'material': 'LiFePO4'}, {'amount': '0.5', 'material': 'CO2'}, {'amount': '0.25', 'material': 'O2'}]}, 'targets_formula': ['Li1 Fe1 P1 O4'], 'target': {'material_string': 'LiFePO4/C', 'material_name': '', 'material_formula': 'LiFePO4', 'phase': None, 'is_acronym': False, 'composition': [{'formula': 'LiFePO4', 'amount': '1', 'elements': {'Li': '1', 'Fe': '1', 'P': '1', 'O': '4'}}], 'amounts_vars': {}, 'elements_vars': {}, 'additives': [], 'oxygen_deficiency': 'None'}, 'targets_formula_s': ['LiFePO4'], 'precursors_formula_s': ['Li2CO3', 'FePO4', 'H4N2O3'], 'precursors': [{'material_string': 'Li2CO3', 'material_name': '', 'material_formula': 'Li2CO3', 'phase': None, 'is_acronym': False, 'composition': [{'formula': 'Li2CO3', 'amount': '1', 'elements': {'Li': '2', 'C': '1', 'O': '3'}}], 'amounts_vars': {}, 'elements_vars': {}, 'additives': [], 'oxygen_deficiency': 'None'}, {'material_string': 'FePO4', 'material_name': '', 'material_formula': 'FePO4', 'phase': None, 'is_acronym': False, 'composition': [{'formula': 'FePO4', 'amount': '1', 'elements': {'Fe': '1', 'P': '1', 'O': '4'}}], 'amounts_vars': {}, 'elements_vars': {}, 'additives': [], 'oxygen_deficiency': 'None'}, {'material_string': 'NH4NO3', 'material_name': '', 'material_formula': 'NH4NO3', 'phase': None, 'is_acronym': False, 'composition': [{'formula': 'NH4NO3', 'amount': '1', 'elements': {'N': '2', 'H': '4', 'O': '3'}}], 'amounts_vars': {}, 'elements_vars': {}, 'additives': [], 'oxygen_deficiency': 'None'}], 'operations': [{'type': 'StartingSynthesis', 'token': 'synthesized', 'conditions': {'heating_temperature': [], 'heating_time': [], 'heating_atmosphere': [], 'mixing_device': None, 'mixing_media': None}}, {'type': 'MixingOperation', 'token': 'dissolved', 'conditions': {'heating_temperature': [], 'heating_time': [], 'heating_atmosphere': [], 'mixing_device': None, 'mixing_media': 'citric acid'}}, {'type': 'MixingOperation', 'token': 'stirring', 'conditions': {'heating_temperature': [], 'heating_time': [], 'heating_atmosphere': [], 'mixing_device': None, 'mixing_media': None}}, {'type': 'MixingOperation', 'token': 'added', 'conditions': {'heating_temperature': [], 'heating_time': [], 'heating_atmosphere': [], 'mixing_device': None, 'mixing_media': None}}, {'type': 'MixingOperation', 'token': 'stirred', 'conditions': {'heating_temperature': [], 'heating_time': [], 'heating_atmosphere': [], 'mixing_device': None, 'mixing_media': None}}, {'type': 'DryingOperation', 'token': 'evaporated', 'conditions': {'heating_temperature': [{'min_value': 120.0, 'max_value': 120.0, 'values': [120.0], 'units': '°C'}], 'heating_time': [], 'heating_atmosphere': [], 'mixing_device': None, 'mixing_media': None}}, {'type': 'StartingSynthesis', 'token': 'synthesized', 'conditions': {'heating_temperature': [], 'heating_time': [], 'heating_atmosphere': [], 'mixing_device': None, 'mixing_media': None}}, {'type': 'MixingOperation', 'token': 'mixed', 'conditions': {'heating_temperature': [], 'heating_time': [], 'heating_atmosphere': [], 'mixing_device': None, 'mixing_media': 'acetone'}}, {'type': 'HeatingOperation', 'token': 'calcined', 'conditions': {'heating_temperature': [{'min_value': 700.0, 'max_value': 700.0, 'values': [700.0], 'units': '°C'}], 'heating_time': [{'min_value': 8.0, 'max_value': 8.0, 'values': [8.0], 'units': 'h'}], 'heating_atmosphere': ['N2'], 'mixing_device': None, 'mixing_media': None}}], 'total_doc': 285}]\u001b[0m\u001b[32;1m\u001b[1;3mAction:\n",
      "```\n",
      "{\n",
      "  \"action\": \"Final Answer\",\n",
      "  \"action_input\": {\n",
      "    \"references\": [\n",
      "      {\n",
      "        \"doi\": \"10.1021/jp407510h\",\n",
      "        \"synthesis_type\": \"solid-state\",\n",
      "        \"paragraph_string\": \"6Li3Fe3(PO4)3 was prepared by the previously reported high-temperature solid-state synthesis as ...\"\n",
      "      },\n",
      "      {\n",
      "        \"doi\": \"10.1021/cm402617b\",\n",
      "        \"synthesis_type\": \"solid-state\",\n",
      "        \"paragraph_string\": \"The ion-exchange method was used to prepare olivine phase of NaFePO4 (hereafter will be denoted ...\"\n",
      "      },\n",
      "      {\n",
      "        \"doi\": \"10.1021/jp306936t\",\n",
      "        \"synthesis_type\": \"solid-state\",\n",
      "        \"paragraph_string\": \"V-modified LiFePO4 prepared by the solution method (LFP-SM) used the following precursors: LiOH·...\"\n",
      "      },\n",
      "      {\n",
      "        \"doi\": \"10.1021/cm303259j\",\n",
      "        \"synthesis_type\": \"solid-state\",\n",
      "        \"paragraph_string\": \"Pristine LiFePO4 was synthesized by solid-state reactions of lithium carbonate (Li2CO3), iron(II) ...\"\n",
      "      },\n",
      "      {\n",
      "        \"doi\": \"10.1007/s10853-011-6139-7\",\n",
      "        \"synthesis_type\": \"solid-state\",\n",
      "        \"paragraph_string\": \"The FePO4 was synthesized by a sol-gel combustion method. Stoichiometric amounts of Fe(NO3)3 and ...\"\n",
      "      }\n",
      "    ]\n",
      "  }\n",
      "}\n",
      "```\u001b[0m\n",
      "\n",
      "\u001b[1m> Finished chain.\u001b[0m\n",
      "\n",
      "Observation: \u001b[36;1m\u001b[1;3m{'input': 'What are the references for the synthesis methods of LiFePO4?', 'output': {'references': [{'doi': '10.1021/jp407510h', 'synthesis_type': 'solid-state', 'paragraph_string': '6Li3Fe3(PO4)3 was prepared by the previously reported high-temperature solid-state synthesis as ...'}, {'doi': '10.1021/cm402617b', 'synthesis_type': 'solid-state', 'paragraph_string': 'The ion-exchange method was used to prepare olivine phase of NaFePO4 (hereafter will be denoted ...'}, {'doi': '10.1021/jp306936t', 'synthesis_type': 'solid-state', 'paragraph_string': 'V-modified LiFePO4 prepared by the solution method (LFP-SM) used the following precursors: LiOH·...'}, {'doi': '10.1021/cm303259j', 'synthesis_type': 'solid-state', 'paragraph_string': 'Pristine LiFePO4 was synthesized by solid-state reactions of lithium carbonate (Li2CO3), iron(II) ...'}, {'doi': '10.1007/s10853-011-6139-7', 'synthesis_type': 'solid-state', 'paragraph_string': 'The FePO4 was synthesized by a sol-gel combustion method. Stoichiometric amounts of Fe(NO3)3 and ...'}]}}\u001b[0m\n",
      "Thought:\u001b[32;1m\u001b[1;3mThe MPSynthesisExpert has provided several references for the synthesis methods of LiFePO4. These include:\n",
      "\n",
      "1. \"High-temperature solid-state synthesis\" (DOI: 10.1021/jp407510h)\n",
      "2. \"Ion-exchange method\" (DOI: 10.1021/cm402617b)\n",
      "3. \"Solution method\" (DOI: 10.1021/jp306936t)\n",
      "4. \"Solid-state reactions\" (DOI: 10.1021/cm303259j)\n",
      "5. \"Sol-gel combustion method\" (DOI: 10.1007/s10853-011-6139-7)\n",
      "\n",
      "These references can be accessed for more detailed procedures and information. \n",
      "\n",
      "Now I should provide the final response with a brief synthesis procedure and these references. \n",
      "Action:\n",
      "```\n",
      "{\n",
      "  \"action\": \"Final Answer\",\n",
      "  \"action_input\": \"LiFePO4 can be synthesized using various methods. One method involves a high-temperature solid-state synthesis using precursors such as Fe2O3, LiOH, and NH4H2PO4. The precursors are mixed and heated at temperatures up to 850°C for several days. Another method uses a sol-gel combustion approach with precursors like FePO4 and Li2CO3, where the mixture is calcined at 700°C in a nitrogen atmosphere. For detailed procedures, please refer to the following scientific literature: \\n\\n1. High-temperature solid-state synthesis - DOI: 10.1021/jp407510h\\n2. Ion-exchange method - DOI: 10.1021/cm402617b\\n3. Solution method - DOI: 10.1021/jp306936t\\n4. Solid-state reactions - DOI: 10.1021/cm303259j\\n5. Sol-gel combustion method - DOI: 10.1007/s10853-011-6139-7\"\n",
      "}\n",
      "```\u001b[0m\n",
      "\n",
      "\u001b[1m> Finished chain.\u001b[0m\n"
     ]
    },
    {
     "data": {
      "text/plain": [
       "{'input': 'How to synthesis LiFePO4? Please provide a detailed step-by-step procedure and the reference.',\n",
       " 'chat_history': [],\n",
       " 'output': 'LiFePO4 can be synthesized using various methods. One method involves a high-temperature solid-state synthesis using precursors such as Fe2O3, LiOH, and NH4H2PO4. The precursors are mixed and heated at temperatures up to 850°C for several days. Another method uses a sol-gel combustion approach with precursors like FePO4 and Li2CO3, where the mixture is calcined at 700°C in a nitrogen atmosphere. For detailed procedures, please refer to the following scientific literature: \\n\\n1. High-temperature solid-state synthesis - DOI: 10.1021/jp407510h\\n2. Ion-exchange method - DOI: 10.1021/cm402617b\\n3. Solution method - DOI: 10.1021/jp306936t\\n4. Solid-state reactions - DOI: 10.1021/cm303259j\\n5. Sol-gel combustion method - DOI: 10.1007/s10853-011-6139-7'}"
      ]
     },
     "execution_count": 3,
     "metadata": {},
     "output_type": "execute_result"
    }
   ],
   "source": [
    "agent_executor.invoke({\n",
    "    \"input\": \"How to synthesis LiFePO4? Please provide a detailed step-by-step procedure and the reference.\",\n",
    "})"
   ]
  },
  {
   "cell_type": "code",
   "execution_count": 4,
   "metadata": {},
   "outputs": [
    {
     "name": "stdout",
     "output_type": "stream",
     "text": [
      "LiFePO4 can be synthesized using various methods. One method involves a high-temperature solid-state synthesis using precursors such as Fe2O3, LiOH, and NH4H2PO4. The precursors are mixed and heated at temperatures up to 850°C for several days. Another method uses a sol-gel combustion approach with precursors like FePO4 and Li2CO3, where the mixture is calcined at 700°C in a nitrogen atmosphere. For detailed procedures, please refer to the following scientific literature: \n",
      "\n",
      "1. High-temperature solid-state synthesis - DOI: 10.1021/jp407510h\n",
      "2. Ion-exchange method - DOI: 10.1021/cm402617b\n",
      "3. Solution method - DOI: 10.1021/jp306936t\n",
      "4. Solid-state reactions - DOI: 10.1021/cm303259j\n",
      "5. Sol-gel combustion method - DOI: 10.1007/s10853-011-6139-7\n"
     ]
    }
   ],
   "source": [
    "print(agent_executor.memory.chat_memory.messages[1].content)"
   ]
  },
  {
   "cell_type": "code",
   "execution_count": 5,
   "metadata": {},
   "outputs": [],
   "source": [
    "\n",
    "llm_gpt = ChatOpenAI(\n",
    "    temperature=0.7,\n",
    "    model=\"gpt-3.5-turbo-1106\",\n",
    "    openai_api_key=OPENAI_API_KEY,\n",
    "    openai_organization=None,\n",
    "    # streaming=True\n",
    ")\n",
    "\n",
    "response = llm_gpt.invoke(agent_executor.memory.chat_memory.messages[0].content)\n"
   ]
  },
  {
   "cell_type": "code",
   "execution_count": 6,
   "metadata": {},
   "outputs": [
    {
     "name": "stdout",
     "output_type": "stream",
     "text": [
      "Synthesizing LiFePO4 (lithium iron phosphate) typically involves a solid-state reaction method. Below is a step-by-step procedure for synthesizing LiFePO4:\n",
      "\n",
      "Materials:\n",
      "- Lithium carbonate (Li2CO3)\n",
      "- Iron (II) acetate (Fe(CH3COO)2)\n",
      "- Ammonium dihydrogen phosphate (NH4H2PO4)\n",
      "- Phosphoric acid (H3PO4)\n",
      "- Deionized water\n",
      "- Ethanol\n",
      "- Mortar and pestle\n",
      "- Crucible\n",
      "- Furnace\n",
      "\n",
      "Procedure:\n",
      "1. Weigh out the appropriate amounts of lithium carbonate (Li2CO3) and iron (II) acetate (Fe(CH3COO)2) in a 1:1 molar ratio. For example, if you want to synthesize 1 mole of LiFePO4, you would weigh out 74.55 grams of Li2CO3 and 173.93 grams of Fe(CH3COO)2.\n",
      "\n",
      "2. Grind the lithium carbonate and iron (II) acetate together using a mortar and pestle to ensure a homogenous mixture.\n",
      "\n",
      "3. Weigh out the appropriate amount of ammonium dihydrogen phosphate (NH4H2PO4) and add it to the lithium carbonate and iron (II) acetate mixture in a 1:1 molar ratio. For example, if you are synthesizing 1 mole of LiFePO4, you would weigh out 122.00 grams of NH4H2PO4.\n",
      "\n",
      "4. Add a few drops of phosphoric acid (H3PO4) to the mixture to adjust the pH to around 7. This will help in the formation of LiFePO4.\n",
      "\n",
      "5. Add a small amount of deionized water to the mixture and mix it thoroughly to form a slurry.\n",
      "\n",
      "6. Slowly evaporate the water from the slurry by placing it on a hot plate or in a furnace at a low temperature.\n",
      "\n",
      "7. Once the water has evaporated, heat the mixture in a crucible in a furnace at around 600-700°C for several hours to initiate the solid-state reaction and form LiFePO4.\n",
      "\n",
      "8. After the reaction is complete, allow the crucible to cool and collect the LiFePO4 powder.\n",
      "\n",
      "9. Wash the LiFePO4 powder with ethanol to remove any impurities and then dry it in a desiccator.\n",
      "\n",
      "Reference:\n",
      "P. G. Bruce, B. Scrosati, J.-M. Tarascon, \"Nanomaterials for Rechargeable Lithium Batteries,\" Angew. Chem. Int. Ed. 2008, 47, 2930-2946. DOI: 10.1002/anie.200702505.\n"
     ]
    }
   ],
   "source": [
    "print(response.content)"
   ]
  },
  {
   "cell_type": "code",
   "execution_count": null,
   "metadata": {},
   "outputs": [],
   "source": []
  }
 ],
 "metadata": {
  "kernelspec": {
   "display_name": "llamp",
   "language": "python",
   "name": "python3"
  },
  "language_info": {
   "codemirror_mode": {
    "name": "ipython",
    "version": 3
   },
   "file_extension": ".py",
   "mimetype": "text/x-python",
   "name": "python",
   "nbconvert_exporter": "python",
   "pygments_lexer": "ipython3",
   "version": "3.11.5"
  }
 },
 "nbformat": 4,
 "nbformat_minor": 2
}
